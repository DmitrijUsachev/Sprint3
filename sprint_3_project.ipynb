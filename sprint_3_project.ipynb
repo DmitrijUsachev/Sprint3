{
 "cells": [
  {
   "cell_type": "markdown",
   "id": "14b5dbf3",
   "metadata": {},
   "source": [
    "# Спринт 3. Исследовательский анализ данных"
   ]
  },
  {
   "cell_type": "markdown",
   "id": "a732126e",
   "metadata": {},
   "source": [
    "## Постановка задачи:"
   ]
  },
  {
   "cell_type": "markdown",
   "id": "77c68883",
   "metadata": {},
   "source": [
    "1. Изучить, как быстро продавались квартиры\n",
    "2. Определить какие факторы больше всего влияют на общую (полную) стоимость объекта?\n",
    "3. Посчитать среднюю цену одного квадратного метра в 10 населённых пунктах с наибольшим числом объявлений. Выделить населённые пункты с самой высокой и низкой стоимостью квадратного метра. \n",
    "4. Найти закономерность между стоимостью объектов зависит от расстояния до центра города."
   ]
  },
  {
   "cell_type": "markdown",
   "id": "2e9e910e",
   "metadata": {},
   "source": [
    "## Шаг 1. Загружаем dataframe"
   ]
  },
  {
   "cell_type": "markdown",
   "id": "c40df00a",
   "metadata": {},
   "source": [
    "##### Импортируем датасет с помощью pandas"
   ]
  },
  {
   "cell_type": "code",
   "execution_count": 1,
   "id": "26b1c354",
   "metadata": {},
   "outputs": [],
   "source": [
    "import pandas as pd #Подключаем pandas\n",
    "import math as mt"
   ]
  },
  {
   "cell_type": "code",
   "execution_count": 2,
   "id": "0134f369",
   "metadata": {},
   "outputs": [],
   "source": [
    "data = pd.read_csv('datasets/real_estate_data.csv', sep = '\\t') #Создаем датафрейм из csv"
   ]
  },
  {
   "cell_type": "markdown",
   "id": "ccfa3fe1",
   "metadata": {},
   "source": [
    "##### Изучаем общую информацию о полученном файле**"
   ]
  },
  {
   "cell_type": "code",
   "execution_count": 3,
   "id": "96b30d33",
   "metadata": {},
   "outputs": [
    {
     "data": {
      "text/html": [
       "<div>\n",
       "<style scoped>\n",
       "    .dataframe tbody tr th:only-of-type {\n",
       "        vertical-align: middle;\n",
       "    }\n",
       "\n",
       "    .dataframe tbody tr th {\n",
       "        vertical-align: top;\n",
       "    }\n",
       "\n",
       "    .dataframe thead th {\n",
       "        text-align: right;\n",
       "    }\n",
       "</style>\n",
       "<table border=\"1\" class=\"dataframe\">\n",
       "  <thead>\n",
       "    <tr style=\"text-align: right;\">\n",
       "      <th></th>\n",
       "      <th>total_images</th>\n",
       "      <th>last_price</th>\n",
       "      <th>total_area</th>\n",
       "      <th>first_day_exposition</th>\n",
       "      <th>rooms</th>\n",
       "      <th>ceiling_height</th>\n",
       "      <th>floors_total</th>\n",
       "      <th>living_area</th>\n",
       "      <th>floor</th>\n",
       "      <th>is_apartment</th>\n",
       "      <th>...</th>\n",
       "      <th>kitchen_area</th>\n",
       "      <th>balcony</th>\n",
       "      <th>locality_name</th>\n",
       "      <th>airports_nearest</th>\n",
       "      <th>cityCenters_nearest</th>\n",
       "      <th>parks_around3000</th>\n",
       "      <th>parks_nearest</th>\n",
       "      <th>ponds_around3000</th>\n",
       "      <th>ponds_nearest</th>\n",
       "      <th>days_exposition</th>\n",
       "    </tr>\n",
       "  </thead>\n",
       "  <tbody>\n",
       "    <tr>\n",
       "      <th>0</th>\n",
       "      <td>20</td>\n",
       "      <td>13000000.0</td>\n",
       "      <td>108.00</td>\n",
       "      <td>2019-03-07T00:00:00</td>\n",
       "      <td>3</td>\n",
       "      <td>2.70</td>\n",
       "      <td>16.0</td>\n",
       "      <td>51.00</td>\n",
       "      <td>8</td>\n",
       "      <td>NaN</td>\n",
       "      <td>...</td>\n",
       "      <td>25.00</td>\n",
       "      <td>NaN</td>\n",
       "      <td>Санкт-Петербург</td>\n",
       "      <td>18863.0</td>\n",
       "      <td>16028.0</td>\n",
       "      <td>1.0</td>\n",
       "      <td>482.0</td>\n",
       "      <td>2.0</td>\n",
       "      <td>755.0</td>\n",
       "      <td>NaN</td>\n",
       "    </tr>\n",
       "    <tr>\n",
       "      <th>1</th>\n",
       "      <td>7</td>\n",
       "      <td>3350000.0</td>\n",
       "      <td>40.40</td>\n",
       "      <td>2018-12-04T00:00:00</td>\n",
       "      <td>1</td>\n",
       "      <td>NaN</td>\n",
       "      <td>11.0</td>\n",
       "      <td>18.60</td>\n",
       "      <td>1</td>\n",
       "      <td>NaN</td>\n",
       "      <td>...</td>\n",
       "      <td>11.00</td>\n",
       "      <td>2.0</td>\n",
       "      <td>посёлок Шушары</td>\n",
       "      <td>12817.0</td>\n",
       "      <td>18603.0</td>\n",
       "      <td>0.0</td>\n",
       "      <td>NaN</td>\n",
       "      <td>0.0</td>\n",
       "      <td>NaN</td>\n",
       "      <td>81.0</td>\n",
       "    </tr>\n",
       "    <tr>\n",
       "      <th>2</th>\n",
       "      <td>10</td>\n",
       "      <td>5196000.0</td>\n",
       "      <td>56.00</td>\n",
       "      <td>2015-08-20T00:00:00</td>\n",
       "      <td>2</td>\n",
       "      <td>NaN</td>\n",
       "      <td>5.0</td>\n",
       "      <td>34.30</td>\n",
       "      <td>4</td>\n",
       "      <td>NaN</td>\n",
       "      <td>...</td>\n",
       "      <td>8.30</td>\n",
       "      <td>0.0</td>\n",
       "      <td>Санкт-Петербург</td>\n",
       "      <td>21741.0</td>\n",
       "      <td>13933.0</td>\n",
       "      <td>1.0</td>\n",
       "      <td>90.0</td>\n",
       "      <td>2.0</td>\n",
       "      <td>574.0</td>\n",
       "      <td>558.0</td>\n",
       "    </tr>\n",
       "    <tr>\n",
       "      <th>3</th>\n",
       "      <td>0</td>\n",
       "      <td>64900000.0</td>\n",
       "      <td>159.00</td>\n",
       "      <td>2015-07-24T00:00:00</td>\n",
       "      <td>3</td>\n",
       "      <td>NaN</td>\n",
       "      <td>14.0</td>\n",
       "      <td>NaN</td>\n",
       "      <td>9</td>\n",
       "      <td>NaN</td>\n",
       "      <td>...</td>\n",
       "      <td>NaN</td>\n",
       "      <td>0.0</td>\n",
       "      <td>Санкт-Петербург</td>\n",
       "      <td>28098.0</td>\n",
       "      <td>6800.0</td>\n",
       "      <td>2.0</td>\n",
       "      <td>84.0</td>\n",
       "      <td>3.0</td>\n",
       "      <td>234.0</td>\n",
       "      <td>424.0</td>\n",
       "    </tr>\n",
       "    <tr>\n",
       "      <th>4</th>\n",
       "      <td>2</td>\n",
       "      <td>10000000.0</td>\n",
       "      <td>100.00</td>\n",
       "      <td>2018-06-19T00:00:00</td>\n",
       "      <td>2</td>\n",
       "      <td>3.03</td>\n",
       "      <td>14.0</td>\n",
       "      <td>32.00</td>\n",
       "      <td>13</td>\n",
       "      <td>NaN</td>\n",
       "      <td>...</td>\n",
       "      <td>41.00</td>\n",
       "      <td>NaN</td>\n",
       "      <td>Санкт-Петербург</td>\n",
       "      <td>31856.0</td>\n",
       "      <td>8098.0</td>\n",
       "      <td>2.0</td>\n",
       "      <td>112.0</td>\n",
       "      <td>1.0</td>\n",
       "      <td>48.0</td>\n",
       "      <td>121.0</td>\n",
       "    </tr>\n",
       "    <tr>\n",
       "      <th>5</th>\n",
       "      <td>10</td>\n",
       "      <td>2890000.0</td>\n",
       "      <td>30.40</td>\n",
       "      <td>2018-09-10T00:00:00</td>\n",
       "      <td>1</td>\n",
       "      <td>NaN</td>\n",
       "      <td>12.0</td>\n",
       "      <td>14.40</td>\n",
       "      <td>5</td>\n",
       "      <td>NaN</td>\n",
       "      <td>...</td>\n",
       "      <td>9.10</td>\n",
       "      <td>NaN</td>\n",
       "      <td>городской посёлок Янино-1</td>\n",
       "      <td>NaN</td>\n",
       "      <td>NaN</td>\n",
       "      <td>NaN</td>\n",
       "      <td>NaN</td>\n",
       "      <td>NaN</td>\n",
       "      <td>NaN</td>\n",
       "      <td>55.0</td>\n",
       "    </tr>\n",
       "    <tr>\n",
       "      <th>6</th>\n",
       "      <td>6</td>\n",
       "      <td>3700000.0</td>\n",
       "      <td>37.30</td>\n",
       "      <td>2017-11-02T00:00:00</td>\n",
       "      <td>1</td>\n",
       "      <td>NaN</td>\n",
       "      <td>26.0</td>\n",
       "      <td>10.60</td>\n",
       "      <td>6</td>\n",
       "      <td>NaN</td>\n",
       "      <td>...</td>\n",
       "      <td>14.40</td>\n",
       "      <td>1.0</td>\n",
       "      <td>посёлок Парголово</td>\n",
       "      <td>52996.0</td>\n",
       "      <td>19143.0</td>\n",
       "      <td>0.0</td>\n",
       "      <td>NaN</td>\n",
       "      <td>0.0</td>\n",
       "      <td>NaN</td>\n",
       "      <td>155.0</td>\n",
       "    </tr>\n",
       "    <tr>\n",
       "      <th>7</th>\n",
       "      <td>5</td>\n",
       "      <td>7915000.0</td>\n",
       "      <td>71.60</td>\n",
       "      <td>2019-04-18T00:00:00</td>\n",
       "      <td>2</td>\n",
       "      <td>NaN</td>\n",
       "      <td>24.0</td>\n",
       "      <td>NaN</td>\n",
       "      <td>22</td>\n",
       "      <td>NaN</td>\n",
       "      <td>...</td>\n",
       "      <td>18.90</td>\n",
       "      <td>2.0</td>\n",
       "      <td>Санкт-Петербург</td>\n",
       "      <td>23982.0</td>\n",
       "      <td>11634.0</td>\n",
       "      <td>0.0</td>\n",
       "      <td>NaN</td>\n",
       "      <td>0.0</td>\n",
       "      <td>NaN</td>\n",
       "      <td>NaN</td>\n",
       "    </tr>\n",
       "    <tr>\n",
       "      <th>8</th>\n",
       "      <td>20</td>\n",
       "      <td>2900000.0</td>\n",
       "      <td>33.16</td>\n",
       "      <td>2018-05-23T00:00:00</td>\n",
       "      <td>1</td>\n",
       "      <td>NaN</td>\n",
       "      <td>27.0</td>\n",
       "      <td>15.43</td>\n",
       "      <td>26</td>\n",
       "      <td>NaN</td>\n",
       "      <td>...</td>\n",
       "      <td>8.81</td>\n",
       "      <td>NaN</td>\n",
       "      <td>посёлок Мурино</td>\n",
       "      <td>NaN</td>\n",
       "      <td>NaN</td>\n",
       "      <td>NaN</td>\n",
       "      <td>NaN</td>\n",
       "      <td>NaN</td>\n",
       "      <td>NaN</td>\n",
       "      <td>189.0</td>\n",
       "    </tr>\n",
       "    <tr>\n",
       "      <th>9</th>\n",
       "      <td>18</td>\n",
       "      <td>5400000.0</td>\n",
       "      <td>61.00</td>\n",
       "      <td>2017-02-26T00:00:00</td>\n",
       "      <td>3</td>\n",
       "      <td>2.50</td>\n",
       "      <td>9.0</td>\n",
       "      <td>43.60</td>\n",
       "      <td>7</td>\n",
       "      <td>NaN</td>\n",
       "      <td>...</td>\n",
       "      <td>6.50</td>\n",
       "      <td>2.0</td>\n",
       "      <td>Санкт-Петербург</td>\n",
       "      <td>50898.0</td>\n",
       "      <td>15008.0</td>\n",
       "      <td>0.0</td>\n",
       "      <td>NaN</td>\n",
       "      <td>0.0</td>\n",
       "      <td>NaN</td>\n",
       "      <td>289.0</td>\n",
       "    </tr>\n",
       "  </tbody>\n",
       "</table>\n",
       "<p>10 rows × 22 columns</p>\n",
       "</div>"
      ],
      "text/plain": [
       "   total_images  last_price  total_area first_day_exposition  rooms  \\\n",
       "0            20  13000000.0      108.00  2019-03-07T00:00:00      3   \n",
       "1             7   3350000.0       40.40  2018-12-04T00:00:00      1   \n",
       "2            10   5196000.0       56.00  2015-08-20T00:00:00      2   \n",
       "3             0  64900000.0      159.00  2015-07-24T00:00:00      3   \n",
       "4             2  10000000.0      100.00  2018-06-19T00:00:00      2   \n",
       "5            10   2890000.0       30.40  2018-09-10T00:00:00      1   \n",
       "6             6   3700000.0       37.30  2017-11-02T00:00:00      1   \n",
       "7             5   7915000.0       71.60  2019-04-18T00:00:00      2   \n",
       "8            20   2900000.0       33.16  2018-05-23T00:00:00      1   \n",
       "9            18   5400000.0       61.00  2017-02-26T00:00:00      3   \n",
       "\n",
       "   ceiling_height  floors_total  living_area  floor is_apartment  ...  \\\n",
       "0            2.70          16.0        51.00      8          NaN  ...   \n",
       "1             NaN          11.0        18.60      1          NaN  ...   \n",
       "2             NaN           5.0        34.30      4          NaN  ...   \n",
       "3             NaN          14.0          NaN      9          NaN  ...   \n",
       "4            3.03          14.0        32.00     13          NaN  ...   \n",
       "5             NaN          12.0        14.40      5          NaN  ...   \n",
       "6             NaN          26.0        10.60      6          NaN  ...   \n",
       "7             NaN          24.0          NaN     22          NaN  ...   \n",
       "8             NaN          27.0        15.43     26          NaN  ...   \n",
       "9            2.50           9.0        43.60      7          NaN  ...   \n",
       "\n",
       "   kitchen_area  balcony              locality_name  airports_nearest  \\\n",
       "0         25.00      NaN            Санкт-Петербург           18863.0   \n",
       "1         11.00      2.0             посёлок Шушары           12817.0   \n",
       "2          8.30      0.0            Санкт-Петербург           21741.0   \n",
       "3           NaN      0.0            Санкт-Петербург           28098.0   \n",
       "4         41.00      NaN            Санкт-Петербург           31856.0   \n",
       "5          9.10      NaN  городской посёлок Янино-1               NaN   \n",
       "6         14.40      1.0          посёлок Парголово           52996.0   \n",
       "7         18.90      2.0            Санкт-Петербург           23982.0   \n",
       "8          8.81      NaN             посёлок Мурино               NaN   \n",
       "9          6.50      2.0            Санкт-Петербург           50898.0   \n",
       "\n",
       "  cityCenters_nearest  parks_around3000  parks_nearest  ponds_around3000  \\\n",
       "0             16028.0               1.0          482.0               2.0   \n",
       "1             18603.0               0.0            NaN               0.0   \n",
       "2             13933.0               1.0           90.0               2.0   \n",
       "3              6800.0               2.0           84.0               3.0   \n",
       "4              8098.0               2.0          112.0               1.0   \n",
       "5                 NaN               NaN            NaN               NaN   \n",
       "6             19143.0               0.0            NaN               0.0   \n",
       "7             11634.0               0.0            NaN               0.0   \n",
       "8                 NaN               NaN            NaN               NaN   \n",
       "9             15008.0               0.0            NaN               0.0   \n",
       "\n",
       "   ponds_nearest  days_exposition  \n",
       "0          755.0              NaN  \n",
       "1            NaN             81.0  \n",
       "2          574.0            558.0  \n",
       "3          234.0            424.0  \n",
       "4           48.0            121.0  \n",
       "5            NaN             55.0  \n",
       "6            NaN            155.0  \n",
       "7            NaN              NaN  \n",
       "8            NaN            189.0  \n",
       "9            NaN            289.0  \n",
       "\n",
       "[10 rows x 22 columns]"
      ]
     },
     "execution_count": 3,
     "metadata": {},
     "output_type": "execute_result"
    }
   ],
   "source": [
    "data.head(10)"
   ]
  },
  {
   "cell_type": "code",
   "execution_count": 4,
   "id": "67631e62",
   "metadata": {
    "scrolled": true
   },
   "outputs": [
    {
     "name": "stdout",
     "output_type": "stream",
     "text": [
      "<class 'pandas.core.frame.DataFrame'>\n",
      "RangeIndex: 23699 entries, 0 to 23698\n",
      "Data columns (total 22 columns):\n",
      " #   Column                Non-Null Count  Dtype  \n",
      "---  ------                --------------  -----  \n",
      " 0   total_images          23699 non-null  int64  \n",
      " 1   last_price            23699 non-null  float64\n",
      " 2   total_area            23699 non-null  float64\n",
      " 3   first_day_exposition  23699 non-null  object \n",
      " 4   rooms                 23699 non-null  int64  \n",
      " 5   ceiling_height        14504 non-null  float64\n",
      " 6   floors_total          23613 non-null  float64\n",
      " 7   living_area           21796 non-null  float64\n",
      " 8   floor                 23699 non-null  int64  \n",
      " 9   is_apartment          2775 non-null   object \n",
      " 10  studio                23699 non-null  bool   \n",
      " 11  open_plan             23699 non-null  bool   \n",
      " 12  kitchen_area          21421 non-null  float64\n",
      " 13  balcony               12180 non-null  float64\n",
      " 14  locality_name         23650 non-null  object \n",
      " 15  airports_nearest      18157 non-null  float64\n",
      " 16  cityCenters_nearest   18180 non-null  float64\n",
      " 17  parks_around3000      18181 non-null  float64\n",
      " 18  parks_nearest         8079 non-null   float64\n",
      " 19  ponds_around3000      18181 non-null  float64\n",
      " 20  ponds_nearest         9110 non-null   float64\n",
      " 21  days_exposition       20518 non-null  float64\n",
      "dtypes: bool(2), float64(14), int64(3), object(3)\n",
      "memory usage: 3.7+ MB\n"
     ]
    }
   ],
   "source": [
    "data.info()"
   ]
  },
  {
   "cell_type": "markdown",
   "id": "76654ede",
   "metadata": {},
   "source": [
    "**Описание столбцов:**  \n",
    "airports_nearest — расстояние до ближайшего аэропорта в метрах (м)  \n",
    "balcony — число балконов  \n",
    "ceiling_height — высота потолков (м)  \n",
    "cityCenters_nearest — расстояние до центра города (м)  \n",
    "days_exposition — сколько дней было размещено объявление (от публикации до снятия)  \n",
    "first_day_exposition — дата публикации  \n",
    "floor — этаж  \n",
    "floors_total — всего этажей в доме  \n",
    "is_apartment — апартаменты (булев тип)  \n",
    "kitchen_area — площадь кухни в квадратных метрах (м²)  \n",
    "last_price — цена на момент снятия с публикации  \n",
    "living_area — жилая площадь в квадратных метрах (м²)  \n",
    "locality_name — название населённого пункта  \n",
    "open_plan — свободная планировка (булев тип)  \n",
    "parks_around3000 — число парков в радиусе 3 км  \n",
    "parks_nearest — расстояние до ближайшего парка (м)  \n",
    "ponds_around3000 — число водоёмов в радиусе 3 км  \n",
    "ponds_nearest — расстояние до ближайшего водоёма (м)  \n",
    "rooms — число комнат  \n",
    "studio — квартира-студия (булев тип)  \n",
    "total_area — общая площадь квартиры в квадратных метрах (м²)  \n",
    "total_images — число фотографий квартиры в объявлении  "
   ]
  },
  {
   "cell_type": "markdown",
   "id": "5f93544d",
   "metadata": {},
   "source": [
    "##### Видимые проблемы:"
   ]
  },
  {
   "cell_type": "markdown",
   "id": "81972fc7",
   "metadata": {},
   "source": [
    "Очевидно, что в столбцах ceiling_height, floors_total, is_apartment, living_area, kitchen_area, balcony, locality_name, airports_nearest,  cityCenters_nearest, parks_around3000, ponds_nearest, days_exposition есть пропущенные значения"
   ]
  },
  {
   "cell_type": "markdown",
   "id": "32c6ed01",
   "metadata": {},
   "source": [
    "Так же столбцы is_apartment и floors_total явно имеют неправильный тип (должен быть bool и int). Дата публикации записана в виде строки, что может быть не удобно"
   ]
  },
  {
   "cell_type": "markdown",
   "id": "610478c7",
   "metadata": {},
   "source": [
    "##### Построим общую гистограмму для всех столбцов"
   ]
  },
  {
   "cell_type": "code",
   "execution_count": 5,
   "id": "8f108048",
   "metadata": {},
   "outputs": [
    {
     "data": {
      "text/plain": [
       "array([[<AxesSubplot:title={'center':'total_images'}>,\n",
       "        <AxesSubplot:title={'center':'last_price'}>,\n",
       "        <AxesSubplot:title={'center':'total_area'}>,\n",
       "        <AxesSubplot:title={'center':'rooms'}>],\n",
       "       [<AxesSubplot:title={'center':'ceiling_height'}>,\n",
       "        <AxesSubplot:title={'center':'floors_total'}>,\n",
       "        <AxesSubplot:title={'center':'living_area'}>,\n",
       "        <AxesSubplot:title={'center':'floor'}>],\n",
       "       [<AxesSubplot:title={'center':'kitchen_area'}>,\n",
       "        <AxesSubplot:title={'center':'balcony'}>,\n",
       "        <AxesSubplot:title={'center':'airports_nearest'}>,\n",
       "        <AxesSubplot:title={'center':'cityCenters_nearest'}>],\n",
       "       [<AxesSubplot:title={'center':'parks_around3000'}>,\n",
       "        <AxesSubplot:title={'center':'parks_nearest'}>,\n",
       "        <AxesSubplot:title={'center':'ponds_around3000'}>,\n",
       "        <AxesSubplot:title={'center':'ponds_nearest'}>],\n",
       "       [<AxesSubplot:title={'center':'days_exposition'}>, <AxesSubplot:>,\n",
       "        <AxesSubplot:>, <AxesSubplot:>]], dtype=object)"
      ]
     },
     "execution_count": 5,
     "metadata": {},
     "output_type": "execute_result"
    },
    {
     "data": {
      "image/png": "[encoded data removed]",
      "text/plain": [
       "<Figure size 1080x1440 with 20 Axes>"
      ]
     },
     "metadata": {
      "needs_background": "light"
     },
     "output_type": "display_data"
    }
   ],
   "source": [
    "data.hist(figsize= (15, 20))"
   ]
  },
  {
   "cell_type": "markdown",
   "id": "9e503f96",
   "metadata": {},
   "source": [
    "#### Промежуточные выводы до обработки данных:"
   ]
  },
  {
   "cell_type": "markdown",
   "id": "961dc8a9",
   "metadata": {},
   "source": []
  },
  {
   "cell_type": "markdown",
   "id": "df8a331c",
   "metadata": {},
   "source": [
    "## Шаг 2. Предобработка данных"
   ]
  },
  {
   "cell_type": "markdown",
   "id": "aa76563c",
   "metadata": {},
   "source": [
    "### 2.1. Заполнение NaN"
   ]
  },
  {
   "cell_type": "markdown",
   "id": "cd614d78",
   "metadata": {},
   "source": [
    "прежде чем что-то делать переименуем столбец cityCenters_nearest в snake_case"
   ]
  },
  {
   "cell_type": "code",
   "execution_count": 6,
   "id": "13cfc25d",
   "metadata": {},
   "outputs": [],
   "source": [
    "data = data.rename(columns= {'cityCenters_nearest' : 'city_centers_nearest'})"
   ]
  },
  {
   "cell_type": "markdown",
   "id": "902f14d7",
   "metadata": {},
   "source": [
    "В рамках предыдущего этапа мы определили предполагаемые столбцы с пропусками. Теперь проверим наше предположение"
   ]
  },
  {
   "cell_type": "code",
   "execution_count": 7,
   "id": "cd434e82",
   "metadata": {
    "scrolled": true
   },
   "outputs": [
    {
     "data": {
      "text/plain": [
       "total_images                0\n",
       "last_price                  0\n",
       "total_area                  0\n",
       "first_day_exposition        0\n",
       "rooms                       0\n",
       "ceiling_height           9195\n",
       "floors_total               86\n",
       "living_area              1903\n",
       "floor                       0\n",
       "is_apartment            20924\n",
       "studio                      0\n",
       "open_plan                   0\n",
       "kitchen_area             2278\n",
       "balcony                 11519\n",
       "locality_name              49\n",
       "airports_nearest         5542\n",
       "city_centers_nearest     5519\n",
       "parks_around3000         5518\n",
       "parks_nearest           15620\n",
       "ponds_around3000         5518\n",
       "ponds_nearest           14589\n",
       "days_exposition          3181\n",
       "dtype: int64"
      ]
     },
     "execution_count": 7,
     "metadata": {},
     "output_type": "execute_result"
    }
   ],
   "source": [
    "data.isna().sum()"
   ]
  },
  {
   "cell_type": "markdown",
   "id": "5cca06e7",
   "metadata": {},
   "source": [
    "#### 2.1.1 Заполнение столбцов kitchen_area, living_area"
   ]
  },
  {
   "cell_type": "markdown",
   "id": "fe17cef2",
   "metadata": {},
   "source": [
    "В студиях нет кухни. Для студий можем заполнить NaN нулями. За студии (комнаты) будем считать также "
   ]
  },
  {
   "cell_type": "code",
   "execution_count": 8,
   "id": "8e4af258",
   "metadata": {},
   "outputs": [],
   "source": [
    "data.loc[((data['studio'] == True) | (data['rooms'] == 0))& (data['kitchen_area'].isna()), 'kitchen_area'] = 0"
   ]
  },
  {
   "cell_type": "code",
   "execution_count": 9,
   "id": "c19918ef",
   "metadata": {},
   "outputs": [
    {
     "data": {
      "text/plain": [
       "2070"
      ]
     },
     "execution_count": 9,
     "metadata": {},
     "output_type": "execute_result"
    }
   ],
   "source": [
    "data.kitchen_area.isna().sum()"
   ]
  },
  {
   "cell_type": "markdown",
   "id": "45482976",
   "metadata": {},
   "source": [
    "208 студий или комнат убрали"
   ]
  },
  {
   "cell_type": "markdown",
   "id": "6ee47937",
   "metadata": {},
   "source": [
    "Для некоторых значений известна жилплощадь (living area). Получим площадь кухни вычитанием жилплощади из суммарной площади. Для этого напишем отдельную функцию"
   ]
  },
  {
   "cell_type": "code",
   "execution_count": 10,
   "id": "3480458e",
   "metadata": {},
   "outputs": [],
   "source": [
    "def calculate_area(data:pd.DataFrame, column1:str, column2:str, column3:str) -> pd.DataFrame:\n",
    "    i = 0\n",
    "    while i < data[column3].count():\n",
    "        if mt.isnan(data.loc[i,column3]) == True:\n",
    "            if mt.isnan(data.loc[i,column2]) != True:            \n",
    "                data.loc[i,column3] = data.loc[i,column1] - data.loc[i,column2]\n",
    "        i += 1\n",
    "    return data    "
   ]
  },
  {
   "cell_type": "code",
   "execution_count": 11,
   "id": "a9cf87eb",
   "metadata": {},
   "outputs": [
    {
     "data": {
      "text/plain": [
       "1489"
      ]
     },
     "execution_count": 11,
     "metadata": {},
     "output_type": "execute_result"
    }
   ],
   "source": [
    "data = calculate_area(data, 'total_area', 'living_area', 'kitchen_area') \n",
    "data.kitchen_area.isna().sum()"
   ]
  },
  {
   "cell_type": "markdown",
   "id": "9136353e",
   "metadata": {},
   "source": [
    "Для 1489 записей значение living_area не задано. Возможна и обратная ситуация (когда есть kitchen_area но нет living_area)"
   ]
  },
  {
   "cell_type": "code",
   "execution_count": 12,
   "id": "24ad57f7",
   "metadata": {},
   "outputs": [
    {
     "data": {
      "text/plain": [
       "1489"
      ]
     },
     "execution_count": 12,
     "metadata": {},
     "output_type": "execute_result"
    }
   ],
   "source": [
    "data = calculate_area(data, 'total_area', 'kitchen_area', 'living_area') \n",
    "data.living_area.isna().sum()"
   ]
  },
  {
   "cell_type": "code",
   "execution_count": 13,
   "id": "d078a811",
   "metadata": {},
   "outputs": [],
   "source": [
    "rooms_median = data.pivot_table(index= 'rooms', values= ['living_area', 'kitchen_area'] , aggfunc='median')"
   ]
  },
  {
   "cell_type": "markdown",
   "id": "7c2ba1b9",
   "metadata": {},
   "source": [
    "Остальные значения заполним медианными для количества комнат"
   ]
  },
  {
   "cell_type": "code",
   "execution_count": 14,
   "id": "132a8c90",
   "metadata": {},
   "outputs": [],
   "source": [
    "def median_area(data:pd.DataFrame, rooms_median:pd.DataFrame, column1:str, column2:str, column3:str) -> pd.DataFrame:\n",
    "    i = 0    \n",
    "    while i < data[column1].count():\n",
    "        if mt.isnan(data.loc[i,column1]) == True:            \n",
    "                data.loc[i,column1] = rooms_median.loc[data.loc[i,column2] , column3]                 \n",
    "        i += 1\n",
    "    return data"
   ]
  },
  {
   "cell_type": "code",
   "execution_count": 15,
   "id": "cc40f670",
   "metadata": {},
   "outputs": [
    {
     "data": {
      "text/plain": [
       "0"
      ]
     },
     "execution_count": 15,
     "metadata": {},
     "output_type": "execute_result"
    }
   ],
   "source": [
    "data = median_area(data, rooms_median, 'kitchen_area', 'rooms', 'living_area')\n",
    "data.kitchen_area.isna().sum()"
   ]
  },
  {
   "cell_type": "code",
   "execution_count": 16,
   "id": "93bac163",
   "metadata": {},
   "outputs": [
    {
     "data": {
      "text/plain": [
       "0"
      ]
     },
     "execution_count": 16,
     "metadata": {},
     "output_type": "execute_result"
    }
   ],
   "source": [
    "data = median_area(data, rooms_median, 'living_area', 'rooms', 'kitchen_area')\n",
    "data.living_area.isna().sum()"
   ]
  },
  {
   "cell_type": "markdown",
   "id": "7b17bd09",
   "metadata": {},
   "source": [
    "#### 2.1.2 Столбцы locality_name и balcony"
   ]
  },
  {
   "cell_type": "markdown",
   "id": "9b56e0a7",
   "metadata": {},
   "source": [
    "В столбце локаций всего 49 пропусков. По сравнению с общим количеством этим можно принебречь"
   ]
  },
  {
   "cell_type": "code",
   "execution_count": 17,
   "id": "3253c0eb",
   "metadata": {},
   "outputs": [],
   "source": [
    "data = data.dropna(subset = 'locality_name').reset_index(drop= True)"
   ]
  },
  {
   "cell_type": "markdown",
   "id": "67144107",
   "metadata": {},
   "source": [
    "Так же если не указано количество балконов, скорее всего их нет"
   ]
  },
  {
   "cell_type": "code",
   "execution_count": 18,
   "id": "ea0bc210",
   "metadata": {},
   "outputs": [],
   "source": [
    "data['balcony'] = data['balcony'].fillna(0)"
   ]
  },
  {
   "cell_type": "code",
   "execution_count": 19,
   "id": "18c8771f",
   "metadata": {},
   "outputs": [
    {
     "data": {
      "text/plain": [
       "0"
      ]
     },
     "execution_count": 19,
     "metadata": {},
     "output_type": "execute_result"
    }
   ],
   "source": [
    "data.balcony.isna().sum()"
   ]
  },
  {
   "cell_type": "markdown",
   "id": "64fa0d3c",
   "metadata": {},
   "source": []
  },
  {
   "cell_type": "markdown",
   "id": "440ccf05",
   "metadata": {},
   "source": [
    "#### 2.1.3 Столбец floors"
   ]
  },
  {
   "cell_type": "markdown",
   "id": "cb3e16ff",
   "metadata": {},
   "source": [
    "Проверим гипотезу, что если этаж не указан, значит в здании всего один этаж"
   ]
  },
  {
   "cell_type": "code",
   "execution_count": 20,
   "id": "32ca1f2b",
   "metadata": {},
   "outputs": [
    {
     "data": {
      "text/plain": [
       "0"
      ]
     },
     "execution_count": 20,
     "metadata": {},
     "output_type": "execute_result"
    }
   ],
   "source": [
    "data[data['floor'] != 1].floor.isna().sum()"
   ]
  },
  {
   "cell_type": "markdown",
   "id": "d44c5be8",
   "metadata": {},
   "source": [
    "Гипотеза не подтвердилась. В столбце количества этажей всего 86 пропусков. По сравнению с общим количеством этим можно принебречь"
   ]
  },
  {
   "cell_type": "code",
   "execution_count": 21,
   "id": "79ca0c6e",
   "metadata": {},
   "outputs": [
    {
     "data": {
      "text/plain": [
       "0"
      ]
     },
     "execution_count": 21,
     "metadata": {},
     "output_type": "execute_result"
    }
   ],
   "source": [
    "data = data.dropna(subset = 'floors_total').reset_index(drop = True)\n",
    "data['floors_total'].isna().sum()"
   ]
  },
  {
   "cell_type": "markdown",
   "id": "7577a13f",
   "metadata": {},
   "source": [
    "####  2.1.4 Cтолбец is_appartament"
   ]
  },
  {
   "cell_type": "markdown",
   "id": "189d2820",
   "metadata": {},
   "source": [
    "***Гипотеза:*** Скорее всего пропуски в столбце is_apartament означают, что объект недвижимости не является апартаментами."
   ]
  },
  {
   "cell_type": "markdown",
   "id": "b0db9427",
   "metadata": {},
   "source": [
    "Для проверки данной гипотезы логично предположить, что практически все апартаменты находятся в Санкт-Петербурге.  \n",
    "Для всех населенных пунктов кроме Спб сравним количество пропущенных значений в столбце is_appartament и количество записей об объявлениях"
   ]
  },
  {
   "cell_type": "code",
   "execution_count": 22,
   "id": "0c3e0300",
   "metadata": {
    "scrolled": true
   },
   "outputs": [
    {
     "name": "stdout",
     "output_type": "stream",
     "text": [
      "Количество пропусков в столбце is_apartament вне спб, Количество записей о недвижимости вне спб: 6987 , 7914\n"
     ]
    }
   ],
   "source": [
    "not_in_spb = data.query('locality_name != \"Санкт-Петербург\"').is_apartment\n",
    "\n",
    "print('Количество пропусков в столбце is_apartament вне спб, Количество записей о недвижимости вне спб:', not_in_spb.isna().sum(),',', len(not_in_spb))     "
   ]
  },
  {
   "cell_type": "code",
   "execution_count": 23,
   "id": "4c3c89fd",
   "metadata": {
    "scrolled": true
   },
   "outputs": [
    {
     "data": {
      "text/plain": [
       "927"
      ]
     },
     "execution_count": 23,
     "metadata": {},
     "output_type": "execute_result"
    }
   ],
   "source": [
    "data.query('locality_name != \"Санкт-Петербург\"').is_apartment.count()"
   ]
  },
  {
   "cell_type": "markdown",
   "id": "620a2049",
   "metadata": {},
   "source": [
    "Всего 927 записей о статусе апартамены/не апартаменты в Ленинградской области !"
   ]
  },
  {
   "cell_type": "markdown",
   "id": "7422ab70",
   "metadata": {},
   "source": [
    "Для того чтобы точно убедиться, среди данных записей посмотрим количество аппартаментов"
   ]
  },
  {
   "cell_type": "code",
   "execution_count": 24,
   "id": "34bc9267",
   "metadata": {},
   "outputs": [
    {
     "name": "stdout",
     "output_type": "stream",
     "text": [
      "Количество аппартаменов в Лен.области: 11\n"
     ]
    }
   ],
   "source": [
    "not_in_spb = data.query('is_apartment == True' and 'is_apartment.isna() != True' and 'locality_name != \"Санкт-Петербург\"')\n",
    "print('Количество аппартаменов в Лен.области:',not_in_spb.is_apartment.sum())"
   ]
  },
  {
   "cell_type": "markdown",
   "id": "07e1e4a6",
   "metadata": {},
   "source": [
    "Всего 11 аппартаментов по всей Ленинградской области. Из этого можно делать вывод, что если в столбце is_appartment стоит NAN, скорее всего объект недвижимости не является аппартаментами. Заполним пропуски значениями False"
   ]
  },
  {
   "cell_type": "code",
   "execution_count": 25,
   "id": "3bb35316",
   "metadata": {},
   "outputs": [
    {
     "data": {
      "text/plain": [
       "0"
      ]
     },
     "execution_count": 25,
     "metadata": {},
     "output_type": "execute_result"
    }
   ],
   "source": [
    "data['is_apartment'] = data['is_apartment'].fillna(False)\n",
    "data.is_apartment.isna().sum()"
   ]
  },
  {
   "cell_type": "markdown",
   "id": "d19b8f2f",
   "metadata": {},
   "source": [
    "#### 2.1.5. Столбцы parks_around3000 и ponds_around3000"
   ]
  },
  {
   "cell_type": "markdown",
   "id": "3295eb3d",
   "metadata": {},
   "source": [
    "Если есть расстояние до парков и водоёмов, логично предположить что по близости есть хотябы один парк. Поэтому заполним все строчки где есть расстояние до парка и водоема единицами."
   ]
  },
  {
   "cell_type": "code",
   "execution_count": 26,
   "id": "fdcbede8",
   "metadata": {},
   "outputs": [
    {
     "data": {
      "text/html": [
       "<div>\n",
       "<style scoped>\n",
       "    .dataframe tbody tr th:only-of-type {\n",
       "        vertical-align: middle;\n",
       "    }\n",
       "\n",
       "    .dataframe tbody tr th {\n",
       "        vertical-align: top;\n",
       "    }\n",
       "\n",
       "    .dataframe thead th {\n",
       "        text-align: right;\n",
       "    }\n",
       "</style>\n",
       "<table border=\"1\" class=\"dataframe\">\n",
       "  <thead>\n",
       "    <tr style=\"text-align: right;\">\n",
       "      <th></th>\n",
       "      <th>total_images</th>\n",
       "      <th>last_price</th>\n",
       "      <th>total_area</th>\n",
       "      <th>first_day_exposition</th>\n",
       "      <th>rooms</th>\n",
       "      <th>ceiling_height</th>\n",
       "      <th>floors_total</th>\n",
       "      <th>living_area</th>\n",
       "      <th>floor</th>\n",
       "      <th>is_apartment</th>\n",
       "      <th>...</th>\n",
       "      <th>kitchen_area</th>\n",
       "      <th>balcony</th>\n",
       "      <th>locality_name</th>\n",
       "      <th>airports_nearest</th>\n",
       "      <th>city_centers_nearest</th>\n",
       "      <th>parks_around3000</th>\n",
       "      <th>parks_nearest</th>\n",
       "      <th>ponds_around3000</th>\n",
       "      <th>ponds_nearest</th>\n",
       "      <th>days_exposition</th>\n",
       "    </tr>\n",
       "  </thead>\n",
       "  <tbody>\n",
       "  </tbody>\n",
       "</table>\n",
       "<p>0 rows × 22 columns</p>\n",
       "</div>"
      ],
      "text/plain": [
       "Empty DataFrame\n",
       "Columns: [total_images, last_price, total_area, first_day_exposition, rooms, ceiling_height, floors_total, living_area, floor, is_apartment, studio, open_plan, kitchen_area, balcony, locality_name, airports_nearest, city_centers_nearest, parks_around3000, parks_nearest, ponds_around3000, ponds_nearest, days_exposition]\n",
       "Index: []\n",
       "\n",
       "[0 rows x 22 columns]"
      ]
     },
     "execution_count": 26,
     "metadata": {},
     "output_type": "execute_result"
    }
   ],
   "source": [
    "data[(data['parks_nearest'].isna() != True) & (data['parks_around3000'].isna() == True)].head()"
   ]
  },
  {
   "cell_type": "code",
   "execution_count": 27,
   "id": "8eb50000",
   "metadata": {},
   "outputs": [
    {
     "data": {
      "text/html": [
       "<div>\n",
       "<style scoped>\n",
       "    .dataframe tbody tr th:only-of-type {\n",
       "        vertical-align: middle;\n",
       "    }\n",
       "\n",
       "    .dataframe tbody tr th {\n",
       "        vertical-align: top;\n",
       "    }\n",
       "\n",
       "    .dataframe thead th {\n",
       "        text-align: right;\n",
       "    }\n",
       "</style>\n",
       "<table border=\"1\" class=\"dataframe\">\n",
       "  <thead>\n",
       "    <tr style=\"text-align: right;\">\n",
       "      <th></th>\n",
       "      <th>total_images</th>\n",
       "      <th>last_price</th>\n",
       "      <th>total_area</th>\n",
       "      <th>first_day_exposition</th>\n",
       "      <th>rooms</th>\n",
       "      <th>ceiling_height</th>\n",
       "      <th>floors_total</th>\n",
       "      <th>living_area</th>\n",
       "      <th>floor</th>\n",
       "      <th>is_apartment</th>\n",
       "      <th>...</th>\n",
       "      <th>kitchen_area</th>\n",
       "      <th>balcony</th>\n",
       "      <th>locality_name</th>\n",
       "      <th>airports_nearest</th>\n",
       "      <th>city_centers_nearest</th>\n",
       "      <th>parks_around3000</th>\n",
       "      <th>parks_nearest</th>\n",
       "      <th>ponds_around3000</th>\n",
       "      <th>ponds_nearest</th>\n",
       "      <th>days_exposition</th>\n",
       "    </tr>\n",
       "  </thead>\n",
       "  <tbody>\n",
       "  </tbody>\n",
       "</table>\n",
       "<p>0 rows × 22 columns</p>\n",
       "</div>"
      ],
      "text/plain": [
       "Empty DataFrame\n",
       "Columns: [total_images, last_price, total_area, first_day_exposition, rooms, ceiling_height, floors_total, living_area, floor, is_apartment, studio, open_plan, kitchen_area, balcony, locality_name, airports_nearest, city_centers_nearest, parks_around3000, parks_nearest, ponds_around3000, ponds_nearest, days_exposition]\n",
       "Index: []\n",
       "\n",
       "[0 rows x 22 columns]"
      ]
     },
     "execution_count": 27,
     "metadata": {},
     "output_type": "execute_result"
    }
   ],
   "source": [
    "data[(data['ponds_nearest'].isna() != True) & (data['ponds_around3000'].isna() == True)].head()"
   ]
  },
  {
   "cell_type": "markdown",
   "id": "573013a9",
   "metadata": {},
   "source": [
    "Для всех столбцов где есть расстояние до парка и водоема, количество парков и водоемов уже заполнено.  \n",
    "Можно предположить, что если парки или водоемы не указаны, их по близости нет"
   ]
  },
  {
   "cell_type": "code",
   "execution_count": 28,
   "id": "fe4c2d17",
   "metadata": {},
   "outputs": [],
   "source": [
    "data['parks_around3000'] = data['parks_around3000'].fillna(0)\n",
    "data['ponds_around3000'] = data['ponds_around3000'].fillna(0)"
   ]
  },
  {
   "cell_type": "markdown",
   "id": "7ec1669d",
   "metadata": {},
   "source": [
    "#### 2.1.6 Столбец city_centers_nearest"
   ]
  },
  {
   "cell_type": "markdown",
   "id": "0a24d21c",
   "metadata": {},
   "source": [
    "**Гипотеза**: Скорее всего данные значения пропущены для небольших населенных пунктов и не могут быть заполнены"
   ]
  },
  {
   "cell_type": "code",
   "execution_count": 29,
   "id": "7d8438aa",
   "metadata": {},
   "outputs": [
    {
     "data": {
      "text/plain": [
       "locality_name\n",
       "Санкт-Петербург    0\n",
       "Name: city_centers_nearest, dtype: int64"
      ]
     },
     "execution_count": 29,
     "metadata": {},
     "output_type": "execute_result"
    }
   ],
   "source": [
    "data[(data['city_centers_nearest'].isna() == True) & (data['locality_name'] == \"Санкт-Петербург\")].groupby('locality_name').city_centers_nearest.count()"
   ]
  },
  {
   "cell_type": "markdown",
   "id": "ebd704fd",
   "metadata": {},
   "source": [
    "**Вывод: Гипотеза верна. С данным столбцом мы ничего не сделаем**"
   ]
  },
  {
   "cell_type": "code",
   "execution_count": 30,
   "id": "eb4eac87",
   "metadata": {
    "scrolled": true
   },
   "outputs": [
    {
     "data": {
      "text/plain": [
       "total_images                0\n",
       "last_price                  0\n",
       "total_area                  0\n",
       "first_day_exposition        0\n",
       "rooms                       0\n",
       "ceiling_height           9084\n",
       "floors_total                0\n",
       "living_area                 0\n",
       "floor                       0\n",
       "is_apartment                0\n",
       "studio                      0\n",
       "open_plan                   0\n",
       "kitchen_area                0\n",
       "balcony                     0\n",
       "locality_name               0\n",
       "airports_nearest         5524\n",
       "city_centers_nearest     5501\n",
       "parks_around3000            0\n",
       "parks_nearest           15535\n",
       "ponds_around3000            0\n",
       "ponds_nearest           14529\n",
       "days_exposition          3171\n",
       "dtype: int64"
      ]
     },
     "execution_count": 30,
     "metadata": {},
     "output_type": "execute_result"
    }
   ],
   "source": [
    "data.isna().sum()"
   ]
  },
  {
   "cell_type": "markdown",
   "id": "b35f041c",
   "metadata": {},
   "source": [
    "#### 2.1.7 Столбец ceiling_height"
   ]
  },
  {
   "cell_type": "markdown",
   "id": "ee429964",
   "metadata": {},
   "source": [
    "Высоту потолков расчитаем медианное значение по категориям цены и местоположения.  \n",
    "Для этого категоризируем стоимость квартир."
   ]
  },
  {
   "cell_type": "code",
   "execution_count": 31,
   "id": "68fe3f74",
   "metadata": {},
   "outputs": [
    {
     "data": {
      "text/plain": [
       "count    2.356500e+04\n",
       "mean     6.540058e+06\n",
       "std      1.091093e+07\n",
       "min      1.219000e+04\n",
       "25%      3.400000e+06\n",
       "50%      4.646000e+06\n",
       "75%      6.790000e+06\n",
       "max      7.630000e+08\n",
       "Name: last_price, dtype: float64"
      ]
     },
     "execution_count": 31,
     "metadata": {},
     "output_type": "execute_result"
    }
   ],
   "source": [
    "data['last_price'].describe()"
   ]
  },
  {
   "cell_type": "code",
   "execution_count": 32,
   "id": "7d1c35c8",
   "metadata": {},
   "outputs": [],
   "source": [
    "for i in range(len(data)):\n",
    "    if data.loc[i, 'last_price'] < 3e+06:\n",
    "        data.loc[i, 'last_price_category'] = 'E'\n",
    "    elif 3e+06 <= data.loc[i, 'last_price'] <= 4e+06:\n",
    "        data.loc[i, 'last_price_category'] = 'D'\n",
    "    elif 4e+06 <= data.loc[i, 'last_price'] <= 5e+06:\n",
    "        data.loc[i, 'last_price_category'] = 'C'\n",
    "    elif 5e+06 <= data.loc[i, 'last_price'] <= 6.79e+06:\n",
    "        data.loc[i, 'last_price_category'] = 'B'\n",
    "    elif data.loc[i, 'last_price']  > 6.79e+06:\n",
    "        data.loc[i, 'last_price_category'] = 'А' \n",
    "    else:\n",
    "        print(data.loc[i, 'last_price'])\n",
    "        assert(False)   "
   ]
  },
  {
   "cell_type": "markdown",
   "id": "1c1779dc",
   "metadata": {},
   "source": [
    "По категории стоимости и локации расчитаем медиану высоту потолоков и заполним пропуски для медианными значениями"
   ]
  },
  {
   "cell_type": "code",
   "execution_count": 33,
   "id": "d3d4f095",
   "metadata": {},
   "outputs": [],
   "source": [
    "for i in range(len(data['ceiling_height'])): \n",
    "    if mt.isnan(data.loc[i ,'ceiling_height']) == True :\n",
    "        locality_name = data.loc[i ,\"locality_name\"]\n",
    "        last_price_category = data.loc[i ,\"last_price_category\"]\n",
    "        data.loc[i ,'ceiling_height'] = data.query(('locality_name == @locality_name') and ('last_price_category ==@last_price_category')).ceiling_height.median()"
   ]
  },
  {
   "cell_type": "code",
   "execution_count": 34,
   "id": "21feb1da",
   "metadata": {},
   "outputs": [
    {
     "data": {
      "text/plain": [
       "0"
      ]
     },
     "execution_count": 34,
     "metadata": {},
     "output_type": "execute_result"
    }
   ],
   "source": [
    "data.ceiling_height.isna().sum()"
   ]
  },
  {
   "cell_type": "markdown",
   "id": "ba8e0370",
   "metadata": {},
   "source": [
    "#### 2.1.8 Столбец days_exposition"
   ]
  },
  {
   "cell_type": "markdown",
   "id": "9eb90fe0",
   "metadata": {},
   "source": [
    "Скорее всего 3171 объявление имеет пропуски в столбце days_exposition, так как они были закрыты в первый день. Логично данные пропуски заполнить нулями"
   ]
  },
  {
   "cell_type": "code",
   "execution_count": 35,
   "id": "516920aa",
   "metadata": {},
   "outputs": [],
   "source": [
    "data['days_exposition'] = data['days_exposition'].fillna(0)"
   ]
  },
  {
   "cell_type": "markdown",
   "id": "f46e6ed0",
   "metadata": {},
   "source": [
    "К сожалению, остальные столбцы мы не заполним"
   ]
  },
  {
   "cell_type": "markdown",
   "id": "32ba9395",
   "metadata": {},
   "source": [
    "**Причина проблемы:** \n",
    "\n",
    "Пропуски данных связаны:\n",
    "\n",
    "1. C человеческим фактором (пользователи не указывают определенные параметры)\n",
    "2. C работой сайта, который воспринимает неуказанные параметры как NAN"
   ]
  },
  {
   "cell_type": "markdown",
   "id": "2c6e3586",
   "metadata": {},
   "source": [
    "### 2.2. Типы данных"
   ]
  },
  {
   "cell_type": "markdown",
   "id": "2e6c9717",
   "metadata": {},
   "source": [
    "Очевидно, что число этажей, количество балконов и количество дней с даты публикации не может быть дробным. Так же очевидно, что столбец is_apartment может принимать только 2 значения. Переведем данные столбцы в int и bool соответственно"
   ]
  },
  {
   "cell_type": "code",
   "execution_count": 36,
   "id": "9fcc3e54",
   "metadata": {},
   "outputs": [],
   "source": [
    "data['floors_total'] = data['floors_total'].astype(int)\n",
    "data['balcony'] = data['balcony'].astype(int)\n",
    "data['days_exposition'] = data['days_exposition'].astype(int)\n",
    "data['is_apartment'] = data['is_apartment'].astype(bool)"
   ]
  },
  {
   "cell_type": "markdown",
   "id": "2ef1be06",
   "metadata": {},
   "source": [
    "Значения даты публикации хранятся в строках. Лучше перевести их в DateTime"
   ]
  },
  {
   "cell_type": "code",
   "execution_count": 37,
   "id": "9f48d1dc",
   "metadata": {},
   "outputs": [],
   "source": [
    "data['first_day_exposition'] = pd.to_datetime(data['first_day_exposition'] , format='%Y-%m-%dT%H:%M:%S.%f')"
   ]
  },
  {
   "cell_type": "markdown",
   "id": "e8ad34c6",
   "metadata": {},
   "source": [
    "Дробным не может быть так же кроличество парков и водоемов"
   ]
  },
  {
   "cell_type": "code",
   "execution_count": 38,
   "id": "c1c0b71d",
   "metadata": {},
   "outputs": [],
   "source": [
    "data['parks_around3000'] = data['parks_around3000'].astype(int)\n",
    "data['ponds_around3000'] = data['ponds_around3000'].astype(int)"
   ]
  },
  {
   "cell_type": "markdown",
   "id": "49bb65dd",
   "metadata": {},
   "source": [
    "Посмотрим на результат"
   ]
  },
  {
   "cell_type": "code",
   "execution_count": 39,
   "id": "52f63537",
   "metadata": {},
   "outputs": [
    {
     "name": "stdout",
     "output_type": "stream",
     "text": [
      "<class 'pandas.core.frame.DataFrame'>\n",
      "RangeIndex: 23565 entries, 0 to 23564\n",
      "Data columns (total 23 columns):\n",
      " #   Column                Non-Null Count  Dtype         \n",
      "---  ------                --------------  -----         \n",
      " 0   total_images          23565 non-null  int64         \n",
      " 1   last_price            23565 non-null  float64       \n",
      " 2   total_area            23565 non-null  float64       \n",
      " 3   first_day_exposition  23565 non-null  datetime64[ns]\n",
      " 4   rooms                 23565 non-null  int64         \n",
      " 5   ceiling_height        23565 non-null  float64       \n",
      " 6   floors_total          23565 non-null  int32         \n",
      " 7   living_area           23565 non-null  float64       \n",
      " 8   floor                 23565 non-null  int64         \n",
      " 9   is_apartment          23565 non-null  bool          \n",
      " 10  studio                23565 non-null  bool          \n",
      " 11  open_plan             23565 non-null  bool          \n",
      " 12  kitchen_area          23565 non-null  float64       \n",
      " 13  balcony               23565 non-null  int32         \n",
      " 14  locality_name         23565 non-null  object        \n",
      " 15  airports_nearest      18041 non-null  float64       \n",
      " 16  city_centers_nearest  18064 non-null  float64       \n",
      " 17  parks_around3000      23565 non-null  int32         \n",
      " 18  parks_nearest         8030 non-null   float64       \n",
      " 19  ponds_around3000      23565 non-null  int32         \n",
      " 20  ponds_nearest         9036 non-null   float64       \n",
      " 21  days_exposition       23565 non-null  int32         \n",
      " 22  last_price_category   23565 non-null  object        \n",
      "dtypes: bool(3), datetime64[ns](1), float64(9), int32(5), int64(3), object(2)\n",
      "memory usage: 3.2+ MB\n"
     ]
    }
   ],
   "source": [
    "data.info()"
   ]
  },
  {
   "cell_type": "code",
   "execution_count": null,
   "id": "6c824b79",
   "metadata": {},
   "outputs": [],
   "source": []
  },
  {
   "cell_type": "markdown",
   "id": "60d54c5e",
   "metadata": {},
   "source": [
    "**Причина проблемы:**\n",
    "\n",
    "Некорректные типы данных связаны с ошибками в ПО (ошибки в конвертации/сборе информации на сайте)"
   ]
  },
  {
   "cell_type": "markdown",
   "id": "eda6783a",
   "metadata": {},
   "source": [
    "### 2.3. Обработка дубликатов"
   ]
  },
  {
   "cell_type": "markdown",
   "id": "32dfc3d0",
   "metadata": {},
   "source": [
    "По сути на явные и неявные дубликаты можно проверить только по столбцу локации"
   ]
  },
  {
   "cell_type": "code",
   "execution_count": 40,
   "id": "6a35ffa1",
   "metadata": {},
   "outputs": [
    {
     "data": {
      "text/plain": [
       "array(['Санкт-Петербург', 'посёлок Шушары', 'городской посёлок Янино-1',\n",
       "       'посёлок Парголово', 'посёлок Мурино', 'Ломоносов', 'Сертолово',\n",
       "       'Петергоф', 'Пушкин', 'деревня Кудрово', 'Коммунар', 'Колпино',\n",
       "       'поселок городского типа Красный Бор', 'Гатчина', 'поселок Мурино',\n",
       "       'деревня Фёдоровское', 'Выборг', 'Кронштадт', 'Кировск',\n",
       "       'деревня Новое Девяткино', 'посёлок Металлострой',\n",
       "       'посёлок городского типа Лебяжье',\n",
       "       'посёлок городского типа Сиверский', 'поселок Молодцово',\n",
       "       'поселок городского типа Кузьмоловский',\n",
       "       'садовое товарищество Новая Ропша', 'Павловск',\n",
       "       'деревня Пикколово', 'Всеволожск', 'Волхов', 'Кингисепп',\n",
       "       'Приозерск', 'Сестрорецк', 'деревня Куттузи', 'посёлок Аннино',\n",
       "       'поселок городского типа Ефимовский', 'посёлок Плодовое',\n",
       "       'деревня Заклинье', 'поселок Торковичи', 'поселок Первомайское',\n",
       "       'Красное Село', 'посёлок Понтонный', 'Сясьстрой', 'деревня Старая',\n",
       "       'деревня Лесколово', 'посёлок Новый Свет', 'Сланцы',\n",
       "       'село Путилово', 'Ивангород', 'Мурино', 'Шлиссельбург',\n",
       "       'Никольское', 'Зеленогорск', 'Сосновый Бор', 'поселок Новый Свет',\n",
       "       'деревня Оржицы', 'деревня Кальтино', 'Кудрово',\n",
       "       'поселок Романовка', 'посёлок Бугры', 'поселок Бугры',\n",
       "       'поселок городского типа Рощино', 'Кириши', 'Луга', 'Волосово',\n",
       "       'Отрадное', 'село Павлово', 'поселок Оредеж', 'село Копорье',\n",
       "       'посёлок городского типа Красный Бор', 'посёлок Молодёжное',\n",
       "       'Тихвин', 'посёлок Победа', 'деревня Нурма',\n",
       "       'поселок городского типа Синявино', 'Тосно',\n",
       "       'посёлок городского типа Кузьмоловский', 'посёлок Стрельна',\n",
       "       'Бокситогорск', 'посёлок Александровская', 'деревня Лопухинка',\n",
       "       'Пикалёво', 'поселок Терволово',\n",
       "       'поселок городского типа Советский', 'Подпорожье',\n",
       "       'посёлок Петровское', 'посёлок городского типа Токсово',\n",
       "       'поселок Сельцо', 'посёлок городского типа Вырица',\n",
       "       'деревня Кипень', 'деревня Келози', 'деревня Вартемяги',\n",
       "       'посёлок Тельмана', 'поселок Севастьяново',\n",
       "       'городской поселок Большая Ижора', 'городской посёлок Павлово',\n",
       "       'деревня Агалатово', 'посёлок Новогорелово',\n",
       "       'городской посёлок Лесогорский', 'деревня Лаголово',\n",
       "       'поселок Цвелодубово', 'поселок городского типа Рахья',\n",
       "       'поселок городского типа Вырица', 'деревня Белогорка',\n",
       "       'поселок Заводской', 'городской посёлок Новоселье',\n",
       "       'деревня Большие Колпаны', 'деревня Горбунки', 'деревня Батово',\n",
       "       'деревня Заневка', 'деревня Иссад', 'Приморск',\n",
       "       'городской посёлок Фёдоровское', 'деревня Мистолово',\n",
       "       'Новая Ладога', 'поселок Зимитицы', 'поселок Барышево',\n",
       "       'деревня Разметелево', 'поселок городского типа имени Свердлова',\n",
       "       'деревня Пеники', 'поселок Рябово', 'деревня Пудомяги',\n",
       "       'поселок станции Корнево', 'деревня Низино', 'деревня Бегуницы',\n",
       "       'посёлок Поляны', 'городской посёлок Мга', 'поселок Елизаветино',\n",
       "       'посёлок городского типа Кузнечное', 'деревня Колтуши',\n",
       "       'поселок Запорожское', 'посёлок городского типа Рощино',\n",
       "       'деревня Гостилицы', 'деревня Малое Карлино',\n",
       "       'посёлок Мичуринское', 'посёлок городского типа имени Морозова',\n",
       "       'посёлок Песочный', 'посёлок Сосново', 'деревня Аро',\n",
       "       'поселок Ильичёво', 'посёлок городского типа Тайцы',\n",
       "       'деревня Малое Верево', 'деревня Извара', 'поселок станции Вещево',\n",
       "       'село Паша', 'деревня Калитино',\n",
       "       'посёлок городского типа Ульяновка', 'деревня Чудской Бор',\n",
       "       'поселок городского типа Дубровка', 'деревня Мины',\n",
       "       'поселок Войсковицы', 'посёлок городского типа имени Свердлова',\n",
       "       'деревня Коркино', 'посёлок Ропша',\n",
       "       'поселок городского типа Приладожский', 'посёлок Щеглово',\n",
       "       'посёлок Гаврилово', 'Лодейное Поле', 'деревня Рабитицы',\n",
       "       'поселок городского типа Никольский', 'деревня Кузьмолово',\n",
       "       'деревня Малые Колпаны', 'поселок Тельмана',\n",
       "       'посёлок Петро-Славянка', 'городской посёлок Назия',\n",
       "       'посёлок Репино', 'посёлок Ильичёво', 'поселок Углово',\n",
       "       'поселок Старая Малукса', 'садовое товарищество Рахья',\n",
       "       'поселок Аннино', 'поселок Победа', 'деревня Меньково',\n",
       "       'деревня Старые Бегуницы', 'посёлок Сапёрный', 'поселок Семрино',\n",
       "       'поселок Гаврилово', 'поселок Глажево', 'поселок Кобринское',\n",
       "       'деревня Гарболово', 'деревня Юкки',\n",
       "       'поселок станции Приветнинское', 'деревня Мануйлово',\n",
       "       'деревня Пчева', 'поселок Поляны', 'поселок Цвылёво',\n",
       "       'поселок Мельниково', 'посёлок Пудость', 'посёлок Усть-Луга',\n",
       "       'Светогорск', 'Любань', 'поселок Селезнёво',\n",
       "       'поселок городского типа Рябово', 'Каменногорск', 'деревня Кривко',\n",
       "       'поселок Глебычево', 'деревня Парицы', 'поселок Жилпосёлок',\n",
       "       'посёлок городского типа Мга', 'городской поселок Янино-1',\n",
       "       'посёлок Войскорово', 'село Никольское', 'посёлок Терволово',\n",
       "       'поселок Стеклянный', 'посёлок городского типа Важины',\n",
       "       'посёлок Мыза-Ивановка', 'село Русско-Высоцкое',\n",
       "       'поселок городского типа Лебяжье',\n",
       "       'поселок городского типа Форносово', 'село Старая Ладога',\n",
       "       'поселок Житково', 'городской посёлок Виллози', 'деревня Лампово',\n",
       "       'деревня Шпаньково', 'деревня Лаврики', 'посёлок Сумино',\n",
       "       'посёлок Возрождение', 'деревня Старосиверская',\n",
       "       'посёлок Кикерино', 'поселок Возрождение',\n",
       "       'деревня Старое Хинколово', 'посёлок Пригородный',\n",
       "       'посёлок Торфяное', 'городской посёлок Будогощь',\n",
       "       'поселок Суходолье', 'поселок Красная Долина', 'деревня Хапо-Ое',\n",
       "       'поселок городского типа Дружная Горка', 'поселок Лисий Нос',\n",
       "       'деревня Яльгелево', 'посёлок Стеклянный', 'село Рождествено',\n",
       "       'деревня Старополье', 'посёлок Левашово', 'деревня Сяськелево',\n",
       "       'деревня Камышовка',\n",
       "       'садоводческое некоммерческое товарищество Лесная Поляна',\n",
       "       'деревня Хязельки', 'поселок Жилгородок',\n",
       "       'посёлок городского типа Павлово', 'деревня Ялгино',\n",
       "       'поселок Новый Учхоз', 'городской посёлок Рощино',\n",
       "       'поселок Гончарово', 'поселок Почап', 'посёлок Сапёрное',\n",
       "       'посёлок Платформа 69-й километр', 'поселок Каложицы',\n",
       "       'деревня Фалилеево', 'деревня Пельгора',\n",
       "       'поселок городского типа Лесогорский', 'деревня Торошковичи',\n",
       "       'посёлок Белоостров', 'посёлок Алексеевка', 'поселок Серебрянский',\n",
       "       'поселок Лукаши', 'поселок Петровское', 'деревня Щеглово',\n",
       "       'поселок Мичуринское', 'деревня Тарасово', 'поселок Кингисеппский',\n",
       "       'посёлок при железнодорожной станции Вещево', 'поселок Ушаки',\n",
       "       'деревня Котлы', 'деревня Сижно', 'деревня Торосово',\n",
       "       'посёлок Форт Красная Горка', 'деревня Новолисино',\n",
       "       'посёлок станции Громово', 'деревня Глинка', 'посёлок Мельниково',\n",
       "       'поселок городского типа Назия', 'деревня Старая Пустошь',\n",
       "       'поселок Коммунары', 'поселок Починок',\n",
       "       'посёлок городского типа Вознесенье', 'деревня Разбегаево',\n",
       "       'посёлок городского типа Рябово', 'поселок Гладкое',\n",
       "       'посёлок при железнодорожной станции Приветнинское',\n",
       "       'поселок Тёсово-4', 'посёлок Жилгородок', 'деревня Бор',\n",
       "       'посёлок Коробицыно', 'деревня Большая Вруда', 'деревня Курковицы',\n",
       "       'посёлок Лисий Нос', 'городской посёлок Советский',\n",
       "       'посёлок Кобралово', 'деревня Суоранда', 'поселок Кобралово',\n",
       "       'поселок городского типа Кондратьево',\n",
       "       'коттеджный поселок Счастье', 'поселок Любань', 'деревня Реброво',\n",
       "       'деревня Зимитицы', 'деревня Тойворово', 'поселок Семиозерье',\n",
       "       'поселок Лесное', 'поселок Совхозный', 'поселок Усть-Луга',\n",
       "       'посёлок Ленинское', 'посёлок Суйда',\n",
       "       'посёлок городского типа Форносово', 'деревня Нижние Осельки',\n",
       "       'посёлок станции Свирь', 'поселок Перово', 'Высоцк',\n",
       "       'поселок Гарболово', 'село Шум', 'поселок Котельский',\n",
       "       'поселок станции Лужайка', 'деревня Большая Пустомержа',\n",
       "       'поселок Красносельское', 'деревня Вахнова Кара', 'деревня Пижма',\n",
       "       'коттеджный поселок Кивеннапа Север', 'поселок Коробицыно',\n",
       "       'поселок Ромашки', 'посёлок Перово', 'деревня Каськово',\n",
       "       'деревня Куровицы', 'посёлок Плоское', 'поселок Сумино',\n",
       "       'поселок городского типа Большая Ижора', 'поселок Кирпичное',\n",
       "       'деревня Ям-Тесово', 'деревня Раздолье', 'деревня Терпилицы',\n",
       "       'поселок городского типа Токсово', 'посёлок Шугозеро',\n",
       "       'деревня Ваганово', 'поселок Пушное', 'садовое товарищество Садко',\n",
       "       'посёлок Усть-Ижора', 'деревня Выскатка',\n",
       "       'городской посёлок Свирьстрой', 'поселок Громово',\n",
       "       'деревня Кисельня', 'посёлок Старая Малукса',\n",
       "       'деревня Трубников Бор', 'поселок Калитино',\n",
       "       'посёлок Высокоключевой', 'садовое товарищество Приладожский',\n",
       "       'посёлок Пансионат Зелёный Бор', 'деревня Ненимяки',\n",
       "       'поселок Пансионат Зелёный Бор', 'деревня Снегирёвка',\n",
       "       'деревня Рапполово', 'деревня Пустынка', 'поселок Рабитицы',\n",
       "       'деревня Большой Сабск', 'деревня Русско', 'деревня Лупполово',\n",
       "       'деревня Большое Рейзино', 'деревня Малая Романовка',\n",
       "       'поселок Дружноселье', 'поселок Пчевжа', 'поселок Володарское',\n",
       "       'деревня Нижняя', 'коттеджный посёлок Лесное', 'деревня Тихковицы',\n",
       "       'деревня Борисова Грива', 'посёлок Дзержинского'], dtype=object)"
      ]
     },
     "execution_count": 40,
     "metadata": {},
     "output_type": "execute_result"
    }
   ],
   "source": [
    "data.locality_name.unique()"
   ]
  },
  {
   "cell_type": "code",
   "execution_count": 41,
   "id": "15bf5b40",
   "metadata": {},
   "outputs": [
    {
     "data": {
      "text/plain": [
       "364"
      ]
     },
     "execution_count": 41,
     "metadata": {},
     "output_type": "execute_result"
    }
   ],
   "source": [
    "data.locality_name.nunique()"
   ]
  },
  {
   "cell_type": "code",
   "execution_count": 42,
   "id": "2e397c3b",
   "metadata": {},
   "outputs": [],
   "source": [
    "def delete_settlements (row :str) -> str:\n",
    "    settlements  = (['посёлок', 'поселок',  'городского', 'типа', 'городской', 'деревня',\n",
    "     'станции', 'Пансионат', 'садовое', 'товарищество', 'село', 'коттеджный'])\n",
    "    for settlement in settlements:\n",
    "        if settlement in row:\n",
    "            row = row.replace(settlement, '') \n",
    "    return row"
   ]
  },
  {
   "cell_type": "code",
   "execution_count": 43,
   "id": "9fef7d9f",
   "metadata": {},
   "outputs": [],
   "source": [
    "data.locality_name = data.locality_name.apply(delete_settlements)"
   ]
  },
  {
   "cell_type": "code",
   "execution_count": 44,
   "id": "a8c12791",
   "metadata": {},
   "outputs": [
    {
     "data": {
      "text/plain": [
       "325"
      ]
     },
     "execution_count": 44,
     "metadata": {},
     "output_type": "execute_result"
    }
   ],
   "source": [
    "data.locality_name.nunique()"
   ]
  },
  {
   "cell_type": "markdown",
   "id": "84ca01dc",
   "metadata": {},
   "source": [
    "39 дубликатов убрали "
   ]
  },
  {
   "cell_type": "markdown",
   "id": "af1894e9",
   "metadata": {},
   "source": [
    "### 2.4. Обработка выбросов"
   ]
  },
  {
   "cell_type": "markdown",
   "id": "2950c133",
   "metadata": {},
   "source": [
    "Взглянем на данные"
   ]
  },
  {
   "cell_type": "code",
   "execution_count": 45,
   "id": "65629786",
   "metadata": {},
   "outputs": [
    {
     "data": {
      "text/html": [
       "<div>\n",
       "<style scoped>\n",
       "    .dataframe tbody tr th:only-of-type {\n",
       "        vertical-align: middle;\n",
       "    }\n",
       "\n",
       "    .dataframe tbody tr th {\n",
       "        vertical-align: top;\n",
       "    }\n",
       "\n",
       "    .dataframe thead th {\n",
       "        text-align: right;\n",
       "    }\n",
       "</style>\n",
       "<table border=\"1\" class=\"dataframe\">\n",
       "  <thead>\n",
       "    <tr style=\"text-align: right;\">\n",
       "      <th></th>\n",
       "      <th>total_images</th>\n",
       "      <th>last_price</th>\n",
       "      <th>total_area</th>\n",
       "      <th>rooms</th>\n",
       "      <th>ceiling_height</th>\n",
       "      <th>floors_total</th>\n",
       "      <th>living_area</th>\n",
       "      <th>floor</th>\n",
       "      <th>kitchen_area</th>\n",
       "      <th>balcony</th>\n",
       "      <th>airports_nearest</th>\n",
       "      <th>city_centers_nearest</th>\n",
       "      <th>parks_around3000</th>\n",
       "      <th>parks_nearest</th>\n",
       "      <th>ponds_around3000</th>\n",
       "      <th>ponds_nearest</th>\n",
       "      <th>days_exposition</th>\n",
       "    </tr>\n",
       "  </thead>\n",
       "  <tbody>\n",
       "    <tr>\n",
       "      <th>count</th>\n",
       "      <td>23565.000000</td>\n",
       "      <td>2.356500e+04</td>\n",
       "      <td>23565.000000</td>\n",
       "      <td>23565.000000</td>\n",
       "      <td>23565.000000</td>\n",
       "      <td>23565.000000</td>\n",
       "      <td>23565.000000</td>\n",
       "      <td>23565.000000</td>\n",
       "      <td>23565.000000</td>\n",
       "      <td>23565.000000</td>\n",
       "      <td>18041.000000</td>\n",
       "      <td>18064.000000</td>\n",
       "      <td>23565.000000</td>\n",
       "      <td>8030.000000</td>\n",
       "      <td>23565.000000</td>\n",
       "      <td>9036.000000</td>\n",
       "      <td>23565.000000</td>\n",
       "    </tr>\n",
       "    <tr>\n",
       "      <th>mean</th>\n",
       "      <td>9.878421</td>\n",
       "      <td>6.540058e+06</td>\n",
       "      <td>60.322824</td>\n",
       "      <td>2.070656</td>\n",
       "      <td>2.726331</td>\n",
       "      <td>10.675875</td>\n",
       "      <td>33.319006</td>\n",
       "      <td>5.878124</td>\n",
       "      <td>12.117205</td>\n",
       "      <td>0.593677</td>\n",
       "      <td>28797.082701</td>\n",
       "      <td>14192.656056</td>\n",
       "      <td>0.468831</td>\n",
       "      <td>490.580448</td>\n",
       "      <td>0.589900</td>\n",
       "      <td>518.289509</td>\n",
       "      <td>156.420115</td>\n",
       "    </tr>\n",
       "    <tr>\n",
       "      <th>std</th>\n",
       "      <td>5.681156</td>\n",
       "      <td>1.091093e+07</td>\n",
       "      <td>35.657060</td>\n",
       "      <td>1.078591</td>\n",
       "      <td>0.994361</td>\n",
       "      <td>6.594823</td>\n",
       "      <td>23.307157</td>\n",
       "      <td>4.871485</td>\n",
       "      <td>9.602227</td>\n",
       "      <td>0.960660</td>\n",
       "      <td>12632.499735</td>\n",
       "      <td>8613.348153</td>\n",
       "      <td>0.748403</td>\n",
       "      <td>341.572956</td>\n",
       "      <td>0.883966</td>\n",
       "      <td>278.009558</td>\n",
       "      <td>213.517293</td>\n",
       "    </tr>\n",
       "    <tr>\n",
       "      <th>min</th>\n",
       "      <td>0.000000</td>\n",
       "      <td>1.219000e+04</td>\n",
       "      <td>12.000000</td>\n",
       "      <td>0.000000</td>\n",
       "      <td>1.000000</td>\n",
       "      <td>1.000000</td>\n",
       "      <td>0.000000</td>\n",
       "      <td>1.000000</td>\n",
       "      <td>0.000000</td>\n",
       "      <td>0.000000</td>\n",
       "      <td>0.000000</td>\n",
       "      <td>181.000000</td>\n",
       "      <td>0.000000</td>\n",
       "      <td>1.000000</td>\n",
       "      <td>0.000000</td>\n",
       "      <td>13.000000</td>\n",
       "      <td>0.000000</td>\n",
       "    </tr>\n",
       "    <tr>\n",
       "      <th>25%</th>\n",
       "      <td>6.000000</td>\n",
       "      <td>3.400000e+06</td>\n",
       "      <td>40.000000</td>\n",
       "      <td>1.000000</td>\n",
       "      <td>2.550000</td>\n",
       "      <td>5.000000</td>\n",
       "      <td>18.000000</td>\n",
       "      <td>2.000000</td>\n",
       "      <td>7.100000</td>\n",
       "      <td>0.000000</td>\n",
       "      <td>18565.000000</td>\n",
       "      <td>9238.000000</td>\n",
       "      <td>0.000000</td>\n",
       "      <td>288.000000</td>\n",
       "      <td>0.000000</td>\n",
       "      <td>293.000000</td>\n",
       "      <td>22.000000</td>\n",
       "    </tr>\n",
       "    <tr>\n",
       "      <th>50%</th>\n",
       "      <td>9.000000</td>\n",
       "      <td>4.646000e+06</td>\n",
       "      <td>52.000000</td>\n",
       "      <td>2.000000</td>\n",
       "      <td>2.600000</td>\n",
       "      <td>9.000000</td>\n",
       "      <td>29.700000</td>\n",
       "      <td>4.000000</td>\n",
       "      <td>9.700000</td>\n",
       "      <td>0.000000</td>\n",
       "      <td>26757.000000</td>\n",
       "      <td>13096.500000</td>\n",
       "      <td>0.000000</td>\n",
       "      <td>455.000000</td>\n",
       "      <td>0.000000</td>\n",
       "      <td>503.000000</td>\n",
       "      <td>73.000000</td>\n",
       "    </tr>\n",
       "    <tr>\n",
       "      <th>75%</th>\n",
       "      <td>14.000000</td>\n",
       "      <td>6.790000e+06</td>\n",
       "      <td>69.700000</td>\n",
       "      <td>3.000000</td>\n",
       "      <td>2.800000</td>\n",
       "      <td>16.000000</td>\n",
       "      <td>42.000000</td>\n",
       "      <td>8.000000</td>\n",
       "      <td>13.000000</td>\n",
       "      <td>1.000000</td>\n",
       "      <td>37273.000000</td>\n",
       "      <td>16285.000000</td>\n",
       "      <td>1.000000</td>\n",
       "      <td>612.000000</td>\n",
       "      <td>1.000000</td>\n",
       "      <td>730.000000</td>\n",
       "      <td>198.000000</td>\n",
       "    </tr>\n",
       "    <tr>\n",
       "      <th>max</th>\n",
       "      <td>50.000000</td>\n",
       "      <td>7.630000e+08</td>\n",
       "      <td>900.000000</td>\n",
       "      <td>19.000000</td>\n",
       "      <td>100.000000</td>\n",
       "      <td>60.000000</td>\n",
       "      <td>571.000000</td>\n",
       "      <td>33.000000</td>\n",
       "      <td>230.000000</td>\n",
       "      <td>5.000000</td>\n",
       "      <td>84869.000000</td>\n",
       "      <td>65968.000000</td>\n",
       "      <td>3.000000</td>\n",
       "      <td>3190.000000</td>\n",
       "      <td>3.000000</td>\n",
       "      <td>1344.000000</td>\n",
       "      <td>1580.000000</td>\n",
       "    </tr>\n",
       "  </tbody>\n",
       "</table>\n",
       "</div>"
      ],
      "text/plain": [
       "       total_images    last_price    total_area         rooms  ceiling_height  \\\n",
       "count  23565.000000  2.356500e+04  23565.000000  23565.000000    23565.000000   \n",
       "mean       9.878421  6.540058e+06     60.322824      2.070656        2.726331   \n",
       "std        5.681156  1.091093e+07     35.657060      1.078591        0.994361   \n",
       "min        0.000000  1.219000e+04     12.000000      0.000000        1.000000   \n",
       "25%        6.000000  3.400000e+06     40.000000      1.000000        2.550000   \n",
       "50%        9.000000  4.646000e+06     52.000000      2.000000        2.600000   \n",
       "75%       14.000000  6.790000e+06     69.700000      3.000000        2.800000   \n",
       "max       50.000000  7.630000e+08    900.000000     19.000000      100.000000   \n",
       "\n",
       "       floors_total   living_area         floor  kitchen_area       balcony  \\\n",
       "count  23565.000000  23565.000000  23565.000000  23565.000000  23565.000000   \n",
       "mean      10.675875     33.319006      5.878124     12.117205      0.593677   \n",
       "std        6.594823     23.307157      4.871485      9.602227      0.960660   \n",
       "min        1.000000      0.000000      1.000000      0.000000      0.000000   \n",
       "25%        5.000000     18.000000      2.000000      7.100000      0.000000   \n",
       "50%        9.000000     29.700000      4.000000      9.700000      0.000000   \n",
       "75%       16.000000     42.000000      8.000000     13.000000      1.000000   \n",
       "max       60.000000    571.000000     33.000000    230.000000      5.000000   \n",
       "\n",
       "       airports_nearest  city_centers_nearest  parks_around3000  \\\n",
       "count      18041.000000          18064.000000      23565.000000   \n",
       "mean       28797.082701          14192.656056          0.468831   \n",
       "std        12632.499735           8613.348153          0.748403   \n",
       "min            0.000000            181.000000          0.000000   \n",
       "25%        18565.000000           9238.000000          0.000000   \n",
       "50%        26757.000000          13096.500000          0.000000   \n",
       "75%        37273.000000          16285.000000          1.000000   \n",
       "max        84869.000000          65968.000000          3.000000   \n",
       "\n",
       "       parks_nearest  ponds_around3000  ponds_nearest  days_exposition  \n",
       "count    8030.000000      23565.000000    9036.000000     23565.000000  \n",
       "mean      490.580448          0.589900     518.289509       156.420115  \n",
       "std       341.572956          0.883966     278.009558       213.517293  \n",
       "min         1.000000          0.000000      13.000000         0.000000  \n",
       "25%       288.000000          0.000000     293.000000        22.000000  \n",
       "50%       455.000000          0.000000     503.000000        73.000000  \n",
       "75%       612.000000          1.000000     730.000000       198.000000  \n",
       "max      3190.000000          3.000000    1344.000000      1580.000000  "
      ]
     },
     "execution_count": 45,
     "metadata": {},
     "output_type": "execute_result"
    }
   ],
   "source": [
    "data.reset_index(drop=True)\n",
    "data.describe()"
   ]
  },
  {
   "cell_type": "markdown",
   "id": "7ef3b15c",
   "metadata": {},
   "source": [
    "#### 2.4.1 Столбцы ceiling_height"
   ]
  },
  {
   "cell_type": "code",
   "execution_count": 46,
   "id": "fe163b7a",
   "metadata": {},
   "outputs": [
    {
     "data": {
      "text/plain": [
       "2.50    3515\n",
       "2.60    3283\n",
       "2.55    2843\n",
       "2.56    2283\n",
       "2.90    2119\n",
       "        ... \n",
       "5.00       1\n",
       "2.20       1\n",
       "4.15       1\n",
       "3.93       1\n",
       "3.59       1\n",
       "Name: ceiling_height, Length: 183, dtype: int64"
      ]
     },
     "execution_count": 46,
     "metadata": {},
     "output_type": "execute_result"
    },
    {
     "data": {
      "image/png": "[encoded data removed]",
      "text/plain": [
       "<Figure size 432x288 with 1 Axes>"
      ]
     },
     "metadata": {
      "needs_background": "light"
     },
     "output_type": "display_data"
    }
   ],
   "source": [
    "data['ceiling_height'].hist(bins=100, range=(0, 10))\n",
    "data['ceiling_height'].value_counts()"
   ]
  },
  {
   "cell_type": "markdown",
   "id": "953ffa02",
   "metadata": {},
   "source": [
    "Абсолютное большинство значений находится в диапазоне 2-4 метра, но минимальная высота потолков 1, а максимальная 100 м ? Здесь явно есть выбросы. Скорее всего здесь ошибка при вводе. Все что выше 10м будем делить на 10, предполагая что это ошибка записи десятичной дроби"
   ]
  },
  {
   "cell_type": "code",
   "execution_count": 47,
   "id": "9537f48e",
   "metadata": {},
   "outputs": [],
   "source": [
    "def ceiling_height_division(cealing_hight: float) -> float:\n",
    "        if cealing_hight > 10:\n",
    "            cealing_hight =cealing_hight / 10\n",
    "        return cealing_hight \n",
    "            \n",
    "data['ceiling_height'] = data['ceiling_height'].apply(ceiling_height_division)"
   ]
  },
  {
   "cell_type": "markdown",
   "id": "089ef704",
   "metadata": {},
   "source": [
    "Отбросим все потолки меньше 2м. Их всего 5 штук"
   ]
  },
  {
   "cell_type": "code",
   "execution_count": 48,
   "id": "ce45ee6e",
   "metadata": {},
   "outputs": [
    {
     "data": {
      "text/plain": [
       "count    23548.000000\n",
       "mean         2.700278\n",
       "std          0.250423\n",
       "min          2.200000\n",
       "25%          2.550000\n",
       "50%          2.600000\n",
       "75%          2.800000\n",
       "max         10.000000\n",
       "Name: ceiling_height, dtype: float64"
      ]
     },
     "execution_count": 48,
     "metadata": {},
     "output_type": "execute_result"
    }
   ],
   "source": [
    "data = data[data['ceiling_height'] > 2]\n",
    "data.ceiling_height.describe()"
   ]
  },
  {
   "cell_type": "markdown",
   "id": "fc1662e5",
   "metadata": {},
   "source": [
    "#### 2.4.2 Столбец floors_total"
   ]
  },
  {
   "cell_type": "markdown",
   "id": "c37f5f5c",
   "metadata": {},
   "source": [
    "Максимальный этаж 33, а всего этажей 60 ? Здесь явно выброс"
   ]
  },
  {
   "cell_type": "code",
   "execution_count": 49,
   "id": "a3d2b6ff",
   "metadata": {},
   "outputs": [
    {
     "data": {
      "text/plain": [
       "30"
      ]
     },
     "execution_count": 49,
     "metadata": {},
     "output_type": "execute_result"
    },
    {
     "data": {
      "image/png": "[encoded data removed]",
      "text/plain": [
       "<Figure size 432x288 with 1 Axes>"
      ]
     },
     "metadata": {
      "needs_background": "light"
     },
     "output_type": "display_data"
    }
   ],
   "source": [
    "data['floors_total'].hist(bins=100, range=(0, 60))\n",
    "data['floor'].hist(bins=100, range=(0, 60))\n",
    "data[data['floors_total'] > 33].floors_total.count()"
   ]
  },
  {
   "cell_type": "markdown",
   "id": "21a03a5e",
   "metadata": {},
   "source": [
    "Всего 30 значений. Ими явно можно пренебречь"
   ]
  },
  {
   "cell_type": "code",
   "execution_count": 50,
   "id": "b837f2ff",
   "metadata": {},
   "outputs": [],
   "source": [
    "data = data[data['floors_total'] < 34]"
   ]
  },
  {
   "cell_type": "markdown",
   "id": "ac74a910",
   "metadata": {},
   "source": [
    "#### 2.4.3 Столбцы kitchen_area и living_area"
   ]
  },
  {
   "cell_type": "markdown",
   "id": "2e9e1df9",
   "metadata": {},
   "source": [
    "Жил площадь 0 - это явно выброс"
   ]
  },
  {
   "cell_type": "code",
   "execution_count": 51,
   "id": "d137ef85",
   "metadata": {},
   "outputs": [
    {
     "data": {
      "text/plain": [
       "<AxesSubplot:>"
      ]
     },
     "execution_count": 51,
     "metadata": {},
     "output_type": "execute_result"
    },
    {
     "data": {
      "image/png": "[encoded data removed]",
      "text/plain": [
       "<Figure size 432x288 with 1 Axes>"
      ]
     },
     "metadata": {
      "needs_background": "light"
     },
     "output_type": "display_data"
    }
   ],
   "source": [
    "data['living_area'].hist(bins=100, range=(0, 60))"
   ]
  },
  {
   "cell_type": "code",
   "execution_count": 52,
   "id": "f9976d92",
   "metadata": {},
   "outputs": [
    {
     "data": {
      "text/plain": [
       "<AxesSubplot:>"
      ]
     },
     "execution_count": 52,
     "metadata": {},
     "output_type": "execute_result"
    },
    {
     "data": {
      "image/png": "[encoded data removed]",
      "text/plain": [
       "<Figure size 432x288 with 1 Axes>"
      ]
     },
     "metadata": {
      "needs_background": "light"
     },
     "output_type": "display_data"
    }
   ],
   "source": [
    "data['living_area'].hist(bins=100, range=(0, 900))"
   ]
  },
  {
   "cell_type": "markdown",
   "id": "ba5e65a6",
   "metadata": {},
   "source": [
    "Уберем объявления меньше 9 квадрат и больше 400"
   ]
  },
  {
   "cell_type": "code",
   "execution_count": 53,
   "id": "984bc8f9",
   "metadata": {},
   "outputs": [
    {
     "data": {
      "text/plain": [
       "count    23010.000000\n",
       "mean        33.772206\n",
       "std         22.446596\n",
       "min          9.100000\n",
       "25%         18.000000\n",
       "50%         30.000000\n",
       "75%         42.000000\n",
       "max        371.000000\n",
       "Name: living_area, dtype: float64"
      ]
     },
     "execution_count": 53,
     "metadata": {},
     "output_type": "execute_result"
    }
   ],
   "source": [
    "data = data[(data['living_area'] > 9) & (data['living_area'] < 400)]\n",
    "data.living_area.describe()"
   ]
  },
  {
   "cell_type": "markdown",
   "id": "618f837a",
   "metadata": {},
   "source": [
    "Аналогично в kitchen_area"
   ]
  },
  {
   "cell_type": "markdown",
   "id": "415d434c",
   "metadata": {},
   "source": [
    "уберем значения >50 м2 и от 1 до 4 "
   ]
  },
  {
   "cell_type": "code",
   "execution_count": 54,
   "id": "c038b239",
   "metadata": {},
   "outputs": [
    {
     "data": {
      "text/plain": [
       "177"
      ]
     },
     "execution_count": 54,
     "metadata": {},
     "output_type": "execute_result"
    },
    {
     "data": {
      "image/png": "[encoded data removed]",
      "text/plain": [
       "<Figure size 432x288 with 1 Axes>"
      ]
     },
     "metadata": {
      "needs_background": "light"
     },
     "output_type": "display_data"
    }
   ],
   "source": [
    "data['kitchen_area'].hist(bins=100, range=(0, 60))\n",
    "data[data['kitchen_area'] > 50].kitchen_area.count()"
   ]
  },
  {
   "cell_type": "code",
   "execution_count": 55,
   "id": "45657c34",
   "metadata": {},
   "outputs": [
    {
     "data": {
      "text/plain": [
       "<AxesSubplot:>"
      ]
     },
     "execution_count": 55,
     "metadata": {},
     "output_type": "execute_result"
    },
    {
     "data": {
      "image/png": "[encoded data removed]",
      "text/plain": [
       "<Figure size 432x288 with 1 Axes>"
      ]
     },
     "metadata": {
      "needs_background": "light"
     },
     "output_type": "display_data"
    }
   ],
   "source": [
    "data = data[data['kitchen_area'] < 60]\n",
    "data = data[(data['kitchen_area'] > 4) | (data['kitchen_area'] == 0)]\n",
    "data['kitchen_area'].hist(bins=100, range=(0, 60))"
   ]
  },
  {
   "cell_type": "markdown",
   "id": "214d4065",
   "metadata": {},
   "source": [
    "#### 2.4.4 Столбец days_exposition"
   ]
  },
  {
   "cell_type": "markdown",
   "id": "8fe00a5b",
   "metadata": {},
   "source": [
    "Конечно возможно, что объявление висело 1580, но в основном столько они не висят"
   ]
  },
  {
   "cell_type": "code",
   "execution_count": 56,
   "id": "4326f52e",
   "metadata": {},
   "outputs": [
    {
     "data": {
      "text/plain": [
       "<AxesSubplot:>"
      ]
     },
     "execution_count": 56,
     "metadata": {},
     "output_type": "execute_result"
    },
    {
     "data": {
      "image/png": "[encoded data removed]",
      "text/plain": [
       "<Figure size 432x288 with 1 Axes>"
      ]
     },
     "metadata": {
      "needs_background": "light"
     },
     "output_type": "display_data"
    }
   ],
   "source": [
    "data['days_exposition'].hist(bins=300, range=(0, 360))"
   ]
  },
  {
   "cell_type": "markdown",
   "id": "b73e0013",
   "metadata": {},
   "source": [
    "Ограничимся одним годом"
   ]
  },
  {
   "cell_type": "code",
   "execution_count": 57,
   "id": "56d92d98",
   "metadata": {},
   "outputs": [
    {
     "data": {
      "text/plain": [
       "total_images            3023\n",
       "last_price              3023\n",
       "total_area              3023\n",
       "first_day_exposition    3023\n",
       "rooms                   3023\n",
       "ceiling_height          3023\n",
       "floors_total            3023\n",
       "living_area             3023\n",
       "floor                   3023\n",
       "is_apartment            3023\n",
       "studio                  3023\n",
       "open_plan               3023\n",
       "kitchen_area            3023\n",
       "balcony                 3023\n",
       "locality_name           3023\n",
       "airports_nearest        2358\n",
       "city_centers_nearest    2361\n",
       "parks_around3000        3023\n",
       "parks_nearest           1142\n",
       "ponds_around3000        3023\n",
       "ponds_nearest           1284\n",
       "days_exposition         3023\n",
       "last_price_category     3023\n",
       "dtype: int64"
      ]
     },
     "execution_count": 57,
     "metadata": {},
     "output_type": "execute_result"
    }
   ],
   "source": [
    "data[data['days_exposition'] > 360].count()"
   ]
  },
  {
   "cell_type": "code",
   "execution_count": 58,
   "id": "46393462",
   "metadata": {},
   "outputs": [],
   "source": [
    "data = data[data['days_exposition'] < 360]"
   ]
  },
  {
   "cell_type": "markdown",
   "id": "17e0a5a5",
   "metadata": {},
   "source": [
    "Так же очень врядли объекты недвижимости продавались за 1 день. Уберем значения меньше 5 дней"
   ]
  },
  {
   "cell_type": "code",
   "execution_count": 94,
   "id": "4dff87fa",
   "metadata": {},
   "outputs": [],
   "source": [
    "data = data[data['days_exposition'] > 7]"
   ]
  },
  {
   "cell_type": "markdown",
   "id": "0bfd516e",
   "metadata": {},
   "source": [
    "#### 2.4.5 Столбец city_centers_nearest"
   ]
  },
  {
   "cell_type": "code",
   "execution_count": 60,
   "id": "3d8ebbe4",
   "metadata": {},
   "outputs": [
    {
     "data": {
      "text/plain": [
       "<AxesSubplot:>"
      ]
     },
     "execution_count": 60,
     "metadata": {},
     "output_type": "execute_result"
    },
    {
     "data": {
      "image/png": "[encoded data removed]",
      "text/plain": [
       "<Figure size 432x288 with 1 Axes>"
      ]
     },
     "metadata": {
      "needs_background": "light"
     },
     "output_type": "display_data"
    }
   ],
   "source": [
    "data['city_centers_nearest'].hist(bins=1000, range=(0, 50000))"
   ]
  },
  {
   "cell_type": "markdown",
   "id": "d82e0ff0",
   "metadata": {},
   "source": [
    "Выглядит правдоподобно. Уберем значения > 37 км"
   ]
  },
  {
   "cell_type": "code",
   "execution_count": 61,
   "id": "74edfa55",
   "metadata": {},
   "outputs": [],
   "source": [
    "data = data[data['city_centers_nearest'] < 50000]"
   ]
  },
  {
   "cell_type": "markdown",
   "id": "2622c985",
   "metadata": {},
   "source": [
    "#### 2.4.6 Столбец last_price"
   ]
  },
  {
   "cell_type": "code",
   "execution_count": 62,
   "id": "c35c9580",
   "metadata": {},
   "outputs": [
    {
     "data": {
      "text/plain": [
       "<AxesSubplot:>"
      ]
     },
     "execution_count": 62,
     "metadata": {},
     "output_type": "execute_result"
    },
    {
     "data": {
      "image/png": "[encoded data removed]",
      "text/plain": [
       "<Figure size 432x288 with 1 Axes>"
      ]
     },
     "metadata": {
      "needs_background": "light"
     },
     "output_type": "display_data"
    }
   ],
   "source": [
    "data['last_price'].hist(bins=3000, range=(0,0.2e+08 ))"
   ]
  },
  {
   "cell_type": "markdown",
   "id": "30ef6b05",
   "metadata": {},
   "source": [
    "Скорее всего цены меньше 2 млн являются выбросами"
   ]
  },
  {
   "cell_type": "code",
   "execution_count": 63,
   "id": "f42fb534",
   "metadata": {},
   "outputs": [],
   "source": [
    "data = data[data['last_price']> 0.2e07]"
   ]
  },
  {
   "cell_type": "markdown",
   "id": "ceafadda",
   "metadata": {},
   "source": [
    "#### 2.4.7 Столбцы airports_nearest, parks_nearest, pods_nearest\t"
   ]
  },
  {
   "cell_type": "markdown",
   "id": "3b9258f3",
   "metadata": {},
   "source": [
    "Очень вряли что дом расположен прямо в аэропорту или в парке или на водоеме. Уберем зачения меньше 6 км и 20м соответственно"
   ]
  },
  {
   "cell_type": "code",
   "execution_count": 64,
   "id": "1d57535c",
   "metadata": {},
   "outputs": [
    {
     "data": {
      "text/plain": [
       "1"
      ]
     },
     "execution_count": 64,
     "metadata": {},
     "output_type": "execute_result"
    }
   ],
   "source": [
    "data[data['airports_nearest'] < 6000].airports_nearest.count()"
   ]
  },
  {
   "cell_type": "code",
   "execution_count": 65,
   "id": "d34c11db",
   "metadata": {},
   "outputs": [
    {
     "data": {
      "text/plain": [
       "37"
      ]
     },
     "execution_count": 65,
     "metadata": {},
     "output_type": "execute_result"
    }
   ],
   "source": [
    "data[data['parks_nearest'] < 20].parks_nearest.count()"
   ]
  },
  {
   "cell_type": "code",
   "execution_count": 66,
   "id": "6f753798",
   "metadata": {},
   "outputs": [
    {
     "data": {
      "text/plain": [
       "7"
      ]
     },
     "execution_count": 66,
     "metadata": {},
     "output_type": "execute_result"
    }
   ],
   "source": [
    "data[data['ponds_nearest'] < 20].ponds_nearest.count()"
   ]
  },
  {
   "cell_type": "code",
   "execution_count": 67,
   "id": "673e7b4a",
   "metadata": {},
   "outputs": [],
   "source": [
    "data = data[data['airports_nearest']> 6000]\n",
    "data = data[data['parks_nearest']> 20]\n",
    "data = data[data['ponds_nearest']> 20]"
   ]
  },
  {
   "cell_type": "markdown",
   "id": "be3e4b0b",
   "metadata": {},
   "source": [
    "В остальных столбцах видимых выбросов нет. Значения в пределах логически обоснованых. Сбросим индексы после обработки"
   ]
  },
  {
   "cell_type": "code",
   "execution_count": 68,
   "id": "f2ad301b",
   "metadata": {},
   "outputs": [],
   "source": [
    "data = data.reset_index(drop = True)"
   ]
  },
  {
   "cell_type": "markdown",
   "id": "1e99411d",
   "metadata": {},
   "source": [
    "## Шаг 3. Добавление столбцов"
   ]
  },
  {
   "cell_type": "markdown",
   "id": "5870d30a",
   "metadata": {},
   "source": [
    "Добавим цену за м2"
   ]
  },
  {
   "cell_type": "code",
   "execution_count": 69,
   "id": "98d60259",
   "metadata": {},
   "outputs": [],
   "source": [
    "data['square_meter_price'] =  data['last_price'] / data['total_area']"
   ]
  },
  {
   "cell_type": "markdown",
   "id": "6af17f01",
   "metadata": {},
   "source": [
    "Добавим день публикации"
   ]
  },
  {
   "cell_type": "code",
   "execution_count": 70,
   "id": "c001e6ff",
   "metadata": {},
   "outputs": [],
   "source": [
    "def week_day(time) -> int:\n",
    "    return time.weekday()\n",
    "data['week_day_exposition'] = data['first_day_exposition'].apply(week_day)"
   ]
  },
  {
   "cell_type": "markdown",
   "id": "8f3db140",
   "metadata": {},
   "source": [
    "Добавим месяц публикации"
   ]
  },
  {
   "cell_type": "code",
   "execution_count": 71,
   "id": "b597997c",
   "metadata": {},
   "outputs": [],
   "source": [
    "data['month_exposition'] = data['first_day_exposition'].dt.month"
   ]
  },
  {
   "cell_type": "markdown",
   "id": "82809084",
   "metadata": {},
   "source": [
    "Добавим год публикации"
   ]
  },
  {
   "cell_type": "code",
   "execution_count": 72,
   "id": "804707e6",
   "metadata": {},
   "outputs": [],
   "source": [
    "data['year_exposition'] = data['first_day_exposition'].dt.year"
   ]
  },
  {
   "cell_type": "markdown",
   "id": "85fc8207",
   "metadata": {},
   "source": [
    "Добавим тип этажа публикации"
   ]
  },
  {
   "cell_type": "code",
   "execution_count": 73,
   "id": "31613698",
   "metadata": {},
   "outputs": [],
   "source": [
    "i = 0\n",
    "while i < data.floor.count():\n",
    "    if data.loc[i,'floor'] == 1:\n",
    "        data.loc[i, 'floor_type'] = 'first'\n",
    "    elif data.loc[i,'floor'] == data.loc[i,'floors_total']:\n",
    "        data.loc[i, 'floor_type'] = 'last'\n",
    "    else:\n",
    "        data.loc[i, 'floor_type'] = 'else'\n",
    "    i +=1"
   ]
  },
  {
   "cell_type": "markdown",
   "id": "1ed3c823",
   "metadata": {},
   "source": [
    "Добавим расстояние в км до центра города"
   ]
  },
  {
   "cell_type": "code",
   "execution_count": 74,
   "id": "704b6997",
   "metadata": {},
   "outputs": [],
   "source": [
    "data['city_centers_nearest_km'] =  data['city_centers_nearest']/1000\n",
    "data['city_centers_nearest_km'] = data['city_centers_nearest_km'].apply(round)"
   ]
  },
  {
   "cell_type": "markdown",
   "id": "ed317765",
   "metadata": {},
   "source": [
    "**Результат:**"
   ]
  },
  {
   "cell_type": "code",
   "execution_count": 75,
   "id": "3ff5d3ca",
   "metadata": {},
   "outputs": [
    {
     "data": {
      "text/html": [
       "<div>\n",
       "<style scoped>\n",
       "    .dataframe tbody tr th:only-of-type {\n",
       "        vertical-align: middle;\n",
       "    }\n",
       "\n",
       "    .dataframe tbody tr th {\n",
       "        vertical-align: top;\n",
       "    }\n",
       "\n",
       "    .dataframe thead th {\n",
       "        text-align: right;\n",
       "    }\n",
       "</style>\n",
       "<table border=\"1\" class=\"dataframe\">\n",
       "  <thead>\n",
       "    <tr style=\"text-align: right;\">\n",
       "      <th></th>\n",
       "      <th>total_images</th>\n",
       "      <th>last_price</th>\n",
       "      <th>total_area</th>\n",
       "      <th>first_day_exposition</th>\n",
       "      <th>rooms</th>\n",
       "      <th>ceiling_height</th>\n",
       "      <th>floors_total</th>\n",
       "      <th>living_area</th>\n",
       "      <th>floor</th>\n",
       "      <th>is_apartment</th>\n",
       "      <th>...</th>\n",
       "      <th>ponds_around3000</th>\n",
       "      <th>ponds_nearest</th>\n",
       "      <th>days_exposition</th>\n",
       "      <th>last_price_category</th>\n",
       "      <th>square_meter_price</th>\n",
       "      <th>week_day_exposition</th>\n",
       "      <th>month_exposition</th>\n",
       "      <th>year_exposition</th>\n",
       "      <th>floor_type</th>\n",
       "      <th>city_centers_nearest_km</th>\n",
       "    </tr>\n",
       "  </thead>\n",
       "  <tbody>\n",
       "    <tr>\n",
       "      <th>2931</th>\n",
       "      <td>20</td>\n",
       "      <td>4050000.0</td>\n",
       "      <td>38.00</td>\n",
       "      <td>2019-02-10</td>\n",
       "      <td>1</td>\n",
       "      <td>2.60</td>\n",
       "      <td>4</td>\n",
       "      <td>20.10</td>\n",
       "      <td>3</td>\n",
       "      <td>False</td>\n",
       "      <td>...</td>\n",
       "      <td>3</td>\n",
       "      <td>531.0</td>\n",
       "      <td>23</td>\n",
       "      <td>C</td>\n",
       "      <td>106578.947368</td>\n",
       "      <td>6</td>\n",
       "      <td>2</td>\n",
       "      <td>2019</td>\n",
       "      <td>else</td>\n",
       "      <td>35</td>\n",
       "    </tr>\n",
       "    <tr>\n",
       "      <th>2192</th>\n",
       "      <td>8</td>\n",
       "      <td>3700000.0</td>\n",
       "      <td>35.00</td>\n",
       "      <td>2018-09-17</td>\n",
       "      <td>1</td>\n",
       "      <td>2.70</td>\n",
       "      <td>16</td>\n",
       "      <td>18.00</td>\n",
       "      <td>2</td>\n",
       "      <td>False</td>\n",
       "      <td>...</td>\n",
       "      <td>2</td>\n",
       "      <td>240.0</td>\n",
       "      <td>9</td>\n",
       "      <td>D</td>\n",
       "      <td>105714.285714</td>\n",
       "      <td>0</td>\n",
       "      <td>9</td>\n",
       "      <td>2018</td>\n",
       "      <td>else</td>\n",
       "      <td>14</td>\n",
       "    </tr>\n",
       "    <tr>\n",
       "      <th>1579</th>\n",
       "      <td>1</td>\n",
       "      <td>4200000.0</td>\n",
       "      <td>56.30</td>\n",
       "      <td>2016-05-13</td>\n",
       "      <td>3</td>\n",
       "      <td>2.40</td>\n",
       "      <td>5</td>\n",
       "      <td>37.00</td>\n",
       "      <td>1</td>\n",
       "      <td>False</td>\n",
       "      <td>...</td>\n",
       "      <td>1</td>\n",
       "      <td>1031.0</td>\n",
       "      <td>293</td>\n",
       "      <td>C</td>\n",
       "      <td>74600.355240</td>\n",
       "      <td>4</td>\n",
       "      <td>5</td>\n",
       "      <td>2016</td>\n",
       "      <td>first</td>\n",
       "      <td>11</td>\n",
       "    </tr>\n",
       "    <tr>\n",
       "      <th>2398</th>\n",
       "      <td>1</td>\n",
       "      <td>8346152.0</td>\n",
       "      <td>65.40</td>\n",
       "      <td>2016-05-12</td>\n",
       "      <td>2</td>\n",
       "      <td>3.10</td>\n",
       "      <td>16</td>\n",
       "      <td>33.70</td>\n",
       "      <td>4</td>\n",
       "      <td>False</td>\n",
       "      <td>...</td>\n",
       "      <td>2</td>\n",
       "      <td>454.0</td>\n",
       "      <td>54</td>\n",
       "      <td>А</td>\n",
       "      <td>127617.003058</td>\n",
       "      <td>3</td>\n",
       "      <td>5</td>\n",
       "      <td>2016</td>\n",
       "      <td>else</td>\n",
       "      <td>8</td>\n",
       "    </tr>\n",
       "    <tr>\n",
       "      <th>867</th>\n",
       "      <td>20</td>\n",
       "      <td>99000000.0</td>\n",
       "      <td>488.00</td>\n",
       "      <td>2017-04-09</td>\n",
       "      <td>5</td>\n",
       "      <td>2.95</td>\n",
       "      <td>20</td>\n",
       "      <td>216.00</td>\n",
       "      <td>17</td>\n",
       "      <td>False</td>\n",
       "      <td>...</td>\n",
       "      <td>1</td>\n",
       "      <td>368.0</td>\n",
       "      <td>351</td>\n",
       "      <td>А</td>\n",
       "      <td>202868.852459</td>\n",
       "      <td>6</td>\n",
       "      <td>4</td>\n",
       "      <td>2017</td>\n",
       "      <td>else</td>\n",
       "      <td>5</td>\n",
       "    </tr>\n",
       "    <tr>\n",
       "      <th>2806</th>\n",
       "      <td>1</td>\n",
       "      <td>10379600.0</td>\n",
       "      <td>67.40</td>\n",
       "      <td>2018-03-15</td>\n",
       "      <td>2</td>\n",
       "      <td>2.90</td>\n",
       "      <td>14</td>\n",
       "      <td>36.00</td>\n",
       "      <td>12</td>\n",
       "      <td>False</td>\n",
       "      <td>...</td>\n",
       "      <td>3</td>\n",
       "      <td>592.0</td>\n",
       "      <td>34</td>\n",
       "      <td>А</td>\n",
       "      <td>154000.000000</td>\n",
       "      <td>3</td>\n",
       "      <td>3</td>\n",
       "      <td>2018</td>\n",
       "      <td>else</td>\n",
       "      <td>6</td>\n",
       "    </tr>\n",
       "    <tr>\n",
       "      <th>1817</th>\n",
       "      <td>0</td>\n",
       "      <td>3850000.0</td>\n",
       "      <td>63.80</td>\n",
       "      <td>2015-10-23</td>\n",
       "      <td>3</td>\n",
       "      <td>2.50</td>\n",
       "      <td>9</td>\n",
       "      <td>37.20</td>\n",
       "      <td>2</td>\n",
       "      <td>False</td>\n",
       "      <td>...</td>\n",
       "      <td>1</td>\n",
       "      <td>452.0</td>\n",
       "      <td>284</td>\n",
       "      <td>D</td>\n",
       "      <td>60344.827586</td>\n",
       "      <td>4</td>\n",
       "      <td>10</td>\n",
       "      <td>2015</td>\n",
       "      <td>else</td>\n",
       "      <td>47</td>\n",
       "    </tr>\n",
       "    <tr>\n",
       "      <th>2351</th>\n",
       "      <td>5</td>\n",
       "      <td>3150000.0</td>\n",
       "      <td>30.70</td>\n",
       "      <td>2019-03-03</td>\n",
       "      <td>1</td>\n",
       "      <td>2.56</td>\n",
       "      <td>9</td>\n",
       "      <td>24.40</td>\n",
       "      <td>2</td>\n",
       "      <td>False</td>\n",
       "      <td>...</td>\n",
       "      <td>1</td>\n",
       "      <td>860.0</td>\n",
       "      <td>55</td>\n",
       "      <td>D</td>\n",
       "      <td>102605.863192</td>\n",
       "      <td>6</td>\n",
       "      <td>3</td>\n",
       "      <td>2019</td>\n",
       "      <td>else</td>\n",
       "      <td>17</td>\n",
       "    </tr>\n",
       "    <tr>\n",
       "      <th>2248</th>\n",
       "      <td>4</td>\n",
       "      <td>14073620.0</td>\n",
       "      <td>75.44</td>\n",
       "      <td>2017-11-28</td>\n",
       "      <td>2</td>\n",
       "      <td>3.04</td>\n",
       "      <td>5</td>\n",
       "      <td>53.84</td>\n",
       "      <td>2</td>\n",
       "      <td>False</td>\n",
       "      <td>...</td>\n",
       "      <td>3</td>\n",
       "      <td>409.0</td>\n",
       "      <td>90</td>\n",
       "      <td>А</td>\n",
       "      <td>186553.817603</td>\n",
       "      <td>1</td>\n",
       "      <td>11</td>\n",
       "      <td>2017</td>\n",
       "      <td>else</td>\n",
       "      <td>9</td>\n",
       "    </tr>\n",
       "    <tr>\n",
       "      <th>1637</th>\n",
       "      <td>7</td>\n",
       "      <td>8990000.0</td>\n",
       "      <td>65.90</td>\n",
       "      <td>2017-03-04</td>\n",
       "      <td>2</td>\n",
       "      <td>3.50</td>\n",
       "      <td>4</td>\n",
       "      <td>31.70</td>\n",
       "      <td>4</td>\n",
       "      <td>False</td>\n",
       "      <td>...</td>\n",
       "      <td>3</td>\n",
       "      <td>56.0</td>\n",
       "      <td>275</td>\n",
       "      <td>А</td>\n",
       "      <td>136418.816388</td>\n",
       "      <td>5</td>\n",
       "      <td>3</td>\n",
       "      <td>2017</td>\n",
       "      <td>last</td>\n",
       "      <td>2</td>\n",
       "    </tr>\n",
       "  </tbody>\n",
       "</table>\n",
       "<p>10 rows × 29 columns</p>\n",
       "</div>"
      ],
      "text/plain": [
       "      total_images  last_price  total_area first_day_exposition  rooms  \\\n",
       "2931            20   4050000.0       38.00           2019-02-10      1   \n",
       "2192             8   3700000.0       35.00           2018-09-17      1   \n",
       "1579             1   4200000.0       56.30           2016-05-13      3   \n",
       "2398             1   8346152.0       65.40           2016-05-12      2   \n",
       "867             20  99000000.0      488.00           2017-04-09      5   \n",
       "2806             1  10379600.0       67.40           2018-03-15      2   \n",
       "1817             0   3850000.0       63.80           2015-10-23      3   \n",
       "2351             5   3150000.0       30.70           2019-03-03      1   \n",
       "2248             4  14073620.0       75.44           2017-11-28      2   \n",
       "1637             7   8990000.0       65.90           2017-03-04      2   \n",
       "\n",
       "      ceiling_height  floors_total  living_area  floor  is_apartment  ...  \\\n",
       "2931            2.60             4        20.10      3         False  ...   \n",
       "2192            2.70            16        18.00      2         False  ...   \n",
       "1579            2.40             5        37.00      1         False  ...   \n",
       "2398            3.10            16        33.70      4         False  ...   \n",
       "867             2.95            20       216.00     17         False  ...   \n",
       "2806            2.90            14        36.00     12         False  ...   \n",
       "1817            2.50             9        37.20      2         False  ...   \n",
       "2351            2.56             9        24.40      2         False  ...   \n",
       "2248            3.04             5        53.84      2         False  ...   \n",
       "1637            3.50             4        31.70      4         False  ...   \n",
       "\n",
       "      ponds_around3000  ponds_nearest  days_exposition  last_price_category  \\\n",
       "2931                 3          531.0               23                    C   \n",
       "2192                 2          240.0                9                    D   \n",
       "1579                 1         1031.0              293                    C   \n",
       "2398                 2          454.0               54                    А   \n",
       "867                  1          368.0              351                    А   \n",
       "2806                 3          592.0               34                    А   \n",
       "1817                 1          452.0              284                    D   \n",
       "2351                 1          860.0               55                    D   \n",
       "2248                 3          409.0               90                    А   \n",
       "1637                 3           56.0              275                    А   \n",
       "\n",
       "     square_meter_price  week_day_exposition  month_exposition  \\\n",
       "2931      106578.947368                    6                 2   \n",
       "2192      105714.285714                    0                 9   \n",
       "1579       74600.355240                    4                 5   \n",
       "2398      127617.003058                    3                 5   \n",
       "867       202868.852459                    6                 4   \n",
       "2806      154000.000000                    3                 3   \n",
       "1817       60344.827586                    4                10   \n",
       "2351      102605.863192                    6                 3   \n",
       "2248      186553.817603                    1                11   \n",
       "1637      136418.816388                    5                 3   \n",
       "\n",
       "      year_exposition  floor_type  city_centers_nearest_km  \n",
       "2931             2019        else                       35  \n",
       "2192             2018        else                       14  \n",
       "1579             2016       first                       11  \n",
       "2398             2016        else                        8  \n",
       "867              2017        else                        5  \n",
       "2806             2018        else                        6  \n",
       "1817             2015        else                       47  \n",
       "2351             2019        else                       17  \n",
       "2248             2017        else                        9  \n",
       "1637             2017        last                        2  \n",
       "\n",
       "[10 rows x 29 columns]"
      ]
     },
     "execution_count": 75,
     "metadata": {},
     "output_type": "execute_result"
    }
   ],
   "source": [
    "data.sample(10)"
   ]
  },
  {
   "cell_type": "markdown",
   "id": "ac4d481e",
   "metadata": {},
   "source": [
    "## Шаг 4. Исследовательский анализ данных"
   ]
  },
  {
   "cell_type": "markdown",
   "id": "e99cd2b4",
   "metadata": {},
   "source": [
    "### 4.1. Гистограммы"
   ]
  },
  {
   "cell_type": "markdown",
   "id": "e9586a82",
   "metadata": {},
   "source": [
    "#### 4.1.1 Гистограмма общей площади"
   ]
  },
  {
   "cell_type": "code",
   "execution_count": 76,
   "id": "70859e4d",
   "metadata": {},
   "outputs": [
    {
     "data": {
      "text/plain": [
       "count    3099.000000\n",
       "mean       66.983846\n",
       "std        40.697646\n",
       "min        19.000000\n",
       "25%        42.000000\n",
       "50%        56.850000\n",
       "75%        78.500000\n",
       "max       488.000000\n",
       "Name: total_area, dtype: float64"
      ]
     },
     "execution_count": 76,
     "metadata": {},
     "output_type": "execute_result"
    },
    {
     "data": {
      "image/png": "[encoded data removed]",
      "text/plain": [
       "<Figure size 432x288 with 1 Axes>"
      ]
     },
     "metadata": {
      "needs_background": "light"
     },
     "output_type": "display_data"
    }
   ],
   "source": [
    "data['total_area'].hist(bins= 100, range= (0,500), grid= True)\n",
    "data['total_area'].describe()"
   ]
  },
  {
   "cell_type": "code",
   "execution_count": 77,
   "id": "0d0803d7",
   "metadata": {},
   "outputs": [
    {
     "data": {
      "text/plain": [
       "<AxesSubplot:>"
      ]
     },
     "execution_count": 77,
     "metadata": {},
     "output_type": "execute_result"
    },
    {
     "data": {
      "image/png": "[encoded data removed]",
      "text/plain": [
       "<Figure size 432x288 with 1 Axes>"
      ]
     },
     "metadata": {
      "needs_background": "light"
     },
     "output_type": "display_data"
    }
   ],
   "source": [
    "data['total_area'].hist(bins= 100, range= (0,120), grid= True)"
   ]
  },
  {
   "cell_type": "markdown",
   "id": "27aceec5",
   "metadata": {},
   "source": [
    "**Вывод:** Площадь объектов недвижимости находится в диапазоне от 9 до ~630м2. Большинство объектов недвижимости (межквартильный интервал) имеют площадь от 40 до 71 м2. Средняя площадь - 61 м2. С оговорками можно сказать, что гистограмма имеет характер нормального распределения с отклонением в сторону квартир площадью 30-60 м2, что объясняется востребованостью таких квартир"
   ]
  },
  {
   "cell_type": "markdown",
   "id": "30429f20",
   "metadata": {},
   "source": [
    "#### 4.1.2 Гистограмма жилой площади"
   ]
  },
  {
   "cell_type": "code",
   "execution_count": 78,
   "id": "0a1ae408",
   "metadata": {},
   "outputs": [
    {
     "data": {
      "text/plain": [
       "count    3099.000000\n",
       "mean       37.943172\n",
       "std        26.990794\n",
       "min         9.100000\n",
       "25%        19.400000\n",
       "50%        31.500000\n",
       "75%        46.725000\n",
       "max       371.000000\n",
       "Name: living_area, dtype: float64"
      ]
     },
     "execution_count": 78,
     "metadata": {},
     "output_type": "execute_result"
    },
    {
     "data": {
      "image/png": "[encoded data removed]",
      "text/plain": [
       "<Figure size 432x288 with 1 Axes>"
      ]
     },
     "metadata": {
      "needs_background": "light"
     },
     "output_type": "display_data"
    }
   ],
   "source": [
    "data['living_area'].hist(bins= 100, range= (0,150), grid= True)\n",
    "data['living_area'].describe()"
   ]
  },
  {
   "cell_type": "markdown",
   "id": "4580b9a8",
   "metadata": {},
   "source": [
    "**Вывод:** Жилая площадь объектов недвижимости находится в диапазоне от 9 до ~140м2. Большое количество около минимального значения объясняется тем, что в комнатах и студиях нет кухни (практически вся площадь - жилая).Большинство объектов недвижимости (межквартильный интервал) имеют жилую площадь от 18 до 42,8 м2. Средняя жилая площадь - 34 м2. С оговорками можно сказать, что гистограмма имеет характер нормального распределения с отклонением в сторону квартир с жилой площадью 18-38 м2, что объясняется востребованостью таких квартир"
   ]
  },
  {
   "cell_type": "markdown",
   "id": "376fdf2a",
   "metadata": {},
   "source": [
    "#### 4.1.2 Гистограмма площади кухни"
   ]
  },
  {
   "cell_type": "code",
   "execution_count": 79,
   "id": "ba2815aa",
   "metadata": {},
   "outputs": [
    {
     "data": {
      "text/plain": [
       "10.00    177\n",
       "7.00     142\n",
       "8.00     141\n",
       "6.00     128\n",
       "9.00     123\n",
       "        ... \n",
       "5.23       1\n",
       "16.66      1\n",
       "19.35      1\n",
       "16.26      1\n",
       "17.87      1\n",
       "Name: kitchen_area, Length: 382, dtype: int64"
      ]
     },
     "execution_count": 79,
     "metadata": {},
     "output_type": "execute_result"
    },
    {
     "data": {
      "image/png": "[encoded data removed]",
      "text/plain": [
       "<Figure size 432x288 with 1 Axes>"
      ]
     },
     "metadata": {
      "needs_background": "light"
     },
     "output_type": "display_data"
    }
   ],
   "source": [
    "data['kitchen_area'].hist(bins= 100, range= (0,50), grid= True)\n",
    "data['kitchen_area'].describe()\n",
    "data['kitchen_area'].value_counts()"
   ]
  },
  {
   "cell_type": "markdown",
   "id": "f920938d",
   "metadata": {},
   "source": [
    "**Вывод:** Площадь кухни объектов недвижимости находится в диапазоне от 4 до ~58м2. Большое количество около нуля объясняется тем, что в комнатах и студиях нет кухни.Большинство объектов недвижимости (межквартильный интервал) имеют площадь кухни от 7 до 13 м2. Наблюдается увеличение площади кухни до 45 у квартир элитного сегмента. Средняя площадь кухни - 11,5 м2. В целом, по частоте некоторых значений можно утверждать, что самыми распространенными являются кухни площадью от 6 до 10 м2"
   ]
  },
  {
   "cell_type": "markdown",
   "id": "c7981c8d",
   "metadata": {},
   "source": [
    "#### 4.1.3 Гистограмма цены объекта"
   ]
  },
  {
   "cell_type": "code",
   "execution_count": 80,
   "id": "c797bf94",
   "metadata": {},
   "outputs": [
    {
     "name": "stdout",
     "output_type": "stream",
     "text": [
      "count    3.099000e+03\n",
      "mean     8.792027e+06\n",
      "std      1.291457e+07\n",
      "min      2.100000e+06\n",
      "25%      4.200000e+06\n",
      "50%      5.850000e+06\n",
      "75%      8.982500e+06\n",
      "max      3.300000e+08\n",
      "Name: last_price, dtype: float64\n"
     ]
    },
    {
     "data": {
      "text/plain": [
       "6500000.0     40\n",
       "4500000.0     37\n",
       "4100000.0     36\n",
       "4200000.0     36\n",
       "4300000.0     35\n",
       "              ..\n",
       "3515000.0      1\n",
       "20632000.0     1\n",
       "5880000.0      1\n",
       "9980833.0      1\n",
       "6151120.0      1\n",
       "Name: last_price, Length: 891, dtype: int64"
      ]
     },
     "execution_count": 80,
     "metadata": {},
     "output_type": "execute_result"
    },
    {
     "data": {
      "image/png": "[encoded data removed]",
      "text/plain": [
       "<Figure size 432x288 with 1 Axes>"
      ]
     },
     "metadata": {
      "needs_background": "light"
     },
     "output_type": "display_data"
    }
   ],
   "source": [
    "print(data['last_price'].describe())\n",
    "data['last_price'].hist(bins= 100, range= (1e+04,0.5e+08), grid= True)\n",
    "data['last_price'].value_counts()"
   ]
  },
  {
   "cell_type": "markdown",
   "id": "fed49088",
   "metadata": {},
   "source": [
    "**Вывод:** Цена объектов недвижимости находится в диапазоне от 2 vky  до . Большое количество около нуля объясняется студиями и отдельными комнатами. Большинство объектов недвижимости (межквартильный интервал) имеют количество комнат от 1 до 3 В целом распределение комнат от 1 до 3 можно считать нормальным."
   ]
  },
  {
   "cell_type": "markdown",
   "id": "cb498bd4",
   "metadata": {},
   "source": [
    "#### 4.1.4 Гистограмма количества комнат"
   ]
  },
  {
   "cell_type": "code",
   "execution_count": 81,
   "id": "e2abfd4b",
   "metadata": {},
   "outputs": [
    {
     "name": "stdout",
     "output_type": "stream",
     "text": [
      "count    3099.000000\n",
      "mean        2.206841\n",
      "std         1.161077\n",
      "min         0.000000\n",
      "25%         1.000000\n",
      "50%         2.000000\n",
      "75%         3.000000\n",
      "max        14.000000\n",
      "Name: rooms, dtype: float64\n"
     ]
    },
    {
     "data": {
      "text/plain": [
       "1     974\n",
       "2     965\n",
       "3     841\n",
       "4     201\n",
       "5      61\n",
       "6      26\n",
       "7      13\n",
       "0      12\n",
       "8       4\n",
       "10      1\n",
       "14      1\n",
       "Name: rooms, dtype: int64"
      ]
     },
     "execution_count": 81,
     "metadata": {},
     "output_type": "execute_result"
    },
    {
     "data": {
      "image/png": "[encoded data removed]",
      "text/plain": [
       "<Figure size 432x288 with 1 Axes>"
      ]
     },
     "metadata": {
      "needs_background": "light"
     },
     "output_type": "display_data"
    }
   ],
   "source": [
    "print(data['rooms'].describe())\n",
    "data['rooms'].hist(bins= 19, range= (0,19), grid= True)\n",
    "data['rooms'].value_counts()"
   ]
  },
  {
   "cell_type": "markdown",
   "id": "3e6617de",
   "metadata": {},
   "source": [
    "**Вывод:** Количество комнат объектов недвижимости находится в диапазоне от 0 до 19. Значения около нуля объясняются студиями и отдельными комнатами. Большинство объектов недвижимости (межквартильный интервал) имеют количество комнат от 1 до 3 В целом распределение комнат на участке от 1 до 3 можно считать нормальным."
   ]
  },
  {
   "cell_type": "markdown",
   "id": "227755f2",
   "metadata": {},
   "source": [
    "#### 4.1.5 Гистограмма высоты потолков"
   ]
  },
  {
   "cell_type": "code",
   "execution_count": 82,
   "id": "5ca07b79",
   "metadata": {},
   "outputs": [
    {
     "name": "stdout",
     "output_type": "stream",
     "text": [
      "count    3099.000000\n",
      "mean        2.786021\n",
      "std         0.323452\n",
      "min         2.300000\n",
      "25%         2.560000\n",
      "50%         2.700000\n",
      "75%         2.900000\n",
      "max        10.000000\n",
      "Name: ceiling_height, dtype: float64\n"
     ]
    },
    {
     "data": {
      "text/plain": [
       "2.90     484\n",
       "2.60     379\n",
       "2.50     334\n",
       "2.56     237\n",
       "2.66     231\n",
       "        ... \n",
       "2.92       1\n",
       "2.79       1\n",
       "3.93       1\n",
       "2.99       1\n",
       "10.00      1\n",
       "Name: ceiling_height, Length: 113, dtype: int64"
      ]
     },
     "execution_count": 82,
     "metadata": {},
     "output_type": "execute_result"
    },
    {
     "data": {
      "image/png": "[encoded data removed]",
      "text/plain": [
       "<Figure size 432x288 with 1 Axes>"
      ]
     },
     "metadata": {
      "needs_background": "light"
     },
     "output_type": "display_data"
    }
   ],
   "source": [
    "print(data['ceiling_height'].describe())\n",
    "data['ceiling_height'].hist(bins= 50, range= (0,5), grid= True)\n",
    "data['ceiling_height'].value_counts()"
   ]
  },
  {
   "cell_type": "markdown",
   "id": "aca57296",
   "metadata": {},
   "source": [
    "**Вывод:** Высота потолков объектов недвижимости находится в диапазоне от 2 до 10. Большинство объектов недвижимости (межквартильный интервал) имеют высоту потолков от 2.5 до 3.5 В целом распределение комнат на участке 2.5 до 3.5 можно считать нормальным. Большое количество потолков выотой 2,5 и 2,7м объяснятется массовым строительством жил плозади с данной высотой потолков в прошлом "
   ]
  },
  {
   "cell_type": "markdown",
   "id": "04eab015",
   "metadata": {},
   "source": [
    "#### 4.1.6 Гистограмма этажа квартиры"
   ]
  },
  {
   "cell_type": "code",
   "execution_count": 83,
   "id": "697e60eb",
   "metadata": {},
   "outputs": [
    {
     "name": "stdout",
     "output_type": "stream",
     "text": [
      "count    3099.000000\n",
      "mean        5.295257\n",
      "std         4.068603\n",
      "min         1.000000\n",
      "25%         2.000000\n",
      "50%         4.000000\n",
      "75%         7.000000\n",
      "max        26.000000\n",
      "Name: floor, dtype: float64\n"
     ]
    },
    {
     "data": {
      "text/plain": [
       "2     483\n",
       "4     425\n",
       "3     419\n",
       "5     390\n",
       "1     345\n",
       "6     189\n",
       "7     163\n",
       "8     144\n",
       "9     123\n",
       "10     87\n",
       "11     66\n",
       "12     52\n",
       "13     42\n",
       "14     41\n",
       "15     32\n",
       "16     22\n",
       "17     19\n",
       "18     15\n",
       "20     11\n",
       "22      8\n",
       "19      7\n",
       "21      6\n",
       "23      5\n",
       "24      3\n",
       "26      1\n",
       "25      1\n",
       "Name: floor, dtype: int64"
      ]
     },
     "execution_count": 83,
     "metadata": {},
     "output_type": "execute_result"
    },
    {
     "data": {
      "image/png": "[encoded data removed]",
      "text/plain": [
       "<Figure size 432x288 with 1 Axes>"
      ]
     },
     "metadata": {
      "needs_background": "light"
     },
     "output_type": "display_data"
    }
   ],
   "source": [
    "print(data['floor'].describe())\n",
    "data['floor'].hist(bins= 100, range= (0,35), grid= True)\n",
    "data['floor'].value_counts()"
   ]
  },
  {
   "cell_type": "markdown",
   "id": "5a8c6cd0",
   "metadata": {},
   "source": [
    "**Вывод:** Этаж квартиры объектов недвижимости находится в диапазоне от 1 до 32. Большинство объектов недвижимости (межквартильный интервал) находится на этаже от 3 до 8-ого. Самые частые - от 2-ого до 5-ого"
   ]
  },
  {
   "cell_type": "markdown",
   "id": "658efdab",
   "metadata": {},
   "source": [
    "#### 4.1.7 Гистограмма типа этажа квартиры"
   ]
  },
  {
   "cell_type": "code",
   "execution_count": 84,
   "id": "14226f18",
   "metadata": {},
   "outputs": [
    {
     "name": "stdout",
     "output_type": "stream",
     "text": [
      "count     3099\n",
      "unique       3\n",
      "top       else\n",
      "freq      2292\n",
      "Name: floor_type, dtype: object\n"
     ]
    },
    {
     "data": {
      "text/plain": [
       "else     2292\n",
       "last      462\n",
       "first     345\n",
       "Name: floor_type, dtype: int64"
      ]
     },
     "execution_count": 84,
     "metadata": {},
     "output_type": "execute_result"
    },
    {
     "data": {
      "image/png": "[encoded data removed]",
      "text/plain": [
       "<Figure size 432x288 with 1 Axes>"
      ]
     },
     "metadata": {
      "needs_background": "light"
     },
     "output_type": "display_data"
    }
   ],
   "source": [
    "print(data['floor_type'].describe())\n",
    "data['floor_type'].hist(bins= 19, range= (0,3), grid= True)\n",
    "data['floor_type'].value_counts()"
   ]
  },
  {
   "cell_type": "markdown",
   "id": "63f1136e",
   "metadata": {},
   "source": [
    "**Вывод:** Естестественно большое всего объявлений ни с первого и последнего этажа"
   ]
  },
  {
   "cell_type": "markdown",
   "id": "7042c2ff",
   "metadata": {},
   "source": [
    "#### 4.1.8 Гистограмма общего количества этажей в доме"
   ]
  },
  {
   "cell_type": "code",
   "execution_count": 85,
   "id": "d3b75215",
   "metadata": {},
   "outputs": [
    {
     "name": "stdout",
     "output_type": "stream",
     "text": [
      "count    3099.000000\n",
      "mean        9.434334\n",
      "std         5.407219\n",
      "min         2.000000\n",
      "25%         5.000000\n",
      "50%         9.000000\n",
      "75%        12.000000\n",
      "max        28.000000\n",
      "Name: floors_total, dtype: float64\n"
     ]
    },
    {
     "data": {
      "text/plain": [
       "5     742\n",
       "9     397\n",
       "12    231\n",
       "6     227\n",
       "4     220\n",
       "10    217\n",
       "16    174\n",
       "7     130\n",
       "3     104\n",
       "17     96\n",
       "14     83\n",
       "8      82\n",
       "13     60\n",
       "25     57\n",
       "20     49\n",
       "15     42\n",
       "18     38\n",
       "24     34\n",
       "11     21\n",
       "19     21\n",
       "22     17\n",
       "2      16\n",
       "23     16\n",
       "21     12\n",
       "26     10\n",
       "28      2\n",
       "27      1\n",
       "Name: floors_total, dtype: int64"
      ]
     },
     "execution_count": 85,
     "metadata": {},
     "output_type": "execute_result"
    },
    {
     "data": {
      "image/png": "[encoded data removed]",
      "text/plain": [
       "<Figure size 432x288 with 1 Axes>"
      ]
     },
     "metadata": {
      "needs_background": "light"
     },
     "output_type": "display_data"
    }
   ],
   "source": [
    "print(data['floors_total'].describe())\n",
    "data['floors_total'].hist(bins= 19, range= (0,33), grid= True)\n",
    "data['floors_total'].value_counts()"
   ]
  },
  {
   "cell_type": "markdown",
   "id": "342a9745",
   "metadata": {},
   "source": [
    "**Вывод:** Общее количество этажей объектов недвижимости находится в диапазоне от 1 до 33. Большинство объектов недвижимости (межквартильный интервал) имеет количество этажей от 5 до 16-ого. Самые частые - 5-ти, 9-ти, 6-ти и 12-ти этажки"
   ]
  },
  {
   "cell_type": "markdown",
   "id": "00e60b2c",
   "metadata": {},
   "source": [
    "#### 4.1.9 Гистограмма расстояния до центра города в метрах"
   ]
  },
  {
   "cell_type": "code",
   "execution_count": 86,
   "id": "5a1a89f7",
   "metadata": {},
   "outputs": [
    {
     "name": "stdout",
     "output_type": "stream",
     "text": [
      "count     3099.000000\n",
      "mean     12455.570184\n",
      "std       8900.659016\n",
      "min        208.000000\n",
      "25%       6031.000000\n",
      "50%      11544.000000\n",
      "75%      14949.000000\n",
      "max      49984.000000\n",
      "Name: city_centers_nearest, dtype: float64\n"
     ]
    },
    {
     "data": {
      "text/plain": [
       "8460.0     27\n",
       "8434.0     17\n",
       "10720.0    17\n",
       "7442.0     14\n",
       "8370.0     13\n",
       "           ..\n",
       "3277.0      1\n",
       "8427.0      1\n",
       "2231.0      1\n",
       "9748.0      1\n",
       "11602.0     1\n",
       "Name: city_centers_nearest, Length: 1932, dtype: int64"
      ]
     },
     "execution_count": 86,
     "metadata": {},
     "output_type": "execute_result"
    },
    {
     "data": {
      "image/png": "[encoded data removed]",
      "text/plain": [
       "<Figure size 432x288 with 1 Axes>"
      ]
     },
     "metadata": {
      "needs_background": "light"
     },
     "output_type": "display_data"
    }
   ],
   "source": [
    "print(data['city_centers_nearest'].describe())\n",
    "data['city_centers_nearest'].hist(bins= 19, range= (0,50000), grid= True)\n",
    "data['city_centers_nearest'].value_counts()"
   ]
  },
  {
   "cell_type": "markdown",
   "id": "8756af1d",
   "metadata": {},
   "source": [
    "**Вывод:** Расстояния до центра города объектов недвижимости находится в диапазоне от 181м до 50км. Большинство объектов недвижимости (межквартильный интервал) находится на расстоянии от центра города от 9,6 км до 16 км. Распределение на данном интервале можно считать нормальным."
   ]
  },
  {
   "cell_type": "markdown",
   "id": "cf55ca78",
   "metadata": {},
   "source": [
    "#### 4.1.10 Гистограмма расстояния до расстояние до ближайшего аэропорта"
   ]
  },
  {
   "cell_type": "code",
   "execution_count": 87,
   "id": "eb44786b",
   "metadata": {},
   "outputs": [
    {
     "name": "stdout",
     "output_type": "stream",
     "text": [
      "count     3099.000000\n",
      "mean     27819.377218\n",
      "std      11451.673243\n",
      "min       8255.000000\n",
      "25%      19639.500000\n",
      "50%      26398.000000\n",
      "75%      35124.000000\n",
      "max      68258.000000\n",
      "Name: airports_nearest, dtype: float64\n"
     ]
    },
    {
     "data": {
      "text/plain": [
       "37434.0    27\n",
       "37407.0    17\n",
       "39946.0    17\n",
       "27102.0    14\n",
       "47303.0    14\n",
       "           ..\n",
       "32670.0     1\n",
       "25490.0     1\n",
       "9522.0      1\n",
       "29453.0     1\n",
       "11751.0     1\n",
       "Name: airports_nearest, Length: 1945, dtype: int64"
      ]
     },
     "execution_count": 87,
     "metadata": {},
     "output_type": "execute_result"
    },
    {
     "data": {
      "image/png": "[encoded data removed]",
      "text/plain": [
       "<Figure size 432x288 with 1 Axes>"
      ]
     },
     "metadata": {
      "needs_background": "light"
     },
     "output_type": "display_data"
    }
   ],
   "source": [
    "print(data['airports_nearest'].describe())\n",
    "data['airports_nearest'].hist(bins= 100, range= (0,60000), grid= True)\n",
    "data['airports_nearest'].value_counts()"
   ]
  },
  {
   "cell_type": "markdown",
   "id": "d6bd92ee",
   "metadata": {},
   "source": [
    "**Вывод:** От аэропорта до объектов недвижимости находится в диапазоне от 9 до 68км. Большинство объектов недвижимости (межквартильный интервал) находится на расстоянии от аэропорта до объекта недвижимости от 19,6 км до 35 км. "
   ]
  },
  {
   "cell_type": "markdown",
   "id": "d19aca00",
   "metadata": {},
   "source": [
    "#### 4.1.11 Гистограмма расстояния до расстояние до ближайшего парка"
   ]
  },
  {
   "cell_type": "code",
   "execution_count": 88,
   "id": "f08bcc29",
   "metadata": {},
   "outputs": [
    {
     "name": "stdout",
     "output_type": "stream",
     "text": [
      "count    3099.000000\n",
      "mean      509.493062\n",
      "std       387.374491\n",
      "min        21.000000\n",
      "25%       288.000000\n",
      "50%       442.000000\n",
      "75%       616.000000\n",
      "max      3190.000000\n",
      "Name: parks_nearest, dtype: float64\n"
     ]
    },
    {
     "data": {
      "text/plain": [
       "441.0     32\n",
       "456.0     23\n",
       "164.0     19\n",
       "392.0     18\n",
       "2102.0    17\n",
       "          ..\n",
       "913.0      1\n",
       "1942.0     1\n",
       "961.0      1\n",
       "204.0      1\n",
       "140.0      1\n",
       "Name: parks_nearest, Length: 806, dtype: int64"
      ]
     },
     "execution_count": 88,
     "metadata": {},
     "output_type": "execute_result"
    },
    {
     "data": {
      "image/png": "[encoded data removed]",
      "text/plain": [
       "<Figure size 432x288 with 1 Axes>"
      ]
     },
     "metadata": {
      "needs_background": "light"
     },
     "output_type": "display_data"
    }
   ],
   "source": [
    "print(data['parks_nearest'].describe())\n",
    "data['parks_nearest'].hist(bins= 19, range= (0,3000), grid= True)\n",
    "data['parks_nearest'].value_counts()"
   ]
  },
  {
   "cell_type": "markdown",
   "id": "98e5d888",
   "metadata": {},
   "source": [
    "**Вывод:** От ближайшего парка до объектов недвижимости находится в диапазоне от 21м до 3км. Большинство объектов недвижимости (межквартильный интервал) находится на расстоянии от парка до объекта недвижимости от 300 м до 600 м. Такие значения объясняются тем что скорее всего, если до парка больше 1,5 км - считается что парка по близости нет"
   ]
  },
  {
   "cell_type": "markdown",
   "id": "e295dbe2",
   "metadata": {},
   "source": [
    "#### 4.1.11 Гистограмма расстояния до расстояние до ближайшего водоема"
   ]
  },
  {
   "cell_type": "code",
   "execution_count": 89,
   "id": "af58992e",
   "metadata": {},
   "outputs": [
    {
     "name": "stdout",
     "output_type": "stream",
     "text": [
      "count    3099.000000\n",
      "mean      503.795741\n",
      "std       273.701760\n",
      "min        22.000000\n",
      "25%       283.000000\n",
      "50%       478.000000\n",
      "75%       715.000000\n",
      "max      1344.000000\n",
      "Name: ponds_nearest, dtype: float64\n"
     ]
    },
    {
     "data": {
      "text/plain": [
       "427.0    28\n",
       "454.0    23\n",
       "473.0    17\n",
       "802.0    17\n",
       "303.0    17\n",
       "         ..\n",
       "493.0     1\n",
       "828.0     1\n",
       "57.0      1\n",
       "42.0      1\n",
       "519.0     1\n",
       "Name: ponds_nearest, Length: 892, dtype: int64"
      ]
     },
     "execution_count": 89,
     "metadata": {},
     "output_type": "execute_result"
    },
    {
     "data": {
      "image/png": "[encoded data removed]",
      "text/plain": [
       "<Figure size 432x288 with 1 Axes>"
      ]
     },
     "metadata": {
      "needs_background": "light"
     },
     "output_type": "display_data"
    }
   ],
   "source": [
    "print(data['ponds_nearest'].describe())\n",
    "data['ponds_nearest'].hist(bins= 19, range= (0,2000), grid= True)\n",
    "data['ponds_nearest'].value_counts()"
   ]
  },
  {
   "cell_type": "markdown",
   "id": "c7cd8257",
   "metadata": {},
   "source": [
    "**Вывод:** От ближайшего водоема до объектов недвижимости находится в диапазоне от 22м до 1,4 км. Большинство объектов недвижимости (межквартильный интервал) находится на расстоянии от водоема до объекта недвижимости от 276 м до 712 м. Такие значения объясняются тем что скорее всего, если до водоема больше 1,25 км - считается что водоема по близости нет"
   ]
  },
  {
   "cell_type": "markdown",
   "id": "65d64d2b",
   "metadata": {},
   "source": [
    "### 4.2. Анализ"
   ]
  },
  {
   "cell_type": "markdown",
   "id": "7d28dd83",
   "metadata": {},
   "source": [
    "### 4.2.1 Как быстро продавались квартиры ?"
   ]
  },
  {
   "cell_type": "code",
   "execution_count": 95,
   "id": "3f622f6e",
   "metadata": {},
   "outputs": [
    {
     "data": {
      "text/plain": [
       "mean      111.276806\n",
       "median     89.000000\n",
       "Name: days_exposition, dtype: float64"
      ]
     },
     "execution_count": 95,
     "metadata": {},
     "output_type": "execute_result"
    },
    {
     "data": {
      "image/png": "[encoded data removed]",
      "text/plain": [
       "<Figure size 432x288 with 1 Axes>"
      ]
     },
     "metadata": {
      "needs_background": "light"
     },
     "output_type": "display_data"
    }
   ],
   "source": [
    "data.days_exposition.hist(bins= 50, range= (0,360), grid= True)\n",
    "data.days_exposition.agg({'mean', 'median'})"
   ]
  },
  {
   "cell_type": "code",
   "execution_count": 91,
   "id": "ecc62976",
   "metadata": {},
   "outputs": [
    {
     "data": {
      "text/plain": [
       "count    3099.000000\n",
       "mean      108.932236\n",
       "std        88.785598\n",
       "min         4.000000\n",
       "25%        38.000000\n",
       "50%        85.000000\n",
       "75%       160.500000\n",
       "max       359.000000\n",
       "Name: days_exposition, dtype: float64"
      ]
     },
     "execution_count": 91,
     "metadata": {},
     "output_type": "execute_result"
    }
   ],
   "source": [
    "data.days_exposition.describe()"
   ]
  },
  {
   "cell_type": "markdown",
   "id": "49bbcfcb",
   "metadata": {},
   "source": [
    "**Вывод:** Не"
   ]
  },
  {
   "cell_type": "markdown",
   "id": "662d8101",
   "metadata": {},
   "source": [
    "### 4.2.2 Какие факторы больше всего влияют на общую (полную) стоимость объекта? "
   ]
  },
  {
   "cell_type": "code",
   "execution_count": null,
   "id": "b7db53c6",
   "metadata": {},
   "outputs": [],
   "source": []
  },
  {
   "cell_type": "markdown",
   "id": "d7aa2e11",
   "metadata": {},
   "source": [
    "**Чек-лист готовности проекта**\n",
    "\n",
    "Поставьте 'x' в выполненных пунктах. Далее нажмите Shift+Enter."
   ]
  },
  {
   "cell_type": "markdown",
   "id": "2e270819",
   "metadata": {},
   "source": [
    "- [x]  открыт файл\n",
    "- [x]  файлы изучены (выведены первые строки, метод `info()`, гистограммы и т.д.)\n",
    "- [x]  определены пропущенные значения\n",
    "- [x]  заполнены пропущенные значения там, где это возможно\n",
    "- [x]  есть пояснение, какие пропущенные значения обнаружены\n",
    "- [x]  изменены типы данных\n",
    "- [x]  есть пояснение, в каких столбцах изменены типы и почему\n",
    "- [x]  устранены неявные дубликаты в названиях населённых пунктов\n",
    "- [x]  устранены редкие и выбивающиеся значения (аномалии) во всех столбцах\n",
    "- [x]  посчитано и добавлено в таблицу: цена одного квадратного метра\n",
    "- [x]  посчитано и добавлено в таблицу: день публикации объявления (0 - понедельник, 1 - вторник и т.д.)\n",
    "- [x]  посчитано и добавлено в таблицу: месяц публикации объявления\n",
    "- [x]  посчитано и добавлено в таблицу: год публикации объявления\n",
    "- [x]  посчитано и добавлено в таблицу: тип этажа квартиры (значения — «первый», «последний», «другой»)\n",
    "- [x]  посчитано и добавлено в таблицу: расстояние в км до центра города\n",
    "- [x]  изучены и описаны следующие параметры:\n",
    "        - общая площадь;\n",
    "        - жилая площадь;\n",
    "        - площадь кухни;\n",
    "        - цена объекта;\n",
    "        - количество комнат;\n",
    "        - высота потолков;\n",
    "        - этаж квартиры;\n",
    "        - тип этажа квартиры («первый», «последний», «другой»);\n",
    "        - общее количество этажей в доме;\n",
    "        - расстояние до центра города в метрах;\n",
    "        - расстояние до ближайшего аэропорта;\n",
    "        - расстояние до ближайшего парка;\n",
    "        - день и месяц публикации объявления\n",
    "- [x]  построены гистограммы для каждого параметра\n",
    "- [ ]  выполнено задание: \"Изучите, как быстро продавались квартиры (столбец days_exposition). Этот параметр показывает, сколько дней «висело» каждое объявление.\n",
    "    - Постройте гистограмму.\n",
    "    - Посчитайте среднее и медиану.\n",
    "    - В ячейке типа markdown опишите, сколько обычно занимает продажа. Какие продажи можно считать быстрыми, а какие — необычно долгими?\"\n",
    "- [ ]  выполнено задание: \"Какие факторы больше всего влияют на общую (полную) стоимость объекта? Постройте графики, которые покажут зависимость цены от указанных ниже параметров. Для подготовки данных перед визуализацией вы можете использовать сводные таблицы.\"\n",
    "        - общей площади;\n",
    "        - жилой площади;\n",
    "        - площади кухни;\n",
    "        - количество комнат;\n",
    "        - типа этажа, на котором расположена квартира (первый, последний, другой);\n",
    "        - даты размещения (день недели, месяц, год);\n",
    "- [ ]  выполнено задание: \"Посчитайте среднюю цену одного квадратного метра в 10 населённых пунктах с наибольшим числом объявлений. Выделите населённые пункты с самой высокой и низкой стоимостью квадратного метра. Эти данные можно найти по имени в столбце `locality_name`.\"\n",
    "- [ ]  выполнено задание: \"Ранее вы посчитали расстояние до центра в километрах. Теперь выделите квартиры в Санкт-Петербурге с помощью столбца `locality_name` и вычислите среднюю цену каждого километра. Опишите, как стоимость объектов зависит от расстояния до центра города.\"\n",
    "- [ ]  в каждом этапе есть промежуточные выводы\n",
    "- [ ]  есть общий вывод"
   ]
  },
  {
   "cell_type": "code",
   "execution_count": null,
   "id": "5ee5b9df",
   "metadata": {},
   "outputs": [],
   "source": []
  }
 ],
 "metadata": {
  "kernelspec": {
   "display_name": "Python 3 (ipykernel)",
   "language": "python",
   "name": "python3"
  },
  "language_info": {
   "codemirror_mode": {
    "name": "ipython",
    "version": 3
   },
   "file_extension": ".py",
   "mimetype": "text/x-python",
   "name": "python",
   "nbconvert_exporter": "python",
   "pygments_lexer": "ipython3",
   "version": "3.9.12"
  }
 },
 "nbformat": 4,
 "nbformat_minor": 5
}
