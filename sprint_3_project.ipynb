{
 "cells": [
  {
   "cell_type": "markdown",
   "id": "862daca0",
   "metadata": {},
   "source": [
    "<div class=\"alert alert-success\">\n",
    "<font size=\"4\"><b>Комментарий ревьюера</b></font>\n",
    "    <br /> \n",
    "    <font size=\"3\", color = \"black\">\n",
    "<br />\n",
    "    Привет, Дмитрий :) Спасибо, что прислал задание :) Меня зовут Ринат Хисамов и я буду проверять твой проект. Предлагаю обращаться друг к другу на ты. Так нам будет гораздо проще и удобней общаться\n",
    "\n",
    "Мои комментарии обозначены пометкой <b>Комментарий ревьюера</b>. Далее в файле сможешь найти их в похожих ячейках (если фон комментария зелёный — всё сделано правильно (✔️), рекомендации таким же цветом. Отдельным цветом — блок ссылок (примеры ниже, 🍕). Оранжевым или светло желтым рекомендации, которые, хоть и не обязательны, но точно сделают ревью лучше. (⚠️); <u> красный комментарий</u>: код, график или вывод стоит переделать (❌)). \n",
    "\n",
    "Не удаляй все эти комментарии и постарайся учесть их в ходе выполнения данного проекта. \n",
    "Будет замечательно, если добавишь свои комментарии и пояснения✍\n",
    "        \n",
    "Поехали 🚀\n",
    "    <br />\n",
    "    </font>\n",
    "\n",
    "</div>"
   ]
  },
  {
   "cell_type": "markdown",
   "id": "1bc61176",
   "metadata": {},
   "source": [
    "<div style=\"border:solid steelblue 1px; padding: 20px\">\n",
    "    \n",
    "<font size=\"4\"><p style=\"text-align:center\"><b>Примеры комментариев </b></p></font>\n",
    "    \n",
    "<div style=\"border:solid steelblue 3px; padding: 20px\">\n",
    "<font size=\"4\"><b>🍕 Пример комментария - совета, здесь м.б. просто ссылка</b></font>\n",
    "    <br /> \n",
    "        <font size=\"3\", color = \"black\">\n",
    "<br />\n",
    "    Тут всего такого разного и вкусного :), есть способы прокачать проект визуализациями (ценит большинство \"боссов\")  <br /><br />\n",
    "        <a href=\"https://devpractice.ru/matplotlib-book/\">“Библиотека Matplotlib” доступна для скачивания БЕСПЛАТНО!</a>\n",
    "        На сайте много полезных материалов, мне самому очень помогло в свое время, до сих пор подсматриваю :)\n",
    "\n",
    "\n",
    "</div>\n",
    "    \n",
    "<div class=\"alert alert-warning\", style=\"border:solid coral 3px; padding: 20px\">\n",
    "    <font size=\"3\"><b>⚠️ Пример оформления некритичного комментария</b>\n",
    "    <br /> \n",
    "    <font size=\"2\", color = \"black\">\n",
    "<br />\n",
    "    Рекомендации, которые, хоть и не обязательны, но точно сделают ревью лучше\n",
    "    <br />\n",
    "    </font>\n",
    "\n",
    "</div>\n",
    "    \n",
    "<div class=\"alert alert-danger\">\n",
    "<font size=\"3\"><b>❌ Пример оформления комментария к блоку(строке) программного кода (или выводу), который стоит переделать</b></font>\n",
    "    <br /> \n",
    "    <font size=\"2\", color = \"black\">\n",
    "<br />\n",
    "    Отправлен не тот проект, напиши в своих комментариях, что случилось? жду — <b>это пример</b>\n",
    "    <br />\n",
    "    </font>\n",
    "\n",
    "</div>\n",
    "    \n",
    "<div class=\"alert alert-success\">\n",
    "<font size=\"4\"><b>✔️ Пример оформления комментария, который нравится большинству студентов</b></font>\n",
    "    <br /> \n",
    "    <font size=\"3\", color = \"black\">\n",
    "<br />\n",
    "    Круто, молодец, отлично, логично, или — 👌, 👍, или — выводы отвечают на все вопросы к данным и проекту\n",
    "    <br />\n",
    "    </font>\n",
    "\n",
    "</div>"
   ]
  },
  {
   "cell_type": "markdown",
   "id": "494eb9fd",
   "metadata": {},
   "source": [
    "# Для твоих вопросов или комментариев оставлю такую ячейку, чтобы было удобнее взаимодействовать на проекте"
   ]
  },
  {
   "cell_type": "markdown",
   "id": "84ecd466",
   "metadata": {},
   "source": [
    "<div class=\"alert alert-info\">\n",
    "<font size=\"4\", color = \"black\"><b>✍ Комментарий студента</b></font>\n",
    "    <br /> \n",
    "    <font size=\"3\", color = \"black\">\n",
    "<br /> ... , вот мой вопрос ...\n",
    "        \n",
    "        "
   ]
  },
  {
   "cell_type": "markdown",
   "id": "14b5dbf3",
   "metadata": {},
   "source": [
    "# Спринт 3. Исследовательский анализ данных"
   ]
  },
  {
   "cell_type": "markdown",
   "id": "a732126e",
   "metadata": {},
   "source": [
    "## Постановка задачи:"
   ]
  },
  {
   "cell_type": "markdown",
   "id": "77c68883",
   "metadata": {},
   "source": [
    "1. Изучить, как быстро продавались квартиры\n",
    "2. Определить какие факторы больше всего влияют на общую (полную) стоимость объекта?\n",
    "3. Посчитать среднюю цену одного квадратного метра в 10 населённых пунктах с наибольшим числом объявлений. Выделить населённые пункты с самой высокой и низкой стоимостью квадратного метра. \n",
    "4. Найти закономерность между стоимостью объектов зависит от расстояния до центра города."
   ]
  },
  {
   "cell_type": "markdown",
   "id": "08b95d86",
   "metadata": {},
   "source": [
    "<div class=\"alert alert-warning\", style=\"border:solid coral 3px; padding: 20px\">\n",
    "<font size=\"4\", color = \"DimGrey\"><b>⚠️ Комментарий ревьюера</b></font>\n",
    "    <br /> \n",
    "    <font size=\"3\", color = \"black\">\n",
    "<br />\n",
    "Перечень основных задач зафиксирован. \n",
    "        \n",
    "        м.б. и главная задача у проекта поменялась, стоит уточнить  \n",
    "        \n",
    "Стоит уточнить название и  главную задачу проекта, добавить  краткое вступление в работу        "
   ]
  },
  {
   "cell_type": "markdown",
   "id": "2e9e910e",
   "metadata": {},
   "source": [
    "## Шаг 1. Загружаем dataframe"
   ]
  },
  {
   "cell_type": "markdown",
   "id": "c40df00a",
   "metadata": {},
   "source": [
    "##### Импортируем датасет с помощью pandas"
   ]
  },
  {
   "cell_type": "code",
   "execution_count": 1,
   "id": "26b1c354",
   "metadata": {},
   "outputs": [],
   "source": [
    "import pandas as pd #Подключаем pandas\n",
    "import math as mt\n",
    "import matplotlib.pyplot as plt\n",
    "import seaborn as sns"
   ]
  },
  {
   "cell_type": "markdown",
   "id": "c9ce44a6",
   "metadata": {},
   "source": [
    "<div class=\"alert alert-success\">\n",
    "<font size=\"4\", color= \"seagreen\"><b>✔️ Комментарий ревьюера</b></font>\n",
    "    <br /> \n",
    "    <font size=\"3\", color = \"black\">\n",
    "<br />Молодец, что делишь блоки загрузки библиотек и датасета, в случае необходимости добавления новых библиотек не придется загружать весь датасет заново и перезапускать проект целиком"
   ]
  },
  {
   "cell_type": "code",
   "execution_count": 2,
   "id": "0134f369",
   "metadata": {
    "scrolled": true
   },
   "outputs": [],
   "source": [
    "pth1 = 'datasets/real_estate_data.csv'\n",
    "pth2 = 'https://code.s3.yandex.net/datasets/real_estate_data.csv' \n",
    "\n",
    "try:\n",
    "\n",
    "    data = pd.read_csv(pth1, sep='\\t')\n",
    "\n",
    "except OSError as e:\n",
    "    \n",
    "    data = pd.read_csv(pth2, sep='\\t') "
   ]
  },
  {
   "cell_type": "markdown",
   "id": "4df70922",
   "metadata": {},
   "source": [
    "<div class=\"alert alert-danger\">\n",
    "<font size=\"4\"><b>❌ Комментарий ревьюера</b></font>\n",
    "    <br /> \n",
    "    <font size=\"3\", color = \"black\">\n",
    "<br /> Кажется, работа над проектом велась локально и пути к файлам не были изменены на общедоступные. Стоит переписать код таким образом, что бы он запускался и в jupiter hub, и локально без внесения дополнительных правок. Этого можно добиться многими способами. Например, использовать конструкцию try-except для путей файлов: try — пути на локальном компьютере, except — пути на сервере. Или применить библиотеку os:\n",
    "        \n",
    "    import os\n",
    "\n",
    "    pth1 = '/folder_1/data.csv'\n",
    "    pth2 = '/folder_2/data.csv'\n",
    "\n",
    "    if os.path.exists(pth1):\n",
    "        query_1 = pd.read_csv(pth1)\n",
    "    elif os.path.exists(pth2):\n",
    "        query_1 = pd.read_csv(pth2)\n",
    "    else:\n",
    "        print('Something is wrong)"
   ]
  },
  {
   "cell_type": "markdown",
   "id": "7716d91b",
   "metadata": {},
   "source": [
    "<div class=\"alert alert-success\">\n",
    "<font size=\"4\", color= \"seagreen\"><b>✔️ Комментарий ревьюера</b></font>\n",
    "    <br /> \n",
    "    <font size=\"3\", color = \"black\">\n",
    "<br />\n",
    "        Для подгрузки данных стоит использовать конструкцию try-except, она поможет избежать потенциальных ошибок при загрузке данных, связанных, например, с некорректным указанием путей\n",
    "\n",
    "[Try - Except](https://pythonworld.ru/tipy-dannyx-v-python/isklyucheniya-v-python-konstrukciya-try-except-dlya-obrabotki-isklyuchenij.html)"
   ]
  },
  {
   "cell_type": "markdown",
   "id": "ccfa3fe1",
   "metadata": {},
   "source": [
    "##### Изучаем общую информацию о полученном файле**"
   ]
  },
  {
   "cell_type": "code",
   "execution_count": 3,
   "id": "96b30d33",
   "metadata": {},
   "outputs": [
    {
     "data": {
      "text/html": [
       "<div>\n",
       "<style scoped>\n",
       "    .dataframe tbody tr th:only-of-type {\n",
       "        vertical-align: middle;\n",
       "    }\n",
       "\n",
       "    .dataframe tbody tr th {\n",
       "        vertical-align: top;\n",
       "    }\n",
       "\n",
       "    .dataframe thead th {\n",
       "        text-align: right;\n",
       "    }\n",
       "</style>\n",
       "<table border=\"1\" class=\"dataframe\">\n",
       "  <thead>\n",
       "    <tr style=\"text-align: right;\">\n",
       "      <th></th>\n",
       "      <th>total_images</th>\n",
       "      <th>last_price</th>\n",
       "      <th>total_area</th>\n",
       "      <th>first_day_exposition</th>\n",
       "      <th>rooms</th>\n",
       "      <th>ceiling_height</th>\n",
       "      <th>floors_total</th>\n",
       "      <th>living_area</th>\n",
       "      <th>floor</th>\n",
       "      <th>is_apartment</th>\n",
       "      <th>...</th>\n",
       "      <th>kitchen_area</th>\n",
       "      <th>balcony</th>\n",
       "      <th>locality_name</th>\n",
       "      <th>airports_nearest</th>\n",
       "      <th>cityCenters_nearest</th>\n",
       "      <th>parks_around3000</th>\n",
       "      <th>parks_nearest</th>\n",
       "      <th>ponds_around3000</th>\n",
       "      <th>ponds_nearest</th>\n",
       "      <th>days_exposition</th>\n",
       "    </tr>\n",
       "  </thead>\n",
       "  <tbody>\n",
       "    <tr>\n",
       "      <th>0</th>\n",
       "      <td>20</td>\n",
       "      <td>13000000.0</td>\n",
       "      <td>108.00</td>\n",
       "      <td>2019-03-07T00:00:00</td>\n",
       "      <td>3</td>\n",
       "      <td>2.70</td>\n",
       "      <td>16.0</td>\n",
       "      <td>51.00</td>\n",
       "      <td>8</td>\n",
       "      <td>NaN</td>\n",
       "      <td>...</td>\n",
       "      <td>25.00</td>\n",
       "      <td>NaN</td>\n",
       "      <td>Санкт-Петербург</td>\n",
       "      <td>18863.0</td>\n",
       "      <td>16028.0</td>\n",
       "      <td>1.0</td>\n",
       "      <td>482.0</td>\n",
       "      <td>2.0</td>\n",
       "      <td>755.0</td>\n",
       "      <td>NaN</td>\n",
       "    </tr>\n",
       "    <tr>\n",
       "      <th>1</th>\n",
       "      <td>7</td>\n",
       "      <td>3350000.0</td>\n",
       "      <td>40.40</td>\n",
       "      <td>2018-12-04T00:00:00</td>\n",
       "      <td>1</td>\n",
       "      <td>NaN</td>\n",
       "      <td>11.0</td>\n",
       "      <td>18.60</td>\n",
       "      <td>1</td>\n",
       "      <td>NaN</td>\n",
       "      <td>...</td>\n",
       "      <td>11.00</td>\n",
       "      <td>2.0</td>\n",
       "      <td>посёлок Шушары</td>\n",
       "      <td>12817.0</td>\n",
       "      <td>18603.0</td>\n",
       "      <td>0.0</td>\n",
       "      <td>NaN</td>\n",
       "      <td>0.0</td>\n",
       "      <td>NaN</td>\n",
       "      <td>81.0</td>\n",
       "    </tr>\n",
       "    <tr>\n",
       "      <th>2</th>\n",
       "      <td>10</td>\n",
       "      <td>5196000.0</td>\n",
       "      <td>56.00</td>\n",
       "      <td>2015-08-20T00:00:00</td>\n",
       "      <td>2</td>\n",
       "      <td>NaN</td>\n",
       "      <td>5.0</td>\n",
       "      <td>34.30</td>\n",
       "      <td>4</td>\n",
       "      <td>NaN</td>\n",
       "      <td>...</td>\n",
       "      <td>8.30</td>\n",
       "      <td>0.0</td>\n",
       "      <td>Санкт-Петербург</td>\n",
       "      <td>21741.0</td>\n",
       "      <td>13933.0</td>\n",
       "      <td>1.0</td>\n",
       "      <td>90.0</td>\n",
       "      <td>2.0</td>\n",
       "      <td>574.0</td>\n",
       "      <td>558.0</td>\n",
       "    </tr>\n",
       "    <tr>\n",
       "      <th>3</th>\n",
       "      <td>0</td>\n",
       "      <td>64900000.0</td>\n",
       "      <td>159.00</td>\n",
       "      <td>2015-07-24T00:00:00</td>\n",
       "      <td>3</td>\n",
       "      <td>NaN</td>\n",
       "      <td>14.0</td>\n",
       "      <td>NaN</td>\n",
       "      <td>9</td>\n",
       "      <td>NaN</td>\n",
       "      <td>...</td>\n",
       "      <td>NaN</td>\n",
       "      <td>0.0</td>\n",
       "      <td>Санкт-Петербург</td>\n",
       "      <td>28098.0</td>\n",
       "      <td>6800.0</td>\n",
       "      <td>2.0</td>\n",
       "      <td>84.0</td>\n",
       "      <td>3.0</td>\n",
       "      <td>234.0</td>\n",
       "      <td>424.0</td>\n",
       "    </tr>\n",
       "    <tr>\n",
       "      <th>4</th>\n",
       "      <td>2</td>\n",
       "      <td>10000000.0</td>\n",
       "      <td>100.00</td>\n",
       "      <td>2018-06-19T00:00:00</td>\n",
       "      <td>2</td>\n",
       "      <td>3.03</td>\n",
       "      <td>14.0</td>\n",
       "      <td>32.00</td>\n",
       "      <td>13</td>\n",
       "      <td>NaN</td>\n",
       "      <td>...</td>\n",
       "      <td>41.00</td>\n",
       "      <td>NaN</td>\n",
       "      <td>Санкт-Петербург</td>\n",
       "      <td>31856.0</td>\n",
       "      <td>8098.0</td>\n",
       "      <td>2.0</td>\n",
       "      <td>112.0</td>\n",
       "      <td>1.0</td>\n",
       "      <td>48.0</td>\n",
       "      <td>121.0</td>\n",
       "    </tr>\n",
       "    <tr>\n",
       "      <th>5</th>\n",
       "      <td>10</td>\n",
       "      <td>2890000.0</td>\n",
       "      <td>30.40</td>\n",
       "      <td>2018-09-10T00:00:00</td>\n",
       "      <td>1</td>\n",
       "      <td>NaN</td>\n",
       "      <td>12.0</td>\n",
       "      <td>14.40</td>\n",
       "      <td>5</td>\n",
       "      <td>NaN</td>\n",
       "      <td>...</td>\n",
       "      <td>9.10</td>\n",
       "      <td>NaN</td>\n",
       "      <td>городской посёлок Янино-1</td>\n",
       "      <td>NaN</td>\n",
       "      <td>NaN</td>\n",
       "      <td>NaN</td>\n",
       "      <td>NaN</td>\n",
       "      <td>NaN</td>\n",
       "      <td>NaN</td>\n",
       "      <td>55.0</td>\n",
       "    </tr>\n",
       "    <tr>\n",
       "      <th>6</th>\n",
       "      <td>6</td>\n",
       "      <td>3700000.0</td>\n",
       "      <td>37.30</td>\n",
       "      <td>2017-11-02T00:00:00</td>\n",
       "      <td>1</td>\n",
       "      <td>NaN</td>\n",
       "      <td>26.0</td>\n",
       "      <td>10.60</td>\n",
       "      <td>6</td>\n",
       "      <td>NaN</td>\n",
       "      <td>...</td>\n",
       "      <td>14.40</td>\n",
       "      <td>1.0</td>\n",
       "      <td>посёлок Парголово</td>\n",
       "      <td>52996.0</td>\n",
       "      <td>19143.0</td>\n",
       "      <td>0.0</td>\n",
       "      <td>NaN</td>\n",
       "      <td>0.0</td>\n",
       "      <td>NaN</td>\n",
       "      <td>155.0</td>\n",
       "    </tr>\n",
       "    <tr>\n",
       "      <th>7</th>\n",
       "      <td>5</td>\n",
       "      <td>7915000.0</td>\n",
       "      <td>71.60</td>\n",
       "      <td>2019-04-18T00:00:00</td>\n",
       "      <td>2</td>\n",
       "      <td>NaN</td>\n",
       "      <td>24.0</td>\n",
       "      <td>NaN</td>\n",
       "      <td>22</td>\n",
       "      <td>NaN</td>\n",
       "      <td>...</td>\n",
       "      <td>18.90</td>\n",
       "      <td>2.0</td>\n",
       "      <td>Санкт-Петербург</td>\n",
       "      <td>23982.0</td>\n",
       "      <td>11634.0</td>\n",
       "      <td>0.0</td>\n",
       "      <td>NaN</td>\n",
       "      <td>0.0</td>\n",
       "      <td>NaN</td>\n",
       "      <td>NaN</td>\n",
       "    </tr>\n",
       "    <tr>\n",
       "      <th>8</th>\n",
       "      <td>20</td>\n",
       "      <td>2900000.0</td>\n",
       "      <td>33.16</td>\n",
       "      <td>2018-05-23T00:00:00</td>\n",
       "      <td>1</td>\n",
       "      <td>NaN</td>\n",
       "      <td>27.0</td>\n",
       "      <td>15.43</td>\n",
       "      <td>26</td>\n",
       "      <td>NaN</td>\n",
       "      <td>...</td>\n",
       "      <td>8.81</td>\n",
       "      <td>NaN</td>\n",
       "      <td>посёлок Мурино</td>\n",
       "      <td>NaN</td>\n",
       "      <td>NaN</td>\n",
       "      <td>NaN</td>\n",
       "      <td>NaN</td>\n",
       "      <td>NaN</td>\n",
       "      <td>NaN</td>\n",
       "      <td>189.0</td>\n",
       "    </tr>\n",
       "    <tr>\n",
       "      <th>9</th>\n",
       "      <td>18</td>\n",
       "      <td>5400000.0</td>\n",
       "      <td>61.00</td>\n",
       "      <td>2017-02-26T00:00:00</td>\n",
       "      <td>3</td>\n",
       "      <td>2.50</td>\n",
       "      <td>9.0</td>\n",
       "      <td>43.60</td>\n",
       "      <td>7</td>\n",
       "      <td>NaN</td>\n",
       "      <td>...</td>\n",
       "      <td>6.50</td>\n",
       "      <td>2.0</td>\n",
       "      <td>Санкт-Петербург</td>\n",
       "      <td>50898.0</td>\n",
       "      <td>15008.0</td>\n",
       "      <td>0.0</td>\n",
       "      <td>NaN</td>\n",
       "      <td>0.0</td>\n",
       "      <td>NaN</td>\n",
       "      <td>289.0</td>\n",
       "    </tr>\n",
       "  </tbody>\n",
       "</table>\n",
       "<p>10 rows × 22 columns</p>\n",
       "</div>"
      ],
      "text/plain": [
       "   total_images  last_price  total_area first_day_exposition  rooms  \\\n",
       "0            20  13000000.0      108.00  2019-03-07T00:00:00      3   \n",
       "1             7   3350000.0       40.40  2018-12-04T00:00:00      1   \n",
       "2            10   5196000.0       56.00  2015-08-20T00:00:00      2   \n",
       "3             0  64900000.0      159.00  2015-07-24T00:00:00      3   \n",
       "4             2  10000000.0      100.00  2018-06-19T00:00:00      2   \n",
       "5            10   2890000.0       30.40  2018-09-10T00:00:00      1   \n",
       "6             6   3700000.0       37.30  2017-11-02T00:00:00      1   \n",
       "7             5   7915000.0       71.60  2019-04-18T00:00:00      2   \n",
       "8            20   2900000.0       33.16  2018-05-23T00:00:00      1   \n",
       "9            18   5400000.0       61.00  2017-02-26T00:00:00      3   \n",
       "\n",
       "   ceiling_height  floors_total  living_area  floor is_apartment  ...  \\\n",
       "0            2.70          16.0        51.00      8          NaN  ...   \n",
       "1             NaN          11.0        18.60      1          NaN  ...   \n",
       "2             NaN           5.0        34.30      4          NaN  ...   \n",
       "3             NaN          14.0          NaN      9          NaN  ...   \n",
       "4            3.03          14.0        32.00     13          NaN  ...   \n",
       "5             NaN          12.0        14.40      5          NaN  ...   \n",
       "6             NaN          26.0        10.60      6          NaN  ...   \n",
       "7             NaN          24.0          NaN     22          NaN  ...   \n",
       "8             NaN          27.0        15.43     26          NaN  ...   \n",
       "9            2.50           9.0        43.60      7          NaN  ...   \n",
       "\n",
       "   kitchen_area  balcony              locality_name  airports_nearest  \\\n",
       "0         25.00      NaN            Санкт-Петербург           18863.0   \n",
       "1         11.00      2.0             посёлок Шушары           12817.0   \n",
       "2          8.30      0.0            Санкт-Петербург           21741.0   \n",
       "3           NaN      0.0            Санкт-Петербург           28098.0   \n",
       "4         41.00      NaN            Санкт-Петербург           31856.0   \n",
       "5          9.10      NaN  городской посёлок Янино-1               NaN   \n",
       "6         14.40      1.0          посёлок Парголово           52996.0   \n",
       "7         18.90      2.0            Санкт-Петербург           23982.0   \n",
       "8          8.81      NaN             посёлок Мурино               NaN   \n",
       "9          6.50      2.0            Санкт-Петербург           50898.0   \n",
       "\n",
       "  cityCenters_nearest  parks_around3000  parks_nearest  ponds_around3000  \\\n",
       "0             16028.0               1.0          482.0               2.0   \n",
       "1             18603.0               0.0            NaN               0.0   \n",
       "2             13933.0               1.0           90.0               2.0   \n",
       "3              6800.0               2.0           84.0               3.0   \n",
       "4              8098.0               2.0          112.0               1.0   \n",
       "5                 NaN               NaN            NaN               NaN   \n",
       "6             19143.0               0.0            NaN               0.0   \n",
       "7             11634.0               0.0            NaN               0.0   \n",
       "8                 NaN               NaN            NaN               NaN   \n",
       "9             15008.0               0.0            NaN               0.0   \n",
       "\n",
       "   ponds_nearest  days_exposition  \n",
       "0          755.0              NaN  \n",
       "1            NaN             81.0  \n",
       "2          574.0            558.0  \n",
       "3          234.0            424.0  \n",
       "4           48.0            121.0  \n",
       "5            NaN             55.0  \n",
       "6            NaN            155.0  \n",
       "7            NaN              NaN  \n",
       "8            NaN            189.0  \n",
       "9            NaN            289.0  \n",
       "\n",
       "[10 rows x 22 columns]"
      ]
     },
     "execution_count": 3,
     "metadata": {},
     "output_type": "execute_result"
    }
   ],
   "source": [
    "data.head(10)"
   ]
  },
  {
   "cell_type": "code",
   "execution_count": 4,
   "id": "67631e62",
   "metadata": {
    "scrolled": true
   },
   "outputs": [
    {
     "name": "stdout",
     "output_type": "stream",
     "text": [
      "<class 'pandas.core.frame.DataFrame'>\n",
      "RangeIndex: 23699 entries, 0 to 23698\n",
      "Data columns (total 22 columns):\n",
      " #   Column                Non-Null Count  Dtype  \n",
      "---  ------                --------------  -----  \n",
      " 0   total_images          23699 non-null  int64  \n",
      " 1   last_price            23699 non-null  float64\n",
      " 2   total_area            23699 non-null  float64\n",
      " 3   first_day_exposition  23699 non-null  object \n",
      " 4   rooms                 23699 non-null  int64  \n",
      " 5   ceiling_height        14504 non-null  float64\n",
      " 6   floors_total          23613 non-null  float64\n",
      " 7   living_area           21796 non-null  float64\n",
      " 8   floor                 23699 non-null  int64  \n",
      " 9   is_apartment          2775 non-null   object \n",
      " 10  studio                23699 non-null  bool   \n",
      " 11  open_plan             23699 non-null  bool   \n",
      " 12  kitchen_area          21421 non-null  float64\n",
      " 13  balcony               12180 non-null  float64\n",
      " 14  locality_name         23650 non-null  object \n",
      " 15  airports_nearest      18157 non-null  float64\n",
      " 16  cityCenters_nearest   18180 non-null  float64\n",
      " 17  parks_around3000      18181 non-null  float64\n",
      " 18  parks_nearest         8079 non-null   float64\n",
      " 19  ponds_around3000      18181 non-null  float64\n",
      " 20  ponds_nearest         9110 non-null   float64\n",
      " 21  days_exposition       20518 non-null  float64\n",
      "dtypes: bool(2), float64(14), int64(3), object(3)\n",
      "memory usage: 3.7+ MB\n"
     ]
    }
   ],
   "source": [
    "data.info()"
   ]
  },
  {
   "cell_type": "markdown",
   "id": "76654ede",
   "metadata": {},
   "source": [
    "**Описание столбцов:**  \n",
    "airports_nearest — расстояние до ближайшего аэропорта в метрах (м)  \n",
    "balcony — число балконов  \n",
    "ceiling_height — высота потолков (м)  \n",
    "cityCenters_nearest — расстояние до центра города (м)  \n",
    "days_exposition — сколько дней было размещено объявление (от публикации до снятия)  \n",
    "first_day_exposition — дата публикации  \n",
    "floor — этаж  \n",
    "floors_total — всего этажей в доме  \n",
    "is_apartment — апартаменты (булев тип)  \n",
    "kitchen_area — площадь кухни в квадратных метрах (м²)  \n",
    "last_price — цена на момент снятия с публикации  \n",
    "living_area — жилая площадь в квадратных метрах (м²)  \n",
    "locality_name — название населённого пункта  \n",
    "open_plan — свободная планировка (булев тип)  \n",
    "parks_around3000 — число парков в радиусе 3 км  \n",
    "parks_nearest — расстояние до ближайшего парка (м)  \n",
    "ponds_around3000 — число водоёмов в радиусе 3 км  \n",
    "ponds_nearest — расстояние до ближайшего водоёма (м)  \n",
    "rooms — число комнат  \n",
    "studio — квартира-студия (булев тип)  \n",
    "total_area — общая площадь квартиры в квадратных метрах (м²)  \n",
    "total_images — число фотографий квартиры в объявлении  "
   ]
  },
  {
   "cell_type": "markdown",
   "id": "5f93544d",
   "metadata": {},
   "source": [
    "##### Видимые проблемы:"
   ]
  },
  {
   "cell_type": "markdown",
   "id": "81972fc7",
   "metadata": {},
   "source": [
    "Очевидно, что в столбцах ceiling_height, floors_total, is_apartment, living_area, kitchen_area, balcony, locality_name, airports_nearest,  cityCenters_nearest, parks_around3000, ponds_nearest, days_exposition есть пропущенные значения"
   ]
  },
  {
   "cell_type": "markdown",
   "id": "32c6ed01",
   "metadata": {},
   "source": [
    "Так же столбцы is_apartment и floors_total явно имеют неправильный тип (должен быть bool и int). Дата публикации записана в виде строки, что может быть не удобно"
   ]
  },
  {
   "cell_type": "markdown",
   "id": "610478c7",
   "metadata": {},
   "source": [
    "##### Построим общую гистограмму для всех столбцов"
   ]
  },
  {
   "cell_type": "code",
   "execution_count": 5,
   "id": "8f108048",
   "metadata": {},
   "outputs": [
    {
     "data": {
      "image/png": "[encoded data removed]",
      "text/plain": [
       "<Figure size 1080x1440 with 20 Axes>"
      ]
     },
     "metadata": {
      "needs_background": "light"
     },
     "output_type": "display_data"
    }
   ],
   "source": [
    "data.hist(figsize= (15, 20));"
   ]
  },
  {
   "cell_type": "markdown",
   "id": "870c7af1",
   "metadata": {},
   "source": [
    "<div style=\"border:solid steelblue 3px; padding: 20px\">\n",
    "<font size=\"4\">🍕<b> Комментарий ревьюера</b></font>\n",
    "<br /> \n",
    "<font size=\"3\", color = \"black\">\n",
    "<br />\n",
    "Убрать служ. информацию поможет точка с запятой на посл. строке кода\n",
    "\n",
    "    array([[<AxesSubplot:title={'center':'total_images'}>,\n",
    "        <AxesSubplot:title={'center':'last_price'}>,\n",
    "        <AxesSubplot:title={'center':'total_area'}>,\n",
    "        <AxesSubplot:title={'center':'rooms'}>],\n",
    "       [<AxesSubplot:title={'center':'ceiling_height'}>,\n",
    "        <AxesSubplot:title={'center':'floors_total'}>,\n",
    "        <AxesSubplot:title={'center':'living_area'}>,\n",
    "        <AxesSubplot:title={'center':'floor'}>],\n",
    "       [<AxesSubplot:title={'center':'kitchen_area'}>,\n",
    "        <AxesSubplot:title={'center':'balcony'}>,\n",
    "        <AxesSubplot:title={'center':'airports_nearest'}>,\n",
    "        <AxesSubplot:title={'center':'cityCenters_nearest'}>],\n",
    "       [<AxesSubplot:title={'center':'parks_around3000'}>,\n",
    "        <AxesSubplot:title={'center':'parks_nearest'}>,\n",
    "        <AxesSubplot:title={'center':'ponds_around3000'}>,\n",
    "        <AxesSubplot:title={'center':'ponds_nearest'}>],\n",
    "       [<AxesSubplot:title={'center':'days_exposition'}>, <AxesSubplot:>,\n",
    "        <AxesSubplot:>, <AxesSubplot:>]], dtype=object)\n",
    "\n",
    "data.hist(figsize=(15, 20));\n"
   ]
  },
  {
   "cell_type": "markdown",
   "id": "98a66b5d",
   "metadata": {},
   "source": [
    "<div class=\"alert alert-success\">\n",
    "<font size=\"4\", color= \"seagreen\"><b>✔️ Комментарий ревьюера</b></font>\n",
    "    <br /> \n",
    "    <font size=\"3\", color = \"black\">\n",
    "<br /> загрузка и обзор данных проведены корректно"
   ]
  },
  {
   "cell_type": "markdown",
   "id": "df8a331c",
   "metadata": {},
   "source": [
    "## Шаг 2. Предобработка данных"
   ]
  },
  {
   "cell_type": "markdown",
   "id": "aa76563c",
   "metadata": {},
   "source": [
    "### 2.1. Заполнение NaN"
   ]
  },
  {
   "cell_type": "markdown",
   "id": "cd614d78",
   "metadata": {},
   "source": [
    "прежде чем что-то делать переименуем столбец cityCenters_nearest в snake_case"
   ]
  },
  {
   "cell_type": "code",
   "execution_count": 6,
   "id": "13cfc25d",
   "metadata": {},
   "outputs": [],
   "source": [
    "data = data.rename(columns= {'cityCenters_nearest' : 'city_centers_nearest'})"
   ]
  },
  {
   "cell_type": "markdown",
   "id": "3a751590",
   "metadata": {},
   "source": [
    "<div class=\"alert alert-success\">\n",
    "<font size=\"4\", color= \"seagreen\"><b>✔️ Комментарий ревьюера</b></font>\n",
    "    <br /> \n",
    "    <font size=\"3\", color = \"black\">\n",
    "<br />Красота стиля важна для серъезных проектов, молодец\n",
    "          "
   ]
  },
  {
   "cell_type": "markdown",
   "id": "902f14d7",
   "metadata": {},
   "source": [
    "В рамках предыдущего этапа мы определили предполагаемые столбцы с пропусками. Теперь проверим наше предположение"
   ]
  },
  {
   "cell_type": "code",
   "execution_count": 7,
   "id": "7ae387c6",
   "metadata": {},
   "outputs": [],
   "source": [
    "# check\n",
    "# пропущенные значения бары\n",
    "\n",
    "def pass_value_barh(df):\n",
    "    try:\n",
    "        (\n",
    "            (df.isna().mean()*100)\n",
    "            .to_frame()\n",
    "            .rename(columns = {0:'space'})\n",
    "            .query('space > 0')\n",
    "            .sort_values(by = 'space', ascending = True)\n",
    "            .plot(kind = 'barh', figsize = (19,6), rot = -5, legend = False, fontsize = 16)\n",
    "            .set_title('Пример' + \"\\n\", fontsize = 22, color = 'SteelBlue')    \n",
    "        );    \n",
    "    except:\n",
    "        print('пропусков не осталось :) или произошла ошибка в первой части функции ')"
   ]
  },
  {
   "cell_type": "code",
   "execution_count": 8,
   "id": "7ca6daea",
   "metadata": {},
   "outputs": [
    {
     "data": {
      "image/png": "[encoded data removed]",
      "text/plain": [
       "<Figure size 1368x432 with 1 Axes>"
      ]
     },
     "metadata": {
      "needs_background": "light"
     },
     "output_type": "display_data"
    }
   ],
   "source": [
    "bar_plot = pass_value_barh(data)\n",
    "plt.xlabel('% of NaN', fontsize = 16)\n",
    "plt.ylabel('columns', fontsize = 16)\n",
    "plt.show()"
   ]
  },
  {
   "cell_type": "markdown",
   "id": "03b923ab",
   "metadata": {},
   "source": [
    "<div style=\"border:solid steelblue 3px; padding: 20px\">\n",
    "<font size=\"4\">🍕<b> Комментарий ревьюера</b></font>\n",
    "<br /> \n",
    "<font size=\"3\", color = \"black\">\n",
    "<br /> Наглядность представления информации одна из важных составляющих работы дата-аналитика или дата-сайентиста\n",
    "    \n",
    "мой график оформлен не совсем корректно, сможешь отметить, что стоило бы исправить в графике?\n",
    "  "
   ]
  },
  {
   "cell_type": "markdown",
   "id": "2561bc03",
   "metadata": {},
   "source": [
    "<div class=\"alert alert-info\">\n",
    "<font size=\"4\", color = \"black\"><b>✍ Комментарий студента</b></font>\n",
    "    <br /> \n",
    "    <font size=\"3\", color = \"black\">\n",
    "<br /> Добавил подписи осей и самого графика"
   ]
  },
  {
   "cell_type": "code",
   "execution_count": 9,
   "id": "cd434e82",
   "metadata": {
    "scrolled": true
   },
   "outputs": [
    {
     "data": {
      "text/plain": [
       "total_images                0\n",
       "last_price                  0\n",
       "total_area                  0\n",
       "first_day_exposition        0\n",
       "rooms                       0\n",
       "ceiling_height           9195\n",
       "floors_total               86\n",
       "living_area              1903\n",
       "floor                       0\n",
       "is_apartment            20924\n",
       "studio                      0\n",
       "open_plan                   0\n",
       "kitchen_area             2278\n",
       "balcony                 11519\n",
       "locality_name              49\n",
       "airports_nearest         5542\n",
       "city_centers_nearest     5519\n",
       "parks_around3000         5518\n",
       "parks_nearest           15620\n",
       "ponds_around3000         5518\n",
       "ponds_nearest           14589\n",
       "days_exposition          3181\n",
       "dtype: int64"
      ]
     },
     "execution_count": 9,
     "metadata": {},
     "output_type": "execute_result"
    }
   ],
   "source": [
    "data.isna().sum()"
   ]
  },
  {
   "cell_type": "markdown",
   "id": "5cca06e7",
   "metadata": {},
   "source": [
    "#### 2.1.1 Заполнение столбцов kitchen_area, living_area"
   ]
  },
  {
   "cell_type": "markdown",
   "id": "fe17cef2",
   "metadata": {},
   "source": [
    "В студиях нет кухни. Для студий можем заполнить NaN нулями. За студии (комнаты) будем считать также "
   ]
  },
  {
   "cell_type": "code",
   "execution_count": 10,
   "id": "8e4af258",
   "metadata": {},
   "outputs": [],
   "source": [
    "data.loc[((data['studio'] == True) | (data['rooms'] == 0))& (data['kitchen_area'].isna()), 'kitchen_area'] = 0"
   ]
  },
  {
   "cell_type": "code",
   "execution_count": 11,
   "id": "c19918ef",
   "metadata": {},
   "outputs": [
    {
     "data": {
      "text/plain": [
       "2070"
      ]
     },
     "execution_count": 11,
     "metadata": {},
     "output_type": "execute_result"
    }
   ],
   "source": [
    "data.kitchen_area.isna().sum()"
   ]
  },
  {
   "cell_type": "markdown",
   "id": "45482976",
   "metadata": {},
   "source": [
    "208 студий или комнат убрали"
   ]
  },
  {
   "cell_type": "markdown",
   "id": "53a65e89",
   "metadata": {},
   "source": [
    "Вероятно, что если жилплощадь и площадь кухни превышает 0,9 от суммарной площади, здесь явно есть ошибка. \n",
    "Так как для заполнения пропусков далее нам потребуются медианные значения, посмотрим количество таких ошибок"
   ]
  },
  {
   "cell_type": "code",
   "execution_count": 12,
   "id": "75a2845b",
   "metadata": {},
   "outputs": [
    {
     "data": {
      "text/html": [
       "<div>\n",
       "<style scoped>\n",
       "    .dataframe tbody tr th:only-of-type {\n",
       "        vertical-align: middle;\n",
       "    }\n",
       "\n",
       "    .dataframe tbody tr th {\n",
       "        vertical-align: top;\n",
       "    }\n",
       "\n",
       "    .dataframe thead th {\n",
       "        text-align: right;\n",
       "    }\n",
       "</style>\n",
       "<table border=\"1\" class=\"dataframe\">\n",
       "  <thead>\n",
       "    <tr style=\"text-align: right;\">\n",
       "      <th></th>\n",
       "      <th>total_images</th>\n",
       "      <th>last_price</th>\n",
       "      <th>total_area</th>\n",
       "      <th>first_day_exposition</th>\n",
       "      <th>rooms</th>\n",
       "      <th>ceiling_height</th>\n",
       "      <th>floors_total</th>\n",
       "      <th>living_area</th>\n",
       "      <th>floor</th>\n",
       "      <th>is_apartment</th>\n",
       "      <th>...</th>\n",
       "      <th>kitchen_area</th>\n",
       "      <th>balcony</th>\n",
       "      <th>locality_name</th>\n",
       "      <th>airports_nearest</th>\n",
       "      <th>city_centers_nearest</th>\n",
       "      <th>parks_around3000</th>\n",
       "      <th>parks_nearest</th>\n",
       "      <th>ponds_around3000</th>\n",
       "      <th>ponds_nearest</th>\n",
       "      <th>days_exposition</th>\n",
       "    </tr>\n",
       "  </thead>\n",
       "  <tbody>\n",
       "    <tr>\n",
       "      <th>41</th>\n",
       "      <td>16</td>\n",
       "      <td>7900000.0</td>\n",
       "      <td>74.0</td>\n",
       "      <td>2016-05-04T00:00:00</td>\n",
       "      <td>3</td>\n",
       "      <td>NaN</td>\n",
       "      <td>14.0</td>\n",
       "      <td>59.0</td>\n",
       "      <td>8</td>\n",
       "      <td>False</td>\n",
       "      <td>...</td>\n",
       "      <td>12.0</td>\n",
       "      <td>5.0</td>\n",
       "      <td>Санкт-Петербург</td>\n",
       "      <td>37715.0</td>\n",
       "      <td>12612.0</td>\n",
       "      <td>1.0</td>\n",
       "      <td>725.0</td>\n",
       "      <td>1.0</td>\n",
       "      <td>759.0</td>\n",
       "      <td>179.0</td>\n",
       "    </tr>\n",
       "    <tr>\n",
       "      <th>171</th>\n",
       "      <td>6</td>\n",
       "      <td>3800000.0</td>\n",
       "      <td>49.0</td>\n",
       "      <td>2019-02-22T00:00:00</td>\n",
       "      <td>2</td>\n",
       "      <td>2.50</td>\n",
       "      <td>9.0</td>\n",
       "      <td>38.0</td>\n",
       "      <td>8</td>\n",
       "      <td>NaN</td>\n",
       "      <td>...</td>\n",
       "      <td>10.0</td>\n",
       "      <td>1.0</td>\n",
       "      <td>посёлок Шушары</td>\n",
       "      <td>18471.0</td>\n",
       "      <td>24272.0</td>\n",
       "      <td>0.0</td>\n",
       "      <td>NaN</td>\n",
       "      <td>0.0</td>\n",
       "      <td>NaN</td>\n",
       "      <td>11.0</td>\n",
       "    </tr>\n",
       "    <tr>\n",
       "      <th>184</th>\n",
       "      <td>7</td>\n",
       "      <td>2600000.0</td>\n",
       "      <td>30.2</td>\n",
       "      <td>2018-02-14T00:00:00</td>\n",
       "      <td>1</td>\n",
       "      <td>2.65</td>\n",
       "      <td>9.0</td>\n",
       "      <td>26.1</td>\n",
       "      <td>5</td>\n",
       "      <td>NaN</td>\n",
       "      <td>...</td>\n",
       "      <td>6.2</td>\n",
       "      <td>NaN</td>\n",
       "      <td>Санкт-Петербург</td>\n",
       "      <td>13952.0</td>\n",
       "      <td>15031.0</td>\n",
       "      <td>0.0</td>\n",
       "      <td>NaN</td>\n",
       "      <td>1.0</td>\n",
       "      <td>824.0</td>\n",
       "      <td>12.0</td>\n",
       "    </tr>\n",
       "    <tr>\n",
       "      <th>220</th>\n",
       "      <td>8</td>\n",
       "      <td>3890000.0</td>\n",
       "      <td>37.0</td>\n",
       "      <td>2018-07-09T00:00:00</td>\n",
       "      <td>1</td>\n",
       "      <td>2.50</td>\n",
       "      <td>25.0</td>\n",
       "      <td>28.0</td>\n",
       "      <td>6</td>\n",
       "      <td>NaN</td>\n",
       "      <td>...</td>\n",
       "      <td>9.0</td>\n",
       "      <td>NaN</td>\n",
       "      <td>Санкт-Петербург</td>\n",
       "      <td>25408.0</td>\n",
       "      <td>16166.0</td>\n",
       "      <td>0.0</td>\n",
       "      <td>NaN</td>\n",
       "      <td>0.0</td>\n",
       "      <td>NaN</td>\n",
       "      <td>28.0</td>\n",
       "    </tr>\n",
       "    <tr>\n",
       "      <th>319</th>\n",
       "      <td>19</td>\n",
       "      <td>4850000.0</td>\n",
       "      <td>59.7</td>\n",
       "      <td>2015-03-19T00:00:00</td>\n",
       "      <td>3</td>\n",
       "      <td>2.50</td>\n",
       "      <td>5.0</td>\n",
       "      <td>47.4</td>\n",
       "      <td>4</td>\n",
       "      <td>NaN</td>\n",
       "      <td>...</td>\n",
       "      <td>6.4</td>\n",
       "      <td>1.0</td>\n",
       "      <td>Санкт-Петербург</td>\n",
       "      <td>43095.0</td>\n",
       "      <td>15599.0</td>\n",
       "      <td>0.0</td>\n",
       "      <td>NaN</td>\n",
       "      <td>0.0</td>\n",
       "      <td>NaN</td>\n",
       "      <td>974.0</td>\n",
       "    </tr>\n",
       "    <tr>\n",
       "      <th>...</th>\n",
       "      <td>...</td>\n",
       "      <td>...</td>\n",
       "      <td>...</td>\n",
       "      <td>...</td>\n",
       "      <td>...</td>\n",
       "      <td>...</td>\n",
       "      <td>...</td>\n",
       "      <td>...</td>\n",
       "      <td>...</td>\n",
       "      <td>...</td>\n",
       "      <td>...</td>\n",
       "      <td>...</td>\n",
       "      <td>...</td>\n",
       "      <td>...</td>\n",
       "      <td>...</td>\n",
       "      <td>...</td>\n",
       "      <td>...</td>\n",
       "      <td>...</td>\n",
       "      <td>...</td>\n",
       "      <td>...</td>\n",
       "      <td>...</td>\n",
       "    </tr>\n",
       "    <tr>\n",
       "      <th>23216</th>\n",
       "      <td>15</td>\n",
       "      <td>10150000.0</td>\n",
       "      <td>114.0</td>\n",
       "      <td>2015-01-21T00:00:00</td>\n",
       "      <td>4</td>\n",
       "      <td>NaN</td>\n",
       "      <td>5.0</td>\n",
       "      <td>90.2</td>\n",
       "      <td>4</td>\n",
       "      <td>NaN</td>\n",
       "      <td>...</td>\n",
       "      <td>16.0</td>\n",
       "      <td>NaN</td>\n",
       "      <td>Санкт-Петербург</td>\n",
       "      <td>26259.0</td>\n",
       "      <td>4961.0</td>\n",
       "      <td>0.0</td>\n",
       "      <td>NaN</td>\n",
       "      <td>2.0</td>\n",
       "      <td>838.0</td>\n",
       "      <td>1052.0</td>\n",
       "    </tr>\n",
       "    <tr>\n",
       "      <th>23297</th>\n",
       "      <td>10</td>\n",
       "      <td>1850000.0</td>\n",
       "      <td>48.2</td>\n",
       "      <td>2019-03-13T00:00:00</td>\n",
       "      <td>2</td>\n",
       "      <td>NaN</td>\n",
       "      <td>5.0</td>\n",
       "      <td>42.2</td>\n",
       "      <td>2</td>\n",
       "      <td>NaN</td>\n",
       "      <td>...</td>\n",
       "      <td>6.0</td>\n",
       "      <td>1.0</td>\n",
       "      <td>Высоцк</td>\n",
       "      <td>NaN</td>\n",
       "      <td>NaN</td>\n",
       "      <td>NaN</td>\n",
       "      <td>NaN</td>\n",
       "      <td>NaN</td>\n",
       "      <td>NaN</td>\n",
       "      <td>45.0</td>\n",
       "    </tr>\n",
       "    <tr>\n",
       "      <th>23328</th>\n",
       "      <td>12</td>\n",
       "      <td>4299000.0</td>\n",
       "      <td>54.0</td>\n",
       "      <td>2016-11-25T00:00:00</td>\n",
       "      <td>2</td>\n",
       "      <td>NaN</td>\n",
       "      <td>14.0</td>\n",
       "      <td>40.0</td>\n",
       "      <td>8</td>\n",
       "      <td>NaN</td>\n",
       "      <td>...</td>\n",
       "      <td>10.0</td>\n",
       "      <td>0.0</td>\n",
       "      <td>Колпино</td>\n",
       "      <td>25612.0</td>\n",
       "      <td>31399.0</td>\n",
       "      <td>0.0</td>\n",
       "      <td>NaN</td>\n",
       "      <td>0.0</td>\n",
       "      <td>NaN</td>\n",
       "      <td>343.0</td>\n",
       "    </tr>\n",
       "    <tr>\n",
       "      <th>23521</th>\n",
       "      <td>13</td>\n",
       "      <td>8500000.0</td>\n",
       "      <td>65.0</td>\n",
       "      <td>2018-11-01T00:00:00</td>\n",
       "      <td>2</td>\n",
       "      <td>NaN</td>\n",
       "      <td>4.0</td>\n",
       "      <td>44.0</td>\n",
       "      <td>2</td>\n",
       "      <td>NaN</td>\n",
       "      <td>...</td>\n",
       "      <td>15.3</td>\n",
       "      <td>NaN</td>\n",
       "      <td>Санкт-Петербург</td>\n",
       "      <td>22276.0</td>\n",
       "      <td>3996.0</td>\n",
       "      <td>1.0</td>\n",
       "      <td>627.0</td>\n",
       "      <td>0.0</td>\n",
       "      <td>NaN</td>\n",
       "      <td>NaN</td>\n",
       "    </tr>\n",
       "    <tr>\n",
       "      <th>23680</th>\n",
       "      <td>14</td>\n",
       "      <td>5000000.0</td>\n",
       "      <td>59.0</td>\n",
       "      <td>2019-04-04T00:00:00</td>\n",
       "      <td>3</td>\n",
       "      <td>2.50</td>\n",
       "      <td>5.0</td>\n",
       "      <td>52.0</td>\n",
       "      <td>1</td>\n",
       "      <td>NaN</td>\n",
       "      <td>...</td>\n",
       "      <td>7.0</td>\n",
       "      <td>NaN</td>\n",
       "      <td>Санкт-Петербург</td>\n",
       "      <td>26835.0</td>\n",
       "      <td>11878.0</td>\n",
       "      <td>0.0</td>\n",
       "      <td>NaN</td>\n",
       "      <td>0.0</td>\n",
       "      <td>NaN</td>\n",
       "      <td>NaN</td>\n",
       "    </tr>\n",
       "  </tbody>\n",
       "</table>\n",
       "<p>469 rows × 22 columns</p>\n",
       "</div>"
      ],
      "text/plain": [
       "       total_images  last_price  total_area first_day_exposition  rooms  \\\n",
       "41               16   7900000.0        74.0  2016-05-04T00:00:00      3   \n",
       "171               6   3800000.0        49.0  2019-02-22T00:00:00      2   \n",
       "184               7   2600000.0        30.2  2018-02-14T00:00:00      1   \n",
       "220               8   3890000.0        37.0  2018-07-09T00:00:00      1   \n",
       "319              19   4850000.0        59.7  2015-03-19T00:00:00      3   \n",
       "...             ...         ...         ...                  ...    ...   \n",
       "23216            15  10150000.0       114.0  2015-01-21T00:00:00      4   \n",
       "23297            10   1850000.0        48.2  2019-03-13T00:00:00      2   \n",
       "23328            12   4299000.0        54.0  2016-11-25T00:00:00      2   \n",
       "23521            13   8500000.0        65.0  2018-11-01T00:00:00      2   \n",
       "23680            14   5000000.0        59.0  2019-04-04T00:00:00      3   \n",
       "\n",
       "       ceiling_height  floors_total  living_area  floor is_apartment  ...  \\\n",
       "41                NaN          14.0         59.0      8        False  ...   \n",
       "171              2.50           9.0         38.0      8          NaN  ...   \n",
       "184              2.65           9.0         26.1      5          NaN  ...   \n",
       "220              2.50          25.0         28.0      6          NaN  ...   \n",
       "319              2.50           5.0         47.4      4          NaN  ...   \n",
       "...               ...           ...          ...    ...          ...  ...   \n",
       "23216             NaN           5.0         90.2      4          NaN  ...   \n",
       "23297             NaN           5.0         42.2      2          NaN  ...   \n",
       "23328             NaN          14.0         40.0      8          NaN  ...   \n",
       "23521             NaN           4.0         44.0      2          NaN  ...   \n",
       "23680            2.50           5.0         52.0      1          NaN  ...   \n",
       "\n",
       "       kitchen_area  balcony    locality_name  airports_nearest  \\\n",
       "41             12.0      5.0  Санкт-Петербург           37715.0   \n",
       "171            10.0      1.0   посёлок Шушары           18471.0   \n",
       "184             6.2      NaN  Санкт-Петербург           13952.0   \n",
       "220             9.0      NaN  Санкт-Петербург           25408.0   \n",
       "319             6.4      1.0  Санкт-Петербург           43095.0   \n",
       "...             ...      ...              ...               ...   \n",
       "23216          16.0      NaN  Санкт-Петербург           26259.0   \n",
       "23297           6.0      1.0           Высоцк               NaN   \n",
       "23328          10.0      0.0          Колпино           25612.0   \n",
       "23521          15.3      NaN  Санкт-Петербург           22276.0   \n",
       "23680           7.0      NaN  Санкт-Петербург           26835.0   \n",
       "\n",
       "      city_centers_nearest  parks_around3000  parks_nearest  ponds_around3000  \\\n",
       "41                 12612.0               1.0          725.0               1.0   \n",
       "171                24272.0               0.0            NaN               0.0   \n",
       "184                15031.0               0.0            NaN               1.0   \n",
       "220                16166.0               0.0            NaN               0.0   \n",
       "319                15599.0               0.0            NaN               0.0   \n",
       "...                    ...               ...            ...               ...   \n",
       "23216               4961.0               0.0            NaN               2.0   \n",
       "23297                  NaN               NaN            NaN               NaN   \n",
       "23328              31399.0               0.0            NaN               0.0   \n",
       "23521               3996.0               1.0          627.0               0.0   \n",
       "23680              11878.0               0.0            NaN               0.0   \n",
       "\n",
       "       ponds_nearest  days_exposition  \n",
       "41             759.0            179.0  \n",
       "171              NaN             11.0  \n",
       "184            824.0             12.0  \n",
       "220              NaN             28.0  \n",
       "319              NaN            974.0  \n",
       "...              ...              ...  \n",
       "23216          838.0           1052.0  \n",
       "23297            NaN             45.0  \n",
       "23328            NaN            343.0  \n",
       "23521            NaN              NaN  \n",
       "23680            NaN              NaN  \n",
       "\n",
       "[469 rows x 22 columns]"
      ]
     },
     "execution_count": 12,
     "metadata": {},
     "output_type": "execute_result"
    }
   ],
   "source": [
    "data[(data['living_area'] + data['kitchen_area']) > (0.9*data['total_area'])]"
   ]
  },
  {
   "cell_type": "markdown",
   "id": "2738562c",
   "metadata": {},
   "source": [
    "469 значений !"
   ]
  },
  {
   "cell_type": "markdown",
   "id": "21813143",
   "metadata": {},
   "source": [
    "Скорее всего жилплощадь получена вычитанием кухни из суммарной площади. Это не правильно, так как жилая площадь- это суммарная площадь только комнат (без корридоров и т.д)"
   ]
  },
  {
   "cell_type": "markdown",
   "id": "312c7298",
   "metadata": {},
   "source": [
    "Очевидно, что столбец living_area заполнен некорректно "
   ]
  },
  {
   "cell_type": "code",
   "execution_count": 13,
   "id": "6cee5d03",
   "metadata": {},
   "outputs": [],
   "source": [
    "def corr_living_area(data:pd.DataFrame) -> pd.DataFrame:\n",
    "    i = 0\n",
    "    while i < len(data['living_area']):\n",
    "        if (data.loc[i,'living_area'] + data.loc[i,'kitchen_area']) > (0.89 * data.loc[i,'total_area']):                     \n",
    "                data.loc[i,'living_area'] = 0.89*data.loc[i,'total_area'] - data.loc[i,'kitchen_area']  \n",
    "        i += 1\n",
    "    return data   "
   ]
  },
  {
   "cell_type": "code",
   "execution_count": 14,
   "id": "edc0c290",
   "metadata": {},
   "outputs": [],
   "source": [
    "corr_living_area(data);"
   ]
  },
  {
   "cell_type": "code",
   "execution_count": 15,
   "id": "3ebb1175",
   "metadata": {},
   "outputs": [
    {
     "data": {
      "text/html": [
       "<div>\n",
       "<style scoped>\n",
       "    .dataframe tbody tr th:only-of-type {\n",
       "        vertical-align: middle;\n",
       "    }\n",
       "\n",
       "    .dataframe tbody tr th {\n",
       "        vertical-align: top;\n",
       "    }\n",
       "\n",
       "    .dataframe thead th {\n",
       "        text-align: right;\n",
       "    }\n",
       "</style>\n",
       "<table border=\"1\" class=\"dataframe\">\n",
       "  <thead>\n",
       "    <tr style=\"text-align: right;\">\n",
       "      <th></th>\n",
       "      <th>total_images</th>\n",
       "      <th>last_price</th>\n",
       "      <th>total_area</th>\n",
       "      <th>first_day_exposition</th>\n",
       "      <th>rooms</th>\n",
       "      <th>ceiling_height</th>\n",
       "      <th>floors_total</th>\n",
       "      <th>living_area</th>\n",
       "      <th>floor</th>\n",
       "      <th>is_apartment</th>\n",
       "      <th>...</th>\n",
       "      <th>kitchen_area</th>\n",
       "      <th>balcony</th>\n",
       "      <th>locality_name</th>\n",
       "      <th>airports_nearest</th>\n",
       "      <th>city_centers_nearest</th>\n",
       "      <th>parks_around3000</th>\n",
       "      <th>parks_nearest</th>\n",
       "      <th>ponds_around3000</th>\n",
       "      <th>ponds_nearest</th>\n",
       "      <th>days_exposition</th>\n",
       "    </tr>\n",
       "  </thead>\n",
       "  <tbody>\n",
       "  </tbody>\n",
       "</table>\n",
       "<p>0 rows × 22 columns</p>\n",
       "</div>"
      ],
      "text/plain": [
       "Empty DataFrame\n",
       "Columns: [total_images, last_price, total_area, first_day_exposition, rooms, ceiling_height, floors_total, living_area, floor, is_apartment, studio, open_plan, kitchen_area, balcony, locality_name, airports_nearest, city_centers_nearest, parks_around3000, parks_nearest, ponds_around3000, ponds_nearest, days_exposition]\n",
       "Index: []\n",
       "\n",
       "[0 rows x 22 columns]"
      ]
     },
     "execution_count": 15,
     "metadata": {},
     "output_type": "execute_result"
    }
   ],
   "source": [
    "data[(data['living_area'] + data['kitchen_area']) > (0.9 * data['total_area'])]  "
   ]
  },
  {
   "cell_type": "code",
   "execution_count": 16,
   "id": "d078a811",
   "metadata": {},
   "outputs": [],
   "source": [
    "area_median = data.pivot_table(index= 'total_area', values= ['kitchen_area', 'living_area'] , aggfunc='median') "
   ]
  },
  {
   "cell_type": "markdown",
   "id": "7c2ba1b9",
   "metadata": {},
   "source": [
    "Остальные значения заполним медианными для суммарной площади. Для таких строчек значения жилой площади так же придется расчитывать вне зависимости от значения"
   ]
  },
  {
   "cell_type": "code",
   "execution_count": 17,
   "id": "132a8c90",
   "metadata": {},
   "outputs": [],
   "source": [
    "def median_area(data:pd.DataFrame, area_median:pd.DataFrame, column1:str, column2:str, column3:str) -> pd.DataFrame:         \n",
    "    i = 0\n",
    "    while i < len(data[column3]):\n",
    "        if mt.isnan(data.loc[i, column3]) == True:                \n",
    "                data.loc[i, column3] = (area_median.loc[area_median.index == data.loc[30, column1] \n",
    "                                                                       ,column2].tolist()[0])\n",
    "                \n",
    "                data.loc[i, column2] = (0.85*data.loc[i ,column1] - data.loc[i ,column3])\n",
    "        i += 1\n",
    "    return data"
   ]
  },
  {
   "cell_type": "code",
   "execution_count": 18,
   "id": "caf09da0",
   "metadata": {},
   "outputs": [],
   "source": [
    "data = median_area(data, area_median, 'total_area', 'living_area', 'kitchen_area')"
   ]
  },
  {
   "cell_type": "code",
   "execution_count": 19,
   "id": "7bf817e5",
   "metadata": {},
   "outputs": [
    {
     "data": {
      "text/plain": [
       "0"
      ]
     },
     "execution_count": 19,
     "metadata": {},
     "output_type": "execute_result"
    }
   ],
   "source": [
    "data.kitchen_area.isna().sum()"
   ]
  },
  {
   "cell_type": "markdown",
   "id": "c324eeba",
   "metadata": {},
   "source": [
    "Аналогично заполним оставшиеся пропуски в living_area"
   ]
  },
  {
   "cell_type": "code",
   "execution_count": null,
   "id": "f42625f1",
   "metadata": {},
   "outputs": [],
   "source": [
    "data = median_area(data, area_median, 'total_area', 'kitchen_area', 'living_area')"
   ]
  },
  {
   "cell_type": "code",
   "execution_count": null,
   "id": "331b5ef5",
   "metadata": {},
   "outputs": [],
   "source": [
    "data.living_area.isna().sum()"
   ]
  },
  {
   "cell_type": "markdown",
   "id": "3c2b3911",
   "metadata": {},
   "source": [
    "Проверим количетво аномалий"
   ]
  },
  {
   "cell_type": "code",
   "execution_count": null,
   "id": "ae15f0e6",
   "metadata": {},
   "outputs": [],
   "source": [
    "data[(data['living_area'] + data['kitchen_area']) > (0.9 * data['total_area'])]  "
   ]
  },
  {
   "cell_type": "markdown",
   "id": "760ab598",
   "metadata": {},
   "source": [
    "<div class=\"alert alert-danger\">\n",
    "<font size=\"4\"><b>❌ Комментарий ревьюера</b></font>\n",
    "    <br /> \n",
    "    <font size=\"3\", color = \"black\">\n",
    "<br />После заполнения синтетическими данными столбцов, стоит провести проверку на корректность значений всех наших площадей, т.к. есть (коридоры, сан.узлы, балконы)\n",
    "        \n",
    "        total_area*0.9 <= (living_area + kitchen_area)\n",
    "                                     \n",
    "если алгоритм приводит к появлению аномалий, стоит подумать над его содержимым"
   ]
  },
  {
   "cell_type": "markdown",
   "id": "e2bb3abd",
   "metadata": {},
   "source": [
    "<div class=\"alert alert-info\">\n",
    "<font size=\"4\", color = \"black\"><b>✍ Комментарий студента</b></font>\n",
    "    <br /> \n",
    "    <font size=\"3\", color = \"black\">\n",
    "<br /> Заполнил медианными значениями не по комнатам а по суммарной площади. Аномалий нет"
   ]
  },
  {
   "cell_type": "markdown",
   "id": "7b17bd09",
   "metadata": {},
   "source": [
    "#### 2.1.2 Столбцы locality_name и balcony"
   ]
  },
  {
   "cell_type": "markdown",
   "id": "9b56e0a7",
   "metadata": {},
   "source": [
    "В столбце локаций всего 49 пропусков. По сравнению с общим количеством этим можно принебречь"
   ]
  },
  {
   "cell_type": "code",
   "execution_count": null,
   "id": "3253c0eb",
   "metadata": {
    "scrolled": true
   },
   "outputs": [],
   "source": [
    "# data = data.dropna(subset = 'locality_name').reset_index(drop= True)\n",
    "\n",
    "data= data.dropna(subset= ['locality_name']).reset_index(drop= True)"
   ]
  },
  {
   "cell_type": "markdown",
   "id": "37242ee3",
   "metadata": {},
   "source": [
    "<div class=\"alert alert-warning\", style=\"border:solid coral 3px; padding: 20px\">\n",
    "<font size=\"4\", color = \"DimGrey\"><b>⚠️ Комментарий ревьюера</b></font>\n",
    "    <br /> \n",
    "    <font size=\"3\", color = \"black\">\n",
    "<br />  \n",
    "        \n",
    "     data = data.dropna(subset = 'locality_name').reset_index(drop= True)\n",
    "        \n",
    "Стоит использовать код, который не станет заложником версии.\n",
    "\n",
    "Список лучше применять даже для одного столбца\n",
    "\n",
    "    "
   ]
  },
  {
   "cell_type": "markdown",
   "id": "aca7e24a",
   "metadata": {},
   "source": [
    "<div class=\"alert alert-info\">\n",
    "<font size=\"4\", color = \"black\"><b>✍ Комментарий студента</b></font>\n",
    "    <br /> \n",
    "    <font size=\"3\", color = \"black\">\n",
    "<br /> Ок. Применим dropna() только для одного столбца"
   ]
  },
  {
   "cell_type": "markdown",
   "id": "67144107",
   "metadata": {},
   "source": [
    "Так же если не указано количество балконов, скорее всего их нет"
   ]
  },
  {
   "cell_type": "code",
   "execution_count": null,
   "id": "ea0bc210",
   "metadata": {},
   "outputs": [],
   "source": [
    "data['balcony'] = data['balcony'].fillna(0)"
   ]
  },
  {
   "cell_type": "code",
   "execution_count": null,
   "id": "18c8771f",
   "metadata": {},
   "outputs": [],
   "source": [
    "data.balcony.isna().sum()"
   ]
  },
  {
   "cell_type": "markdown",
   "id": "440ccf05",
   "metadata": {},
   "source": [
    "#### 2.1.3 Столбец floors"
   ]
  },
  {
   "cell_type": "markdown",
   "id": "cb3e16ff",
   "metadata": {},
   "source": [
    "Проверим гипотезу, что если этаж не указан, значит в здании всего один этаж"
   ]
  },
  {
   "cell_type": "code",
   "execution_count": null,
   "id": "32ca1f2b",
   "metadata": {},
   "outputs": [],
   "source": [
    "data[data['floor'] != 1].floor.isna().sum()"
   ]
  },
  {
   "cell_type": "markdown",
   "id": "d44c5be8",
   "metadata": {},
   "source": [
    "Гипотеза не подтвердилась. В столбце количества этажей всего 86 пропусков. По сравнению с общим количеством этим можно принебречь"
   ]
  },
  {
   "cell_type": "code",
   "execution_count": null,
   "id": "79ca0c6e",
   "metadata": {},
   "outputs": [],
   "source": [
    "data = data.dropna(subset = ['floors_total']).reset_index(drop = True)\n",
    "data['floors_total'].isna().sum()"
   ]
  },
  {
   "cell_type": "markdown",
   "id": "7577a13f",
   "metadata": {},
   "source": [
    "####  2.1.4 Cтолбец is_appartament"
   ]
  },
  {
   "cell_type": "markdown",
   "id": "189d2820",
   "metadata": {},
   "source": [
    "***Гипотеза:*** Скорее всего пропуски в столбце is_apartament означают, что объект недвижимости не является апартаментами."
   ]
  },
  {
   "cell_type": "markdown",
   "id": "b0db9427",
   "metadata": {},
   "source": [
    "Для проверки данной гипотезы логично предположить, что практически все апартаменты находятся в Санкт-Петербурге.  \n",
    "Для всех населенных пунктов кроме Спб сравним количество пропущенных значений в столбце is_appartament и количество записей об объявлениях"
   ]
  },
  {
   "cell_type": "code",
   "execution_count": null,
   "id": "0c3e0300",
   "metadata": {
    "scrolled": true
   },
   "outputs": [],
   "source": [
    "not_in_spb = data.query('locality_name != \"Санкт-Петербург\"').is_apartment\n",
    "\n",
    "print('Количество пропусков в столбце is_apartament вне спб, Количество записей о недвижимости вне спб:',\n",
    "      not_in_spb.isna().sum(),',', len(not_in_spb))     "
   ]
  },
  {
   "cell_type": "markdown",
   "id": "2347ef5a",
   "metadata": {},
   "source": [
    "<div class=\"alert alert-warning\", style=\"border:solid coral 3px; padding: 20px\">\n",
    "<font size=\"4\"><b>⚠️ Комментарий ревьюера</b></font>\n",
    "    <br /> \n",
    "    <font size=\"3\", color = \"black\">\n",
    "<br />\n",
    "Для красоты («продаваемости») всего проекта не стоит выходить за видимую ширину тетради юпитер ноутбука, коллеги ценят удобство прочтения кода. Широкие строки кода рекомендуется — делить <a href=\"https://qastack.ru/programming/53162/how-can-i-do-a-line-break-line-continuation-in-python\">Перенос длинных строк кода</a>. \n",
    "    \n",
    "</div>"
   ]
  },
  {
   "cell_type": "code",
   "execution_count": null,
   "id": "4c3c89fd",
   "metadata": {
    "scrolled": true
   },
   "outputs": [],
   "source": [
    "data.query('locality_name != \"Санкт-Петербург\"').is_apartment.count()"
   ]
  },
  {
   "cell_type": "markdown",
   "id": "620a2049",
   "metadata": {},
   "source": [
    "Всего 927 записей о статусе апартамены/не апартаменты в Ленинградской области !"
   ]
  },
  {
   "cell_type": "markdown",
   "id": "7422ab70",
   "metadata": {},
   "source": [
    "Для того чтобы точно убедиться, среди данных записей посмотрим количество аппартаментов"
   ]
  },
  {
   "cell_type": "code",
   "execution_count": null,
   "id": "34bc9267",
   "metadata": {},
   "outputs": [],
   "source": [
    "not_in_spb = data.query('is_apartment == True' and 'is_apartment.isna() != True' and 'locality_name != \"Санкт-Петербург\"')\n",
    "print('Количество аппартаменов в Лен.области:',not_in_spb.is_apartment.sum())"
   ]
  },
  {
   "cell_type": "markdown",
   "id": "07e1e4a6",
   "metadata": {},
   "source": [
    "Всего 11 аппартаментов по всей Ленинградской области. Из этого можно делать вывод, что если в столбце is_appartment стоит NAN, скорее всего объект недвижимости не является аппартаментами. Заполним пропуски значениями False"
   ]
  },
  {
   "cell_type": "code",
   "execution_count": null,
   "id": "3bb35316",
   "metadata": {},
   "outputs": [],
   "source": [
    "data['is_apartment'] = data['is_apartment'].fillna(False)\n",
    "data.is_apartment.isna().sum()"
   ]
  },
  {
   "cell_type": "markdown",
   "id": "d19b8f2f",
   "metadata": {},
   "source": [
    "#### 2.1.5. Столбцы parks_around3000 и ponds_around3000"
   ]
  },
  {
   "cell_type": "markdown",
   "id": "3295eb3d",
   "metadata": {},
   "source": [
    "Если есть расстояние до парков и водоёмов, логично предположить что по близости есть хотябы один парк. Поэтому заполним все строчки где есть расстояние до парка и водоема единицами."
   ]
  },
  {
   "cell_type": "code",
   "execution_count": null,
   "id": "fdcbede8",
   "metadata": {},
   "outputs": [],
   "source": [
    "data[(data['parks_nearest'].isna() != True) & (data['parks_around3000'].isna() == True)].head()"
   ]
  },
  {
   "cell_type": "code",
   "execution_count": null,
   "id": "8eb50000",
   "metadata": {},
   "outputs": [],
   "source": [
    "data[(data['ponds_nearest'].isna() != True) & (data['ponds_around3000'].isna() == True)].head()"
   ]
  },
  {
   "cell_type": "markdown",
   "id": "573013a9",
   "metadata": {},
   "source": [
    "Для всех столбцов где есть расстояние до парка и водоема, количество парков и водоемов уже заполнено.  \n",
    "Можно предположить, что если парки или водоемы не указаны, их по близости нет"
   ]
  },
  {
   "cell_type": "code",
   "execution_count": null,
   "id": "fe4c2d17",
   "metadata": {},
   "outputs": [],
   "source": [
    "data['parks_around3000'] = data['parks_around3000'].fillna(0)\n",
    "data['ponds_around3000'] = data['ponds_around3000'].fillna(0)"
   ]
  },
  {
   "cell_type": "markdown",
   "id": "ebd704fd",
   "metadata": {},
   "source": [
    "**Вывод: Гипотеза верна. С данным столбцом мы ничего не сделаем**"
   ]
  },
  {
   "cell_type": "code",
   "execution_count": null,
   "id": "eb4eac87",
   "metadata": {
    "scrolled": true
   },
   "outputs": [],
   "source": [
    "data.isna().sum()"
   ]
  },
  {
   "cell_type": "markdown",
   "id": "b35f041c",
   "metadata": {},
   "source": [
    "#### 2.1.7 Столбец ceiling_height"
   ]
  },
  {
   "cell_type": "markdown",
   "id": "ee429964",
   "metadata": {},
   "source": [
    "Высоту потолков расчитаем медианное значение по категориям цены и местоположения.  \n",
    "Для этого категоризируем стоимость квартир."
   ]
  },
  {
   "cell_type": "code",
   "execution_count": null,
   "id": "68fe3f74",
   "metadata": {},
   "outputs": [],
   "source": [
    "data['last_price'].describe()"
   ]
  },
  {
   "cell_type": "code",
   "execution_count": null,
   "id": "7d1c35c8",
   "metadata": {},
   "outputs": [],
   "source": [
    "for i in range(len(data)):\n",
    "    if data.loc[i, 'last_price'] < 3e+06:\n",
    "        data.loc[i, 'last_price_category'] = 'E'\n",
    "    elif 3e+06 <= data.loc[i, 'last_price'] <= 4e+06:\n",
    "        data.loc[i, 'last_price_category'] = 'D'\n",
    "    elif 4e+06 <= data.loc[i, 'last_price'] <= 5e+06:\n",
    "        data.loc[i, 'last_price_category'] = 'C'\n",
    "    elif 5e+06 <= data.loc[i, 'last_price'] <= 6.79e+06:\n",
    "        data.loc[i, 'last_price_category'] = 'B'\n",
    "    elif data.loc[i, 'last_price']  > 6.79e+06:\n",
    "        data.loc[i, 'last_price_category'] = 'А' \n",
    "    else:\n",
    "        print(data.loc[i, 'last_price'])\n",
    "        assert(False)   "
   ]
  },
  {
   "cell_type": "markdown",
   "id": "db446a2b",
   "metadata": {},
   "source": [
    "Заполним медианными значениями по городу и цене"
   ]
  },
  {
   "cell_type": "code",
   "execution_count": null,
   "id": "d3d4f095",
   "metadata": {},
   "outputs": [],
   "source": [
    "for i in range(len(data['ceiling_height'])): \n",
    "    if mt.isnan(data.loc[i ,'ceiling_height']) == True :\n",
    "        locality_name = data.loc[i ,\"locality_name\"]\n",
    "        last_price_category = data.loc[i ,\"last_price_category\"]       \n",
    "        data.loc[i ,'ceiling_height'] = data.query(('locality_name == @locality_name') and ('last_price_category ==@last_price_category')).ceiling_height.median()"
   ]
  },
  {
   "cell_type": "code",
   "execution_count": null,
   "id": "21feb1da",
   "metadata": {},
   "outputs": [],
   "source": [
    "data.ceiling_height.isna().sum()"
   ]
  },
  {
   "cell_type": "markdown",
   "id": "f112f964",
   "metadata": {},
   "source": [
    "<div class=\"alert alert-warning\", style=\"border:solid coral 3px; padding: 20px\">\n",
    "<font size=\"4\", color = \"DimGrey\"><b>⚠️ Комментарий ревьюера</b></font>\n",
    "    <br /> \n",
    "    <font size=\"3\", color = \"black\">\n",
    "<br />При заполнении средним или медианой необходимо четко отслеживать изменение других статистик: стандартное отклонение, дисперсию и другие параметры выборки\n",
    "        \n",
    "... если рассмотреть районность высоты потолков, т.к. в современных районах Питера высота потолков будет ожидаема ниже, чем в исторических, мы увидим, что заполнение подобного объема пропусков медианой или средним значением «размажет» это отличительное свойство объектов недвижимости в центре Питера\n",
    "        \n",
    "[Обработка пропусков в данных](https://loginom.ru/blog/missing)\n",
    "        \n",
    "Стоит оптимизировать алгоритм\n",
    "\n",
    "        for i in range(len(data['ceiling_height'])): \n",
    "            if mt.isnan(data.loc[i ,'ceiling_height']) == True :\n",
    "                locality_name = data.loc[i ,\"locality_name\"]\n",
    "                last_price_category = data.loc[i ,\"last_price_category\"]\n",
    "                data.loc[i ,'ceiling_height'] = data.query(('locality_name == @locality_name') and ('last_price_category ==@last_price_category')).ceiling_height.median()      \n",
    "        \n",
    "[Анти-паттерн №2: применение циклов for при работе с объектами pandas DataFrame](https://habr.com/ru/companies/wunderfund/articles/682388/)"
   ]
  },
  {
   "cell_type": "markdown",
   "id": "777c0666",
   "metadata": {},
   "source": [
    "<div class=\"alert alert-info\">\n",
    "<font size=\"4\", color = \"black\"><b>✍ Комментарий студента</b></font>\n",
    "    <br /> \n",
    "    <font size=\"3\", color = \"black\">\n",
    "<br /> Центр города или элитная недвижимость в курортном районе (с соответствующей высотой потолков) безусловно будет лидером по ценам. Цена учитывается при заполнении потолков. Таким образом (по цене) считаем медиану по центру а не по всему городу"
   ]
  },
  {
   "cell_type": "markdown",
   "id": "ba8e0370",
   "metadata": {},
   "source": [
    "#### 2.1.8 Столбец days_exposition"
   ]
  },
  {
   "cell_type": "markdown",
   "id": "9eb90fe0",
   "metadata": {},
   "source": [
    "Скорее всего 3171 объявление имеет пропуски в столбце days_exposition, так как они были закрыты в первый день. Логично данные пропуски заполнить нулями"
   ]
  },
  {
   "cell_type": "code",
   "execution_count": null,
   "id": "516920aa",
   "metadata": {},
   "outputs": [],
   "source": [
    "data['days_exposition'] = data['days_exposition'].fillna(0)"
   ]
  },
  {
   "cell_type": "markdown",
   "id": "a73189c0",
   "metadata": {},
   "source": [
    "#### 2.1.9 Столбец city_centers_nearest"
   ]
  },
  {
   "cell_type": "markdown",
   "id": "4a08cb5a",
   "metadata": {},
   "source": [
    "Заполним медианным для цены и города"
   ]
  },
  {
   "cell_type": "markdown",
   "id": "a0e2cdea",
   "metadata": {},
   "source": [
    "Изучим распределение пропусков по городам"
   ]
  },
  {
   "cell_type": "code",
   "execution_count": null,
   "id": "6e2f049e",
   "metadata": {},
   "outputs": [],
   "source": [
    "def count_nan_cities(data:pd.DataFrame) -> pd.DataFrame:\n",
    "    unique_cities =  data['locality_name'].unique()\n",
    "    output =  pd.DataFrame(columns= ['locality_name', 'NaN_count'])\n",
    "    for index, city in enumerate(unique_cities): \n",
    "        output.loc[index, 'locality_name'] = city\n",
    "        output.loc[index, 'NaN_count'] = data[data['locality_name'] == city].city_centers_nearest.isna().sum()  \n",
    "    return output "
   ]
  },
  {
   "cell_type": "code",
   "execution_count": null,
   "id": "23934b35",
   "metadata": {},
   "outputs": [],
   "source": [
    "count_nan_cities(data)"
   ]
  },
  {
   "cell_type": "markdown",
   "id": "21332705",
   "metadata": {},
   "source": [
    "В лидерах спб и пригороды. Для Санкт-Петербурга расстояние до центра является ключевым показателем. Для остальных городов заполнять нет смысла. Так же очевидно, что при заполнении медианными значениями требуется ориентироваться "
   ]
  },
  {
   "cell_type": "code",
   "execution_count": null,
   "id": "3d9f8de4",
   "metadata": {},
   "outputs": [],
   "source": [
    "for i in range(len(data['city_centers_nearest'])): \n",
    "    if (data.loc[i,'locality_name'] == 'Санкт-Петербург'):\n",
    "        if mt.isnan(data.loc[i ,'city_centers_nearest']) == True:         \n",
    "            last_price_category = data.loc[i ,\"last_price_category\"]\n",
    "            data.loc[i ,'city_centers_nearest'] = data.query(('locality_name == Санкт-Петербург') and ('last_price_category ==@last_price_category')).city_centers_nearest.median()"
   ]
  },
  {
   "cell_type": "markdown",
   "id": "9b18c5f8",
   "metadata": {},
   "source": [
    "<div class=\"alert alert-warning\", style=\"border:solid coral 3px; padding: 20px\">\n",
    "<font size=\"4\"><b>⚠️ Комментарий ревьюера</b></font>\n",
    "    <br /> \n",
    "    <font size=\"3\", color = \"black\">\n",
    "<br /> Сам алгоритм потребляет большое кол-во ресурсов, мы опрашиваем все 23 тысячи строк, это избыточное действие ...\n",
    "        "
   ]
  },
  {
   "cell_type": "markdown",
   "id": "8b362253",
   "metadata": {},
   "source": [
    "<div class=\"alert alert-danger\">\n",
    "<font size=\"4\"><b>❌ Комментарий ревьюера</b></font>\n",
    "    <br /> \n",
    "    <font size=\"3\", color = \"black\">\n",
    "<br />Не изучено распределение пропусков по городам до заполнения значений в ['city_сenters_nearest']\n",
    "        \n",
    "к каким населенным пунктам они относятся и оценить степень влияния пропусков на дальнейший анализ (будут мешать или нет)\n",
    "        "
   ]
  },
  {
   "cell_type": "markdown",
   "id": "fc266d81",
   "metadata": {},
   "source": [
    "<div class=\"alert alert-info\">\n",
    "<font size=\"4\", color = \"black\"><b>✍ Комментарий студента</b></font>\n",
    "    <br /> \n",
    "    <font size=\"3\", color = \"black\">\n",
    "<br /> В спб конечно мешать будут. В остальных городах не критично. Немного оптимизировал алгоритм. Несмотря на то что он попрежнему смотрит все строчки, в большинстве он только проверяет город."
   ]
  },
  {
   "cell_type": "code",
   "execution_count": null,
   "id": "b5a7568a",
   "metadata": {},
   "outputs": [],
   "source": [
    "data.isna().sum()"
   ]
  },
  {
   "cell_type": "markdown",
   "id": "f46e6ed0",
   "metadata": {},
   "source": [
    "К сожалению, остальные столбцы мы не заполним"
   ]
  },
  {
   "cell_type": "markdown",
   "id": "32ba9395",
   "metadata": {},
   "source": [
    "**Причина проблемы:** \n",
    "\n",
    "Пропуски данных связаны:\n",
    "\n",
    "1. C человеческим фактором (пользователи не указывают определенные параметры)\n",
    "2. C работой сайта, который воспринимает неуказанные параметры как NAN"
   ]
  },
  {
   "cell_type": "markdown",
   "id": "2c6e3586",
   "metadata": {},
   "source": [
    "### 2.2. Типы данных"
   ]
  },
  {
   "cell_type": "markdown",
   "id": "2e6c9717",
   "metadata": {},
   "source": [
    "Очевидно, что число этажей, количество балконов и количество дней с даты публикации не может быть дробным. Так же очевидно, что столбец is_apartment может принимать только 2 значения. Переведем данные столбцы в int и bool соответственно"
   ]
  },
  {
   "cell_type": "code",
   "execution_count": null,
   "id": "9fcc3e54",
   "metadata": {},
   "outputs": [],
   "source": [
    "data['floors_total'] = data['floors_total'].astype(int)\n",
    "data['balcony'] = data['balcony'].astype(int)\n",
    "data['days_exposition'] = data['days_exposition'].astype(int)\n",
    "data['is_apartment'] = data['is_apartment'].astype(bool)\n",
    "data['rooms'] = data['rooms'].astype(int)"
   ]
  },
  {
   "cell_type": "markdown",
   "id": "2ef1be06",
   "metadata": {},
   "source": [
    "Значения даты публикации хранятся в строках. Лучше перевести их в DateTime"
   ]
  },
  {
   "cell_type": "code",
   "execution_count": null,
   "id": "9f48d1dc",
   "metadata": {},
   "outputs": [],
   "source": [
    "data['first_day_exposition'] = pd.to_datetime(data['first_day_exposition'] , format='%Y-%m-%dT%H:%M:%S.%f')"
   ]
  },
  {
   "cell_type": "markdown",
   "id": "e8ad34c6",
   "metadata": {},
   "source": [
    "Дробным не может быть так же кроличество парков и водоемов"
   ]
  },
  {
   "cell_type": "code",
   "execution_count": null,
   "id": "c1c0b71d",
   "metadata": {},
   "outputs": [],
   "source": [
    "data['parks_around3000'] = data['parks_around3000'].astype(int)\n",
    "data['ponds_around3000'] = data['ponds_around3000'].astype(int)"
   ]
  },
  {
   "cell_type": "markdown",
   "id": "49bb65dd",
   "metadata": {},
   "source": [
    "Посмотрим на результат"
   ]
  },
  {
   "cell_type": "code",
   "execution_count": null,
   "id": "52f63537",
   "metadata": {},
   "outputs": [],
   "source": [
    "data.info()"
   ]
  },
  {
   "cell_type": "markdown",
   "id": "60d54c5e",
   "metadata": {},
   "source": [
    "**Причина проблемы:**\n",
    "\n",
    "Некорректные типы данных связаны с ошибками в ПО (ошибки в конвертации/сборе информации на сайте)"
   ]
  },
  {
   "cell_type": "markdown",
   "id": "eda6783a",
   "metadata": {},
   "source": [
    "### 2.3. Обработка дубликатов"
   ]
  },
  {
   "cell_type": "markdown",
   "id": "32dfc3d0",
   "metadata": {},
   "source": [
    "По сути на явные и неявные дубликаты можно проверить только по столбцу локации"
   ]
  },
  {
   "cell_type": "code",
   "execution_count": null,
   "id": "6a35ffa1",
   "metadata": {},
   "outputs": [],
   "source": [
    "data.locality_name.unique()"
   ]
  },
  {
   "cell_type": "code",
   "execution_count": null,
   "id": "27b6f650",
   "metadata": {},
   "outputs": [],
   "source": [
    "data.locality_name.nunique()"
   ]
  },
  {
   "cell_type": "code",
   "execution_count": null,
   "id": "2e397c3b",
   "metadata": {},
   "outputs": [],
   "source": [
    "def delete_settlements (row :str) -> str:\n",
    "    settlements  = (['посёлок', 'поселок',  'городского', 'типа', 'городской', 'деревня',\n",
    "     'станции', 'Пансионат', 'садовое', 'товарищество', 'село', 'коттеджный', 'садоводческое', 'некоммерческое', 'при', 'железнодорожной'])\n",
    "    for settlement in settlements:\n",
    "        if settlement in row:\n",
    "            row = row.replace(settlement, '').strip() \n",
    "    return row"
   ]
  },
  {
   "cell_type": "code",
   "execution_count": null,
   "id": "9fef7d9f",
   "metadata": {},
   "outputs": [],
   "source": [
    "data.locality_name = data.locality_name.apply(delete_settlements).str.lower()"
   ]
  },
  {
   "cell_type": "code",
   "execution_count": null,
   "id": "a8c12791",
   "metadata": {},
   "outputs": [],
   "source": [
    "data.locality_name.nunique()"
   ]
  },
  {
   "cell_type": "markdown",
   "id": "84ca01dc",
   "metadata": {},
   "source": [
    "59 дубликатов убрали"
   ]
  },
  {
   "cell_type": "code",
   "execution_count": null,
   "id": "8925090f",
   "metadata": {
    "scrolled": true
   },
   "outputs": [],
   "source": [
    "data.locality_name.unique()"
   ]
  },
  {
   "cell_type": "markdown",
   "id": "0ce36396",
   "metadata": {},
   "source": [
    "<div class=\"alert alert-warning\", style=\"border:solid coral 3px; padding: 20px\">\n",
    "<font size=\"4\"><b>⚠️ Комментарий ревьюера</b></font>\n",
    "    <br /> \n",
    "    <font size=\"3\", color = \"black\">\n",
    "<br />Стоит  доработать \n",
    "        \n",
    "        'садоводческое некоммерческое  лесная поляна', \n",
    "        \n",
    "       'при железнодорожной  вещево',"
   ]
  },
  {
   "cell_type": "markdown",
   "id": "cc936168",
   "metadata": {},
   "source": [
    "<div style=\"border:solid steelblue 3px; padding: 20px\">\n",
    "<font size=\"4\">🍕<b> Комментарий ревьюера</b></font>\n",
    "<br /> \n",
    "<font size=\"3\", color = \"black\">\n",
    "<br />\n",
    "    \n",
    "Для того, __чтобы изменить лишь часть строки,__ можно добавить к коду — .str\n",
    "    \n",
    "        .str.replace('посёлок','поселок')\n",
    "\n",
    "https://pandas.pydata.org/pandas-docs/stable/reference/api/pandas.Series.str.replace.html"
   ]
  },
  {
   "cell_type": "markdown",
   "id": "add2ddd4",
   "metadata": {},
   "source": [
    "<div class=\"alert alert-warning\", style=\"border:solid coral 3px; padding: 20px\">\n",
    "<font size=\"4\"><b>⚠️ Комментарий ревьюера</b></font>\n",
    "    <br /> \n",
    "    <font size=\"3\", color = \"black\">\n",
    "<br />Стоит исследовать выборку\n",
    "       \n",
    "        \n",
    "+ __на простое дублирование записей__\n",
    " + __особенно это станет важным, когда мы перейдем к более сложным задачам на втором модуле курса__\n",
    "        \n",
    "<br />  \n",
    "        \n",
    "+ дополнительно — на рабочих проектах стоит искать дубликаты по сумме ключевых параметров (подмножеству), для примера: \n",
    "\n",
    " + общ. площадь квартиры,\n",
    " + этаж, \n",
    " + общая этажность дома, \n",
    " + расстояние до центра\n",
    " + название населенного пункта\n",
    " + кол-во комнат\n",
    "    \n",
    "https://pandas.pydata.org/pandas-docs/stable/reference/api/pandas.DataFrame.duplicated.html?highlight=duplicat#pandas.DataFrame.duplicated\n",
    "        \n",
    "https://www.codecamp.ru/blog/pandas-find-duplicates/        "
   ]
  },
  {
   "cell_type": "markdown",
   "id": "af1894e9",
   "metadata": {},
   "source": [
    "### 2.4. Обработка выбросов"
   ]
  },
  {
   "cell_type": "markdown",
   "id": "2950c133",
   "metadata": {},
   "source": [
    "Взглянем на данные"
   ]
  },
  {
   "cell_type": "code",
   "execution_count": null,
   "id": "65629786",
   "metadata": {},
   "outputs": [],
   "source": [
    "data.reset_index(drop=True)\n",
    "data.describe()"
   ]
  },
  {
   "cell_type": "markdown",
   "id": "7ef3b15c",
   "metadata": {},
   "source": [
    "#### 2.4.1 Столбцы ceiling_height"
   ]
  },
  {
   "cell_type": "code",
   "execution_count": null,
   "id": "fe163b7a",
   "metadata": {},
   "outputs": [],
   "source": [
    "data['ceiling_height'].hist(bins=100, range=(0, 10));\n",
    "data['ceiling_height'].value_counts()"
   ]
  },
  {
   "cell_type": "markdown",
   "id": "953ffa02",
   "metadata": {},
   "source": [
    "Абсолютное большинство значений находится в диапазоне 2-4 метра, но минимальная высота потолков 1, а максимальная 100 м ? Здесь явно есть выбросы. Скорее всего здесь ошибка при вводе. Все что выше 10м будем делить на 10, предполагая что это ошибка записи десятичной дроби"
   ]
  },
  {
   "cell_type": "code",
   "execution_count": null,
   "id": "9537f48e",
   "metadata": {},
   "outputs": [],
   "source": [
    "def ceiling_height_division(cealing_hight: float) -> float:\n",
    "        if cealing_hight > 10:\n",
    "            cealing_hight =cealing_hight / 10\n",
    "        return cealing_hight \n",
    "            \n",
    "data['ceiling_height'] = data['ceiling_height'].apply(ceiling_height_division)"
   ]
  },
  {
   "cell_type": "markdown",
   "id": "089ef704",
   "metadata": {},
   "source": [
    "Отбросим все потолки меньше 2м. Их всего 5 штук"
   ]
  },
  {
   "cell_type": "code",
   "execution_count": null,
   "id": "ce45ee6e",
   "metadata": {},
   "outputs": [],
   "source": [
    "data = data[data['ceiling_height'] > 2]\n",
    "data.ceiling_height.describe()"
   ]
  },
  {
   "cell_type": "code",
   "execution_count": null,
   "id": "da379645",
   "metadata": {},
   "outputs": [],
   "source": [
    "data.info()"
   ]
  },
  {
   "cell_type": "markdown",
   "id": "fc1662e5",
   "metadata": {},
   "source": [
    "#### 2.4.2 Столбец floors_total"
   ]
  },
  {
   "cell_type": "markdown",
   "id": "c37f5f5c",
   "metadata": {},
   "source": [
    "Максимальный этаж 33, а всего этажей 60 ? Здесь явно выброс"
   ]
  },
  {
   "cell_type": "code",
   "execution_count": null,
   "id": "a3d2b6ff",
   "metadata": {},
   "outputs": [],
   "source": [
    "data['floors_total'].hist(bins=100, range=(0, 60));\n",
    "data['floor'].hist(bins=100, range=(0, 60));\n",
    "data[data['floors_total'] > 33].floors_total.count()"
   ]
  },
  {
   "cell_type": "markdown",
   "id": "21a03a5e",
   "metadata": {},
   "source": [
    "Всего 30 значений. Ими явно можно пренебречь"
   ]
  },
  {
   "cell_type": "code",
   "execution_count": null,
   "id": "b837f2ff",
   "metadata": {},
   "outputs": [],
   "source": [
    "data = data[data['floors_total'] < 34]"
   ]
  },
  {
   "cell_type": "code",
   "execution_count": null,
   "id": "ed76151c",
   "metadata": {},
   "outputs": [],
   "source": [
    "data.info()"
   ]
  },
  {
   "cell_type": "markdown",
   "id": "ac74a910",
   "metadata": {},
   "source": [
    "#### 2.4.3 Столбцы kitchen_area и living_area"
   ]
  },
  {
   "cell_type": "markdown",
   "id": "2e9e1df9",
   "metadata": {},
   "source": [
    "Жил площадь 0 - это явно выброс"
   ]
  },
  {
   "cell_type": "code",
   "execution_count": null,
   "id": "d137ef85",
   "metadata": {},
   "outputs": [],
   "source": [
    "data['living_area'].hist(bins=100, range=(0, 60));"
   ]
  },
  {
   "cell_type": "code",
   "execution_count": null,
   "id": "f9976d92",
   "metadata": {},
   "outputs": [],
   "source": [
    "data['living_area'].hist(bins=100, range=(0, 900));"
   ]
  },
  {
   "cell_type": "markdown",
   "id": "ba5e65a6",
   "metadata": {},
   "source": [
    "Уберем объявления меньше 9 квадрат и больше 00"
   ]
  },
  {
   "cell_type": "code",
   "execution_count": null,
   "id": "984bc8f9",
   "metadata": {},
   "outputs": [],
   "source": [
    "data = data[(data['living_area'] > 9) & (data['living_area'] < 200)]\n",
    "data.living_area.describe()"
   ]
  },
  {
   "cell_type": "markdown",
   "id": "618f837a",
   "metadata": {},
   "source": [
    "Аналогично в kitchen_area"
   ]
  },
  {
   "cell_type": "markdown",
   "id": "415d434c",
   "metadata": {},
   "source": [
    "уберем значения >30 м2 и от 1 до 4 "
   ]
  },
  {
   "cell_type": "code",
   "execution_count": null,
   "id": "c038b239",
   "metadata": {},
   "outputs": [],
   "source": [
    "data['kitchen_area'].hist(bins=100, range=(0, 60));\n",
    "data[data['kitchen_area'] > 40].kitchen_area.count()"
   ]
  },
  {
   "cell_type": "code",
   "execution_count": null,
   "id": "45657c34",
   "metadata": {},
   "outputs": [],
   "source": [
    "data = data[data['kitchen_area'] < 30]\n",
    "data = data[(data['kitchen_area'] > 4) | (data['kitchen_area'] == 0)]\n",
    "data['kitchen_area'].hist(bins=100, range=(0, 60));"
   ]
  },
  {
   "cell_type": "code",
   "execution_count": null,
   "id": "18ddd7c9",
   "metadata": {},
   "outputs": [],
   "source": [
    "data.info()"
   ]
  },
  {
   "cell_type": "markdown",
   "id": "214d4065",
   "metadata": {},
   "source": [
    "#### 2.4.4 Столбец days_exposition"
   ]
  },
  {
   "cell_type": "markdown",
   "id": "8fe00a5b",
   "metadata": {},
   "source": [
    "Конечно возможно, что объявление висело 1580, но в основном столько они не висят"
   ]
  },
  {
   "cell_type": "code",
   "execution_count": null,
   "id": "4326f52e",
   "metadata": {},
   "outputs": [],
   "source": [
    "data['days_exposition'].hist(bins=300, range=(0, 360));"
   ]
  },
  {
   "cell_type": "markdown",
   "id": "b73e0013",
   "metadata": {},
   "source": [
    "Ограничимся 2 годами"
   ]
  },
  {
   "cell_type": "code",
   "execution_count": null,
   "id": "dda72926",
   "metadata": {},
   "outputs": [],
   "source": [
    "data[data['days_exposition'] > 1200].count()"
   ]
  },
  {
   "cell_type": "code",
   "execution_count": null,
   "id": "46393462",
   "metadata": {},
   "outputs": [],
   "source": [
    "data = data[data['days_exposition'] < 1200]"
   ]
  },
  {
   "cell_type": "markdown",
   "id": "945fbb23",
   "metadata": {},
   "source": [
    "<div class=\"alert alert-danger\">\n",
    "<font size=\"4\"><b>❌ Комментарий ревьюера</b></font>\n",
    "    <br /> \n",
    "    <font size=\"3\", color = \"black\">\n",
    "<br />          \n",
    "Выборка data['days_exposition'] имеет длинный правый хвост, не стоит обрезать подобный хвост на таких значениях, оптимально ориентироваться на значения 0,99 квантиля, это где-то 1200 дней ...\n",
    "        \n",
    "        data = data[data['days_exposition'] < 1000]"
   ]
  },
  {
   "cell_type": "markdown",
   "id": "744fdc2c",
   "metadata": {},
   "source": [
    "<div class=\"alert alert-info\">\n",
    "<font size=\"4\", color = \"black\"><b>✍ Комментарий студента</b></font>\n",
    "    <br /> \n",
    "    <font size=\"3\", color = \"black\">\n",
    "<br /> Ок. Ставим 1200"
   ]
  },
  {
   "cell_type": "markdown",
   "id": "ea0955e7",
   "metadata": {},
   "source": [
    "Так же очень врядли объекты недвижимости продавались за 1 день. Уберем значения меньше 5 дней"
   ]
  },
  {
   "cell_type": "code",
   "execution_count": null,
   "id": "7b58a772",
   "metadata": {},
   "outputs": [],
   "source": [
    "# check\n",
    "data.shape[0]"
   ]
  },
  {
   "cell_type": "markdown",
   "id": "04ddeaf1",
   "metadata": {},
   "source": [
    "<div class=\"alert alert-danger\">\n",
    "<font size=\"4\"><b>❌ Комментарий ревьюера</b></font>\n",
    "    <br /> \n",
    "    <font size=\"3\", color = \"black\">\n",
    "<br /> Минус около 4000 записей\n",
    "        \n",
    "        data = data[data['days_exposition'] > 7]\n",
    "        \n",
    "мы сначала заполнили пропуски нулями, а затем удалили ...      \n",
    "        \n",
    "Пропуски в ['days_exposition'] говорят нам, что квартиры еще не проданы..., неверно терять эти записи, стоит их сохранить"
   ]
  },
  {
   "cell_type": "markdown",
   "id": "58adf482",
   "metadata": {},
   "source": [
    "<div class=\"alert alert-info\">\n",
    "<font size=\"4\", color = \"black\"><b>✍ Комментарий студента</b></font>\n",
    "    <br /> \n",
    "    <font size=\"3\", color = \"black\">\n",
    "<br /> Ок. Удалил данную строку"
   ]
  },
  {
   "cell_type": "code",
   "execution_count": null,
   "id": "13714152",
   "metadata": {
    "scrolled": true
   },
   "outputs": [],
   "source": [
    "data.info()"
   ]
  },
  {
   "cell_type": "markdown",
   "id": "2622c985",
   "metadata": {},
   "source": [
    "#### 2.4.5 Столбец last_price"
   ]
  },
  {
   "cell_type": "code",
   "execution_count": null,
   "id": "c35c9580",
   "metadata": {},
   "outputs": [],
   "source": [
    "data['last_price'].hist(bins=3000, range=(0,0.2e+08 ));"
   ]
  },
  {
   "cell_type": "markdown",
   "id": "30ef6b05",
   "metadata": {},
   "source": [
    "Скорее всего цены меньше 1 млн являются выбросами"
   ]
  },
  {
   "cell_type": "code",
   "execution_count": null,
   "id": "f42fb534",
   "metadata": {},
   "outputs": [],
   "source": [
    "data = data[data['last_price']> 1e06]"
   ]
  },
  {
   "cell_type": "code",
   "execution_count": null,
   "id": "91effa8d",
   "metadata": {},
   "outputs": [],
   "source": [
    "data.info()"
   ]
  },
  {
   "cell_type": "markdown",
   "id": "cea4716b",
   "metadata": {},
   "source": [
    "Аналогично можно утвержадать что цены выше 1 млн/м2 для такой выборки так же выбросы"
   ]
  },
  {
   "cell_type": "code",
   "execution_count": null,
   "id": "5871f729",
   "metadata": {},
   "outputs": [],
   "source": [
    "data = data[data['last_price']/data['total_area'] < 1e06]"
   ]
  },
  {
   "cell_type": "markdown",
   "id": "13db8adf",
   "metadata": {},
   "source": [
    "#### 2.4.6 Столбец rooms"
   ]
  },
  {
   "cell_type": "markdown",
   "id": "1328af74",
   "metadata": {},
   "source": [
    "Конечно бывают квартиры с 19-ю комнатами, но их количество несуществено. Уберем квартиры больше 7 комнат"
   ]
  },
  {
   "cell_type": "code",
   "execution_count": null,
   "id": "642a0780",
   "metadata": {},
   "outputs": [],
   "source": [
    " data = data[data['rooms'] < 8]"
   ]
  },
  {
   "cell_type": "markdown",
   "id": "97994643",
   "metadata": {},
   "source": [
    "#### 2.4.7 Столбец total_area\t"
   ]
  },
  {
   "cell_type": "markdown",
   "id": "9e411638",
   "metadata": {},
   "source": [
    "Посмотрим сколько квартир имеют площадь > 250 м2"
   ]
  },
  {
   "cell_type": "code",
   "execution_count": null,
   "id": "6097acf4",
   "metadata": {},
   "outputs": [],
   "source": [
    "data[data['total_area'] > 250].total_area.count()"
   ]
  },
  {
   "cell_type": "markdown",
   "id": "cfd3f2a0",
   "metadata": {},
   "source": [
    "Обрежем данный 'хвост'"
   ]
  },
  {
   "cell_type": "code",
   "execution_count": null,
   "id": "897d2512",
   "metadata": {},
   "outputs": [],
   "source": [
    "data = data[data['total_area'] < 300]"
   ]
  },
  {
   "cell_type": "markdown",
   "id": "b85b81f3",
   "metadata": {},
   "source": [
    "#### 2.4.7 Столбец ceiling_height"
   ]
  },
  {
   "cell_type": "markdown",
   "id": "df6ac4f0",
   "metadata": {},
   "source": [
    "Посмотрим сколько квартир имеют высоту потолков > 4.5 м"
   ]
  },
  {
   "cell_type": "code",
   "execution_count": null,
   "id": "83506242",
   "metadata": {},
   "outputs": [],
   "source": [
    "data[data['ceiling_height'] > 4.5].ceiling_height.count()"
   ]
  },
  {
   "cell_type": "markdown",
   "id": "b38e1b16",
   "metadata": {},
   "source": [
    "Обрежем данный 'хвост'"
   ]
  },
  {
   "cell_type": "code",
   "execution_count": null,
   "id": "fce90e4a",
   "metadata": {},
   "outputs": [],
   "source": [
    "data = data[data['ceiling_height'] < 4.5]"
   ]
  },
  {
   "cell_type": "code",
   "execution_count": null,
   "id": "0d751382",
   "metadata": {},
   "outputs": [],
   "source": [
    "# check\n",
    "data.shape[0]"
   ]
  },
  {
   "cell_type": "markdown",
   "id": "582a2ef0",
   "metadata": {},
   "source": [
    "Удалили 1714 значений (7.2 %)\n"
   ]
  },
  {
   "cell_type": "markdown",
   "id": "25a4c356",
   "metadata": {},
   "source": [
    "В остальных столбцах видимых выбросов нет. Значения в пределах логически обоснованых. Сбросим индексы после обработки"
   ]
  },
  {
   "cell_type": "code",
   "execution_count": null,
   "id": "4ec46486",
   "metadata": {},
   "outputs": [],
   "source": [
    "data = data.reset_index(drop= True)"
   ]
  },
  {
   "cell_type": "markdown",
   "id": "c39fc34b",
   "metadata": {},
   "source": [
    "#### check gap"
   ]
  },
  {
   "cell_type": "markdown",
   "id": "acf94616",
   "metadata": {},
   "source": [
    "<div class=\"alert alert-success\">\n",
    "<font size=\"4\", color= \"seagreen\"><b>✔️ Комментарий ревьюера</b></font>\n",
    "    <br /> \n",
    "    <font size=\"3\", color = \"black\">\n",
    "<br />\n",
    "\n",
    "__проверим какие аномалии остались__ таблица ниже"
   ]
  },
  {
   "cell_type": "code",
   "execution_count": null,
   "id": "64683df7",
   "metadata": {
    "scrolled": false
   },
   "outputs": [],
   "source": [
    "# check\n",
    "\n",
    "# Показатели о кол-ве объявлений в датасете, минимальных и максимальных значениях \n",
    "# в выбранных параметрах о продаже квартир\n",
    "# сырые данные\n",
    "\n",
    "(\n",
    "    data[['rooms', 'total_area', 'ceiling_height', 'days_exposition', 'last_price', 'living_area',  'kitchen_area',\n",
    "          'floor', 'floors_total']]\n",
    "    .apply (['count', 'min', 'max', 'median'])   \n",
    "    .style.format(\"{:,.2f}\")    \n",
    ")"
   ]
  },
  {
   "cell_type": "markdown",
   "id": "c825ae9b",
   "metadata": {},
   "source": [
    "<div class=\"alert alert-danger\">\n",
    "<font size=\"4\"><b>❌ Комментарий ревьюера</b></font>\n",
    "    <br /> \n",
    "    <font size=\"3\", color = \"black\">\n",
    "<br />остались аномалии и редкости (в т.ч. и хвосты) в колонках: \n",
    "        \n",
    "        'rooms', 'total_area', 'ceiling_height',   'last_price', 'living_area',  'kitchen_area' \n",
    "        \n",
    "стоит обратить внимание на минимальные и максимальные значения в выборке и учесть наличие пропусков при фильтрации данных\n",
    "        \n"
   ]
  },
  {
   "cell_type": "markdown",
   "id": "04ac9715",
   "metadata": {},
   "source": [
    "<div class=\"alert alert-warning\", style=\"border:solid coral 3px; padding: 20px\">\n",
    "<font size=\"4\", color = \"DimGrey\"><b>⚠️ Комментарий ревьюера</b></font>\n",
    "    <br /> \n",
    "    <font size=\"3\", color = \"black\">\n",
    "<br />Доп. задание, на твое усмотрение — сможешь добавить в таблицу расчет медианного значения?\n",
    "        \n",
    "        (\n",
    "            data[['rooms', 'total_area', 'ceiling_height', 'days_exposition', 'last_price', 'living_area',  'kitchen_area',\n",
    "                  'floor', 'floors_total']]\n",
    "            .apply (['count', 'min', 'max'])   \n",
    "            .style.format(\"{:,.2f}\")\n",
    "        )"
   ]
  },
  {
   "cell_type": "markdown",
   "id": "90c41a18",
   "metadata": {},
   "source": [
    "<div class=\"alert alert-info\">\n",
    "<font size=\"4\", color = \"black\"><b>✍ Комментарий студента</b></font>\n",
    "    <br /> \n",
    "    <font size=\"3\", color = \"black\">\n",
    "<br /> .apply (['count', 'min', 'max', 'median'])  ?"
   ]
  },
  {
   "cell_type": "markdown",
   "id": "311a07b0",
   "metadata": {},
   "source": [
    "<div class=\"alert alert-success\">\n",
    "<font size=\"4\", color= \"seagreen\"><b>✔️ Комментарий ревьюера</b></font>\n",
    "    <br /> \n",
    "    <font size=\"3\", color = \"black\">\n",
    "<br />Для выполнения пункта 2.4. существует два подхода\n",
    "        \n",
    "Можно механически бороться с выбросами, ...\n",
    "               \n",
    "основная проблема такого подхода — не учитывается неоднородность нашей выборки: у нас здесь и малые поселки, и вторая столица страны, и исторический фонд и массовая застройка, и однушки и довольно большое кол-во многокомнатных квартир, или наоборот одна две квартиры с количеством комнат больше 7-ми ...\n",
    "        \n",
    "\n",
    "        \n",
    "если бы у нас в таблице были бы только однокомнатные квартиры из определенного района массовой застройки, тогда да, мы бы боролись с выбросами традиционными способами, при нашем многообразии населенных пунктов, многокомнатности такие подходы не работают... т.е. они работают, но это усложнит наш проект — придется разбить и объединить записи нашей таблицы по нескольким параметрам (кол-во комнат, район, и т.д.), а затем только выполнять все остальные пункты на каждой отдельной выборке\n",
    "        \n",
    "Остается другой подход — убираем редкие значения и следим за количеством потерь... \n",
    "         \n",
    "Для выборки из 23-х тысяч значений, несколько записей со стоимостью квадратного метра выше 1-го млн. руб., довольно редкое явление\n",
    "\n",
    "Хороший пример, высота потолков, которую мы отрезаем по нижней и верхней планке, это скорее аномальные записи, посмотрим на другой аспект — на редкости: кол-во комнат\n",
    "\n",
    "__т.е. мы не говорим о том, что квартир с кол-ом комнат выше 7 не бывает, мы говорим, что для нашего исследования это редкие выбивающиеся из общей картины уникальные объекты, по которым необходимо проводить отдельную работу ...__\n",
    "        \n",
    "подобным образом рассматриваем и остальные параметры\n",
    "        \n",
    "наши помощники\n",
    "        \n",
    "1. гистограммы, с хорошим масштабом\n",
    "2. метод describe() или облегченная версия, пример выше\n",
    "3. метод value_counts()\n",
    "        \n",
    "плюс жизненный опыт "
   ]
  },
  {
   "cell_type": "code",
   "execution_count": null,
   "id": "c671a413",
   "metadata": {},
   "outputs": [],
   "source": [
    "# check\n",
    "\n",
    "try:\n",
    "    df_check = pd.read_csv('https://code.s3.yandex.net/datasets/real_estate_data.csv', sep='\\t')\n",
    "# если не получилось прочитать файл из локальной папки, то загружаем данные из сети\n",
    "except:\n",
    "    df_check = pd.read_csv('real_estate_data.csv', sep='\\t')"
   ]
  },
  {
   "cell_type": "code",
   "execution_count": null,
   "id": "d4751790",
   "metadata": {},
   "outputs": [],
   "source": [
    "# check\n",
    "df_check.rooms.value_counts().to_frame()"
   ]
  },
  {
   "cell_type": "code",
   "execution_count": null,
   "id": "20cfe303",
   "metadata": {
    "scrolled": false
   },
   "outputs": [],
   "source": [
    "# check\n",
    "df_check.total_area.hist(bins = 150, figsize = (15,3));"
   ]
  },
  {
   "cell_type": "markdown",
   "id": "bdba2eb3",
   "metadata": {},
   "source": [
    "<div class=\"alert alert-success\">\n",
    "<font size=\"4\", color= \"seagreen\"><b>✔️ Комментарий ревьюера</b></font>\n",
    "    <br /> \n",
    "    <font size=\"3\", color = \"black\">\n",
    "<br />т.е. все квартиры менее 20-ти и более 250-ти квадратных метров можно считать редкостями\n",
    "       "
   ]
  },
  {
   "cell_type": "code",
   "execution_count": null,
   "id": "194baaab",
   "metadata": {
    "scrolled": true
   },
   "outputs": [],
   "source": [
    "# check\n",
    "df_check.total_area.hist(bins = 150, figsize = (15,3), range = (180,500));"
   ]
  },
  {
   "cell_type": "code",
   "execution_count": null,
   "id": "338e37a9",
   "metadata": {
    "scrolled": false
   },
   "outputs": [],
   "source": [
    "# check\n",
    "df_check.total_area.hist(bins = 15, figsize = (15,3), range = (180,500));"
   ]
  },
  {
   "cell_type": "code",
   "execution_count": null,
   "id": "aeaaf490",
   "metadata": {
    "scrolled": false
   },
   "outputs": [],
   "source": [
    "# check\n",
    "df_check.total_area.hist(bins = 15, figsize = (15,3), range = (0,25));"
   ]
  },
  {
   "cell_type": "markdown",
   "id": "d51edc5a",
   "metadata": {},
   "source": [
    "<div class=\"alert alert-danger\">\n",
    "<font size=\"4\"><b>❌ Комментарий ревьюера</b></font>\n",
    "    <br /> \n",
    "    <font size=\"3\", color = \"black\">\n",
    "<br />Осталось завершить выполнение пункта 2.4 из брифа проекта\n",
    "\n",
    "2.4.\tНайдите и устраните редкие и выбивающиеся значения.\n",
    "        \n",
    "__Критичный уровень потерь записей на этапе предобработки составляет 10%, оптимальный 5%__\n",
    "        \n",
    "Если при фильтрации одной колонки, на этом проекте, теряем больше одного процента данных от изначального объема, стоит еще раз пересмотреть условия фильтрации        "
   ]
  },
  {
   "cell_type": "code",
   "execution_count": null,
   "id": "812c45ac",
   "metadata": {},
   "outputs": [],
   "source": [
    "# check\n",
    "\n",
    "# Значения параметров объектов недвижимости на разных квантилях\n",
    "\n",
    "(\n",
    "    data[['rooms', 'total_area', 'ceiling_height', 'days_exposition', 'last_price', 'living_area',  \n",
    "        'kitchen_area', 'floor',   'floors_total']]\n",
    "    .quantile([0.0012, 0.01, .5, .99, .9988]) # выбираем размах в 0,9976 квантилей \n",
    "    .style.format(\"{:,.2f}\")\n",
    ")"
   ]
  },
  {
   "cell_type": "markdown",
   "id": "431c01ae",
   "metadata": {},
   "source": [
    "<div class=\"alert alert-success\">\n",
    "<font size=\"4\", color= \"seagreen\"><b>✔️ Комментарий ревьюера </b></font>\n",
    "    <br /> \n",
    "    <font size=\"3\", color = \"black\">\n",
    "<br />Квантили что это такое (первая ссылка иногда не открывается)\n",
    "        \n",
    "https://fin-accounting.ru/cfa/l1/quantitative/cfa-quartiles-quintiles-deciles-percentiles?ysclid=l7gy2kky4i156375632\n",
    "        \n",
    "https://www.codecamp.ru/blog/percentile-vs-quartile-vs-quantile/?ysclid=lg89wjm4zz267333250        \n",
    "        \n",
    "они помогают увидеть редкости и аномалии в данных"
   ]
  },
  {
   "cell_type": "markdown",
   "id": "1e99411d",
   "metadata": {},
   "source": [
    "## Шаг 3. Добавление столбцов"
   ]
  },
  {
   "cell_type": "markdown",
   "id": "5870d30a",
   "metadata": {},
   "source": [
    "Добавим цену за м2"
   ]
  },
  {
   "cell_type": "code",
   "execution_count": null,
   "id": "98d60259",
   "metadata": {},
   "outputs": [],
   "source": [
    "data['square_meter_price'] =  data['last_price'] / data['total_area']"
   ]
  },
  {
   "cell_type": "markdown",
   "id": "6af17f01",
   "metadata": {},
   "source": [
    "Добавим день публикации"
   ]
  },
  {
   "cell_type": "code",
   "execution_count": null,
   "id": "c001e6ff",
   "metadata": {},
   "outputs": [],
   "source": [
    "def week_day(time) -> int:\n",
    "    return time.weekday()\n",
    "data['week_day_exposition'] = data['first_day_exposition'].apply(week_day)"
   ]
  },
  {
   "cell_type": "markdown",
   "id": "8f3db140",
   "metadata": {},
   "source": [
    "Добавим месяц публикации"
   ]
  },
  {
   "cell_type": "code",
   "execution_count": null,
   "id": "b597997c",
   "metadata": {},
   "outputs": [],
   "source": [
    "data['month_exposition'] = data['first_day_exposition'].dt.month"
   ]
  },
  {
   "cell_type": "markdown",
   "id": "82809084",
   "metadata": {},
   "source": [
    "Добавим год публикации"
   ]
  },
  {
   "cell_type": "code",
   "execution_count": null,
   "id": "804707e6",
   "metadata": {},
   "outputs": [],
   "source": [
    "data['year_exposition'] = data['first_day_exposition'].dt.year"
   ]
  },
  {
   "cell_type": "markdown",
   "id": "85fc8207",
   "metadata": {},
   "source": [
    "Добавим тип этажа публикации"
   ]
  },
  {
   "cell_type": "code",
   "execution_count": null,
   "id": "31613698",
   "metadata": {},
   "outputs": [],
   "source": [
    "def floor_category(data:pd.DataFrame) -> pd.DataFrame:\n",
    "    i = 0\n",
    "    while i < len(data.floor):\n",
    "        if data.loc[i,'floor'] == 1:\n",
    "            data.loc[i, 'floor_type'] = 'first'\n",
    "        elif data.loc[i,'floor'] == data.loc[i,'floors_total']:\n",
    "            data.loc[i, 'floor_type'] = 'last'\n",
    "        else:\n",
    "            data.loc[i, 'floor_type'] = 'else'\n",
    "        i +=1\n",
    "    return data"
   ]
  },
  {
   "cell_type": "code",
   "execution_count": null,
   "id": "c15ae539",
   "metadata": {},
   "outputs": [],
   "source": [
    "data = floor_category(data)"
   ]
  },
  {
   "cell_type": "markdown",
   "id": "097129a2",
   "metadata": {},
   "source": [
    "<div class=\"alert alert-warning\", style=\"border:solid coral 3px; padding: 20px\">\n",
    "<font size=\"4\", color = \"DimGrey\"><b>⚠️Комментарий ревьюера</b></font>\n",
    "    <br /> \n",
    "    <font size=\"3\", color = \"black\">\n",
    "<br /> Стоит оптимизировать алгоритм категоризации \n",
    "        \n",
    "        i = 0\n",
    "        while i < data.floor.count():\n",
    "            if data.loc[i,'floor'] == 1:\n",
    "                data.loc[i, 'floor_type'] = 'first'\n",
    "            elif data.loc[i,'floor'] == data.loc[i,'floors_total']:\n",
    "                data.loc[i, 'floor_type'] = 'last'\n",
    "            else:\n",
    "                data.loc[i, 'floor_type'] = 'else'\n",
    "            i +=1    \n",
    "                                     \n",
    "оптимальнее применить функцию                                     "
   ]
  },
  {
   "cell_type": "markdown",
   "id": "a0f5f95b",
   "metadata": {},
   "source": [
    "<div class=\"alert alert-info\">\n",
    "<font size=\"4\", color = \"black\"><b>✍ Комментарий студента</b></font>\n",
    "    <br /> \n",
    "    <font size=\"3\", color = \"black\">\n",
    "<br /> Выделил в функцию"
   ]
  },
  {
   "cell_type": "code",
   "execution_count": null,
   "id": "c28c3267",
   "metadata": {},
   "outputs": [],
   "source": [
    "# check\n",
    "# пример функции\n",
    "def divide_100 (df):\n",
    "    \n",
    "    row = df.total_images\n",
    "    \n",
    "    if row < 10:\n",
    "        return row * 100\n",
    "    else:\n",
    "        return row / 10\n",
    "    \n",
    "data['total_images_100'] = data.apply(divide_100, axis = 1)\n",
    "data['total_images_100'].head(4)"
   ]
  },
  {
   "cell_type": "markdown",
   "id": "1ed3c823",
   "metadata": {},
   "source": [
    "Добавим расстояние в км до центра города"
   ]
  },
  {
   "cell_type": "code",
   "execution_count": null,
   "id": "704b6997",
   "metadata": {},
   "outputs": [],
   "source": [
    "data['city_centers_nearest_km'] =  data['city_centers_nearest']/1000\n",
    "data['city_centers_nearest_km'] = data[data['city_centers_nearest_km'].isna() == False].city_centers_nearest_km.apply(round)"
   ]
  },
  {
   "cell_type": "markdown",
   "id": "ed317765",
   "metadata": {},
   "source": [
    "**Результат:**"
   ]
  },
  {
   "cell_type": "code",
   "execution_count": null,
   "id": "3ff5d3ca",
   "metadata": {},
   "outputs": [],
   "source": [
    "data.sample(10)"
   ]
  },
  {
   "cell_type": "markdown",
   "id": "ac4d481e",
   "metadata": {},
   "source": [
    "## Шаг 4. Исследовательский анализ данных"
   ]
  },
  {
   "cell_type": "markdown",
   "id": "3699b62a",
   "metadata": {},
   "source": [
    "### 4.1. Гистограммы"
   ]
  },
  {
   "cell_type": "markdown",
   "id": "e9586a82",
   "metadata": {},
   "source": [
    "#### 4.1.1 Гистограмма общей площади"
   ]
  },
  {
   "cell_type": "code",
   "execution_count": null,
   "id": "70859e4d",
   "metadata": {},
   "outputs": [],
   "source": [
    "data['total_area'].hist(bins= 500, range= (0,500), grid= True);\n",
    "plt.xlabel('total_area', fontsize = 16)\n",
    "plt.ylabel('frequency', fontsize = 16)\n",
    "data['total_area'].describe()"
   ]
  },
  {
   "cell_type": "code",
   "execution_count": null,
   "id": "0d0803d7",
   "metadata": {},
   "outputs": [],
   "source": [
    "data['total_area'].hist(bins= 100, range= (0,120), grid= True);\n",
    "plt.xlabel('total_area', fontsize = 16)\n",
    "plt.ylabel('frequency', fontsize = 16)"
   ]
  },
  {
   "cell_type": "markdown",
   "id": "27aceec5",
   "metadata": {},
   "source": [
    "**Вывод:** Площадь объектов недвижимости находится в диапазоне от 9 до ~630м2. Большинство объектов недвижимости (межквартильный интервал) имеют площадь от 40 до 68 м2. Средняя площадь - 58 м2. С оговорками можно сказать, что гистограмма имеет характер нормального распределения с отклонением в сторону квартир площадью 30-60 м2, что объясняется востребованостью таких квартир"
   ]
  },
  {
   "cell_type": "markdown",
   "id": "1b54c52a",
   "metadata": {},
   "source": [
    "<div class=\"alert alert-warning\", style=\"border:solid coral 3px; padding: 20px\">\n",
    "<font size=\"4\", color = \"DimGrey\"><b>⚠️ Комментарий ревьюера</b></font>\n",
    "    <br /> \n",
    "    <font size=\"3\", color = \"black\">\n",
    "<br /> Хорошие графики, можно  изменить размер у графиков (увеличить ширину)\n",
    "\n",
    "Подписи осей на графиках и название добавят ясности и читабельности.\n",
    "Это важные элементы любой визуализации. Как добавить подписи и названия, смотри [здесь](https://proproprogs.ru/modules/matplotlib-razmeshchaem-standartnye-tekstovye-elementy-na-grafike?ysclid=l6agtioc6f299002507)"
   ]
  },
  {
   "cell_type": "markdown",
   "id": "30429f20",
   "metadata": {},
   "source": [
    "#### 4.1.2 Гистограмма жилой площади"
   ]
  },
  {
   "cell_type": "code",
   "execution_count": null,
   "id": "0a1ae408",
   "metadata": {},
   "outputs": [],
   "source": [
    "data['living_area'].hist(bins= 100, range= (0,150), grid= True);\n",
    "plt.xlabel('living_area', fontsize = 16)\n",
    "plt.ylabel('frequency', fontsize = 16)\n",
    "data['living_area'].describe()"
   ]
  },
  {
   "cell_type": "markdown",
   "id": "4580b9a8",
   "metadata": {},
   "source": [
    "**Вывод:** Жилая площадь объектов недвижимости находится в диапазоне от 9 до 195м2. Большое количество около минимального значения объясняется тем, что в комнатах и студиях нет кухни (практически вся площадь - жилая).Большинство объектов недвижимости (межквартильный интервал) имеют жилую площадь от 18 до 42 м2. Средняя жилая площадь - ~34 м2. Имеются пики в области публикаций до 20 м2 и 25-30 м2."
   ]
  },
  {
   "cell_type": "markdown",
   "id": "376fdf2a",
   "metadata": {},
   "source": [
    "#### 4.1.2 Гистограмма площади кухни"
   ]
  },
  {
   "cell_type": "code",
   "execution_count": null,
   "id": "ba2815aa",
   "metadata": {},
   "outputs": [],
   "source": [
    "data['kitchen_area'].hist(bins= 100, range= (0,50), grid= True);\n",
    "plt.xlabel('kitchen_area', fontsize = 16)\n",
    "plt.ylabel('frequency', fontsize = 16)\n",
    "data['kitchen_area'].describe()"
   ]
  },
  {
   "cell_type": "markdown",
   "id": "f920938d",
   "metadata": {},
   "source": [
    "**Вывод:** Площадь кухни объектов недвижимости находится в диапазоне от 4 до ~29м2. Большое количество около нуля объясняется тем, что в комнатах и студиях нет кухни. Большинство объектов недвижимости (межквартильный интервал) имеют площадь кухни от 7 до ~13 м2. Средняя площадь кухни - 10,5 м2. В целом, по частоте некоторых значений можно утверждать, что самыми распространенными являются кухни площадью от 7 до 12 м2"
   ]
  },
  {
   "cell_type": "markdown",
   "id": "c7981c8d",
   "metadata": {},
   "source": [
    "#### 4.1.3 Гистограмма цены объекта"
   ]
  },
  {
   "cell_type": "code",
   "execution_count": null,
   "id": "c797bf94",
   "metadata": {},
   "outputs": [],
   "source": [
    "print(data['last_price'].describe())\n",
    "data['last_price'].hist(bins= 200, range= (1e+04,0.2e+08), grid= True);\n",
    "plt.xlabel('last_price', fontsize = 16)\n",
    "plt.ylabel('frequency', fontsize = 16)"
   ]
  },
  {
   "cell_type": "markdown",
   "id": "fed49088",
   "metadata": {},
   "source": [
    "**Вывод:** Цена объектов недвижимости находится в диапазоне от 1 млн до 2.45 млрд . Большинство объектов недвижимости (межквартильный интервал) имеют стоимость от 3,5 млн до 6.6 млн. В целом распределение на данном участке можно считать нормальным"
   ]
  },
  {
   "cell_type": "markdown",
   "id": "cb498bd4",
   "metadata": {},
   "source": [
    "#### 4.1.4 Гистограмма количества комнат"
   ]
  },
  {
   "cell_type": "code",
   "execution_count": null,
   "id": "e2abfd4b",
   "metadata": {},
   "outputs": [],
   "source": [
    "print(data['rooms'].describe())\n",
    "data['rooms'].hist(bins= 25, range= (0,8), grid= True);\n",
    "plt.xlabel('rooms', fontsize = 16)\n",
    "plt.ylabel('frequency', fontsize = 16)"
   ]
  },
  {
   "cell_type": "markdown",
   "id": "3e6617de",
   "metadata": {},
   "source": [
    "**Вывод:** Количество комнат объектов недвижимости находится в диапазоне от 0 до 7. Значения около нуля объясняются студиями и отдельными комнатами. Большинство объектов недвижимости (межквартильный интервал) имеют количество комнат от 1 до 3 В целом распределение комнат на участке от 1 до 3 можно считать нормальным."
   ]
  },
  {
   "cell_type": "markdown",
   "id": "5977ce01",
   "metadata": {},
   "source": [
    "<div class=\"alert alert-danger\">\n",
    "<font size=\"4\"><b>❌ Комментарий ревьюера</b></font>\n",
    "    <br />\n",
    "    <font size=\"3\", color = \"black\">\n",
    "<br />  Стоит изменить параметры отображения гистограммы (добавить корзин), сейчас трудно определить типовое кол-во комнат"
   ]
  },
  {
   "cell_type": "markdown",
   "id": "a0206d4b",
   "metadata": {},
   "source": [
    "<div class=\"alert alert-info\">\n",
    "<font size=\"4\", color = \"black\"><b>✍ Комментарий студента</b></font>\n",
    "    <br /> \n",
    "    <font size=\"3\", color = \"black\">\n",
    "<br /> Увеличил"
   ]
  },
  {
   "cell_type": "markdown",
   "id": "227755f2",
   "metadata": {},
   "source": [
    "#### 4.1.5 Гистограмма высоты потолков"
   ]
  },
  {
   "cell_type": "code",
   "execution_count": null,
   "id": "5ca07b79",
   "metadata": {},
   "outputs": [],
   "source": [
    "print(data['ceiling_height'].describe())\n",
    "data['ceiling_height'].hist(bins= 100, range= (1,5), grid= True);\n",
    "plt.xlabel('ceiling_height', fontsize = 16)\n",
    "plt.ylabel('frequency', fontsize = 16)"
   ]
  },
  {
   "cell_type": "markdown",
   "id": "aca57296",
   "metadata": {},
   "source": [
    "**Вывод:** Высота потолков объектов недвижимости находится в диапазоне от 2 до 4.5 м. Большинство объектов недвижимости (межквартильный интервал) имеют высоту потолков от 2.5 до 2.76. Большое количество потолков выотой 2,5 и 2,7м объяснятется массовым строительством жил плозади с данной высотой потолков в прошлом "
   ]
  },
  {
   "cell_type": "markdown",
   "id": "04eab015",
   "metadata": {},
   "source": [
    "#### 4.1.6 Гистограмма этажа квартиры"
   ]
  },
  {
   "cell_type": "code",
   "execution_count": null,
   "id": "697e60eb",
   "metadata": {},
   "outputs": [],
   "source": [
    "print(data['floor'].describe())\n",
    "data['floor'].hist(bins= 70, range= (0,35), grid= True)\n",
    "plt.xlabel('floor', fontsize = 16)\n",
    "plt.ylabel('frequency', fontsize = 16)"
   ]
  },
  {
   "cell_type": "markdown",
   "id": "a9695af1",
   "metadata": {},
   "source": [
    "**Вывод:** Этаж квартиры объектов недвижимости находится в диапазоне от 1 до 32. Большинство объектов недвижимости (межквартильный интервал) находится на этаже от 3 до 8-ого. Самые частые - от 2-ого до 5-ого"
   ]
  },
  {
   "cell_type": "markdown",
   "id": "658efdab",
   "metadata": {},
   "source": [
    "#### 4.1.7 Гистограмма типа этажа квартиры"
   ]
  },
  {
   "cell_type": "code",
   "execution_count": null,
   "id": "14226f18",
   "metadata": {},
   "outputs": [],
   "source": [
    "print(data['floor_type'].describe())\n",
    "data['floor_type'].hist(bins= 19, range= (0,3), grid= True)\n",
    "plt.xlabel('floor_type', fontsize = 16)\n",
    "plt.ylabel('frequency', fontsize = 16)"
   ]
  },
  {
   "cell_type": "markdown",
   "id": "9c4938cc",
   "metadata": {},
   "source": [
    "**Вывод:** Естестественно большое всего объявлений ни с первого и последнего этажа"
   ]
  },
  {
   "cell_type": "markdown",
   "id": "7042c2ff",
   "metadata": {},
   "source": [
    "#### 4.1.8 Гистограмма общего количества этажей в доме"
   ]
  },
  {
   "cell_type": "code",
   "execution_count": null,
   "id": "d3b75215",
   "metadata": {},
   "outputs": [],
   "source": [
    "print(data['floors_total'].describe())\n",
    "data['floors_total'].hist(bins= 80, range= (0,35), grid= True);\n",
    "plt.xlabel('floors_total', fontsize = 16)\n",
    "plt.ylabel('frequency', fontsize = 16)"
   ]
  },
  {
   "cell_type": "markdown",
   "id": "137f9ffa",
   "metadata": {},
   "source": [
    "**Вывод:** Общее количество этажей объектов недвижимости находится в диапазоне от 1 до 33. Большинство объектов недвижимости (межквартильный интервал) имеет количество этажей от 5 до 16-ого. Самые частые - 5-ти, 9-ти, 6-ти и 12-ти этажки"
   ]
  },
  {
   "cell_type": "markdown",
   "id": "feb059cf",
   "metadata": {},
   "source": [
    "<div class=\"alert alert-danger\">\n",
    "<font size=\"4\"><b>❌ Комментарий ревьюера</b></font>\n",
    "    <br /> \n",
    "    <font size=\"3\", color = \"black\">\n",
    "<br />          \n",
    "Стоит изменить параметры отображения гистограммы (добавить корзин), сейчас  трудно определить типовую высотность зданий"
   ]
  },
  {
   "cell_type": "markdown",
   "id": "80839a01",
   "metadata": {},
   "source": [
    "<div class=\"alert alert-info\">\n",
    "<font size=\"4\", color = \"black\"><b>✍ Комментарий студента</b></font>\n",
    "    <br /> \n",
    "    <font size=\"3\", color = \"black\">\n",
    "<br /> Увеличил"
   ]
  },
  {
   "cell_type": "markdown",
   "id": "00e60b2c",
   "metadata": {},
   "source": [
    "#### 4.1.9 Гистограмма расстояния до центра города в метрах"
   ]
  },
  {
   "cell_type": "code",
   "execution_count": null,
   "id": "5a1a89f7",
   "metadata": {},
   "outputs": [],
   "source": [
    "print(data['city_centers_nearest'].describe())\n",
    "data['city_centers_nearest'].hist(bins= 200, range= (0,50000), grid= True);\n",
    "plt.xlabel('city_centers_nearest', fontsize = 16)\n",
    "plt.ylabel('frequency', fontsize = 16)"
   ]
  },
  {
   "cell_type": "markdown",
   "id": "630df0ce",
   "metadata": {},
   "source": [
    "**Вывод:** Расстояния до центра города объектов недвижимости находится в диапазоне от 181м до 66км. Большинство объектов недвижимости (межквартильный интервал) находится на расстоянии от центра города от 9,6 км до 16 км. Распределение на данном интервале можно считать нормальным."
   ]
  },
  {
   "cell_type": "markdown",
   "id": "cf55ca78",
   "metadata": {},
   "source": [
    "#### 4.1.10 Гистограмма расстояния до расстояние до ближайшего аэропорта"
   ]
  },
  {
   "cell_type": "code",
   "execution_count": null,
   "id": "eb44786b",
   "metadata": {},
   "outputs": [],
   "source": [
    "print(data['airports_nearest'].describe())\n",
    "data['airports_nearest'].hist(bins= 200, range= (0,60000), grid= True);\n",
    "plt.xlabel('airports_nearest', fontsize = 16)\n",
    "plt.ylabel('frequency', fontsize = 16)"
   ]
  },
  {
   "cell_type": "markdown",
   "id": "1fc4e602",
   "metadata": {},
   "source": [
    "**Вывод:** От аэропорта до объектов недвижимости находится в диапазоне от 9 до 85км. Большинство объектов недвижимости (межквартильный интервал) находится на расстоянии от аэропорта до объекта недвижимости от 18,43 км до 37 км. "
   ]
  },
  {
   "cell_type": "markdown",
   "id": "d19aca00",
   "metadata": {},
   "source": [
    "#### 4.1.11 Гистограмма расстояния до расстояние до ближайшего парка"
   ]
  },
  {
   "cell_type": "code",
   "execution_count": null,
   "id": "f08bcc29",
   "metadata": {},
   "outputs": [],
   "source": [
    "print(data['parks_nearest'].describe())\n",
    "data['parks_nearest'].hist(bins= 150, range= (0,2000), grid= True);\n",
    "plt.xlabel('parks_nearest', fontsize = 16)\n",
    "plt.ylabel('frequency', fontsize = 16)"
   ]
  },
  {
   "cell_type": "markdown",
   "id": "5b9699c2",
   "metadata": {},
   "source": [
    "**Вывод:** От ближайшего парка до объектов недвижимости находится в диапазоне от 21м до 3км. Большинство объектов недвижимости (межквартильный интервал) находится на расстоянии от парка до объекта недвижимости от 300 м до 600 м. Такие значения объясняются тем что скорее всего, если до парка больше 1,5 км - считается что парка по близости нет"
   ]
  },
  {
   "cell_type": "markdown",
   "id": "e295dbe2",
   "metadata": {},
   "source": [
    "#### 4.1.11 Гистограмма расстояния до расстояние до ближайшего водоема"
   ]
  },
  {
   "cell_type": "code",
   "execution_count": null,
   "id": "7eecb426",
   "metadata": {},
   "outputs": [],
   "source": [
    "print(data['ponds_nearest'].describe())\n",
    "data['ponds_nearest'].hist(bins= 19, range= (0,2000), grid= True)\n",
    "data['ponds_nearest'].value_counts()"
   ]
  },
  {
   "cell_type": "markdown",
   "id": "0bd0c561",
   "metadata": {},
   "source": [
    "**Вывод:** От ближайшего водоема до объектов недвижимости находится в диапазоне от 22м до 1,4 км. Большинство объектов недвижимости (межквартильный интервал) находится на расстоянии от водоема до объекта недвижимости от 276 м до 712 м. Такие значения объясняются тем что скорее всего, если до водоема больше 1,25 км - считается что водоема по близости нет"
   ]
  },
  {
   "cell_type": "markdown",
   "id": "ad3cd344",
   "metadata": {},
   "source": [
    "#### 4.1.12 Гистограмма типа этажа квартиры («первый», «последний», «другой»);"
   ]
  },
  {
   "cell_type": "code",
   "execution_count": null,
   "id": "ef7603f5",
   "metadata": {},
   "outputs": [],
   "source": [
    "print(data['floor_type'].describe())\n",
    "data['floor_type'].hist(bins= 19, range= (0,3), grid= True);\n",
    "plt.xlabel('floor_type', fontsize = 16)\n",
    "plt.ylabel('frequency', fontsize = 16)"
   ]
  },
  {
   "cell_type": "markdown",
   "id": "ff7e9c12",
   "metadata": {},
   "source": [
    "**Вывод:** Естественно, по количеству лидируют не первые и не последние этажи"
   ]
  },
  {
   "cell_type": "markdown",
   "id": "8d2fb655",
   "metadata": {},
   "source": [
    "#### 4.1.13 Гистограмма дня публикации объявления"
   ]
  },
  {
   "cell_type": "code",
   "execution_count": null,
   "id": "231c1b9e",
   "metadata": {},
   "outputs": [],
   "source": [
    "print(data['week_day_exposition'].describe())\n",
    "data['week_day_exposition'].hist(bins= 50, range= (0,6), grid= True);\n",
    "plt.xlabel('week_day_exposition', fontsize = 16)\n",
    "plt.ylabel('frequency', fontsize = 16)"
   ]
  },
  {
   "cell_type": "markdown",
   "id": "8ffecd0f",
   "metadata": {},
   "source": [
    "**Вывод:** В выходные объявлений выкладывается меньше, что логично. По будням существенных различий нет"
   ]
  },
  {
   "cell_type": "markdown",
   "id": "6580e148",
   "metadata": {},
   "source": [
    "#### 4.1.14 Гистограмма месяца публикации"
   ]
  },
  {
   "cell_type": "code",
   "execution_count": null,
   "id": "7844c4d1",
   "metadata": {},
   "outputs": [],
   "source": [
    "print(data['month_exposition'].describe())\n",
    "data['month_exposition'].hist(bins= 50, range= (1,12), grid= True);\n",
    "plt.xlabel('month_exposition', fontsize = 16)\n",
    "plt.ylabel('frequency', fontsize = 16)"
   ]
  },
  {
   "cell_type": "markdown",
   "id": "8ef66ac4",
   "metadata": {},
   "source": [
    "**Вывод:** Периоды наибольшей активности: февраль-апрель, сентябрь-ноябрь. Это объясняется праздниками и летними отпусками"
   ]
  },
  {
   "cell_type": "markdown",
   "id": "2a1464fd",
   "metadata": {},
   "source": [
    "<div class=\"alert alert-danger\">\n",
    "<font size=\"4\"><b>❌ Комментарий ревьюера</b></font>\n",
    "    <br /> \n",
    "    <font size=\"3\", color = \"black\">\n",
    "<br />          \n",
    "Осталось добавить пару гистограмм из 14-ти обязательных\n",
    "        \n",
    "Шаг 4. Проведите исследовательский анализ данных:\n",
    "1.\tИзучите следующие параметры объектов:\n",
    "    +\tобщая площадь;\n",
    "    +\tжилая площадь;\n",
    "    +\tплощадь кухни;\n",
    "    +\tцена объекта;\n",
    "    +\tколичество комнат;\n",
    "    +\tвысота потолков;\n",
    "    +\tэтаж квартиры;\n",
    "    +\tтип этажа квартиры («первый», «последний», «другой»);\n",
    "    +\tобщее количество этажей в доме;\n",
    "    +\tрасстояние до центра города в метрах;\n",
    "    +\tрасстояние до ближайшего аэропорта;\n",
    "    +\tрасстояние до ближайшего парка;\n",
    "    +\tдень и месяц публикации объявления.\n",
    "\n",
    "\n",
    "__Постройте отдельные гистограммы для каждого из этих параметров.__ Опишите все ваши наблюдения по параметрам в ячейке с типом markdown.        "
   ]
  },
  {
   "cell_type": "markdown",
   "id": "0866277c",
   "metadata": {},
   "source": [
    "<div class=\"alert alert-info\">\n",
    "<font size=\"4\", color = \"black\"><b>✍ Комментарий студента</b></font>\n",
    "    <br /> \n",
    "    <font size=\"3\", color = \"black\">\n",
    "<br /> Построил гистограмы для типа этажа, дня и месяца публикации"
   ]
  },
  {
   "cell_type": "markdown",
   "id": "9092cc3f",
   "metadata": {},
   "source": [
    "### 4.2. Анализ"
   ]
  },
  {
   "cell_type": "markdown",
   "id": "f2387497",
   "metadata": {},
   "source": [
    "### 4.2.1 Как быстро продавались квартиры ?"
   ]
  },
  {
   "cell_type": "code",
   "execution_count": null,
   "id": "16150acf",
   "metadata": {},
   "outputs": [],
   "source": [
    "data.days_exposition.hist(bins= 300, range= (0,500), grid= True);\n",
    "plt.xlabel('days_exposition', fontsize = 16)\n",
    "plt.ylabel('frequency', fontsize = 16)\n",
    "data.days_exposition.agg({'mean', 'median'})"
   ]
  },
  {
   "cell_type": "code",
   "execution_count": null,
   "id": "ce60a258",
   "metadata": {},
   "outputs": [],
   "source": [
    "data.days_exposition.describe()"
   ]
  },
  {
   "cell_type": "code",
   "execution_count": null,
   "id": "4d5c74e1",
   "metadata": {},
   "outputs": [],
   "source": [
    "data[data['days_exposition'] < 45].sort_values(by= 'days_exposition')"
   ]
  },
  {
   "cell_type": "markdown",
   "id": "7eceaa25",
   "metadata": {},
   "source": [
    "**Вывод:** В среднем (по межквартильному размаху) квартиры продаются от 0 до 1199 дней. Медианное значение - 151 дней.  Быстрыми считаются продажи < 23 дней. Долгими > 196 дней"
   ]
  },
  {
   "cell_type": "markdown",
   "id": "5efb847e",
   "metadata": {},
   "source": [
    "<div class=\"alert alert-warning\", style=\"border:solid coral 3px; padding: 20px\">\n",
    "<font size=\"4\", color = \"DimGrey\"><b>⚠️Комментарий ревьюера</b></font>\n",
    "    <br /> \n",
    "    <font size=\"3\", color = \"black\">\n",
    "<br />\n",
    "\n",
    "        \n",
    "__Интересно посмотреть на изменение средней  скорости продаж по годам__"
   ]
  },
  {
   "cell_type": "code",
   "execution_count": null,
   "id": "602c5f27",
   "metadata": {},
   "outputs": [],
   "source": [
    "(data\n",
    " .groupby('year_exposition')\n",
    " .mean()\n",
    " .reset_index(drop= False)\n",
    " .plot.bar(x= 'year_exposition', y= 'days_exposition', grid =True) \n",
    ");\n",
    "plt.xlabel('years', fontsize = 16)\n",
    "plt.ylabel('days_exposition', fontsize = 16)\n"
   ]
  },
  {
   "cell_type": "markdown",
   "id": "178c7254",
   "metadata": {},
   "source": [
    "**Вывод:** Наблюдается существенное уменьшение времени продажи квартиры"
   ]
  },
  {
   "cell_type": "markdown",
   "id": "20b5aad2",
   "metadata": {},
   "source": [
    "<div class=\"alert alert-warning\", style=\"border:solid coral 3px; padding: 20px\">\n",
    "<font size=\"4\", color = \"DimGrey\"><b>⚠️Комментарий ревьюера</b></font>\n",
    "    <br /> \n",
    "    <font size=\"3\", color = \"black\">\n",
    "<br />         \n",
    "Не исследованы моды (пиковые значения) в 'days_exposition' и как они влияют на скорость продажи, подсказка на что смотреть\n",
    "        \n",
    "[Условия размещения объявлений](https://yandex.ru/support/realty/owner/home/add-ads-housing.html)"
   ]
  },
  {
   "cell_type": "code",
   "execution_count": null,
   "id": "4b1ce2ee",
   "metadata": {},
   "outputs": [],
   "source": [
    "print('самая долгая продажа:', data['days_exposition'].max())"
   ]
  },
  {
   "cell_type": "code",
   "execution_count": null,
   "id": "3425677a",
   "metadata": {},
   "outputs": [],
   "source": [
    "print('самая быстрая:', data['days_exposition'].min())"
   ]
  },
  {
   "cell_type": "markdown",
   "id": "50116123",
   "metadata": {},
   "source": [
    "<div class=\"alert alert-warning\", style=\"border:solid coral 3px; padding: 20px\">\n",
    "<font size=\"4\", color = \"DimGrey\"><b>⚠️Комментарий ревьюера</b></font>\n",
    "    <br /> \n",
    "    <font size=\"3\", color = \"black\">\n",
    "<br />   Для определения быстрых и долгих продаж оптимальнее ориентироваться на 25-тый и 75-тый квантили"
   ]
  },
  {
   "cell_type": "markdown",
   "id": "8386009e",
   "metadata": {},
   "source": [
    "### 4.2.2 Какие факторы больше всего влияют на общую (полную) стоимость объекта? "
   ]
  },
  {
   "cell_type": "markdown",
   "id": "44a927f7",
   "metadata": {},
   "source": [
    "Построим матрицу корреляции"
   ]
  },
  {
   "cell_type": "code",
   "execution_count": null,
   "id": "674d1fd9",
   "metadata": {
    "scrolled": false
   },
   "outputs": [],
   "source": [
    "corr = data.corr().round(3)\n",
    "corr.style.background_gradient(cmap='coolwarm')"
   ]
  },
  {
   "cell_type": "markdown",
   "id": "5db9f7e4",
   "metadata": {},
   "source": [
    "###### Корреляции к last_price:\n",
    "\n",
    "        - общей площади : 0.639000\n",
    "        - жилой площади : 0.569000\n",
    "        - площади кухни : 0.381000\n",
    "        - количество комнат : 0.386000         \n",
    "        - даты размещения (день недели) : 0.005000\n",
    "        - даты размещения (месяц): -0.016000\n",
    "        - даты размещения (год): -0.025000"
   ]
  },
  {
   "cell_type": "markdown",
   "id": "873c1d74",
   "metadata": {},
   "source": [
    "<div class=\"alert alert-warning\", style=\"border:solid coral 3px; padding: 20px\">\n",
    "<font size=\"4\", color = \"DimGrey\"><b>⚠️ Комментарий ревьюера</b></font>\n",
    "    <br /> \n",
    "    <font size=\"3\", color = \"black\">\n",
    "<br />Коэффициент корреляции рассчитывается для всех зависимостей из задания, исключая параметры - день недели и месяц — это не эффективно, т.к. это нелинейные параметры\n",
    "        \n",
    "чтобы они стали линейными, январь месяц 2015 года должен стать третьим и т.д., т.е. мы должны сделать перекодировку ..."
   ]
  },
  {
   "cell_type": "markdown",
   "id": "b7e9fb1b",
   "metadata": {},
   "source": [
    "Теперь посмотрим зависимость между средней ценой и типом этажа "
   ]
  },
  {
   "cell_type": "code",
   "execution_count": null,
   "id": "9e2b1525",
   "metadata": {
    "scrolled": true
   },
   "outputs": [],
   "source": [
    "list1 = ['else',data[data['floor_type'] == 'else'].last_price.median()/1e06]\n",
    "list2 = ['first',data[data['floor_type'] == 'first'].last_price.median()/1e06]        \n",
    "list3 = ['last',data[data['floor_type'] == 'last'].last_price.median()/1e06]      \n",
    "floor_type_price = pd.DataFrame([list1, list2, list3], columns= ['floor_type', 'median_price'])\n",
    "floor_type_price.head()"
   ]
  },
  {
   "cell_type": "code",
   "execution_count": null,
   "id": "67ccd344",
   "metadata": {},
   "outputs": [],
   "source": [
    "data[data['floor_type'] == 'else'].last_price.count()"
   ]
  },
  {
   "cell_type": "code",
   "execution_count": null,
   "id": "63a2e4c4",
   "metadata": {},
   "outputs": [],
   "source": [
    "data[data['floor_type'] == 'first'].last_price.count()"
   ]
  },
  {
   "cell_type": "code",
   "execution_count": null,
   "id": "68d7db0b",
   "metadata": {},
   "outputs": [],
   "source": [
    "data[data['floor_type'] == 'last'].last_price.count()"
   ]
  },
  {
   "cell_type": "code",
   "execution_count": null,
   "id": "bc41ba70",
   "metadata": {},
   "outputs": [],
   "source": [
    "sns.barplot(data= floor_type_price, x='floor_type', y='median_price');"
   ]
  },
  {
   "cell_type": "markdown",
   "id": "e06a3f17",
   "metadata": {},
   "source": [
    "<div class=\"alert alert-warning\", style=\"border:solid coral 3px; padding: 20px\">\n",
    "<font size=\"4\", color = \"DimGrey\"><b>⚠️ Комментарий ревьюера</b></font>\n",
    "    <br /> \n",
    "    <font size=\"3\", color = \"black\">\n",
    "<br />Импорт библиотек стоит выносить на первые строки проекта, так коллегам будет удобнее настроить свои рабочие места под наши требования"
   ]
  },
  {
   "cell_type": "markdown",
   "id": "dd4ce653",
   "metadata": {},
   "source": [
    "**Графики**"
   ]
  },
  {
   "cell_type": "markdown",
   "id": "ca893506",
   "metadata": {},
   "source": [
    "Общая площадь-стоимость"
   ]
  },
  {
   "cell_type": "code",
   "execution_count": null,
   "id": "8dc047b3",
   "metadata": {},
   "outputs": [],
   "source": [
    "total_area_last_price = data.pivot_table(index= 'total_area', values= 'last_price').reset_index(drop = False)\n",
    "total_area_last_price.plot(x= 'total_area', y='last_price', kind= 'scatter'); "
   ]
  },
  {
   "cell_type": "markdown",
   "id": "6d8c4bdd",
   "metadata": {},
   "source": [
    "Жилая площадь-полная стоимость"
   ]
  },
  {
   "cell_type": "code",
   "execution_count": null,
   "id": "2df72f6c",
   "metadata": {},
   "outputs": [],
   "source": [
    "living_area_last_price = data.pivot_table(index= 'living_area', values= 'last_price').reset_index(drop = False)\n",
    "living_area_last_price.plot(x='living_area', y='last_price' ,kind= 'scatter');"
   ]
  },
  {
   "cell_type": "markdown",
   "id": "f8f121dd",
   "metadata": {},
   "source": [
    "Площадь кухни-полная стоимость"
   ]
  },
  {
   "cell_type": "code",
   "execution_count": null,
   "id": "a7fae0bb",
   "metadata": {},
   "outputs": [],
   "source": [
    "kitchen_area_last_price = data.pivot_table(index= 'kitchen_area', values= 'last_price').reset_index(drop = False)\n",
    "kitchen_area_last_price.plot(x='kitchen_area', y='last_price' ,kind= 'scatter');"
   ]
  },
  {
   "cell_type": "markdown",
   "id": "9deaa99d",
   "metadata": {},
   "source": [
    "Количество комнат-полная стоимость"
   ]
  },
  {
   "cell_type": "code",
   "execution_count": null,
   "id": "6d2a1c30",
   "metadata": {},
   "outputs": [],
   "source": [
    "rooms_total_price = data.pivot_table(index= 'rooms', values= 'last_price', aggfunc= 'median').reset_index(drop = False)\n",
    "(sns.barplot(data= rooms_total_price , x='rooms', y='last_price')\n",
    ");\n",
    "plt.title('price-rooms_type')\n",
    "plt.show()"
   ]
  },
  {
   "cell_type": "markdown",
   "id": "a53902f3",
   "metadata": {},
   "source": [
    "Тип этажа-полная стоимость"
   ]
  },
  {
   "cell_type": "code",
   "execution_count": null,
   "id": "847ab64e",
   "metadata": {},
   "outputs": [],
   "source": [
    "floor_last_price = data.pivot_table(index= 'floor_type', values= 'last_price', aggfunc= 'median').reset_index(drop = False)\n",
    "(sns.barplot(data= floor_last_price , x='floor_type', y='last_price')\n",
    ");\n",
    "plt.title('price-floor_type')\n",
    "plt.show()"
   ]
  },
  {
   "cell_type": "markdown",
   "id": "6a6c0972",
   "metadata": {},
   "source": [
    "День недели размещения - полная стоимость"
   ]
  },
  {
   "cell_type": "code",
   "execution_count": null,
   "id": "a264f72f",
   "metadata": {},
   "outputs": [],
   "source": [
    "day_last_price = data.pivot_table(index= 'week_day_exposition', values= 'last_price', aggfunc= 'median').reset_index(drop = False)\n",
    "(sns.barplot(data= day_last_price , x='week_day_exposition', y='last_price')\n",
    ");\n",
    "plt.title('week_day_exposition-floor_type')\n",
    "plt.show()"
   ]
  },
  {
   "cell_type": "markdown",
   "id": "f0baeb24",
   "metadata": {},
   "source": [
    "Месяц размещения -полная стоимость"
   ]
  },
  {
   "cell_type": "code",
   "execution_count": null,
   "id": "f457cc06",
   "metadata": {},
   "outputs": [],
   "source": [
    "month_last_price = data.pivot_table(index= 'month_exposition', values= 'last_price', aggfunc= 'median').reset_index(drop = False)\n",
    "(sns.barplot(data= month_last_price , x='month_exposition', y='last_price')\n",
    ");\n",
    "plt.title('month-floor_type')\n",
    "plt.show()"
   ]
  },
  {
   "cell_type": "markdown",
   "id": "daa9f486",
   "metadata": {},
   "source": [
    "Год размещения -полная стоимость"
   ]
  },
  {
   "cell_type": "code",
   "execution_count": null,
   "id": "2188ad39",
   "metadata": {},
   "outputs": [],
   "source": [
    "year_last_price = data.pivot_table(index= 'year_exposition', values= 'last_price', aggfunc= 'median').reset_index(drop = False)\n",
    "(sns.barplot(data= year_last_price , x='year_exposition', y='last_price')\n",
    ");\n",
    "plt.title('year-floor_type')\n",
    "plt.show()"
   ]
  },
  {
   "cell_type": "code",
   "execution_count": null,
   "id": "acaf0643",
   "metadata": {},
   "outputs": [],
   "source": [
    "year_last_price.plot(x= 'year_exposition', y='last_price', kind= 'line', grid= True);\n",
    "plt.xlabel('year_exposition', fontsize = 16)\n",
    "plt.ylabel('last_price', fontsize = 16)"
   ]
  },
  {
   "cell_type": "code",
   "execution_count": null,
   "id": "938591d1",
   "metadata": {},
   "outputs": [],
   "source": [
    "Расстояние до центра -полная стоимость"
   ]
  },
  {
   "cell_type": "code",
   "execution_count": null,
   "id": "cdc9d5ab",
   "metadata": {},
   "outputs": [],
   "source": [
    "center_distance_last_price = data.pivot_table(index= 'city_centers_nearest_km', values= 'last_price').reset_index(drop = False)\n",
    "center_distance_last_price.plot(x='city_centers_nearest_km', y='last_price' ,kind= 'line');\n",
    "plt.xlabel('city_centers_nearest_km', fontsize = 16)\n",
    "plt.ylabel('last_price', fontsize = 16)"
   ]
  },
  {
   "cell_type": "markdown",
   "id": "bf7bcbaf",
   "metadata": {},
   "source": [
    "**Вывод:**\n",
    "\n",
    "На цену объекта недвижимости влияют:     \n",
    "  \n",
    "        - общая площадь (соответствено и жилая площадь, площадь кухни, количество комнат и цена м2)  \n",
    "        - расстояние от центра \n",
    "        - год продажи \n",
    "\n",
    "День и месяц практически не влияют на цену. В 2016-2018 годах наблюдается существенное снижение цен. Не смотря на то, что медианная цена на квартиры не на последнем и первом этаже больше, количество квартир на первом и последнем этажах мало, что не позволяет делать однозначный вывод"
   ]
  },
  {
   "cell_type": "markdown",
   "id": "a5ad1978",
   "metadata": {},
   "source": [
    "<div class=\"alert alert-danger\">\n",
    "<font size=\"4\"><b>❌ Комментарий ревьюера</b></font>\n",
    "    <br /> \n",
    "    <font size=\"3\", color = \"black\">\n",
    "<br /> Стоит добавить 7 графиков для выполнения пункта 4.3 проекта, коэф. корреляции отображает лишь возможное наличие линейной связи    \n",
    "        \n",
    "Шаг 4. Проведите исследовательский анализ данных:\n",
    "\n",
    "3.\tКакие факторы больше всего влияют на общую (полную) стоимость объекта?\n",
    "    Изучите, зависит ли цена от:\n",
    "    +\tобщей площади;\n",
    "    +\tжилой площади;\n",
    "    +\tплощади кухни;\n",
    "    +\tколичества комнат;\n",
    "                                    +\tэтажа, на котором расположена квартира (первый, последний, другой);\n",
    "    +\tдаты размещения (день недели, месяц, год).\n",
    "    \n",
    "Постройте графики, которые покажут зависимость цены от указанных выше параметров. Для подготовки данных перед визуализацией вы можете использовать сводные таблицы.\n",
    "\n",
    "        \n",
    "        \n",
    "Советы по графикам:\n",
    "        \n",
    "+ зависимость параметров (от площади, удалённости от центра) оптимальнее рассматривать на точечных графиках (тип scatter),\n",
    "+ динамику на линейных (это про сравнение цен за год, месяц, день недели), — стоит сгруппировать значения и рассчитать среднее или медианное значение \n",
    "+ сравнение цен на барах (для сравнение средней стоимости квартиры по трем категориям), — стоит сгруппировать значения и рассчитать среднее или медианное значение"
   ]
  },
  {
   "cell_type": "markdown",
   "id": "6b54d40b",
   "metadata": {},
   "source": [
    "<div style=\"border:solid steelblue 3px; padding: 20px\">\n",
    "<font size=\"4\">🍕<b> Комментарий ревьюера</b></font>\n",
    "<br /> \n",
    "<font size=\"3\", color = \"black\">\n",
    "<br />  Можно попробовать настроить вид точечных графиков      \n",
    "    \n",
    "[Как сделать диаграмму рассеяния из фрейма данных Pandas](https://www.codecamp.ru/blog/pandas-scatter-plot/?ysclid=lh0tbpkoa9628147030)\n",
    "    \n",
    "Примеры расчета коэф. корреляции и не только\n",
    "        \n",
    "[Исследуем отношение между переменными](https://dfedorov.spb.ru/pandas/downey/%D0%98%D1%81%D1%81%D0%BB%D0%B5%D0%B4%D1%83%D0%B5%D0%BC%20%D0%BE%D1%82%D0%BD%D0%BE%D1%88%D0%B5%D0%BD%D0%B8%D0%B5%20%D0%BC%D0%B5%D0%B6%D0%B4%D1%83%20%D0%BF%D0%B5%D1%80%D0%B5%D0%BC%D0%B5%D0%BD%D0%BD%D1%8B%D0%BC%D0%B8.html?ysclid=l9ev0utyg728177057)"
   ]
  },
  {
   "cell_type": "markdown",
   "id": "426542cf",
   "metadata": {},
   "source": [
    "<div class=\"alert alert-danger\">\n",
    "<font size=\"4\"><b>❌ Комментарий ревьюера</b></font>\n",
    "    <br /> \n",
    "    <font size=\"3\", color = \"black\">\n",
    "<br />Стоит дополнить  вывод об изменении цен по годам, необходимо учесть другие факторы, которые также изменяются с годами: площадь и кол-во объявлений о продаже (стоит добавить или графики, или сводные таблицы и исследовать взаимное влияние параметров: кол-во записей и изменение средней цены и средней площади в течение лет)"
   ]
  },
  {
   "cell_type": "markdown",
   "id": "ac3080cd",
   "metadata": {},
   "source": [
    "### 4.2.3 Расчитаем среднюю стоимость м2 "
   ]
  },
  {
   "cell_type": "code",
   "execution_count": null,
   "id": "76f2dd50",
   "metadata": {},
   "outputs": [],
   "source": [
    "median_price = (\n",
    " data\n",
    " .pivot_table(index= 'locality_name', values= ['square_meter_price'], aggfunc= ['median', 'count'])\n",
    " .reset_index(drop = False) \n",
    ")\n",
    "median_price.columns = ['locality_name', 'median_square_meter_price', 'count'] \n",
    "\n",
    "median_price = median_price.sort_values(by= 'count', ascending = False).head(10)\n",
    "\n",
    "median_price['median_square_meter_price'] = (\n",
    "  median_price['median_square_meter_price'] \n",
    " .apply(round)\n",
    ")"
   ]
  },
  {
   "cell_type": "markdown",
   "id": "0d712be7",
   "metadata": {},
   "source": [
    "Строим график"
   ]
  },
  {
   "cell_type": "code",
   "execution_count": null,
   "id": "07abfd16",
   "metadata": {},
   "outputs": [],
   "source": [
    "(sns.barplot(data= median_price.sort_values(by= 'median_square_meter_price', \n",
    "                                            ascending = False) , x='median_square_meter_price', y='locality_name')\n",
    ");\n",
    "plt.title('Median_price_of_a_square_meter')\n",
    "plt.show()"
   ]
  },
  {
   "cell_type": "markdown",
   "id": "7811a7d8",
   "metadata": {},
   "source": [
    "**Вывод:**\n",
    "\n",
    "В лидерах по цене квадратного метра Санкт-Петербург и пригороды"
   ]
  },
  {
   "cell_type": "markdown",
   "id": "7faf884b",
   "metadata": {},
   "source": [
    "<div class=\"alert alert-danger\">\n",
    "<font size=\"4\"><b>❌ Комментарий ревьюера</b></font>\n",
    "    <br /> \n",
    "    <font size=\"3\", color = \"black\">\n",
    "<br />  Осталось пересчитать: сначала составляем список из десяти населенных пунктов в которых наибольшее кол-во объявлений, затем рассчитываем среднюю  стоимость кв. м. по населенным пунктам из полученного списка, затем строим график (бары), чтобы наглядно показать разницу в средней цене кв. метра ...\n",
    "        \n",
    "Шаг 4. Проведите исследовательский анализ данных:\n",
    "\n",
    "4.\tПосчитайте среднюю цену одного квадратного метра в 10 населённых пунктах с наибольшим числом объявлений. Выделите населённые пункты с самой высокой и низкой стоимостью квадратного метра. Эти данные можно найти по имени в столбце locality_name.\n",
    "        \n",
    "        \n"
   ]
  },
  {
   "cell_type": "markdown",
   "id": "22a2f182",
   "metadata": {},
   "source": [
    "<div class=\"alert alert-danger\">\n",
    "<font size=\"4\"><b>❌ Комментарий ревьюера</b></font>\n",
    "    <br /> \n",
    "    <font size=\"3\", color = \"black\">\n",
    "<br />\n",
    "Недостаточно найти числа, стоит их показать красиво, удобно и наглядно, чтобы одного взгляда хватило, где самые самые, а где подешевле 📊"
   ]
  },
  {
   "cell_type": "markdown",
   "id": "879c061e",
   "metadata": {},
   "source": [
    "<div style=\"border:solid steelblue 3px; padding: 20px\">\n",
    "<font size=\"4\">🍕<b> Комментарий ревьюера</b></font>\n",
    "<br /> \n",
    "<font size=\"3\", color = \"black\">\n",
    "<br />         \n",
    "    \n",
    "[Постер поможет выбирать вид графиков](https://www.notion.so/6c5ae8ceb8b5411e907c93c9b5e6a44e)"
   ]
  },
  {
   "cell_type": "markdown",
   "id": "29672eb9",
   "metadata": {},
   "source": [
    "<div class=\"alert alert-warning\", style=\"border:solid coral 3px; padding: 20px\">\n",
    "<font size=\"4\", color = \"DimGrey\"><b>⚠️ Комментарий ревьюера</b></font>\n",
    "    <br /> \n",
    "    <font size=\"3\", color = \"black\">\n",
    "<br /> на проектах стоит снижать размерность выводимой информации, где не требуется максимальная точность, до одного или двух знаков после запятой\n",
    "        \n",
    "       кудрово             95026.041667"
   ]
  },
  {
   "cell_type": "markdown",
   "id": "91ebfe66",
   "metadata": {},
   "source": [
    "<div class=\"alert alert-info\">\n",
    "<font size=\"4\", color = \"black\"><b>✍ Комментарий студента</b></font>\n",
    "    <br /> \n",
    "    <font size=\"3\", color = \"black\">\n",
    "<br /> Пересчитал и добавил график"
   ]
  },
  {
   "cell_type": "markdown",
   "id": "f20b8dab",
   "metadata": {},
   "source": [
    "### 4.2.3 Расчитаем стоимость \"километра\" в Спб"
   ]
  },
  {
   "cell_type": "markdown",
   "id": "588c99ac",
   "metadata": {},
   "source": [
    "Расчитает расстояние в километрах от центра до самого дальнего объекта недвижимости "
   ]
  },
  {
   "cell_type": "code",
   "execution_count": null,
   "id": "dcf1ba8e",
   "metadata": {},
   "outputs": [],
   "source": [
    "spb = data[data['locality_name'] == 'санкт-петербург']"
   ]
  },
  {
   "cell_type": "code",
   "execution_count": null,
   "id": "e072dab9",
   "metadata": {},
   "outputs": [],
   "source": [
    "max_km = spb.city_centers_nearest_km.max()\n",
    "max_km"
   ]
  },
  {
   "cell_type": "code",
   "execution_count": null,
   "id": "c1bbd462",
   "metadata": {},
   "outputs": [],
   "source": [
    "zero_km_price = spb[spb['city_centers_nearest_km'] == 0].last_price.median()\n",
    "max_km_price =  spb[spb['city_centers_nearest_km'] == 29].last_price.median()\n",
    "difference_km_price = zero_km_price - max_km"
   ]
  },
  {
   "cell_type": "code",
   "execution_count": null,
   "id": "072f7dd0",
   "metadata": {},
   "outputs": [],
   "source": [
    "difference_km_price/1e5 "
   ]
  },
  {
   "cell_type": "markdown",
   "id": "27143d50",
   "metadata": {},
   "source": [
    "C приближением к центру города стоимость квартиры увеличивается в среднем на ~125 тыс.руб за 1 км"
   ]
  },
  {
   "cell_type": "code",
   "execution_count": null,
   "id": "23b389cb",
   "metadata": {},
   "outputs": [],
   "source": [
    "spb_km_price = spb.groupby('city_centers_nearest_km').median().reset_index(drop= False)"
   ]
  },
  {
   "cell_type": "code",
   "execution_count": null,
   "id": "abdb0cf5",
   "metadata": {},
   "outputs": [],
   "source": [
    "spb_km_price.plot(x= 'city_centers_nearest_km', y='square_meter_price', kind= 'line', grid= True);\n",
    "plt.xlabel('city_centers_nearest_km', fontsize = 16)\n",
    "plt.ylabel('square_meter_price', fontsize = 16)"
   ]
  },
  {
   "cell_type": "markdown",
   "id": "ed009afa",
   "metadata": {},
   "source": [
    "Посмотрим чем вызван всплеск на 27 км"
   ]
  },
  {
   "cell_type": "code",
   "execution_count": null,
   "id": "33b74faa",
   "metadata": {},
   "outputs": [],
   "source": [
    "spb[spb['city_centers_nearest_km'] == 27]"
   ]
  },
  {
   "cell_type": "markdown",
   "id": "2073a5f5",
   "metadata": {},
   "source": [
    "Двухкомнатная квартира на 74 м2 видимо находится в элитной новостройке. Уберем данное значение как выброс"
   ]
  },
  {
   "cell_type": "code",
   "execution_count": null,
   "id": "888e3f11",
   "metadata": {},
   "outputs": [],
   "source": [
    "spb.loc[spb['city_centers_nearest_km'] == 27, 'city_centers_nearest_km'] = spb.query('city_centers_nearest_km == 26')"
   ]
  },
  {
   "cell_type": "code",
   "execution_count": null,
   "id": "5294380f",
   "metadata": {},
   "outputs": [],
   "source": [
    "spb_km_price = spb.groupby('city_centers_nearest_km').median().reset_index(drop= False)"
   ]
  },
  {
   "cell_type": "code",
   "execution_count": null,
   "id": "54337589",
   "metadata": {},
   "outputs": [],
   "source": [
    "spb_km_price.plot(x= 'city_centers_nearest_km', y='square_meter_price', kind= 'line', grid= True);\n",
    "plt.xlabel('city_centers_nearest_km', fontsize = 16)\n",
    "plt.ylabel('square_meter_price', fontsize = 16)"
   ]
  },
  {
   "cell_type": "markdown",
   "id": "fcadf227",
   "metadata": {},
   "source": [
    "Скорее всего пик и провал в центре вызваны количеством квартир на первом и последним этажах на данных километрах"
   ]
  },
  {
   "cell_type": "code",
   "execution_count": null,
   "id": "1ae7bd7b",
   "metadata": {},
   "outputs": [],
   "source": [
    "spb3_km = spb[spb['city_centers_nearest_km'] == 3].groupby('floor_type').count()\n",
    "spb5_km = spb[spb['city_centers_nearest_km'] == 5].groupby('floor_type').count()\n",
    "spb10_km =spb[spb['city_centers_nearest_km'] == 10].groupby('floor_type').count()"
   ]
  },
  {
   "cell_type": "code",
   "execution_count": null,
   "id": "f8a28c63",
   "metadata": {},
   "outputs": [],
   "source": [
    "sns.barplot(data= spb3_km, x= spb3_km.index, y='rooms');\n",
    "plt.xlabel('number_of_publications', fontsize = 16)\n",
    "plt.ylabel('floor_type', fontsize = 16)\n",
    "plt.title('3km')\n",
    "plt.show()"
   ]
  },
  {
   "cell_type": "code",
   "execution_count": null,
   "id": "8cd2e355",
   "metadata": {},
   "outputs": [],
   "source": [
    "sns.barplot(data= spb5_km, x= spb5_km.index, y='rooms');\n",
    "plt.xlabel('number_of_publications', fontsize = 16)\n",
    "plt.ylabel('floor_type', fontsize = 16)\n",
    "plt.title('5km')\n",
    "plt.show()"
   ]
  },
  {
   "cell_type": "code",
   "execution_count": null,
   "id": "f9c82221",
   "metadata": {},
   "outputs": [],
   "source": [
    "sns.barplot(data= spb10_km, x= spb10_km.index, y='rooms');\n",
    "plt.xlabel('number_of_publications', fontsize = 16)\n",
    "plt.ylabel('floor_type', fontsize = 16)\n",
    "plt.title('10_km')\n",
    "plt.show()"
   ]
  },
  {
   "cell_type": "markdown",
   "id": "3a4508aa",
   "metadata": {},
   "source": [
    "На 3-ем километре квартир в категориях \"первый этаж \" или \"последний этаж \" заметно больше. Этим объясняется провал\n",
    "На 5-ом километре квартир в категории \"другой\" больше. Этим объясняется всплеск"
   ]
  },
  {
   "attachments": {
    "image-2.png": {
     "image/png": "[encoded data removed]"
    }
   },
   "cell_type": "markdown",
   "id": "978f7b65",
   "metadata": {},
   "source": [
    "<div class=\"alert alert-danger\">\n",
    "<font size=\"4\"><b>❌ Комментарий ревьюера</b></font>\n",
    "    <br /> \n",
    "    <font size=\"3\", color = \"black\">\n",
    "<br />\n",
    "        \n",
    "Для выполнения 5-го пункта стоит сгруппировать и найти среднюю стоимость только питерских квартир на каждом километре, на этих данных построить линейный график, где по оси х будут округленные км., а по оси у - средняя стоимость всех квартир на этом км.\n",
    "        \n",
    "![image-2.png](attachment:image-2.png)        \n",
    "      \n",
    "Шаг 4.\n",
    "        \n",
    "5.\tРанее вы посчитали расстояние до центра в километрах. Теперь выделите квартиры в Санкт-Петербурге с помощью столбца locality_name и вычислите среднюю цену каждого километра. Опишите, как стоимость объектов зависит от расстояния до центра города.\n",
    "        "
   ]
  },
  {
   "cell_type": "markdown",
   "id": "6b62ef88",
   "metadata": {},
   "source": [
    "<div class=\"alert alert-danger\">\n",
    "<font size=\"4\"><b>❌ Комментарий ревьюера</b></font>\n",
    "    <br /> \n",
    "    <font size=\"3\", color = \"black\">\n",
    "<br /> Стоит изучить записи, которые привели к провалу на 27-м км. (или выбросу (как на графике), если он вдруг появится после восстановления данных)\n",
    "        \n"
   ]
  },
  {
   "cell_type": "markdown",
   "id": "08a48c1d",
   "metadata": {},
   "source": [
    "<div class=\"alert alert-danger\">\n",
    "<font size=\"4\"><b>❌ Комментарий ревьюера</b></font>\n",
    "    <br /> \n",
    "    <font size=\"3\", color = \"black\">\n",
    "<br />         \n",
    "Стоит посмотреть на количество квартир разных категорий (первый, последний, другой), которые продаются на 3-м км. и 5-ом ... и какую долю они занимают на каждом километре, чтобы объяснить пик  и провал в центре"
   ]
  },
  {
   "cell_type": "markdown",
   "id": "2a84930d",
   "metadata": {},
   "source": [
    "<div class=\"alert alert-info\">\n",
    "<font size=\"4\", color = \"black\"><b>✍ Комментарий студента</b></font>\n",
    "    <br /> \n",
    "    <font size=\"3\", color = \"black\">\n",
    "<br /> Графики и диаграммы добавил. На 27-ой, 3-ий и 5-ый км посмотрел "
   ]
  },
  {
   "cell_type": "markdown",
   "id": "3251c609",
   "metadata": {},
   "source": [
    "## Шаг 5. Общий вывод"
   ]
  },
  {
   "cell_type": "markdown",
   "id": "45c9dbd1",
   "metadata": {},
   "source": [
    "#### 5.1. Цель работы: "
   ]
  },
  {
   "cell_type": "markdown",
   "id": "46b4919c",
   "metadata": {},
   "source": [
    "По данным от Яндекс недвижимости выполнить предобработку данных и изучить их,   \n",
    "чтобы найти интересные особенности и зависимости, которые существуют на рынке недвижимости, а именно:\n",
    "    \n",
    "1. Изучить, как быстро продавались квартиры\n",
    "2. Определить какие факторы больше всего влияют на общую (полную) стоимость объекта?\n",
    "3. Посчитать среднюю цену одного квадратного метра в 10 населённых пунктах с наибольшим числом объявлений. Выделить населённые пункты с самой высокой и низкой стоимостью квадратного метра. \n",
    "4. Найти закономерность между стоимостью объектов зависит от расстояния до центра города."
   ]
  },
  {
   "cell_type": "markdown",
   "id": "a97c5d42",
   "metadata": {},
   "source": [
    "#### 5.2. Анализ и предобработка представленного датасета с данными о заемщиках банка с данными о недвижимости по Спб и Ленинградской области"
   ]
  },
  {
   "cell_type": "markdown",
   "id": "442df81e",
   "metadata": {},
   "source": [
    "В рамках предобработки данных были обнаружены следующие ошибки в датасете:\n",
    "    \n",
    "    1. Наименование столбца cityCenters_nearest несоответствует snake_case\n",
    "    2. В столбцах  ceiling_height, living_area, is_apartment, kitchen_area, balcony, airports_nearest,  \n",
    "    cityCenters_nearest, parks_around3000, parks_neares, ponds_around3000, ponds_nearest, first_day_exposition \n",
    "    имеют пропуски (значения NaN). Данные пропуски связаны как с человеческим фактором так и с ошибками в стороннем ПО \n",
    "    и сборе данных\n",
    "    3. Наличие выбросов в датасете. Например явные ошибки при записи десятичных дробей в высоте пололков (25 вместо 2.5)\n",
    "    4. Наличие неявных дубликатов в столбце locality_name. Например поселок городского типа Рябово и посёлок Рябово  \n",
    "    5. Неверный тип переменных в столбцах. Например object в столбце is_apartament или float в столбце days_exposition "
   ]
  },
  {
   "cell_type": "markdown",
   "id": "c9666c06",
   "metadata": {},
   "source": [
    "В ходе предобработки данного датасета **были выполнены следующие действия:**  \n",
    "\n",
    "1. Пропуски в столбцах где это возможно были заполнены медианным значением из соответствующих группc помощью логической индексации и метода  (например столбцы kitchen_area и living_area медианными значениями по группам по количеству комнат) .median()\n",
    "2. Где это было логически обосновано, пропуски были заполнены нулями (например в столбце is_apartament и balcony)\n",
    "3. Изменены типы столбцов is_apartament и balcony, first_day_exposition, floors_total, parks_around3000, ponds_around300\n",
    "3. Обработаны неявные дубликаты в столбце locality_name: значения в столбце приведены к одному регистру с помощью метода .str.lower(), убраны наименования населенных пунктов."
   ]
  },
  {
   "cell_type": "markdown",
   "id": "8bbfcac7",
   "metadata": {},
   "source": [
    "Для дальнейшего анализа были добавлены столбцы:\n",
    "\n",
    " 1. цена одного квадратного метра\n",
    " 2. день публикации объявления (0 - понедельник, 1 - вторник и т.д.)\n",
    " 3. месяц публикации объявления\n",
    " 4. год публикации объявления\n",
    " 5. тип этажа квартиры (значения — «первый», «последний», «другой»)\n",
    " 6. расстояние в км до центра города"
   ]
  },
  {
   "cell_type": "markdown",
   "id": "5a97183b",
   "metadata": {},
   "source": [
    "После преобработки данных по каждому столбцу были построены гистограммы для визуализации результатов"
   ]
  },
  {
   "cell_type": "markdown",
   "id": "a641ccf7",
   "metadata": {},
   "source": [
    "В ходе дальнейшего анализа для определения факторов, влияющих на цену объекта недвижимости, была построена таблица корреляции ниже"
   ]
  },
  {
   "attachments": {
    "image.png": {
     "image/png": "[encoded data removed]"
    }
   },
   "cell_type": "markdown",
   "id": "be7c2af5",
   "metadata": {},
   "source": [
    "![image.png](attachment:image.png)"
   ]
  },
  {
   "attachments": {
    "image.png": {
     "image/png": "[encoded data removed]"
    }
   },
   "cell_type": "markdown",
   "id": "fc142be6",
   "metadata": {},
   "source": [
    "<div class=\"alert alert-warning\", style=\"border:solid coral 3px; padding: 20px\">\n",
    "<font size=\"4\", color = \"DimGrey\"><b>⚠️ Комментарий ревьюера</b></font>\n",
    "    <br /> \n",
    "    <font size=\"3\", color = \"black\">\n",
    "<br />Не стоит включать код в итоговый вывод, графики можно вставить при помощи снимков экрана\n",
    "        \n",
    "![image.png](attachment:image.png)        "
   ]
  },
  {
   "cell_type": "markdown",
   "id": "aa0be099",
   "metadata": {},
   "source": [
    "Так же расчитаны средние цены квадратного метра по локациям объекта недвижимости "
   ]
  },
  {
   "cell_type": "markdown",
   "id": "cb04f4fc",
   "metadata": {},
   "source": [
    "и расчитана цена \"километра\" при приближении к центру Спб от окраинше всего влияют на общую (полную) стоимость объекта?"
   ]
  },
  {
   "cell_type": "markdown",
   "id": "189c32cb",
   "metadata": {},
   "source": [
    "#### 5.3. Общий вывод"
   ]
  },
  {
   "cell_type": "markdown",
   "id": "a00a9a1f",
   "metadata": {},
   "source": [
    "**Вывод по динамике продаж:**  \n",
    "  \n",
    "В среднем объекты недвижимости продаются от 45 до 167 дней. Медианное значение - 90 дней. Минимальное - 11 дней. Быстрыми считаются продажи меньше 45 дней. Долгими - больше 167 дней"
   ]
  },
  {
   "cell_type": "markdown",
   "id": "c36a04da",
   "metadata": {},
   "source": [
    "**Вывод по факторам, влияющим на стоимость объекта недвижимости:**\n",
    "\n",
    "На цену объекта недвижимости влияют:     \n",
    "  \n",
    "        - общая площадь (соответствено и жилая площадь, площадь кухни, количество комнат и цена м2)  \n",
    "        - расстояние от центра \n",
    "        - год продажи \n",
    "\n",
    "Для двух последних даны графики ниже"
   ]
  },
  {
   "cell_type": "markdown",
   "id": "4429161b",
   "metadata": {},
   "source": [
    "**Цена - расстояние до центра**"
   ]
  },
  {
   "attachments": {
    "image.png": {
     "image/png": "[encoded data removed]"
    }
   },
   "cell_type": "markdown",
   "id": "ae315e17",
   "metadata": {},
   "source": [
    "![image.png](attachment:image.png)"
   ]
  },
  {
   "cell_type": "markdown",
   "id": "4a81203d",
   "metadata": {},
   "source": [
    "**Цена - год продажи**"
   ]
  },
  {
   "attachments": {
    "image.png": {
     "image/png": "[encoded data removed]"
    }
   },
   "cell_type": "markdown",
   "id": "dc44993f",
   "metadata": {},
   "source": [
    "![image.png](attachment:image.png)"
   ]
  },
  {
   "cell_type": "markdown",
   "id": "6d31423a",
   "metadata": {},
   "source": [
    "День и месяц практически не влияют на цену. В 2016-2018 годах наблюдается существенное снижение цен. Не смотря на то, что медианная цена на квартиры не на последнем и первом этаже больше, количество квартир на первом и последнем этажах мало, что не позволяет делать однозначный вывод"
   ]
  },
  {
   "cell_type": "markdown",
   "id": "b700abfb",
   "metadata": {},
   "source": [
    "**Вывод по цене квадратного метра:**\n",
    "\n",
    "Самые большие цены за м2 в Спб и  пригородах. Сводка с ценами за м2 дана в таблице ниже"
   ]
  },
  {
   "attachments": {
    "image.png": {
     "image/png": "[encoded data removed]"
    }
   },
   "cell_type": "markdown",
   "id": "b76e64ea",
   "metadata": {},
   "source": [
    "![image.png](attachment:image.png)"
   ]
  },
  {
   "cell_type": "markdown",
   "id": "43d1ff3a",
   "metadata": {},
   "source": [
    "**Вывод по наличию закономерности между стоимости объектов и расстояния до центра города**:"
   ]
  },
  {
   "cell_type": "markdown",
   "id": "b89e3a39",
   "metadata": {},
   "source": [
    "C приближением к центру города стоимость квартиры увеличивается в среднем на ~125 тыс.руб за 1 км. \n",
    "Динамика изменения цены по км дана ниже"
   ]
  },
  {
   "attachments": {
    "image.png": {
     "image/png": "[encoded data removed]"
    }
   },
   "cell_type": "markdown",
   "id": "2faf51c0",
   "metadata": {},
   "source": [
    "![image.png](attachment:image.png)"
   ]
  },
  {
   "cell_type": "markdown",
   "id": "144cd808",
   "metadata": {},
   "source": [
    "Провал на 3-ем километре объясняется тем, что квартир в категориях \"первый этаж \" или \"последний этаж \" на 3 км заметно больше. \n",
    "Всплеск 5-ом километре объясняется тем, что квартир в категории \"другой\" на 5 км заметно больше"
   ]
  },
  {
   "cell_type": "markdown",
   "id": "fc3767e6",
   "metadata": {},
   "source": [
    "<div class=\"alert alert-danger\">\n",
    "<font size=\"4\"><b>❌ Комментарий ревьюера</b></font>\n",
    "    <br /> \n",
    "    <font size=\"3\", color = \"black\">\n",
    "<br /> Технически вывод хороший, есть сравнения показателей, инсайты, анализ рынка недвижимости, молодец\n",
    "        \n",
    "Осталось перепроверить итоговый вывод после исправления всех комментариев"
   ]
  },
  {
   "cell_type": "markdown",
   "id": "f3337809",
   "metadata": {},
   "source": [
    "<div class=\"alert alert-success\">\n",
    "<font size=\"5\"><b>✔️ Комментарий ревьюера</b></font>\n",
    "    <br /> \n",
    "    <font size=\"3\", color = \"black\">\n",
    "<br />    \n",
    "Выполнил исследовательскую работу, молодец, показал хороший уровень навыков программирования\n",
    "        \n",
    "Критические ❌ комментарии\n",
    "\n",
    "+ настроить загрузку сетевой версии        \n",
    "+ проверить корректность заполнения пропусков синтетическими данными        \n",
    "+ проверить и вернуть пропуски в колонку о расстоянии до центра\n",
    "+ настроить фильтрацию редких значений в п. 2.4\n",
    "+ добавить и подправить гистограммы в п.4.1\n",
    "+ добавить графики в п. 4.3        \n",
    "+ добавить вывод в п. 4.3\n",
    "+ поправить выполнение и добавить график в ТОП-10\n",
    "+ поправить выполнение и исследовать аномалии в п.4.5\n",
    "+ поправить итоговый вывод\n",
    "        \n",
    "          \n",
    "        \n",
    "        \n",
    "С ними важно поработать и исправить\n",
    "        \n",
    "Стоит обратить внимание и на такие комментарии ⚠️\n",
    "        \n",
    "Если будут вопросы про мои комментарии - задавай, если какой-то формат взаимодействия не устраивает или есть какие-то другие пожелания - пиши :)\n",
    "\n",
    "<div class=\"alert alert-success\">\n",
    "    <font size=\"5\"><b>Жду твой проект и твои комментарии 🤝</b></font><br />\n",
    "    \n",
    "нумерация пунктов из брифа проекта, у тебя они могут быть другие"
   ]
  },
  {
   "cell_type": "markdown",
   "id": "2038cc74",
   "metadata": {},
   "source": [
    "<div style=\"border:solid steelblue 3px; padding: 20px\">\n",
    "<font size=\"4\">🍕<b> Комментарий ревьюера</b></font>\n",
    "<br /> \n",
    "<font size=\"3\", color = \"black\">\n",
    "<br />    \n",
    "    \n",
    "[Обработка пропусков в данных](https://loginom.ru/blog/missing)\n",
    "    \n",
    "<p> Доп. материал: методы группировки и расчета суммы, средних и т.д.:\n",
    "        \n",
    "[Подробное руководство по группировке и агрегированию с помощью pandas](https://dfedorov.spb.ru/pandas/%D0%9F%D0%BE%D0%B4%D1%80%D0%BE%D0%B1%D0%BD%D0%BE%D0%B5%20%D1%80%D1%83%D0%BA%D0%BE%D0%B2%D0%BE%D0%B4%D1%81%D1%82%D0%B2%D0%BE%20%D0%BF%D0%BE%20%D0%B3%D1%80%D1%83%D0%BF%D0%BF%D0%B8%D1%80%D0%BE%D0%B2%D0%BA%D0%B5%20%D0%B8%20%D0%B0%D0%B3%D1%80%D0%B5%D0%B3%D0%B8%D1%80%D0%BE%D0%B2%D0%B0%D0%BD%D0%B8%D1%8E%20%D1%81%20%D0%BF%D0%BE%D0%BC%D0%BE%D1%89%D1%8C%D1%8E%20pandas.html)\n",
    "    \n",
    "[Сводная таблица в pandas](https://dfedorov.spb.ru/pandas/%D0%A1%D0%B2%D0%BE%D0%B4%D0%BD%D0%B0%D1%8F%20%D1%82%D0%B0%D0%B1%D0%BB%D0%B8%D1%86%D0%B0%20%D0%B2%20pandas.html?ysclid=lje9wz2vfc28794921)\n",
    "        \n",
    "[Понимание функции transform в Pandas](https://dfedorov.spb.ru/pandas/%D0%9F%D0%BE%D0%BD%D0%B8%D0%BC%D0%B0%D0%BD%D0%B8%D0%B5%20%D1%84%D1%83%D0%BD%D0%BA%D1%86%D0%B8%D0%B8%20transform%20%D0%B2%20Pandas.html)\n",
    "    \n",
    "[Как выбрать определенные столбцы из DataFrame](https://dfedorov.spb.ru/pandas/03.%20%D0%9A%D0%B0%D0%BA%20%D0%B2%D1%8B%D0%B1%D1%80%D0%B0%D1%82%D1%8C%20%D0%BF%D0%BE%D0%B4%D0%BC%D0%BD%D0%BE%D0%B6%D0%B5%D1%81%D1%82%D0%B2%D0%BE%20%D0%B8%D0%B7%20DataFrame_.html?ysclid=l9sps5lt6g576766938)\n",
    "    \n",
    "[How to visualise data using histograms in Pandas](https://practicaldatascience.co.uk/data-science/how-to-visualise-data-using-histograms-in-pandas)"
   ]
  },
  {
   "cell_type": "markdown",
   "id": "d7aa2e11",
   "metadata": {},
   "source": [
    "**Чек-лист готовности проекта**\n",
    "\n",
    "Поставьте 'x' в выполненных пунктах. Далее нажмите Shift+Enter."
   ]
  },
  {
   "cell_type": "markdown",
   "id": "d8b75dae",
   "metadata": {},
   "source": [
    "- [x]  открыт файл\n",
    "- [x]  файлы изучены (выведены первые строки, метод `info()`, гистограммы и т.д.)\n",
    "- [x]  определены пропущенные значения\n",
    "- [x]  заполнены пропущенные значения там, где это возможно\n",
    "- [x]  есть пояснение, какие пропущенные значения обнаружены\n",
    "- [x]  изменены типы данных\n",
    "- [x]  есть пояснение, в каких столбцах изменены типы и почему\n",
    "- [x]  устранены неявные дубликаты в названиях населённых пунктов\n",
    "- [x]  устранены редкие и выбивающиеся значения (аномалии) во всех столбцах\n",
    "- [x]  посчитано и добавлено в таблицу: цена одного квадратного метра\n",
    "- [x]  посчитано и добавлено в таблицу: день публикации объявления (0 - понедельник, 1 - вторник и т.д.)\n",
    "- [x]  посчитано и добавлено в таблицу: месяц публикации объявления\n",
    "- [x]  посчитано и добавлено в таблицу: год публикации объявления\n",
    "- [x]  посчитано и добавлено в таблицу: тип этажа квартиры (значения — «первый», «последний», «другой»)\n",
    "- [x]  посчитано и добавлено в таблицу: расстояние в км до центра города\n",
    "- [x]  изучены и описаны следующие параметры:\n",
    "        - общая площадь;\n",
    "        - жилая площадь;\n",
    "        - площадь кухни;\n",
    "        - цена объекта;\n",
    "        - количество комнат;\n",
    "        - высота потолков;\n",
    "        - этаж квартиры;\n",
    "        - тип этажа квартиры («первый», «последний», «другой»);\n",
    "        - общее количество этажей в доме;\n",
    "        - расстояние до центра города в метрах;\n",
    "        - расстояние до ближайшего аэропорта;\n",
    "        - расстояние до ближайшего парка;\n",
    "        - день и месяц публикации объявления\n",
    "- [x]  построены гистограммы для каждого параметра\n",
    "- [x]  выполнено задание: \"Изучите, как быстро продавались квартиры (столбец days_exposition). Этот параметр показывает, сколько дней «висело» каждое объявление.\n",
    "    - Постройте гистограмму.\n",
    "    - Посчитайте среднее и медиану.\n",
    "    - В ячейке типа markdown опишите, сколько обычно занимает продажа. Какие продажи можно считать быстрыми, а какие — необычно долгими?\"\n",
    "- [x]  выполнено задание: \"Какие факторы больше всего влияют на общую (полную) стоимость объекта? Постройте графики, которые покажут зависимость цены от указанных ниже параметров. Для подготовки данных перед визуализацией вы можете использовать сводные таблицы.\"\n",
    "        - общей площади;\n",
    "        - жилой площади;\n",
    "        - площади кухни;\n",
    "        - количество комнат;\n",
    "        - типа этажа, на котором расположена квартира (первый, последний, другой);\n",
    "        - даты размещения (день недели, месяц, год);\n",
    "- [x]  выполнено задание: \"Посчитайте среднюю цену одного квадратного метра в 10 населённых пунктах с наибольшим числом объявлений. Выделите населённые пункты с самой высокой и низкой стоимостью квадратного метра. Эти данные можно найти по имени в столбце `locality_name`.\"\n",
    "- [x]  выполнено задание: \"Ранее вы посчитали расстояние до центра в километрах. Теперь выделите квартиры в Санкт-Петербурге с помощью столбца `locality_name` и вычислите среднюю цену каждого километра. Опишите, как стоимость объектов зависит от расстояния до центра города.\"\n",
    "- [x]  в каждом этапе есть промежуточные выводы\n",
    "- [x]  есть общий вывод"
   ]
  }
 ],
 "metadata": {
  "ExecuteTimeLog": [
   {
    "duration": 494,
    "start_time": "2023-07-02T21:09:03.719Z"
   },
   {
    "duration": 148,
    "start_time": "2023-07-02T21:09:04.215Z"
   },
   {
    "duration": 0,
    "start_time": "2023-07-02T21:09:04.376Z"
   },
   {
    "duration": 0,
    "start_time": "2023-07-02T21:09:04.378Z"
   },
   {
    "duration": 0,
    "start_time": "2023-07-02T21:09:04.379Z"
   },
   {
    "duration": 0,
    "start_time": "2023-07-02T21:09:04.380Z"
   },
   {
    "duration": 0,
    "start_time": "2023-07-02T21:09:04.383Z"
   },
   {
    "duration": 0,
    "start_time": "2023-07-02T21:09:04.384Z"
   },
   {
    "duration": 0,
    "start_time": "2023-07-02T21:09:04.388Z"
   },
   {
    "duration": 0,
    "start_time": "2023-07-02T21:09:04.389Z"
   },
   {
    "duration": 0,
    "start_time": "2023-07-02T21:09:04.390Z"
   },
   {
    "duration": 0,
    "start_time": "2023-07-02T21:09:04.391Z"
   },
   {
    "duration": 0,
    "start_time": "2023-07-02T21:09:04.393Z"
   },
   {
    "duration": 0,
    "start_time": "2023-07-02T21:09:04.395Z"
   },
   {
    "duration": 0,
    "start_time": "2023-07-02T21:09:04.396Z"
   },
   {
    "duration": 0,
    "start_time": "2023-07-02T21:09:04.398Z"
   },
   {
    "duration": 0,
    "start_time": "2023-07-02T21:09:04.399Z"
   },
   {
    "duration": 0,
    "start_time": "2023-07-02T21:09:04.400Z"
   },
   {
    "duration": 0,
    "start_time": "2023-07-02T21:09:04.401Z"
   },
   {
    "duration": 0,
    "start_time": "2023-07-02T21:09:04.403Z"
   },
   {
    "duration": 0,
    "start_time": "2023-07-02T21:09:04.404Z"
   },
   {
    "duration": 0,
    "start_time": "2023-07-02T21:09:04.405Z"
   },
   {
    "duration": 0,
    "start_time": "2023-07-02T21:09:04.406Z"
   },
   {
    "duration": 0,
    "start_time": "2023-07-02T21:09:04.408Z"
   },
   {
    "duration": 0,
    "start_time": "2023-07-02T21:09:04.409Z"
   },
   {
    "duration": 0,
    "start_time": "2023-07-02T21:09:04.410Z"
   },
   {
    "duration": 0,
    "start_time": "2023-07-02T21:09:04.412Z"
   },
   {
    "duration": 0,
    "start_time": "2023-07-02T21:09:04.413Z"
   },
   {
    "duration": 0,
    "start_time": "2023-07-02T21:09:04.414Z"
   },
   {
    "duration": 0,
    "start_time": "2023-07-02T21:09:04.416Z"
   },
   {
    "duration": 0,
    "start_time": "2023-07-02T21:09:04.460Z"
   },
   {
    "duration": 0,
    "start_time": "2023-07-02T21:09:04.466Z"
   },
   {
    "duration": 0,
    "start_time": "2023-07-02T21:09:04.467Z"
   },
   {
    "duration": 0,
    "start_time": "2023-07-02T21:09:04.470Z"
   },
   {
    "duration": 0,
    "start_time": "2023-07-02T21:09:04.470Z"
   },
   {
    "duration": 0,
    "start_time": "2023-07-02T21:09:04.471Z"
   },
   {
    "duration": 0,
    "start_time": "2023-07-02T21:09:04.472Z"
   },
   {
    "duration": 0,
    "start_time": "2023-07-02T21:09:04.473Z"
   },
   {
    "duration": 1,
    "start_time": "2023-07-02T21:09:04.473Z"
   },
   {
    "duration": 0,
    "start_time": "2023-07-02T21:09:04.474Z"
   },
   {
    "duration": 0,
    "start_time": "2023-07-02T21:09:04.475Z"
   },
   {
    "duration": 0,
    "start_time": "2023-07-02T21:09:04.476Z"
   },
   {
    "duration": 0,
    "start_time": "2023-07-02T21:09:04.482Z"
   },
   {
    "duration": 0,
    "start_time": "2023-07-02T21:09:04.483Z"
   },
   {
    "duration": 0,
    "start_time": "2023-07-02T21:09:04.484Z"
   },
   {
    "duration": 0,
    "start_time": "2023-07-02T21:09:04.485Z"
   },
   {
    "duration": 0,
    "start_time": "2023-07-02T21:09:04.486Z"
   },
   {
    "duration": 0,
    "start_time": "2023-07-02T21:09:04.487Z"
   },
   {
    "duration": 0,
    "start_time": "2023-07-02T21:09:04.488Z"
   },
   {
    "duration": 0,
    "start_time": "2023-07-02T21:09:04.490Z"
   },
   {
    "duration": 0,
    "start_time": "2023-07-02T21:09:04.490Z"
   },
   {
    "duration": 0,
    "start_time": "2023-07-02T21:09:04.491Z"
   },
   {
    "duration": 0,
    "start_time": "2023-07-02T21:09:04.492Z"
   },
   {
    "duration": 0,
    "start_time": "2023-07-02T21:09:04.493Z"
   },
   {
    "duration": 0,
    "start_time": "2023-07-02T21:09:04.494Z"
   },
   {
    "duration": 0,
    "start_time": "2023-07-02T21:09:04.495Z"
   },
   {
    "duration": 0,
    "start_time": "2023-07-02T21:09:04.496Z"
   },
   {
    "duration": 0,
    "start_time": "2023-07-02T21:09:04.497Z"
   },
   {
    "duration": 1,
    "start_time": "2023-07-02T21:09:04.498Z"
   },
   {
    "duration": 0,
    "start_time": "2023-07-02T21:09:04.500Z"
   },
   {
    "duration": 0,
    "start_time": "2023-07-02T21:09:04.500Z"
   },
   {
    "duration": 0,
    "start_time": "2023-07-02T21:09:04.501Z"
   },
   {
    "duration": 0,
    "start_time": "2023-07-02T21:09:04.502Z"
   },
   {
    "duration": 0,
    "start_time": "2023-07-02T21:09:04.503Z"
   },
   {
    "duration": 1,
    "start_time": "2023-07-02T21:09:04.504Z"
   },
   {
    "duration": 0,
    "start_time": "2023-07-02T21:09:04.506Z"
   },
   {
    "duration": 0,
    "start_time": "2023-07-02T21:09:04.559Z"
   },
   {
    "duration": 0,
    "start_time": "2023-07-02T21:09:04.560Z"
   },
   {
    "duration": 0,
    "start_time": "2023-07-02T21:09:04.561Z"
   },
   {
    "duration": 0,
    "start_time": "2023-07-02T21:09:04.561Z"
   },
   {
    "duration": 0,
    "start_time": "2023-07-02T21:09:04.562Z"
   },
   {
    "duration": 0,
    "start_time": "2023-07-02T21:09:04.563Z"
   },
   {
    "duration": 0,
    "start_time": "2023-07-02T21:09:04.563Z"
   },
   {
    "duration": 0,
    "start_time": "2023-07-02T21:09:04.564Z"
   },
   {
    "duration": 0,
    "start_time": "2023-07-02T21:09:04.569Z"
   },
   {
    "duration": 0,
    "start_time": "2023-07-02T21:09:04.570Z"
   },
   {
    "duration": 0,
    "start_time": "2023-07-02T21:09:04.570Z"
   },
   {
    "duration": 0,
    "start_time": "2023-07-02T21:09:04.573Z"
   },
   {
    "duration": 0,
    "start_time": "2023-07-02T21:09:04.573Z"
   },
   {
    "duration": 0,
    "start_time": "2023-07-02T21:09:04.574Z"
   },
   {
    "duration": 0,
    "start_time": "2023-07-02T21:09:04.575Z"
   },
   {
    "duration": 0,
    "start_time": "2023-07-02T21:09:04.576Z"
   },
   {
    "duration": 0,
    "start_time": "2023-07-02T21:09:04.577Z"
   },
   {
    "duration": 0,
    "start_time": "2023-07-02T21:09:04.577Z"
   },
   {
    "duration": 0,
    "start_time": "2023-07-02T21:09:04.578Z"
   },
   {
    "duration": 0,
    "start_time": "2023-07-02T21:09:04.581Z"
   },
   {
    "duration": 0,
    "start_time": "2023-07-02T21:09:04.582Z"
   },
   {
    "duration": 0,
    "start_time": "2023-07-02T21:09:04.584Z"
   },
   {
    "duration": 0,
    "start_time": "2023-07-02T21:09:04.586Z"
   },
   {
    "duration": 0,
    "start_time": "2023-07-02T21:09:04.588Z"
   },
   {
    "duration": 0,
    "start_time": "2023-07-02T21:09:04.589Z"
   },
   {
    "duration": 0,
    "start_time": "2023-07-02T21:09:04.591Z"
   },
   {
    "duration": 0,
    "start_time": "2023-07-02T21:09:04.592Z"
   },
   {
    "duration": 0,
    "start_time": "2023-07-02T21:09:04.593Z"
   },
   {
    "duration": 0,
    "start_time": "2023-07-02T21:09:04.595Z"
   },
   {
    "duration": 0,
    "start_time": "2023-07-02T21:09:04.596Z"
   },
   {
    "duration": 0,
    "start_time": "2023-07-02T21:09:04.598Z"
   },
   {
    "duration": 0,
    "start_time": "2023-07-02T21:09:04.600Z"
   },
   {
    "duration": 0,
    "start_time": "2023-07-02T21:09:04.601Z"
   },
   {
    "duration": 0,
    "start_time": "2023-07-02T21:09:04.602Z"
   },
   {
    "duration": 0,
    "start_time": "2023-07-02T21:09:04.661Z"
   },
   {
    "duration": 0,
    "start_time": "2023-07-02T21:09:04.662Z"
   },
   {
    "duration": 0,
    "start_time": "2023-07-02T21:09:04.662Z"
   },
   {
    "duration": 0,
    "start_time": "2023-07-02T21:09:04.663Z"
   },
   {
    "duration": 0,
    "start_time": "2023-07-02T21:09:04.664Z"
   },
   {
    "duration": 0,
    "start_time": "2023-07-02T21:09:04.665Z"
   },
   {
    "duration": 0,
    "start_time": "2023-07-02T21:09:04.666Z"
   },
   {
    "duration": 0,
    "start_time": "2023-07-02T21:09:04.667Z"
   },
   {
    "duration": 0,
    "start_time": "2023-07-02T21:09:04.672Z"
   },
   {
    "duration": 0,
    "start_time": "2023-07-02T21:09:04.672Z"
   },
   {
    "duration": 0,
    "start_time": "2023-07-02T21:09:04.673Z"
   },
   {
    "duration": 0,
    "start_time": "2023-07-02T21:09:04.674Z"
   },
   {
    "duration": 0,
    "start_time": "2023-07-02T21:09:04.675Z"
   },
   {
    "duration": 385,
    "start_time": "2023-07-02T22:33:33.732Z"
   },
   {
    "duration": 665,
    "start_time": "2023-07-02T22:33:34.119Z"
   },
   {
    "duration": 32,
    "start_time": "2023-07-02T22:33:34.786Z"
   },
   {
    "duration": 14,
    "start_time": "2023-07-02T22:33:34.820Z"
   },
   {
    "duration": 1918,
    "start_time": "2023-07-02T22:33:34.836Z"
   },
   {
    "duration": 5,
    "start_time": "2023-07-02T22:33:36.756Z"
   },
   {
    "duration": 21,
    "start_time": "2023-07-02T22:33:36.762Z"
   },
   {
    "duration": 7,
    "start_time": "2023-07-02T22:33:36.785Z"
   },
   {
    "duration": 10,
    "start_time": "2023-07-02T22:33:36.794Z"
   },
   {
    "duration": 5,
    "start_time": "2023-07-02T22:33:36.806Z"
   },
   {
    "duration": 1499,
    "start_time": "2023-07-02T22:33:36.812Z"
   },
   {
    "duration": 1538,
    "start_time": "2023-07-02T22:33:38.313Z"
   },
   {
    "duration": 9,
    "start_time": "2023-07-02T22:33:39.852Z"
   },
   {
    "duration": 3,
    "start_time": "2023-07-02T22:33:39.863Z"
   },
   {
    "duration": 1762,
    "start_time": "2023-07-02T22:33:39.867Z"
   },
   {
    "duration": 1748,
    "start_time": "2023-07-02T22:33:41.630Z"
   },
   {
    "duration": 77,
    "start_time": "2023-07-02T22:33:43.379Z"
   },
   {
    "duration": 0,
    "start_time": "2023-07-02T22:33:43.459Z"
   },
   {
    "duration": 0,
    "start_time": "2023-07-02T22:33:43.460Z"
   },
   {
    "duration": 0,
    "start_time": "2023-07-02T22:33:43.461Z"
   },
   {
    "duration": 0,
    "start_time": "2023-07-02T22:33:43.462Z"
   },
   {
    "duration": 0,
    "start_time": "2023-07-02T22:33:43.463Z"
   },
   {
    "duration": 0,
    "start_time": "2023-07-02T22:33:43.464Z"
   },
   {
    "duration": 0,
    "start_time": "2023-07-02T22:33:43.465Z"
   },
   {
    "duration": 0,
    "start_time": "2023-07-02T22:33:43.466Z"
   },
   {
    "duration": 0,
    "start_time": "2023-07-02T22:33:43.467Z"
   },
   {
    "duration": 0,
    "start_time": "2023-07-02T22:33:43.468Z"
   },
   {
    "duration": 0,
    "start_time": "2023-07-02T22:33:43.469Z"
   },
   {
    "duration": 0,
    "start_time": "2023-07-02T22:33:43.470Z"
   },
   {
    "duration": 0,
    "start_time": "2023-07-02T22:33:43.471Z"
   },
   {
    "duration": 0,
    "start_time": "2023-07-02T22:33:43.471Z"
   },
   {
    "duration": 0,
    "start_time": "2023-07-02T22:33:43.472Z"
   },
   {
    "duration": 0,
    "start_time": "2023-07-02T22:33:43.473Z"
   },
   {
    "duration": 0,
    "start_time": "2023-07-02T22:33:43.474Z"
   },
   {
    "duration": 0,
    "start_time": "2023-07-02T22:33:43.474Z"
   },
   {
    "duration": 0,
    "start_time": "2023-07-02T22:33:43.499Z"
   },
   {
    "duration": 0,
    "start_time": "2023-07-02T22:33:43.500Z"
   },
   {
    "duration": 0,
    "start_time": "2023-07-02T22:33:43.501Z"
   },
   {
    "duration": 0,
    "start_time": "2023-07-02T22:33:43.502Z"
   },
   {
    "duration": 0,
    "start_time": "2023-07-02T22:33:43.503Z"
   },
   {
    "duration": 0,
    "start_time": "2023-07-02T22:33:43.504Z"
   },
   {
    "duration": 0,
    "start_time": "2023-07-02T22:33:43.505Z"
   },
   {
    "duration": 0,
    "start_time": "2023-07-02T22:33:43.506Z"
   },
   {
    "duration": 0,
    "start_time": "2023-07-02T22:33:43.507Z"
   },
   {
    "duration": 0,
    "start_time": "2023-07-02T22:33:43.508Z"
   },
   {
    "duration": 0,
    "start_time": "2023-07-02T22:33:43.509Z"
   },
   {
    "duration": 0,
    "start_time": "2023-07-02T22:33:43.510Z"
   },
   {
    "duration": 0,
    "start_time": "2023-07-02T22:33:43.511Z"
   },
   {
    "duration": 0,
    "start_time": "2023-07-02T22:33:43.512Z"
   },
   {
    "duration": 0,
    "start_time": "2023-07-02T22:33:43.513Z"
   },
   {
    "duration": 0,
    "start_time": "2023-07-02T22:33:43.513Z"
   },
   {
    "duration": 0,
    "start_time": "2023-07-02T22:33:43.514Z"
   },
   {
    "duration": 0,
    "start_time": "2023-07-02T22:33:43.515Z"
   },
   {
    "duration": 0,
    "start_time": "2023-07-02T22:33:43.516Z"
   },
   {
    "duration": 0,
    "start_time": "2023-07-02T22:33:43.517Z"
   },
   {
    "duration": 0,
    "start_time": "2023-07-02T22:33:43.519Z"
   },
   {
    "duration": 0,
    "start_time": "2023-07-02T22:33:43.520Z"
   },
   {
    "duration": 0,
    "start_time": "2023-07-02T22:33:43.521Z"
   },
   {
    "duration": 0,
    "start_time": "2023-07-02T22:33:43.522Z"
   },
   {
    "duration": 0,
    "start_time": "2023-07-02T22:33:43.524Z"
   },
   {
    "duration": 0,
    "start_time": "2023-07-02T22:33:43.525Z"
   },
   {
    "duration": 0,
    "start_time": "2023-07-02T22:33:43.526Z"
   },
   {
    "duration": 0,
    "start_time": "2023-07-02T22:33:43.527Z"
   },
   {
    "duration": 0,
    "start_time": "2023-07-02T22:33:43.529Z"
   },
   {
    "duration": 0,
    "start_time": "2023-07-02T22:33:43.530Z"
   },
   {
    "duration": 0,
    "start_time": "2023-07-02T22:33:43.531Z"
   },
   {
    "duration": 0,
    "start_time": "2023-07-02T22:33:43.532Z"
   },
   {
    "duration": 0,
    "start_time": "2023-07-02T22:33:43.533Z"
   },
   {
    "duration": 0,
    "start_time": "2023-07-02T22:33:43.534Z"
   },
   {
    "duration": 0,
    "start_time": "2023-07-02T22:33:43.536Z"
   },
   {
    "duration": 0,
    "start_time": "2023-07-02T22:33:43.537Z"
   },
   {
    "duration": 0,
    "start_time": "2023-07-02T22:33:43.600Z"
   },
   {
    "duration": 0,
    "start_time": "2023-07-02T22:33:43.601Z"
   },
   {
    "duration": 0,
    "start_time": "2023-07-02T22:33:43.602Z"
   },
   {
    "duration": 0,
    "start_time": "2023-07-02T22:33:43.603Z"
   },
   {
    "duration": 0,
    "start_time": "2023-07-02T22:33:43.604Z"
   },
   {
    "duration": 0,
    "start_time": "2023-07-02T22:33:43.605Z"
   },
   {
    "duration": 0,
    "start_time": "2023-07-02T22:33:43.606Z"
   },
   {
    "duration": 0,
    "start_time": "2023-07-02T22:33:43.607Z"
   },
   {
    "duration": 0,
    "start_time": "2023-07-02T22:33:43.608Z"
   },
   {
    "duration": 0,
    "start_time": "2023-07-02T22:33:43.609Z"
   },
   {
    "duration": 0,
    "start_time": "2023-07-02T22:33:43.609Z"
   },
   {
    "duration": 0,
    "start_time": "2023-07-02T22:33:43.610Z"
   },
   {
    "duration": 0,
    "start_time": "2023-07-02T22:33:43.611Z"
   },
   {
    "duration": 0,
    "start_time": "2023-07-02T22:33:43.612Z"
   },
   {
    "duration": 0,
    "start_time": "2023-07-02T22:33:43.613Z"
   },
   {
    "duration": 0,
    "start_time": "2023-07-02T22:33:43.614Z"
   },
   {
    "duration": 0,
    "start_time": "2023-07-02T22:33:43.615Z"
   },
   {
    "duration": 0,
    "start_time": "2023-07-02T22:33:43.616Z"
   },
   {
    "duration": 0,
    "start_time": "2023-07-02T22:33:43.616Z"
   },
   {
    "duration": 0,
    "start_time": "2023-07-02T22:33:43.617Z"
   },
   {
    "duration": 0,
    "start_time": "2023-07-02T22:33:43.618Z"
   },
   {
    "duration": 0,
    "start_time": "2023-07-02T22:33:43.619Z"
   },
   {
    "duration": 0,
    "start_time": "2023-07-02T22:33:43.620Z"
   },
   {
    "duration": 0,
    "start_time": "2023-07-02T22:33:43.621Z"
   },
   {
    "duration": 0,
    "start_time": "2023-07-02T22:33:43.622Z"
   },
   {
    "duration": 0,
    "start_time": "2023-07-02T22:33:43.623Z"
   },
   {
    "duration": 0,
    "start_time": "2023-07-02T22:33:43.624Z"
   },
   {
    "duration": 0,
    "start_time": "2023-07-02T22:33:43.625Z"
   },
   {
    "duration": 0,
    "start_time": "2023-07-02T22:33:43.625Z"
   },
   {
    "duration": 0,
    "start_time": "2023-07-02T22:33:43.626Z"
   },
   {
    "duration": 0,
    "start_time": "2023-07-02T22:33:43.627Z"
   },
   {
    "duration": 0,
    "start_time": "2023-07-02T22:33:43.627Z"
   },
   {
    "duration": 0,
    "start_time": "2023-07-02T22:33:43.628Z"
   },
   {
    "duration": 0,
    "start_time": "2023-07-02T22:33:43.629Z"
   },
   {
    "duration": 0,
    "start_time": "2023-07-02T22:33:43.630Z"
   },
   {
    "duration": 0,
    "start_time": "2023-07-02T22:33:43.630Z"
   },
   {
    "duration": 0,
    "start_time": "2023-07-02T22:33:43.631Z"
   },
   {
    "duration": 0,
    "start_time": "2023-07-02T22:33:43.632Z"
   },
   {
    "duration": 0,
    "start_time": "2023-07-02T22:33:43.633Z"
   },
   {
    "duration": 0,
    "start_time": "2023-07-02T22:33:43.634Z"
   },
   {
    "duration": 0,
    "start_time": "2023-07-02T22:33:43.634Z"
   },
   {
    "duration": 0,
    "start_time": "2023-07-02T22:33:43.635Z"
   },
   {
    "duration": 14,
    "start_time": "2023-07-02T22:39:56.030Z"
   },
   {
    "duration": 406,
    "start_time": "2023-07-02T22:40:16.741Z"
   },
   {
    "duration": 91,
    "start_time": "2023-07-02T22:40:17.149Z"
   },
   {
    "duration": 32,
    "start_time": "2023-07-02T22:40:17.242Z"
   },
   {
    "duration": 24,
    "start_time": "2023-07-02T22:40:17.276Z"
   },
   {
    "duration": 2060,
    "start_time": "2023-07-02T22:40:17.302Z"
   },
   {
    "duration": 5,
    "start_time": "2023-07-02T22:40:19.364Z"
   },
   {
    "duration": 4,
    "start_time": "2023-07-02T22:40:19.370Z"
   },
   {
    "duration": 226,
    "start_time": "2023-07-02T22:40:19.375Z"
   },
   {
    "duration": 8,
    "start_time": "2023-07-02T22:40:19.603Z"
   },
   {
    "duration": 5,
    "start_time": "2023-07-02T22:40:19.614Z"
   },
   {
    "duration": 5,
    "start_time": "2023-07-02T22:40:19.621Z"
   },
   {
    "duration": 4,
    "start_time": "2023-07-02T22:40:19.627Z"
   },
   {
    "duration": 1571,
    "start_time": "2023-07-02T22:40:19.632Z"
   },
   {
    "duration": 1469,
    "start_time": "2023-07-02T22:40:21.205Z"
   },
   {
    "duration": 9,
    "start_time": "2023-07-02T22:40:22.675Z"
   },
   {
    "duration": 14,
    "start_time": "2023-07-02T22:40:22.686Z"
   },
   {
    "duration": 1851,
    "start_time": "2023-07-02T22:40:22.701Z"
   },
   {
    "duration": 1927,
    "start_time": "2023-07-02T22:40:24.553Z"
   },
   {
    "duration": 12,
    "start_time": "2023-07-02T22:40:26.481Z"
   },
   {
    "duration": 4,
    "start_time": "2023-07-02T22:40:26.499Z"
   },
   {
    "duration": 6,
    "start_time": "2023-07-02T22:40:26.507Z"
   },
   {
    "duration": 7,
    "start_time": "2023-07-02T22:40:26.514Z"
   },
   {
    "duration": 100,
    "start_time": "2023-07-02T22:40:26.523Z"
   },
   {
    "duration": 1,
    "start_time": "2023-07-02T22:40:26.627Z"
   },
   {
    "duration": 0,
    "start_time": "2023-07-02T22:40:26.629Z"
   },
   {
    "duration": 0,
    "start_time": "2023-07-02T22:40:26.629Z"
   },
   {
    "duration": 0,
    "start_time": "2023-07-02T22:40:26.630Z"
   },
   {
    "duration": 0,
    "start_time": "2023-07-02T22:40:26.632Z"
   },
   {
    "duration": 0,
    "start_time": "2023-07-02T22:40:26.633Z"
   },
   {
    "duration": 0,
    "start_time": "2023-07-02T22:40:26.634Z"
   },
   {
    "duration": 0,
    "start_time": "2023-07-02T22:40:26.635Z"
   },
   {
    "duration": 0,
    "start_time": "2023-07-02T22:40:26.636Z"
   },
   {
    "duration": 0,
    "start_time": "2023-07-02T22:40:26.637Z"
   },
   {
    "duration": 0,
    "start_time": "2023-07-02T22:40:26.638Z"
   },
   {
    "duration": 0,
    "start_time": "2023-07-02T22:40:26.638Z"
   },
   {
    "duration": 0,
    "start_time": "2023-07-02T22:40:26.639Z"
   },
   {
    "duration": 0,
    "start_time": "2023-07-02T22:40:26.640Z"
   },
   {
    "duration": 0,
    "start_time": "2023-07-02T22:40:26.641Z"
   },
   {
    "duration": 0,
    "start_time": "2023-07-02T22:40:26.643Z"
   },
   {
    "duration": 0,
    "start_time": "2023-07-02T22:40:26.643Z"
   },
   {
    "duration": 0,
    "start_time": "2023-07-02T22:40:26.644Z"
   },
   {
    "duration": 0,
    "start_time": "2023-07-02T22:40:26.645Z"
   },
   {
    "duration": 0,
    "start_time": "2023-07-02T22:40:26.646Z"
   },
   {
    "duration": 0,
    "start_time": "2023-07-02T22:40:26.647Z"
   },
   {
    "duration": 0,
    "start_time": "2023-07-02T22:40:26.648Z"
   },
   {
    "duration": 0,
    "start_time": "2023-07-02T22:40:26.650Z"
   },
   {
    "duration": 0,
    "start_time": "2023-07-02T22:40:26.651Z"
   },
   {
    "duration": 0,
    "start_time": "2023-07-02T22:40:26.652Z"
   },
   {
    "duration": 0,
    "start_time": "2023-07-02T22:40:26.699Z"
   },
   {
    "duration": 0,
    "start_time": "2023-07-02T22:40:26.700Z"
   },
   {
    "duration": 0,
    "start_time": "2023-07-02T22:40:26.701Z"
   },
   {
    "duration": 0,
    "start_time": "2023-07-02T22:40:26.702Z"
   },
   {
    "duration": 0,
    "start_time": "2023-07-02T22:40:26.703Z"
   },
   {
    "duration": 0,
    "start_time": "2023-07-02T22:40:26.703Z"
   },
   {
    "duration": 0,
    "start_time": "2023-07-02T22:40:26.704Z"
   },
   {
    "duration": 0,
    "start_time": "2023-07-02T22:40:26.706Z"
   },
   {
    "duration": 0,
    "start_time": "2023-07-02T22:40:26.706Z"
   },
   {
    "duration": 0,
    "start_time": "2023-07-02T22:40:26.707Z"
   },
   {
    "duration": 0,
    "start_time": "2023-07-02T22:40:26.708Z"
   },
   {
    "duration": 0,
    "start_time": "2023-07-02T22:40:26.709Z"
   },
   {
    "duration": 0,
    "start_time": "2023-07-02T22:40:26.710Z"
   },
   {
    "duration": 0,
    "start_time": "2023-07-02T22:40:26.711Z"
   },
   {
    "duration": 0,
    "start_time": "2023-07-02T22:40:26.712Z"
   },
   {
    "duration": 0,
    "start_time": "2023-07-02T22:40:26.713Z"
   },
   {
    "duration": 0,
    "start_time": "2023-07-02T22:40:26.714Z"
   },
   {
    "duration": 0,
    "start_time": "2023-07-02T22:40:26.715Z"
   },
   {
    "duration": 0,
    "start_time": "2023-07-02T22:40:26.716Z"
   },
   {
    "duration": 0,
    "start_time": "2023-07-02T22:40:26.717Z"
   },
   {
    "duration": 0,
    "start_time": "2023-07-02T22:40:26.718Z"
   },
   {
    "duration": 0,
    "start_time": "2023-07-02T22:40:26.719Z"
   },
   {
    "duration": 0,
    "start_time": "2023-07-02T22:40:26.720Z"
   },
   {
    "duration": 0,
    "start_time": "2023-07-02T22:40:26.721Z"
   },
   {
    "duration": 0,
    "start_time": "2023-07-02T22:40:26.722Z"
   },
   {
    "duration": 0,
    "start_time": "2023-07-02T22:40:26.723Z"
   },
   {
    "duration": 0,
    "start_time": "2023-07-02T22:40:26.724Z"
   },
   {
    "duration": 0,
    "start_time": "2023-07-02T22:40:26.725Z"
   },
   {
    "duration": 0,
    "start_time": "2023-07-02T22:40:26.726Z"
   },
   {
    "duration": 0,
    "start_time": "2023-07-02T22:40:26.727Z"
   },
   {
    "duration": 0,
    "start_time": "2023-07-02T22:40:26.728Z"
   },
   {
    "duration": 0,
    "start_time": "2023-07-02T22:40:26.729Z"
   },
   {
    "duration": 0,
    "start_time": "2023-07-02T22:40:26.730Z"
   },
   {
    "duration": 0,
    "start_time": "2023-07-02T22:40:26.731Z"
   },
   {
    "duration": 0,
    "start_time": "2023-07-02T22:40:26.732Z"
   },
   {
    "duration": 0,
    "start_time": "2023-07-02T22:40:26.733Z"
   },
   {
    "duration": 0,
    "start_time": "2023-07-02T22:40:26.734Z"
   },
   {
    "duration": 0,
    "start_time": "2023-07-02T22:40:26.735Z"
   },
   {
    "duration": 0,
    "start_time": "2023-07-02T22:40:26.736Z"
   },
   {
    "duration": 0,
    "start_time": "2023-07-02T22:40:26.800Z"
   },
   {
    "duration": 0,
    "start_time": "2023-07-02T22:40:26.800Z"
   },
   {
    "duration": 0,
    "start_time": "2023-07-02T22:40:26.802Z"
   },
   {
    "duration": 0,
    "start_time": "2023-07-02T22:40:26.803Z"
   },
   {
    "duration": 0,
    "start_time": "2023-07-02T22:40:26.803Z"
   },
   {
    "duration": 0,
    "start_time": "2023-07-02T22:40:26.804Z"
   },
   {
    "duration": 0,
    "start_time": "2023-07-02T22:40:26.805Z"
   },
   {
    "duration": 0,
    "start_time": "2023-07-02T22:40:26.806Z"
   },
   {
    "duration": 0,
    "start_time": "2023-07-02T22:40:26.807Z"
   },
   {
    "duration": 0,
    "start_time": "2023-07-02T22:40:26.808Z"
   },
   {
    "duration": 0,
    "start_time": "2023-07-02T22:40:26.809Z"
   },
   {
    "duration": 0,
    "start_time": "2023-07-02T22:40:26.810Z"
   },
   {
    "duration": 0,
    "start_time": "2023-07-02T22:40:26.811Z"
   },
   {
    "duration": 0,
    "start_time": "2023-07-02T22:40:26.812Z"
   },
   {
    "duration": 0,
    "start_time": "2023-07-02T22:40:26.813Z"
   },
   {
    "duration": 0,
    "start_time": "2023-07-02T22:40:26.813Z"
   },
   {
    "duration": 0,
    "start_time": "2023-07-02T22:40:26.814Z"
   },
   {
    "duration": 0,
    "start_time": "2023-07-02T22:40:26.816Z"
   },
   {
    "duration": 0,
    "start_time": "2023-07-02T22:40:26.817Z"
   },
   {
    "duration": 0,
    "start_time": "2023-07-02T22:40:26.818Z"
   },
   {
    "duration": 0,
    "start_time": "2023-07-02T22:40:26.818Z"
   },
   {
    "duration": 0,
    "start_time": "2023-07-02T22:40:26.819Z"
   },
   {
    "duration": 0,
    "start_time": "2023-07-02T22:40:26.820Z"
   },
   {
    "duration": 0,
    "start_time": "2023-07-02T22:40:26.821Z"
   },
   {
    "duration": 0,
    "start_time": "2023-07-02T22:40:26.822Z"
   },
   {
    "duration": 0,
    "start_time": "2023-07-02T22:40:26.823Z"
   },
   {
    "duration": 0,
    "start_time": "2023-07-02T22:40:26.824Z"
   },
   {
    "duration": 0,
    "start_time": "2023-07-02T22:40:26.824Z"
   },
   {
    "duration": 9,
    "start_time": "2023-07-02T22:53:06.964Z"
   },
   {
    "duration": 10,
    "start_time": "2023-07-02T22:53:08.972Z"
   },
   {
    "duration": 404,
    "start_time": "2023-07-02T22:53:40.239Z"
   },
   {
    "duration": 93,
    "start_time": "2023-07-02T22:53:40.645Z"
   },
   {
    "duration": 34,
    "start_time": "2023-07-02T22:53:40.739Z"
   },
   {
    "duration": 30,
    "start_time": "2023-07-02T22:53:40.775Z"
   },
   {
    "duration": 2005,
    "start_time": "2023-07-02T22:53:40.806Z"
   },
   {
    "duration": 6,
    "start_time": "2023-07-02T22:53:42.813Z"
   },
   {
    "duration": 4,
    "start_time": "2023-07-02T22:53:42.821Z"
   },
   {
    "duration": 227,
    "start_time": "2023-07-02T22:53:42.826Z"
   },
   {
    "duration": 9,
    "start_time": "2023-07-02T22:53:43.055Z"
   },
   {
    "duration": 5,
    "start_time": "2023-07-02T22:53:43.068Z"
   },
   {
    "duration": 37,
    "start_time": "2023-07-02T22:53:43.075Z"
   },
   {
    "duration": 10,
    "start_time": "2023-07-02T22:53:43.114Z"
   },
   {
    "duration": 1692,
    "start_time": "2023-07-02T22:53:43.126Z"
   },
   {
    "duration": 1977,
    "start_time": "2023-07-02T22:53:44.820Z"
   },
   {
    "duration": 13,
    "start_time": "2023-07-02T22:53:46.798Z"
   },
   {
    "duration": 14,
    "start_time": "2023-07-02T22:53:46.813Z"
   },
   {
    "duration": 1892,
    "start_time": "2023-07-02T22:53:46.828Z"
   },
   {
    "duration": 1908,
    "start_time": "2023-07-02T22:53:48.722Z"
   },
   {
    "duration": 11,
    "start_time": "2023-07-02T22:53:50.631Z"
   },
   {
    "duration": 3,
    "start_time": "2023-07-02T22:53:50.643Z"
   },
   {
    "duration": 8,
    "start_time": "2023-07-02T22:53:50.648Z"
   },
   {
    "duration": 7,
    "start_time": "2023-07-02T22:53:50.657Z"
   },
   {
    "duration": 9,
    "start_time": "2023-07-02T22:53:50.665Z"
   },
   {
    "duration": 41,
    "start_time": "2023-07-02T22:53:50.676Z"
   },
   {
    "duration": 8,
    "start_time": "2023-07-02T22:53:50.719Z"
   },
   {
    "duration": 7,
    "start_time": "2023-07-02T22:53:50.729Z"
   },
   {
    "duration": 10,
    "start_time": "2023-07-02T22:53:50.738Z"
   },
   {
    "duration": 18,
    "start_time": "2023-07-02T22:53:50.752Z"
   },
   {
    "duration": 13,
    "start_time": "2023-07-02T22:53:50.772Z"
   },
   {
    "duration": 5,
    "start_time": "2023-07-02T22:53:50.806Z"
   },
   {
    "duration": 11,
    "start_time": "2023-07-02T22:53:50.812Z"
   },
   {
    "duration": 9,
    "start_time": "2023-07-02T22:53:50.824Z"
   },
   {
    "duration": 11299,
    "start_time": "2023-07-02T22:53:50.835Z"
   },
   {
    "duration": 38498,
    "start_time": "2023-07-02T22:54:02.136Z"
   },
   {
    "duration": 4,
    "start_time": "2023-07-02T22:54:40.636Z"
   },
   {
    "duration": 18,
    "start_time": "2023-07-02T22:54:40.642Z"
   },
   {
    "duration": 22833,
    "start_time": "2023-07-02T22:54:40.662Z"
   },
   {
    "duration": 27,
    "start_time": "2023-07-02T22:55:03.496Z"
   },
   {
    "duration": 16,
    "start_time": "2023-07-02T22:55:03.524Z"
   },
   {
    "duration": 21,
    "start_time": "2023-07-02T22:55:03.541Z"
   },
   {
    "duration": 28,
    "start_time": "2023-07-02T22:55:03.564Z"
   },
   {
    "duration": 36,
    "start_time": "2023-07-02T22:55:03.593Z"
   },
   {
    "duration": 20,
    "start_time": "2023-07-02T22:55:03.631Z"
   },
   {
    "duration": 12,
    "start_time": "2023-07-02T22:55:03.653Z"
   },
   {
    "duration": 29,
    "start_time": "2023-07-02T22:55:03.666Z"
   },
   {
    "duration": 50,
    "start_time": "2023-07-02T22:55:03.698Z"
   },
   {
    "duration": 10,
    "start_time": "2023-07-02T22:55:03.750Z"
   },
   {
    "duration": 61,
    "start_time": "2023-07-02T22:55:03.762Z"
   },
   {
    "duration": 206,
    "start_time": "2023-07-02T22:55:03.825Z"
   },
   {
    "duration": 9,
    "start_time": "2023-07-02T22:55:04.032Z"
   },
   {
    "duration": 14,
    "start_time": "2023-07-02T22:55:04.043Z"
   },
   {
    "duration": 12,
    "start_time": "2023-07-02T22:55:04.058Z"
   },
   {
    "duration": 345,
    "start_time": "2023-07-02T22:55:04.071Z"
   },
   {
    "duration": 7,
    "start_time": "2023-07-02T22:55:04.418Z"
   },
   {
    "duration": 23,
    "start_time": "2023-07-02T22:55:04.426Z"
   },
   {
    "duration": 218,
    "start_time": "2023-07-02T22:55:04.451Z"
   },
   {
    "duration": 199,
    "start_time": "2023-07-02T22:55:04.671Z"
   },
   {
    "duration": 11,
    "start_time": "2023-07-02T22:55:04.871Z"
   },
   {
    "duration": 288,
    "start_time": "2023-07-02T22:55:04.883Z"
   },
   {
    "duration": 249,
    "start_time": "2023-07-02T22:55:05.173Z"
   },
   {
    "duration": 13,
    "start_time": "2023-07-02T22:55:05.424Z"
   },
   {
    "duration": 429,
    "start_time": "2023-07-02T22:55:05.439Z"
   },
   {
    "duration": 16,
    "start_time": "2023-07-02T22:55:05.870Z"
   },
   {
    "duration": 12,
    "start_time": "2023-07-02T22:55:05.888Z"
   },
   {
    "duration": 31,
    "start_time": "2023-07-02T22:55:05.902Z"
   },
   {
    "duration": 20,
    "start_time": "2023-07-02T22:55:05.934Z"
   },
   {
    "duration": 3706,
    "start_time": "2023-07-02T22:55:05.956Z"
   },
   {
    "duration": 7,
    "start_time": "2023-07-02T22:55:09.664Z"
   },
   {
    "duration": 16,
    "start_time": "2023-07-02T22:55:09.672Z"
   },
   {
    "duration": 9,
    "start_time": "2023-07-02T22:55:09.699Z"
   },
   {
    "duration": 18,
    "start_time": "2023-07-02T22:55:09.710Z"
   },
   {
    "duration": 50,
    "start_time": "2023-07-02T22:55:09.730Z"
   },
   {
    "duration": 241,
    "start_time": "2023-07-02T22:55:09.781Z"
   },
   {
    "duration": 7,
    "start_time": "2023-07-02T22:55:10.024Z"
   },
   {
    "duration": 289,
    "start_time": "2023-07-02T22:55:10.032Z"
   },
   {
    "duration": 460,
    "start_time": "2023-07-02T22:55:10.322Z"
   },
   {
    "duration": 127,
    "start_time": "2023-07-02T22:55:10.783Z"
   },
   {
    "duration": 137,
    "start_time": "2023-07-02T22:55:10.911Z"
   },
   {
    "duration": 19,
    "start_time": "2023-07-02T22:55:11.050Z"
   },
   {
    "duration": 4,
    "start_time": "2023-07-02T22:55:11.070Z"
   },
   {
    "duration": 96,
    "start_time": "2023-07-02T22:55:11.075Z"
   },
   {
    "duration": 5,
    "start_time": "2023-07-02T22:55:11.178Z"
   },
   {
    "duration": 7,
    "start_time": "2023-07-02T22:55:11.185Z"
   },
   {
    "duration": 9708,
    "start_time": "2023-07-02T22:55:11.208Z"
   },
   {
    "duration": 9,
    "start_time": "2023-07-02T22:55:20.917Z"
   },
   {
    "duration": 39,
    "start_time": "2023-07-02T22:55:20.927Z"
   },
   {
    "duration": 209,
    "start_time": "2023-07-02T22:55:20.968Z"
   },
   {
    "duration": 233,
    "start_time": "2023-07-02T22:55:21.179Z"
   },
   {
    "duration": 224,
    "start_time": "2023-07-02T22:55:21.414Z"
   },
   {
    "duration": 214,
    "start_time": "2023-07-02T22:55:21.640Z"
   },
   {
    "duration": 220,
    "start_time": "2023-07-02T22:55:21.856Z"
   },
   {
    "duration": 166,
    "start_time": "2023-07-02T22:55:22.078Z"
   },
   {
    "duration": 181,
    "start_time": "2023-07-02T22:55:22.246Z"
   },
   {
    "duration": 233,
    "start_time": "2023-07-02T22:55:22.428Z"
   },
   {
    "duration": 371,
    "start_time": "2023-07-02T22:55:22.663Z"
   },
   {
    "duration": 131,
    "start_time": "2023-07-02T22:55:23.035Z"
   },
   {
    "duration": 144,
    "start_time": "2023-07-02T22:55:23.168Z"
   },
   {
    "duration": 218,
    "start_time": "2023-07-02T22:55:23.313Z"
   },
   {
    "duration": 148,
    "start_time": "2023-07-02T22:55:23.532Z"
   },
   {
    "duration": 155,
    "start_time": "2023-07-02T22:55:23.681Z"
   },
   {
    "duration": 178,
    "start_time": "2023-07-02T22:55:23.837Z"
   },
   {
    "duration": 7,
    "start_time": "2023-07-02T22:55:24.017Z"
   },
   {
    "duration": 34,
    "start_time": "2023-07-02T22:55:24.026Z"
   },
   {
    "duration": 123,
    "start_time": "2023-07-02T22:55:24.062Z"
   },
   {
    "duration": 27,
    "start_time": "2023-07-02T22:55:24.187Z"
   },
   {
    "duration": 7,
    "start_time": "2023-07-02T22:55:24.216Z"
   },
   {
    "duration": 7,
    "start_time": "2023-07-02T22:55:24.225Z"
   },
   {
    "duration": 7,
    "start_time": "2023-07-02T22:55:24.234Z"
   },
   {
    "duration": 533,
    "start_time": "2023-07-02T22:55:24.243Z"
   },
   {
    "duration": 9,
    "start_time": "2023-07-02T22:55:24.777Z"
   },
   {
    "duration": 19,
    "start_time": "2023-07-02T22:55:24.787Z"
   },
   {
    "duration": 11,
    "start_time": "2023-07-02T22:55:24.810Z"
   },
   {
    "duration": 7,
    "start_time": "2023-07-02T22:55:24.823Z"
   },
   {
    "duration": 81,
    "start_time": "2023-07-02T22:55:24.832Z"
   },
   {
    "duration": 9,
    "start_time": "2023-07-02T22:55:24.916Z"
   },
   {
    "duration": 6,
    "start_time": "2023-07-02T23:01:32.216Z"
   },
   {
    "duration": 4,
    "start_time": "2023-07-02T23:06:48.723Z"
   },
   {
    "duration": 238,
    "start_time": "2023-07-02T23:07:50.685Z"
   },
   {
    "duration": 411,
    "start_time": "2023-07-02T23:19:09.814Z"
   },
   {
    "duration": 92,
    "start_time": "2023-07-02T23:19:10.227Z"
   },
   {
    "duration": 29,
    "start_time": "2023-07-02T23:19:10.321Z"
   },
   {
    "duration": 12,
    "start_time": "2023-07-02T23:19:10.352Z"
   },
   {
    "duration": 2028,
    "start_time": "2023-07-02T23:19:10.366Z"
   },
   {
    "duration": 17,
    "start_time": "2023-07-02T23:19:12.396Z"
   },
   {
    "duration": 10,
    "start_time": "2023-07-02T23:19:12.422Z"
   },
   {
    "duration": 228,
    "start_time": "2023-07-02T23:19:12.433Z"
   },
   {
    "duration": 7,
    "start_time": "2023-07-02T23:19:12.663Z"
   },
   {
    "duration": 4,
    "start_time": "2023-07-02T23:19:12.672Z"
   },
   {
    "duration": 6,
    "start_time": "2023-07-02T23:19:12.677Z"
   },
   {
    "duration": 36,
    "start_time": "2023-07-02T23:19:12.684Z"
   },
   {
    "duration": 1569,
    "start_time": "2023-07-02T23:19:12.722Z"
   },
   {
    "duration": 1546,
    "start_time": "2023-07-02T23:19:14.305Z"
   },
   {
    "duration": 8,
    "start_time": "2023-07-02T23:19:15.853Z"
   },
   {
    "duration": 3,
    "start_time": "2023-07-02T23:19:15.862Z"
   },
   {
    "duration": 1925,
    "start_time": "2023-07-02T23:19:15.867Z"
   },
   {
    "duration": 1927,
    "start_time": "2023-07-02T23:19:17.793Z"
   },
   {
    "duration": 11,
    "start_time": "2023-07-02T23:19:19.721Z"
   },
   {
    "duration": 3,
    "start_time": "2023-07-02T23:19:19.734Z"
   },
   {
    "duration": 9,
    "start_time": "2023-07-02T23:19:19.738Z"
   },
   {
    "duration": 12,
    "start_time": "2023-07-02T23:19:19.748Z"
   },
   {
    "duration": 8,
    "start_time": "2023-07-02T23:19:19.761Z"
   },
   {
    "duration": 8,
    "start_time": "2023-07-02T23:19:19.771Z"
   },
   {
    "duration": 7,
    "start_time": "2023-07-02T23:19:19.780Z"
   },
   {
    "duration": 28,
    "start_time": "2023-07-02T23:19:19.789Z"
   },
   {
    "duration": 26,
    "start_time": "2023-07-02T23:19:19.819Z"
   },
   {
    "duration": 11,
    "start_time": "2023-07-02T23:19:19.846Z"
   },
   {
    "duration": 15,
    "start_time": "2023-07-02T23:19:19.859Z"
   },
   {
    "duration": 4,
    "start_time": "2023-07-02T23:19:19.875Z"
   },
   {
    "duration": 8,
    "start_time": "2023-07-02T23:19:19.880Z"
   },
   {
    "duration": 8,
    "start_time": "2023-07-02T23:19:19.890Z"
   },
   {
    "duration": 9535,
    "start_time": "2023-07-02T23:19:19.901Z"
   },
   {
    "duration": 34396,
    "start_time": "2023-07-02T23:19:29.437Z"
   },
   {
    "duration": 4,
    "start_time": "2023-07-02T23:20:03.834Z"
   },
   {
    "duration": 5,
    "start_time": "2023-07-02T23:20:03.839Z"
   },
   {
    "duration": 20440,
    "start_time": "2023-07-02T23:20:03.845Z"
   },
   {
    "duration": 23,
    "start_time": "2023-07-02T23:20:24.287Z"
   },
   {
    "duration": 7,
    "start_time": "2023-07-02T23:20:24.312Z"
   },
   {
    "duration": 7,
    "start_time": "2023-07-02T23:20:24.320Z"
   },
   {
    "duration": 4,
    "start_time": "2023-07-02T23:20:24.332Z"
   },
   {
    "duration": 26,
    "start_time": "2023-07-02T23:20:24.338Z"
   },
   {
    "duration": 6,
    "start_time": "2023-07-02T23:20:24.365Z"
   },
   {
    "duration": 6,
    "start_time": "2023-07-02T23:20:24.373Z"
   },
   {
    "duration": 3,
    "start_time": "2023-07-02T23:20:24.381Z"
   },
   {
    "duration": 38,
    "start_time": "2023-07-02T23:20:24.399Z"
   },
   {
    "duration": 9,
    "start_time": "2023-07-02T23:20:24.438Z"
   },
   {
    "duration": 6,
    "start_time": "2023-07-02T23:20:24.448Z"
   },
   {
    "duration": 64,
    "start_time": "2023-07-02T23:20:24.455Z"
   },
   {
    "duration": 199,
    "start_time": "2023-07-02T23:20:24.520Z"
   },
   {
    "duration": 7,
    "start_time": "2023-07-02T23:20:24.721Z"
   },
   {
    "duration": 10,
    "start_time": "2023-07-02T23:20:24.730Z"
   },
   {
    "duration": 10,
    "start_time": "2023-07-02T23:20:24.742Z"
   },
   {
    "duration": 311,
    "start_time": "2023-07-02T23:20:24.754Z"
   },
   {
    "duration": 5,
    "start_time": "2023-07-02T23:20:25.067Z"
   },
   {
    "duration": 24,
    "start_time": "2023-07-02T23:20:25.073Z"
   },
   {
    "duration": 203,
    "start_time": "2023-07-02T23:20:25.110Z"
   },
   {
    "duration": 218,
    "start_time": "2023-07-02T23:20:25.315Z"
   },
   {
    "duration": 10,
    "start_time": "2023-07-02T23:20:25.534Z"
   },
   {
    "duration": 266,
    "start_time": "2023-07-02T23:20:25.545Z"
   },
   {
    "duration": 226,
    "start_time": "2023-07-02T23:20:25.813Z"
   },
   {
    "duration": 14,
    "start_time": "2023-07-02T23:20:26.040Z"
   },
   {
    "duration": 440,
    "start_time": "2023-07-02T23:20:26.056Z"
   },
   {
    "duration": 16,
    "start_time": "2023-07-02T23:20:26.499Z"
   },
   {
    "duration": 8,
    "start_time": "2023-07-02T23:20:26.517Z"
   },
   {
    "duration": 7,
    "start_time": "2023-07-02T23:20:26.526Z"
   },
   {
    "duration": 6,
    "start_time": "2023-07-02T23:20:26.534Z"
   },
   {
    "duration": 12,
    "start_time": "2023-07-02T23:20:26.542Z"
   },
   {
    "duration": 3321,
    "start_time": "2023-07-02T23:20:26.556Z"
   },
   {
    "duration": 6,
    "start_time": "2023-07-02T23:20:29.878Z"
   },
   {
    "duration": 26,
    "start_time": "2023-07-02T23:20:29.885Z"
   },
   {
    "duration": 4,
    "start_time": "2023-07-02T23:20:29.912Z"
   },
   {
    "duration": 15,
    "start_time": "2023-07-02T23:20:29.917Z"
   },
   {
    "duration": 52,
    "start_time": "2023-07-02T23:20:29.933Z"
   },
   {
    "duration": 1266,
    "start_time": "2023-07-02T23:20:30.010Z"
   },
   {
    "duration": 8,
    "start_time": "2023-07-02T23:20:31.277Z"
   },
   {
    "duration": 283,
    "start_time": "2023-07-02T23:20:31.286Z"
   },
   {
    "duration": 417,
    "start_time": "2023-07-02T23:20:31.571Z"
   },
   {
    "duration": 134,
    "start_time": "2023-07-02T23:20:31.989Z"
   },
   {
    "duration": 125,
    "start_time": "2023-07-02T23:20:32.125Z"
   },
   {
    "duration": 14,
    "start_time": "2023-07-02T23:20:32.251Z"
   },
   {
    "duration": 11,
    "start_time": "2023-07-02T23:20:32.267Z"
   },
   {
    "duration": 83,
    "start_time": "2023-07-02T23:20:32.279Z"
   },
   {
    "duration": 3,
    "start_time": "2023-07-02T23:20:32.364Z"
   },
   {
    "duration": 11,
    "start_time": "2023-07-02T23:20:32.369Z"
   },
   {
    "duration": 8903,
    "start_time": "2023-07-02T23:20:32.381Z"
   },
   {
    "duration": 233,
    "start_time": "2023-07-02T23:20:41.285Z"
   },
   {
    "duration": 8,
    "start_time": "2023-07-02T23:20:41.520Z"
   },
   {
    "duration": 38,
    "start_time": "2023-07-02T23:20:41.529Z"
   },
   {
    "duration": 191,
    "start_time": "2023-07-02T23:20:41.569Z"
   },
   {
    "duration": 206,
    "start_time": "2023-07-02T23:20:41.761Z"
   },
   {
    "duration": 213,
    "start_time": "2023-07-02T23:20:41.969Z"
   },
   {
    "duration": 208,
    "start_time": "2023-07-02T23:20:42.183Z"
   },
   {
    "duration": 203,
    "start_time": "2023-07-02T23:20:42.393Z"
   },
   {
    "duration": 138,
    "start_time": "2023-07-02T23:20:42.599Z"
   },
   {
    "duration": 155,
    "start_time": "2023-07-02T23:20:42.738Z"
   },
   {
    "duration": 404,
    "start_time": "2023-07-02T23:20:42.905Z"
   },
   {
    "duration": 128,
    "start_time": "2023-07-02T23:20:43.311Z"
   },
   {
    "duration": 132,
    "start_time": "2023-07-02T23:20:43.440Z"
   },
   {
    "duration": 140,
    "start_time": "2023-07-02T23:20:43.574Z"
   },
   {
    "duration": 210,
    "start_time": "2023-07-02T23:20:43.718Z"
   },
   {
    "duration": 150,
    "start_time": "2023-07-02T23:20:43.929Z"
   },
   {
    "duration": 138,
    "start_time": "2023-07-02T23:20:44.081Z"
   },
   {
    "duration": 155,
    "start_time": "2023-07-02T23:20:44.221Z"
   },
   {
    "duration": 7,
    "start_time": "2023-07-02T23:20:44.377Z"
   },
   {
    "duration": 44,
    "start_time": "2023-07-02T23:20:44.385Z"
   },
   {
    "duration": 116,
    "start_time": "2023-07-02T23:20:44.431Z"
   },
   {
    "duration": 16,
    "start_time": "2023-07-02T23:20:44.548Z"
   },
   {
    "duration": 6,
    "start_time": "2023-07-02T23:20:44.565Z"
   },
   {
    "duration": 7,
    "start_time": "2023-07-02T23:20:44.572Z"
   },
   {
    "duration": 31,
    "start_time": "2023-07-02T23:20:44.580Z"
   },
   {
    "duration": 507,
    "start_time": "2023-07-02T23:20:44.612Z"
   },
   {
    "duration": 8,
    "start_time": "2023-07-02T23:20:45.120Z"
   },
   {
    "duration": 15,
    "start_time": "2023-07-02T23:20:45.129Z"
   },
   {
    "duration": 36,
    "start_time": "2023-07-02T23:20:45.145Z"
   },
   {
    "duration": 8,
    "start_time": "2023-07-02T23:20:45.182Z"
   },
   {
    "duration": 88,
    "start_time": "2023-07-02T23:20:45.192Z"
   },
   {
    "duration": 8,
    "start_time": "2023-07-02T23:20:45.281Z"
   }
  ],
  "kernelspec": {
   "display_name": "Python 3 (ipykernel)",
   "language": "python",
   "name": "python3"
  },
  "language_info": {
   "codemirror_mode": {
    "name": "ipython",
    "version": 3
   },
   "file_extension": ".py",
   "mimetype": "text/x-python",
   "name": "python",
   "nbconvert_exporter": "python",
   "pygments_lexer": "ipython3",
   "version": "3.9.12"
  },
  "toc": {
   "base_numbering": 1,
   "nav_menu": {},
   "number_sections": true,
   "sideBar": true,
   "skip_h1_title": true,
   "title_cell": "Table of Contents",
   "title_sidebar": "Contents",
   "toc_cell": false,
   "toc_position": {},
   "toc_section_display": true,
   "toc_window_display": true
  }
 },
 "nbformat": 4,
 "nbformat_minor": 5
}
