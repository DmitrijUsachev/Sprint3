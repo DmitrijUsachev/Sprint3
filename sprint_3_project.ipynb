{
 "cells": [
  {
   "cell_type": "markdown",
   "id": "14b5dbf3",
   "metadata": {},
   "source": [
    "# Спринт 3. Исследовательский анализ данных"
   ]
  },
  {
   "cell_type": "markdown",
   "id": "a732126e",
   "metadata": {},
   "source": [
    "## Постановка задачи:"
   ]
  },
  {
   "cell_type": "markdown",
   "id": "77c68883",
   "metadata": {},
   "source": [
    "1. Изучить, как быстро продавались квартиры\n",
    "2. Определить какие факторы больше всего влияют на общую (полную) стоимость объекта?\n",
    "3. Посчитать среднюю цену одного квадратного метра в 10 населённых пунктах с наибольшим числом объявлений. Выделить населённые пункты с самой высокой и низкой стоимостью квадратного метра. \n",
    "4. Найти закономерность между стоимостью объектов зависит от расстояния до центра города."
   ]
  },
  {
   "cell_type": "markdown",
   "id": "2e9e910e",
   "metadata": {},
   "source": [
    "## Шаг 1. Загружаем dataframe"
   ]
  },
  {
   "cell_type": "markdown",
   "id": "c40df00a",
   "metadata": {},
   "source": [
    "##### Импортируем датасет с помощью pandas"
   ]
  },
  {
   "cell_type": "code",
   "execution_count": 1,
   "id": "26b1c354",
   "metadata": {},
   "outputs": [],
   "source": [
    "import pandas as pd #Подключаем pandas\n",
    "import math as mt"
   ]
  },
  {
   "cell_type": "code",
   "execution_count": 2,
   "id": "0134f369",
   "metadata": {},
   "outputs": [],
   "source": [
    "data = pd.read_csv('datasets/real_estate_data.csv', sep = '\\t') #Создаем датафрейм из csv"
   ]
  },
  {
   "cell_type": "markdown",
   "id": "ccfa3fe1",
   "metadata": {},
   "source": [
    "##### Изучаем общую информацию о полученном файле**"
   ]
  },
  {
   "cell_type": "code",
   "execution_count": 3,
   "id": "96b30d33",
   "metadata": {},
   "outputs": [
    {
     "data": {
      "text/html": [
       "<div>\n",
       "<style scoped>\n",
       "    .dataframe tbody tr th:only-of-type {\n",
       "        vertical-align: middle;\n",
       "    }\n",
       "\n",
       "    .dataframe tbody tr th {\n",
       "        vertical-align: top;\n",
       "    }\n",
       "\n",
       "    .dataframe thead th {\n",
       "        text-align: right;\n",
       "    }\n",
       "</style>\n",
       "<table border=\"1\" class=\"dataframe\">\n",
       "  <thead>\n",
       "    <tr style=\"text-align: right;\">\n",
       "      <th></th>\n",
       "      <th>total_images</th>\n",
       "      <th>last_price</th>\n",
       "      <th>total_area</th>\n",
       "      <th>first_day_exposition</th>\n",
       "      <th>rooms</th>\n",
       "      <th>ceiling_height</th>\n",
       "      <th>floors_total</th>\n",
       "      <th>living_area</th>\n",
       "      <th>floor</th>\n",
       "      <th>is_apartment</th>\n",
       "      <th>...</th>\n",
       "      <th>kitchen_area</th>\n",
       "      <th>balcony</th>\n",
       "      <th>locality_name</th>\n",
       "      <th>airports_nearest</th>\n",
       "      <th>cityCenters_nearest</th>\n",
       "      <th>parks_around3000</th>\n",
       "      <th>parks_nearest</th>\n",
       "      <th>ponds_around3000</th>\n",
       "      <th>ponds_nearest</th>\n",
       "      <th>days_exposition</th>\n",
       "    </tr>\n",
       "  </thead>\n",
       "  <tbody>\n",
       "    <tr>\n",
       "      <th>0</th>\n",
       "      <td>20</td>\n",
       "      <td>13000000.0</td>\n",
       "      <td>108.00</td>\n",
       "      <td>2019-03-07T00:00:00</td>\n",
       "      <td>3</td>\n",
       "      <td>2.70</td>\n",
       "      <td>16.0</td>\n",
       "      <td>51.00</td>\n",
       "      <td>8</td>\n",
       "      <td>NaN</td>\n",
       "      <td>...</td>\n",
       "      <td>25.00</td>\n",
       "      <td>NaN</td>\n",
       "      <td>Санкт-Петербург</td>\n",
       "      <td>18863.0</td>\n",
       "      <td>16028.0</td>\n",
       "      <td>1.0</td>\n",
       "      <td>482.0</td>\n",
       "      <td>2.0</td>\n",
       "      <td>755.0</td>\n",
       "      <td>NaN</td>\n",
       "    </tr>\n",
       "    <tr>\n",
       "      <th>1</th>\n",
       "      <td>7</td>\n",
       "      <td>3350000.0</td>\n",
       "      <td>40.40</td>\n",
       "      <td>2018-12-04T00:00:00</td>\n",
       "      <td>1</td>\n",
       "      <td>NaN</td>\n",
       "      <td>11.0</td>\n",
       "      <td>18.60</td>\n",
       "      <td>1</td>\n",
       "      <td>NaN</td>\n",
       "      <td>...</td>\n",
       "      <td>11.00</td>\n",
       "      <td>2.0</td>\n",
       "      <td>посёлок Шушары</td>\n",
       "      <td>12817.0</td>\n",
       "      <td>18603.0</td>\n",
       "      <td>0.0</td>\n",
       "      <td>NaN</td>\n",
       "      <td>0.0</td>\n",
       "      <td>NaN</td>\n",
       "      <td>81.0</td>\n",
       "    </tr>\n",
       "    <tr>\n",
       "      <th>2</th>\n",
       "      <td>10</td>\n",
       "      <td>5196000.0</td>\n",
       "      <td>56.00</td>\n",
       "      <td>2015-08-20T00:00:00</td>\n",
       "      <td>2</td>\n",
       "      <td>NaN</td>\n",
       "      <td>5.0</td>\n",
       "      <td>34.30</td>\n",
       "      <td>4</td>\n",
       "      <td>NaN</td>\n",
       "      <td>...</td>\n",
       "      <td>8.30</td>\n",
       "      <td>0.0</td>\n",
       "      <td>Санкт-Петербург</td>\n",
       "      <td>21741.0</td>\n",
       "      <td>13933.0</td>\n",
       "      <td>1.0</td>\n",
       "      <td>90.0</td>\n",
       "      <td>2.0</td>\n",
       "      <td>574.0</td>\n",
       "      <td>558.0</td>\n",
       "    </tr>\n",
       "    <tr>\n",
       "      <th>3</th>\n",
       "      <td>0</td>\n",
       "      <td>64900000.0</td>\n",
       "      <td>159.00</td>\n",
       "      <td>2015-07-24T00:00:00</td>\n",
       "      <td>3</td>\n",
       "      <td>NaN</td>\n",
       "      <td>14.0</td>\n",
       "      <td>NaN</td>\n",
       "      <td>9</td>\n",
       "      <td>NaN</td>\n",
       "      <td>...</td>\n",
       "      <td>NaN</td>\n",
       "      <td>0.0</td>\n",
       "      <td>Санкт-Петербург</td>\n",
       "      <td>28098.0</td>\n",
       "      <td>6800.0</td>\n",
       "      <td>2.0</td>\n",
       "      <td>84.0</td>\n",
       "      <td>3.0</td>\n",
       "      <td>234.0</td>\n",
       "      <td>424.0</td>\n",
       "    </tr>\n",
       "    <tr>\n",
       "      <th>4</th>\n",
       "      <td>2</td>\n",
       "      <td>10000000.0</td>\n",
       "      <td>100.00</td>\n",
       "      <td>2018-06-19T00:00:00</td>\n",
       "      <td>2</td>\n",
       "      <td>3.03</td>\n",
       "      <td>14.0</td>\n",
       "      <td>32.00</td>\n",
       "      <td>13</td>\n",
       "      <td>NaN</td>\n",
       "      <td>...</td>\n",
       "      <td>41.00</td>\n",
       "      <td>NaN</td>\n",
       "      <td>Санкт-Петербург</td>\n",
       "      <td>31856.0</td>\n",
       "      <td>8098.0</td>\n",
       "      <td>2.0</td>\n",
       "      <td>112.0</td>\n",
       "      <td>1.0</td>\n",
       "      <td>48.0</td>\n",
       "      <td>121.0</td>\n",
       "    </tr>\n",
       "    <tr>\n",
       "      <th>5</th>\n",
       "      <td>10</td>\n",
       "      <td>2890000.0</td>\n",
       "      <td>30.40</td>\n",
       "      <td>2018-09-10T00:00:00</td>\n",
       "      <td>1</td>\n",
       "      <td>NaN</td>\n",
       "      <td>12.0</td>\n",
       "      <td>14.40</td>\n",
       "      <td>5</td>\n",
       "      <td>NaN</td>\n",
       "      <td>...</td>\n",
       "      <td>9.10</td>\n",
       "      <td>NaN</td>\n",
       "      <td>городской посёлок Янино-1</td>\n",
       "      <td>NaN</td>\n",
       "      <td>NaN</td>\n",
       "      <td>NaN</td>\n",
       "      <td>NaN</td>\n",
       "      <td>NaN</td>\n",
       "      <td>NaN</td>\n",
       "      <td>55.0</td>\n",
       "    </tr>\n",
       "    <tr>\n",
       "      <th>6</th>\n",
       "      <td>6</td>\n",
       "      <td>3700000.0</td>\n",
       "      <td>37.30</td>\n",
       "      <td>2017-11-02T00:00:00</td>\n",
       "      <td>1</td>\n",
       "      <td>NaN</td>\n",
       "      <td>26.0</td>\n",
       "      <td>10.60</td>\n",
       "      <td>6</td>\n",
       "      <td>NaN</td>\n",
       "      <td>...</td>\n",
       "      <td>14.40</td>\n",
       "      <td>1.0</td>\n",
       "      <td>посёлок Парголово</td>\n",
       "      <td>52996.0</td>\n",
       "      <td>19143.0</td>\n",
       "      <td>0.0</td>\n",
       "      <td>NaN</td>\n",
       "      <td>0.0</td>\n",
       "      <td>NaN</td>\n",
       "      <td>155.0</td>\n",
       "    </tr>\n",
       "    <tr>\n",
       "      <th>7</th>\n",
       "      <td>5</td>\n",
       "      <td>7915000.0</td>\n",
       "      <td>71.60</td>\n",
       "      <td>2019-04-18T00:00:00</td>\n",
       "      <td>2</td>\n",
       "      <td>NaN</td>\n",
       "      <td>24.0</td>\n",
       "      <td>NaN</td>\n",
       "      <td>22</td>\n",
       "      <td>NaN</td>\n",
       "      <td>...</td>\n",
       "      <td>18.90</td>\n",
       "      <td>2.0</td>\n",
       "      <td>Санкт-Петербург</td>\n",
       "      <td>23982.0</td>\n",
       "      <td>11634.0</td>\n",
       "      <td>0.0</td>\n",
       "      <td>NaN</td>\n",
       "      <td>0.0</td>\n",
       "      <td>NaN</td>\n",
       "      <td>NaN</td>\n",
       "    </tr>\n",
       "    <tr>\n",
       "      <th>8</th>\n",
       "      <td>20</td>\n",
       "      <td>2900000.0</td>\n",
       "      <td>33.16</td>\n",
       "      <td>2018-05-23T00:00:00</td>\n",
       "      <td>1</td>\n",
       "      <td>NaN</td>\n",
       "      <td>27.0</td>\n",
       "      <td>15.43</td>\n",
       "      <td>26</td>\n",
       "      <td>NaN</td>\n",
       "      <td>...</td>\n",
       "      <td>8.81</td>\n",
       "      <td>NaN</td>\n",
       "      <td>посёлок Мурино</td>\n",
       "      <td>NaN</td>\n",
       "      <td>NaN</td>\n",
       "      <td>NaN</td>\n",
       "      <td>NaN</td>\n",
       "      <td>NaN</td>\n",
       "      <td>NaN</td>\n",
       "      <td>189.0</td>\n",
       "    </tr>\n",
       "    <tr>\n",
       "      <th>9</th>\n",
       "      <td>18</td>\n",
       "      <td>5400000.0</td>\n",
       "      <td>61.00</td>\n",
       "      <td>2017-02-26T00:00:00</td>\n",
       "      <td>3</td>\n",
       "      <td>2.50</td>\n",
       "      <td>9.0</td>\n",
       "      <td>43.60</td>\n",
       "      <td>7</td>\n",
       "      <td>NaN</td>\n",
       "      <td>...</td>\n",
       "      <td>6.50</td>\n",
       "      <td>2.0</td>\n",
       "      <td>Санкт-Петербург</td>\n",
       "      <td>50898.0</td>\n",
       "      <td>15008.0</td>\n",
       "      <td>0.0</td>\n",
       "      <td>NaN</td>\n",
       "      <td>0.0</td>\n",
       "      <td>NaN</td>\n",
       "      <td>289.0</td>\n",
       "    </tr>\n",
       "  </tbody>\n",
       "</table>\n",
       "<p>10 rows × 22 columns</p>\n",
       "</div>"
      ],
      "text/plain": [
       "   total_images  last_price  total_area first_day_exposition  rooms  \\\n",
       "0            20  13000000.0      108.00  2019-03-07T00:00:00      3   \n",
       "1             7   3350000.0       40.40  2018-12-04T00:00:00      1   \n",
       "2            10   5196000.0       56.00  2015-08-20T00:00:00      2   \n",
       "3             0  64900000.0      159.00  2015-07-24T00:00:00      3   \n",
       "4             2  10000000.0      100.00  2018-06-19T00:00:00      2   \n",
       "5            10   2890000.0       30.40  2018-09-10T00:00:00      1   \n",
       "6             6   3700000.0       37.30  2017-11-02T00:00:00      1   \n",
       "7             5   7915000.0       71.60  2019-04-18T00:00:00      2   \n",
       "8            20   2900000.0       33.16  2018-05-23T00:00:00      1   \n",
       "9            18   5400000.0       61.00  2017-02-26T00:00:00      3   \n",
       "\n",
       "   ceiling_height  floors_total  living_area  floor is_apartment  ...  \\\n",
       "0            2.70          16.0        51.00      8          NaN  ...   \n",
       "1             NaN          11.0        18.60      1          NaN  ...   \n",
       "2             NaN           5.0        34.30      4          NaN  ...   \n",
       "3             NaN          14.0          NaN      9          NaN  ...   \n",
       "4            3.03          14.0        32.00     13          NaN  ...   \n",
       "5             NaN          12.0        14.40      5          NaN  ...   \n",
       "6             NaN          26.0        10.60      6          NaN  ...   \n",
       "7             NaN          24.0          NaN     22          NaN  ...   \n",
       "8             NaN          27.0        15.43     26          NaN  ...   \n",
       "9            2.50           9.0        43.60      7          NaN  ...   \n",
       "\n",
       "   kitchen_area  balcony              locality_name  airports_nearest  \\\n",
       "0         25.00      NaN            Санкт-Петербург           18863.0   \n",
       "1         11.00      2.0             посёлок Шушары           12817.0   \n",
       "2          8.30      0.0            Санкт-Петербург           21741.0   \n",
       "3           NaN      0.0            Санкт-Петербург           28098.0   \n",
       "4         41.00      NaN            Санкт-Петербург           31856.0   \n",
       "5          9.10      NaN  городской посёлок Янино-1               NaN   \n",
       "6         14.40      1.0          посёлок Парголово           52996.0   \n",
       "7         18.90      2.0            Санкт-Петербург           23982.0   \n",
       "8          8.81      NaN             посёлок Мурино               NaN   \n",
       "9          6.50      2.0            Санкт-Петербург           50898.0   \n",
       "\n",
       "  cityCenters_nearest  parks_around3000  parks_nearest  ponds_around3000  \\\n",
       "0             16028.0               1.0          482.0               2.0   \n",
       "1             18603.0               0.0            NaN               0.0   \n",
       "2             13933.0               1.0           90.0               2.0   \n",
       "3              6800.0               2.0           84.0               3.0   \n",
       "4              8098.0               2.0          112.0               1.0   \n",
       "5                 NaN               NaN            NaN               NaN   \n",
       "6             19143.0               0.0            NaN               0.0   \n",
       "7             11634.0               0.0            NaN               0.0   \n",
       "8                 NaN               NaN            NaN               NaN   \n",
       "9             15008.0               0.0            NaN               0.0   \n",
       "\n",
       "   ponds_nearest  days_exposition  \n",
       "0          755.0              NaN  \n",
       "1            NaN             81.0  \n",
       "2          574.0            558.0  \n",
       "3          234.0            424.0  \n",
       "4           48.0            121.0  \n",
       "5            NaN             55.0  \n",
       "6            NaN            155.0  \n",
       "7            NaN              NaN  \n",
       "8            NaN            189.0  \n",
       "9            NaN            289.0  \n",
       "\n",
       "[10 rows x 22 columns]"
      ]
     },
     "execution_count": 3,
     "metadata": {},
     "output_type": "execute_result"
    }
   ],
   "source": [
    "data.head(10)"
   ]
  },
  {
   "cell_type": "code",
   "execution_count": 4,
   "id": "67631e62",
   "metadata": {
    "scrolled": true
   },
   "outputs": [
    {
     "name": "stdout",
     "output_type": "stream",
     "text": [
      "<class 'pandas.core.frame.DataFrame'>\n",
      "RangeIndex: 23699 entries, 0 to 23698\n",
      "Data columns (total 22 columns):\n",
      " #   Column                Non-Null Count  Dtype  \n",
      "---  ------                --------------  -----  \n",
      " 0   total_images          23699 non-null  int64  \n",
      " 1   last_price            23699 non-null  float64\n",
      " 2   total_area            23699 non-null  float64\n",
      " 3   first_day_exposition  23699 non-null  object \n",
      " 4   rooms                 23699 non-null  int64  \n",
      " 5   ceiling_height        14504 non-null  float64\n",
      " 6   floors_total          23613 non-null  float64\n",
      " 7   living_area           21796 non-null  float64\n",
      " 8   floor                 23699 non-null  int64  \n",
      " 9   is_apartment          2775 non-null   object \n",
      " 10  studio                23699 non-null  bool   \n",
      " 11  open_plan             23699 non-null  bool   \n",
      " 12  kitchen_area          21421 non-null  float64\n",
      " 13  balcony               12180 non-null  float64\n",
      " 14  locality_name         23650 non-null  object \n",
      " 15  airports_nearest      18157 non-null  float64\n",
      " 16  cityCenters_nearest   18180 non-null  float64\n",
      " 17  parks_around3000      18181 non-null  float64\n",
      " 18  parks_nearest         8079 non-null   float64\n",
      " 19  ponds_around3000      18181 non-null  float64\n",
      " 20  ponds_nearest         9110 non-null   float64\n",
      " 21  days_exposition       20518 non-null  float64\n",
      "dtypes: bool(2), float64(14), int64(3), object(3)\n",
      "memory usage: 3.7+ MB\n"
     ]
    }
   ],
   "source": [
    "data.info()"
   ]
  },
  {
   "cell_type": "markdown",
   "id": "76654ede",
   "metadata": {},
   "source": [
    "**Описание столбцов:**  \n",
    "airports_nearest — расстояние до ближайшего аэропорта в метрах (м)  \n",
    "balcony — число балконов  \n",
    "ceiling_height — высота потолков (м)  \n",
    "cityCenters_nearest — расстояние до центра города (м)  \n",
    "days_exposition — сколько дней было размещено объявление (от публикации до снятия)  \n",
    "first_day_exposition — дата публикации  \n",
    "floor — этаж  \n",
    "floors_total — всего этажей в доме  \n",
    "is_apartment — апартаменты (булев тип)  \n",
    "kitchen_area — площадь кухни в квадратных метрах (м²)  \n",
    "last_price — цена на момент снятия с публикации  \n",
    "living_area — жилая площадь в квадратных метрах (м²)  \n",
    "locality_name — название населённого пункта  \n",
    "open_plan — свободная планировка (булев тип)  \n",
    "parks_around3000 — число парков в радиусе 3 км  \n",
    "parks_nearest — расстояние до ближайшего парка (м)  \n",
    "ponds_around3000 — число водоёмов в радиусе 3 км  \n",
    "ponds_nearest — расстояние до ближайшего водоёма (м)  \n",
    "rooms — число комнат  \n",
    "studio — квартира-студия (булев тип)  \n",
    "total_area — общая площадь квартиры в квадратных метрах (м²)  \n",
    "total_images — число фотографий квартиры в объявлении  "
   ]
  },
  {
   "cell_type": "markdown",
   "id": "5f93544d",
   "metadata": {},
   "source": [
    "##### Видимые проблемы:"
   ]
  },
  {
   "cell_type": "markdown",
   "id": "81972fc7",
   "metadata": {},
   "source": [
    "Очевидно, что в столбцах ceiling_height, floors_total, is_apartment, living_area, kitchen_area, balcony, locality_name, airports_nearest,  cityCenters_nearest, parks_around3000, ponds_nearest, days_exposition есть пропущенные значения"
   ]
  },
  {
   "cell_type": "markdown",
   "id": "32c6ed01",
   "metadata": {},
   "source": [
    "Так же столбцы is_apartment и floors_total явно имеют неправильный тип (должен быть bool и int). Дата публикации записана в виде строки, что может быть не удобно"
   ]
  },
  {
   "cell_type": "markdown",
   "id": "610478c7",
   "metadata": {},
   "source": [
    "##### Построим общую гистограмму для всех столбцов"
   ]
  },
  {
   "cell_type": "code",
   "execution_count": 5,
   "id": "8f108048",
   "metadata": {},
   "outputs": [
    {
     "data": {
      "text/plain": [
       "array([[<AxesSubplot:title={'center':'total_images'}>,\n",
       "        <AxesSubplot:title={'center':'last_price'}>,\n",
       "        <AxesSubplot:title={'center':'total_area'}>,\n",
       "        <AxesSubplot:title={'center':'rooms'}>],\n",
       "       [<AxesSubplot:title={'center':'ceiling_height'}>,\n",
       "        <AxesSubplot:title={'center':'floors_total'}>,\n",
       "        <AxesSubplot:title={'center':'living_area'}>,\n",
       "        <AxesSubplot:title={'center':'floor'}>],\n",
       "       [<AxesSubplot:title={'center':'kitchen_area'}>,\n",
       "        <AxesSubplot:title={'center':'balcony'}>,\n",
       "        <AxesSubplot:title={'center':'airports_nearest'}>,\n",
       "        <AxesSubplot:title={'center':'cityCenters_nearest'}>],\n",
       "       [<AxesSubplot:title={'center':'parks_around3000'}>,\n",
       "        <AxesSubplot:title={'center':'parks_nearest'}>,\n",
       "        <AxesSubplot:title={'center':'ponds_around3000'}>,\n",
       "        <AxesSubplot:title={'center':'ponds_nearest'}>],\n",
       "       [<AxesSubplot:title={'center':'days_exposition'}>, <AxesSubplot:>,\n",
       "        <AxesSubplot:>, <AxesSubplot:>]], dtype=object)"
      ]
     },
     "execution_count": 5,
     "metadata": {},
     "output_type": "execute_result"
    },
    {
     "data": {
      "image/png": "[encoded data removed]",
      "text/plain": [
       "<Figure size 1080x1440 with 20 Axes>"
      ]
     },
     "metadata": {
      "needs_background": "light"
     },
     "output_type": "display_data"
    }
   ],
   "source": [
    "data.hist(figsize= (15, 20))"
   ]
  },
  {
   "cell_type": "markdown",
   "id": "9e503f96",
   "metadata": {},
   "source": [
    "#### Промежуточные выводы до обработки данных:"
   ]
  },
  {
   "cell_type": "markdown",
   "id": "961dc8a9",
   "metadata": {},
   "source": []
  },
  {
   "cell_type": "markdown",
   "id": "df8a331c",
   "metadata": {},
   "source": [
    "## Шаг 2. Предобработка данных"
   ]
  },
  {
   "cell_type": "markdown",
   "id": "aa76563c",
   "metadata": {},
   "source": [
    "### 2.1. Заполнение NaN"
   ]
  },
  {
   "cell_type": "markdown",
   "id": "cd614d78",
   "metadata": {},
   "source": [
    "прежде чем что-то делать переименуем столбец cityCenters_nearest в snake_case"
   ]
  },
  {
   "cell_type": "code",
   "execution_count": 6,
   "id": "13cfc25d",
   "metadata": {},
   "outputs": [],
   "source": [
    "data = data.rename(columns= {'cityCenters_nearest' : 'city_centers_nearest'})"
   ]
  },
  {
   "cell_type": "markdown",
   "id": "902f14d7",
   "metadata": {},
   "source": [
    "В рамках предыдущего этапа мы определили предполагаемые столбцы с пропусками. Теперь проверим наше предположение"
   ]
  },
  {
   "cell_type": "code",
   "execution_count": 7,
   "id": "cd434e82",
   "metadata": {
    "scrolled": true
   },
   "outputs": [
    {
     "data": {
      "text/plain": [
       "total_images                0\n",
       "last_price                  0\n",
       "total_area                  0\n",
       "first_day_exposition        0\n",
       "rooms                       0\n",
       "ceiling_height           9195\n",
       "floors_total               86\n",
       "living_area              1903\n",
       "floor                       0\n",
       "is_apartment            20924\n",
       "studio                      0\n",
       "open_plan                   0\n",
       "kitchen_area             2278\n",
       "balcony                 11519\n",
       "locality_name              49\n",
       "airports_nearest         5542\n",
       "city_centers_nearest     5519\n",
       "parks_around3000         5518\n",
       "parks_nearest           15620\n",
       "ponds_around3000         5518\n",
       "ponds_nearest           14589\n",
       "days_exposition          3181\n",
       "dtype: int64"
      ]
     },
     "execution_count": 7,
     "metadata": {},
     "output_type": "execute_result"
    }
   ],
   "source": [
    "data.isna().sum()"
   ]
  },
  {
   "cell_type": "markdown",
   "id": "5cca06e7",
   "metadata": {},
   "source": [
    "#### 2.1.1 Заполнение столбцов kitchen_area, living_area"
   ]
  },
  {
   "cell_type": "markdown",
   "id": "fe17cef2",
   "metadata": {},
   "source": [
    "В студиях нет кухни. Для студий можем заполнить NaN нулями. За студии (комнаты) будем считать также "
   ]
  },
  {
   "cell_type": "code",
   "execution_count": 8,
   "id": "8e4af258",
   "metadata": {},
   "outputs": [],
   "source": [
    "data.loc[((data['studio'] == True) | (data['rooms'] == 0))& (data['kitchen_area'].isna()), 'kitchen_area'] = 0"
   ]
  },
  {
   "cell_type": "code",
   "execution_count": 9,
   "id": "c19918ef",
   "metadata": {},
   "outputs": [
    {
     "data": {
      "text/plain": [
       "2070"
      ]
     },
     "execution_count": 9,
     "metadata": {},
     "output_type": "execute_result"
    }
   ],
   "source": [
    "data.kitchen_area.isna().sum()"
   ]
  },
  {
   "cell_type": "markdown",
   "id": "45482976",
   "metadata": {},
   "source": [
    "208 студий или комнат убрали"
   ]
  },
  {
   "cell_type": "markdown",
   "id": "6ee47937",
   "metadata": {},
   "source": [
    "Для некоторых значений известна жилплощадь (living area). Получим площадь кухни вычитанием жилплощади из суммарной площади. Для этого напишем отдельную функцию"
   ]
  },
  {
   "cell_type": "code",
   "execution_count": 10,
   "id": "3480458e",
   "metadata": {},
   "outputs": [],
   "source": [
    "def calculate_area(data:pd.DataFrame, column1:str, column2:str, column3:str) -> pd.DataFrame:\n",
    "    i = 0\n",
    "    while i < data[column3].count():\n",
    "        if mt.isnan(data.loc[i,column3]) == True:\n",
    "            if mt.isnan(data.loc[i,column2]) != True:            \n",
    "                data.loc[i,column3] = data.loc[i,column1] - data.loc[i,column2]\n",
    "        i += 1\n",
    "    return data    "
   ]
  },
  {
   "cell_type": "code",
   "execution_count": 11,
   "id": "a9cf87eb",
   "metadata": {},
   "outputs": [
    {
     "data": {
      "text/plain": [
       "1489"
      ]
     },
     "execution_count": 11,
     "metadata": {},
     "output_type": "execute_result"
    }
   ],
   "source": [
    "data = calculate_area(data, 'total_area', 'living_area', 'kitchen_area') \n",
    "data.kitchen_area.isna().sum()"
   ]
  },
  {
   "cell_type": "markdown",
   "id": "9136353e",
   "metadata": {},
   "source": [
    "Для 1489 записей значение living_area не задано. Возможна и обратная ситуация (когда есть kitchen_area но нет living_area)"
   ]
  },
  {
   "cell_type": "code",
   "execution_count": 12,
   "id": "24ad57f7",
   "metadata": {},
   "outputs": [
    {
     "data": {
      "text/plain": [
       "1489"
      ]
     },
     "execution_count": 12,
     "metadata": {},
     "output_type": "execute_result"
    }
   ],
   "source": [
    "data = calculate_area(data, 'total_area', 'kitchen_area', 'living_area') \n",
    "data.living_area.isna().sum()"
   ]
  },
  {
   "cell_type": "code",
   "execution_count": 13,
   "id": "d078a811",
   "metadata": {},
   "outputs": [],
   "source": [
    "rooms_median = data.pivot_table(index= 'rooms', values= ['living_area', 'kitchen_area'] , aggfunc='median')"
   ]
  },
  {
   "cell_type": "markdown",
   "id": "7c2ba1b9",
   "metadata": {},
   "source": [
    "Остальные значения заполним медианными для количества комнат"
   ]
  },
  {
   "cell_type": "code",
   "execution_count": 14,
   "id": "132a8c90",
   "metadata": {},
   "outputs": [],
   "source": [
    "def median_area(data:pd.DataFrame, rooms_median:pd.DataFrame, column1:str, column2:str, column3:str) -> pd.DataFrame:\n",
    "    i = 0    \n",
    "    while i < data[column1].count():\n",
    "        if mt.isnan(data.loc[i,column1]) == True:            \n",
    "                data.loc[i,column1] = rooms_median.loc[data.loc[i,column2] , column3]                 \n",
    "        i += 1\n",
    "    return data"
   ]
  },
  {
   "cell_type": "code",
   "execution_count": 15,
   "id": "cc40f670",
   "metadata": {},
   "outputs": [
    {
     "data": {
      "text/plain": [
       "0"
      ]
     },
     "execution_count": 15,
     "metadata": {},
     "output_type": "execute_result"
    }
   ],
   "source": [
    "data = median_area(data, rooms_median, 'kitchen_area', 'rooms', 'living_area')\n",
    "data.kitchen_area.isna().sum()"
   ]
  },
  {
   "cell_type": "code",
   "execution_count": 16,
   "id": "93bac163",
   "metadata": {},
   "outputs": [
    {
     "data": {
      "text/plain": [
       "0"
      ]
     },
     "execution_count": 16,
     "metadata": {},
     "output_type": "execute_result"
    }
   ],
   "source": [
    "data = median_area(data, rooms_median, 'living_area', 'rooms', 'kitchen_area')\n",
    "data.living_area.isna().sum()"
   ]
  },
  {
   "cell_type": "markdown",
   "id": "7b17bd09",
   "metadata": {},
   "source": [
    "#### 2.1.2 Столбцы locality_name и balcony"
   ]
  },
  {
   "cell_type": "markdown",
   "id": "9b56e0a7",
   "metadata": {},
   "source": [
    "В столбце локаций всего 49 пропусков. По сравнению с общим количеством этим можно принебречь"
   ]
  },
  {
   "cell_type": "code",
   "execution_count": 17,
   "id": "3253c0eb",
   "metadata": {},
   "outputs": [],
   "source": [
    "data = data.dropna(subset = 'locality_name').reset_index(drop= True)"
   ]
  },
  {
   "cell_type": "markdown",
   "id": "67144107",
   "metadata": {},
   "source": [
    "Так же если не указано количество балконов, скорее всего их нет"
   ]
  },
  {
   "cell_type": "code",
   "execution_count": 18,
   "id": "ea0bc210",
   "metadata": {},
   "outputs": [],
   "source": [
    "data['balcony'] = data['balcony'].fillna(0)"
   ]
  },
  {
   "cell_type": "code",
   "execution_count": 19,
   "id": "18c8771f",
   "metadata": {},
   "outputs": [
    {
     "data": {
      "text/plain": [
       "0"
      ]
     },
     "execution_count": 19,
     "metadata": {},
     "output_type": "execute_result"
    }
   ],
   "source": [
    "data.balcony.isna().sum()"
   ]
  },
  {
   "cell_type": "markdown",
   "id": "64fa0d3c",
   "metadata": {},
   "source": []
  },
  {
   "cell_type": "markdown",
   "id": "440ccf05",
   "metadata": {},
   "source": [
    "#### 2.1.3 Столбец floors"
   ]
  },
  {
   "cell_type": "markdown",
   "id": "cb3e16ff",
   "metadata": {},
   "source": [
    "Проверим гипотезу, что если этаж не указан, значит в здании всего один этаж"
   ]
  },
  {
   "cell_type": "code",
   "execution_count": 20,
   "id": "32ca1f2b",
   "metadata": {},
   "outputs": [
    {
     "data": {
      "text/plain": [
       "0"
      ]
     },
     "execution_count": 20,
     "metadata": {},
     "output_type": "execute_result"
    }
   ],
   "source": [
    "data[data['floor'] != 1].floor.isna().sum()"
   ]
  },
  {
   "cell_type": "markdown",
   "id": "d44c5be8",
   "metadata": {},
   "source": [
    "Гипотеза не подтвердилась. В столбце количества этажей всего 86 пропусков. По сравнению с общим количеством этим можно принебречь"
   ]
  },
  {
   "cell_type": "code",
   "execution_count": 21,
   "id": "79ca0c6e",
   "metadata": {},
   "outputs": [
    {
     "data": {
      "text/plain": [
       "0"
      ]
     },
     "execution_count": 21,
     "metadata": {},
     "output_type": "execute_result"
    }
   ],
   "source": [
    "data = data.dropna(subset = 'floors_total').reset_index(drop = True)\n",
    "data['floors_total'].isna().sum()"
   ]
  },
  {
   "cell_type": "markdown",
   "id": "7577a13f",
   "metadata": {},
   "source": [
    "####  2.1.4 Cтолбец is_appartament"
   ]
  },
  {
   "cell_type": "markdown",
   "id": "189d2820",
   "metadata": {},
   "source": [
    "***Гипотеза:*** Скорее всего пропуски в столбце is_apartament означают, что объект недвижимости не является апартаментами."
   ]
  },
  {
   "cell_type": "markdown",
   "id": "b0db9427",
   "metadata": {},
   "source": [
    "Для проверки данной гипотезы логично предположить, что практически все апартаменты находятся в Санкт-Петербурге.  \n",
    "Для всех населенных пунктов кроме Спб сравним количество пропущенных значений в столбце is_appartament и количество записей об объявлениях"
   ]
  },
  {
   "cell_type": "code",
   "execution_count": 22,
   "id": "0c3e0300",
   "metadata": {
    "scrolled": true
   },
   "outputs": [
    {
     "name": "stdout",
     "output_type": "stream",
     "text": [
      "Количество пропусков в столбце is_apartament вне спб, Количество записей о недвижимости вне спб: 6987 , 7914\n"
     ]
    }
   ],
   "source": [
    "not_in_spb = data.query('locality_name != \"Санкт-Петербург\"').is_apartment\n",
    "\n",
    "print('Количество пропусков в столбце is_apartament вне спб, Количество записей о недвижимости вне спб:', not_in_spb.isna().sum(),',', len(not_in_spb))     "
   ]
  },
  {
   "cell_type": "code",
   "execution_count": 23,
   "id": "4c3c89fd",
   "metadata": {
    "scrolled": true
   },
   "outputs": [
    {
     "data": {
      "text/plain": [
       "927"
      ]
     },
     "execution_count": 23,
     "metadata": {},
     "output_type": "execute_result"
    }
   ],
   "source": [
    "data.query('locality_name != \"Санкт-Петербург\"').is_apartment.count()"
   ]
  },
  {
   "cell_type": "markdown",
   "id": "620a2049",
   "metadata": {},
   "source": [
    "Всего 927 записей о статусе апартамены/не апартаменты в Ленинградской области !"
   ]
  },
  {
   "cell_type": "markdown",
   "id": "7422ab70",
   "metadata": {},
   "source": [
    "Для того чтобы точно убедиться, среди данных записей посмотрим количество аппартаментов"
   ]
  },
  {
   "cell_type": "code",
   "execution_count": 24,
   "id": "34bc9267",
   "metadata": {},
   "outputs": [
    {
     "name": "stdout",
     "output_type": "stream",
     "text": [
      "Количество аппартаменов в Лен.области: 11\n"
     ]
    }
   ],
   "source": [
    "not_in_spb = data.query('is_apartment == True' and 'is_apartment.isna() != True' and 'locality_name != \"Санкт-Петербург\"')\n",
    "print('Количество аппартаменов в Лен.области:',not_in_spb.is_apartment.sum())"
   ]
  },
  {
   "cell_type": "markdown",
   "id": "07e1e4a6",
   "metadata": {},
   "source": [
    "Всего 11 аппартаментов по всей Ленинградской области. Из этого можно делать вывод, что если в столбце is_appartment стоит NAN, скорее всего объект недвижимости не является аппартаментами. Заполним пропуски значениями False"
   ]
  },
  {
   "cell_type": "code",
   "execution_count": 25,
   "id": "3bb35316",
   "metadata": {},
   "outputs": [
    {
     "data": {
      "text/plain": [
       "0"
      ]
     },
     "execution_count": 25,
     "metadata": {},
     "output_type": "execute_result"
    }
   ],
   "source": [
    "data['is_apartment'] = data['is_apartment'].fillna(False)\n",
    "data.is_apartment.isna().sum()"
   ]
  },
  {
   "cell_type": "markdown",
   "id": "d19b8f2f",
   "metadata": {},
   "source": [
    "#### 2.1.5. Столбцы parks_around3000 и ponds_around3000"
   ]
  },
  {
   "cell_type": "markdown",
   "id": "3295eb3d",
   "metadata": {},
   "source": [
    "Если есть расстояние до парков и водоёмов, логично предположить что по близости есть хотябы один парк. Поэтому заполним все строчки где есть расстояние до парка и водоема единицами."
   ]
  },
  {
   "cell_type": "code",
   "execution_count": 26,
   "id": "fdcbede8",
   "metadata": {},
   "outputs": [
    {
     "data": {
      "text/html": [
       "<div>\n",
       "<style scoped>\n",
       "    .dataframe tbody tr th:only-of-type {\n",
       "        vertical-align: middle;\n",
       "    }\n",
       "\n",
       "    .dataframe tbody tr th {\n",
       "        vertical-align: top;\n",
       "    }\n",
       "\n",
       "    .dataframe thead th {\n",
       "        text-align: right;\n",
       "    }\n",
       "</style>\n",
       "<table border=\"1\" class=\"dataframe\">\n",
       "  <thead>\n",
       "    <tr style=\"text-align: right;\">\n",
       "      <th></th>\n",
       "      <th>total_images</th>\n",
       "      <th>last_price</th>\n",
       "      <th>total_area</th>\n",
       "      <th>first_day_exposition</th>\n",
       "      <th>rooms</th>\n",
       "      <th>ceiling_height</th>\n",
       "      <th>floors_total</th>\n",
       "      <th>living_area</th>\n",
       "      <th>floor</th>\n",
       "      <th>is_apartment</th>\n",
       "      <th>...</th>\n",
       "      <th>kitchen_area</th>\n",
       "      <th>balcony</th>\n",
       "      <th>locality_name</th>\n",
       "      <th>airports_nearest</th>\n",
       "      <th>city_centers_nearest</th>\n",
       "      <th>parks_around3000</th>\n",
       "      <th>parks_nearest</th>\n",
       "      <th>ponds_around3000</th>\n",
       "      <th>ponds_nearest</th>\n",
       "      <th>days_exposition</th>\n",
       "    </tr>\n",
       "  </thead>\n",
       "  <tbody>\n",
       "  </tbody>\n",
       "</table>\n",
       "<p>0 rows × 22 columns</p>\n",
       "</div>"
      ],
      "text/plain": [
       "Empty DataFrame\n",
       "Columns: [total_images, last_price, total_area, first_day_exposition, rooms, ceiling_height, floors_total, living_area, floor, is_apartment, studio, open_plan, kitchen_area, balcony, locality_name, airports_nearest, city_centers_nearest, parks_around3000, parks_nearest, ponds_around3000, ponds_nearest, days_exposition]\n",
       "Index: []\n",
       "\n",
       "[0 rows x 22 columns]"
      ]
     },
     "execution_count": 26,
     "metadata": {},
     "output_type": "execute_result"
    }
   ],
   "source": [
    "data[(data['parks_nearest'].isna() != True) & (data['parks_around3000'].isna() == True)].head()"
   ]
  },
  {
   "cell_type": "code",
   "execution_count": 27,
   "id": "8eb50000",
   "metadata": {},
   "outputs": [
    {
     "data": {
      "text/html": [
       "<div>\n",
       "<style scoped>\n",
       "    .dataframe tbody tr th:only-of-type {\n",
       "        vertical-align: middle;\n",
       "    }\n",
       "\n",
       "    .dataframe tbody tr th {\n",
       "        vertical-align: top;\n",
       "    }\n",
       "\n",
       "    .dataframe thead th {\n",
       "        text-align: right;\n",
       "    }\n",
       "</style>\n",
       "<table border=\"1\" class=\"dataframe\">\n",
       "  <thead>\n",
       "    <tr style=\"text-align: right;\">\n",
       "      <th></th>\n",
       "      <th>total_images</th>\n",
       "      <th>last_price</th>\n",
       "      <th>total_area</th>\n",
       "      <th>first_day_exposition</th>\n",
       "      <th>rooms</th>\n",
       "      <th>ceiling_height</th>\n",
       "      <th>floors_total</th>\n",
       "      <th>living_area</th>\n",
       "      <th>floor</th>\n",
       "      <th>is_apartment</th>\n",
       "      <th>...</th>\n",
       "      <th>kitchen_area</th>\n",
       "      <th>balcony</th>\n",
       "      <th>locality_name</th>\n",
       "      <th>airports_nearest</th>\n",
       "      <th>city_centers_nearest</th>\n",
       "      <th>parks_around3000</th>\n",
       "      <th>parks_nearest</th>\n",
       "      <th>ponds_around3000</th>\n",
       "      <th>ponds_nearest</th>\n",
       "      <th>days_exposition</th>\n",
       "    </tr>\n",
       "  </thead>\n",
       "  <tbody>\n",
       "  </tbody>\n",
       "</table>\n",
       "<p>0 rows × 22 columns</p>\n",
       "</div>"
      ],
      "text/plain": [
       "Empty DataFrame\n",
       "Columns: [total_images, last_price, total_area, first_day_exposition, rooms, ceiling_height, floors_total, living_area, floor, is_apartment, studio, open_plan, kitchen_area, balcony, locality_name, airports_nearest, city_centers_nearest, parks_around3000, parks_nearest, ponds_around3000, ponds_nearest, days_exposition]\n",
       "Index: []\n",
       "\n",
       "[0 rows x 22 columns]"
      ]
     },
     "execution_count": 27,
     "metadata": {},
     "output_type": "execute_result"
    }
   ],
   "source": [
    "data[(data['ponds_nearest'].isna() != True) & (data['ponds_around3000'].isna() == True)].head()"
   ]
  },
  {
   "cell_type": "markdown",
   "id": "573013a9",
   "metadata": {},
   "source": [
    "Для всех столбцов где есть расстояние до парка и водоема, количество парков и водоемов уже заполнено.  \n",
    "Можно предположить, что если парки или водоемы не указаны, их по близости нет"
   ]
  },
  {
   "cell_type": "code",
   "execution_count": 28,
   "id": "fe4c2d17",
   "metadata": {},
   "outputs": [],
   "source": [
    "data['parks_around3000'] = data['parks_around3000'].fillna(0)\n",
    "data['ponds_around3000'] = data['ponds_around3000'].fillna(0)"
   ]
  },
  {
   "cell_type": "markdown",
   "id": "ebd704fd",
   "metadata": {},
   "source": [
    "**Вывод: Гипотеза верна. С данным столбцом мы ничего не сделаем**"
   ]
  },
  {
   "cell_type": "code",
   "execution_count": 29,
   "id": "eb4eac87",
   "metadata": {
    "scrolled": true
   },
   "outputs": [
    {
     "data": {
      "text/plain": [
       "total_images                0\n",
       "last_price                  0\n",
       "total_area                  0\n",
       "first_day_exposition        0\n",
       "rooms                       0\n",
       "ceiling_height           9084\n",
       "floors_total                0\n",
       "living_area                 0\n",
       "floor                       0\n",
       "is_apartment                0\n",
       "studio                      0\n",
       "open_plan                   0\n",
       "kitchen_area                0\n",
       "balcony                     0\n",
       "locality_name               0\n",
       "airports_nearest         5524\n",
       "city_centers_nearest     5501\n",
       "parks_around3000            0\n",
       "parks_nearest           15535\n",
       "ponds_around3000            0\n",
       "ponds_nearest           14529\n",
       "days_exposition          3171\n",
       "dtype: int64"
      ]
     },
     "execution_count": 29,
     "metadata": {},
     "output_type": "execute_result"
    }
   ],
   "source": [
    "data.isna().sum()"
   ]
  },
  {
   "cell_type": "markdown",
   "id": "b35f041c",
   "metadata": {},
   "source": [
    "#### 2.1.7 Столбец ceiling_height"
   ]
  },
  {
   "cell_type": "markdown",
   "id": "ee429964",
   "metadata": {},
   "source": [
    "Высоту потолков расчитаем медианное значение по категориям цены и местоположения.  \n",
    "Для этого категоризируем стоимость квартир."
   ]
  },
  {
   "cell_type": "code",
   "execution_count": 30,
   "id": "68fe3f74",
   "metadata": {},
   "outputs": [
    {
     "data": {
      "text/plain": [
       "count    2.356500e+04\n",
       "mean     6.540058e+06\n",
       "std      1.091093e+07\n",
       "min      1.219000e+04\n",
       "25%      3.400000e+06\n",
       "50%      4.646000e+06\n",
       "75%      6.790000e+06\n",
       "max      7.630000e+08\n",
       "Name: last_price, dtype: float64"
      ]
     },
     "execution_count": 30,
     "metadata": {},
     "output_type": "execute_result"
    }
   ],
   "source": [
    "data['last_price'].describe()"
   ]
  },
  {
   "cell_type": "code",
   "execution_count": 31,
   "id": "7d1c35c8",
   "metadata": {},
   "outputs": [],
   "source": [
    "for i in range(len(data)):\n",
    "    if data.loc[i, 'last_price'] < 3e+06:\n",
    "        data.loc[i, 'last_price_category'] = 'E'\n",
    "    elif 3e+06 <= data.loc[i, 'last_price'] <= 4e+06:\n",
    "        data.loc[i, 'last_price_category'] = 'D'\n",
    "    elif 4e+06 <= data.loc[i, 'last_price'] <= 5e+06:\n",
    "        data.loc[i, 'last_price_category'] = 'C'\n",
    "    elif 5e+06 <= data.loc[i, 'last_price'] <= 6.79e+06:\n",
    "        data.loc[i, 'last_price_category'] = 'B'\n",
    "    elif data.loc[i, 'last_price']  > 6.79e+06:\n",
    "        data.loc[i, 'last_price_category'] = 'А' \n",
    "    else:\n",
    "        print(data.loc[i, 'last_price'])\n",
    "        assert(False)   "
   ]
  },
  {
   "cell_type": "markdown",
   "id": "1c1779dc",
   "metadata": {},
   "source": [
    "По категории стоимости и локации расчитаем медиану высоту потолоков и заполним пропуски для медианными значениями"
   ]
  },
  {
   "cell_type": "code",
   "execution_count": 32,
   "id": "d3d4f095",
   "metadata": {},
   "outputs": [],
   "source": [
    "for i in range(len(data['ceiling_height'])): \n",
    "    if mt.isnan(data.loc[i ,'ceiling_height']) == True :\n",
    "        locality_name = data.loc[i ,\"locality_name\"]\n",
    "        last_price_category = data.loc[i ,\"last_price_category\"]\n",
    "        data.loc[i ,'ceiling_height'] = data.query(('locality_name == @locality_name') and ('last_price_category ==@last_price_category')).ceiling_height.median()"
   ]
  },
  {
   "cell_type": "code",
   "execution_count": 33,
   "id": "21feb1da",
   "metadata": {},
   "outputs": [
    {
     "data": {
      "text/plain": [
       "0"
      ]
     },
     "execution_count": 33,
     "metadata": {},
     "output_type": "execute_result"
    }
   ],
   "source": [
    "data.ceiling_height.isna().sum()"
   ]
  },
  {
   "cell_type": "markdown",
   "id": "ba8e0370",
   "metadata": {},
   "source": [
    "#### 2.1.8 Столбец days_exposition"
   ]
  },
  {
   "cell_type": "markdown",
   "id": "9eb90fe0",
   "metadata": {},
   "source": [
    "Скорее всего 3171 объявление имеет пропуски в столбце days_exposition, так как они были закрыты в первый день. Логично данные пропуски заполнить нулями"
   ]
  },
  {
   "cell_type": "code",
   "execution_count": 34,
   "id": "516920aa",
   "metadata": {},
   "outputs": [],
   "source": [
    "data['days_exposition'] = data['days_exposition'].fillna(0)"
   ]
  },
  {
   "cell_type": "markdown",
   "id": "a73189c0",
   "metadata": {},
   "source": [
    "#### 2.1.9 Столбец city_centers_nearest"
   ]
  },
  {
   "cell_type": "markdown",
   "id": "4a08cb5a",
   "metadata": {},
   "source": [
    "Заполним медианным для цены и города"
   ]
  },
  {
   "cell_type": "code",
   "execution_count": 35,
   "id": "03bf2020",
   "metadata": {},
   "outputs": [],
   "source": [
    "for i in range(len(data['city_centers_nearest'])): \n",
    "    if mt.isnan(data.loc[i ,'city_centers_nearest']) == True :\n",
    "        locality_name = data.loc[i ,\"locality_name\"]\n",
    "        last_price_category = data.loc[i ,\"last_price_category\"]\n",
    "        data.loc[i ,'city_centers_nearest'] = data.query(('locality_name == @locality_name') and ('last_price_category ==@last_price_category')).city_centers_nearest.median()"
   ]
  },
  {
   "cell_type": "markdown",
   "id": "f46e6ed0",
   "metadata": {},
   "source": [
    "К сожалению, остальные столбцы мы не заполним"
   ]
  },
  {
   "cell_type": "code",
   "execution_count": 36,
   "id": "ff77ad95",
   "metadata": {},
   "outputs": [
    {
     "name": "stdout",
     "output_type": "stream",
     "text": [
      "<class 'pandas.core.frame.DataFrame'>\n",
      "RangeIndex: 23565 entries, 0 to 23564\n",
      "Data columns (total 23 columns):\n",
      " #   Column                Non-Null Count  Dtype  \n",
      "---  ------                --------------  -----  \n",
      " 0   total_images          23565 non-null  int64  \n",
      " 1   last_price            23565 non-null  float64\n",
      " 2   total_area            23565 non-null  float64\n",
      " 3   first_day_exposition  23565 non-null  object \n",
      " 4   rooms                 23565 non-null  int64  \n",
      " 5   ceiling_height        23565 non-null  float64\n",
      " 6   floors_total          23565 non-null  float64\n",
      " 7   living_area           23565 non-null  float64\n",
      " 8   floor                 23565 non-null  int64  \n",
      " 9   is_apartment          23565 non-null  bool   \n",
      " 10  studio                23565 non-null  bool   \n",
      " 11  open_plan             23565 non-null  bool   \n",
      " 12  kitchen_area          23565 non-null  float64\n",
      " 13  balcony               23565 non-null  float64\n",
      " 14  locality_name         23565 non-null  object \n",
      " 15  airports_nearest      18041 non-null  float64\n",
      " 16  city_centers_nearest  23565 non-null  float64\n",
      " 17  parks_around3000      23565 non-null  float64\n",
      " 18  parks_nearest         8030 non-null   float64\n",
      " 19  ponds_around3000      23565 non-null  float64\n",
      " 20  ponds_nearest         9036 non-null   float64\n",
      " 21  days_exposition       23565 non-null  float64\n",
      " 22  last_price_category   23565 non-null  object \n",
      "dtypes: bool(3), float64(14), int64(3), object(3)\n",
      "memory usage: 3.7+ MB\n"
     ]
    }
   ],
   "source": [
    "data.info()"
   ]
  },
  {
   "cell_type": "markdown",
   "id": "32ba9395",
   "metadata": {},
   "source": [
    "**Причина проблемы:** \n",
    "\n",
    "Пропуски данных связаны:\n",
    "\n",
    "1. C человеческим фактором (пользователи не указывают определенные параметры)\n",
    "2. C работой сайта, который воспринимает неуказанные параметры как NAN"
   ]
  },
  {
   "cell_type": "markdown",
   "id": "2c6e3586",
   "metadata": {},
   "source": [
    "### 2.2. Типы данных"
   ]
  },
  {
   "cell_type": "markdown",
   "id": "2e6c9717",
   "metadata": {},
   "source": [
    "Очевидно, что число этажей, количество балконов и количество дней с даты публикации не может быть дробным. Так же очевидно, что столбец is_apartment может принимать только 2 значения. Переведем данные столбцы в int и bool соответственно"
   ]
  },
  {
   "cell_type": "code",
   "execution_count": 37,
   "id": "9fcc3e54",
   "metadata": {},
   "outputs": [],
   "source": [
    "data['floors_total'] = data['floors_total'].astype(int)\n",
    "data['balcony'] = data['balcony'].astype(int)\n",
    "data['days_exposition'] = data['days_exposition'].astype(int)\n",
    "data['is_apartment'] = data['is_apartment'].astype(bool)"
   ]
  },
  {
   "cell_type": "markdown",
   "id": "2ef1be06",
   "metadata": {},
   "source": [
    "Значения даты публикации хранятся в строках. Лучше перевести их в DateTime"
   ]
  },
  {
   "cell_type": "code",
   "execution_count": 38,
   "id": "9f48d1dc",
   "metadata": {},
   "outputs": [],
   "source": [
    "data['first_day_exposition'] = pd.to_datetime(data['first_day_exposition'] , format='%Y-%m-%dT%H:%M:%S.%f')"
   ]
  },
  {
   "cell_type": "markdown",
   "id": "e8ad34c6",
   "metadata": {},
   "source": [
    "Дробным не может быть так же кроличество парков и водоемов"
   ]
  },
  {
   "cell_type": "code",
   "execution_count": 39,
   "id": "c1c0b71d",
   "metadata": {},
   "outputs": [],
   "source": [
    "data['parks_around3000'] = data['parks_around3000'].astype(int)\n",
    "data['ponds_around3000'] = data['ponds_around3000'].astype(int)"
   ]
  },
  {
   "cell_type": "markdown",
   "id": "49bb65dd",
   "metadata": {},
   "source": [
    "Посмотрим на результат"
   ]
  },
  {
   "cell_type": "code",
   "execution_count": 40,
   "id": "52f63537",
   "metadata": {},
   "outputs": [
    {
     "name": "stdout",
     "output_type": "stream",
     "text": [
      "<class 'pandas.core.frame.DataFrame'>\n",
      "RangeIndex: 23565 entries, 0 to 23564\n",
      "Data columns (total 23 columns):\n",
      " #   Column                Non-Null Count  Dtype         \n",
      "---  ------                --------------  -----         \n",
      " 0   total_images          23565 non-null  int64         \n",
      " 1   last_price            23565 non-null  float64       \n",
      " 2   total_area            23565 non-null  float64       \n",
      " 3   first_day_exposition  23565 non-null  datetime64[ns]\n",
      " 4   rooms                 23565 non-null  int64         \n",
      " 5   ceiling_height        23565 non-null  float64       \n",
      " 6   floors_total          23565 non-null  int32         \n",
      " 7   living_area           23565 non-null  float64       \n",
      " 8   floor                 23565 non-null  int64         \n",
      " 9   is_apartment          23565 non-null  bool          \n",
      " 10  studio                23565 non-null  bool          \n",
      " 11  open_plan             23565 non-null  bool          \n",
      " 12  kitchen_area          23565 non-null  float64       \n",
      " 13  balcony               23565 non-null  int32         \n",
      " 14  locality_name         23565 non-null  object        \n",
      " 15  airports_nearest      18041 non-null  float64       \n",
      " 16  city_centers_nearest  23565 non-null  float64       \n",
      " 17  parks_around3000      23565 non-null  int32         \n",
      " 18  parks_nearest         8030 non-null   float64       \n",
      " 19  ponds_around3000      23565 non-null  int32         \n",
      " 20  ponds_nearest         9036 non-null   float64       \n",
      " 21  days_exposition       23565 non-null  int32         \n",
      " 22  last_price_category   23565 non-null  object        \n",
      "dtypes: bool(3), datetime64[ns](1), float64(9), int32(5), int64(3), object(2)\n",
      "memory usage: 3.2+ MB\n"
     ]
    }
   ],
   "source": [
    "data.info()"
   ]
  },
  {
   "cell_type": "code",
   "execution_count": null,
   "id": "6c824b79",
   "metadata": {},
   "outputs": [],
   "source": []
  },
  {
   "cell_type": "markdown",
   "id": "60d54c5e",
   "metadata": {},
   "source": [
    "**Причина проблемы:**\n",
    "\n",
    "Некорректные типы данных связаны с ошибками в ПО (ошибки в конвертации/сборе информации на сайте)"
   ]
  },
  {
   "cell_type": "markdown",
   "id": "eda6783a",
   "metadata": {},
   "source": [
    "### 2.3. Обработка дубликатов"
   ]
  },
  {
   "cell_type": "markdown",
   "id": "32dfc3d0",
   "metadata": {},
   "source": [
    "По сути на явные и неявные дубликаты можно проверить только по столбцу локации"
   ]
  },
  {
   "cell_type": "code",
   "execution_count": 41,
   "id": "6a35ffa1",
   "metadata": {},
   "outputs": [
    {
     "data": {
      "text/plain": [
       "array(['Санкт-Петербург', 'посёлок Шушары', 'городской посёлок Янино-1',\n",
       "       'посёлок Парголово', 'посёлок Мурино', 'Ломоносов', 'Сертолово',\n",
       "       'Петергоф', 'Пушкин', 'деревня Кудрово', 'Коммунар', 'Колпино',\n",
       "       'поселок городского типа Красный Бор', 'Гатчина', 'поселок Мурино',\n",
       "       'деревня Фёдоровское', 'Выборг', 'Кронштадт', 'Кировск',\n",
       "       'деревня Новое Девяткино', 'посёлок Металлострой',\n",
       "       'посёлок городского типа Лебяжье',\n",
       "       'посёлок городского типа Сиверский', 'поселок Молодцово',\n",
       "       'поселок городского типа Кузьмоловский',\n",
       "       'садовое товарищество Новая Ропша', 'Павловск',\n",
       "       'деревня Пикколово', 'Всеволожск', 'Волхов', 'Кингисепп',\n",
       "       'Приозерск', 'Сестрорецк', 'деревня Куттузи', 'посёлок Аннино',\n",
       "       'поселок городского типа Ефимовский', 'посёлок Плодовое',\n",
       "       'деревня Заклинье', 'поселок Торковичи', 'поселок Первомайское',\n",
       "       'Красное Село', 'посёлок Понтонный', 'Сясьстрой', 'деревня Старая',\n",
       "       'деревня Лесколово', 'посёлок Новый Свет', 'Сланцы',\n",
       "       'село Путилово', 'Ивангород', 'Мурино', 'Шлиссельбург',\n",
       "       'Никольское', 'Зеленогорск', 'Сосновый Бор', 'поселок Новый Свет',\n",
       "       'деревня Оржицы', 'деревня Кальтино', 'Кудрово',\n",
       "       'поселок Романовка', 'посёлок Бугры', 'поселок Бугры',\n",
       "       'поселок городского типа Рощино', 'Кириши', 'Луга', 'Волосово',\n",
       "       'Отрадное', 'село Павлово', 'поселок Оредеж', 'село Копорье',\n",
       "       'посёлок городского типа Красный Бор', 'посёлок Молодёжное',\n",
       "       'Тихвин', 'посёлок Победа', 'деревня Нурма',\n",
       "       'поселок городского типа Синявино', 'Тосно',\n",
       "       'посёлок городского типа Кузьмоловский', 'посёлок Стрельна',\n",
       "       'Бокситогорск', 'посёлок Александровская', 'деревня Лопухинка',\n",
       "       'Пикалёво', 'поселок Терволово',\n",
       "       'поселок городского типа Советский', 'Подпорожье',\n",
       "       'посёлок Петровское', 'посёлок городского типа Токсово',\n",
       "       'поселок Сельцо', 'посёлок городского типа Вырица',\n",
       "       'деревня Кипень', 'деревня Келози', 'деревня Вартемяги',\n",
       "       'посёлок Тельмана', 'поселок Севастьяново',\n",
       "       'городской поселок Большая Ижора', 'городской посёлок Павлово',\n",
       "       'деревня Агалатово', 'посёлок Новогорелово',\n",
       "       'городской посёлок Лесогорский', 'деревня Лаголово',\n",
       "       'поселок Цвелодубово', 'поселок городского типа Рахья',\n",
       "       'поселок городского типа Вырица', 'деревня Белогорка',\n",
       "       'поселок Заводской', 'городской посёлок Новоселье',\n",
       "       'деревня Большие Колпаны', 'деревня Горбунки', 'деревня Батово',\n",
       "       'деревня Заневка', 'деревня Иссад', 'Приморск',\n",
       "       'городской посёлок Фёдоровское', 'деревня Мистолово',\n",
       "       'Новая Ладога', 'поселок Зимитицы', 'поселок Барышево',\n",
       "       'деревня Разметелево', 'поселок городского типа имени Свердлова',\n",
       "       'деревня Пеники', 'поселок Рябово', 'деревня Пудомяги',\n",
       "       'поселок станции Корнево', 'деревня Низино', 'деревня Бегуницы',\n",
       "       'посёлок Поляны', 'городской посёлок Мга', 'поселок Елизаветино',\n",
       "       'посёлок городского типа Кузнечное', 'деревня Колтуши',\n",
       "       'поселок Запорожское', 'посёлок городского типа Рощино',\n",
       "       'деревня Гостилицы', 'деревня Малое Карлино',\n",
       "       'посёлок Мичуринское', 'посёлок городского типа имени Морозова',\n",
       "       'посёлок Песочный', 'посёлок Сосново', 'деревня Аро',\n",
       "       'поселок Ильичёво', 'посёлок городского типа Тайцы',\n",
       "       'деревня Малое Верево', 'деревня Извара', 'поселок станции Вещево',\n",
       "       'село Паша', 'деревня Калитино',\n",
       "       'посёлок городского типа Ульяновка', 'деревня Чудской Бор',\n",
       "       'поселок городского типа Дубровка', 'деревня Мины',\n",
       "       'поселок Войсковицы', 'посёлок городского типа имени Свердлова',\n",
       "       'деревня Коркино', 'посёлок Ропша',\n",
       "       'поселок городского типа Приладожский', 'посёлок Щеглово',\n",
       "       'посёлок Гаврилово', 'Лодейное Поле', 'деревня Рабитицы',\n",
       "       'поселок городского типа Никольский', 'деревня Кузьмолово',\n",
       "       'деревня Малые Колпаны', 'поселок Тельмана',\n",
       "       'посёлок Петро-Славянка', 'городской посёлок Назия',\n",
       "       'посёлок Репино', 'посёлок Ильичёво', 'поселок Углово',\n",
       "       'поселок Старая Малукса', 'садовое товарищество Рахья',\n",
       "       'поселок Аннино', 'поселок Победа', 'деревня Меньково',\n",
       "       'деревня Старые Бегуницы', 'посёлок Сапёрный', 'поселок Семрино',\n",
       "       'поселок Гаврилово', 'поселок Глажево', 'поселок Кобринское',\n",
       "       'деревня Гарболово', 'деревня Юкки',\n",
       "       'поселок станции Приветнинское', 'деревня Мануйлово',\n",
       "       'деревня Пчева', 'поселок Поляны', 'поселок Цвылёво',\n",
       "       'поселок Мельниково', 'посёлок Пудость', 'посёлок Усть-Луга',\n",
       "       'Светогорск', 'Любань', 'поселок Селезнёво',\n",
       "       'поселок городского типа Рябово', 'Каменногорск', 'деревня Кривко',\n",
       "       'поселок Глебычево', 'деревня Парицы', 'поселок Жилпосёлок',\n",
       "       'посёлок городского типа Мга', 'городской поселок Янино-1',\n",
       "       'посёлок Войскорово', 'село Никольское', 'посёлок Терволово',\n",
       "       'поселок Стеклянный', 'посёлок городского типа Важины',\n",
       "       'посёлок Мыза-Ивановка', 'село Русско-Высоцкое',\n",
       "       'поселок городского типа Лебяжье',\n",
       "       'поселок городского типа Форносово', 'село Старая Ладога',\n",
       "       'поселок Житково', 'городской посёлок Виллози', 'деревня Лампово',\n",
       "       'деревня Шпаньково', 'деревня Лаврики', 'посёлок Сумино',\n",
       "       'посёлок Возрождение', 'деревня Старосиверская',\n",
       "       'посёлок Кикерино', 'поселок Возрождение',\n",
       "       'деревня Старое Хинколово', 'посёлок Пригородный',\n",
       "       'посёлок Торфяное', 'городской посёлок Будогощь',\n",
       "       'поселок Суходолье', 'поселок Красная Долина', 'деревня Хапо-Ое',\n",
       "       'поселок городского типа Дружная Горка', 'поселок Лисий Нос',\n",
       "       'деревня Яльгелево', 'посёлок Стеклянный', 'село Рождествено',\n",
       "       'деревня Старополье', 'посёлок Левашово', 'деревня Сяськелево',\n",
       "       'деревня Камышовка',\n",
       "       'садоводческое некоммерческое товарищество Лесная Поляна',\n",
       "       'деревня Хязельки', 'поселок Жилгородок',\n",
       "       'посёлок городского типа Павлово', 'деревня Ялгино',\n",
       "       'поселок Новый Учхоз', 'городской посёлок Рощино',\n",
       "       'поселок Гончарово', 'поселок Почап', 'посёлок Сапёрное',\n",
       "       'посёлок Платформа 69-й километр', 'поселок Каложицы',\n",
       "       'деревня Фалилеево', 'деревня Пельгора',\n",
       "       'поселок городского типа Лесогорский', 'деревня Торошковичи',\n",
       "       'посёлок Белоостров', 'посёлок Алексеевка', 'поселок Серебрянский',\n",
       "       'поселок Лукаши', 'поселок Петровское', 'деревня Щеглово',\n",
       "       'поселок Мичуринское', 'деревня Тарасово', 'поселок Кингисеппский',\n",
       "       'посёлок при железнодорожной станции Вещево', 'поселок Ушаки',\n",
       "       'деревня Котлы', 'деревня Сижно', 'деревня Торосово',\n",
       "       'посёлок Форт Красная Горка', 'деревня Новолисино',\n",
       "       'посёлок станции Громово', 'деревня Глинка', 'посёлок Мельниково',\n",
       "       'поселок городского типа Назия', 'деревня Старая Пустошь',\n",
       "       'поселок Коммунары', 'поселок Починок',\n",
       "       'посёлок городского типа Вознесенье', 'деревня Разбегаево',\n",
       "       'посёлок городского типа Рябово', 'поселок Гладкое',\n",
       "       'посёлок при железнодорожной станции Приветнинское',\n",
       "       'поселок Тёсово-4', 'посёлок Жилгородок', 'деревня Бор',\n",
       "       'посёлок Коробицыно', 'деревня Большая Вруда', 'деревня Курковицы',\n",
       "       'посёлок Лисий Нос', 'городской посёлок Советский',\n",
       "       'посёлок Кобралово', 'деревня Суоранда', 'поселок Кобралово',\n",
       "       'поселок городского типа Кондратьево',\n",
       "       'коттеджный поселок Счастье', 'поселок Любань', 'деревня Реброво',\n",
       "       'деревня Зимитицы', 'деревня Тойворово', 'поселок Семиозерье',\n",
       "       'поселок Лесное', 'поселок Совхозный', 'поселок Усть-Луга',\n",
       "       'посёлок Ленинское', 'посёлок Суйда',\n",
       "       'посёлок городского типа Форносово', 'деревня Нижние Осельки',\n",
       "       'посёлок станции Свирь', 'поселок Перово', 'Высоцк',\n",
       "       'поселок Гарболово', 'село Шум', 'поселок Котельский',\n",
       "       'поселок станции Лужайка', 'деревня Большая Пустомержа',\n",
       "       'поселок Красносельское', 'деревня Вахнова Кара', 'деревня Пижма',\n",
       "       'коттеджный поселок Кивеннапа Север', 'поселок Коробицыно',\n",
       "       'поселок Ромашки', 'посёлок Перово', 'деревня Каськово',\n",
       "       'деревня Куровицы', 'посёлок Плоское', 'поселок Сумино',\n",
       "       'поселок городского типа Большая Ижора', 'поселок Кирпичное',\n",
       "       'деревня Ям-Тесово', 'деревня Раздолье', 'деревня Терпилицы',\n",
       "       'поселок городского типа Токсово', 'посёлок Шугозеро',\n",
       "       'деревня Ваганово', 'поселок Пушное', 'садовое товарищество Садко',\n",
       "       'посёлок Усть-Ижора', 'деревня Выскатка',\n",
       "       'городской посёлок Свирьстрой', 'поселок Громово',\n",
       "       'деревня Кисельня', 'посёлок Старая Малукса',\n",
       "       'деревня Трубников Бор', 'поселок Калитино',\n",
       "       'посёлок Высокоключевой', 'садовое товарищество Приладожский',\n",
       "       'посёлок Пансионат Зелёный Бор', 'деревня Ненимяки',\n",
       "       'поселок Пансионат Зелёный Бор', 'деревня Снегирёвка',\n",
       "       'деревня Рапполово', 'деревня Пустынка', 'поселок Рабитицы',\n",
       "       'деревня Большой Сабск', 'деревня Русско', 'деревня Лупполово',\n",
       "       'деревня Большое Рейзино', 'деревня Малая Романовка',\n",
       "       'поселок Дружноселье', 'поселок Пчевжа', 'поселок Володарское',\n",
       "       'деревня Нижняя', 'коттеджный посёлок Лесное', 'деревня Тихковицы',\n",
       "       'деревня Борисова Грива', 'посёлок Дзержинского'], dtype=object)"
      ]
     },
     "execution_count": 41,
     "metadata": {},
     "output_type": "execute_result"
    }
   ],
   "source": [
    "data.locality_name.unique()"
   ]
  },
  {
   "cell_type": "code",
   "execution_count": 42,
   "id": "15bf5b40",
   "metadata": {},
   "outputs": [
    {
     "data": {
      "text/plain": [
       "364"
      ]
     },
     "execution_count": 42,
     "metadata": {},
     "output_type": "execute_result"
    }
   ],
   "source": [
    "data.locality_name.nunique()"
   ]
  },
  {
   "cell_type": "code",
   "execution_count": 43,
   "id": "2e397c3b",
   "metadata": {},
   "outputs": [],
   "source": [
    "def delete_settlements (row :str) -> str:\n",
    "    settlements  = (['посёлок', 'поселок',  'городского', 'типа', 'городской', 'деревня',\n",
    "     'станции', 'Пансионат', 'садовое', 'товарищество', 'село', 'коттеджный'])\n",
    "    for settlement in settlements:\n",
    "        if settlement in row:\n",
    "            row = row.replace(settlement, '').strip() \n",
    "    return row"
   ]
  },
  {
   "cell_type": "code",
   "execution_count": 44,
   "id": "9fef7d9f",
   "metadata": {},
   "outputs": [],
   "source": [
    "data.locality_name = data.locality_name.apply(delete_settlements).str.lower()"
   ]
  },
  {
   "cell_type": "code",
   "execution_count": 45,
   "id": "a8c12791",
   "metadata": {},
   "outputs": [
    {
     "data": {
      "text/plain": [
       "307"
      ]
     },
     "execution_count": 45,
     "metadata": {},
     "output_type": "execute_result"
    }
   ],
   "source": [
    "data.locality_name.nunique()"
   ]
  },
  {
   "cell_type": "markdown",
   "id": "84ca01dc",
   "metadata": {},
   "source": [
    "57 дубликатов убрали"
   ]
  },
  {
   "cell_type": "markdown",
   "id": "af1894e9",
   "metadata": {},
   "source": [
    "### 2.4. Обработка выбросов"
   ]
  },
  {
   "cell_type": "markdown",
   "id": "2950c133",
   "metadata": {},
   "source": [
    "Взглянем на данные"
   ]
  },
  {
   "cell_type": "code",
   "execution_count": 46,
   "id": "65629786",
   "metadata": {},
   "outputs": [
    {
     "data": {
      "text/html": [
       "<div>\n",
       "<style scoped>\n",
       "    .dataframe tbody tr th:only-of-type {\n",
       "        vertical-align: middle;\n",
       "    }\n",
       "\n",
       "    .dataframe tbody tr th {\n",
       "        vertical-align: top;\n",
       "    }\n",
       "\n",
       "    .dataframe thead th {\n",
       "        text-align: right;\n",
       "    }\n",
       "</style>\n",
       "<table border=\"1\" class=\"dataframe\">\n",
       "  <thead>\n",
       "    <tr style=\"text-align: right;\">\n",
       "      <th></th>\n",
       "      <th>total_images</th>\n",
       "      <th>last_price</th>\n",
       "      <th>total_area</th>\n",
       "      <th>rooms</th>\n",
       "      <th>ceiling_height</th>\n",
       "      <th>floors_total</th>\n",
       "      <th>living_area</th>\n",
       "      <th>floor</th>\n",
       "      <th>kitchen_area</th>\n",
       "      <th>balcony</th>\n",
       "      <th>airports_nearest</th>\n",
       "      <th>city_centers_nearest</th>\n",
       "      <th>parks_around3000</th>\n",
       "      <th>parks_nearest</th>\n",
       "      <th>ponds_around3000</th>\n",
       "      <th>ponds_nearest</th>\n",
       "      <th>days_exposition</th>\n",
       "    </tr>\n",
       "  </thead>\n",
       "  <tbody>\n",
       "    <tr>\n",
       "      <th>count</th>\n",
       "      <td>23565.000000</td>\n",
       "      <td>2.356500e+04</td>\n",
       "      <td>23565.000000</td>\n",
       "      <td>23565.000000</td>\n",
       "      <td>23565.000000</td>\n",
       "      <td>23565.000000</td>\n",
       "      <td>23565.000000</td>\n",
       "      <td>23565.000000</td>\n",
       "      <td>23565.000000</td>\n",
       "      <td>23565.000000</td>\n",
       "      <td>18041.000000</td>\n",
       "      <td>23565.000000</td>\n",
       "      <td>23565.000000</td>\n",
       "      <td>8030.000000</td>\n",
       "      <td>23565.000000</td>\n",
       "      <td>9036.000000</td>\n",
       "      <td>23565.000000</td>\n",
       "    </tr>\n",
       "    <tr>\n",
       "      <th>mean</th>\n",
       "      <td>9.878421</td>\n",
       "      <td>6.540058e+06</td>\n",
       "      <td>60.322824</td>\n",
       "      <td>2.070656</td>\n",
       "      <td>2.726331</td>\n",
       "      <td>10.675875</td>\n",
       "      <td>33.319006</td>\n",
       "      <td>5.878124</td>\n",
       "      <td>12.117205</td>\n",
       "      <td>0.593677</td>\n",
       "      <td>28797.082701</td>\n",
       "      <td>14914.441630</td>\n",
       "      <td>0.468831</td>\n",
       "      <td>490.580448</td>\n",
       "      <td>0.589900</td>\n",
       "      <td>518.289509</td>\n",
       "      <td>156.420115</td>\n",
       "    </tr>\n",
       "    <tr>\n",
       "      <th>std</th>\n",
       "      <td>5.681156</td>\n",
       "      <td>1.091093e+07</td>\n",
       "      <td>35.657060</td>\n",
       "      <td>1.078591</td>\n",
       "      <td>0.994361</td>\n",
       "      <td>6.594823</td>\n",
       "      <td>23.307157</td>\n",
       "      <td>4.871485</td>\n",
       "      <td>9.602227</td>\n",
       "      <td>0.960660</td>\n",
       "      <td>12632.499735</td>\n",
       "      <td>7783.516413</td>\n",
       "      <td>0.748403</td>\n",
       "      <td>341.572956</td>\n",
       "      <td>0.883966</td>\n",
       "      <td>278.009558</td>\n",
       "      <td>213.517293</td>\n",
       "    </tr>\n",
       "    <tr>\n",
       "      <th>min</th>\n",
       "      <td>0.000000</td>\n",
       "      <td>1.219000e+04</td>\n",
       "      <td>12.000000</td>\n",
       "      <td>0.000000</td>\n",
       "      <td>1.000000</td>\n",
       "      <td>1.000000</td>\n",
       "      <td>0.000000</td>\n",
       "      <td>1.000000</td>\n",
       "      <td>0.000000</td>\n",
       "      <td>0.000000</td>\n",
       "      <td>0.000000</td>\n",
       "      <td>181.000000</td>\n",
       "      <td>0.000000</td>\n",
       "      <td>1.000000</td>\n",
       "      <td>0.000000</td>\n",
       "      <td>13.000000</td>\n",
       "      <td>0.000000</td>\n",
       "    </tr>\n",
       "    <tr>\n",
       "      <th>25%</th>\n",
       "      <td>6.000000</td>\n",
       "      <td>3.400000e+06</td>\n",
       "      <td>40.000000</td>\n",
       "      <td>1.000000</td>\n",
       "      <td>2.550000</td>\n",
       "      <td>5.000000</td>\n",
       "      <td>18.000000</td>\n",
       "      <td>2.000000</td>\n",
       "      <td>7.100000</td>\n",
       "      <td>0.000000</td>\n",
       "      <td>18565.000000</td>\n",
       "      <td>10837.000000</td>\n",
       "      <td>0.000000</td>\n",
       "      <td>288.000000</td>\n",
       "      <td>0.000000</td>\n",
       "      <td>293.000000</td>\n",
       "      <td>22.000000</td>\n",
       "    </tr>\n",
       "    <tr>\n",
       "      <th>50%</th>\n",
       "      <td>9.000000</td>\n",
       "      <td>4.646000e+06</td>\n",
       "      <td>52.000000</td>\n",
       "      <td>2.000000</td>\n",
       "      <td>2.600000</td>\n",
       "      <td>9.000000</td>\n",
       "      <td>29.700000</td>\n",
       "      <td>4.000000</td>\n",
       "      <td>9.700000</td>\n",
       "      <td>0.000000</td>\n",
       "      <td>26757.000000</td>\n",
       "      <td>14365.000000</td>\n",
       "      <td>0.000000</td>\n",
       "      <td>455.000000</td>\n",
       "      <td>0.000000</td>\n",
       "      <td>503.000000</td>\n",
       "      <td>73.000000</td>\n",
       "    </tr>\n",
       "    <tr>\n",
       "      <th>75%</th>\n",
       "      <td>14.000000</td>\n",
       "      <td>6.790000e+06</td>\n",
       "      <td>69.700000</td>\n",
       "      <td>3.000000</td>\n",
       "      <td>2.800000</td>\n",
       "      <td>16.000000</td>\n",
       "      <td>42.000000</td>\n",
       "      <td>8.000000</td>\n",
       "      <td>13.000000</td>\n",
       "      <td>1.000000</td>\n",
       "      <td>37273.000000</td>\n",
       "      <td>19182.000000</td>\n",
       "      <td>1.000000</td>\n",
       "      <td>612.000000</td>\n",
       "      <td>1.000000</td>\n",
       "      <td>730.000000</td>\n",
       "      <td>198.000000</td>\n",
       "    </tr>\n",
       "    <tr>\n",
       "      <th>max</th>\n",
       "      <td>50.000000</td>\n",
       "      <td>7.630000e+08</td>\n",
       "      <td>900.000000</td>\n",
       "      <td>19.000000</td>\n",
       "      <td>100.000000</td>\n",
       "      <td>60.000000</td>\n",
       "      <td>571.000000</td>\n",
       "      <td>33.000000</td>\n",
       "      <td>230.000000</td>\n",
       "      <td>5.000000</td>\n",
       "      <td>84869.000000</td>\n",
       "      <td>65968.000000</td>\n",
       "      <td>3.000000</td>\n",
       "      <td>3190.000000</td>\n",
       "      <td>3.000000</td>\n",
       "      <td>1344.000000</td>\n",
       "      <td>1580.000000</td>\n",
       "    </tr>\n",
       "  </tbody>\n",
       "</table>\n",
       "</div>"
      ],
      "text/plain": [
       "       total_images    last_price    total_area         rooms  ceiling_height  \\\n",
       "count  23565.000000  2.356500e+04  23565.000000  23565.000000    23565.000000   \n",
       "mean       9.878421  6.540058e+06     60.322824      2.070656        2.726331   \n",
       "std        5.681156  1.091093e+07     35.657060      1.078591        0.994361   \n",
       "min        0.000000  1.219000e+04     12.000000      0.000000        1.000000   \n",
       "25%        6.000000  3.400000e+06     40.000000      1.000000        2.550000   \n",
       "50%        9.000000  4.646000e+06     52.000000      2.000000        2.600000   \n",
       "75%       14.000000  6.790000e+06     69.700000      3.000000        2.800000   \n",
       "max       50.000000  7.630000e+08    900.000000     19.000000      100.000000   \n",
       "\n",
       "       floors_total   living_area         floor  kitchen_area       balcony  \\\n",
       "count  23565.000000  23565.000000  23565.000000  23565.000000  23565.000000   \n",
       "mean      10.675875     33.319006      5.878124     12.117205      0.593677   \n",
       "std        6.594823     23.307157      4.871485      9.602227      0.960660   \n",
       "min        1.000000      0.000000      1.000000      0.000000      0.000000   \n",
       "25%        5.000000     18.000000      2.000000      7.100000      0.000000   \n",
       "50%        9.000000     29.700000      4.000000      9.700000      0.000000   \n",
       "75%       16.000000     42.000000      8.000000     13.000000      1.000000   \n",
       "max       60.000000    571.000000     33.000000    230.000000      5.000000   \n",
       "\n",
       "       airports_nearest  city_centers_nearest  parks_around3000  \\\n",
       "count      18041.000000          23565.000000      23565.000000   \n",
       "mean       28797.082701          14914.441630          0.468831   \n",
       "std        12632.499735           7783.516413          0.748403   \n",
       "min            0.000000            181.000000          0.000000   \n",
       "25%        18565.000000          10837.000000          0.000000   \n",
       "50%        26757.000000          14365.000000          0.000000   \n",
       "75%        37273.000000          19182.000000          1.000000   \n",
       "max        84869.000000          65968.000000          3.000000   \n",
       "\n",
       "       parks_nearest  ponds_around3000  ponds_nearest  days_exposition  \n",
       "count    8030.000000      23565.000000    9036.000000     23565.000000  \n",
       "mean      490.580448          0.589900     518.289509       156.420115  \n",
       "std       341.572956          0.883966     278.009558       213.517293  \n",
       "min         1.000000          0.000000      13.000000         0.000000  \n",
       "25%       288.000000          0.000000     293.000000        22.000000  \n",
       "50%       455.000000          0.000000     503.000000        73.000000  \n",
       "75%       612.000000          1.000000     730.000000       198.000000  \n",
       "max      3190.000000          3.000000    1344.000000      1580.000000  "
      ]
     },
     "execution_count": 46,
     "metadata": {},
     "output_type": "execute_result"
    }
   ],
   "source": [
    "data.reset_index(drop=True)\n",
    "data.describe()"
   ]
  },
  {
   "cell_type": "markdown",
   "id": "7ef3b15c",
   "metadata": {},
   "source": [
    "#### 2.4.1 Столбцы ceiling_height"
   ]
  },
  {
   "cell_type": "code",
   "execution_count": 47,
   "id": "fe163b7a",
   "metadata": {},
   "outputs": [
    {
     "data": {
      "text/plain": [
       "2.50    3515\n",
       "2.60    3283\n",
       "2.55    2843\n",
       "2.56    2283\n",
       "2.90    2119\n",
       "        ... \n",
       "5.00       1\n",
       "2.20       1\n",
       "4.15       1\n",
       "3.93       1\n",
       "3.59       1\n",
       "Name: ceiling_height, Length: 183, dtype: int64"
      ]
     },
     "execution_count": 47,
     "metadata": {},
     "output_type": "execute_result"
    },
    {
     "data": {
      "image/png": "[encoded data removed]",
      "text/plain": [
       "<Figure size 432x288 with 1 Axes>"
      ]
     },
     "metadata": {
      "needs_background": "light"
     },
     "output_type": "display_data"
    }
   ],
   "source": [
    "data['ceiling_height'].hist(bins=100, range=(0, 10))\n",
    "data['ceiling_height'].value_counts()"
   ]
  },
  {
   "cell_type": "markdown",
   "id": "953ffa02",
   "metadata": {},
   "source": [
    "Абсолютное большинство значений находится в диапазоне 2-4 метра, но минимальная высота потолков 1, а максимальная 100 м ? Здесь явно есть выбросы. Скорее всего здесь ошибка при вводе. Все что выше 10м будем делить на 10, предполагая что это ошибка записи десятичной дроби"
   ]
  },
  {
   "cell_type": "code",
   "execution_count": 48,
   "id": "9537f48e",
   "metadata": {},
   "outputs": [],
   "source": [
    "def ceiling_height_division(cealing_hight: float) -> float:\n",
    "        if cealing_hight > 10:\n",
    "            cealing_hight =cealing_hight / 10\n",
    "        return cealing_hight \n",
    "            \n",
    "data['ceiling_height'] = data['ceiling_height'].apply(ceiling_height_division)"
   ]
  },
  {
   "cell_type": "markdown",
   "id": "089ef704",
   "metadata": {},
   "source": [
    "Отбросим все потолки меньше 2м. Их всего 5 штук"
   ]
  },
  {
   "cell_type": "code",
   "execution_count": 49,
   "id": "ce45ee6e",
   "metadata": {},
   "outputs": [
    {
     "data": {
      "text/plain": [
       "count    23548.000000\n",
       "mean         2.700278\n",
       "std          0.250423\n",
       "min          2.200000\n",
       "25%          2.550000\n",
       "50%          2.600000\n",
       "75%          2.800000\n",
       "max         10.000000\n",
       "Name: ceiling_height, dtype: float64"
      ]
     },
     "execution_count": 49,
     "metadata": {},
     "output_type": "execute_result"
    }
   ],
   "source": [
    "data = data[data['ceiling_height'] > 2]\n",
    "data.ceiling_height.describe()"
   ]
  },
  {
   "cell_type": "code",
   "execution_count": 50,
   "id": "da379645",
   "metadata": {},
   "outputs": [
    {
     "name": "stdout",
     "output_type": "stream",
     "text": [
      "<class 'pandas.core.frame.DataFrame'>\n",
      "Int64Index: 23548 entries, 0 to 23564\n",
      "Data columns (total 23 columns):\n",
      " #   Column                Non-Null Count  Dtype         \n",
      "---  ------                --------------  -----         \n",
      " 0   total_images          23548 non-null  int64         \n",
      " 1   last_price            23548 non-null  float64       \n",
      " 2   total_area            23548 non-null  float64       \n",
      " 3   first_day_exposition  23548 non-null  datetime64[ns]\n",
      " 4   rooms                 23548 non-null  int64         \n",
      " 5   ceiling_height        23548 non-null  float64       \n",
      " 6   floors_total          23548 non-null  int32         \n",
      " 7   living_area           23548 non-null  float64       \n",
      " 8   floor                 23548 non-null  int64         \n",
      " 9   is_apartment          23548 non-null  bool          \n",
      " 10  studio                23548 non-null  bool          \n",
      " 11  open_plan             23548 non-null  bool          \n",
      " 12  kitchen_area          23548 non-null  float64       \n",
      " 13  balcony               23548 non-null  int32         \n",
      " 14  locality_name         23548 non-null  object        \n",
      " 15  airports_nearest      18033 non-null  float64       \n",
      " 16  city_centers_nearest  23548 non-null  float64       \n",
      " 17  parks_around3000      23548 non-null  int32         \n",
      " 18  parks_nearest         8025 non-null   float64       \n",
      " 19  ponds_around3000      23548 non-null  int32         \n",
      " 20  ponds_nearest         9031 non-null   float64       \n",
      " 21  days_exposition       23548 non-null  int32         \n",
      " 22  last_price_category   23548 non-null  object        \n",
      "dtypes: bool(3), datetime64[ns](1), float64(9), int32(5), int64(3), object(2)\n",
      "memory usage: 3.4+ MB\n"
     ]
    }
   ],
   "source": [
    "data.info()"
   ]
  },
  {
   "cell_type": "markdown",
   "id": "fc1662e5",
   "metadata": {},
   "source": [
    "#### 2.4.2 Столбец floors_total"
   ]
  },
  {
   "cell_type": "markdown",
   "id": "c37f5f5c",
   "metadata": {},
   "source": [
    "Максимальный этаж 33, а всего этажей 60 ? Здесь явно выброс"
   ]
  },
  {
   "cell_type": "code",
   "execution_count": 51,
   "id": "a3d2b6ff",
   "metadata": {},
   "outputs": [
    {
     "data": {
      "text/plain": [
       "30"
      ]
     },
     "execution_count": 51,
     "metadata": {},
     "output_type": "execute_result"
    },
    {
     "data": {
      "image/png": "[encoded data removed]",
      "text/plain": [
       "<Figure size 432x288 with 1 Axes>"
      ]
     },
     "metadata": {
      "needs_background": "light"
     },
     "output_type": "display_data"
    }
   ],
   "source": [
    "data['floors_total'].hist(bins=100, range=(0, 60))\n",
    "data['floor'].hist(bins=100, range=(0, 60))\n",
    "data[data['floors_total'] > 33].floors_total.count()"
   ]
  },
  {
   "cell_type": "markdown",
   "id": "21a03a5e",
   "metadata": {},
   "source": [
    "Всего 30 значений. Ими явно можно пренебречь"
   ]
  },
  {
   "cell_type": "code",
   "execution_count": 52,
   "id": "b837f2ff",
   "metadata": {},
   "outputs": [],
   "source": [
    "data = data[data['floors_total'] < 34]"
   ]
  },
  {
   "cell_type": "code",
   "execution_count": 53,
   "id": "ed76151c",
   "metadata": {},
   "outputs": [
    {
     "name": "stdout",
     "output_type": "stream",
     "text": [
      "<class 'pandas.core.frame.DataFrame'>\n",
      "Int64Index: 23518 entries, 0 to 23564\n",
      "Data columns (total 23 columns):\n",
      " #   Column                Non-Null Count  Dtype         \n",
      "---  ------                --------------  -----         \n",
      " 0   total_images          23518 non-null  int64         \n",
      " 1   last_price            23518 non-null  float64       \n",
      " 2   total_area            23518 non-null  float64       \n",
      " 3   first_day_exposition  23518 non-null  datetime64[ns]\n",
      " 4   rooms                 23518 non-null  int64         \n",
      " 5   ceiling_height        23518 non-null  float64       \n",
      " 6   floors_total          23518 non-null  int32         \n",
      " 7   living_area           23518 non-null  float64       \n",
      " 8   floor                 23518 non-null  int64         \n",
      " 9   is_apartment          23518 non-null  bool          \n",
      " 10  studio                23518 non-null  bool          \n",
      " 11  open_plan             23518 non-null  bool          \n",
      " 12  kitchen_area          23518 non-null  float64       \n",
      " 13  balcony               23518 non-null  int32         \n",
      " 14  locality_name         23518 non-null  object        \n",
      " 15  airports_nearest      18003 non-null  float64       \n",
      " 16  city_centers_nearest  23518 non-null  float64       \n",
      " 17  parks_around3000      23518 non-null  int32         \n",
      " 18  parks_nearest         8021 non-null   float64       \n",
      " 19  ponds_around3000      23518 non-null  int32         \n",
      " 20  ponds_nearest         9002 non-null   float64       \n",
      " 21  days_exposition       23518 non-null  int32         \n",
      " 22  last_price_category   23518 non-null  object        \n",
      "dtypes: bool(3), datetime64[ns](1), float64(9), int32(5), int64(3), object(2)\n",
      "memory usage: 3.4+ MB\n"
     ]
    }
   ],
   "source": [
    "data.info()"
   ]
  },
  {
   "cell_type": "markdown",
   "id": "ac74a910",
   "metadata": {},
   "source": [
    "#### 2.4.3 Столбцы kitchen_area и living_area"
   ]
  },
  {
   "cell_type": "markdown",
   "id": "2e9e1df9",
   "metadata": {},
   "source": [
    "Жил площадь 0 - это явно выброс"
   ]
  },
  {
   "cell_type": "code",
   "execution_count": 54,
   "id": "d137ef85",
   "metadata": {},
   "outputs": [
    {
     "data": {
      "text/plain": [
       "<AxesSubplot:>"
      ]
     },
     "execution_count": 54,
     "metadata": {},
     "output_type": "execute_result"
    },
    {
     "data": {
      "image/png": "[encoded data removed]",
      "text/plain": [
       "<Figure size 432x288 with 1 Axes>"
      ]
     },
     "metadata": {
      "needs_background": "light"
     },
     "output_type": "display_data"
    }
   ],
   "source": [
    "data['living_area'].hist(bins=100, range=(0, 60))"
   ]
  },
  {
   "cell_type": "code",
   "execution_count": 55,
   "id": "f9976d92",
   "metadata": {},
   "outputs": [
    {
     "data": {
      "text/plain": [
       "<AxesSubplot:>"
      ]
     },
     "execution_count": 55,
     "metadata": {},
     "output_type": "execute_result"
    },
    {
     "data": {
      "image/png": "[encoded data removed]",
      "text/plain": [
       "<Figure size 432x288 with 1 Axes>"
      ]
     },
     "metadata": {
      "needs_background": "light"
     },
     "output_type": "display_data"
    }
   ],
   "source": [
    "data['living_area'].hist(bins=100, range=(0, 900))"
   ]
  },
  {
   "cell_type": "markdown",
   "id": "ba5e65a6",
   "metadata": {},
   "source": [
    "Уберем объявления меньше 9 квадрат и больше 400"
   ]
  },
  {
   "cell_type": "code",
   "execution_count": 56,
   "id": "984bc8f9",
   "metadata": {},
   "outputs": [
    {
     "data": {
      "text/plain": [
       "count    23010.000000\n",
       "mean        33.772206\n",
       "std         22.446596\n",
       "min          9.100000\n",
       "25%         18.000000\n",
       "50%         30.000000\n",
       "75%         42.000000\n",
       "max        371.000000\n",
       "Name: living_area, dtype: float64"
      ]
     },
     "execution_count": 56,
     "metadata": {},
     "output_type": "execute_result"
    }
   ],
   "source": [
    "data = data[(data['living_area'] > 9) & (data['living_area'] < 400)]\n",
    "data.living_area.describe()"
   ]
  },
  {
   "cell_type": "markdown",
   "id": "618f837a",
   "metadata": {},
   "source": [
    "Аналогично в kitchen_area"
   ]
  },
  {
   "cell_type": "markdown",
   "id": "415d434c",
   "metadata": {},
   "source": [
    "уберем значения >50 м2 и от 1 до 4 "
   ]
  },
  {
   "cell_type": "code",
   "execution_count": 57,
   "id": "c038b239",
   "metadata": {},
   "outputs": [
    {
     "data": {
      "text/plain": [
       "177"
      ]
     },
     "execution_count": 57,
     "metadata": {},
     "output_type": "execute_result"
    },
    {
     "data": {
      "image/png": "[encoded data removed]",
      "text/plain": [
       "<Figure size 432x288 with 1 Axes>"
      ]
     },
     "metadata": {
      "needs_background": "light"
     },
     "output_type": "display_data"
    }
   ],
   "source": [
    "data['kitchen_area'].hist(bins=100, range=(0, 60))\n",
    "data[data['kitchen_area'] > 50].kitchen_area.count()"
   ]
  },
  {
   "cell_type": "code",
   "execution_count": 58,
   "id": "45657c34",
   "metadata": {},
   "outputs": [
    {
     "data": {
      "text/plain": [
       "<AxesSubplot:>"
      ]
     },
     "execution_count": 58,
     "metadata": {},
     "output_type": "execute_result"
    },
    {
     "data": {
      "image/png": "[encoded data removed]",
      "text/plain": [
       "<Figure size 432x288 with 1 Axes>"
      ]
     },
     "metadata": {
      "needs_background": "light"
     },
     "output_type": "display_data"
    }
   ],
   "source": [
    "data = data[data['kitchen_area'] < 60]\n",
    "data = data[(data['kitchen_area'] > 4) | (data['kitchen_area'] == 0)]\n",
    "data['kitchen_area'].hist(bins=100, range=(0, 60))"
   ]
  },
  {
   "cell_type": "code",
   "execution_count": 59,
   "id": "18ddd7c9",
   "metadata": {},
   "outputs": [
    {
     "name": "stdout",
     "output_type": "stream",
     "text": [
      "<class 'pandas.core.frame.DataFrame'>\n",
      "Int64Index: 22792 entries, 0 to 23564\n",
      "Data columns (total 23 columns):\n",
      " #   Column                Non-Null Count  Dtype         \n",
      "---  ------                --------------  -----         \n",
      " 0   total_images          22792 non-null  int64         \n",
      " 1   last_price            22792 non-null  float64       \n",
      " 2   total_area            22792 non-null  float64       \n",
      " 3   first_day_exposition  22792 non-null  datetime64[ns]\n",
      " 4   rooms                 22792 non-null  int64         \n",
      " 5   ceiling_height        22792 non-null  float64       \n",
      " 6   floors_total          22792 non-null  int32         \n",
      " 7   living_area           22792 non-null  float64       \n",
      " 8   floor                 22792 non-null  int64         \n",
      " 9   is_apartment          22792 non-null  bool          \n",
      " 10  studio                22792 non-null  bool          \n",
      " 11  open_plan             22792 non-null  bool          \n",
      " 12  kitchen_area          22792 non-null  float64       \n",
      " 13  balcony               22792 non-null  int32         \n",
      " 14  locality_name         22792 non-null  object        \n",
      " 15  airports_nearest      17501 non-null  float64       \n",
      " 16  city_centers_nearest  22792 non-null  float64       \n",
      " 17  parks_around3000      22792 non-null  int32         \n",
      " 18  parks_nearest         7771 non-null   float64       \n",
      " 19  ponds_around3000      22792 non-null  int32         \n",
      " 20  ponds_nearest         8717 non-null   float64       \n",
      " 21  days_exposition       22792 non-null  int32         \n",
      " 22  last_price_category   22792 non-null  object        \n",
      "dtypes: bool(3), datetime64[ns](1), float64(9), int32(5), int64(3), object(2)\n",
      "memory usage: 3.3+ MB\n"
     ]
    }
   ],
   "source": [
    "data.info()"
   ]
  },
  {
   "cell_type": "markdown",
   "id": "214d4065",
   "metadata": {},
   "source": [
    "#### 2.4.4 Столбец days_exposition"
   ]
  },
  {
   "cell_type": "markdown",
   "id": "8fe00a5b",
   "metadata": {},
   "source": [
    "Конечно возможно, что объявление висело 1580, но в основном столько они не висят"
   ]
  },
  {
   "cell_type": "code",
   "execution_count": 60,
   "id": "4326f52e",
   "metadata": {},
   "outputs": [
    {
     "data": {
      "text/plain": [
       "<AxesSubplot:>"
      ]
     },
     "execution_count": 60,
     "metadata": {},
     "output_type": "execute_result"
    },
    {
     "data": {
      "image/png": "[encoded data removed]",
      "text/plain": [
       "<Figure size 432x288 with 1 Axes>"
      ]
     },
     "metadata": {
      "needs_background": "light"
     },
     "output_type": "display_data"
    }
   ],
   "source": [
    "data['days_exposition'].hist(bins=300, range=(0, 360))"
   ]
  },
  {
   "cell_type": "markdown",
   "id": "b73e0013",
   "metadata": {},
   "source": [
    "Ограничимся 2 годами"
   ]
  },
  {
   "cell_type": "code",
   "execution_count": 61,
   "id": "dda72926",
   "metadata": {},
   "outputs": [
    {
     "data": {
      "text/plain": [
       "total_images            268\n",
       "last_price              268\n",
       "total_area              268\n",
       "first_day_exposition    268\n",
       "rooms                   268\n",
       "ceiling_height          268\n",
       "floors_total            268\n",
       "living_area             268\n",
       "floor                   268\n",
       "is_apartment            268\n",
       "studio                  268\n",
       "open_plan               268\n",
       "kitchen_area            268\n",
       "balcony                 268\n",
       "locality_name           268\n",
       "airports_nearest        225\n",
       "city_centers_nearest    268\n",
       "parks_around3000        268\n",
       "parks_nearest           115\n",
       "ponds_around3000        268\n",
       "ponds_nearest           143\n",
       "days_exposition         268\n",
       "last_price_category     268\n",
       "dtype: int64"
      ]
     },
     "execution_count": 61,
     "metadata": {},
     "output_type": "execute_result"
    }
   ],
   "source": [
    "data[data['days_exposition'] > 1000].count()"
   ]
  },
  {
   "cell_type": "code",
   "execution_count": 62,
   "id": "46393462",
   "metadata": {},
   "outputs": [],
   "source": [
    "data = data[data['days_exposition'] < 1000]"
   ]
  },
  {
   "cell_type": "markdown",
   "id": "ea0955e7",
   "metadata": {},
   "source": [
    "Так же очень врядли объекты недвижимости продавались за 1 день. Уберем значения меньше 5 дней"
   ]
  },
  {
   "cell_type": "code",
   "execution_count": 63,
   "id": "c8e212d6",
   "metadata": {},
   "outputs": [],
   "source": [
    "data = data[data['days_exposition'] > 7]"
   ]
  },
  {
   "cell_type": "code",
   "execution_count": 64,
   "id": "13714152",
   "metadata": {},
   "outputs": [
    {
     "name": "stdout",
     "output_type": "stream",
     "text": [
      "<class 'pandas.core.frame.DataFrame'>\n",
      "Int64Index: 18598 entries, 1 to 23561\n",
      "Data columns (total 23 columns):\n",
      " #   Column                Non-Null Count  Dtype         \n",
      "---  ------                --------------  -----         \n",
      " 0   total_images          18598 non-null  int64         \n",
      " 1   last_price            18598 non-null  float64       \n",
      " 2   total_area            18598 non-null  float64       \n",
      " 3   first_day_exposition  18598 non-null  datetime64[ns]\n",
      " 4   rooms                 18598 non-null  int64         \n",
      " 5   ceiling_height        18598 non-null  float64       \n",
      " 6   floors_total          18598 non-null  int32         \n",
      " 7   living_area           18598 non-null  float64       \n",
      " 8   floor                 18598 non-null  int64         \n",
      " 9   is_apartment          18598 non-null  bool          \n",
      " 10  studio                18598 non-null  bool          \n",
      " 11  open_plan             18598 non-null  bool          \n",
      " 12  kitchen_area          18598 non-null  float64       \n",
      " 13  balcony               18598 non-null  int32         \n",
      " 14  locality_name         18598 non-null  object        \n",
      " 15  airports_nearest      14365 non-null  float64       \n",
      " 16  city_centers_nearest  18598 non-null  float64       \n",
      " 17  parks_around3000      18598 non-null  int32         \n",
      " 18  parks_nearest         6285 non-null   float64       \n",
      " 19  ponds_around3000      18598 non-null  int32         \n",
      " 20  ponds_nearest         7117 non-null   float64       \n",
      " 21  days_exposition       18598 non-null  int32         \n",
      " 22  last_price_category   18598 non-null  object        \n",
      "dtypes: bool(3), datetime64[ns](1), float64(9), int32(5), int64(3), object(2)\n",
      "memory usage: 2.7+ MB\n"
     ]
    }
   ],
   "source": [
    "data.info()"
   ]
  },
  {
   "cell_type": "markdown",
   "id": "2622c985",
   "metadata": {},
   "source": [
    "#### 2.4.5 Столбец last_price"
   ]
  },
  {
   "cell_type": "code",
   "execution_count": 65,
   "id": "c35c9580",
   "metadata": {},
   "outputs": [
    {
     "data": {
      "text/plain": [
       "<AxesSubplot:>"
      ]
     },
     "execution_count": 65,
     "metadata": {},
     "output_type": "execute_result"
    },
    {
     "data": {
      "image/png": "[encoded data removed]",
      "text/plain": [
       "<Figure size 432x288 with 1 Axes>"
      ]
     },
     "metadata": {
      "needs_background": "light"
     },
     "output_type": "display_data"
    }
   ],
   "source": [
    "data['last_price'].hist(bins=3000, range=(0,0.2e+08 ))"
   ]
  },
  {
   "cell_type": "markdown",
   "id": "30ef6b05",
   "metadata": {},
   "source": [
    "Скорее всего цены меньше 1 млн являются выбросами"
   ]
  },
  {
   "cell_type": "code",
   "execution_count": 66,
   "id": "f42fb534",
   "metadata": {},
   "outputs": [],
   "source": [
    "data = data[data['last_price']> 0.1e06]"
   ]
  },
  {
   "cell_type": "code",
   "execution_count": 67,
   "id": "91effa8d",
   "metadata": {},
   "outputs": [
    {
     "name": "stdout",
     "output_type": "stream",
     "text": [
      "<class 'pandas.core.frame.DataFrame'>\n",
      "Int64Index: 18597 entries, 1 to 23561\n",
      "Data columns (total 23 columns):\n",
      " #   Column                Non-Null Count  Dtype         \n",
      "---  ------                --------------  -----         \n",
      " 0   total_images          18597 non-null  int64         \n",
      " 1   last_price            18597 non-null  float64       \n",
      " 2   total_area            18597 non-null  float64       \n",
      " 3   first_day_exposition  18597 non-null  datetime64[ns]\n",
      " 4   rooms                 18597 non-null  int64         \n",
      " 5   ceiling_height        18597 non-null  float64       \n",
      " 6   floors_total          18597 non-null  int32         \n",
      " 7   living_area           18597 non-null  float64       \n",
      " 8   floor                 18597 non-null  int64         \n",
      " 9   is_apartment          18597 non-null  bool          \n",
      " 10  studio                18597 non-null  bool          \n",
      " 11  open_plan             18597 non-null  bool          \n",
      " 12  kitchen_area          18597 non-null  float64       \n",
      " 13  balcony               18597 non-null  int32         \n",
      " 14  locality_name         18597 non-null  object        \n",
      " 15  airports_nearest      14364 non-null  float64       \n",
      " 16  city_centers_nearest  18597 non-null  float64       \n",
      " 17  parks_around3000      18597 non-null  int32         \n",
      " 18  parks_nearest         6284 non-null   float64       \n",
      " 19  ponds_around3000      18597 non-null  int32         \n",
      " 20  ponds_nearest         7117 non-null   float64       \n",
      " 21  days_exposition       18597 non-null  int32         \n",
      " 22  last_price_category   18597 non-null  object        \n",
      "dtypes: bool(3), datetime64[ns](1), float64(9), int32(5), int64(3), object(2)\n",
      "memory usage: 2.7+ MB\n"
     ]
    }
   ],
   "source": [
    "data.info()"
   ]
  },
  {
   "cell_type": "code",
   "execution_count": null,
   "id": "aac9bbe0",
   "metadata": {},
   "outputs": [],
   "source": []
  },
  {
   "cell_type": "markdown",
   "id": "be3e4b0b",
   "metadata": {},
   "source": [
    "В остальных столбцах видимых выбросов нет. Значения в пределах логически обоснованых. Сбросим индексы после обработки"
   ]
  },
  {
   "cell_type": "code",
   "execution_count": 68,
   "id": "f2ad301b",
   "metadata": {},
   "outputs": [],
   "source": [
    "data = data.reset_index(drop = True)"
   ]
  },
  {
   "cell_type": "code",
   "execution_count": 69,
   "id": "0bc4cb65",
   "metadata": {},
   "outputs": [
    {
     "name": "stdout",
     "output_type": "stream",
     "text": [
      "<class 'pandas.core.frame.DataFrame'>\n",
      "RangeIndex: 18597 entries, 0 to 18596\n",
      "Data columns (total 23 columns):\n",
      " #   Column                Non-Null Count  Dtype         \n",
      "---  ------                --------------  -----         \n",
      " 0   total_images          18597 non-null  int64         \n",
      " 1   last_price            18597 non-null  float64       \n",
      " 2   total_area            18597 non-null  float64       \n",
      " 3   first_day_exposition  18597 non-null  datetime64[ns]\n",
      " 4   rooms                 18597 non-null  int64         \n",
      " 5   ceiling_height        18597 non-null  float64       \n",
      " 6   floors_total          18597 non-null  int32         \n",
      " 7   living_area           18597 non-null  float64       \n",
      " 8   floor                 18597 non-null  int64         \n",
      " 9   is_apartment          18597 non-null  bool          \n",
      " 10  studio                18597 non-null  bool          \n",
      " 11  open_plan             18597 non-null  bool          \n",
      " 12  kitchen_area          18597 non-null  float64       \n",
      " 13  balcony               18597 non-null  int32         \n",
      " 14  locality_name         18597 non-null  object        \n",
      " 15  airports_nearest      14364 non-null  float64       \n",
      " 16  city_centers_nearest  18597 non-null  float64       \n",
      " 17  parks_around3000      18597 non-null  int32         \n",
      " 18  parks_nearest         6284 non-null   float64       \n",
      " 19  ponds_around3000      18597 non-null  int32         \n",
      " 20  ponds_nearest         7117 non-null   float64       \n",
      " 21  days_exposition       18597 non-null  int32         \n",
      " 22  last_price_category   18597 non-null  object        \n",
      "dtypes: bool(3), datetime64[ns](1), float64(9), int32(5), int64(3), object(2)\n",
      "memory usage: 2.5+ MB\n"
     ]
    }
   ],
   "source": [
    "data.info()"
   ]
  },
  {
   "cell_type": "markdown",
   "id": "1e99411d",
   "metadata": {},
   "source": [
    "## Шаг 3. Добавление столбцов"
   ]
  },
  {
   "cell_type": "markdown",
   "id": "5870d30a",
   "metadata": {},
   "source": [
    "Добавим цену за м2"
   ]
  },
  {
   "cell_type": "code",
   "execution_count": 70,
   "id": "98d60259",
   "metadata": {},
   "outputs": [],
   "source": [
    "data['square_meter_price'] =  data['last_price'] / data['total_area']"
   ]
  },
  {
   "cell_type": "markdown",
   "id": "6af17f01",
   "metadata": {},
   "source": [
    "Добавим день публикации"
   ]
  },
  {
   "cell_type": "code",
   "execution_count": 71,
   "id": "c001e6ff",
   "metadata": {},
   "outputs": [],
   "source": [
    "def week_day(time) -> int:\n",
    "    return time.weekday()\n",
    "data['week_day_exposition'] = data['first_day_exposition'].apply(week_day)"
   ]
  },
  {
   "cell_type": "markdown",
   "id": "8f3db140",
   "metadata": {},
   "source": [
    "Добавим месяц публикации"
   ]
  },
  {
   "cell_type": "code",
   "execution_count": 72,
   "id": "b597997c",
   "metadata": {},
   "outputs": [],
   "source": [
    "data['month_exposition'] = data['first_day_exposition'].dt.month"
   ]
  },
  {
   "cell_type": "markdown",
   "id": "82809084",
   "metadata": {},
   "source": [
    "Добавим год публикации"
   ]
  },
  {
   "cell_type": "code",
   "execution_count": 73,
   "id": "804707e6",
   "metadata": {},
   "outputs": [],
   "source": [
    "data['year_exposition'] = data['first_day_exposition'].dt.year"
   ]
  },
  {
   "cell_type": "markdown",
   "id": "85fc8207",
   "metadata": {},
   "source": [
    "Добавим тип этажа публикации"
   ]
  },
  {
   "cell_type": "code",
   "execution_count": 74,
   "id": "31613698",
   "metadata": {},
   "outputs": [],
   "source": [
    "i = 0\n",
    "while i < data.floor.count():\n",
    "    if data.loc[i,'floor'] == 1:\n",
    "        data.loc[i, 'floor_type'] = 'first'\n",
    "    elif data.loc[i,'floor'] == data.loc[i,'floors_total']:\n",
    "        data.loc[i, 'floor_type'] = 'last'\n",
    "    else:\n",
    "        data.loc[i, 'floor_type'] = 'else'\n",
    "    i +=1"
   ]
  },
  {
   "cell_type": "markdown",
   "id": "1ed3c823",
   "metadata": {},
   "source": [
    "Добавим расстояние в км до центра города"
   ]
  },
  {
   "cell_type": "code",
   "execution_count": 75,
   "id": "704b6997",
   "metadata": {},
   "outputs": [],
   "source": [
    "data['city_centers_nearest_km'] =  data['city_centers_nearest']/1000\n",
    "data['city_centers_nearest_km'] = data['city_centers_nearest_km'].apply(round)"
   ]
  },
  {
   "cell_type": "markdown",
   "id": "ed317765",
   "metadata": {},
   "source": [
    "**Результат:**"
   ]
  },
  {
   "cell_type": "code",
   "execution_count": 76,
   "id": "3ff5d3ca",
   "metadata": {},
   "outputs": [
    {
     "data": {
      "text/html": [
       "<div>\n",
       "<style scoped>\n",
       "    .dataframe tbody tr th:only-of-type {\n",
       "        vertical-align: middle;\n",
       "    }\n",
       "\n",
       "    .dataframe tbody tr th {\n",
       "        vertical-align: top;\n",
       "    }\n",
       "\n",
       "    .dataframe thead th {\n",
       "        text-align: right;\n",
       "    }\n",
       "</style>\n",
       "<table border=\"1\" class=\"dataframe\">\n",
       "  <thead>\n",
       "    <tr style=\"text-align: right;\">\n",
       "      <th></th>\n",
       "      <th>total_images</th>\n",
       "      <th>last_price</th>\n",
       "      <th>total_area</th>\n",
       "      <th>first_day_exposition</th>\n",
       "      <th>rooms</th>\n",
       "      <th>ceiling_height</th>\n",
       "      <th>floors_total</th>\n",
       "      <th>living_area</th>\n",
       "      <th>floor</th>\n",
       "      <th>is_apartment</th>\n",
       "      <th>...</th>\n",
       "      <th>ponds_around3000</th>\n",
       "      <th>ponds_nearest</th>\n",
       "      <th>days_exposition</th>\n",
       "      <th>last_price_category</th>\n",
       "      <th>square_meter_price</th>\n",
       "      <th>week_day_exposition</th>\n",
       "      <th>month_exposition</th>\n",
       "      <th>year_exposition</th>\n",
       "      <th>floor_type</th>\n",
       "      <th>city_centers_nearest_km</th>\n",
       "    </tr>\n",
       "  </thead>\n",
       "  <tbody>\n",
       "    <tr>\n",
       "      <th>6354</th>\n",
       "      <td>10</td>\n",
       "      <td>9350000.0</td>\n",
       "      <td>98.9</td>\n",
       "      <td>2016-04-13</td>\n",
       "      <td>4</td>\n",
       "      <td>2.90</td>\n",
       "      <td>4</td>\n",
       "      <td>72.7</td>\n",
       "      <td>2</td>\n",
       "      <td>False</td>\n",
       "      <td>...</td>\n",
       "      <td>3</td>\n",
       "      <td>103.0</td>\n",
       "      <td>420</td>\n",
       "      <td>А</td>\n",
       "      <td>94539.939333</td>\n",
       "      <td>2</td>\n",
       "      <td>4</td>\n",
       "      <td>2016</td>\n",
       "      <td>else</td>\n",
       "      <td>1</td>\n",
       "    </tr>\n",
       "    <tr>\n",
       "      <th>8733</th>\n",
       "      <td>9</td>\n",
       "      <td>4700000.0</td>\n",
       "      <td>34.7</td>\n",
       "      <td>2018-10-30</td>\n",
       "      <td>1</td>\n",
       "      <td>2.50</td>\n",
       "      <td>16</td>\n",
       "      <td>17.4</td>\n",
       "      <td>2</td>\n",
       "      <td>False</td>\n",
       "      <td>...</td>\n",
       "      <td>0</td>\n",
       "      <td>NaN</td>\n",
       "      <td>29</td>\n",
       "      <td>C</td>\n",
       "      <td>135446.685879</td>\n",
       "      <td>1</td>\n",
       "      <td>10</td>\n",
       "      <td>2018</td>\n",
       "      <td>else</td>\n",
       "      <td>15</td>\n",
       "    </tr>\n",
       "    <tr>\n",
       "      <th>16387</th>\n",
       "      <td>17</td>\n",
       "      <td>3088000.0</td>\n",
       "      <td>30.0</td>\n",
       "      <td>2018-03-11</td>\n",
       "      <td>1</td>\n",
       "      <td>2.70</td>\n",
       "      <td>23</td>\n",
       "      <td>9.1</td>\n",
       "      <td>23</td>\n",
       "      <td>False</td>\n",
       "      <td>...</td>\n",
       "      <td>1</td>\n",
       "      <td>390.0</td>\n",
       "      <td>8</td>\n",
       "      <td>D</td>\n",
       "      <td>102933.333333</td>\n",
       "      <td>6</td>\n",
       "      <td>3</td>\n",
       "      <td>2018</td>\n",
       "      <td>last</td>\n",
       "      <td>18</td>\n",
       "    </tr>\n",
       "    <tr>\n",
       "      <th>4352</th>\n",
       "      <td>16</td>\n",
       "      <td>8800000.0</td>\n",
       "      <td>78.1</td>\n",
       "      <td>2017-11-30</td>\n",
       "      <td>3</td>\n",
       "      <td>3.00</td>\n",
       "      <td>17</td>\n",
       "      <td>47.8</td>\n",
       "      <td>2</td>\n",
       "      <td>False</td>\n",
       "      <td>...</td>\n",
       "      <td>0</td>\n",
       "      <td>NaN</td>\n",
       "      <td>130</td>\n",
       "      <td>А</td>\n",
       "      <td>112676.056338</td>\n",
       "      <td>3</td>\n",
       "      <td>11</td>\n",
       "      <td>2017</td>\n",
       "      <td>else</td>\n",
       "      <td>11</td>\n",
       "    </tr>\n",
       "    <tr>\n",
       "      <th>11689</th>\n",
       "      <td>7</td>\n",
       "      <td>2950000.0</td>\n",
       "      <td>39.7</td>\n",
       "      <td>2016-04-29</td>\n",
       "      <td>1</td>\n",
       "      <td>2.55</td>\n",
       "      <td>3</td>\n",
       "      <td>20.8</td>\n",
       "      <td>3</td>\n",
       "      <td>False</td>\n",
       "      <td>...</td>\n",
       "      <td>1</td>\n",
       "      <td>781.0</td>\n",
       "      <td>333</td>\n",
       "      <td>E</td>\n",
       "      <td>74307.304786</td>\n",
       "      <td>4</td>\n",
       "      <td>4</td>\n",
       "      <td>2016</td>\n",
       "      <td>last</td>\n",
       "      <td>17</td>\n",
       "    </tr>\n",
       "    <tr>\n",
       "      <th>15697</th>\n",
       "      <td>9</td>\n",
       "      <td>3650000.0</td>\n",
       "      <td>40.0</td>\n",
       "      <td>2018-10-04</td>\n",
       "      <td>1</td>\n",
       "      <td>2.50</td>\n",
       "      <td>18</td>\n",
       "      <td>19.4</td>\n",
       "      <td>12</td>\n",
       "      <td>False</td>\n",
       "      <td>...</td>\n",
       "      <td>1</td>\n",
       "      <td>487.0</td>\n",
       "      <td>47</td>\n",
       "      <td>D</td>\n",
       "      <td>91250.000000</td>\n",
       "      <td>3</td>\n",
       "      <td>10</td>\n",
       "      <td>2018</td>\n",
       "      <td>else</td>\n",
       "      <td>22</td>\n",
       "    </tr>\n",
       "    <tr>\n",
       "      <th>17085</th>\n",
       "      <td>13</td>\n",
       "      <td>4000000.0</td>\n",
       "      <td>58.2</td>\n",
       "      <td>2017-11-01</td>\n",
       "      <td>3</td>\n",
       "      <td>2.60</td>\n",
       "      <td>9</td>\n",
       "      <td>37.2</td>\n",
       "      <td>2</td>\n",
       "      <td>False</td>\n",
       "      <td>...</td>\n",
       "      <td>0</td>\n",
       "      <td>NaN</td>\n",
       "      <td>113</td>\n",
       "      <td>D</td>\n",
       "      <td>68728.522337</td>\n",
       "      <td>2</td>\n",
       "      <td>11</td>\n",
       "      <td>2017</td>\n",
       "      <td>else</td>\n",
       "      <td>15</td>\n",
       "    </tr>\n",
       "    <tr>\n",
       "      <th>10282</th>\n",
       "      <td>12</td>\n",
       "      <td>3400000.0</td>\n",
       "      <td>29.0</td>\n",
       "      <td>2017-06-13</td>\n",
       "      <td>1</td>\n",
       "      <td>2.55</td>\n",
       "      <td>9</td>\n",
       "      <td>9.1</td>\n",
       "      <td>9</td>\n",
       "      <td>False</td>\n",
       "      <td>...</td>\n",
       "      <td>1</td>\n",
       "      <td>783.0</td>\n",
       "      <td>285</td>\n",
       "      <td>D</td>\n",
       "      <td>117241.379310</td>\n",
       "      <td>1</td>\n",
       "      <td>6</td>\n",
       "      <td>2017</td>\n",
       "      <td>last</td>\n",
       "      <td>10</td>\n",
       "    </tr>\n",
       "    <tr>\n",
       "      <th>2637</th>\n",
       "      <td>20</td>\n",
       "      <td>1350000.0</td>\n",
       "      <td>40.0</td>\n",
       "      <td>2018-07-10</td>\n",
       "      <td>1</td>\n",
       "      <td>2.60</td>\n",
       "      <td>4</td>\n",
       "      <td>20.0</td>\n",
       "      <td>1</td>\n",
       "      <td>False</td>\n",
       "      <td>...</td>\n",
       "      <td>0</td>\n",
       "      <td>NaN</td>\n",
       "      <td>67</td>\n",
       "      <td>E</td>\n",
       "      <td>33750.000000</td>\n",
       "      <td>1</td>\n",
       "      <td>7</td>\n",
       "      <td>2018</td>\n",
       "      <td>first</td>\n",
       "      <td>20</td>\n",
       "    </tr>\n",
       "    <tr>\n",
       "      <th>3106</th>\n",
       "      <td>6</td>\n",
       "      <td>4090000.0</td>\n",
       "      <td>34.9</td>\n",
       "      <td>2016-06-16</td>\n",
       "      <td>1</td>\n",
       "      <td>2.60</td>\n",
       "      <td>15</td>\n",
       "      <td>16.0</td>\n",
       "      <td>2</td>\n",
       "      <td>False</td>\n",
       "      <td>...</td>\n",
       "      <td>0</td>\n",
       "      <td>NaN</td>\n",
       "      <td>77</td>\n",
       "      <td>C</td>\n",
       "      <td>117191.977077</td>\n",
       "      <td>3</td>\n",
       "      <td>6</td>\n",
       "      <td>2016</td>\n",
       "      <td>else</td>\n",
       "      <td>11</td>\n",
       "    </tr>\n",
       "  </tbody>\n",
       "</table>\n",
       "<p>10 rows × 29 columns</p>\n",
       "</div>"
      ],
      "text/plain": [
       "       total_images  last_price  total_area first_day_exposition  rooms  \\\n",
       "6354             10   9350000.0        98.9           2016-04-13      4   \n",
       "8733              9   4700000.0        34.7           2018-10-30      1   \n",
       "16387            17   3088000.0        30.0           2018-03-11      1   \n",
       "4352             16   8800000.0        78.1           2017-11-30      3   \n",
       "11689             7   2950000.0        39.7           2016-04-29      1   \n",
       "15697             9   3650000.0        40.0           2018-10-04      1   \n",
       "17085            13   4000000.0        58.2           2017-11-01      3   \n",
       "10282            12   3400000.0        29.0           2017-06-13      1   \n",
       "2637             20   1350000.0        40.0           2018-07-10      1   \n",
       "3106              6   4090000.0        34.9           2016-06-16      1   \n",
       "\n",
       "       ceiling_height  floors_total  living_area  floor  is_apartment  ...  \\\n",
       "6354             2.90             4         72.7      2         False  ...   \n",
       "8733             2.50            16         17.4      2         False  ...   \n",
       "16387            2.70            23          9.1     23         False  ...   \n",
       "4352             3.00            17         47.8      2         False  ...   \n",
       "11689            2.55             3         20.8      3         False  ...   \n",
       "15697            2.50            18         19.4     12         False  ...   \n",
       "17085            2.60             9         37.2      2         False  ...   \n",
       "10282            2.55             9          9.1      9         False  ...   \n",
       "2637             2.60             4         20.0      1         False  ...   \n",
       "3106             2.60            15         16.0      2         False  ...   \n",
       "\n",
       "       ponds_around3000  ponds_nearest  days_exposition  last_price_category  \\\n",
       "6354                  3          103.0              420                    А   \n",
       "8733                  0            NaN               29                    C   \n",
       "16387                 1          390.0                8                    D   \n",
       "4352                  0            NaN              130                    А   \n",
       "11689                 1          781.0              333                    E   \n",
       "15697                 1          487.0               47                    D   \n",
       "17085                 0            NaN              113                    D   \n",
       "10282                 1          783.0              285                    D   \n",
       "2637                  0            NaN               67                    E   \n",
       "3106                  0            NaN               77                    C   \n",
       "\n",
       "      square_meter_price  week_day_exposition  month_exposition  \\\n",
       "6354        94539.939333                    2                 4   \n",
       "8733       135446.685879                    1                10   \n",
       "16387      102933.333333                    6                 3   \n",
       "4352       112676.056338                    3                11   \n",
       "11689       74307.304786                    4                 4   \n",
       "15697       91250.000000                    3                10   \n",
       "17085       68728.522337                    2                11   \n",
       "10282      117241.379310                    1                 6   \n",
       "2637        33750.000000                    1                 7   \n",
       "3106       117191.977077                    3                 6   \n",
       "\n",
       "       year_exposition  floor_type  city_centers_nearest_km  \n",
       "6354              2016        else                        1  \n",
       "8733              2018        else                       15  \n",
       "16387             2018        last                       18  \n",
       "4352              2017        else                       11  \n",
       "11689             2016        last                       17  \n",
       "15697             2018        else                       22  \n",
       "17085             2017        else                       15  \n",
       "10282             2017        last                       10  \n",
       "2637              2018       first                       20  \n",
       "3106              2016        else                       11  \n",
       "\n",
       "[10 rows x 29 columns]"
      ]
     },
     "execution_count": 76,
     "metadata": {},
     "output_type": "execute_result"
    }
   ],
   "source": [
    "data.sample(10)"
   ]
  },
  {
   "cell_type": "markdown",
   "id": "ac4d481e",
   "metadata": {},
   "source": [
    "## Шаг 4. Исследовательский анализ данных"
   ]
  },
  {
   "cell_type": "markdown",
   "id": "3699b62a",
   "metadata": {},
   "source": [
    "### 4.1. Гистограммы"
   ]
  },
  {
   "cell_type": "markdown",
   "id": "e9586a82",
   "metadata": {},
   "source": [
    "#### 4.1.1 Гистограмма общей площади"
   ]
  },
  {
   "cell_type": "code",
   "execution_count": 77,
   "id": "70859e4d",
   "metadata": {},
   "outputs": [
    {
     "data": {
      "text/plain": [
       "count    18597.000000\n",
       "mean        58.330332\n",
       "std         31.713033\n",
       "min         13.000000\n",
       "25%         39.300000\n",
       "50%         50.500000\n",
       "75%         67.800000\n",
       "max        495.000000\n",
       "Name: total_area, dtype: float64"
      ]
     },
     "execution_count": 77,
     "metadata": {},
     "output_type": "execute_result"
    },
    {
     "data": {
      "image/png": "[encoded data removed]",
      "text/plain": [
       "<Figure size 432x288 with 1 Axes>"
      ]
     },
     "metadata": {
      "needs_background": "light"
     },
     "output_type": "display_data"
    }
   ],
   "source": [
    "data['total_area'].hist(bins= 100, range= (0,500), grid= True)\n",
    "data['total_area'].describe()"
   ]
  },
  {
   "cell_type": "code",
   "execution_count": 78,
   "id": "0d0803d7",
   "metadata": {},
   "outputs": [
    {
     "data": {
      "text/plain": [
       "<AxesSubplot:>"
      ]
     },
     "execution_count": 78,
     "metadata": {},
     "output_type": "execute_result"
    },
    {
     "data": {
      "image/png": "[encoded data removed]",
      "text/plain": [
       "<Figure size 432x288 with 1 Axes>"
      ]
     },
     "metadata": {
      "needs_background": "light"
     },
     "output_type": "display_data"
    }
   ],
   "source": [
    "data['total_area'].hist(bins= 100, range= (0,120), grid= True)"
   ]
  },
  {
   "cell_type": "markdown",
   "id": "27aceec5",
   "metadata": {},
   "source": [
    "**Вывод:** Площадь объектов недвижимости находится в диапазоне от 9 до ~630м2. Большинство объектов недвижимости (межквартильный интервал) имеют площадь от 40 до 71 м2. Средняя площадь - 61 м2. С оговорками можно сказать, что гистограмма имеет характер нормального распределения с отклонением в сторону квартир площадью 30-60 м2, что объясняется востребованостью таких квартир"
   ]
  },
  {
   "cell_type": "markdown",
   "id": "30429f20",
   "metadata": {},
   "source": [
    "#### 4.1.2 Гистограмма жилой площади"
   ]
  },
  {
   "cell_type": "code",
   "execution_count": 79,
   "id": "0a1ae408",
   "metadata": {},
   "outputs": [
    {
     "data": {
      "text/plain": [
       "count    18597.000000\n",
       "mean        32.782959\n",
       "std         21.232817\n",
       "min          9.100000\n",
       "25%         18.000000\n",
       "50%         29.400000\n",
       "75%         41.000000\n",
       "max        371.000000\n",
       "Name: living_area, dtype: float64"
      ]
     },
     "execution_count": 79,
     "metadata": {},
     "output_type": "execute_result"
    },
    {
     "data": {
      "image/png": "[encoded data removed]",
      "text/plain": [
       "<Figure size 432x288 with 1 Axes>"
      ]
     },
     "metadata": {
      "needs_background": "light"
     },
     "output_type": "display_data"
    }
   ],
   "source": [
    "data['living_area'].hist(bins= 100, range= (0,150), grid= True)\n",
    "data['living_area'].describe()"
   ]
  },
  {
   "cell_type": "markdown",
   "id": "4580b9a8",
   "metadata": {},
   "source": [
    "**Вывод:** Жилая площадь объектов недвижимости находится в диапазоне от 9 до ~140м2. Большое количество около минимального значения объясняется тем, что в комнатах и студиях нет кухни (практически вся площадь - жилая).Большинство объектов недвижимости (межквартильный интервал) имеют жилую площадь от 18 до 42,8 м2. Средняя жилая площадь - 34 м2. С оговорками можно сказать, что гистограмма имеет характер нормального распределения с отклонением в сторону квартир с жилой площадью 18-38 м2, что объясняется востребованостью таких квартир"
   ]
  },
  {
   "cell_type": "markdown",
   "id": "376fdf2a",
   "metadata": {},
   "source": [
    "#### 4.1.2 Гистограмма площади кухни"
   ]
  },
  {
   "cell_type": "code",
   "execution_count": 80,
   "id": "ba2815aa",
   "metadata": {},
   "outputs": [
    {
     "data": {
      "text/plain": [
       "6.00     1072\n",
       "10.00    1064\n",
       "8.00      927\n",
       "9.00      905\n",
       "7.00      897\n",
       "         ... \n",
       "5.90        1\n",
       "8.57        1\n",
       "8.66        1\n",
       "40.30       1\n",
       "17.87       1\n",
       "Name: kitchen_area, Length: 973, dtype: int64"
      ]
     },
     "execution_count": 80,
     "metadata": {},
     "output_type": "execute_result"
    },
    {
     "data": {
      "image/png": "[encoded data removed]",
      "text/plain": [
       "<Figure size 432x288 with 1 Axes>"
      ]
     },
     "metadata": {
      "needs_background": "light"
     },
     "output_type": "display_data"
    }
   ],
   "source": [
    "data['kitchen_area'].hist(bins= 100, range= (0,50), grid= True)\n",
    "data['kitchen_area'].describe()\n",
    "data['kitchen_area'].value_counts()"
   ]
  },
  {
   "cell_type": "markdown",
   "id": "f920938d",
   "metadata": {},
   "source": [
    "**Вывод:** Площадь кухни объектов недвижимости находится в диапазоне от 4 до ~58м2. Большое количество около нуля объясняется тем, что в комнатах и студиях нет кухни.Большинство объектов недвижимости (межквартильный интервал) имеют площадь кухни от 7 до 13 м2. Наблюдается увеличение площади кухни до 45 у квартир элитного сегмента. Средняя площадь кухни - 11,5 м2. В целом, по частоте некоторых значений можно утверждать, что самыми распространенными являются кухни площадью от 6 до 10 м2"
   ]
  },
  {
   "cell_type": "markdown",
   "id": "c7981c8d",
   "metadata": {},
   "source": [
    "#### 4.1.3 Гистограмма цены объекта"
   ]
  },
  {
   "cell_type": "code",
   "execution_count": 81,
   "id": "c797bf94",
   "metadata": {},
   "outputs": [
    {
     "name": "stdout",
     "output_type": "stream",
     "text": [
      "count    1.859700e+04\n",
      "mean     6.086843e+06\n",
      "std      8.380196e+06\n",
      "min      4.400000e+05\n",
      "25%      3.400000e+06\n",
      "50%      4.500000e+06\n",
      "75%      6.500000e+06\n",
      "max      4.013000e+08\n",
      "Name: last_price, dtype: float64\n"
     ]
    },
    {
     "data": {
      "text/plain": [
       "4500000.0     273\n",
       "3500000.0     232\n",
       "4200000.0     215\n",
       "4000000.0     214\n",
       "3800000.0     213\n",
       "             ... \n",
       "8037000.0       1\n",
       "3795000.0       1\n",
       "60309900.0      1\n",
       "7778000.0       1\n",
       "6151120.0       1\n",
       "Name: last_price, Length: 2414, dtype: int64"
      ]
     },
     "execution_count": 81,
     "metadata": {},
     "output_type": "execute_result"
    },
    {
     "data": {
      "image/png": "[encoded data removed]",
      "text/plain": [
       "<Figure size 432x288 with 1 Axes>"
      ]
     },
     "metadata": {
      "needs_background": "light"
     },
     "output_type": "display_data"
    }
   ],
   "source": [
    "print(data['last_price'].describe())\n",
    "data['last_price'].hist(bins= 100, range= (1e+04,0.5e+08), grid= True)\n",
    "data['last_price'].value_counts()"
   ]
  },
  {
   "cell_type": "markdown",
   "id": "fed49088",
   "metadata": {},
   "source": [
    "**Вывод:** Цена объектов недвижимости находится в диапазоне от 2 vky  до . Большое количество около нуля объясняется студиями и отдельными комнатами. Большинство объектов недвижимости (межквартильный интервал) имеют количество комнат от 1 до 3 В целом распределение комнат от 1 до 3 можно считать нормальным."
   ]
  },
  {
   "cell_type": "markdown",
   "id": "cb498bd4",
   "metadata": {},
   "source": [
    "#### 4.1.4 Гистограмма количества комнат"
   ]
  },
  {
   "cell_type": "code",
   "execution_count": 82,
   "id": "e2abfd4b",
   "metadata": {},
   "outputs": [
    {
     "name": "stdout",
     "output_type": "stream",
     "text": [
      "count    18597.000000\n",
      "mean         2.013981\n",
      "std          1.040438\n",
      "min          0.000000\n",
      "25%          1.000000\n",
      "50%          2.000000\n",
      "75%          3.000000\n",
      "max         19.000000\n",
      "Name: rooms, dtype: float64\n"
     ]
    },
    {
     "data": {
      "text/plain": [
       "1     6762\n",
       "2     6015\n",
       "3     4523\n",
       "4      818\n",
       "5      204\n",
       "0      158\n",
       "6       68\n",
       "7       32\n",
       "8        8\n",
       "9        3\n",
       "14       2\n",
       "10       2\n",
       "11       1\n",
       "19       1\n",
       "Name: rooms, dtype: int64"
      ]
     },
     "execution_count": 82,
     "metadata": {},
     "output_type": "execute_result"
    },
    {
     "data": {
      "image/png": "[encoded data removed]",
      "text/plain": [
       "<Figure size 432x288 with 1 Axes>"
      ]
     },
     "metadata": {
      "needs_background": "light"
     },
     "output_type": "display_data"
    }
   ],
   "source": [
    "print(data['rooms'].describe())\n",
    "data['rooms'].hist(bins= 19, range= (0,19), grid= True)\n",
    "data['rooms'].value_counts()"
   ]
  },
  {
   "cell_type": "markdown",
   "id": "3e6617de",
   "metadata": {},
   "source": [
    "**Вывод:** Количество комнат объектов недвижимости находится в диапазоне от 0 до 19. Значения около нуля объясняются студиями и отдельными комнатами. Большинство объектов недвижимости (межквартильный интервал) имеют количество комнат от 1 до 3 В целом распределение комнат на участке от 1 до 3 можно считать нормальным."
   ]
  },
  {
   "cell_type": "markdown",
   "id": "227755f2",
   "metadata": {},
   "source": [
    "#### 4.1.5 Гистограмма высоты потолков"
   ]
  },
  {
   "cell_type": "code",
   "execution_count": 83,
   "id": "5ca07b79",
   "metadata": {},
   "outputs": [
    {
     "name": "stdout",
     "output_type": "stream",
     "text": [
      "count    18597.000000\n",
      "mean         2.691645\n",
      "std          0.243061\n",
      "min          2.200000\n",
      "25%          2.550000\n",
      "50%          2.600000\n",
      "75%          2.750000\n",
      "max         10.000000\n",
      "Name: ceiling_height, dtype: float64\n"
     ]
    },
    {
     "data": {
      "text/plain": [
       "2.60    2715\n",
       "2.50    2649\n",
       "2.55    2281\n",
       "2.56    1998\n",
       "2.90    1637\n",
       "        ... \n",
       "2.20       1\n",
       "8.30       1\n",
       "3.93       1\n",
       "2.99       1\n",
       "2.91       1\n",
       "Name: ceiling_height, Length: 159, dtype: int64"
      ]
     },
     "execution_count": 83,
     "metadata": {},
     "output_type": "execute_result"
    },
    {
     "data": {
      "image/png": "[encoded data removed]",
      "text/plain": [
       "<Figure size 432x288 with 1 Axes>"
      ]
     },
     "metadata": {
      "needs_background": "light"
     },
     "output_type": "display_data"
    }
   ],
   "source": [
    "print(data['ceiling_height'].describe())\n",
    "data['ceiling_height'].hist(bins= 50, range= (0,5), grid= True)\n",
    "data['ceiling_height'].value_counts()"
   ]
  },
  {
   "cell_type": "markdown",
   "id": "aca57296",
   "metadata": {},
   "source": [
    "**Вывод:** Высота потолков объектов недвижимости находится в диапазоне от 2 до 10. Большинство объектов недвижимости (межквартильный интервал) имеют высоту потолков от 2.5 до 3.5 В целом распределение комнат на участке 2.5 до 3.5 можно считать нормальным. Большое количество потолков выотой 2,5 и 2,7м объяснятется массовым строительством жил плозади с данной высотой потолков в прошлом "
   ]
  },
  {
   "cell_type": "markdown",
   "id": "04eab015",
   "metadata": {},
   "source": [
    "#### 4.1.6 Гистограмма этажа квартиры"
   ]
  },
  {
   "cell_type": "code",
   "execution_count": 84,
   "id": "697e60eb",
   "metadata": {},
   "outputs": [
    {
     "name": "stdout",
     "output_type": "stream",
     "text": [
      "count    18597.000000\n",
      "mean         5.976179\n",
      "std          4.916240\n",
      "min          1.000000\n",
      "25%          2.000000\n",
      "50%          4.000000\n",
      "75%          8.000000\n",
      "max         32.000000\n",
      "Name: floor, dtype: float64\n"
     ]
    },
    {
     "data": {
      "text/plain": [
       "2     2577\n",
       "3     2407\n",
       "1     2238\n",
       "4     2172\n",
       "5     2051\n",
       "6     1020\n",
       "7      972\n",
       "9      875\n",
       "8      847\n",
       "10     551\n",
       "12     437\n",
       "11     419\n",
       "13     299\n",
       "14     271\n",
       "15     265\n",
       "16     262\n",
       "17     191\n",
       "18     144\n",
       "19     120\n",
       "21      99\n",
       "20      94\n",
       "22      90\n",
       "23      77\n",
       "24      50\n",
       "25      40\n",
       "26      20\n",
       "27       8\n",
       "32       1\n",
       "Name: floor, dtype: int64"
      ]
     },
     "execution_count": 84,
     "metadata": {},
     "output_type": "execute_result"
    },
    {
     "data": {
      "image/png": "[encoded data removed]",
      "text/plain": [
       "<Figure size 432x288 with 1 Axes>"
      ]
     },
     "metadata": {
      "needs_background": "light"
     },
     "output_type": "display_data"
    }
   ],
   "source": [
    "print(data['floor'].describe())\n",
    "data['floor'].hist(bins= 100, range= (0,35), grid= True)\n",
    "data['floor'].value_counts()"
   ]
  },
  {
   "cell_type": "markdown",
   "id": "a9695af1",
   "metadata": {},
   "source": [
    "**Вывод:** Этаж квартиры объектов недвижимости находится в диапазоне от 1 до 32. Большинство объектов недвижимости (межквартильный интервал) находится на этаже от 3 до 8-ого. Самые частые - от 2-ого до 5-ого"
   ]
  },
  {
   "cell_type": "markdown",
   "id": "658efdab",
   "metadata": {},
   "source": [
    "#### 4.1.7 Гистограмма типа этажа квартиры"
   ]
  },
  {
   "cell_type": "code",
   "execution_count": 85,
   "id": "14226f18",
   "metadata": {},
   "outputs": [
    {
     "name": "stdout",
     "output_type": "stream",
     "text": [
      "count     18597\n",
      "unique        3\n",
      "top        else\n",
      "freq      13793\n",
      "Name: floor_type, dtype: object\n"
     ]
    },
    {
     "data": {
      "text/plain": [
       "else     13793\n",
       "last      2566\n",
       "first     2238\n",
       "Name: floor_type, dtype: int64"
      ]
     },
     "execution_count": 85,
     "metadata": {},
     "output_type": "execute_result"
    },
    {
     "data": {
      "image/png": "[encoded data removed]",
      "text/plain": [
       "<Figure size 432x288 with 1 Axes>"
      ]
     },
     "metadata": {
      "needs_background": "light"
     },
     "output_type": "display_data"
    }
   ],
   "source": [
    "print(data['floor_type'].describe())\n",
    "data['floor_type'].hist(bins= 19, range= (0,3), grid= True)\n",
    "data['floor_type'].value_counts()"
   ]
  },
  {
   "cell_type": "markdown",
   "id": "9c4938cc",
   "metadata": {},
   "source": [
    "**Вывод:** Естестественно большое всего объявлений ни с первого и последнего этажа"
   ]
  },
  {
   "cell_type": "markdown",
   "id": "7042c2ff",
   "metadata": {},
   "source": [
    "#### 4.1.8 Гистограмма общего количества этажей в доме"
   ]
  },
  {
   "cell_type": "code",
   "execution_count": 86,
   "id": "d3b75215",
   "metadata": {},
   "outputs": [
    {
     "name": "stdout",
     "output_type": "stream",
     "text": [
      "count    18597.000000\n",
      "mean        10.853794\n",
      "std          6.591185\n",
      "min          1.000000\n",
      "25%          5.000000\n",
      "50%          9.000000\n",
      "75%         16.000000\n",
      "max         33.000000\n",
      "Name: floors_total, dtype: float64\n"
     ]
    },
    {
     "data": {
      "text/plain": [
       "5     4459\n",
       "9     3034\n",
       "12    1104\n",
       "16    1101\n",
       "10     935\n",
       "25     926\n",
       "4      882\n",
       "6      682\n",
       "17     677\n",
       "3      502\n",
       "14     448\n",
       "7      439\n",
       "18     404\n",
       "24     371\n",
       "15     295\n",
       "8      292\n",
       "19     284\n",
       "23     279\n",
       "2      273\n",
       "22     240\n",
       "20     234\n",
       "13     189\n",
       "11     145\n",
       "27     134\n",
       "21     132\n",
       "26     102\n",
       "28      17\n",
       "1       15\n",
       "29       1\n",
       "33       1\n",
       "Name: floors_total, dtype: int64"
      ]
     },
     "execution_count": 86,
     "metadata": {},
     "output_type": "execute_result"
    },
    {
     "data": {
      "image/png": "[encoded data removed]",
      "text/plain": [
       "<Figure size 432x288 with 1 Axes>"
      ]
     },
     "metadata": {
      "needs_background": "light"
     },
     "output_type": "display_data"
    }
   ],
   "source": [
    "print(data['floors_total'].describe())\n",
    "data['floors_total'].hist(bins= 19, range= (0,33), grid= True)\n",
    "data['floors_total'].value_counts()"
   ]
  },
  {
   "cell_type": "markdown",
   "id": "137f9ffa",
   "metadata": {},
   "source": [
    "**Вывод:** Общее количество этажей объектов недвижимости находится в диапазоне от 1 до 33. Большинство объектов недвижимости (межквартильный интервал) имеет количество этажей от 5 до 16-ого. Самые частые - 5-ти, 9-ти, 6-ти и 12-ти этажки"
   ]
  },
  {
   "cell_type": "markdown",
   "id": "00e60b2c",
   "metadata": {},
   "source": [
    "#### 4.1.9 Гистограмма расстояния до центра города в метрах"
   ]
  },
  {
   "cell_type": "code",
   "execution_count": 87,
   "id": "5a1a89f7",
   "metadata": {},
   "outputs": [
    {
     "name": "stdout",
     "output_type": "stream",
     "text": [
      "count    18597.000000\n",
      "mean     15026.969135\n",
      "std       7758.189223\n",
      "min        208.000000\n",
      "25%      10987.000000\n",
      "50%      14442.000000\n",
      "75%      19107.000000\n",
      "max      64857.000000\n",
      "Name: city_centers_nearest, dtype: float64\n"
     ]
    },
    {
     "data": {
      "text/plain": [
       "19717.0    2374\n",
       "15010.0    1097\n",
       "14150.0     406\n",
       "13188.0     302\n",
       "8460.0      102\n",
       "           ... \n",
       "24972.0       1\n",
       "11245.0       1\n",
       "5252.0        1\n",
       "3270.0        1\n",
       "6263.0        1\n",
       "Name: city_centers_nearest, Length: 6738, dtype: int64"
      ]
     },
     "execution_count": 87,
     "metadata": {},
     "output_type": "execute_result"
    },
    {
     "data": {
      "image/png": "[encoded data removed]",
      "text/plain": [
       "<Figure size 432x288 with 1 Axes>"
      ]
     },
     "metadata": {
      "needs_background": "light"
     },
     "output_type": "display_data"
    }
   ],
   "source": [
    "print(data['city_centers_nearest'].describe())\n",
    "data['city_centers_nearest'].hist(bins= 19, range= (0,50000), grid= True)\n",
    "data['city_centers_nearest'].value_counts()"
   ]
  },
  {
   "cell_type": "markdown",
   "id": "630df0ce",
   "metadata": {},
   "source": [
    "**Вывод:** Расстояния до центра города объектов недвижимости находится в диапазоне от 181м до 50км. Большинство объектов недвижимости (межквартильный интервал) находится на расстоянии от центра города от 9,6 км до 16 км. Распределение на данном интервале можно считать нормальным."
   ]
  },
  {
   "cell_type": "markdown",
   "id": "cf55ca78",
   "metadata": {},
   "source": [
    "#### 4.1.10 Гистограмма расстояния до расстояние до ближайшего аэропорта"
   ]
  },
  {
   "cell_type": "code",
   "execution_count": 88,
   "id": "eb44786b",
   "metadata": {},
   "outputs": [
    {
     "name": "stdout",
     "output_type": "stream",
     "text": [
      "count    14364.000000\n",
      "mean     28902.159983\n",
      "std      12719.117599\n",
      "min          0.000000\n",
      "25%      18496.000000\n",
      "50%      26915.000000\n",
      "75%      37412.000000\n",
      "max      83758.000000\n",
      "Name: airports_nearest, dtype: float64\n"
     ]
    },
    {
     "data": {
      "text/plain": [
       "37434.0    37\n",
       "21928.0    27\n",
       "37407.0    27\n",
       "31744.0    22\n",
       "39946.0    20\n",
       "           ..\n",
       "22583.0     1\n",
       "23963.0     1\n",
       "41150.0     1\n",
       "22637.0     1\n",
       "20151.0     1\n",
       "Name: airports_nearest, Length: 7239, dtype: int64"
      ]
     },
     "execution_count": 88,
     "metadata": {},
     "output_type": "execute_result"
    },
    {
     "data": {
      "image/png": "[encoded data removed]",
      "text/plain": [
       "<Figure size 432x288 with 1 Axes>"
      ]
     },
     "metadata": {
      "needs_background": "light"
     },
     "output_type": "display_data"
    }
   ],
   "source": [
    "print(data['airports_nearest'].describe())\n",
    "data['airports_nearest'].hist(bins= 100, range= (0,60000), grid= True)\n",
    "data['airports_nearest'].value_counts()"
   ]
  },
  {
   "cell_type": "markdown",
   "id": "1fc4e602",
   "metadata": {},
   "source": [
    "**Вывод:** От аэропорта до объектов недвижимости находится в диапазоне от 9 до 68км. Большинство объектов недвижимости (межквартильный интервал) находится на расстоянии от аэропорта до объекта недвижимости от 19,6 км до 35 км. "
   ]
  },
  {
   "cell_type": "markdown",
   "id": "d19aca00",
   "metadata": {},
   "source": [
    "#### 4.1.11 Гистограмма расстояния до расстояние до ближайшего парка"
   ]
  },
  {
   "cell_type": "code",
   "execution_count": 89,
   "id": "f08bcc29",
   "metadata": {},
   "outputs": [
    {
     "name": "stdout",
     "output_type": "stream",
     "text": [
      "count    6284.000000\n",
      "mean      489.335773\n",
      "std       339.870163\n",
      "min         1.000000\n",
      "25%       286.000000\n",
      "50%       452.000000\n",
      "75%       614.000000\n",
      "max      3190.000000\n",
      "Name: parks_nearest, dtype: float64\n"
     ]
    },
    {
     "data": {
      "text/plain": [
       "441.0     42\n",
       "456.0     39\n",
       "392.0     33\n",
       "173.0     30\n",
       "679.0     27\n",
       "          ..\n",
       "710.0      1\n",
       "1416.0     1\n",
       "916.0      1\n",
       "237.0      1\n",
       "2984.0     1\n",
       "Name: parks_nearest, Length: 956, dtype: int64"
      ]
     },
     "execution_count": 89,
     "metadata": {},
     "output_type": "execute_result"
    },
    {
     "data": {
      "image/png": "[encoded data removed]",
      "text/plain": [
       "<Figure size 432x288 with 1 Axes>"
      ]
     },
     "metadata": {
      "needs_background": "light"
     },
     "output_type": "display_data"
    }
   ],
   "source": [
    "print(data['parks_nearest'].describe())\n",
    "data['parks_nearest'].hist(bins= 19, range= (0,3000), grid= True)\n",
    "data['parks_nearest'].value_counts()"
   ]
  },
  {
   "cell_type": "markdown",
   "id": "5b9699c2",
   "metadata": {},
   "source": [
    "**Вывод:** От ближайшего парка до объектов недвижимости находится в диапазоне от 21м до 3км. Большинство объектов недвижимости (межквартильный интервал) находится на расстоянии от парка до объекта недвижимости от 300 м до 600 м. Такие значения объясняются тем что скорее всего, если до парка больше 1,5 км - считается что парка по близости нет"
   ]
  },
  {
   "cell_type": "markdown",
   "id": "e295dbe2",
   "metadata": {},
   "source": [
    "#### 4.1.11 Гистограмма расстояния до расстояние до ближайшего водоема"
   ]
  },
  {
   "cell_type": "code",
   "execution_count": 90,
   "id": "7eecb426",
   "metadata": {},
   "outputs": [
    {
     "name": "stdout",
     "output_type": "stream",
     "text": [
      "count    7117.000000\n",
      "mean      524.093157\n",
      "std       275.648879\n",
      "min        13.000000\n",
      "25%       304.000000\n",
      "50%       509.000000\n",
      "75%       733.000000\n",
      "max      1344.000000\n",
      "Name: ponds_nearest, dtype: float64\n"
     ]
    },
    {
     "data": {
      "text/plain": [
       "427.0     45\n",
       "454.0     40\n",
       "433.0     36\n",
       "153.0     33\n",
       "564.0     29\n",
       "          ..\n",
       "994.0      1\n",
       "1251.0     1\n",
       "1177.0     1\n",
       "1082.0     1\n",
       "1134.0     1\n",
       "Name: ponds_nearest, Length: 1077, dtype: int64"
      ]
     },
     "execution_count": 90,
     "metadata": {},
     "output_type": "execute_result"
    },
    {
     "data": {
      "image/png": "[encoded data removed]",
      "text/plain": [
       "<Figure size 432x288 with 1 Axes>"
      ]
     },
     "metadata": {
      "needs_background": "light"
     },
     "output_type": "display_data"
    }
   ],
   "source": [
    "print(data['ponds_nearest'].describe())\n",
    "data['ponds_nearest'].hist(bins= 19, range= (0,2000), grid= True)\n",
    "data['ponds_nearest'].value_counts()"
   ]
  },
  {
   "cell_type": "markdown",
   "id": "0bd0c561",
   "metadata": {},
   "source": [
    "**Вывод:** От ближайшего водоема до объектов недвижимости находится в диапазоне от 22м до 1,4 км. Большинство объектов недвижимости (межквартильный интервал) находится на расстоянии от водоема до объекта недвижимости от 276 м до 712 м. Такие значения объясняются тем что скорее всего, если до водоема больше 1,25 км - считается что водоема по близости нет"
   ]
  },
  {
   "cell_type": "markdown",
   "id": "9092cc3f",
   "metadata": {},
   "source": [
    "### 4.2. Анализ"
   ]
  },
  {
   "cell_type": "markdown",
   "id": "f2387497",
   "metadata": {},
   "source": [
    "### 4.2.1 Как быстро продавались квартиры ?"
   ]
  },
  {
   "cell_type": "code",
   "execution_count": 91,
   "id": "16150acf",
   "metadata": {},
   "outputs": [
    {
     "data": {
      "text/plain": [
       "median    102.00000\n",
       "mean      175.78475\n",
       "Name: days_exposition, dtype: float64"
      ]
     },
     "execution_count": 91,
     "metadata": {},
     "output_type": "execute_result"
    },
    {
     "data": {
      "image/png": "[encoded data removed]",
      "text/plain": [
       "<Figure size 432x288 with 1 Axes>"
      ]
     },
     "metadata": {
      "needs_background": "light"
     },
     "output_type": "display_data"
    }
   ],
   "source": [
    "data.days_exposition.hist(bins= 50, range= (0,360), grid= True)\n",
    "data.days_exposition.agg({'mean', 'median'})"
   ]
  },
  {
   "cell_type": "code",
   "execution_count": 92,
   "id": "ce60a258",
   "metadata": {},
   "outputs": [
    {
     "data": {
      "text/plain": [
       "count    18597.000000\n",
       "mean       175.784750\n",
       "std        189.025677\n",
       "min          8.000000\n",
       "25%         45.000000\n",
       "50%        102.000000\n",
       "75%        233.000000\n",
       "max        999.000000\n",
       "Name: days_exposition, dtype: float64"
      ]
     },
     "execution_count": 92,
     "metadata": {},
     "output_type": "execute_result"
    }
   ],
   "source": [
    "data.days_exposition.describe()"
   ]
  },
  {
   "cell_type": "code",
   "execution_count": 93,
   "id": "4d5c74e1",
   "metadata": {},
   "outputs": [
    {
     "data": {
      "text/html": [
       "<div>\n",
       "<style scoped>\n",
       "    .dataframe tbody tr th:only-of-type {\n",
       "        vertical-align: middle;\n",
       "    }\n",
       "\n",
       "    .dataframe tbody tr th {\n",
       "        vertical-align: top;\n",
       "    }\n",
       "\n",
       "    .dataframe thead th {\n",
       "        text-align: right;\n",
       "    }\n",
       "</style>\n",
       "<table border=\"1\" class=\"dataframe\">\n",
       "  <thead>\n",
       "    <tr style=\"text-align: right;\">\n",
       "      <th></th>\n",
       "      <th>total_images</th>\n",
       "      <th>last_price</th>\n",
       "      <th>total_area</th>\n",
       "      <th>first_day_exposition</th>\n",
       "      <th>rooms</th>\n",
       "      <th>ceiling_height</th>\n",
       "      <th>floors_total</th>\n",
       "      <th>living_area</th>\n",
       "      <th>floor</th>\n",
       "      <th>is_apartment</th>\n",
       "      <th>...</th>\n",
       "      <th>ponds_around3000</th>\n",
       "      <th>ponds_nearest</th>\n",
       "      <th>days_exposition</th>\n",
       "      <th>last_price_category</th>\n",
       "      <th>square_meter_price</th>\n",
       "      <th>week_day_exposition</th>\n",
       "      <th>month_exposition</th>\n",
       "      <th>year_exposition</th>\n",
       "      <th>floor_type</th>\n",
       "      <th>city_centers_nearest_km</th>\n",
       "    </tr>\n",
       "  </thead>\n",
       "  <tbody>\n",
       "    <tr>\n",
       "      <th>2547</th>\n",
       "      <td>15</td>\n",
       "      <td>4500000.0</td>\n",
       "      <td>55.60</td>\n",
       "      <td>2018-03-24</td>\n",
       "      <td>2</td>\n",
       "      <td>2.64</td>\n",
       "      <td>12</td>\n",
       "      <td>33.50</td>\n",
       "      <td>10</td>\n",
       "      <td>False</td>\n",
       "      <td>...</td>\n",
       "      <td>0</td>\n",
       "      <td>NaN</td>\n",
       "      <td>8</td>\n",
       "      <td>C</td>\n",
       "      <td>80935.251799</td>\n",
       "      <td>5</td>\n",
       "      <td>3</td>\n",
       "      <td>2018</td>\n",
       "      <td>else</td>\n",
       "      <td>14</td>\n",
       "    </tr>\n",
       "    <tr>\n",
       "      <th>10507</th>\n",
       "      <td>12</td>\n",
       "      <td>2900000.0</td>\n",
       "      <td>33.30</td>\n",
       "      <td>2019-03-19</td>\n",
       "      <td>1</td>\n",
       "      <td>2.60</td>\n",
       "      <td>5</td>\n",
       "      <td>18.00</td>\n",
       "      <td>2</td>\n",
       "      <td>False</td>\n",
       "      <td>...</td>\n",
       "      <td>0</td>\n",
       "      <td>NaN</td>\n",
       "      <td>8</td>\n",
       "      <td>E</td>\n",
       "      <td>87087.087087</td>\n",
       "      <td>1</td>\n",
       "      <td>3</td>\n",
       "      <td>2019</td>\n",
       "      <td>else</td>\n",
       "      <td>20</td>\n",
       "    </tr>\n",
       "    <tr>\n",
       "      <th>15827</th>\n",
       "      <td>7</td>\n",
       "      <td>3850000.0</td>\n",
       "      <td>41.30</td>\n",
       "      <td>2017-04-27</td>\n",
       "      <td>1</td>\n",
       "      <td>2.80</td>\n",
       "      <td>5</td>\n",
       "      <td>14.80</td>\n",
       "      <td>5</td>\n",
       "      <td>False</td>\n",
       "      <td>...</td>\n",
       "      <td>1</td>\n",
       "      <td>177.0</td>\n",
       "      <td>8</td>\n",
       "      <td>D</td>\n",
       "      <td>93220.338983</td>\n",
       "      <td>3</td>\n",
       "      <td>4</td>\n",
       "      <td>2017</td>\n",
       "      <td>last</td>\n",
       "      <td>30</td>\n",
       "    </tr>\n",
       "    <tr>\n",
       "      <th>15785</th>\n",
       "      <td>10</td>\n",
       "      <td>3550000.0</td>\n",
       "      <td>30.90</td>\n",
       "      <td>2019-04-04</td>\n",
       "      <td>1</td>\n",
       "      <td>2.50</td>\n",
       "      <td>9</td>\n",
       "      <td>15.60</td>\n",
       "      <td>2</td>\n",
       "      <td>False</td>\n",
       "      <td>...</td>\n",
       "      <td>0</td>\n",
       "      <td>NaN</td>\n",
       "      <td>8</td>\n",
       "      <td>D</td>\n",
       "      <td>114886.731392</td>\n",
       "      <td>3</td>\n",
       "      <td>4</td>\n",
       "      <td>2019</td>\n",
       "      <td>else</td>\n",
       "      <td>17</td>\n",
       "    </tr>\n",
       "    <tr>\n",
       "      <th>3511</th>\n",
       "      <td>11</td>\n",
       "      <td>1850000.0</td>\n",
       "      <td>28.00</td>\n",
       "      <td>2017-04-14</td>\n",
       "      <td>1</td>\n",
       "      <td>2.55</td>\n",
       "      <td>25</td>\n",
       "      <td>15.00</td>\n",
       "      <td>17</td>\n",
       "      <td>False</td>\n",
       "      <td>...</td>\n",
       "      <td>0</td>\n",
       "      <td>NaN</td>\n",
       "      <td>8</td>\n",
       "      <td>E</td>\n",
       "      <td>66071.428571</td>\n",
       "      <td>4</td>\n",
       "      <td>4</td>\n",
       "      <td>2017</td>\n",
       "      <td>else</td>\n",
       "      <td>20</td>\n",
       "    </tr>\n",
       "    <tr>\n",
       "      <th>...</th>\n",
       "      <td>...</td>\n",
       "      <td>...</td>\n",
       "      <td>...</td>\n",
       "      <td>...</td>\n",
       "      <td>...</td>\n",
       "      <td>...</td>\n",
       "      <td>...</td>\n",
       "      <td>...</td>\n",
       "      <td>...</td>\n",
       "      <td>...</td>\n",
       "      <td>...</td>\n",
       "      <td>...</td>\n",
       "      <td>...</td>\n",
       "      <td>...</td>\n",
       "      <td>...</td>\n",
       "      <td>...</td>\n",
       "      <td>...</td>\n",
       "      <td>...</td>\n",
       "      <td>...</td>\n",
       "      <td>...</td>\n",
       "      <td>...</td>\n",
       "    </tr>\n",
       "    <tr>\n",
       "      <th>8555</th>\n",
       "      <td>9</td>\n",
       "      <td>2900000.0</td>\n",
       "      <td>32.50</td>\n",
       "      <td>2016-06-26</td>\n",
       "      <td>1</td>\n",
       "      <td>2.55</td>\n",
       "      <td>5</td>\n",
       "      <td>18.00</td>\n",
       "      <td>1</td>\n",
       "      <td>False</td>\n",
       "      <td>...</td>\n",
       "      <td>0</td>\n",
       "      <td>NaN</td>\n",
       "      <td>44</td>\n",
       "      <td>E</td>\n",
       "      <td>89230.769231</td>\n",
       "      <td>6</td>\n",
       "      <td>6</td>\n",
       "      <td>2016</td>\n",
       "      <td>first</td>\n",
       "      <td>26</td>\n",
       "    </tr>\n",
       "    <tr>\n",
       "      <th>5782</th>\n",
       "      <td>18</td>\n",
       "      <td>4300000.0</td>\n",
       "      <td>41.76</td>\n",
       "      <td>2018-06-12</td>\n",
       "      <td>1</td>\n",
       "      <td>2.65</td>\n",
       "      <td>20</td>\n",
       "      <td>13.92</td>\n",
       "      <td>6</td>\n",
       "      <td>True</td>\n",
       "      <td>...</td>\n",
       "      <td>0</td>\n",
       "      <td>NaN</td>\n",
       "      <td>44</td>\n",
       "      <td>C</td>\n",
       "      <td>102969.348659</td>\n",
       "      <td>1</td>\n",
       "      <td>6</td>\n",
       "      <td>2018</td>\n",
       "      <td>else</td>\n",
       "      <td>16</td>\n",
       "    </tr>\n",
       "    <tr>\n",
       "      <th>7779</th>\n",
       "      <td>8</td>\n",
       "      <td>4150000.0</td>\n",
       "      <td>31.00</td>\n",
       "      <td>2018-04-04</td>\n",
       "      <td>1</td>\n",
       "      <td>2.60</td>\n",
       "      <td>5</td>\n",
       "      <td>9.10</td>\n",
       "      <td>3</td>\n",
       "      <td>False</td>\n",
       "      <td>...</td>\n",
       "      <td>1</td>\n",
       "      <td>642.0</td>\n",
       "      <td>44</td>\n",
       "      <td>C</td>\n",
       "      <td>133870.967742</td>\n",
       "      <td>2</td>\n",
       "      <td>4</td>\n",
       "      <td>2018</td>\n",
       "      <td>else</td>\n",
       "      <td>13</td>\n",
       "    </tr>\n",
       "    <tr>\n",
       "      <th>4878</th>\n",
       "      <td>6</td>\n",
       "      <td>2200000.0</td>\n",
       "      <td>33.00</td>\n",
       "      <td>2016-05-29</td>\n",
       "      <td>1</td>\n",
       "      <td>2.75</td>\n",
       "      <td>5</td>\n",
       "      <td>18.00</td>\n",
       "      <td>2</td>\n",
       "      <td>False</td>\n",
       "      <td>...</td>\n",
       "      <td>1</td>\n",
       "      <td>640.0</td>\n",
       "      <td>44</td>\n",
       "      <td>E</td>\n",
       "      <td>66666.666667</td>\n",
       "      <td>6</td>\n",
       "      <td>5</td>\n",
       "      <td>2016</td>\n",
       "      <td>else</td>\n",
       "      <td>36</td>\n",
       "    </tr>\n",
       "    <tr>\n",
       "      <th>15943</th>\n",
       "      <td>12</td>\n",
       "      <td>4200000.0</td>\n",
       "      <td>36.00</td>\n",
       "      <td>2018-03-13</td>\n",
       "      <td>1</td>\n",
       "      <td>2.60</td>\n",
       "      <td>14</td>\n",
       "      <td>18.09</td>\n",
       "      <td>6</td>\n",
       "      <td>False</td>\n",
       "      <td>...</td>\n",
       "      <td>0</td>\n",
       "      <td>NaN</td>\n",
       "      <td>44</td>\n",
       "      <td>C</td>\n",
       "      <td>116666.666667</td>\n",
       "      <td>1</td>\n",
       "      <td>3</td>\n",
       "      <td>2018</td>\n",
       "      <td>else</td>\n",
       "      <td>14</td>\n",
       "    </tr>\n",
       "  </tbody>\n",
       "</table>\n",
       "<p>4098 rows × 29 columns</p>\n",
       "</div>"
      ],
      "text/plain": [
       "       total_images  last_price  total_area first_day_exposition  rooms  \\\n",
       "2547             15   4500000.0       55.60           2018-03-24      2   \n",
       "10507            12   2900000.0       33.30           2019-03-19      1   \n",
       "15827             7   3850000.0       41.30           2017-04-27      1   \n",
       "15785            10   3550000.0       30.90           2019-04-04      1   \n",
       "3511             11   1850000.0       28.00           2017-04-14      1   \n",
       "...             ...         ...         ...                  ...    ...   \n",
       "8555              9   2900000.0       32.50           2016-06-26      1   \n",
       "5782             18   4300000.0       41.76           2018-06-12      1   \n",
       "7779              8   4150000.0       31.00           2018-04-04      1   \n",
       "4878              6   2200000.0       33.00           2016-05-29      1   \n",
       "15943            12   4200000.0       36.00           2018-03-13      1   \n",
       "\n",
       "       ceiling_height  floors_total  living_area  floor  is_apartment  ...  \\\n",
       "2547             2.64            12        33.50     10         False  ...   \n",
       "10507            2.60             5        18.00      2         False  ...   \n",
       "15827            2.80             5        14.80      5         False  ...   \n",
       "15785            2.50             9        15.60      2         False  ...   \n",
       "3511             2.55            25        15.00     17         False  ...   \n",
       "...               ...           ...          ...    ...           ...  ...   \n",
       "8555             2.55             5        18.00      1         False  ...   \n",
       "5782             2.65            20        13.92      6          True  ...   \n",
       "7779             2.60             5         9.10      3         False  ...   \n",
       "4878             2.75             5        18.00      2         False  ...   \n",
       "15943            2.60            14        18.09      6         False  ...   \n",
       "\n",
       "       ponds_around3000  ponds_nearest  days_exposition  last_price_category  \\\n",
       "2547                  0            NaN                8                    C   \n",
       "10507                 0            NaN                8                    E   \n",
       "15827                 1          177.0                8                    D   \n",
       "15785                 0            NaN                8                    D   \n",
       "3511                  0            NaN                8                    E   \n",
       "...                 ...            ...              ...                  ...   \n",
       "8555                  0            NaN               44                    E   \n",
       "5782                  0            NaN               44                    C   \n",
       "7779                  1          642.0               44                    C   \n",
       "4878                  1          640.0               44                    E   \n",
       "15943                 0            NaN               44                    C   \n",
       "\n",
       "      square_meter_price  week_day_exposition  month_exposition  \\\n",
       "2547        80935.251799                    5                 3   \n",
       "10507       87087.087087                    1                 3   \n",
       "15827       93220.338983                    3                 4   \n",
       "15785      114886.731392                    3                 4   \n",
       "3511        66071.428571                    4                 4   \n",
       "...                  ...                  ...               ...   \n",
       "8555        89230.769231                    6                 6   \n",
       "5782       102969.348659                    1                 6   \n",
       "7779       133870.967742                    2                 4   \n",
       "4878        66666.666667                    6                 5   \n",
       "15943      116666.666667                    1                 3   \n",
       "\n",
       "       year_exposition  floor_type  city_centers_nearest_km  \n",
       "2547              2018        else                       14  \n",
       "10507             2019        else                       20  \n",
       "15827             2017        last                       30  \n",
       "15785             2019        else                       17  \n",
       "3511              2017        else                       20  \n",
       "...                ...         ...                      ...  \n",
       "8555              2016       first                       26  \n",
       "5782              2018        else                       16  \n",
       "7779              2018        else                       13  \n",
       "4878              2016        else                       36  \n",
       "15943             2018        else                       14  \n",
       "\n",
       "[4098 rows x 29 columns]"
      ]
     },
     "execution_count": 93,
     "metadata": {},
     "output_type": "execute_result"
    }
   ],
   "source": [
    "data[data['days_exposition'] < 45].sort_values(by= 'days_exposition')"
   ]
  },
  {
   "cell_type": "markdown",
   "id": "7eceaa25",
   "metadata": {},
   "source": [
    "**Вывод:** В среднем (по межквартильному размаху) квартиры продаются от 45 до 167 дней. Хотя значительное количество квартир Медианное значение - 90 дней. Минимальное - 11 дней. Быстрыми считаются продажи < 45 дней. Долгими > 167 дней"
   ]
  },
  {
   "cell_type": "markdown",
   "id": "8386009e",
   "metadata": {},
   "source": [
    "### 4.2.2 Какие факторы больше всего влияют на общую (полную) стоимость объекта? "
   ]
  },
  {
   "cell_type": "markdown",
   "id": "44a927f7",
   "metadata": {},
   "source": [
    "Построим матрицу корреляции"
   ]
  },
  {
   "cell_type": "code",
   "execution_count": 94,
   "id": "674d1fd9",
   "metadata": {
    "scrolled": true
   },
   "outputs": [
    {
     "data": {
      "text/html": [
       "<style type=\"text/css\">\n",
       "#T_a943f_row0_col0, #T_a943f_row1_col1, #T_a943f_row2_col2, #T_a943f_row3_col3, #T_a943f_row4_col4, #T_a943f_row5_col5, #T_a943f_row6_col6, #T_a943f_row7_col7, #T_a943f_row8_col8, #T_a943f_row9_col9, #T_a943f_row10_col10, #T_a943f_row11_col11, #T_a943f_row12_col12, #T_a943f_row13_col13, #T_a943f_row14_col14, #T_a943f_row14_col24, #T_a943f_row15_col15, #T_a943f_row16_col16, #T_a943f_row17_col17, #T_a943f_row18_col18, #T_a943f_row19_col19, #T_a943f_row20_col20, #T_a943f_row21_col21, #T_a943f_row22_col22, #T_a943f_row23_col23, #T_a943f_row24_col14, #T_a943f_row24_col24 {\n",
       "  background-color: #b40426;\n",
       "  color: #f1f1f1;\n",
       "}\n",
       "#T_a943f_row0_col1, #T_a943f_row5_col18, #T_a943f_row8_col20, #T_a943f_row16_col20, #T_a943f_row19_col20, #T_a943f_row23_col14 {\n",
       "  background-color: #9dbdff;\n",
       "  color: #000000;\n",
       "}\n",
       "#T_a943f_row0_col2, #T_a943f_row3_col20, #T_a943f_row6_col11, #T_a943f_row12_col14, #T_a943f_row12_col24, #T_a943f_row16_col17, #T_a943f_row19_col6, #T_a943f_row23_col24 {\n",
       "  background-color: #9ebeff;\n",
       "  color: #000000;\n",
       "}\n",
       "#T_a943f_row0_col3, #T_a943f_row8_col17, #T_a943f_row11_col15, #T_a943f_row22_col18, #T_a943f_row22_col24 {\n",
       "  background-color: #92b4fe;\n",
       "  color: #000000;\n",
       "}\n",
       "#T_a943f_row0_col4, #T_a943f_row2_col23, #T_a943f_row6_col23 {\n",
       "  background-color: #9fbfff;\n",
       "  color: #000000;\n",
       "}\n",
       "#T_a943f_row0_col5, #T_a943f_row1_col5, #T_a943f_row4_col16, #T_a943f_row6_col18, #T_a943f_row7_col2, #T_a943f_row8_col16, #T_a943f_row9_col1, #T_a943f_row17_col14, #T_a943f_row17_col24, #T_a943f_row21_col6 {\n",
       "  background-color: #7699f6;\n",
       "  color: #f1f1f1;\n",
       "}\n",
       "#T_a943f_row0_col6, #T_a943f_row7_col16, #T_a943f_row7_col18, #T_a943f_row14_col18, #T_a943f_row16_col5, #T_a943f_row21_col20, #T_a943f_row22_col20, #T_a943f_row24_col18 {\n",
       "  background-color: #94b6ff;\n",
       "  color: #000000;\n",
       "}\n",
       "#T_a943f_row0_col7, #T_a943f_row1_col22, #T_a943f_row4_col22, #T_a943f_row7_col9, #T_a943f_row15_col22, #T_a943f_row16_col6, #T_a943f_row23_col7 {\n",
       "  background-color: #6c8ff1;\n",
       "  color: #f1f1f1;\n",
       "}\n",
       "#T_a943f_row0_col8, #T_a943f_row9_col0, #T_a943f_row9_col11, #T_a943f_row10_col0, #T_a943f_row14_col8, #T_a943f_row17_col13, #T_a943f_row24_col8 {\n",
       "  background-color: #445acc;\n",
       "  color: #f1f1f1;\n",
       "}\n",
       "#T_a943f_row0_col9, #T_a943f_row1_col9, #T_a943f_row4_col8, #T_a943f_row8_col12, #T_a943f_row16_col10, #T_a943f_row16_col12, #T_a943f_row17_col7, #T_a943f_row19_col7 {\n",
       "  background-color: #5a78e4;\n",
       "  color: #f1f1f1;\n",
       "}\n",
       "#T_a943f_row0_col10, #T_a943f_row2_col9, #T_a943f_row16_col0, #T_a943f_row19_col13, #T_a943f_row23_col12 {\n",
       "  background-color: #4c66d6;\n",
       "  color: #f1f1f1;\n",
       "}\n",
       "#T_a943f_row0_col11, #T_a943f_row2_col18, #T_a943f_row5_col13, #T_a943f_row7_col22, #T_a943f_row8_col3, #T_a943f_row9_col15, #T_a943f_row10_col2, #T_a943f_row19_col11 {\n",
       "  background-color: #7396f5;\n",
       "  color: #f1f1f1;\n",
       "}\n",
       "#T_a943f_row0_col12, #T_a943f_row15_col9 {\n",
       "  background-color: #5977e3;\n",
       "  color: #f1f1f1;\n",
       "}\n",
       "#T_a943f_row0_col13, #T_a943f_row1_col10, #T_a943f_row1_col12, #T_a943f_row2_col14, #T_a943f_row11_col13, #T_a943f_row17_col10, #T_a943f_row22_col13 {\n",
       "  background-color: #516ddb;\n",
       "  color: #f1f1f1;\n",
       "}\n",
       "#T_a943f_row0_col14, #T_a943f_row5_col12, #T_a943f_row12_col17 {\n",
       "  background-color: #84a7fc;\n",
       "  color: #f1f1f1;\n",
       "}\n",
       "#T_a943f_row0_col15, #T_a943f_row5_col14 {\n",
       "  background-color: #86a9fc;\n",
       "  color: #f1f1f1;\n",
       "}\n",
       "#T_a943f_row0_col16, #T_a943f_row3_col18, #T_a943f_row9_col16, #T_a943f_row13_col7, #T_a943f_row22_col1 {\n",
       "  background-color: #7da0f9;\n",
       "  color: #f1f1f1;\n",
       "}\n",
       "#T_a943f_row0_col17, #T_a943f_row10_col18, #T_a943f_row13_col18, #T_a943f_row21_col17 {\n",
       "  background-color: #8fb1fe;\n",
       "  color: #000000;\n",
       "}\n",
       "#T_a943f_row0_col18, #T_a943f_row17_col11, #T_a943f_row21_col4 {\n",
       "  background-color: #8caffe;\n",
       "  color: #000000;\n",
       "}\n",
       "#T_a943f_row0_col19, #T_a943f_row9_col19, #T_a943f_row10_col19, #T_a943f_row13_col19, #T_a943f_row20_col6, #T_a943f_row20_col11 {\n",
       "  background-color: #afcafc;\n",
       "  color: #000000;\n",
       "}\n",
       "#T_a943f_row0_col20, #T_a943f_row2_col15, #T_a943f_row3_col11, #T_a943f_row12_col23 {\n",
       "  background-color: #b3cdfb;\n",
       "  color: #000000;\n",
       "}\n",
       "#T_a943f_row0_col21, #T_a943f_row4_col21, #T_a943f_row5_col8, #T_a943f_row6_col21, #T_a943f_row15_col21 {\n",
       "  background-color: #3c4ec2;\n",
       "  color: #f1f1f1;\n",
       "}\n",
       "#T_a943f_row0_col22, #T_a943f_row10_col6, #T_a943f_row10_col22, #T_a943f_row12_col3, #T_a943f_row13_col1, #T_a943f_row13_col2, #T_a943f_row21_col3 {\n",
       "  background-color: #7597f6;\n",
       "  color: #f1f1f1;\n",
       "}\n",
       "#T_a943f_row0_col23, #T_a943f_row3_col19, #T_a943f_row4_col17, #T_a943f_row17_col4 {\n",
       "  background-color: #ccd9ed;\n",
       "  color: #000000;\n",
       "}\n",
       "#T_a943f_row0_col24, #T_a943f_row7_col1, #T_a943f_row10_col5, #T_a943f_row11_col16, #T_a943f_row12_col2, #T_a943f_row20_col16 {\n",
       "  background-color: #85a8fc;\n",
       "  color: #f1f1f1;\n",
       "}\n",
       "#T_a943f_row1_col0, #T_a943f_row1_col7, #T_a943f_row2_col0, #T_a943f_row2_col22, #T_a943f_row3_col22, #T_a943f_row6_col22, #T_a943f_row9_col22, #T_a943f_row13_col22, #T_a943f_row14_col17, #T_a943f_row18_col7, #T_a943f_row20_col22, #T_a943f_row24_col17 {\n",
       "  background-color: #6e90f2;\n",
       "  color: #f1f1f1;\n",
       "}\n",
       "#T_a943f_row1_col2, #T_a943f_row2_col1, #T_a943f_row7_col5 {\n",
       "  background-color: #f59f80;\n",
       "  color: #000000;\n",
       "}\n",
       "#T_a943f_row1_col3 {\n",
       "  background-color: #dddcdc;\n",
       "  color: #000000;\n",
       "}\n",
       "#T_a943f_row1_col4 {\n",
       "  background-color: #e6d7cf;\n",
       "  color: #000000;\n",
       "}\n",
       "#T_a943f_row1_col6 {\n",
       "  background-color: #f7ba9f;\n",
       "  color: #000000;\n",
       "}\n",
       "#T_a943f_row1_col8, #T_a943f_row5_col21, #T_a943f_row6_col13, #T_a943f_row15_col8, #T_a943f_row17_col12 {\n",
       "  background-color: #4358cb;\n",
       "  color: #f1f1f1;\n",
       "}\n",
       "#T_a943f_row1_col11 {\n",
       "  background-color: #cbd8ee;\n",
       "  color: #000000;\n",
       "}\n",
       "#T_a943f_row1_col13, #T_a943f_row2_col13, #T_a943f_row4_col12, #T_a943f_row15_col7 {\n",
       "  background-color: #485fd1;\n",
       "  color: #f1f1f1;\n",
       "}\n",
       "#T_a943f_row1_col14, #T_a943f_row1_col24, #T_a943f_row2_col24, #T_a943f_row7_col0, #T_a943f_row15_col13, #T_a943f_row21_col13, #T_a943f_row22_col0 {\n",
       "  background-color: #536edd;\n",
       "  color: #f1f1f1;\n",
       "}\n",
       "#T_a943f_row1_col15, #T_a943f_row7_col23 {\n",
       "  background-color: #b9d0f9;\n",
       "  color: #000000;\n",
       "}\n",
       "#T_a943f_row1_col16, #T_a943f_row10_col1, #T_a943f_row16_col2, #T_a943f_row19_col18, #T_a943f_row21_col5, #T_a943f_row22_col15 {\n",
       "  background-color: #7b9ff9;\n",
       "  color: #f1f1f1;\n",
       "}\n",
       "#T_a943f_row1_col17, #T_a943f_row1_col19 {\n",
       "  background-color: #c6d6f1;\n",
       "  color: #000000;\n",
       "}\n",
       "#T_a943f_row1_col18, #T_a943f_row8_col5, #T_a943f_row18_col22, #T_a943f_row20_col0 {\n",
       "  background-color: #7295f4;\n",
       "  color: #f1f1f1;\n",
       "}\n",
       "#T_a943f_row1_col20, #T_a943f_row2_col3 {\n",
       "  background-color: #ea7b60;\n",
       "  color: #f1f1f1;\n",
       "}\n",
       "#T_a943f_row1_col21, #T_a943f_row11_col9, #T_a943f_row12_col21, #T_a943f_row13_col21, #T_a943f_row17_col21 {\n",
       "  background-color: #3f53c6;\n",
       "  color: #f1f1f1;\n",
       "}\n",
       "#T_a943f_row1_col23, #T_a943f_row12_col5, #T_a943f_row19_col4, #T_a943f_row24_col13 {\n",
       "  background-color: #a9c6fd;\n",
       "  color: #000000;\n",
       "}\n",
       "#T_a943f_row2_col4 {\n",
       "  background-color: #f2cbb7;\n",
       "  color: #000000;\n",
       "}\n",
       "#T_a943f_row2_col5, #T_a943f_row5_col10, #T_a943f_row8_col7, #T_a943f_row16_col9, #T_a943f_row17_col5, #T_a943f_row18_col1, #T_a943f_row18_col2, #T_a943f_row19_col22, #T_a943f_row21_col9, #T_a943f_row22_col9, #T_a943f_row23_col11 {\n",
       "  background-color: #6384eb;\n",
       "  color: #f1f1f1;\n",
       "}\n",
       "#T_a943f_row2_col6 {\n",
       "  background-color: #cf453c;\n",
       "  color: #f1f1f1;\n",
       "}\n",
       "#T_a943f_row2_col7, #T_a943f_row10_col3, #T_a943f_row13_col12, #T_a943f_row19_col9 {\n",
       "  background-color: #5d7ce6;\n",
       "  color: #f1f1f1;\n",
       "}\n",
       "#T_a943f_row2_col8, #T_a943f_row4_col24, #T_a943f_row7_col21, #T_a943f_row11_col21, #T_a943f_row14_col3, #T_a943f_row18_col8, #T_a943f_row19_col8, #T_a943f_row24_col3 {\n",
       "  background-color: #4257c9;\n",
       "  color: #f1f1f1;\n",
       "}\n",
       "#T_a943f_row2_col10 {\n",
       "  background-color: #4961d2;\n",
       "  color: #f1f1f1;\n",
       "}\n",
       "#T_a943f_row2_col11, #T_a943f_row4_col6, #T_a943f_row20_col4 {\n",
       "  background-color: #e4d9d2;\n",
       "  color: #000000;\n",
       "}\n",
       "#T_a943f_row2_col12, #T_a943f_row6_col9, #T_a943f_row6_col12, #T_a943f_row8_col10, #T_a943f_row9_col10, #T_a943f_row10_col11, #T_a943f_row18_col11, #T_a943f_row18_col13 {\n",
       "  background-color: #5470de;\n",
       "  color: #f1f1f1;\n",
       "}\n",
       "#T_a943f_row2_col16, #T_a943f_row5_col17, #T_a943f_row11_col18, #T_a943f_row21_col15, #T_a943f_row21_col16 {\n",
       "  background-color: #7a9df8;\n",
       "  color: #f1f1f1;\n",
       "}\n",
       "#T_a943f_row2_col17, #T_a943f_row4_col15 {\n",
       "  background-color: #c1d4f4;\n",
       "  color: #000000;\n",
       "}\n",
       "#T_a943f_row2_col19, #T_a943f_row6_col19, #T_a943f_row11_col20 {\n",
       "  background-color: #cedaeb;\n",
       "  color: #000000;\n",
       "}\n",
       "#T_a943f_row2_col20, #T_a943f_row20_col17 {\n",
       "  background-color: #d6dce4;\n",
       "  color: #000000;\n",
       "}\n",
       "#T_a943f_row2_col21, #T_a943f_row3_col8, #T_a943f_row3_col21, #T_a943f_row16_col21, #T_a943f_row20_col21 {\n",
       "  background-color: #3d50c3;\n",
       "  color: #f1f1f1;\n",
       "}\n",
       "#T_a943f_row3_col0, #T_a943f_row7_col13, #T_a943f_row14_col5, #T_a943f_row16_col3, #T_a943f_row20_col9, #T_a943f_row24_col5 {\n",
       "  background-color: #688aef;\n",
       "  color: #f1f1f1;\n",
       "}\n",
       "#T_a943f_row3_col1, #T_a943f_row17_col15 {\n",
       "  background-color: #e0dbd8;\n",
       "  color: #000000;\n",
       "}\n",
       "#T_a943f_row3_col2 {\n",
       "  background-color: #e97a5f;\n",
       "  color: #f1f1f1;\n",
       "}\n",
       "#T_a943f_row3_col4, #T_a943f_row11_col1, #T_a943f_row15_col20 {\n",
       "  background-color: #d7dce3;\n",
       "  color: #000000;\n",
       "}\n",
       "#T_a943f_row3_col5, #T_a943f_row3_col7, #T_a943f_row3_col9, #T_a943f_row3_col10, #T_a943f_row4_col13, #T_a943f_row5_col3, #T_a943f_row8_col21, #T_a943f_row14_col0, #T_a943f_row14_col1, #T_a943f_row14_col2, #T_a943f_row14_col4, #T_a943f_row14_col6, #T_a943f_row14_col11, #T_a943f_row14_col20, #T_a943f_row15_col12, #T_a943f_row15_col16, #T_a943f_row16_col8, #T_a943f_row16_col13, #T_a943f_row16_col15, #T_a943f_row17_col18, #T_a943f_row18_col17, #T_a943f_row19_col21, #T_a943f_row19_col23, #T_a943f_row20_col14, #T_a943f_row20_col24, #T_a943f_row23_col19, #T_a943f_row23_col22, #T_a943f_row24_col0, #T_a943f_row24_col1, #T_a943f_row24_col2, #T_a943f_row24_col4, #T_a943f_row24_col6, #T_a943f_row24_col11, #T_a943f_row24_col20 {\n",
       "  background-color: #3b4cc0;\n",
       "  color: #f1f1f1;\n",
       "}\n",
       "#T_a943f_row3_col6, #T_a943f_row6_col3 {\n",
       "  background-color: #e57058;\n",
       "  color: #f1f1f1;\n",
       "}\n",
       "#T_a943f_row3_col12, #T_a943f_row5_col0, #T_a943f_row6_col5, #T_a943f_row6_col7, #T_a943f_row7_col3, #T_a943f_row13_col0 {\n",
       "  background-color: #4b64d5;\n",
       "  color: #f1f1f1;\n",
       "}\n",
       "#T_a943f_row3_col13, #T_a943f_row4_col14, #T_a943f_row6_col8, #T_a943f_row9_col8, #T_a943f_row10_col8, #T_a943f_row10_col21, #T_a943f_row11_col10, #T_a943f_row14_col21, #T_a943f_row22_col21, #T_a943f_row24_col21 {\n",
       "  background-color: #4055c8;\n",
       "  color: #f1f1f1;\n",
       "}\n",
       "#T_a943f_row3_col14, #T_a943f_row4_col7, #T_a943f_row12_col13, #T_a943f_row15_col18, #T_a943f_row22_col11 {\n",
       "  background-color: #6180e9;\n",
       "  color: #f1f1f1;\n",
       "}\n",
       "#T_a943f_row3_col15, #T_a943f_row5_col19, #T_a943f_row14_col13 {\n",
       "  background-color: #a7c5fe;\n",
       "  color: #000000;\n",
       "}\n",
       "#T_a943f_row3_col16, #T_a943f_row4_col18, #T_a943f_row6_col16, #T_a943f_row9_col7, #T_a943f_row12_col22, #T_a943f_row14_col16, #T_a943f_row23_col15 {\n",
       "  background-color: #6f92f3;\n",
       "  color: #f1f1f1;\n",
       "}\n",
       "#T_a943f_row3_col17, #T_a943f_row11_col17 {\n",
       "  background-color: #adc9fd;\n",
       "  color: #000000;\n",
       "}\n",
       "#T_a943f_row3_col23 {\n",
       "  background-color: #a1c0ff;\n",
       "  color: #000000;\n",
       "}\n",
       "#T_a943f_row3_col24, #T_a943f_row4_col9, #T_a943f_row8_col9, #T_a943f_row10_col9, #T_a943f_row18_col6 {\n",
       "  background-color: #6282ea;\n",
       "  color: #f1f1f1;\n",
       "}\n",
       "#T_a943f_row4_col0, #T_a943f_row7_col10, #T_a943f_row7_col15, #T_a943f_row12_col11, #T_a943f_row17_col9, #T_a943f_row23_col6 {\n",
       "  background-color: #5f7fe8;\n",
       "  color: #f1f1f1;\n",
       "}\n",
       "#T_a943f_row4_col1 {\n",
       "  background-color: #dfdbd9;\n",
       "  color: #000000;\n",
       "}\n",
       "#T_a943f_row4_col2 {\n",
       "  background-color: #eed0c0;\n",
       "  color: #000000;\n",
       "}\n",
       "#T_a943f_row4_col3 {\n",
       "  background-color: #cad8ef;\n",
       "  color: #000000;\n",
       "}\n",
       "#T_a943f_row4_col5, #T_a943f_row6_col0, #T_a943f_row9_col2, #T_a943f_row11_col14, #T_a943f_row11_col24, #T_a943f_row12_col15, #T_a943f_row13_col6, #T_a943f_row14_col22, #T_a943f_row21_col7, #T_a943f_row24_col22 {\n",
       "  background-color: #6a8bef;\n",
       "  color: #f1f1f1;\n",
       "}\n",
       "#T_a943f_row4_col10, #T_a943f_row5_col15, #T_a943f_row6_col10, #T_a943f_row13_col10, #T_a943f_row18_col12, #T_a943f_row23_col10 {\n",
       "  background-color: #506bda;\n",
       "  color: #f1f1f1;\n",
       "}\n",
       "#T_a943f_row4_col11, #T_a943f_row5_col23, #T_a943f_row6_col17, #T_a943f_row14_col23, #T_a943f_row17_col1, #T_a943f_row18_col23, #T_a943f_row24_col23 {\n",
       "  background-color: #bbd1f8;\n",
       "  color: #000000;\n",
       "}\n",
       "#T_a943f_row4_col19, #T_a943f_row20_col2, #T_a943f_row20_col15 {\n",
       "  background-color: #c9d7f0;\n",
       "  color: #000000;\n",
       "}\n",
       "#T_a943f_row4_col20, #T_a943f_row15_col17 {\n",
       "  background-color: #e7d7ce;\n",
       "  color: #000000;\n",
       "}\n",
       "#T_a943f_row4_col23, #T_a943f_row18_col19, #T_a943f_row20_col5 {\n",
       "  background-color: #a6c4fe;\n",
       "  color: #000000;\n",
       "}\n",
       "#T_a943f_row5_col1, #T_a943f_row8_col2, #T_a943f_row8_col15, #T_a943f_row13_col15, #T_a943f_row15_col11, #T_a943f_row16_col1, #T_a943f_row21_col2, #T_a943f_row22_col2, #T_a943f_row22_col16, #T_a943f_row23_col4 {\n",
       "  background-color: #7ea1fa;\n",
       "  color: #f1f1f1;\n",
       "}\n",
       "#T_a943f_row5_col2, #T_a943f_row8_col11, #T_a943f_row8_col22, #T_a943f_row9_col6, #T_a943f_row12_col9, #T_a943f_row17_col22, #T_a943f_row21_col11, #T_a943f_row22_col7 {\n",
       "  background-color: #6b8df0;\n",
       "  color: #f1f1f1;\n",
       "}\n",
       "#T_a943f_row5_col4, #T_a943f_row7_col11, #T_a943f_row10_col16, #T_a943f_row13_col17, #T_a943f_row19_col16, #T_a943f_row20_col3 {\n",
       "  background-color: #81a4fb;\n",
       "  color: #f1f1f1;\n",
       "}\n",
       "#T_a943f_row5_col6, #T_a943f_row10_col13, #T_a943f_row12_col8, #T_a943f_row17_col0, #T_a943f_row19_col10, #T_a943f_row21_col12 {\n",
       "  background-color: #4e68d8;\n",
       "  color: #f1f1f1;\n",
       "}\n",
       "#T_a943f_row5_col7 {\n",
       "  background-color: #f6a586;\n",
       "  color: #000000;\n",
       "}\n",
       "#T_a943f_row5_col9, #T_a943f_row10_col15, #T_a943f_row22_col3 {\n",
       "  background-color: #779af7;\n",
       "  color: #f1f1f1;\n",
       "}\n",
       "#T_a943f_row5_col11, #T_a943f_row7_col4, #T_a943f_row9_col17, #T_a943f_row10_col4, #T_a943f_row12_col16, #T_a943f_row13_col20, #T_a943f_row16_col24, #T_a943f_row19_col15, #T_a943f_row19_col24, #T_a943f_row22_col23 {\n",
       "  background-color: #89acfd;\n",
       "  color: #000000;\n",
       "}\n",
       "#T_a943f_row5_col16, #T_a943f_row9_col20, #T_a943f_row17_col3, #T_a943f_row18_col14, #T_a943f_row19_col17 {\n",
       "  background-color: #9abbff;\n",
       "  color: #000000;\n",
       "}\n",
       "#T_a943f_row5_col20, #T_a943f_row11_col3, #T_a943f_row15_col19, #T_a943f_row17_col19 {\n",
       "  background-color: #bed2f6;\n",
       "  color: #000000;\n",
       "}\n",
       "#T_a943f_row5_col22, #T_a943f_row10_col7, #T_a943f_row16_col11, #T_a943f_row16_col22, #T_a943f_row18_col4, #T_a943f_row20_col18, #T_a943f_row21_col22, #T_a943f_row23_col0, #T_a943f_row23_col1, #T_a943f_row24_col16 {\n",
       "  background-color: #7093f3;\n",
       "  color: #f1f1f1;\n",
       "}\n",
       "#T_a943f_row5_col24, #T_a943f_row12_col4, #T_a943f_row16_col4, #T_a943f_row16_col14, #T_a943f_row18_col5, #T_a943f_row19_col14 {\n",
       "  background-color: #88abfd;\n",
       "  color: #000000;\n",
       "}\n",
       "#T_a943f_row6_col1 {\n",
       "  background-color: #f7b89c;\n",
       "  color: #000000;\n",
       "}\n",
       "#T_a943f_row6_col2 {\n",
       "  background-color: #cd423b;\n",
       "  color: #f1f1f1;\n",
       "}\n",
       "#T_a943f_row6_col4 {\n",
       "  background-color: #ecd3c5;\n",
       "  color: #000000;\n",
       "}\n",
       "#T_a943f_row6_col14, #T_a943f_row6_col24, #T_a943f_row10_col12, #T_a943f_row11_col0, #T_a943f_row14_col12, #T_a943f_row20_col10, #T_a943f_row23_col13, #T_a943f_row24_col12 {\n",
       "  background-color: #5875e1;\n",
       "  color: #f1f1f1;\n",
       "}\n",
       "#T_a943f_row6_col15 {\n",
       "  background-color: #b2ccfb;\n",
       "  color: #000000;\n",
       "}\n",
       "#T_a943f_row6_col20 {\n",
       "  background-color: #c4d5f3;\n",
       "  color: #000000;\n",
       "}\n",
       "#T_a943f_row7_col6, #T_a943f_row12_col10, #T_a943f_row23_col3 {\n",
       "  background-color: #5e7de7;\n",
       "  color: #f1f1f1;\n",
       "}\n",
       "#T_a943f_row7_col8, #T_a943f_row9_col21, #T_a943f_row18_col21, #T_a943f_row21_col8, #T_a943f_row22_col8, #T_a943f_row23_col21 {\n",
       "  background-color: #3e51c5;\n",
       "  color: #f1f1f1;\n",
       "}\n",
       "#T_a943f_row7_col12, #T_a943f_row7_col17, #T_a943f_row12_col1, #T_a943f_row23_col17 {\n",
       "  background-color: #82a6fb;\n",
       "  color: #f1f1f1;\n",
       "}\n",
       "#T_a943f_row7_col14, #T_a943f_row7_col24, #T_a943f_row9_col5, #T_a943f_row10_col17, #T_a943f_row22_col17 {\n",
       "  background-color: #8badfd;\n",
       "  color: #000000;\n",
       "}\n",
       "#T_a943f_row7_col19, #T_a943f_row14_col19, #T_a943f_row15_col23, #T_a943f_row24_col19 {\n",
       "  background-color: #aac7fd;\n",
       "  color: #000000;\n",
       "}\n",
       "#T_a943f_row7_col20, #T_a943f_row8_col23, #T_a943f_row9_col23, #T_a943f_row13_col23, #T_a943f_row16_col19 {\n",
       "  background-color: #b7cff9;\n",
       "  color: #000000;\n",
       "}\n",
       "#T_a943f_row8_col0, #T_a943f_row9_col3, #T_a943f_row15_col10, #T_a943f_row18_col15, #T_a943f_row22_col12 {\n",
       "  background-color: #4f69d9;\n",
       "  color: #f1f1f1;\n",
       "}\n",
       "#T_a943f_row8_col1, #T_a943f_row11_col7, #T_a943f_row12_col6, #T_a943f_row16_col7, #T_a943f_row18_col16, #T_a943f_row21_col1, #T_a943f_row23_col5 {\n",
       "  background-color: #80a3fa;\n",
       "  color: #f1f1f1;\n",
       "}\n",
       "#T_a943f_row8_col4, #T_a943f_row15_col3, #T_a943f_row19_col2 {\n",
       "  background-color: #a3c2fe;\n",
       "  color: #000000;\n",
       "}\n",
       "#T_a943f_row8_col6, #T_a943f_row13_col4, #T_a943f_row18_col20, #T_a943f_row22_col5, #T_a943f_row22_col6, #T_a943f_row23_col16 {\n",
       "  background-color: #799cf8;\n",
       "  color: #f1f1f1;\n",
       "}\n",
       "#T_a943f_row8_col13, #T_a943f_row12_col0, #T_a943f_row14_col10, #T_a943f_row15_col0, #T_a943f_row18_col10, #T_a943f_row21_col10, #T_a943f_row24_col10 {\n",
       "  background-color: #5673e0;\n",
       "  color: #f1f1f1;\n",
       "}\n",
       "#T_a943f_row8_col14, #T_a943f_row8_col24, #T_a943f_row10_col20, #T_a943f_row10_col24, #T_a943f_row11_col5, #T_a943f_row13_col5, #T_a943f_row19_col1, #T_a943f_row21_col24, #T_a943f_row23_col20 {\n",
       "  background-color: #97b8ff;\n",
       "  color: #000000;\n",
       "}\n",
       "#T_a943f_row8_col18, #T_a943f_row9_col4, #T_a943f_row17_col16, #T_a943f_row21_col18, #T_a943f_row22_col4 {\n",
       "  background-color: #8db0fe;\n",
       "  color: #000000;\n",
       "}\n",
       "#T_a943f_row8_col19, #T_a943f_row15_col2, #T_a943f_row21_col23 {\n",
       "  background-color: #b5cdfa;\n",
       "  color: #000000;\n",
       "}\n",
       "#T_a943f_row9_col12, #T_a943f_row20_col12 {\n",
       "  background-color: #5572df;\n",
       "  color: #f1f1f1;\n",
       "}\n",
       "#T_a943f_row9_col13, #T_a943f_row14_col15, #T_a943f_row15_col5, #T_a943f_row18_col0, #T_a943f_row20_col8, #T_a943f_row21_col0, #T_a943f_row24_col15 {\n",
       "  background-color: #4a63d3;\n",
       "  color: #f1f1f1;\n",
       "}\n",
       "#T_a943f_row9_col14, #T_a943f_row9_col24, #T_a943f_row10_col14, #T_a943f_row21_col14, #T_a943f_row23_col18 {\n",
       "  background-color: #96b7ff;\n",
       "  color: #000000;\n",
       "}\n",
       "#T_a943f_row9_col18, #T_a943f_row12_col18, #T_a943f_row16_col18, #T_a943f_row20_col7, #T_a943f_row22_col14 {\n",
       "  background-color: #90b2fe;\n",
       "  color: #000000;\n",
       "}\n",
       "#T_a943f_row10_col23, #T_a943f_row11_col23, #T_a943f_row15_col6, #T_a943f_row16_col23, #T_a943f_row21_col19 {\n",
       "  background-color: #b1cbfc;\n",
       "  color: #000000;\n",
       "}\n",
       "#T_a943f_row11_col2 {\n",
       "  background-color: #edd2c3;\n",
       "  color: #000000;\n",
       "}\n",
       "#T_a943f_row11_col4 {\n",
       "  background-color: #d3dbe7;\n",
       "  color: #000000;\n",
       "}\n",
       "#T_a943f_row11_col6, #T_a943f_row17_col6, #T_a943f_row17_col23, #T_a943f_row22_col19 {\n",
       "  background-color: #abc8fd;\n",
       "  color: #000000;\n",
       "}\n",
       "#T_a943f_row11_col8, #T_a943f_row11_col12, #T_a943f_row19_col12, #T_a943f_row20_col13 {\n",
       "  background-color: #455cce;\n",
       "  color: #f1f1f1;\n",
       "}\n",
       "#T_a943f_row11_col19 {\n",
       "  background-color: #bcd2f7;\n",
       "  color: #000000;\n",
       "}\n",
       "#T_a943f_row11_col22, #T_a943f_row13_col11, #T_a943f_row18_col9, #T_a943f_row23_col9 {\n",
       "  background-color: #6788ee;\n",
       "  color: #f1f1f1;\n",
       "}\n",
       "#T_a943f_row12_col7, #T_a943f_row19_col3 {\n",
       "  background-color: #98b9ff;\n",
       "  color: #000000;\n",
       "}\n",
       "#T_a943f_row12_col19 {\n",
       "  background-color: #aec9fc;\n",
       "  color: #000000;\n",
       "}\n",
       "#T_a943f_row12_col20, #T_a943f_row18_col24 {\n",
       "  background-color: #9bbcff;\n",
       "  color: #000000;\n",
       "}\n",
       "#T_a943f_row13_col3, #T_a943f_row13_col16, #T_a943f_row18_col3, #T_a943f_row19_col5, #T_a943f_row23_col2 {\n",
       "  background-color: #6687ed;\n",
       "  color: #f1f1f1;\n",
       "}\n",
       "#T_a943f_row13_col8, #T_a943f_row17_col8, #T_a943f_row19_col0, #T_a943f_row23_col8 {\n",
       "  background-color: #465ecf;\n",
       "  color: #f1f1f1;\n",
       "}\n",
       "#T_a943f_row13_col9, #T_a943f_row14_col7, #T_a943f_row22_col10, #T_a943f_row24_col7 {\n",
       "  background-color: #5b7ae5;\n",
       "  color: #f1f1f1;\n",
       "}\n",
       "#T_a943f_row13_col14 {\n",
       "  background-color: #d4dbe6;\n",
       "  color: #000000;\n",
       "}\n",
       "#T_a943f_row13_col24 {\n",
       "  background-color: #d5dbe5;\n",
       "  color: #000000;\n",
       "}\n",
       "#T_a943f_row14_col9, #T_a943f_row15_col14, #T_a943f_row15_col24, #T_a943f_row24_col9 {\n",
       "  background-color: #6485ec;\n",
       "  color: #f1f1f1;\n",
       "}\n",
       "#T_a943f_row15_col1, #T_a943f_row20_col19 {\n",
       "  background-color: #bad0f8;\n",
       "  color: #000000;\n",
       "}\n",
       "#T_a943f_row15_col4 {\n",
       "  background-color: #cdd9ec;\n",
       "  color: #000000;\n",
       "}\n",
       "#T_a943f_row17_col2, #T_a943f_row20_col23 {\n",
       "  background-color: #b6cefa;\n",
       "  color: #000000;\n",
       "}\n",
       "#T_a943f_row17_col20 {\n",
       "  background-color: #dadce0;\n",
       "  color: #000000;\n",
       "}\n",
       "#T_a943f_row20_col1 {\n",
       "  background-color: #ed8366;\n",
       "  color: #f1f1f1;\n",
       "}\n",
       "</style>\n",
       "<table id=\"T_a943f\">\n",
       "  <thead>\n",
       "    <tr>\n",
       "      <th class=\"blank level0\" >&nbsp;</th>\n",
       "      <th id=\"T_a943f_level0_col0\" class=\"col_heading level0 col0\" >total_images</th>\n",
       "      <th id=\"T_a943f_level0_col1\" class=\"col_heading level0 col1\" >last_price</th>\n",
       "      <th id=\"T_a943f_level0_col2\" class=\"col_heading level0 col2\" >total_area</th>\n",
       "      <th id=\"T_a943f_level0_col3\" class=\"col_heading level0 col3\" >rooms</th>\n",
       "      <th id=\"T_a943f_level0_col4\" class=\"col_heading level0 col4\" >ceiling_height</th>\n",
       "      <th id=\"T_a943f_level0_col5\" class=\"col_heading level0 col5\" >floors_total</th>\n",
       "      <th id=\"T_a943f_level0_col6\" class=\"col_heading level0 col6\" >living_area</th>\n",
       "      <th id=\"T_a943f_level0_col7\" class=\"col_heading level0 col7\" >floor</th>\n",
       "      <th id=\"T_a943f_level0_col8\" class=\"col_heading level0 col8\" >is_apartment</th>\n",
       "      <th id=\"T_a943f_level0_col9\" class=\"col_heading level0 col9\" >studio</th>\n",
       "      <th id=\"T_a943f_level0_col10\" class=\"col_heading level0 col10\" >open_plan</th>\n",
       "      <th id=\"T_a943f_level0_col11\" class=\"col_heading level0 col11\" >kitchen_area</th>\n",
       "      <th id=\"T_a943f_level0_col12\" class=\"col_heading level0 col12\" >balcony</th>\n",
       "      <th id=\"T_a943f_level0_col13\" class=\"col_heading level0 col13\" >airports_nearest</th>\n",
       "      <th id=\"T_a943f_level0_col14\" class=\"col_heading level0 col14\" >city_centers_nearest</th>\n",
       "      <th id=\"T_a943f_level0_col15\" class=\"col_heading level0 col15\" >parks_around3000</th>\n",
       "      <th id=\"T_a943f_level0_col16\" class=\"col_heading level0 col16\" >parks_nearest</th>\n",
       "      <th id=\"T_a943f_level0_col17\" class=\"col_heading level0 col17\" >ponds_around3000</th>\n",
       "      <th id=\"T_a943f_level0_col18\" class=\"col_heading level0 col18\" >ponds_nearest</th>\n",
       "      <th id=\"T_a943f_level0_col19\" class=\"col_heading level0 col19\" >days_exposition</th>\n",
       "      <th id=\"T_a943f_level0_col20\" class=\"col_heading level0 col20\" >square_meter_price</th>\n",
       "      <th id=\"T_a943f_level0_col21\" class=\"col_heading level0 col21\" >week_day_exposition</th>\n",
       "      <th id=\"T_a943f_level0_col22\" class=\"col_heading level0 col22\" >month_exposition</th>\n",
       "      <th id=\"T_a943f_level0_col23\" class=\"col_heading level0 col23\" >year_exposition</th>\n",
       "      <th id=\"T_a943f_level0_col24\" class=\"col_heading level0 col24\" >city_centers_nearest_km</th>\n",
       "    </tr>\n",
       "  </thead>\n",
       "  <tbody>\n",
       "    <tr>\n",
       "      <th id=\"T_a943f_level0_row0\" class=\"row_heading level0 row0\" >total_images</th>\n",
       "      <td id=\"T_a943f_row0_col0\" class=\"data row0 col0\" >1.000000</td>\n",
       "      <td id=\"T_a943f_row0_col1\" class=\"data row0 col1\" >0.110000</td>\n",
       "      <td id=\"T_a943f_row0_col2\" class=\"data row0 col2\" >0.113000</td>\n",
       "      <td id=\"T_a943f_row0_col3\" class=\"data row0 col3\" >0.093000</td>\n",
       "      <td id=\"T_a943f_row0_col4\" class=\"data row0 col4\" >0.064000</td>\n",
       "      <td id=\"T_a943f_row0_col5\" class=\"data row0 col5\" >-0.001000</td>\n",
       "      <td id=\"T_a943f_row0_col6\" class=\"data row0 col6\" >0.098000</td>\n",
       "      <td id=\"T_a943f_row0_col7\" class=\"data row0 col7\" >0.023000</td>\n",
       "      <td id=\"T_a943f_row0_col8\" class=\"data row0 col8\" >0.012000</td>\n",
       "      <td id=\"T_a943f_row0_col9\" class=\"data row0 col9\" >-0.027000</td>\n",
       "      <td id=\"T_a943f_row0_col10\" class=\"data row0 col10\" >-0.026000</td>\n",
       "      <td id=\"T_a943f_row0_col11\" class=\"data row0 col11\" >0.041000</td>\n",
       "      <td id=\"T_a943f_row0_col12\" class=\"data row0 col12\" >0.038000</td>\n",
       "      <td id=\"T_a943f_row0_col13\" class=\"data row0 col13\" >0.001000</td>\n",
       "      <td id=\"T_a943f_row0_col14\" class=\"data row0 col14\" >-0.061000</td>\n",
       "      <td id=\"T_a943f_row0_col15\" class=\"data row0 col15\" >0.036000</td>\n",
       "      <td id=\"T_a943f_row0_col16\" class=\"data row0 col16\" >0.003000</td>\n",
       "      <td id=\"T_a943f_row0_col17\" class=\"data row0 col17\" >0.006000</td>\n",
       "      <td id=\"T_a943f_row0_col18\" class=\"data row0 col18\" >-0.003000</td>\n",
       "      <td id=\"T_a943f_row0_col19\" class=\"data row0 col19\" >-0.018000</td>\n",
       "      <td id=\"T_a943f_row0_col20\" class=\"data row0 col20\" >0.123000</td>\n",
       "      <td id=\"T_a943f_row0_col21\" class=\"data row0 col21\" >-0.006000</td>\n",
       "      <td id=\"T_a943f_row0_col22\" class=\"data row0 col22\" >0.025000</td>\n",
       "      <td id=\"T_a943f_row0_col23\" class=\"data row0 col23\" >0.121000</td>\n",
       "      <td id=\"T_a943f_row0_col24\" class=\"data row0 col24\" >-0.061000</td>\n",
       "    </tr>\n",
       "    <tr>\n",
       "      <th id=\"T_a943f_level0_row1\" class=\"row_heading level0 row1\" >last_price</th>\n",
       "      <td id=\"T_a943f_row1_col0\" class=\"data row1 col0\" >0.110000</td>\n",
       "      <td id=\"T_a943f_row1_col1\" class=\"data row1 col1\" >1.000000</td>\n",
       "      <td id=\"T_a943f_row1_col2\" class=\"data row1 col2\" >0.666000</td>\n",
       "      <td id=\"T_a943f_row1_col3\" class=\"data row1 col3\" >0.387000</td>\n",
       "      <td id=\"T_a943f_row1_col4\" class=\"data row1 col4\" >0.379000</td>\n",
       "      <td id=\"T_a943f_row1_col5\" class=\"data row1 col5\" >-0.002000</td>\n",
       "      <td id=\"T_a943f_row1_col6\" class=\"data row1 col6\" >0.576000</td>\n",
       "      <td id=\"T_a943f_row1_col7\" class=\"data row1 col7\" >0.025000</td>\n",
       "      <td id=\"T_a943f_row1_col8\" class=\"data row1 col8\" >0.005000</td>\n",
       "      <td id=\"T_a943f_row1_col9\" class=\"data row1 col9\" >-0.029000</td>\n",
       "      <td id=\"T_a943f_row1_col10\" class=\"data row1 col10\" >-0.012000</td>\n",
       "      <td id=\"T_a943f_row1_col11\" class=\"data row1 col11\" >0.341000</td>\n",
       "      <td id=\"T_a943f_row1_col12\" class=\"data row1 col12\" >0.015000</td>\n",
       "      <td id=\"T_a943f_row1_col13\" class=\"data row1 col13\" >-0.033000</td>\n",
       "      <td id=\"T_a943f_row1_col14\" class=\"data row1 col14\" >-0.262000</td>\n",
       "      <td id=\"T_a943f_row1_col15\" class=\"data row1 col15\" >0.217000</td>\n",
       "      <td id=\"T_a943f_row1_col16\" class=\"data row1 col16\" >-0.002000</td>\n",
       "      <td id=\"T_a943f_row1_col17\" class=\"data row1 col17\" >0.223000</td>\n",
       "      <td id=\"T_a943f_row1_col18\" class=\"data row1 col18\" >-0.101000</td>\n",
       "      <td id=\"T_a943f_row1_col19\" class=\"data row1 col19\" >0.087000</td>\n",
       "      <td id=\"T_a943f_row1_col20\" class=\"data row1 col20\" >0.752000</td>\n",
       "      <td id=\"T_a943f_row1_col21\" class=\"data row1 col21\" >0.003000</td>\n",
       "      <td id=\"T_a943f_row1_col22\" class=\"data row1 col22\" >-0.005000</td>\n",
       "      <td id=\"T_a943f_row1_col23\" class=\"data row1 col23\" >-0.051000</td>\n",
       "      <td id=\"T_a943f_row1_col24\" class=\"data row1 col24\" >-0.265000</td>\n",
       "    </tr>\n",
       "    <tr>\n",
       "      <th id=\"T_a943f_level0_row2\" class=\"row_heading level0 row2\" >total_area</th>\n",
       "      <td id=\"T_a943f_row2_col0\" class=\"data row2 col0\" >0.113000</td>\n",
       "      <td id=\"T_a943f_row2_col1\" class=\"data row2 col1\" >0.666000</td>\n",
       "      <td id=\"T_a943f_row2_col2\" class=\"data row2 col2\" >1.000000</td>\n",
       "      <td id=\"T_a943f_row2_col3\" class=\"data row2 col3\" >0.775000</td>\n",
       "      <td id=\"T_a943f_row2_col4\" class=\"data row2 col4\" >0.463000</td>\n",
       "      <td id=\"T_a943f_row2_col5\" class=\"data row2 col5\" >-0.072000</td>\n",
       "      <td id=\"T_a943f_row2_col6\" class=\"data row2 col6\" >0.907000</td>\n",
       "      <td id=\"T_a943f_row2_col7\" class=\"data row2 col7\" >-0.030000</td>\n",
       "      <td id=\"T_a943f_row2_col8\" class=\"data row2 col8\" >0.001000</td>\n",
       "      <td id=\"T_a943f_row2_col9\" class=\"data row2 col9\" >-0.077000</td>\n",
       "      <td id=\"T_a943f_row2_col10\" class=\"data row2 col10\" >-0.039000</td>\n",
       "      <td id=\"T_a943f_row2_col11\" class=\"data row2 col11\" >0.452000</td>\n",
       "      <td id=\"T_a943f_row2_col12\" class=\"data row2 col12\" >0.024000</td>\n",
       "      <td id=\"T_a943f_row2_col13\" class=\"data row2 col13\" >-0.036000</td>\n",
       "      <td id=\"T_a943f_row2_col14\" class=\"data row2 col14\" >-0.263000</td>\n",
       "      <td id=\"T_a943f_row2_col15\" class=\"data row2 col15\" >0.197000</td>\n",
       "      <td id=\"T_a943f_row2_col16\" class=\"data row2 col16\" >-0.009000</td>\n",
       "      <td id=\"T_a943f_row2_col17\" class=\"data row2 col17\" >0.203000</td>\n",
       "      <td id=\"T_a943f_row2_col18\" class=\"data row2 col18\" >-0.099000</td>\n",
       "      <td id=\"T_a943f_row2_col19\" class=\"data row2 col19\" >0.133000</td>\n",
       "      <td id=\"T_a943f_row2_col20\" class=\"data row2 col20\" >0.277000</td>\n",
       "      <td id=\"T_a943f_row2_col21\" class=\"data row2 col21\" >-0.002000</td>\n",
       "      <td id=\"T_a943f_row2_col22\" class=\"data row2 col22\" >0.000000</td>\n",
       "      <td id=\"T_a943f_row2_col23\" class=\"data row2 col23\" >-0.092000</td>\n",
       "      <td id=\"T_a943f_row2_col24\" class=\"data row2 col24\" >-0.265000</td>\n",
       "    </tr>\n",
       "    <tr>\n",
       "      <th id=\"T_a943f_level0_row3\" class=\"row_heading level0 row3\" >rooms</th>\n",
       "      <td id=\"T_a943f_row3_col0\" class=\"data row3 col0\" >0.093000</td>\n",
       "      <td id=\"T_a943f_row3_col1\" class=\"data row3 col1\" >0.387000</td>\n",
       "      <td id=\"T_a943f_row3_col2\" class=\"data row3 col2\" >0.775000</td>\n",
       "      <td id=\"T_a943f_row3_col3\" class=\"data row3 col3\" >1.000000</td>\n",
       "      <td id=\"T_a943f_row3_col4\" class=\"data row3 col4\" >0.300000</td>\n",
       "      <td id=\"T_a943f_row3_col5\" class=\"data row3 col5\" >-0.231000</td>\n",
       "      <td id=\"T_a943f_row3_col6\" class=\"data row3 col6\" >0.805000</td>\n",
       "      <td id=\"T_a943f_row3_col7\" class=\"data row3 col7\" >-0.161000</td>\n",
       "      <td id=\"T_a943f_row3_col8\" class=\"data row3 col8\" >-0.014000</td>\n",
       "      <td id=\"T_a943f_row3_col9\" class=\"data row3 col9\" >-0.148000</td>\n",
       "      <td id=\"T_a943f_row3_col10\" class=\"data row3 col10\" >-0.094000</td>\n",
       "      <td id=\"T_a943f_row3_col11\" class=\"data row3 col11\" >0.253000</td>\n",
       "      <td id=\"T_a943f_row3_col12\" class=\"data row3 col12\" >-0.007000</td>\n",
       "      <td id=\"T_a943f_row3_col13\" class=\"data row3 col13\" >-0.061000</td>\n",
       "      <td id=\"T_a943f_row3_col14\" class=\"data row3 col14\" >-0.199000</td>\n",
       "      <td id=\"T_a943f_row3_col15\" class=\"data row3 col15\" >0.155000</td>\n",
       "      <td id=\"T_a943f_row3_col16\" class=\"data row3 col16\" >-0.049000</td>\n",
       "      <td id=\"T_a943f_row3_col17\" class=\"data row3 col17\" >0.122000</td>\n",
       "      <td id=\"T_a943f_row3_col18\" class=\"data row3 col18\" >-0.060000</td>\n",
       "      <td id=\"T_a943f_row3_col19\" class=\"data row3 col19\" >0.118000</td>\n",
       "      <td id=\"T_a943f_row3_col20\" class=\"data row3 col20\" >0.034000</td>\n",
       "      <td id=\"T_a943f_row3_col21\" class=\"data row3 col21\" >-0.005000</td>\n",
       "      <td id=\"T_a943f_row3_col22\" class=\"data row3 col22\" >0.002000</td>\n",
       "      <td id=\"T_a943f_row3_col23\" class=\"data row3 col23\" >-0.087000</td>\n",
       "      <td id=\"T_a943f_row3_col24\" class=\"data row3 col24\" >-0.201000</td>\n",
       "    </tr>\n",
       "    <tr>\n",
       "      <th id=\"T_a943f_level0_row4\" class=\"row_heading level0 row4\" >ceiling_height</th>\n",
       "      <td id=\"T_a943f_row4_col0\" class=\"data row4 col0\" >0.064000</td>\n",
       "      <td id=\"T_a943f_row4_col1\" class=\"data row4 col1\" >0.379000</td>\n",
       "      <td id=\"T_a943f_row4_col2\" class=\"data row4 col2\" >0.463000</td>\n",
       "      <td id=\"T_a943f_row4_col3\" class=\"data row4 col3\" >0.300000</td>\n",
       "      <td id=\"T_a943f_row4_col4\" class=\"data row4 col4\" >1.000000</td>\n",
       "      <td id=\"T_a943f_row4_col5\" class=\"data row4 col5\" >-0.047000</td>\n",
       "      <td id=\"T_a943f_row4_col6\" class=\"data row4 col6\" >0.414000</td>\n",
       "      <td id=\"T_a943f_row4_col7\" class=\"data row4 col7\" >-0.019000</td>\n",
       "      <td id=\"T_a943f_row4_col8\" class=\"data row4 col8\" >0.082000</td>\n",
       "      <td id=\"T_a943f_row4_col9\" class=\"data row4 col9\" >-0.001000</td>\n",
       "      <td id=\"T_a943f_row4_col10\" class=\"data row4 col10\" >-0.016000</td>\n",
       "      <td id=\"T_a943f_row4_col11\" class=\"data row4 col11\" >0.281000</td>\n",
       "      <td id=\"T_a943f_row4_col12\" class=\"data row4 col12\" >-0.021000</td>\n",
       "      <td id=\"T_a943f_row4_col13\" class=\"data row4 col13\" >-0.083000</td>\n",
       "      <td id=\"T_a943f_row4_col14\" class=\"data row4 col14\" >-0.338000</td>\n",
       "      <td id=\"T_a943f_row4_col15\" class=\"data row4 col15\" >0.254000</td>\n",
       "      <td id=\"T_a943f_row4_col16\" class=\"data row4 col16\" >-0.021000</td>\n",
       "      <td id=\"T_a943f_row4_col17\" class=\"data row4 col17\" >0.251000</td>\n",
       "      <td id=\"T_a943f_row4_col18\" class=\"data row4 col18\" >-0.113000</td>\n",
       "      <td id=\"T_a943f_row4_col19\" class=\"data row4 col19\" >0.103000</td>\n",
       "      <td id=\"T_a943f_row4_col20\" class=\"data row4 col20\" >0.370000</td>\n",
       "      <td id=\"T_a943f_row4_col21\" class=\"data row4 col21\" >-0.008000</td>\n",
       "      <td id=\"T_a943f_row4_col22\" class=\"data row4 col22\" >-0.002000</td>\n",
       "      <td id=\"T_a943f_row4_col23\" class=\"data row4 col23\" >-0.061000</td>\n",
       "      <td id=\"T_a943f_row4_col24\" class=\"data row4 col24\" >-0.340000</td>\n",
       "    </tr>\n",
       "    <tr>\n",
       "      <th id=\"T_a943f_level0_row5\" class=\"row_heading level0 row5\" >floors_total</th>\n",
       "      <td id=\"T_a943f_row5_col0\" class=\"data row5 col0\" >-0.001000</td>\n",
       "      <td id=\"T_a943f_row5_col1\" class=\"data row5 col1\" >-0.002000</td>\n",
       "      <td id=\"T_a943f_row5_col2\" class=\"data row5 col2\" >-0.072000</td>\n",
       "      <td id=\"T_a943f_row5_col3\" class=\"data row5 col3\" >-0.231000</td>\n",
       "      <td id=\"T_a943f_row5_col4\" class=\"data row5 col4\" >-0.047000</td>\n",
       "      <td id=\"T_a943f_row5_col5\" class=\"data row5 col5\" >1.000000</td>\n",
       "      <td id=\"T_a943f_row5_col6\" class=\"data row5 col6\" >-0.159000</td>\n",
       "      <td id=\"T_a943f_row5_col7\" class=\"data row5 col7\" >0.677000</td>\n",
       "      <td id=\"T_a943f_row5_col8\" class=\"data row5 col8\" >-0.017000</td>\n",
       "      <td id=\"T_a943f_row5_col9\" class=\"data row5 col9\" >0.068000</td>\n",
       "      <td id=\"T_a943f_row5_col10\" class=\"data row5 col10\" >0.051000</td>\n",
       "      <td id=\"T_a943f_row5_col11\" class=\"data row5 col11\" >0.112000</td>\n",
       "      <td id=\"T_a943f_row5_col12\" class=\"data row5 col12\" >0.173000</td>\n",
       "      <td id=\"T_a943f_row5_col13\" class=\"data row5 col13\" >0.111000</td>\n",
       "      <td id=\"T_a943f_row5_col14\" class=\"data row5 col14\" >-0.049000</td>\n",
       "      <td id=\"T_a943f_row5_col15\" class=\"data row5 col15\" >-0.164000</td>\n",
       "      <td id=\"T_a943f_row5_col16\" class=\"data row5 col16\" >0.105000</td>\n",
       "      <td id=\"T_a943f_row5_col17\" class=\"data row5 col17\" >-0.071000</td>\n",
       "      <td id=\"T_a943f_row5_col18\" class=\"data row5 col18\" >0.058000</td>\n",
       "      <td id=\"T_a943f_row5_col19\" class=\"data row5 col19\" >-0.058000</td>\n",
       "      <td id=\"T_a943f_row5_col20\" class=\"data row5 col20\" >0.165000</td>\n",
       "      <td id=\"T_a943f_row5_col21\" class=\"data row5 col21\" >0.016000</td>\n",
       "      <td id=\"T_a943f_row5_col22\" class=\"data row5 col22\" >0.009000</td>\n",
       "      <td id=\"T_a943f_row5_col23\" class=\"data row5 col23\" >0.033000</td>\n",
       "      <td id=\"T_a943f_row5_col24\" class=\"data row5 col24\" >-0.051000</td>\n",
       "    </tr>\n",
       "    <tr>\n",
       "      <th id=\"T_a943f_level0_row6\" class=\"row_heading level0 row6\" >living_area</th>\n",
       "      <td id=\"T_a943f_row6_col0\" class=\"data row6 col0\" >0.098000</td>\n",
       "      <td id=\"T_a943f_row6_col1\" class=\"data row6 col1\" >0.576000</td>\n",
       "      <td id=\"T_a943f_row6_col2\" class=\"data row6 col2\" >0.907000</td>\n",
       "      <td id=\"T_a943f_row6_col3\" class=\"data row6 col3\" >0.805000</td>\n",
       "      <td id=\"T_a943f_row6_col4\" class=\"data row6 col4\" >0.414000</td>\n",
       "      <td id=\"T_a943f_row6_col5\" class=\"data row6 col5\" >-0.159000</td>\n",
       "      <td id=\"T_a943f_row6_col6\" class=\"data row6 col6\" >1.000000</td>\n",
       "      <td id=\"T_a943f_row6_col7\" class=\"data row6 col7\" >-0.096000</td>\n",
       "      <td id=\"T_a943f_row6_col8\" class=\"data row6 col8\" >-0.001000</td>\n",
       "      <td id=\"T_a943f_row6_col9\" class=\"data row6 col9\" >-0.050000</td>\n",
       "      <td id=\"T_a943f_row6_col10\" class=\"data row6 col10\" >-0.015000</td>\n",
       "      <td id=\"T_a943f_row6_col11\" class=\"data row6 col11\" >0.180000</td>\n",
       "      <td id=\"T_a943f_row6_col12\" class=\"data row6 col12\" >0.023000</td>\n",
       "      <td id=\"T_a943f_row6_col13\" class=\"data row6 col13\" >-0.053000</td>\n",
       "      <td id=\"T_a943f_row6_col14\" class=\"data row6 col14\" >-0.240000</td>\n",
       "      <td id=\"T_a943f_row6_col15\" class=\"data row6 col15\" >0.196000</td>\n",
       "      <td id=\"T_a943f_row6_col16\" class=\"data row6 col16\" >-0.046000</td>\n",
       "      <td id=\"T_a943f_row6_col17\" class=\"data row6 col17\" >0.177000</td>\n",
       "      <td id=\"T_a943f_row6_col18\" class=\"data row6 col18\" >-0.085000</td>\n",
       "      <td id=\"T_a943f_row6_col19\" class=\"data row6 col19\" >0.131000</td>\n",
       "      <td id=\"T_a943f_row6_col20\" class=\"data row6 col20\" >0.193000</td>\n",
       "      <td id=\"T_a943f_row6_col21\" class=\"data row6 col21\" >-0.009000</td>\n",
       "      <td id=\"T_a943f_row6_col22\" class=\"data row6 col22\" >0.001000</td>\n",
       "      <td id=\"T_a943f_row6_col23\" class=\"data row6 col23\" >-0.091000</td>\n",
       "      <td id=\"T_a943f_row6_col24\" class=\"data row6 col24\" >-0.241000</td>\n",
       "    </tr>\n",
       "    <tr>\n",
       "      <th id=\"T_a943f_level0_row7\" class=\"row_heading level0 row7\" >floor</th>\n",
       "      <td id=\"T_a943f_row7_col0\" class=\"data row7 col0\" >0.023000</td>\n",
       "      <td id=\"T_a943f_row7_col1\" class=\"data row7 col1\" >0.025000</td>\n",
       "      <td id=\"T_a943f_row7_col2\" class=\"data row7 col2\" >-0.030000</td>\n",
       "      <td id=\"T_a943f_row7_col3\" class=\"data row7 col3\" >-0.161000</td>\n",
       "      <td id=\"T_a943f_row7_col4\" class=\"data row7 col4\" >-0.019000</td>\n",
       "      <td id=\"T_a943f_row7_col5\" class=\"data row7 col5\" >0.677000</td>\n",
       "      <td id=\"T_a943f_row7_col6\" class=\"data row7 col6\" >-0.096000</td>\n",
       "      <td id=\"T_a943f_row7_col7\" class=\"data row7 col7\" >1.000000</td>\n",
       "      <td id=\"T_a943f_row7_col8\" class=\"data row7 col8\" >-0.010000</td>\n",
       "      <td id=\"T_a943f_row7_col9\" class=\"data row7 col9\" >0.032000</td>\n",
       "      <td id=\"T_a943f_row7_col10\" class=\"data row7 col10\" >0.035000</td>\n",
       "      <td id=\"T_a943f_row7_col11\" class=\"data row7 col11\" >0.085000</td>\n",
       "      <td id=\"T_a943f_row7_col12\" class=\"data row7 col12\" >0.170000</td>\n",
       "      <td id=\"T_a943f_row7_col13\" class=\"data row7 col13\" >0.075000</td>\n",
       "      <td id=\"T_a943f_row7_col14\" class=\"data row7 col14\" >-0.035000</td>\n",
       "      <td id=\"T_a943f_row7_col15\" class=\"data row7 col15\" >-0.107000</td>\n",
       "      <td id=\"T_a943f_row7_col16\" class=\"data row7 col16\" >0.084000</td>\n",
       "      <td id=\"T_a943f_row7_col17\" class=\"data row7 col17\" >-0.041000</td>\n",
       "      <td id=\"T_a943f_row7_col18\" class=\"data row7 col18\" >0.026000</td>\n",
       "      <td id=\"T_a943f_row7_col19\" class=\"data row7 col19\" >-0.043000</td>\n",
       "      <td id=\"T_a943f_row7_col20\" class=\"data row7 col20\" >0.140000</td>\n",
       "      <td id=\"T_a943f_row7_col21\" class=\"data row7 col21\" >0.012000</td>\n",
       "      <td id=\"T_a943f_row7_col22\" class=\"data row7 col22\" >0.017000</td>\n",
       "      <td id=\"T_a943f_row7_col23\" class=\"data row7 col23\" >0.023000</td>\n",
       "      <td id=\"T_a943f_row7_col24\" class=\"data row7 col24\" >-0.037000</td>\n",
       "    </tr>\n",
       "    <tr>\n",
       "      <th id=\"T_a943f_level0_row8\" class=\"row_heading level0 row8\" >is_apartment</th>\n",
       "      <td id=\"T_a943f_row8_col0\" class=\"data row8 col0\" >0.012000</td>\n",
       "      <td id=\"T_a943f_row8_col1\" class=\"data row8 col1\" >0.005000</td>\n",
       "      <td id=\"T_a943f_row8_col2\" class=\"data row8 col2\" >0.001000</td>\n",
       "      <td id=\"T_a943f_row8_col3\" class=\"data row8 col3\" >-0.014000</td>\n",
       "      <td id=\"T_a943f_row8_col4\" class=\"data row8 col4\" >0.082000</td>\n",
       "      <td id=\"T_a943f_row8_col5\" class=\"data row8 col5\" >-0.017000</td>\n",
       "      <td id=\"T_a943f_row8_col6\" class=\"data row8 col6\" >-0.001000</td>\n",
       "      <td id=\"T_a943f_row8_col7\" class=\"data row8 col7\" >-0.010000</td>\n",
       "      <td id=\"T_a943f_row8_col8\" class=\"data row8 col8\" >1.000000</td>\n",
       "      <td id=\"T_a943f_row8_col9\" class=\"data row8 col9\" >-0.003000</td>\n",
       "      <td id=\"T_a943f_row8_col10\" class=\"data row8 col10\" >-0.002000</td>\n",
       "      <td id=\"T_a943f_row8_col11\" class=\"data row8 col11\" >0.014000</td>\n",
       "      <td id=\"T_a943f_row8_col12\" class=\"data row8 col12\" >0.042000</td>\n",
       "      <td id=\"T_a943f_row8_col13\" class=\"data row8 col13\" >0.017000</td>\n",
       "      <td id=\"T_a943f_row8_col14\" class=\"data row8 col14\" >0.011000</td>\n",
       "      <td id=\"T_a943f_row8_col15\" class=\"data row8 col15\" >0.006000</td>\n",
       "      <td id=\"T_a943f_row8_col16\" class=\"data row8 col16\" >-0.023000</td>\n",
       "      <td id=\"T_a943f_row8_col17\" class=\"data row8 col17\" >0.018000</td>\n",
       "      <td id=\"T_a943f_row8_col18\" class=\"data row8 col18\" >0.003000</td>\n",
       "      <td id=\"T_a943f_row8_col19\" class=\"data row8 col19\" >0.002000</td>\n",
       "      <td id=\"T_a943f_row8_col20\" class=\"data row8 col20\" >0.029000</td>\n",
       "      <td id=\"T_a943f_row8_col21\" class=\"data row8 col21\" >-0.010000</td>\n",
       "      <td id=\"T_a943f_row8_col22\" class=\"data row8 col22\" >-0.008000</td>\n",
       "      <td id=\"T_a943f_row8_col23\" class=\"data row8 col23\" >0.017000</td>\n",
       "      <td id=\"T_a943f_row8_col24\" class=\"data row8 col24\" >0.010000</td>\n",
       "    </tr>\n",
       "    <tr>\n",
       "      <th id=\"T_a943f_level0_row9\" class=\"row_heading level0 row9\" >studio</th>\n",
       "      <td id=\"T_a943f_row9_col0\" class=\"data row9 col0\" >-0.027000</td>\n",
       "      <td id=\"T_a943f_row9_col1\" class=\"data row9 col1\" >-0.029000</td>\n",
       "      <td id=\"T_a943f_row9_col2\" class=\"data row9 col2\" >-0.077000</td>\n",
       "      <td id=\"T_a943f_row9_col3\" class=\"data row9 col3\" >-0.148000</td>\n",
       "      <td id=\"T_a943f_row9_col4\" class=\"data row9 col4\" >-0.001000</td>\n",
       "      <td id=\"T_a943f_row9_col5\" class=\"data row9 col5\" >0.068000</td>\n",
       "      <td id=\"T_a943f_row9_col6\" class=\"data row9 col6\" >-0.050000</td>\n",
       "      <td id=\"T_a943f_row9_col7\" class=\"data row9 col7\" >0.032000</td>\n",
       "      <td id=\"T_a943f_row9_col8\" class=\"data row9 col8\" >-0.003000</td>\n",
       "      <td id=\"T_a943f_row9_col9\" class=\"data row9 col9\" >1.000000</td>\n",
       "      <td id=\"T_a943f_row9_col10\" class=\"data row9 col10\" >-0.004000</td>\n",
       "      <td id=\"T_a943f_row9_col11\" class=\"data row9 col11\" >-0.127000</td>\n",
       "      <td id=\"T_a943f_row9_col12\" class=\"data row9 col12\" >0.027000</td>\n",
       "      <td id=\"T_a943f_row9_col13\" class=\"data row9 col13\" >-0.025000</td>\n",
       "      <td id=\"T_a943f_row9_col14\" class=\"data row9 col14\" >0.006000</td>\n",
       "      <td id=\"T_a943f_row9_col15\" class=\"data row9 col15\" >-0.033000</td>\n",
       "      <td id=\"T_a943f_row9_col16\" class=\"data row9 col16\" >0.004000</td>\n",
       "      <td id=\"T_a943f_row9_col17\" class=\"data row9 col17\" >-0.013000</td>\n",
       "      <td id=\"T_a943f_row9_col18\" class=\"data row9 col18\" >0.014000</td>\n",
       "      <td id=\"T_a943f_row9_col19\" class=\"data row9 col19\" >-0.018000</td>\n",
       "      <td id=\"T_a943f_row9_col20\" class=\"data row9 col20\" >0.020000</td>\n",
       "      <td id=\"T_a943f_row9_col21\" class=\"data row9 col21\" >0.001000</td>\n",
       "      <td id=\"T_a943f_row9_col22\" class=\"data row9 col22\" >0.002000</td>\n",
       "      <td id=\"T_a943f_row9_col23\" class=\"data row9 col23\" >0.014000</td>\n",
       "      <td id=\"T_a943f_row9_col24\" class=\"data row9 col24\" >0.007000</td>\n",
       "    </tr>\n",
       "    <tr>\n",
       "      <th id=\"T_a943f_level0_row10\" class=\"row_heading level0 row10\" >open_plan</th>\n",
       "      <td id=\"T_a943f_row10_col0\" class=\"data row10 col0\" >-0.026000</td>\n",
       "      <td id=\"T_a943f_row10_col1\" class=\"data row10 col1\" >-0.012000</td>\n",
       "      <td id=\"T_a943f_row10_col2\" class=\"data row10 col2\" >-0.039000</td>\n",
       "      <td id=\"T_a943f_row10_col3\" class=\"data row10 col3\" >-0.094000</td>\n",
       "      <td id=\"T_a943f_row10_col4\" class=\"data row10 col4\" >-0.016000</td>\n",
       "      <td id=\"T_a943f_row10_col5\" class=\"data row10 col5\" >0.051000</td>\n",
       "      <td id=\"T_a943f_row10_col6\" class=\"data row10 col6\" >-0.015000</td>\n",
       "      <td id=\"T_a943f_row10_col7\" class=\"data row10 col7\" >0.035000</td>\n",
       "      <td id=\"T_a943f_row10_col8\" class=\"data row10 col8\" >-0.002000</td>\n",
       "      <td id=\"T_a943f_row10_col9\" class=\"data row10 col9\" >-0.004000</td>\n",
       "      <td id=\"T_a943f_row10_col10\" class=\"data row10 col10\" >1.000000</td>\n",
       "      <td id=\"T_a943f_row10_col11\" class=\"data row10 col11\" >-0.070000</td>\n",
       "      <td id=\"T_a943f_row10_col12\" class=\"data row10 col12\" >0.034000</td>\n",
       "      <td id=\"T_a943f_row10_col13\" class=\"data row10 col13\" >-0.015000</td>\n",
       "      <td id=\"T_a943f_row10_col14\" class=\"data row10 col14\" >0.007000</td>\n",
       "      <td id=\"T_a943f_row10_col15\" class=\"data row10 col15\" >-0.019000</td>\n",
       "      <td id=\"T_a943f_row10_col16\" class=\"data row10 col16\" >0.019000</td>\n",
       "      <td id=\"T_a943f_row10_col17\" class=\"data row10 col17\" >-0.009000</td>\n",
       "      <td id=\"T_a943f_row10_col18\" class=\"data row10 col18\" >0.006000</td>\n",
       "      <td id=\"T_a943f_row10_col19\" class=\"data row10 col19\" >-0.023000</td>\n",
       "      <td id=\"T_a943f_row10_col20\" class=\"data row10 col20\" >0.009000</td>\n",
       "      <td id=\"T_a943f_row10_col21\" class=\"data row10 col21\" >0.008000</td>\n",
       "      <td id=\"T_a943f_row10_col22\" class=\"data row10 col22\" >0.023000</td>\n",
       "      <td id=\"T_a943f_row10_col23\" class=\"data row10 col23\" >-0.015000</td>\n",
       "      <td id=\"T_a943f_row10_col24\" class=\"data row10 col24\" >0.008000</td>\n",
       "    </tr>\n",
       "    <tr>\n",
       "      <th id=\"T_a943f_level0_row11\" class=\"row_heading level0 row11\" >kitchen_area</th>\n",
       "      <td id=\"T_a943f_row11_col0\" class=\"data row11 col0\" >0.041000</td>\n",
       "      <td id=\"T_a943f_row11_col1\" class=\"data row11 col1\" >0.341000</td>\n",
       "      <td id=\"T_a943f_row11_col2\" class=\"data row11 col2\" >0.452000</td>\n",
       "      <td id=\"T_a943f_row11_col3\" class=\"data row11 col3\" >0.253000</td>\n",
       "      <td id=\"T_a943f_row11_col4\" class=\"data row11 col4\" >0.281000</td>\n",
       "      <td id=\"T_a943f_row11_col5\" class=\"data row11 col5\" >0.112000</td>\n",
       "      <td id=\"T_a943f_row11_col6\" class=\"data row11 col6\" >0.180000</td>\n",
       "      <td id=\"T_a943f_row11_col7\" class=\"data row11 col7\" >0.085000</td>\n",
       "      <td id=\"T_a943f_row11_col8\" class=\"data row11 col8\" >0.014000</td>\n",
       "      <td id=\"T_a943f_row11_col9\" class=\"data row11 col9\" >-0.127000</td>\n",
       "      <td id=\"T_a943f_row11_col10\" class=\"data row11 col10\" >-0.070000</td>\n",
       "      <td id=\"T_a943f_row11_col11\" class=\"data row11 col11\" >1.000000</td>\n",
       "      <td id=\"T_a943f_row11_col12\" class=\"data row11 col12\" >-0.029000</td>\n",
       "      <td id=\"T_a943f_row11_col13\" class=\"data row11 col13\" >0.001000</td>\n",
       "      <td id=\"T_a943f_row11_col14\" class=\"data row11 col14\" >-0.165000</td>\n",
       "      <td id=\"T_a943f_row11_col15\" class=\"data row11 col15\" >0.078000</td>\n",
       "      <td id=\"T_a943f_row11_col16\" class=\"data row11 col16\" >0.033000</td>\n",
       "      <td id=\"T_a943f_row11_col17\" class=\"data row11 col17\" >0.123000</td>\n",
       "      <td id=\"T_a943f_row11_col18\" class=\"data row11 col18\" >-0.070000</td>\n",
       "      <td id=\"T_a943f_row11_col19\" class=\"data row11 col19\" >0.041000</td>\n",
       "      <td id=\"T_a943f_row11_col20\" class=\"data row11 col20\" >0.243000</td>\n",
       "      <td id=\"T_a943f_row11_col21\" class=\"data row11 col21\" >0.011000</td>\n",
       "      <td id=\"T_a943f_row11_col22\" class=\"data row11 col22\" >-0.022000</td>\n",
       "      <td id=\"T_a943f_row11_col23\" class=\"data row11 col23\" >-0.014000</td>\n",
       "      <td id=\"T_a943f_row11_col24\" class=\"data row11 col24\" >-0.167000</td>\n",
       "    </tr>\n",
       "    <tr>\n",
       "      <th id=\"T_a943f_level0_row12\" class=\"row_heading level0 row12\" >balcony</th>\n",
       "      <td id=\"T_a943f_row12_col0\" class=\"data row12 col0\" >0.038000</td>\n",
       "      <td id=\"T_a943f_row12_col1\" class=\"data row12 col1\" >0.015000</td>\n",
       "      <td id=\"T_a943f_row12_col2\" class=\"data row12 col2\" >0.024000</td>\n",
       "      <td id=\"T_a943f_row12_col3\" class=\"data row12 col3\" >-0.007000</td>\n",
       "      <td id=\"T_a943f_row12_col4\" class=\"data row12 col4\" >-0.021000</td>\n",
       "      <td id=\"T_a943f_row12_col5\" class=\"data row12 col5\" >0.173000</td>\n",
       "      <td id=\"T_a943f_row12_col6\" class=\"data row12 col6\" >0.023000</td>\n",
       "      <td id=\"T_a943f_row12_col7\" class=\"data row12 col7\" >0.170000</td>\n",
       "      <td id=\"T_a943f_row12_col8\" class=\"data row12 col8\" >0.042000</td>\n",
       "      <td id=\"T_a943f_row12_col9\" class=\"data row12 col9\" >0.027000</td>\n",
       "      <td id=\"T_a943f_row12_col10\" class=\"data row12 col10\" >0.034000</td>\n",
       "      <td id=\"T_a943f_row12_col11\" class=\"data row12 col11\" >-0.029000</td>\n",
       "      <td id=\"T_a943f_row12_col12\" class=\"data row12 col12\" >1.000000</td>\n",
       "      <td id=\"T_a943f_row12_col13\" class=\"data row12 col13\" >0.051000</td>\n",
       "      <td id=\"T_a943f_row12_col14\" class=\"data row12 col14\" >0.037000</td>\n",
       "      <td id=\"T_a943f_row12_col15\" class=\"data row12 col15\" >-0.067000</td>\n",
       "      <td id=\"T_a943f_row12_col16\" class=\"data row12 col16\" >0.045000</td>\n",
       "      <td id=\"T_a943f_row12_col17\" class=\"data row12 col17\" >-0.036000</td>\n",
       "      <td id=\"T_a943f_row12_col18\" class=\"data row12 col18\" >0.012000</td>\n",
       "      <td id=\"T_a943f_row12_col19\" class=\"data row12 col19\" >-0.027000</td>\n",
       "      <td id=\"T_a943f_row12_col20\" class=\"data row12 col20\" >0.028000</td>\n",
       "      <td id=\"T_a943f_row12_col21\" class=\"data row12 col21\" >0.003000</td>\n",
       "      <td id=\"T_a943f_row12_col22\" class=\"data row12 col22\" >0.007000</td>\n",
       "      <td id=\"T_a943f_row12_col23\" class=\"data row12 col23\" >-0.002000</td>\n",
       "      <td id=\"T_a943f_row12_col24\" class=\"data row12 col24\" >0.036000</td>\n",
       "    </tr>\n",
       "    <tr>\n",
       "      <th id=\"T_a943f_level0_row13\" class=\"row_heading level0 row13\" >airports_nearest</th>\n",
       "      <td id=\"T_a943f_row13_col0\" class=\"data row13 col0\" >0.001000</td>\n",
       "      <td id=\"T_a943f_row13_col1\" class=\"data row13 col1\" >-0.033000</td>\n",
       "      <td id=\"T_a943f_row13_col2\" class=\"data row13 col2\" >-0.036000</td>\n",
       "      <td id=\"T_a943f_row13_col3\" class=\"data row13 col3\" >-0.061000</td>\n",
       "      <td id=\"T_a943f_row13_col4\" class=\"data row13 col4\" >-0.083000</td>\n",
       "      <td id=\"T_a943f_row13_col5\" class=\"data row13 col5\" >0.111000</td>\n",
       "      <td id=\"T_a943f_row13_col6\" class=\"data row13 col6\" >-0.053000</td>\n",
       "      <td id=\"T_a943f_row13_col7\" class=\"data row13 col7\" >0.075000</td>\n",
       "      <td id=\"T_a943f_row13_col8\" class=\"data row13 col8\" >0.017000</td>\n",
       "      <td id=\"T_a943f_row13_col9\" class=\"data row13 col9\" >-0.025000</td>\n",
       "      <td id=\"T_a943f_row13_col10\" class=\"data row13 col10\" >-0.015000</td>\n",
       "      <td id=\"T_a943f_row13_col11\" class=\"data row13 col11\" >0.001000</td>\n",
       "      <td id=\"T_a943f_row13_col12\" class=\"data row13 col12\" >0.051000</td>\n",
       "      <td id=\"T_a943f_row13_col13\" class=\"data row13 col13\" >1.000000</td>\n",
       "      <td id=\"T_a943f_row13_col14\" class=\"data row13 col14\" >0.272000</td>\n",
       "      <td id=\"T_a943f_row13_col15\" class=\"data row13 col15\" >0.005000</td>\n",
       "      <td id=\"T_a943f_row13_col16\" class=\"data row13 col16\" >-0.083000</td>\n",
       "      <td id=\"T_a943f_row13_col17\" class=\"data row13 col17\" >-0.047000</td>\n",
       "      <td id=\"T_a943f_row13_col18\" class=\"data row13 col18\" >0.008000</td>\n",
       "      <td id=\"T_a943f_row13_col19\" class=\"data row13 col19\" >-0.018000</td>\n",
       "      <td id=\"T_a943f_row13_col20\" class=\"data row13 col20\" >-0.042000</td>\n",
       "      <td id=\"T_a943f_row13_col21\" class=\"data row13 col21\" >0.004000</td>\n",
       "      <td id=\"T_a943f_row13_col22\" class=\"data row13 col22\" >0.001000</td>\n",
       "      <td id=\"T_a943f_row13_col23\" class=\"data row13 col23\" >0.019000</td>\n",
       "      <td id=\"T_a943f_row13_col24\" class=\"data row13 col24\" >0.273000</td>\n",
       "    </tr>\n",
       "    <tr>\n",
       "      <th id=\"T_a943f_level0_row14\" class=\"row_heading level0 row14\" >city_centers_nearest</th>\n",
       "      <td id=\"T_a943f_row14_col0\" class=\"data row14 col0\" >-0.061000</td>\n",
       "      <td id=\"T_a943f_row14_col1\" class=\"data row14 col1\" >-0.262000</td>\n",
       "      <td id=\"T_a943f_row14_col2\" class=\"data row14 col2\" >-0.263000</td>\n",
       "      <td id=\"T_a943f_row14_col3\" class=\"data row14 col3\" >-0.199000</td>\n",
       "      <td id=\"T_a943f_row14_col4\" class=\"data row14 col4\" >-0.338000</td>\n",
       "      <td id=\"T_a943f_row14_col5\" class=\"data row14 col5\" >-0.049000</td>\n",
       "      <td id=\"T_a943f_row14_col6\" class=\"data row14 col6\" >-0.240000</td>\n",
       "      <td id=\"T_a943f_row14_col7\" class=\"data row14 col7\" >-0.035000</td>\n",
       "      <td id=\"T_a943f_row14_col8\" class=\"data row14 col8\" >0.011000</td>\n",
       "      <td id=\"T_a943f_row14_col9\" class=\"data row14 col9\" >0.006000</td>\n",
       "      <td id=\"T_a943f_row14_col10\" class=\"data row14 col10\" >0.007000</td>\n",
       "      <td id=\"T_a943f_row14_col11\" class=\"data row14 col11\" >-0.165000</td>\n",
       "      <td id=\"T_a943f_row14_col12\" class=\"data row14 col12\" >0.037000</td>\n",
       "      <td id=\"T_a943f_row14_col13\" class=\"data row14 col13\" >0.272000</td>\n",
       "      <td id=\"T_a943f_row14_col14\" class=\"data row14 col14\" >1.000000</td>\n",
       "      <td id=\"T_a943f_row14_col15\" class=\"data row14 col15\" >-0.187000</td>\n",
       "      <td id=\"T_a943f_row14_col16\" class=\"data row14 col16\" >-0.045000</td>\n",
       "      <td id=\"T_a943f_row14_col17\" class=\"data row14 col17\" >-0.116000</td>\n",
       "      <td id=\"T_a943f_row14_col18\" class=\"data row14 col18\" >0.025000</td>\n",
       "      <td id=\"T_a943f_row14_col19\" class=\"data row14 col19\" >-0.047000</td>\n",
       "      <td id=\"T_a943f_row14_col20\" class=\"data row14 col20\" >-0.370000</td>\n",
       "      <td id=\"T_a943f_row14_col21\" class=\"data row14 col21\" >0.009000</td>\n",
       "      <td id=\"T_a943f_row14_col22\" class=\"data row14 col22\" >-0.013000</td>\n",
       "      <td id=\"T_a943f_row14_col23\" class=\"data row14 col23\" >0.034000</td>\n",
       "      <td id=\"T_a943f_row14_col24\" class=\"data row14 col24\" >0.999000</td>\n",
       "    </tr>\n",
       "    <tr>\n",
       "      <th id=\"T_a943f_level0_row15\" class=\"row_heading level0 row15\" >parks_around3000</th>\n",
       "      <td id=\"T_a943f_row15_col0\" class=\"data row15 col0\" >0.036000</td>\n",
       "      <td id=\"T_a943f_row15_col1\" class=\"data row15 col1\" >0.217000</td>\n",
       "      <td id=\"T_a943f_row15_col2\" class=\"data row15 col2\" >0.197000</td>\n",
       "      <td id=\"T_a943f_row15_col3\" class=\"data row15 col3\" >0.155000</td>\n",
       "      <td id=\"T_a943f_row15_col4\" class=\"data row15 col4\" >0.254000</td>\n",
       "      <td id=\"T_a943f_row15_col5\" class=\"data row15 col5\" >-0.164000</td>\n",
       "      <td id=\"T_a943f_row15_col6\" class=\"data row15 col6\" >0.196000</td>\n",
       "      <td id=\"T_a943f_row15_col7\" class=\"data row15 col7\" >-0.107000</td>\n",
       "      <td id=\"T_a943f_row15_col8\" class=\"data row15 col8\" >0.006000</td>\n",
       "      <td id=\"T_a943f_row15_col9\" class=\"data row15 col9\" >-0.033000</td>\n",
       "      <td id=\"T_a943f_row15_col10\" class=\"data row15 col10\" >-0.019000</td>\n",
       "      <td id=\"T_a943f_row15_col11\" class=\"data row15 col11\" >0.078000</td>\n",
       "      <td id=\"T_a943f_row15_col12\" class=\"data row15 col12\" >-0.067000</td>\n",
       "      <td id=\"T_a943f_row15_col13\" class=\"data row15 col13\" >0.005000</td>\n",
       "      <td id=\"T_a943f_row15_col14\" class=\"data row15 col14\" >-0.187000</td>\n",
       "      <td id=\"T_a943f_row15_col15\" class=\"data row15 col15\" >1.000000</td>\n",
       "      <td id=\"T_a943f_row15_col16\" class=\"data row15 col16\" >-0.255000</td>\n",
       "      <td id=\"T_a943f_row15_col17\" class=\"data row15 col17\" >0.388000</td>\n",
       "      <td id=\"T_a943f_row15_col18\" class=\"data row15 col18\" >-0.170000</td>\n",
       "      <td id=\"T_a943f_row15_col19\" class=\"data row15 col19\" >0.047000</td>\n",
       "      <td id=\"T_a943f_row15_col20\" class=\"data row15 col20\" >0.283000</td>\n",
       "      <td id=\"T_a943f_row15_col21\" class=\"data row15 col21\" >-0.009000</td>\n",
       "      <td id=\"T_a943f_row15_col22\" class=\"data row15 col22\" >-0.003000</td>\n",
       "      <td id=\"T_a943f_row15_col23\" class=\"data row15 col23\" >-0.045000</td>\n",
       "      <td id=\"T_a943f_row15_col24\" class=\"data row15 col24\" >-0.190000</td>\n",
       "    </tr>\n",
       "    <tr>\n",
       "      <th id=\"T_a943f_level0_row16\" class=\"row_heading level0 row16\" >parks_nearest</th>\n",
       "      <td id=\"T_a943f_row16_col0\" class=\"data row16 col0\" >0.003000</td>\n",
       "      <td id=\"T_a943f_row16_col1\" class=\"data row16 col1\" >-0.002000</td>\n",
       "      <td id=\"T_a943f_row16_col2\" class=\"data row16 col2\" >-0.009000</td>\n",
       "      <td id=\"T_a943f_row16_col3\" class=\"data row16 col3\" >-0.049000</td>\n",
       "      <td id=\"T_a943f_row16_col4\" class=\"data row16 col4\" >-0.021000</td>\n",
       "      <td id=\"T_a943f_row16_col5\" class=\"data row16 col5\" >0.105000</td>\n",
       "      <td id=\"T_a943f_row16_col6\" class=\"data row16 col6\" >-0.046000</td>\n",
       "      <td id=\"T_a943f_row16_col7\" class=\"data row16 col7\" >0.084000</td>\n",
       "      <td id=\"T_a943f_row16_col8\" class=\"data row16 col8\" >-0.023000</td>\n",
       "      <td id=\"T_a943f_row16_col9\" class=\"data row16 col9\" >0.004000</td>\n",
       "      <td id=\"T_a943f_row16_col10\" class=\"data row16 col10\" >0.019000</td>\n",
       "      <td id=\"T_a943f_row16_col11\" class=\"data row16 col11\" >0.033000</td>\n",
       "      <td id=\"T_a943f_row16_col12\" class=\"data row16 col12\" >0.045000</td>\n",
       "      <td id=\"T_a943f_row16_col13\" class=\"data row16 col13\" >-0.083000</td>\n",
       "      <td id=\"T_a943f_row16_col14\" class=\"data row16 col14\" >-0.045000</td>\n",
       "      <td id=\"T_a943f_row16_col15\" class=\"data row16 col15\" >-0.255000</td>\n",
       "      <td id=\"T_a943f_row16_col16\" class=\"data row16 col16\" >1.000000</td>\n",
       "      <td id=\"T_a943f_row16_col17\" class=\"data row16 col17\" >0.063000</td>\n",
       "      <td id=\"T_a943f_row16_col18\" class=\"data row16 col18\" >0.010000</td>\n",
       "      <td id=\"T_a943f_row16_col19\" class=\"data row16 col19\" >0.016000</td>\n",
       "      <td id=\"T_a943f_row16_col20\" class=\"data row16 col20\" >0.030000</td>\n",
       "      <td id=\"T_a943f_row16_col21\" class=\"data row16 col21\" >-0.005000</td>\n",
       "      <td id=\"T_a943f_row16_col22\" class=\"data row16 col22\" >0.009000</td>\n",
       "      <td id=\"T_a943f_row16_col23\" class=\"data row16 col23\" >-0.013000</td>\n",
       "      <td id=\"T_a943f_row16_col24\" class=\"data row16 col24\" >-0.044000</td>\n",
       "    </tr>\n",
       "    <tr>\n",
       "      <th id=\"T_a943f_level0_row17\" class=\"row_heading level0 row17\" >ponds_around3000</th>\n",
       "      <td id=\"T_a943f_row17_col0\" class=\"data row17 col0\" >0.006000</td>\n",
       "      <td id=\"T_a943f_row17_col1\" class=\"data row17 col1\" >0.223000</td>\n",
       "      <td id=\"T_a943f_row17_col2\" class=\"data row17 col2\" >0.203000</td>\n",
       "      <td id=\"T_a943f_row17_col3\" class=\"data row17 col3\" >0.122000</td>\n",
       "      <td id=\"T_a943f_row17_col4\" class=\"data row17 col4\" >0.251000</td>\n",
       "      <td id=\"T_a943f_row17_col5\" class=\"data row17 col5\" >-0.071000</td>\n",
       "      <td id=\"T_a943f_row17_col6\" class=\"data row17 col6\" >0.177000</td>\n",
       "      <td id=\"T_a943f_row17_col7\" class=\"data row17 col7\" >-0.041000</td>\n",
       "      <td id=\"T_a943f_row17_col8\" class=\"data row17 col8\" >0.018000</td>\n",
       "      <td id=\"T_a943f_row17_col9\" class=\"data row17 col9\" >-0.013000</td>\n",
       "      <td id=\"T_a943f_row17_col10\" class=\"data row17 col10\" >-0.009000</td>\n",
       "      <td id=\"T_a943f_row17_col11\" class=\"data row17 col11\" >0.123000</td>\n",
       "      <td id=\"T_a943f_row17_col12\" class=\"data row17 col12\" >-0.036000</td>\n",
       "      <td id=\"T_a943f_row17_col13\" class=\"data row17 col13\" >-0.047000</td>\n",
       "      <td id=\"T_a943f_row17_col14\" class=\"data row17 col14\" >-0.116000</td>\n",
       "      <td id=\"T_a943f_row17_col15\" class=\"data row17 col15\" >0.388000</td>\n",
       "      <td id=\"T_a943f_row17_col16\" class=\"data row17 col16\" >0.063000</td>\n",
       "      <td id=\"T_a943f_row17_col17\" class=\"data row17 col17\" >1.000000</td>\n",
       "      <td id=\"T_a943f_row17_col18\" class=\"data row17 col18\" >-0.335000</td>\n",
       "      <td id=\"T_a943f_row17_col19\" class=\"data row17 col19\" >0.048000</td>\n",
       "      <td id=\"T_a943f_row17_col20\" class=\"data row17 col20\" >0.298000</td>\n",
       "      <td id=\"T_a943f_row17_col21\" class=\"data row17 col21\" >0.005000</td>\n",
       "      <td id=\"T_a943f_row17_col22\" class=\"data row17 col22\" >-0.008000</td>\n",
       "      <td id=\"T_a943f_row17_col23\" class=\"data row17 col23\" >-0.038000</td>\n",
       "      <td id=\"T_a943f_row17_col24\" class=\"data row17 col24\" >-0.120000</td>\n",
       "    </tr>\n",
       "    <tr>\n",
       "      <th id=\"T_a943f_level0_row18\" class=\"row_heading level0 row18\" >ponds_nearest</th>\n",
       "      <td id=\"T_a943f_row18_col0\" class=\"data row18 col0\" >-0.003000</td>\n",
       "      <td id=\"T_a943f_row18_col1\" class=\"data row18 col1\" >-0.101000</td>\n",
       "      <td id=\"T_a943f_row18_col2\" class=\"data row18 col2\" >-0.099000</td>\n",
       "      <td id=\"T_a943f_row18_col3\" class=\"data row18 col3\" >-0.060000</td>\n",
       "      <td id=\"T_a943f_row18_col4\" class=\"data row18 col4\" >-0.113000</td>\n",
       "      <td id=\"T_a943f_row18_col5\" class=\"data row18 col5\" >0.058000</td>\n",
       "      <td id=\"T_a943f_row18_col6\" class=\"data row18 col6\" >-0.085000</td>\n",
       "      <td id=\"T_a943f_row18_col7\" class=\"data row18 col7\" >0.026000</td>\n",
       "      <td id=\"T_a943f_row18_col8\" class=\"data row18 col8\" >0.003000</td>\n",
       "      <td id=\"T_a943f_row18_col9\" class=\"data row18 col9\" >0.014000</td>\n",
       "      <td id=\"T_a943f_row18_col10\" class=\"data row18 col10\" >0.006000</td>\n",
       "      <td id=\"T_a943f_row18_col11\" class=\"data row18 col11\" >-0.070000</td>\n",
       "      <td id=\"T_a943f_row18_col12\" class=\"data row18 col12\" >0.012000</td>\n",
       "      <td id=\"T_a943f_row18_col13\" class=\"data row18 col13\" >0.008000</td>\n",
       "      <td id=\"T_a943f_row18_col14\" class=\"data row18 col14\" >0.025000</td>\n",
       "      <td id=\"T_a943f_row18_col15\" class=\"data row18 col15\" >-0.170000</td>\n",
       "      <td id=\"T_a943f_row18_col16\" class=\"data row18 col16\" >0.010000</td>\n",
       "      <td id=\"T_a943f_row18_col17\" class=\"data row18 col17\" >-0.335000</td>\n",
       "      <td id=\"T_a943f_row18_col18\" class=\"data row18 col18\" >1.000000</td>\n",
       "      <td id=\"T_a943f_row18_col19\" class=\"data row18 col19\" >-0.065000</td>\n",
       "      <td id=\"T_a943f_row18_col20\" class=\"data row18 col20\" >-0.109000</td>\n",
       "      <td id=\"T_a943f_row18_col21\" class=\"data row18 col21\" >-0.000000</td>\n",
       "      <td id=\"T_a943f_row18_col22\" class=\"data row18 col22\" >0.016000</td>\n",
       "      <td id=\"T_a943f_row18_col23\" class=\"data row18 col23\" >0.035000</td>\n",
       "      <td id=\"T_a943f_row18_col24\" class=\"data row18 col24\" >0.027000</td>\n",
       "    </tr>\n",
       "    <tr>\n",
       "      <th id=\"T_a943f_level0_row19\" class=\"row_heading level0 row19\" >days_exposition</th>\n",
       "      <td id=\"T_a943f_row19_col0\" class=\"data row19 col0\" >-0.018000</td>\n",
       "      <td id=\"T_a943f_row19_col1\" class=\"data row19 col1\" >0.087000</td>\n",
       "      <td id=\"T_a943f_row19_col2\" class=\"data row19 col2\" >0.133000</td>\n",
       "      <td id=\"T_a943f_row19_col3\" class=\"data row19 col3\" >0.118000</td>\n",
       "      <td id=\"T_a943f_row19_col4\" class=\"data row19 col4\" >0.103000</td>\n",
       "      <td id=\"T_a943f_row19_col5\" class=\"data row19 col5\" >-0.058000</td>\n",
       "      <td id=\"T_a943f_row19_col6\" class=\"data row19 col6\" >0.131000</td>\n",
       "      <td id=\"T_a943f_row19_col7\" class=\"data row19 col7\" >-0.043000</td>\n",
       "      <td id=\"T_a943f_row19_col8\" class=\"data row19 col8\" >0.002000</td>\n",
       "      <td id=\"T_a943f_row19_col9\" class=\"data row19 col9\" >-0.018000</td>\n",
       "      <td id=\"T_a943f_row19_col10\" class=\"data row19 col10\" >-0.023000</td>\n",
       "      <td id=\"T_a943f_row19_col11\" class=\"data row19 col11\" >0.041000</td>\n",
       "      <td id=\"T_a943f_row19_col12\" class=\"data row19 col12\" >-0.027000</td>\n",
       "      <td id=\"T_a943f_row19_col13\" class=\"data row19 col13\" >-0.018000</td>\n",
       "      <td id=\"T_a943f_row19_col14\" class=\"data row19 col14\" >-0.047000</td>\n",
       "      <td id=\"T_a943f_row19_col15\" class=\"data row19 col15\" >0.047000</td>\n",
       "      <td id=\"T_a943f_row19_col16\" class=\"data row19 col16\" >0.016000</td>\n",
       "      <td id=\"T_a943f_row19_col17\" class=\"data row19 col17\" >0.048000</td>\n",
       "      <td id=\"T_a943f_row19_col18\" class=\"data row19 col18\" >-0.065000</td>\n",
       "      <td id=\"T_a943f_row19_col19\" class=\"data row19 col19\" >1.000000</td>\n",
       "      <td id=\"T_a943f_row19_col20\" class=\"data row19 col20\" >0.031000</td>\n",
       "      <td id=\"T_a943f_row19_col21\" class=\"data row19 col21\" >-0.013000</td>\n",
       "      <td id=\"T_a943f_row19_col22\" class=\"data row19 col22\" >-0.038000</td>\n",
       "      <td id=\"T_a943f_row19_col23\" class=\"data row19 col23\" >-0.569000</td>\n",
       "      <td id=\"T_a943f_row19_col24\" class=\"data row19 col24\" >-0.046000</td>\n",
       "    </tr>\n",
       "    <tr>\n",
       "      <th id=\"T_a943f_level0_row20\" class=\"row_heading level0 row20\" >square_meter_price</th>\n",
       "      <td id=\"T_a943f_row20_col0\" class=\"data row20 col0\" >0.123000</td>\n",
       "      <td id=\"T_a943f_row20_col1\" class=\"data row20 col1\" >0.752000</td>\n",
       "      <td id=\"T_a943f_row20_col2\" class=\"data row20 col2\" >0.277000</td>\n",
       "      <td id=\"T_a943f_row20_col3\" class=\"data row20 col3\" >0.034000</td>\n",
       "      <td id=\"T_a943f_row20_col4\" class=\"data row20 col4\" >0.370000</td>\n",
       "      <td id=\"T_a943f_row20_col5\" class=\"data row20 col5\" >0.165000</td>\n",
       "      <td id=\"T_a943f_row20_col6\" class=\"data row20 col6\" >0.193000</td>\n",
       "      <td id=\"T_a943f_row20_col7\" class=\"data row20 col7\" >0.140000</td>\n",
       "      <td id=\"T_a943f_row20_col8\" class=\"data row20 col8\" >0.029000</td>\n",
       "      <td id=\"T_a943f_row20_col9\" class=\"data row20 col9\" >0.020000</td>\n",
       "      <td id=\"T_a943f_row20_col10\" class=\"data row20 col10\" >0.009000</td>\n",
       "      <td id=\"T_a943f_row20_col11\" class=\"data row20 col11\" >0.243000</td>\n",
       "      <td id=\"T_a943f_row20_col12\" class=\"data row20 col12\" >0.028000</td>\n",
       "      <td id=\"T_a943f_row20_col13\" class=\"data row20 col13\" >-0.042000</td>\n",
       "      <td id=\"T_a943f_row20_col14\" class=\"data row20 col14\" >-0.370000</td>\n",
       "      <td id=\"T_a943f_row20_col15\" class=\"data row20 col15\" >0.283000</td>\n",
       "      <td id=\"T_a943f_row20_col16\" class=\"data row20 col16\" >0.030000</td>\n",
       "      <td id=\"T_a943f_row20_col17\" class=\"data row20 col17\" >0.298000</td>\n",
       "      <td id=\"T_a943f_row20_col18\" class=\"data row20 col18\" >-0.109000</td>\n",
       "      <td id=\"T_a943f_row20_col19\" class=\"data row20 col19\" >0.031000</td>\n",
       "      <td id=\"T_a943f_row20_col20\" class=\"data row20 col20\" >1.000000</td>\n",
       "      <td id=\"T_a943f_row20_col21\" class=\"data row20 col21\" >-0.002000</td>\n",
       "      <td id=\"T_a943f_row20_col22\" class=\"data row20 col22\" >0.000000</td>\n",
       "      <td id=\"T_a943f_row20_col23\" class=\"data row20 col23\" >0.012000</td>\n",
       "      <td id=\"T_a943f_row20_col24\" class=\"data row20 col24\" >-0.374000</td>\n",
       "    </tr>\n",
       "    <tr>\n",
       "      <th id=\"T_a943f_level0_row21\" class=\"row_heading level0 row21\" >week_day_exposition</th>\n",
       "      <td id=\"T_a943f_row21_col0\" class=\"data row21 col0\" >-0.006000</td>\n",
       "      <td id=\"T_a943f_row21_col1\" class=\"data row21 col1\" >0.003000</td>\n",
       "      <td id=\"T_a943f_row21_col2\" class=\"data row21 col2\" >-0.002000</td>\n",
       "      <td id=\"T_a943f_row21_col3\" class=\"data row21 col3\" >-0.005000</td>\n",
       "      <td id=\"T_a943f_row21_col4\" class=\"data row21 col4\" >-0.008000</td>\n",
       "      <td id=\"T_a943f_row21_col5\" class=\"data row21 col5\" >0.016000</td>\n",
       "      <td id=\"T_a943f_row21_col6\" class=\"data row21 col6\" >-0.009000</td>\n",
       "      <td id=\"T_a943f_row21_col7\" class=\"data row21 col7\" >0.012000</td>\n",
       "      <td id=\"T_a943f_row21_col8\" class=\"data row21 col8\" >-0.010000</td>\n",
       "      <td id=\"T_a943f_row21_col9\" class=\"data row21 col9\" >0.001000</td>\n",
       "      <td id=\"T_a943f_row21_col10\" class=\"data row21 col10\" >0.008000</td>\n",
       "      <td id=\"T_a943f_row21_col11\" class=\"data row21 col11\" >0.011000</td>\n",
       "      <td id=\"T_a943f_row21_col12\" class=\"data row21 col12\" >0.003000</td>\n",
       "      <td id=\"T_a943f_row21_col13\" class=\"data row21 col13\" >0.004000</td>\n",
       "      <td id=\"T_a943f_row21_col14\" class=\"data row21 col14\" >0.009000</td>\n",
       "      <td id=\"T_a943f_row21_col15\" class=\"data row21 col15\" >-0.009000</td>\n",
       "      <td id=\"T_a943f_row21_col16\" class=\"data row21 col16\" >-0.005000</td>\n",
       "      <td id=\"T_a943f_row21_col17\" class=\"data row21 col17\" >0.005000</td>\n",
       "      <td id=\"T_a943f_row21_col18\" class=\"data row21 col18\" >-0.000000</td>\n",
       "      <td id=\"T_a943f_row21_col19\" class=\"data row21 col19\" >-0.013000</td>\n",
       "      <td id=\"T_a943f_row21_col20\" class=\"data row21 col20\" >-0.002000</td>\n",
       "      <td id=\"T_a943f_row21_col21\" class=\"data row21 col21\" >1.000000</td>\n",
       "      <td id=\"T_a943f_row21_col22\" class=\"data row21 col22\" >0.008000</td>\n",
       "      <td id=\"T_a943f_row21_col23\" class=\"data row21 col23\" >0.001000</td>\n",
       "      <td id=\"T_a943f_row21_col24\" class=\"data row21 col24\" >0.009000</td>\n",
       "    </tr>\n",
       "    <tr>\n",
       "      <th id=\"T_a943f_level0_row22\" class=\"row_heading level0 row22\" >month_exposition</th>\n",
       "      <td id=\"T_a943f_row22_col0\" class=\"data row22 col0\" >0.025000</td>\n",
       "      <td id=\"T_a943f_row22_col1\" class=\"data row22 col1\" >-0.005000</td>\n",
       "      <td id=\"T_a943f_row22_col2\" class=\"data row22 col2\" >0.000000</td>\n",
       "      <td id=\"T_a943f_row22_col3\" class=\"data row22 col3\" >0.002000</td>\n",
       "      <td id=\"T_a943f_row22_col4\" class=\"data row22 col4\" >-0.002000</td>\n",
       "      <td id=\"T_a943f_row22_col5\" class=\"data row22 col5\" >0.009000</td>\n",
       "      <td id=\"T_a943f_row22_col6\" class=\"data row22 col6\" >0.001000</td>\n",
       "      <td id=\"T_a943f_row22_col7\" class=\"data row22 col7\" >0.017000</td>\n",
       "      <td id=\"T_a943f_row22_col8\" class=\"data row22 col8\" >-0.008000</td>\n",
       "      <td id=\"T_a943f_row22_col9\" class=\"data row22 col9\" >0.002000</td>\n",
       "      <td id=\"T_a943f_row22_col10\" class=\"data row22 col10\" >0.023000</td>\n",
       "      <td id=\"T_a943f_row22_col11\" class=\"data row22 col11\" >-0.022000</td>\n",
       "      <td id=\"T_a943f_row22_col12\" class=\"data row22 col12\" >0.007000</td>\n",
       "      <td id=\"T_a943f_row22_col13\" class=\"data row22 col13\" >0.001000</td>\n",
       "      <td id=\"T_a943f_row22_col14\" class=\"data row22 col14\" >-0.013000</td>\n",
       "      <td id=\"T_a943f_row22_col15\" class=\"data row22 col15\" >-0.003000</td>\n",
       "      <td id=\"T_a943f_row22_col16\" class=\"data row22 col16\" >0.009000</td>\n",
       "      <td id=\"T_a943f_row22_col17\" class=\"data row22 col17\" >-0.008000</td>\n",
       "      <td id=\"T_a943f_row22_col18\" class=\"data row22 col18\" >0.016000</td>\n",
       "      <td id=\"T_a943f_row22_col19\" class=\"data row22 col19\" >-0.038000</td>\n",
       "      <td id=\"T_a943f_row22_col20\" class=\"data row22 col20\" >0.000000</td>\n",
       "      <td id=\"T_a943f_row22_col21\" class=\"data row22 col21\" >0.008000</td>\n",
       "      <td id=\"T_a943f_row22_col22\" class=\"data row22 col22\" >1.000000</td>\n",
       "      <td id=\"T_a943f_row22_col23\" class=\"data row22 col23\" >-0.193000</td>\n",
       "      <td id=\"T_a943f_row22_col24\" class=\"data row22 col24\" >-0.014000</td>\n",
       "    </tr>\n",
       "    <tr>\n",
       "      <th id=\"T_a943f_level0_row23\" class=\"row_heading level0 row23\" >year_exposition</th>\n",
       "      <td id=\"T_a943f_row23_col0\" class=\"data row23 col0\" >0.121000</td>\n",
       "      <td id=\"T_a943f_row23_col1\" class=\"data row23 col1\" >-0.051000</td>\n",
       "      <td id=\"T_a943f_row23_col2\" class=\"data row23 col2\" >-0.092000</td>\n",
       "      <td id=\"T_a943f_row23_col3\" class=\"data row23 col3\" >-0.087000</td>\n",
       "      <td id=\"T_a943f_row23_col4\" class=\"data row23 col4\" >-0.061000</td>\n",
       "      <td id=\"T_a943f_row23_col5\" class=\"data row23 col5\" >0.033000</td>\n",
       "      <td id=\"T_a943f_row23_col6\" class=\"data row23 col6\" >-0.091000</td>\n",
       "      <td id=\"T_a943f_row23_col7\" class=\"data row23 col7\" >0.023000</td>\n",
       "      <td id=\"T_a943f_row23_col8\" class=\"data row23 col8\" >0.017000</td>\n",
       "      <td id=\"T_a943f_row23_col9\" class=\"data row23 col9\" >0.014000</td>\n",
       "      <td id=\"T_a943f_row23_col10\" class=\"data row23 col10\" >-0.015000</td>\n",
       "      <td id=\"T_a943f_row23_col11\" class=\"data row23 col11\" >-0.014000</td>\n",
       "      <td id=\"T_a943f_row23_col12\" class=\"data row23 col12\" >-0.002000</td>\n",
       "      <td id=\"T_a943f_row23_col13\" class=\"data row23 col13\" >0.019000</td>\n",
       "      <td id=\"T_a943f_row23_col14\" class=\"data row23 col14\" >0.034000</td>\n",
       "      <td id=\"T_a943f_row23_col15\" class=\"data row23 col15\" >-0.045000</td>\n",
       "      <td id=\"T_a943f_row23_col16\" class=\"data row23 col16\" >-0.013000</td>\n",
       "      <td id=\"T_a943f_row23_col17\" class=\"data row23 col17\" >-0.038000</td>\n",
       "      <td id=\"T_a943f_row23_col18\" class=\"data row23 col18\" >0.035000</td>\n",
       "      <td id=\"T_a943f_row23_col19\" class=\"data row23 col19\" >-0.569000</td>\n",
       "      <td id=\"T_a943f_row23_col20\" class=\"data row23 col20\" >0.012000</td>\n",
       "      <td id=\"T_a943f_row23_col21\" class=\"data row23 col21\" >0.001000</td>\n",
       "      <td id=\"T_a943f_row23_col22\" class=\"data row23 col22\" >-0.193000</td>\n",
       "      <td id=\"T_a943f_row23_col23\" class=\"data row23 col23\" >1.000000</td>\n",
       "      <td id=\"T_a943f_row23_col24\" class=\"data row23 col24\" >0.034000</td>\n",
       "    </tr>\n",
       "    <tr>\n",
       "      <th id=\"T_a943f_level0_row24\" class=\"row_heading level0 row24\" >city_centers_nearest_km</th>\n",
       "      <td id=\"T_a943f_row24_col0\" class=\"data row24 col0\" >-0.061000</td>\n",
       "      <td id=\"T_a943f_row24_col1\" class=\"data row24 col1\" >-0.265000</td>\n",
       "      <td id=\"T_a943f_row24_col2\" class=\"data row24 col2\" >-0.265000</td>\n",
       "      <td id=\"T_a943f_row24_col3\" class=\"data row24 col3\" >-0.201000</td>\n",
       "      <td id=\"T_a943f_row24_col4\" class=\"data row24 col4\" >-0.340000</td>\n",
       "      <td id=\"T_a943f_row24_col5\" class=\"data row24 col5\" >-0.051000</td>\n",
       "      <td id=\"T_a943f_row24_col6\" class=\"data row24 col6\" >-0.241000</td>\n",
       "      <td id=\"T_a943f_row24_col7\" class=\"data row24 col7\" >-0.037000</td>\n",
       "      <td id=\"T_a943f_row24_col8\" class=\"data row24 col8\" >0.010000</td>\n",
       "      <td id=\"T_a943f_row24_col9\" class=\"data row24 col9\" >0.007000</td>\n",
       "      <td id=\"T_a943f_row24_col10\" class=\"data row24 col10\" >0.008000</td>\n",
       "      <td id=\"T_a943f_row24_col11\" class=\"data row24 col11\" >-0.167000</td>\n",
       "      <td id=\"T_a943f_row24_col12\" class=\"data row24 col12\" >0.036000</td>\n",
       "      <td id=\"T_a943f_row24_col13\" class=\"data row24 col13\" >0.273000</td>\n",
       "      <td id=\"T_a943f_row24_col14\" class=\"data row24 col14\" >0.999000</td>\n",
       "      <td id=\"T_a943f_row24_col15\" class=\"data row24 col15\" >-0.190000</td>\n",
       "      <td id=\"T_a943f_row24_col16\" class=\"data row24 col16\" >-0.044000</td>\n",
       "      <td id=\"T_a943f_row24_col17\" class=\"data row24 col17\" >-0.120000</td>\n",
       "      <td id=\"T_a943f_row24_col18\" class=\"data row24 col18\" >0.027000</td>\n",
       "      <td id=\"T_a943f_row24_col19\" class=\"data row24 col19\" >-0.046000</td>\n",
       "      <td id=\"T_a943f_row24_col20\" class=\"data row24 col20\" >-0.374000</td>\n",
       "      <td id=\"T_a943f_row24_col21\" class=\"data row24 col21\" >0.009000</td>\n",
       "      <td id=\"T_a943f_row24_col22\" class=\"data row24 col22\" >-0.014000</td>\n",
       "      <td id=\"T_a943f_row24_col23\" class=\"data row24 col23\" >0.034000</td>\n",
       "      <td id=\"T_a943f_row24_col24\" class=\"data row24 col24\" >1.000000</td>\n",
       "    </tr>\n",
       "  </tbody>\n",
       "</table>\n"
      ],
      "text/plain": [
       "<pandas.io.formats.style.Styler at 0x1d42c27d220>"
      ]
     },
     "execution_count": 94,
     "metadata": {},
     "output_type": "execute_result"
    }
   ],
   "source": [
    "corr = data.corr().round(3)\n",
    "corr.style.background_gradient(cmap='coolwarm')"
   ]
  },
  {
   "cell_type": "markdown",
   "id": "5db9f7e4",
   "metadata": {},
   "source": [
    "###### Корреляции к last_price:\n",
    "\n",
    "        - общей площади : 0.639000\n",
    "        - жилой площади : 0.569000\n",
    "        - площади кухни : 0.381000\n",
    "        - количество комнат : 0.386000         \n",
    "        - даты размещения (день недели) : 0.005000\n",
    "        - даты размещения (месяц): -0.016000\n",
    "        - даты размещения (год): -0.025000"
   ]
  },
  {
   "cell_type": "markdown",
   "id": "b7e9fb1b",
   "metadata": {},
   "source": [
    "Теперь посмотрим зависимость между средней ценой и типом этажа "
   ]
  },
  {
   "cell_type": "code",
   "execution_count": 95,
   "id": "9e2b1525",
   "metadata": {
    "scrolled": true
   },
   "outputs": [
    {
     "data": {
      "text/html": [
       "<div>\n",
       "<style scoped>\n",
       "    .dataframe tbody tr th:only-of-type {\n",
       "        vertical-align: middle;\n",
       "    }\n",
       "\n",
       "    .dataframe tbody tr th {\n",
       "        vertical-align: top;\n",
       "    }\n",
       "\n",
       "    .dataframe thead th {\n",
       "        text-align: right;\n",
       "    }\n",
       "</style>\n",
       "<table border=\"1\" class=\"dataframe\">\n",
       "  <thead>\n",
       "    <tr style=\"text-align: right;\">\n",
       "      <th></th>\n",
       "      <th>floor_type</th>\n",
       "      <th>median_price</th>\n",
       "    </tr>\n",
       "  </thead>\n",
       "  <tbody>\n",
       "    <tr>\n",
       "      <th>0</th>\n",
       "      <td>else</td>\n",
       "      <td>4.700000</td>\n",
       "    </tr>\n",
       "    <tr>\n",
       "      <th>1</th>\n",
       "      <td>first</td>\n",
       "      <td>3.810514</td>\n",
       "    </tr>\n",
       "    <tr>\n",
       "      <th>2</th>\n",
       "      <td>last</td>\n",
       "      <td>4.250000</td>\n",
       "    </tr>\n",
       "  </tbody>\n",
       "</table>\n",
       "</div>"
      ],
      "text/plain": [
       "  floor_type  median_price\n",
       "0       else      4.700000\n",
       "1      first      3.810514\n",
       "2       last      4.250000"
      ]
     },
     "execution_count": 95,
     "metadata": {},
     "output_type": "execute_result"
    }
   ],
   "source": [
    "list1 = ['else',data[data['floor_type'] == 'else'].last_price.median()/1e06]\n",
    "list2 = ['first',data[data['floor_type'] == 'first'].last_price.median()/1e06]        \n",
    "list3 = ['last',data[data['floor_type'] == 'last'].last_price.median()/1e06]      \n",
    "floor_type_price = pd.DataFrame([list1, list2, list3], columns= ['floor_type', 'median_price'])\n",
    "floor_type_price.head()"
   ]
  },
  {
   "cell_type": "code",
   "execution_count": 96,
   "id": "67ccd344",
   "metadata": {},
   "outputs": [
    {
     "data": {
      "text/plain": [
       "13793"
      ]
     },
     "execution_count": 96,
     "metadata": {},
     "output_type": "execute_result"
    }
   ],
   "source": [
    "data[data['floor_type'] == 'else'].last_price.count()"
   ]
  },
  {
   "cell_type": "code",
   "execution_count": 97,
   "id": "63a2e4c4",
   "metadata": {},
   "outputs": [
    {
     "data": {
      "text/plain": [
       "2238"
      ]
     },
     "execution_count": 97,
     "metadata": {},
     "output_type": "execute_result"
    }
   ],
   "source": [
    "data[data['floor_type'] == 'first'].last_price.count()"
   ]
  },
  {
   "cell_type": "code",
   "execution_count": 98,
   "id": "68d7db0b",
   "metadata": {},
   "outputs": [
    {
     "data": {
      "text/plain": [
       "2566"
      ]
     },
     "execution_count": 98,
     "metadata": {},
     "output_type": "execute_result"
    }
   ],
   "source": [
    "data[data['floor_type'] == 'last'].last_price.count()"
   ]
  },
  {
   "cell_type": "code",
   "execution_count": 99,
   "id": "bc41ba70",
   "metadata": {},
   "outputs": [
    {
     "data": {
      "text/plain": [
       "<AxesSubplot:xlabel='floor_type', ylabel='median_price'>"
      ]
     },
     "execution_count": 99,
     "metadata": {},
     "output_type": "execute_result"
    },
    {
     "data": {
      "image/png": "[encoded data removed]",
      "text/plain": [
       "<Figure size 432x288 with 1 Axes>"
      ]
     },
     "metadata": {
      "needs_background": "light"
     },
     "output_type": "display_data"
    }
   ],
   "source": [
    "import seaborn as sns\n",
    "sns.barplot(data= floor_type_price, x='floor_type', y='median_price')"
   ]
  },
  {
   "cell_type": "markdown",
   "id": "bf7bcbaf",
   "metadata": {},
   "source": [
    "**Вывод:**\n",
    "\n",
    "На цену объекта недвижимости влияют:  общая площадь (соответствено и жилая площадь, площадь кухни, количество комнат и цена м2). Дата практически не влияет на цену. Не смотря на то, что медианная цена на квартиры не на последнем и первом этаже больше, количество квартир на первом и последнем этажах мало, что не позволяет делать однозначный вывод"
   ]
  },
  {
   "cell_type": "markdown",
   "id": "ac3080cd",
   "metadata": {},
   "source": [
    "### 4.2.3 Расчитаем среднюю стоимость м2 "
   ]
  },
  {
   "cell_type": "code",
   "execution_count": 100,
   "id": "76f2dd50",
   "metadata": {},
   "outputs": [
    {
     "data": {
      "text/plain": [
       "locality_name\n",
       "лисий нос          113728.348730\n",
       "санкт-петербург    102957.135106\n",
       "зеленогорск        100000.000000\n",
       "сестрорецк          98364.164501\n",
       "пушкин              97988.680008\n",
       "кудрово             95026.041667\n",
       "парголово           90873.186845\n",
       "мистолово           89247.449733\n",
       "стрельна            87323.348694\n",
       "репино              86542.207792\n",
       "Name: square_meter_price, dtype: float64"
      ]
     },
     "execution_count": 100,
     "metadata": {},
     "output_type": "execute_result"
    }
   ],
   "source": [
    "data.groupby('locality_name').square_meter_price.median().sort_values(ascending = False).head(10)"
   ]
  },
  {
   "cell_type": "markdown",
   "id": "9aacfa7c",
   "metadata": {},
   "source": [
    "Вывод: Самые большая цена за м2 в Спб и курортных пригородах, далее идут ближайшие не курортные пригороды и населенные пункты"
   ]
  },
  {
   "cell_type": "markdown",
   "id": "f20b8dab",
   "metadata": {},
   "source": [
    "### 4.2.3 Расчитаем стоимость \"километра\" в Спб"
   ]
  },
  {
   "cell_type": "markdown",
   "id": "588c99ac",
   "metadata": {},
   "source": [
    "Расчитает расстояние в километрах от центра до самого дальнего объекта недвижимости "
   ]
  },
  {
   "cell_type": "code",
   "execution_count": 101,
   "id": "dcf1ba8e",
   "metadata": {},
   "outputs": [
    {
     "data": {
      "text/plain": [
       "29"
      ]
     },
     "execution_count": 101,
     "metadata": {},
     "output_type": "execute_result"
    }
   ],
   "source": [
    "city_centers_nearest_spb = data[data['locality_name'] == 'санкт-петербург']\n",
    "max_km = city_centers_nearest_spb.city_centers_nearest_km.max()\n",
    "max_km"
   ]
  },
  {
   "cell_type": "markdown",
   "id": "afe5f9a5",
   "metadata": {},
   "source": [
    "Расчитаем разницу в стоимости между объявлением в центре и самым отдаленным от центра объектом"
   ]
  },
  {
   "cell_type": "code",
   "execution_count": 102,
   "id": "c1bbd462",
   "metadata": {},
   "outputs": [],
   "source": [
    "zero_km_price = city_centers_nearest_spb[city_centers_nearest_spb['city_centers_nearest_km'] == 0].last_price.median()\n",
    "max_km_price = city_centers_nearest_spb[city_centers_nearest_spb['city_centers_nearest_km'] == 29].last_price.median()\n",
    "difference_km_price = zero_km_price - max_km"
   ]
  },
  {
   "cell_type": "code",
   "execution_count": 103,
   "id": "072f7dd0",
   "metadata": {},
   "outputs": [
    {
     "data": {
      "text/plain": [
       "0.3877576206896552"
      ]
     },
     "execution_count": 103,
     "metadata": {},
     "output_type": "execute_result"
    }
   ],
   "source": [
    "(difference_km_price/max_km)/1e06"
   ]
  },
  {
   "cell_type": "markdown",
   "id": "27143d50",
   "metadata": {},
   "source": [
    "C приближением к центру города стоимость квартиры увеличивается в среднем на ~388 тыс.руб за 1 км"
   ]
  },
  {
   "cell_type": "markdown",
   "id": "3251c609",
   "metadata": {},
   "source": [
    "## Шаг 5. Общий вывод"
   ]
  },
  {
   "cell_type": "markdown",
   "id": "45c9dbd1",
   "metadata": {},
   "source": [
    "#### 5.1. Цель работы: "
   ]
  },
  {
   "cell_type": "markdown",
   "id": "46b4919c",
   "metadata": {},
   "source": [
    "По данным от Яндекс недвижимости выполнить предобработку данных и изучить их,   \n",
    "чтобы найти интересные особенности и зависимости, которые существуют на рынке недвижимости, а именно:\n",
    "    \n",
    "1. Изучить, как быстро продавались квартиры\n",
    "2. Определить какие факторы больше всего влияют на общую (полную) стоимость объекта?\n",
    "3. Посчитать среднюю цену одного квадратного метра в 10 населённых пунктах с наибольшим числом объявлений. Выделить населённые пункты с самой высокой и низкой стоимостью квадратного метра. \n",
    "4. Найти закономерность между стоимостью объектов зависит от расстояния до центра города."
   ]
  },
  {
   "cell_type": "markdown",
   "id": "a97c5d42",
   "metadata": {},
   "source": [
    "#### 5.2. Анализ и предобработка представленного датасета с данными о заемщиках банка с данными о недвижимости по Спб и Ленинградской области"
   ]
  },
  {
   "cell_type": "markdown",
   "id": "442df81e",
   "metadata": {},
   "source": [
    "В рамках предобработки данных были обнаружены следующие ошибки в датасете:\n",
    "    \n",
    "    1. Наименование столбца cityCenters_nearest несоответствует snake_case\n",
    "    2. В столбцах  ceiling_height, living_area, is_apartment, kitchen_area, balcony, airports_nearest,  \n",
    "    cityCenters_nearest, parks_around3000, parks_neares, ponds_around3000, ponds_nearest, first_day_exposition \n",
    "    имеют пропуски (значения NaN). Данные пропуски связаны как с человеческим фактором так и с ошибками в стороннем ПО \n",
    "    и сборе данных\n",
    "    3. Наличие выбросов в датасете. Например явные ошибки при записи десятичных дробей в высоте пололков (25 вместо 2.5)\n",
    "    4. Наличие неявных дубликатов в столбце locality_name. Например поселок городского типа Рябово и посёлок Рябово  \n",
    "    5. Неверный тип переменных в столбцах. Например object в столбце is_apartament или float в столбце days_exposition "
   ]
  },
  {
   "cell_type": "markdown",
   "id": "c9666c06",
   "metadata": {},
   "source": [
    "В ходе предобработки данного датасета **были выполнены следующие действия:**  \n",
    "\n",
    "1. Пропуски в столбцах где это возможно были заполнены медианным значением из соответствующих группc помощью логической индексации и метода  (например столбцы kitchen_area и living_area медианными значениями по группам по количеству комнат) .median()\n",
    "2. Где это было логически обосновано, пропуски были заполнены нулями (например в столбце is_apartament и balcony)\n",
    "3. Изменены типы столбцов is_apartament и balcony, first_day_exposition, floors_total, parks_around3000, ponds_around300\n",
    "3. Обработаны неявные дубликаты в столбце locality_name: значения в столбце приведены к одному регистру с помощью метода .str.lower(), убраны наименования населенных пунктов."
   ]
  },
  {
   "cell_type": "markdown",
   "id": "8bbfcac7",
   "metadata": {},
   "source": [
    "Для дальнейшего анализа были добавлены столбцы:\n",
    "\n",
    " 1. цена одного квадратного метра\n",
    " 2. день публикации объявления (0 - понедельник, 1 - вторник и т.д.)\n",
    " 3. месяц публикации объявления\n",
    " 4. год публикации объявления\n",
    " 5. тип этажа квартиры (значения — «первый», «последний», «другой»)\n",
    " 6. расстояние в км до центра города"
   ]
  },
  {
   "cell_type": "markdown",
   "id": "5a97183b",
   "metadata": {},
   "source": [
    "После преобработки данных по каждому столбцу были построены гистограммы для визуализации результатов"
   ]
  },
  {
   "cell_type": "markdown",
   "id": "a641ccf7",
   "metadata": {},
   "source": [
    "В ходе дальнейшего анализа для определения факторов, влияющих на цену объекта недвижимости, была построена таблица корреляции ниже"
   ]
  },
  {
   "cell_type": "code",
   "execution_count": 104,
   "id": "e8ce4455",
   "metadata": {},
   "outputs": [
    {
     "data": {
      "text/html": [
       "<style type=\"text/css\">\n",
       "#T_a9e6f_row0_col0, #T_a9e6f_row1_col1, #T_a9e6f_row2_col2, #T_a9e6f_row3_col3, #T_a9e6f_row4_col4, #T_a9e6f_row5_col5, #T_a9e6f_row6_col6, #T_a9e6f_row7_col7, #T_a9e6f_row8_col8, #T_a9e6f_row9_col9, #T_a9e6f_row10_col10, #T_a9e6f_row11_col11, #T_a9e6f_row12_col12, #T_a9e6f_row13_col13, #T_a9e6f_row14_col14, #T_a9e6f_row14_col24, #T_a9e6f_row15_col15, #T_a9e6f_row16_col16, #T_a9e6f_row17_col17, #T_a9e6f_row18_col18, #T_a9e6f_row19_col19, #T_a9e6f_row20_col20, #T_a9e6f_row21_col21, #T_a9e6f_row22_col22, #T_a9e6f_row23_col23, #T_a9e6f_row24_col14, #T_a9e6f_row24_col24 {\n",
       "  background-color: #b40426;\n",
       "  color: #f1f1f1;\n",
       "}\n",
       "#T_a9e6f_row0_col1, #T_a9e6f_row1_col0, #T_a9e6f_row18_col20, #T_a9e6f_row20_col18 {\n",
       "  background-color: #5b7ae5;\n",
       "  color: #f1f1f1;\n",
       "}\n",
       "#T_a9e6f_row0_col2, #T_a9e6f_row2_col0, #T_a9e6f_row4_col18, #T_a9e6f_row5_col11, #T_a9e6f_row5_col13, #T_a9e6f_row11_col5, #T_a9e6f_row13_col5, #T_a9e6f_row14_col17, #T_a9e6f_row17_col14, #T_a9e6f_row18_col4 {\n",
       "  background-color: #5d7ce6;\n",
       "  color: #f1f1f1;\n",
       "}\n",
       "#T_a9e6f_row0_col3, #T_a9e6f_row2_col23, #T_a9e6f_row3_col0, #T_a9e6f_row3_col10, #T_a9e6f_row6_col23, #T_a9e6f_row10_col3, #T_a9e6f_row23_col2, #T_a9e6f_row23_col6 {\n",
       "  background-color: #5673e0;\n",
       "  color: #f1f1f1;\n",
       "}\n",
       "#T_a9e6f_row0_col4, #T_a9e6f_row4_col0, #T_a9e6f_row5_col17, #T_a9e6f_row12_col15, #T_a9e6f_row13_col7, #T_a9e6f_row15_col12, #T_a9e6f_row18_col19, #T_a9e6f_row19_col18 {\n",
       "  background-color: #4e68d8;\n",
       "  color: #f1f1f1;\n",
       "}\n",
       "#T_a9e6f_row0_col5, #T_a9e6f_row0_col13, #T_a9e6f_row0_col16, #T_a9e6f_row0_col17, #T_a9e6f_row0_col18, #T_a9e6f_row1_col5, #T_a9e6f_row1_col16, #T_a9e6f_row1_col21, #T_a9e6f_row2_col8, #T_a9e6f_row2_col21, #T_a9e6f_row2_col22, #T_a9e6f_row3_col22, #T_a9e6f_row4_col9, #T_a9e6f_row4_col22, #T_a9e6f_row5_col0, #T_a9e6f_row5_col1, #T_a9e6f_row6_col8, #T_a9e6f_row6_col22, #T_a9e6f_row8_col1, #T_a9e6f_row8_col2, #T_a9e6f_row8_col6, #T_a9e6f_row8_col7, #T_a9e6f_row8_col9, #T_a9e6f_row8_col10, #T_a9e6f_row8_col15, #T_a9e6f_row8_col18, #T_a9e6f_row8_col19, #T_a9e6f_row8_col24, #T_a9e6f_row9_col4, #T_a9e6f_row9_col8, #T_a9e6f_row9_col10, #T_a9e6f_row9_col14, #T_a9e6f_row9_col16, #T_a9e6f_row9_col21, #T_a9e6f_row9_col22, #T_a9e6f_row9_col24, #T_a9e6f_row10_col8, #T_a9e6f_row10_col9, #T_a9e6f_row10_col14, #T_a9e6f_row10_col24, #T_a9e6f_row11_col13, #T_a9e6f_row12_col21, #T_a9e6f_row12_col23, #T_a9e6f_row13_col0, #T_a9e6f_row13_col11, #T_a9e6f_row13_col15, #T_a9e6f_row13_col22, #T_a9e6f_row15_col22, #T_a9e6f_row16_col0, #T_a9e6f_row16_col1, #T_a9e6f_row16_col9, #T_a9e6f_row18_col0, #T_a9e6f_row18_col8, #T_a9e6f_row18_col21, #T_a9e6f_row19_col8, #T_a9e6f_row20_col21, #T_a9e6f_row20_col22, #T_a9e6f_row21_col1, #T_a9e6f_row21_col2, #T_a9e6f_row21_col3, #T_a9e6f_row21_col7, #T_a9e6f_row21_col9, #T_a9e6f_row21_col12, #T_a9e6f_row21_col13, #T_a9e6f_row21_col14, #T_a9e6f_row21_col16, #T_a9e6f_row21_col17, #T_a9e6f_row21_col18, #T_a9e6f_row21_col20, #T_a9e6f_row21_col23, #T_a9e6f_row21_col24, #T_a9e6f_row22_col1, #T_a9e6f_row22_col2, #T_a9e6f_row22_col3, #T_a9e6f_row22_col4, #T_a9e6f_row22_col6, #T_a9e6f_row22_col9, #T_a9e6f_row22_col13, #T_a9e6f_row22_col15, #T_a9e6f_row22_col17, #T_a9e6f_row22_col20, #T_a9e6f_row23_col12, #T_a9e6f_row23_col21 {\n",
       "  background-color: #3b4cc0;\n",
       "  color: #f1f1f1;\n",
       "}\n",
       "#T_a9e6f_row0_col6, #T_a9e6f_row6_col0, #T_a9e6f_row7_col6 {\n",
       "  background-color: #5875e1;\n",
       "  color: #f1f1f1;\n",
       "}\n",
       "#T_a9e6f_row0_col7, #T_a9e6f_row1_col7, #T_a9e6f_row1_col12, #T_a9e6f_row3_col8, #T_a9e6f_row4_col10, #T_a9e6f_row6_col10, #T_a9e6f_row7_col21, #T_a9e6f_row8_col3, #T_a9e6f_row8_col11, #T_a9e6f_row8_col17, #T_a9e6f_row9_col18, #T_a9e6f_row9_col23, #T_a9e6f_row10_col4, #T_a9e6f_row10_col6, #T_a9e6f_row10_col13, #T_a9e6f_row10_col23, #T_a9e6f_row11_col8, #T_a9e6f_row11_col23, #T_a9e6f_row12_col1, #T_a9e6f_row12_col18, #T_a9e6f_row13_col10, #T_a9e6f_row14_col22, #T_a9e6f_row16_col19, #T_a9e6f_row16_col23, #T_a9e6f_row17_col9, #T_a9e6f_row18_col9, #T_a9e6f_row19_col16, #T_a9e6f_row19_col21, #T_a9e6f_row21_col5, #T_a9e6f_row23_col7, #T_a9e6f_row23_col9, #T_a9e6f_row23_col10, #T_a9e6f_row23_col11, #T_a9e6f_row23_col20, #T_a9e6f_row24_col22 {\n",
       "  background-color: #3e51c5;\n",
       "  color: #f1f1f1;\n",
       "}\n",
       "#T_a9e6f_row0_col8, #T_a9e6f_row1_col10, #T_a9e6f_row4_col7, #T_a9e6f_row4_col21, #T_a9e6f_row5_col22, #T_a9e6f_row6_col21, #T_a9e6f_row7_col8, #T_a9e6f_row8_col0, #T_a9e6f_row8_col21, #T_a9e6f_row8_col22, #T_a9e6f_row9_col17, #T_a9e6f_row10_col1, #T_a9e6f_row10_col20, #T_a9e6f_row10_col21, #T_a9e6f_row11_col21, #T_a9e6f_row13_col18, #T_a9e6f_row14_col8, #T_a9e6f_row14_col21, #T_a9e6f_row15_col21, #T_a9e6f_row16_col2, #T_a9e6f_row16_col18, #T_a9e6f_row16_col22, #T_a9e6f_row17_col22, #T_a9e6f_row18_col12, #T_a9e6f_row18_col16, #T_a9e6f_row20_col23, #T_a9e6f_row21_col6, #T_a9e6f_row21_col8, #T_a9e6f_row21_col11, #T_a9e6f_row21_col19, #T_a9e6f_row21_col22, #T_a9e6f_row22_col5, #T_a9e6f_row22_col21, #T_a9e6f_row23_col16, #T_a9e6f_row24_col8, #T_a9e6f_row24_col21 {\n",
       "  background-color: #3d50c3;\n",
       "  color: #f1f1f1;\n",
       "}\n",
       "#T_a9e6f_row0_col9, #T_a9e6f_row0_col10, #T_a9e6f_row0_col22, #T_a9e6f_row7_col18, #T_a9e6f_row9_col0, #T_a9e6f_row9_col1, #T_a9e6f_row9_col12, #T_a9e6f_row9_col13, #T_a9e6f_row10_col0, #T_a9e6f_row10_col7, #T_a9e6f_row11_col12, #T_a9e6f_row12_col2, #T_a9e6f_row12_col9, #T_a9e6f_row12_col19, #T_a9e6f_row13_col9, #T_a9e6f_row14_col7, #T_a9e6f_row14_col18, #T_a9e6f_row19_col12, #T_a9e6f_row20_col12, #T_a9e6f_row22_col0, #T_a9e6f_row23_col24, #T_a9e6f_row24_col7, #T_a9e6f_row24_col18 {\n",
       "  background-color: #4257c9;\n",
       "  color: #f1f1f1;\n",
       "}\n",
       "#T_a9e6f_row0_col11, #T_a9e6f_row7_col19, #T_a9e6f_row8_col12, #T_a9e6f_row11_col0, #T_a9e6f_row11_col19, #T_a9e6f_row12_col8, #T_a9e6f_row13_col17, #T_a9e6f_row13_col20, #T_a9e6f_row16_col14, #T_a9e6f_row19_col11, #T_a9e6f_row19_col14, #T_a9e6f_row19_col24, #T_a9e6f_row20_col13, #T_a9e6f_row23_col15, #T_a9e6f_row24_col16 {\n",
       "  background-color: #465ecf;\n",
       "  color: #f1f1f1;\n",
       "}\n",
       "#T_a9e6f_row0_col12, #T_a9e6f_row2_col10, #T_a9e6f_row7_col17, #T_a9e6f_row10_col2, #T_a9e6f_row12_col0, #T_a9e6f_row13_col2, #T_a9e6f_row16_col24, #T_a9e6f_row17_col23, #T_a9e6f_row19_col22, #T_a9e6f_row22_col19 {\n",
       "  background-color: #455cce;\n",
       "  color: #f1f1f1;\n",
       "}\n",
       "#T_a9e6f_row0_col14, #T_a9e6f_row5_col18, #T_a9e6f_row5_col19, #T_a9e6f_row16_col17, #T_a9e6f_row18_col3, #T_a9e6f_row18_col5, #T_a9e6f_row19_col5 {\n",
       "  background-color: #4b64d5;\n",
       "  color: #f1f1f1;\n",
       "}\n",
       "#T_a9e6f_row0_col15, #T_a9e6f_row1_col13, #T_a9e6f_row2_col13, #T_a9e6f_row3_col20, #T_a9e6f_row5_col23, #T_a9e6f_row7_col10, #T_a9e6f_row10_col12, #T_a9e6f_row12_col10, #T_a9e6f_row14_col12, #T_a9e6f_row14_col23, #T_a9e6f_row15_col0, #T_a9e6f_row15_col9, #T_a9e6f_row16_col11, #T_a9e6f_row17_col7, #T_a9e6f_row17_col12, #T_a9e6f_row18_col23, #T_a9e6f_row19_col7, #T_a9e6f_row20_col3, #T_a9e6f_row23_col5, #T_a9e6f_row23_col17, #T_a9e6f_row23_col18, #T_a9e6f_row24_col12, #T_a9e6f_row24_col23 {\n",
       "  background-color: #445acc;\n",
       "  color: #f1f1f1;\n",
       "}\n",
       "#T_a9e6f_row0_col19, #T_a9e6f_row4_col12, #T_a9e6f_row4_col16, #T_a9e6f_row5_col8, #T_a9e6f_row5_col21, #T_a9e6f_row7_col4, #T_a9e6f_row7_col22, #T_a9e6f_row8_col5, #T_a9e6f_row8_col13, #T_a9e6f_row8_col23, #T_a9e6f_row9_col19, #T_a9e6f_row10_col15, #T_a9e6f_row10_col16, #T_a9e6f_row13_col8, #T_a9e6f_row13_col19, #T_a9e6f_row13_col23, #T_a9e6f_row15_col10, #T_a9e6f_row16_col10, #T_a9e6f_row17_col8, #T_a9e6f_row18_col7, #T_a9e6f_row18_col14, #T_a9e6f_row18_col22, #T_a9e6f_row19_col0, #T_a9e6f_row19_col9, #T_a9e6f_row19_col13, #T_a9e6f_row20_col9, #T_a9e6f_row22_col18, #T_a9e6f_row23_col8, #T_a9e6f_row23_col13 {\n",
       "  background-color: #3f53c6;\n",
       "  color: #f1f1f1;\n",
       "}\n",
       "#T_a9e6f_row0_col20, #T_a9e6f_row17_col11, #T_a9e6f_row20_col0 {\n",
       "  background-color: #6180e9;\n",
       "  color: #f1f1f1;\n",
       "}\n",
       "#T_a9e6f_row0_col21, #T_a9e6f_row1_col8, #T_a9e6f_row1_col22, #T_a9e6f_row2_col16, #T_a9e6f_row3_col12, #T_a9e6f_row3_col21, #T_a9e6f_row8_col14, #T_a9e6f_row10_col17, #T_a9e6f_row10_col18, #T_a9e6f_row12_col3, #T_a9e6f_row12_col22, #T_a9e6f_row13_col21, #T_a9e6f_row14_col9, #T_a9e6f_row14_col10, #T_a9e6f_row15_col8, #T_a9e6f_row15_col13, #T_a9e6f_row16_col21, #T_a9e6f_row17_col0, #T_a9e6f_row17_col10, #T_a9e6f_row17_col21, #T_a9e6f_row18_col10, #T_a9e6f_row18_col13, #T_a9e6f_row20_col10, #T_a9e6f_row21_col0, #T_a9e6f_row21_col4, #T_a9e6f_row21_col10, #T_a9e6f_row21_col15, #T_a9e6f_row22_col7, #T_a9e6f_row22_col8, #T_a9e6f_row22_col12, #T_a9e6f_row22_col14, #T_a9e6f_row22_col16, #T_a9e6f_row22_col24, #T_a9e6f_row24_col9, #T_a9e6f_row24_col10 {\n",
       "  background-color: #3c4ec2;\n",
       "  color: #f1f1f1;\n",
       "}\n",
       "#T_a9e6f_row0_col23, #T_a9e6f_row3_col17, #T_a9e6f_row11_col17, #T_a9e6f_row17_col3, #T_a9e6f_row23_col0 {\n",
       "  background-color: #5f7fe8;\n",
       "  color: #f1f1f1;\n",
       "}\n",
       "#T_a9e6f_row0_col24, #T_a9e6f_row6_col13, #T_a9e6f_row13_col6 {\n",
       "  background-color: #4a63d3;\n",
       "  color: #f1f1f1;\n",
       "}\n",
       "#T_a9e6f_row1_col2, #T_a9e6f_row2_col1 {\n",
       "  background-color: #f7b89c;\n",
       "  color: #000000;\n",
       "}\n",
       "#T_a9e6f_row1_col3, #T_a9e6f_row3_col1, #T_a9e6f_row15_col17, #T_a9e6f_row17_col15 {\n",
       "  background-color: #bbd1f8;\n",
       "  color: #000000;\n",
       "}\n",
       "#T_a9e6f_row1_col4, #T_a9e6f_row4_col1 {\n",
       "  background-color: #b9d0f9;\n",
       "  color: #000000;\n",
       "}\n",
       "#T_a9e6f_row1_col6, #T_a9e6f_row6_col1 {\n",
       "  background-color: #eed0c0;\n",
       "  color: #000000;\n",
       "}\n",
       "#T_a9e6f_row1_col9, #T_a9e6f_row7_col2, #T_a9e6f_row7_col9, #T_a9e6f_row7_col14, #T_a9e6f_row7_col24, #T_a9e6f_row8_col20, #T_a9e6f_row9_col15, #T_a9e6f_row11_col16, #T_a9e6f_row12_col11, #T_a9e6f_row12_col14, #T_a9e6f_row12_col17, #T_a9e6f_row12_col20, #T_a9e6f_row12_col24, #T_a9e6f_row13_col1, #T_a9e6f_row16_col20, #T_a9e6f_row19_col20, #T_a9e6f_row20_col8, #T_a9e6f_row20_col16, #T_a9e6f_row20_col19, #T_a9e6f_row23_col14 {\n",
       "  background-color: #4358cb;\n",
       "  color: #f1f1f1;\n",
       "}\n",
       "#T_a9e6f_row1_col11 {\n",
       "  background-color: #adc9fd;\n",
       "  color: #000000;\n",
       "}\n",
       "#T_a9e6f_row1_col14 {\n",
       "  background-color: #8fb1fe;\n",
       "  color: #000000;\n",
       "}\n",
       "#T_a9e6f_row1_col15 {\n",
       "  background-color: #80a3fa;\n",
       "  color: #f1f1f1;\n",
       "}\n",
       "#T_a9e6f_row1_col17, #T_a9e6f_row17_col1 {\n",
       "  background-color: #82a6fb;\n",
       "  color: #f1f1f1;\n",
       "}\n",
       "#T_a9e6f_row1_col18, #T_a9e6f_row2_col18, #T_a9e6f_row4_col19, #T_a9e6f_row15_col7, #T_a9e6f_row18_col1, #T_a9e6f_row18_col2 {\n",
       "  background-color: #5977e3;\n",
       "  color: #f1f1f1;\n",
       "}\n",
       "#T_a9e6f_row1_col19, #T_a9e6f_row4_col13, #T_a9e6f_row6_col18, #T_a9e6f_row7_col11, #T_a9e6f_row7_col16, #T_a9e6f_row13_col4, #T_a9e6f_row16_col13, #T_a9e6f_row18_col6, #T_a9e6f_row19_col1, #T_a9e6f_row23_col3 {\n",
       "  background-color: #5470de;\n",
       "  color: #f1f1f1;\n",
       "}\n",
       "#T_a9e6f_row1_col20, #T_a9e6f_row20_col1 {\n",
       "  background-color: #f4987a;\n",
       "  color: #000000;\n",
       "}\n",
       "#T_a9e6f_row1_col23, #T_a9e6f_row3_col16, #T_a9e6f_row5_col10, #T_a9e6f_row6_col9, #T_a9e6f_row9_col6, #T_a9e6f_row10_col5, #T_a9e6f_row12_col13, #T_a9e6f_row13_col12, #T_a9e6f_row14_col5, #T_a9e6f_row16_col3, #T_a9e6f_row23_col1, #T_a9e6f_row24_col5 {\n",
       "  background-color: #4961d2;\n",
       "  color: #f1f1f1;\n",
       "}\n",
       "#T_a9e6f_row1_col24, #T_a9e6f_row2_col14, #T_a9e6f_row2_col24, #T_a9e6f_row14_col1 {\n",
       "  background-color: #90b2fe;\n",
       "  color: #000000;\n",
       "}\n",
       "#T_a9e6f_row2_col3, #T_a9e6f_row3_col2 {\n",
       "  background-color: #f18f71;\n",
       "  color: #f1f1f1;\n",
       "}\n",
       "#T_a9e6f_row2_col4, #T_a9e6f_row4_col2 {\n",
       "  background-color: #d3dbe7;\n",
       "  color: #000000;\n",
       "}\n",
       "#T_a9e6f_row2_col5, #T_a9e6f_row5_col2, #T_a9e6f_row7_col13 {\n",
       "  background-color: #506bda;\n",
       "  color: #f1f1f1;\n",
       "}\n",
       "#T_a9e6f_row2_col6, #T_a9e6f_row6_col2 {\n",
       "  background-color: #d44e41;\n",
       "  color: #f1f1f1;\n",
       "}\n",
       "#T_a9e6f_row2_col7, #T_a9e6f_row2_col12, #T_a9e6f_row6_col12, #T_a9e6f_row7_col0, #T_a9e6f_row7_col1, #T_a9e6f_row7_col23, #T_a9e6f_row8_col16, #T_a9e6f_row9_col7, #T_a9e6f_row9_col20, #T_a9e6f_row10_col19, #T_a9e6f_row10_col22, #T_a9e6f_row11_col22, #T_a9e6f_row12_col4, #T_a9e6f_row12_col6, #T_a9e6f_row16_col4, #T_a9e6f_row16_col8, #T_a9e6f_row18_col24, #T_a9e6f_row19_col10, #T_a9e6f_row22_col10, #T_a9e6f_row22_col11 {\n",
       "  background-color: #4055c8;\n",
       "  color: #f1f1f1;\n",
       "}\n",
       "#T_a9e6f_row2_col9, #T_a9e6f_row9_col2, #T_a9e6f_row11_col7, #T_a9e6f_row11_col15, #T_a9e6f_row15_col11, #T_a9e6f_row16_col7 {\n",
       "  background-color: #516ddb;\n",
       "  color: #f1f1f1;\n",
       "}\n",
       "#T_a9e6f_row2_col11, #T_a9e6f_row11_col2 {\n",
       "  background-color: #cfdaea;\n",
       "  color: #000000;\n",
       "}\n",
       "#T_a9e6f_row2_col15, #T_a9e6f_row3_col14, #T_a9e6f_row6_col15, #T_a9e6f_row6_col20, #T_a9e6f_row15_col6, #T_a9e6f_row20_col6, #T_a9e6f_row22_col23, #T_a9e6f_row23_col22 {\n",
       "  background-color: #799cf8;\n",
       "  color: #f1f1f1;\n",
       "}\n",
       "#T_a9e6f_row2_col17, #T_a9e6f_row3_col24, #T_a9e6f_row14_col3, #T_a9e6f_row15_col2 {\n",
       "  background-color: #7a9df8;\n",
       "  color: #f1f1f1;\n",
       "}\n",
       "#T_a9e6f_row2_col19, #T_a9e6f_row6_col19, #T_a9e6f_row19_col6, #T_a9e6f_row20_col7 {\n",
       "  background-color: #6384eb;\n",
       "  color: #f1f1f1;\n",
       "}\n",
       "#T_a9e6f_row2_col20, #T_a9e6f_row20_col2 {\n",
       "  background-color: #96b7ff;\n",
       "  color: #000000;\n",
       "}\n",
       "#T_a9e6f_row3_col4, #T_a9e6f_row4_col3, #T_a9e6f_row17_col20 {\n",
       "  background-color: #9ebeff;\n",
       "  color: #000000;\n",
       "}\n",
       "#T_a9e6f_row3_col5, #T_a9e6f_row5_col3 {\n",
       "  background-color: #85a8fc;\n",
       "  color: #f1f1f1;\n",
       "}\n",
       "#T_a9e6f_row3_col6 {\n",
       "  background-color: #ec8165;\n",
       "  color: #f1f1f1;\n",
       "}\n",
       "#T_a9e6f_row3_col7, #T_a9e6f_row3_col15, #T_a9e6f_row15_col3 {\n",
       "  background-color: #6b8df0;\n",
       "  color: #f1f1f1;\n",
       "}\n",
       "#T_a9e6f_row3_col9, #T_a9e6f_row9_col3 {\n",
       "  background-color: #688aef;\n",
       "  color: #f1f1f1;\n",
       "}\n",
       "#T_a9e6f_row3_col11, #T_a9e6f_row4_col15, #T_a9e6f_row11_col3, #T_a9e6f_row15_col4, #T_a9e6f_row15_col16, #T_a9e6f_row16_col15, #T_a9e6f_row17_col4 {\n",
       "  background-color: #8db0fe;\n",
       "  color: #000000;\n",
       "}\n",
       "#T_a9e6f_row3_col13, #T_a9e6f_row3_col18, #T_a9e6f_row4_col23, #T_a9e6f_row13_col3, #T_a9e6f_row14_col0, #T_a9e6f_row17_col16, #T_a9e6f_row23_col4, #T_a9e6f_row24_col0 {\n",
       "  background-color: #4c66d6;\n",
       "  color: #f1f1f1;\n",
       "}\n",
       "#T_a9e6f_row3_col19, #T_a9e6f_row17_col24, #T_a9e6f_row19_col3, #T_a9e6f_row24_col17 {\n",
       "  background-color: #5e7de7;\n",
       "  color: #f1f1f1;\n",
       "}\n",
       "#T_a9e6f_row3_col23, #T_a9e6f_row6_col7 {\n",
       "  background-color: #5572df;\n",
       "  color: #f1f1f1;\n",
       "}\n",
       "#T_a9e6f_row4_col5, #T_a9e6f_row5_col4, #T_a9e6f_row5_col14, #T_a9e6f_row5_col24, #T_a9e6f_row6_col16, #T_a9e6f_row12_col16, #T_a9e6f_row14_col16, #T_a9e6f_row14_col19, #T_a9e6f_row15_col19, #T_a9e6f_row15_col23, #T_a9e6f_row16_col6, #T_a9e6f_row16_col12, #T_a9e6f_row17_col13, #T_a9e6f_row17_col19, #T_a9e6f_row19_col15, #T_a9e6f_row19_col17, #T_a9e6f_row24_col19 {\n",
       "  background-color: #485fd1;\n",
       "  color: #f1f1f1;\n",
       "}\n",
       "#T_a9e6f_row4_col6, #T_a9e6f_row6_col4 {\n",
       "  background-color: #c4d5f3;\n",
       "  color: #000000;\n",
       "}\n",
       "#T_a9e6f_row4_col8, #T_a9e6f_row8_col4, #T_a9e6f_row13_col16 {\n",
       "  background-color: #536edd;\n",
       "  color: #f1f1f1;\n",
       "}\n",
       "#T_a9e6f_row4_col11, #T_a9e6f_row11_col4, #T_a9e6f_row20_col15 {\n",
       "  background-color: #97b8ff;\n",
       "  color: #000000;\n",
       "}\n",
       "#T_a9e6f_row4_col14, #T_a9e6f_row4_col24, #T_a9e6f_row17_col18 {\n",
       "  background-color: #aac7fd;\n",
       "  color: #000000;\n",
       "}\n",
       "#T_a9e6f_row4_col17 {\n",
       "  background-color: #8caffe;\n",
       "  color: #000000;\n",
       "}\n",
       "#T_a9e6f_row4_col20, #T_a9e6f_row14_col20, #T_a9e6f_row20_col4, #T_a9e6f_row20_col24 {\n",
       "  background-color: #b6cefa;\n",
       "  color: #000000;\n",
       "}\n",
       "#T_a9e6f_row5_col6, #T_a9e6f_row6_col5, #T_a9e6f_row7_col3, #T_a9e6f_row11_col14 {\n",
       "  background-color: #6c8ff1;\n",
       "  color: #f1f1f1;\n",
       "}\n",
       "#T_a9e6f_row5_col7 {\n",
       "  background-color: #f7b599;\n",
       "  color: #000000;\n",
       "}\n",
       "#T_a9e6f_row5_col9, #T_a9e6f_row9_col5, #T_a9e6f_row10_col11, #T_a9e6f_row11_col10, #T_a9e6f_row11_col18, #T_a9e6f_row17_col5, #T_a9e6f_row18_col11 {\n",
       "  background-color: #4f69d9;\n",
       "  color: #f1f1f1;\n",
       "}\n",
       "#T_a9e6f_row5_col12, #T_a9e6f_row7_col12, #T_a9e6f_row15_col18 {\n",
       "  background-color: #7093f3;\n",
       "  color: #f1f1f1;\n",
       "}\n",
       "#T_a9e6f_row5_col15, #T_a9e6f_row11_col24, #T_a9e6f_row12_col7, #T_a9e6f_row15_col5 {\n",
       "  background-color: #6e90f2;\n",
       "  color: #f1f1f1;\n",
       "}\n",
       "#T_a9e6f_row5_col16, #T_a9e6f_row7_col15, #T_a9e6f_row16_col5, #T_a9e6f_row19_col4 {\n",
       "  background-color: #5a78e4;\n",
       "  color: #f1f1f1;\n",
       "}\n",
       "#T_a9e6f_row5_col20, #T_a9e6f_row14_col11, #T_a9e6f_row18_col15, #T_a9e6f_row20_col5, #T_a9e6f_row24_col11 {\n",
       "  background-color: #6f92f3;\n",
       "  color: #f1f1f1;\n",
       "}\n",
       "#T_a9e6f_row6_col3 {\n",
       "  background-color: #ed8366;\n",
       "  color: #f1f1f1;\n",
       "}\n",
       "#T_a9e6f_row6_col11, #T_a9e6f_row11_col6, #T_a9e6f_row17_col6 {\n",
       "  background-color: #7396f5;\n",
       "  color: #f1f1f1;\n",
       "}\n",
       "#T_a9e6f_row6_col14, #T_a9e6f_row6_col24 {\n",
       "  background-color: #88abfd;\n",
       "  color: #000000;\n",
       "}\n",
       "#T_a9e6f_row6_col17, #T_a9e6f_row12_col5 {\n",
       "  background-color: #7295f4;\n",
       "  color: #f1f1f1;\n",
       "}\n",
       "#T_a9e6f_row7_col5 {\n",
       "  background-color: #f7b497;\n",
       "  color: #000000;\n",
       "}\n",
       "#T_a9e6f_row7_col20 {\n",
       "  background-color: #6687ed;\n",
       "  color: #f1f1f1;\n",
       "}\n",
       "#T_a9e6f_row9_col11, #T_a9e6f_row11_col9 {\n",
       "  background-color: #6282ea;\n",
       "  color: #f1f1f1;\n",
       "}\n",
       "#T_a9e6f_row11_col1, #T_a9e6f_row14_col4, #T_a9e6f_row24_col4 {\n",
       "  background-color: #abc8fd;\n",
       "  color: #000000;\n",
       "}\n",
       "#T_a9e6f_row11_col20, #T_a9e6f_row20_col11 {\n",
       "  background-color: #8badfd;\n",
       "  color: #000000;\n",
       "}\n",
       "#T_a9e6f_row13_col14, #T_a9e6f_row13_col24 {\n",
       "  background-color: #93b5fe;\n",
       "  color: #000000;\n",
       "}\n",
       "#T_a9e6f_row14_col2, #T_a9e6f_row24_col1, #T_a9e6f_row24_col2 {\n",
       "  background-color: #92b4fe;\n",
       "  color: #000000;\n",
       "}\n",
       "#T_a9e6f_row14_col6, #T_a9e6f_row24_col6 {\n",
       "  background-color: #89acfd;\n",
       "  color: #000000;\n",
       "}\n",
       "#T_a9e6f_row14_col13, #T_a9e6f_row24_col13 {\n",
       "  background-color: #94b6ff;\n",
       "  color: #000000;\n",
       "}\n",
       "#T_a9e6f_row14_col15, #T_a9e6f_row15_col24 {\n",
       "  background-color: #7699f6;\n",
       "  color: #f1f1f1;\n",
       "}\n",
       "#T_a9e6f_row15_col1 {\n",
       "  background-color: #81a4fb;\n",
       "  color: #f1f1f1;\n",
       "}\n",
       "#T_a9e6f_row15_col14 {\n",
       "  background-color: #7597f6;\n",
       "  color: #f1f1f1;\n",
       "}\n",
       "#T_a9e6f_row15_col20 {\n",
       "  background-color: #98b9ff;\n",
       "  color: #000000;\n",
       "}\n",
       "#T_a9e6f_row17_col2, #T_a9e6f_row24_col3 {\n",
       "  background-color: #7b9ff9;\n",
       "  color: #f1f1f1;\n",
       "}\n",
       "#T_a9e6f_row18_col17 {\n",
       "  background-color: #a9c6fd;\n",
       "  color: #000000;\n",
       "}\n",
       "#T_a9e6f_row19_col2 {\n",
       "  background-color: #6485ec;\n",
       "  color: #f1f1f1;\n",
       "}\n",
       "#T_a9e6f_row19_col23, #T_a9e6f_row23_col19 {\n",
       "  background-color: #edd2c3;\n",
       "  color: #000000;\n",
       "}\n",
       "#T_a9e6f_row20_col14 {\n",
       "  background-color: #b5cdfa;\n",
       "  color: #000000;\n",
       "}\n",
       "#T_a9e6f_row20_col17 {\n",
       "  background-color: #9dbdff;\n",
       "  color: #000000;\n",
       "}\n",
       "#T_a9e6f_row24_col15 {\n",
       "  background-color: #779af7;\n",
       "  color: #f1f1f1;\n",
       "}\n",
       "#T_a9e6f_row24_col20 {\n",
       "  background-color: #b7cff9;\n",
       "  color: #000000;\n",
       "}\n",
       "</style>\n",
       "<table id=\"T_a9e6f\">\n",
       "  <thead>\n",
       "    <tr>\n",
       "      <th class=\"blank level0\" >&nbsp;</th>\n",
       "      <th id=\"T_a9e6f_level0_col0\" class=\"col_heading level0 col0\" >total_images</th>\n",
       "      <th id=\"T_a9e6f_level0_col1\" class=\"col_heading level0 col1\" >last_price</th>\n",
       "      <th id=\"T_a9e6f_level0_col2\" class=\"col_heading level0 col2\" >total_area</th>\n",
       "      <th id=\"T_a9e6f_level0_col3\" class=\"col_heading level0 col3\" >rooms</th>\n",
       "      <th id=\"T_a9e6f_level0_col4\" class=\"col_heading level0 col4\" >ceiling_height</th>\n",
       "      <th id=\"T_a9e6f_level0_col5\" class=\"col_heading level0 col5\" >floors_total</th>\n",
       "      <th id=\"T_a9e6f_level0_col6\" class=\"col_heading level0 col6\" >living_area</th>\n",
       "      <th id=\"T_a9e6f_level0_col7\" class=\"col_heading level0 col7\" >floor</th>\n",
       "      <th id=\"T_a9e6f_level0_col8\" class=\"col_heading level0 col8\" >is_apartment</th>\n",
       "      <th id=\"T_a9e6f_level0_col9\" class=\"col_heading level0 col9\" >studio</th>\n",
       "      <th id=\"T_a9e6f_level0_col10\" class=\"col_heading level0 col10\" >open_plan</th>\n",
       "      <th id=\"T_a9e6f_level0_col11\" class=\"col_heading level0 col11\" >kitchen_area</th>\n",
       "      <th id=\"T_a9e6f_level0_col12\" class=\"col_heading level0 col12\" >balcony</th>\n",
       "      <th id=\"T_a9e6f_level0_col13\" class=\"col_heading level0 col13\" >airports_nearest</th>\n",
       "      <th id=\"T_a9e6f_level0_col14\" class=\"col_heading level0 col14\" >city_centers_nearest</th>\n",
       "      <th id=\"T_a9e6f_level0_col15\" class=\"col_heading level0 col15\" >parks_around3000</th>\n",
       "      <th id=\"T_a9e6f_level0_col16\" class=\"col_heading level0 col16\" >parks_nearest</th>\n",
       "      <th id=\"T_a9e6f_level0_col17\" class=\"col_heading level0 col17\" >ponds_around3000</th>\n",
       "      <th id=\"T_a9e6f_level0_col18\" class=\"col_heading level0 col18\" >ponds_nearest</th>\n",
       "      <th id=\"T_a9e6f_level0_col19\" class=\"col_heading level0 col19\" >days_exposition</th>\n",
       "      <th id=\"T_a9e6f_level0_col20\" class=\"col_heading level0 col20\" >square_meter_price</th>\n",
       "      <th id=\"T_a9e6f_level0_col21\" class=\"col_heading level0 col21\" >week_day_exposition</th>\n",
       "      <th id=\"T_a9e6f_level0_col22\" class=\"col_heading level0 col22\" >month_exposition</th>\n",
       "      <th id=\"T_a9e6f_level0_col23\" class=\"col_heading level0 col23\" >year_exposition</th>\n",
       "      <th id=\"T_a9e6f_level0_col24\" class=\"col_heading level0 col24\" >city_centers_nearest_km</th>\n",
       "    </tr>\n",
       "  </thead>\n",
       "  <tbody>\n",
       "    <tr>\n",
       "      <th id=\"T_a9e6f_level0_row0\" class=\"row_heading level0 row0\" >total_images</th>\n",
       "      <td id=\"T_a9e6f_row0_col0\" class=\"data row0 col0\" >1.000000</td>\n",
       "      <td id=\"T_a9e6f_row0_col1\" class=\"data row0 col1\" >0.110000</td>\n",
       "      <td id=\"T_a9e6f_row0_col2\" class=\"data row0 col2\" >0.113000</td>\n",
       "      <td id=\"T_a9e6f_row0_col3\" class=\"data row0 col3\" >0.093000</td>\n",
       "      <td id=\"T_a9e6f_row0_col4\" class=\"data row0 col4\" >0.064000</td>\n",
       "      <td id=\"T_a9e6f_row0_col5\" class=\"data row0 col5\" >0.001000</td>\n",
       "      <td id=\"T_a9e6f_row0_col6\" class=\"data row0 col6\" >0.098000</td>\n",
       "      <td id=\"T_a9e6f_row0_col7\" class=\"data row0 col7\" >0.023000</td>\n",
       "      <td id=\"T_a9e6f_row0_col8\" class=\"data row0 col8\" >0.012000</td>\n",
       "      <td id=\"T_a9e6f_row0_col9\" class=\"data row0 col9\" >0.027000</td>\n",
       "      <td id=\"T_a9e6f_row0_col10\" class=\"data row0 col10\" >0.026000</td>\n",
       "      <td id=\"T_a9e6f_row0_col11\" class=\"data row0 col11\" >0.041000</td>\n",
       "      <td id=\"T_a9e6f_row0_col12\" class=\"data row0 col12\" >0.038000</td>\n",
       "      <td id=\"T_a9e6f_row0_col13\" class=\"data row0 col13\" >0.001000</td>\n",
       "      <td id=\"T_a9e6f_row0_col14\" class=\"data row0 col14\" >0.061000</td>\n",
       "      <td id=\"T_a9e6f_row0_col15\" class=\"data row0 col15\" >0.036000</td>\n",
       "      <td id=\"T_a9e6f_row0_col16\" class=\"data row0 col16\" >0.003000</td>\n",
       "      <td id=\"T_a9e6f_row0_col17\" class=\"data row0 col17\" >0.006000</td>\n",
       "      <td id=\"T_a9e6f_row0_col18\" class=\"data row0 col18\" >0.003000</td>\n",
       "      <td id=\"T_a9e6f_row0_col19\" class=\"data row0 col19\" >0.018000</td>\n",
       "      <td id=\"T_a9e6f_row0_col20\" class=\"data row0 col20\" >0.123000</td>\n",
       "      <td id=\"T_a9e6f_row0_col21\" class=\"data row0 col21\" >0.006000</td>\n",
       "      <td id=\"T_a9e6f_row0_col22\" class=\"data row0 col22\" >0.025000</td>\n",
       "      <td id=\"T_a9e6f_row0_col23\" class=\"data row0 col23\" >0.121000</td>\n",
       "      <td id=\"T_a9e6f_row0_col24\" class=\"data row0 col24\" >0.061000</td>\n",
       "    </tr>\n",
       "    <tr>\n",
       "      <th id=\"T_a9e6f_level0_row1\" class=\"row_heading level0 row1\" >last_price</th>\n",
       "      <td id=\"T_a9e6f_row1_col0\" class=\"data row1 col0\" >0.110000</td>\n",
       "      <td id=\"T_a9e6f_row1_col1\" class=\"data row1 col1\" >1.000000</td>\n",
       "      <td id=\"T_a9e6f_row1_col2\" class=\"data row1 col2\" >0.666000</td>\n",
       "      <td id=\"T_a9e6f_row1_col3\" class=\"data row1 col3\" >0.387000</td>\n",
       "      <td id=\"T_a9e6f_row1_col4\" class=\"data row1 col4\" >0.379000</td>\n",
       "      <td id=\"T_a9e6f_row1_col5\" class=\"data row1 col5\" >0.002000</td>\n",
       "      <td id=\"T_a9e6f_row1_col6\" class=\"data row1 col6\" >0.576000</td>\n",
       "      <td id=\"T_a9e6f_row1_col7\" class=\"data row1 col7\" >0.025000</td>\n",
       "      <td id=\"T_a9e6f_row1_col8\" class=\"data row1 col8\" >0.005000</td>\n",
       "      <td id=\"T_a9e6f_row1_col9\" class=\"data row1 col9\" >0.029000</td>\n",
       "      <td id=\"T_a9e6f_row1_col10\" class=\"data row1 col10\" >0.012000</td>\n",
       "      <td id=\"T_a9e6f_row1_col11\" class=\"data row1 col11\" >0.341000</td>\n",
       "      <td id=\"T_a9e6f_row1_col12\" class=\"data row1 col12\" >0.015000</td>\n",
       "      <td id=\"T_a9e6f_row1_col13\" class=\"data row1 col13\" >0.033000</td>\n",
       "      <td id=\"T_a9e6f_row1_col14\" class=\"data row1 col14\" >0.262000</td>\n",
       "      <td id=\"T_a9e6f_row1_col15\" class=\"data row1 col15\" >0.217000</td>\n",
       "      <td id=\"T_a9e6f_row1_col16\" class=\"data row1 col16\" >0.002000</td>\n",
       "      <td id=\"T_a9e6f_row1_col17\" class=\"data row1 col17\" >0.223000</td>\n",
       "      <td id=\"T_a9e6f_row1_col18\" class=\"data row1 col18\" >0.101000</td>\n",
       "      <td id=\"T_a9e6f_row1_col19\" class=\"data row1 col19\" >0.087000</td>\n",
       "      <td id=\"T_a9e6f_row1_col20\" class=\"data row1 col20\" >0.752000</td>\n",
       "      <td id=\"T_a9e6f_row1_col21\" class=\"data row1 col21\" >0.003000</td>\n",
       "      <td id=\"T_a9e6f_row1_col22\" class=\"data row1 col22\" >0.005000</td>\n",
       "      <td id=\"T_a9e6f_row1_col23\" class=\"data row1 col23\" >0.051000</td>\n",
       "      <td id=\"T_a9e6f_row1_col24\" class=\"data row1 col24\" >0.265000</td>\n",
       "    </tr>\n",
       "    <tr>\n",
       "      <th id=\"T_a9e6f_level0_row2\" class=\"row_heading level0 row2\" >total_area</th>\n",
       "      <td id=\"T_a9e6f_row2_col0\" class=\"data row2 col0\" >0.113000</td>\n",
       "      <td id=\"T_a9e6f_row2_col1\" class=\"data row2 col1\" >0.666000</td>\n",
       "      <td id=\"T_a9e6f_row2_col2\" class=\"data row2 col2\" >1.000000</td>\n",
       "      <td id=\"T_a9e6f_row2_col3\" class=\"data row2 col3\" >0.775000</td>\n",
       "      <td id=\"T_a9e6f_row2_col4\" class=\"data row2 col4\" >0.463000</td>\n",
       "      <td id=\"T_a9e6f_row2_col5\" class=\"data row2 col5\" >0.072000</td>\n",
       "      <td id=\"T_a9e6f_row2_col6\" class=\"data row2 col6\" >0.907000</td>\n",
       "      <td id=\"T_a9e6f_row2_col7\" class=\"data row2 col7\" >0.030000</td>\n",
       "      <td id=\"T_a9e6f_row2_col8\" class=\"data row2 col8\" >0.001000</td>\n",
       "      <td id=\"T_a9e6f_row2_col9\" class=\"data row2 col9\" >0.077000</td>\n",
       "      <td id=\"T_a9e6f_row2_col10\" class=\"data row2 col10\" >0.039000</td>\n",
       "      <td id=\"T_a9e6f_row2_col11\" class=\"data row2 col11\" >0.452000</td>\n",
       "      <td id=\"T_a9e6f_row2_col12\" class=\"data row2 col12\" >0.024000</td>\n",
       "      <td id=\"T_a9e6f_row2_col13\" class=\"data row2 col13\" >0.036000</td>\n",
       "      <td id=\"T_a9e6f_row2_col14\" class=\"data row2 col14\" >0.263000</td>\n",
       "      <td id=\"T_a9e6f_row2_col15\" class=\"data row2 col15\" >0.197000</td>\n",
       "      <td id=\"T_a9e6f_row2_col16\" class=\"data row2 col16\" >0.009000</td>\n",
       "      <td id=\"T_a9e6f_row2_col17\" class=\"data row2 col17\" >0.203000</td>\n",
       "      <td id=\"T_a9e6f_row2_col18\" class=\"data row2 col18\" >0.099000</td>\n",
       "      <td id=\"T_a9e6f_row2_col19\" class=\"data row2 col19\" >0.133000</td>\n",
       "      <td id=\"T_a9e6f_row2_col20\" class=\"data row2 col20\" >0.277000</td>\n",
       "      <td id=\"T_a9e6f_row2_col21\" class=\"data row2 col21\" >0.002000</td>\n",
       "      <td id=\"T_a9e6f_row2_col22\" class=\"data row2 col22\" >0.000000</td>\n",
       "      <td id=\"T_a9e6f_row2_col23\" class=\"data row2 col23\" >0.092000</td>\n",
       "      <td id=\"T_a9e6f_row2_col24\" class=\"data row2 col24\" >0.265000</td>\n",
       "    </tr>\n",
       "    <tr>\n",
       "      <th id=\"T_a9e6f_level0_row3\" class=\"row_heading level0 row3\" >rooms</th>\n",
       "      <td id=\"T_a9e6f_row3_col0\" class=\"data row3 col0\" >0.093000</td>\n",
       "      <td id=\"T_a9e6f_row3_col1\" class=\"data row3 col1\" >0.387000</td>\n",
       "      <td id=\"T_a9e6f_row3_col2\" class=\"data row3 col2\" >0.775000</td>\n",
       "      <td id=\"T_a9e6f_row3_col3\" class=\"data row3 col3\" >1.000000</td>\n",
       "      <td id=\"T_a9e6f_row3_col4\" class=\"data row3 col4\" >0.300000</td>\n",
       "      <td id=\"T_a9e6f_row3_col5\" class=\"data row3 col5\" >0.231000</td>\n",
       "      <td id=\"T_a9e6f_row3_col6\" class=\"data row3 col6\" >0.805000</td>\n",
       "      <td id=\"T_a9e6f_row3_col7\" class=\"data row3 col7\" >0.161000</td>\n",
       "      <td id=\"T_a9e6f_row3_col8\" class=\"data row3 col8\" >0.014000</td>\n",
       "      <td id=\"T_a9e6f_row3_col9\" class=\"data row3 col9\" >0.148000</td>\n",
       "      <td id=\"T_a9e6f_row3_col10\" class=\"data row3 col10\" >0.094000</td>\n",
       "      <td id=\"T_a9e6f_row3_col11\" class=\"data row3 col11\" >0.253000</td>\n",
       "      <td id=\"T_a9e6f_row3_col12\" class=\"data row3 col12\" >0.007000</td>\n",
       "      <td id=\"T_a9e6f_row3_col13\" class=\"data row3 col13\" >0.061000</td>\n",
       "      <td id=\"T_a9e6f_row3_col14\" class=\"data row3 col14\" >0.199000</td>\n",
       "      <td id=\"T_a9e6f_row3_col15\" class=\"data row3 col15\" >0.155000</td>\n",
       "      <td id=\"T_a9e6f_row3_col16\" class=\"data row3 col16\" >0.049000</td>\n",
       "      <td id=\"T_a9e6f_row3_col17\" class=\"data row3 col17\" >0.122000</td>\n",
       "      <td id=\"T_a9e6f_row3_col18\" class=\"data row3 col18\" >0.060000</td>\n",
       "      <td id=\"T_a9e6f_row3_col19\" class=\"data row3 col19\" >0.118000</td>\n",
       "      <td id=\"T_a9e6f_row3_col20\" class=\"data row3 col20\" >0.034000</td>\n",
       "      <td id=\"T_a9e6f_row3_col21\" class=\"data row3 col21\" >0.005000</td>\n",
       "      <td id=\"T_a9e6f_row3_col22\" class=\"data row3 col22\" >0.002000</td>\n",
       "      <td id=\"T_a9e6f_row3_col23\" class=\"data row3 col23\" >0.087000</td>\n",
       "      <td id=\"T_a9e6f_row3_col24\" class=\"data row3 col24\" >0.201000</td>\n",
       "    </tr>\n",
       "    <tr>\n",
       "      <th id=\"T_a9e6f_level0_row4\" class=\"row_heading level0 row4\" >ceiling_height</th>\n",
       "      <td id=\"T_a9e6f_row4_col0\" class=\"data row4 col0\" >0.064000</td>\n",
       "      <td id=\"T_a9e6f_row4_col1\" class=\"data row4 col1\" >0.379000</td>\n",
       "      <td id=\"T_a9e6f_row4_col2\" class=\"data row4 col2\" >0.463000</td>\n",
       "      <td id=\"T_a9e6f_row4_col3\" class=\"data row4 col3\" >0.300000</td>\n",
       "      <td id=\"T_a9e6f_row4_col4\" class=\"data row4 col4\" >1.000000</td>\n",
       "      <td id=\"T_a9e6f_row4_col5\" class=\"data row4 col5\" >0.047000</td>\n",
       "      <td id=\"T_a9e6f_row4_col6\" class=\"data row4 col6\" >0.414000</td>\n",
       "      <td id=\"T_a9e6f_row4_col7\" class=\"data row4 col7\" >0.019000</td>\n",
       "      <td id=\"T_a9e6f_row4_col8\" class=\"data row4 col8\" >0.082000</td>\n",
       "      <td id=\"T_a9e6f_row4_col9\" class=\"data row4 col9\" >0.001000</td>\n",
       "      <td id=\"T_a9e6f_row4_col10\" class=\"data row4 col10\" >0.016000</td>\n",
       "      <td id=\"T_a9e6f_row4_col11\" class=\"data row4 col11\" >0.281000</td>\n",
       "      <td id=\"T_a9e6f_row4_col12\" class=\"data row4 col12\" >0.021000</td>\n",
       "      <td id=\"T_a9e6f_row4_col13\" class=\"data row4 col13\" >0.083000</td>\n",
       "      <td id=\"T_a9e6f_row4_col14\" class=\"data row4 col14\" >0.338000</td>\n",
       "      <td id=\"T_a9e6f_row4_col15\" class=\"data row4 col15\" >0.254000</td>\n",
       "      <td id=\"T_a9e6f_row4_col16\" class=\"data row4 col16\" >0.021000</td>\n",
       "      <td id=\"T_a9e6f_row4_col17\" class=\"data row4 col17\" >0.251000</td>\n",
       "      <td id=\"T_a9e6f_row4_col18\" class=\"data row4 col18\" >0.113000</td>\n",
       "      <td id=\"T_a9e6f_row4_col19\" class=\"data row4 col19\" >0.103000</td>\n",
       "      <td id=\"T_a9e6f_row4_col20\" class=\"data row4 col20\" >0.370000</td>\n",
       "      <td id=\"T_a9e6f_row4_col21\" class=\"data row4 col21\" >0.008000</td>\n",
       "      <td id=\"T_a9e6f_row4_col22\" class=\"data row4 col22\" >0.002000</td>\n",
       "      <td id=\"T_a9e6f_row4_col23\" class=\"data row4 col23\" >0.061000</td>\n",
       "      <td id=\"T_a9e6f_row4_col24\" class=\"data row4 col24\" >0.340000</td>\n",
       "    </tr>\n",
       "    <tr>\n",
       "      <th id=\"T_a9e6f_level0_row5\" class=\"row_heading level0 row5\" >floors_total</th>\n",
       "      <td id=\"T_a9e6f_row5_col0\" class=\"data row5 col0\" >0.001000</td>\n",
       "      <td id=\"T_a9e6f_row5_col1\" class=\"data row5 col1\" >0.002000</td>\n",
       "      <td id=\"T_a9e6f_row5_col2\" class=\"data row5 col2\" >0.072000</td>\n",
       "      <td id=\"T_a9e6f_row5_col3\" class=\"data row5 col3\" >0.231000</td>\n",
       "      <td id=\"T_a9e6f_row5_col4\" class=\"data row5 col4\" >0.047000</td>\n",
       "      <td id=\"T_a9e6f_row5_col5\" class=\"data row5 col5\" >1.000000</td>\n",
       "      <td id=\"T_a9e6f_row5_col6\" class=\"data row5 col6\" >0.159000</td>\n",
       "      <td id=\"T_a9e6f_row5_col7\" class=\"data row5 col7\" >0.677000</td>\n",
       "      <td id=\"T_a9e6f_row5_col8\" class=\"data row5 col8\" >0.017000</td>\n",
       "      <td id=\"T_a9e6f_row5_col9\" class=\"data row5 col9\" >0.068000</td>\n",
       "      <td id=\"T_a9e6f_row5_col10\" class=\"data row5 col10\" >0.051000</td>\n",
       "      <td id=\"T_a9e6f_row5_col11\" class=\"data row5 col11\" >0.112000</td>\n",
       "      <td id=\"T_a9e6f_row5_col12\" class=\"data row5 col12\" >0.173000</td>\n",
       "      <td id=\"T_a9e6f_row5_col13\" class=\"data row5 col13\" >0.111000</td>\n",
       "      <td id=\"T_a9e6f_row5_col14\" class=\"data row5 col14\" >0.049000</td>\n",
       "      <td id=\"T_a9e6f_row5_col15\" class=\"data row5 col15\" >0.164000</td>\n",
       "      <td id=\"T_a9e6f_row5_col16\" class=\"data row5 col16\" >0.105000</td>\n",
       "      <td id=\"T_a9e6f_row5_col17\" class=\"data row5 col17\" >0.071000</td>\n",
       "      <td id=\"T_a9e6f_row5_col18\" class=\"data row5 col18\" >0.058000</td>\n",
       "      <td id=\"T_a9e6f_row5_col19\" class=\"data row5 col19\" >0.058000</td>\n",
       "      <td id=\"T_a9e6f_row5_col20\" class=\"data row5 col20\" >0.165000</td>\n",
       "      <td id=\"T_a9e6f_row5_col21\" class=\"data row5 col21\" >0.016000</td>\n",
       "      <td id=\"T_a9e6f_row5_col22\" class=\"data row5 col22\" >0.009000</td>\n",
       "      <td id=\"T_a9e6f_row5_col23\" class=\"data row5 col23\" >0.033000</td>\n",
       "      <td id=\"T_a9e6f_row5_col24\" class=\"data row5 col24\" >0.051000</td>\n",
       "    </tr>\n",
       "    <tr>\n",
       "      <th id=\"T_a9e6f_level0_row6\" class=\"row_heading level0 row6\" >living_area</th>\n",
       "      <td id=\"T_a9e6f_row6_col0\" class=\"data row6 col0\" >0.098000</td>\n",
       "      <td id=\"T_a9e6f_row6_col1\" class=\"data row6 col1\" >0.576000</td>\n",
       "      <td id=\"T_a9e6f_row6_col2\" class=\"data row6 col2\" >0.907000</td>\n",
       "      <td id=\"T_a9e6f_row6_col3\" class=\"data row6 col3\" >0.805000</td>\n",
       "      <td id=\"T_a9e6f_row6_col4\" class=\"data row6 col4\" >0.414000</td>\n",
       "      <td id=\"T_a9e6f_row6_col5\" class=\"data row6 col5\" >0.159000</td>\n",
       "      <td id=\"T_a9e6f_row6_col6\" class=\"data row6 col6\" >1.000000</td>\n",
       "      <td id=\"T_a9e6f_row6_col7\" class=\"data row6 col7\" >0.096000</td>\n",
       "      <td id=\"T_a9e6f_row6_col8\" class=\"data row6 col8\" >0.001000</td>\n",
       "      <td id=\"T_a9e6f_row6_col9\" class=\"data row6 col9\" >0.050000</td>\n",
       "      <td id=\"T_a9e6f_row6_col10\" class=\"data row6 col10\" >0.015000</td>\n",
       "      <td id=\"T_a9e6f_row6_col11\" class=\"data row6 col11\" >0.180000</td>\n",
       "      <td id=\"T_a9e6f_row6_col12\" class=\"data row6 col12\" >0.023000</td>\n",
       "      <td id=\"T_a9e6f_row6_col13\" class=\"data row6 col13\" >0.053000</td>\n",
       "      <td id=\"T_a9e6f_row6_col14\" class=\"data row6 col14\" >0.240000</td>\n",
       "      <td id=\"T_a9e6f_row6_col15\" class=\"data row6 col15\" >0.196000</td>\n",
       "      <td id=\"T_a9e6f_row6_col16\" class=\"data row6 col16\" >0.046000</td>\n",
       "      <td id=\"T_a9e6f_row6_col17\" class=\"data row6 col17\" >0.177000</td>\n",
       "      <td id=\"T_a9e6f_row6_col18\" class=\"data row6 col18\" >0.085000</td>\n",
       "      <td id=\"T_a9e6f_row6_col19\" class=\"data row6 col19\" >0.131000</td>\n",
       "      <td id=\"T_a9e6f_row6_col20\" class=\"data row6 col20\" >0.193000</td>\n",
       "      <td id=\"T_a9e6f_row6_col21\" class=\"data row6 col21\" >0.009000</td>\n",
       "      <td id=\"T_a9e6f_row6_col22\" class=\"data row6 col22\" >0.001000</td>\n",
       "      <td id=\"T_a9e6f_row6_col23\" class=\"data row6 col23\" >0.091000</td>\n",
       "      <td id=\"T_a9e6f_row6_col24\" class=\"data row6 col24\" >0.241000</td>\n",
       "    </tr>\n",
       "    <tr>\n",
       "      <th id=\"T_a9e6f_level0_row7\" class=\"row_heading level0 row7\" >floor</th>\n",
       "      <td id=\"T_a9e6f_row7_col0\" class=\"data row7 col0\" >0.023000</td>\n",
       "      <td id=\"T_a9e6f_row7_col1\" class=\"data row7 col1\" >0.025000</td>\n",
       "      <td id=\"T_a9e6f_row7_col2\" class=\"data row7 col2\" >0.030000</td>\n",
       "      <td id=\"T_a9e6f_row7_col3\" class=\"data row7 col3\" >0.161000</td>\n",
       "      <td id=\"T_a9e6f_row7_col4\" class=\"data row7 col4\" >0.019000</td>\n",
       "      <td id=\"T_a9e6f_row7_col5\" class=\"data row7 col5\" >0.677000</td>\n",
       "      <td id=\"T_a9e6f_row7_col6\" class=\"data row7 col6\" >0.096000</td>\n",
       "      <td id=\"T_a9e6f_row7_col7\" class=\"data row7 col7\" >1.000000</td>\n",
       "      <td id=\"T_a9e6f_row7_col8\" class=\"data row7 col8\" >0.010000</td>\n",
       "      <td id=\"T_a9e6f_row7_col9\" class=\"data row7 col9\" >0.032000</td>\n",
       "      <td id=\"T_a9e6f_row7_col10\" class=\"data row7 col10\" >0.035000</td>\n",
       "      <td id=\"T_a9e6f_row7_col11\" class=\"data row7 col11\" >0.085000</td>\n",
       "      <td id=\"T_a9e6f_row7_col12\" class=\"data row7 col12\" >0.170000</td>\n",
       "      <td id=\"T_a9e6f_row7_col13\" class=\"data row7 col13\" >0.075000</td>\n",
       "      <td id=\"T_a9e6f_row7_col14\" class=\"data row7 col14\" >0.035000</td>\n",
       "      <td id=\"T_a9e6f_row7_col15\" class=\"data row7 col15\" >0.107000</td>\n",
       "      <td id=\"T_a9e6f_row7_col16\" class=\"data row7 col16\" >0.084000</td>\n",
       "      <td id=\"T_a9e6f_row7_col17\" class=\"data row7 col17\" >0.041000</td>\n",
       "      <td id=\"T_a9e6f_row7_col18\" class=\"data row7 col18\" >0.026000</td>\n",
       "      <td id=\"T_a9e6f_row7_col19\" class=\"data row7 col19\" >0.043000</td>\n",
       "      <td id=\"T_a9e6f_row7_col20\" class=\"data row7 col20\" >0.140000</td>\n",
       "      <td id=\"T_a9e6f_row7_col21\" class=\"data row7 col21\" >0.012000</td>\n",
       "      <td id=\"T_a9e6f_row7_col22\" class=\"data row7 col22\" >0.017000</td>\n",
       "      <td id=\"T_a9e6f_row7_col23\" class=\"data row7 col23\" >0.023000</td>\n",
       "      <td id=\"T_a9e6f_row7_col24\" class=\"data row7 col24\" >0.037000</td>\n",
       "    </tr>\n",
       "    <tr>\n",
       "      <th id=\"T_a9e6f_level0_row8\" class=\"row_heading level0 row8\" >is_apartment</th>\n",
       "      <td id=\"T_a9e6f_row8_col0\" class=\"data row8 col0\" >0.012000</td>\n",
       "      <td id=\"T_a9e6f_row8_col1\" class=\"data row8 col1\" >0.005000</td>\n",
       "      <td id=\"T_a9e6f_row8_col2\" class=\"data row8 col2\" >0.001000</td>\n",
       "      <td id=\"T_a9e6f_row8_col3\" class=\"data row8 col3\" >0.014000</td>\n",
       "      <td id=\"T_a9e6f_row8_col4\" class=\"data row8 col4\" >0.082000</td>\n",
       "      <td id=\"T_a9e6f_row8_col5\" class=\"data row8 col5\" >0.017000</td>\n",
       "      <td id=\"T_a9e6f_row8_col6\" class=\"data row8 col6\" >0.001000</td>\n",
       "      <td id=\"T_a9e6f_row8_col7\" class=\"data row8 col7\" >0.010000</td>\n",
       "      <td id=\"T_a9e6f_row8_col8\" class=\"data row8 col8\" >1.000000</td>\n",
       "      <td id=\"T_a9e6f_row8_col9\" class=\"data row8 col9\" >0.003000</td>\n",
       "      <td id=\"T_a9e6f_row8_col10\" class=\"data row8 col10\" >0.002000</td>\n",
       "      <td id=\"T_a9e6f_row8_col11\" class=\"data row8 col11\" >0.014000</td>\n",
       "      <td id=\"T_a9e6f_row8_col12\" class=\"data row8 col12\" >0.042000</td>\n",
       "      <td id=\"T_a9e6f_row8_col13\" class=\"data row8 col13\" >0.017000</td>\n",
       "      <td id=\"T_a9e6f_row8_col14\" class=\"data row8 col14\" >0.011000</td>\n",
       "      <td id=\"T_a9e6f_row8_col15\" class=\"data row8 col15\" >0.006000</td>\n",
       "      <td id=\"T_a9e6f_row8_col16\" class=\"data row8 col16\" >0.023000</td>\n",
       "      <td id=\"T_a9e6f_row8_col17\" class=\"data row8 col17\" >0.018000</td>\n",
       "      <td id=\"T_a9e6f_row8_col18\" class=\"data row8 col18\" >0.003000</td>\n",
       "      <td id=\"T_a9e6f_row8_col19\" class=\"data row8 col19\" >0.002000</td>\n",
       "      <td id=\"T_a9e6f_row8_col20\" class=\"data row8 col20\" >0.029000</td>\n",
       "      <td id=\"T_a9e6f_row8_col21\" class=\"data row8 col21\" >0.010000</td>\n",
       "      <td id=\"T_a9e6f_row8_col22\" class=\"data row8 col22\" >0.008000</td>\n",
       "      <td id=\"T_a9e6f_row8_col23\" class=\"data row8 col23\" >0.017000</td>\n",
       "      <td id=\"T_a9e6f_row8_col24\" class=\"data row8 col24\" >0.010000</td>\n",
       "    </tr>\n",
       "    <tr>\n",
       "      <th id=\"T_a9e6f_level0_row9\" class=\"row_heading level0 row9\" >studio</th>\n",
       "      <td id=\"T_a9e6f_row9_col0\" class=\"data row9 col0\" >0.027000</td>\n",
       "      <td id=\"T_a9e6f_row9_col1\" class=\"data row9 col1\" >0.029000</td>\n",
       "      <td id=\"T_a9e6f_row9_col2\" class=\"data row9 col2\" >0.077000</td>\n",
       "      <td id=\"T_a9e6f_row9_col3\" class=\"data row9 col3\" >0.148000</td>\n",
       "      <td id=\"T_a9e6f_row9_col4\" class=\"data row9 col4\" >0.001000</td>\n",
       "      <td id=\"T_a9e6f_row9_col5\" class=\"data row9 col5\" >0.068000</td>\n",
       "      <td id=\"T_a9e6f_row9_col6\" class=\"data row9 col6\" >0.050000</td>\n",
       "      <td id=\"T_a9e6f_row9_col7\" class=\"data row9 col7\" >0.032000</td>\n",
       "      <td id=\"T_a9e6f_row9_col8\" class=\"data row9 col8\" >0.003000</td>\n",
       "      <td id=\"T_a9e6f_row9_col9\" class=\"data row9 col9\" >1.000000</td>\n",
       "      <td id=\"T_a9e6f_row9_col10\" class=\"data row9 col10\" >0.004000</td>\n",
       "      <td id=\"T_a9e6f_row9_col11\" class=\"data row9 col11\" >0.127000</td>\n",
       "      <td id=\"T_a9e6f_row9_col12\" class=\"data row9 col12\" >0.027000</td>\n",
       "      <td id=\"T_a9e6f_row9_col13\" class=\"data row9 col13\" >0.025000</td>\n",
       "      <td id=\"T_a9e6f_row9_col14\" class=\"data row9 col14\" >0.006000</td>\n",
       "      <td id=\"T_a9e6f_row9_col15\" class=\"data row9 col15\" >0.033000</td>\n",
       "      <td id=\"T_a9e6f_row9_col16\" class=\"data row9 col16\" >0.004000</td>\n",
       "      <td id=\"T_a9e6f_row9_col17\" class=\"data row9 col17\" >0.013000</td>\n",
       "      <td id=\"T_a9e6f_row9_col18\" class=\"data row9 col18\" >0.014000</td>\n",
       "      <td id=\"T_a9e6f_row9_col19\" class=\"data row9 col19\" >0.018000</td>\n",
       "      <td id=\"T_a9e6f_row9_col20\" class=\"data row9 col20\" >0.020000</td>\n",
       "      <td id=\"T_a9e6f_row9_col21\" class=\"data row9 col21\" >0.001000</td>\n",
       "      <td id=\"T_a9e6f_row9_col22\" class=\"data row9 col22\" >0.002000</td>\n",
       "      <td id=\"T_a9e6f_row9_col23\" class=\"data row9 col23\" >0.014000</td>\n",
       "      <td id=\"T_a9e6f_row9_col24\" class=\"data row9 col24\" >0.007000</td>\n",
       "    </tr>\n",
       "    <tr>\n",
       "      <th id=\"T_a9e6f_level0_row10\" class=\"row_heading level0 row10\" >open_plan</th>\n",
       "      <td id=\"T_a9e6f_row10_col0\" class=\"data row10 col0\" >0.026000</td>\n",
       "      <td id=\"T_a9e6f_row10_col1\" class=\"data row10 col1\" >0.012000</td>\n",
       "      <td id=\"T_a9e6f_row10_col2\" class=\"data row10 col2\" >0.039000</td>\n",
       "      <td id=\"T_a9e6f_row10_col3\" class=\"data row10 col3\" >0.094000</td>\n",
       "      <td id=\"T_a9e6f_row10_col4\" class=\"data row10 col4\" >0.016000</td>\n",
       "      <td id=\"T_a9e6f_row10_col5\" class=\"data row10 col5\" >0.051000</td>\n",
       "      <td id=\"T_a9e6f_row10_col6\" class=\"data row10 col6\" >0.015000</td>\n",
       "      <td id=\"T_a9e6f_row10_col7\" class=\"data row10 col7\" >0.035000</td>\n",
       "      <td id=\"T_a9e6f_row10_col8\" class=\"data row10 col8\" >0.002000</td>\n",
       "      <td id=\"T_a9e6f_row10_col9\" class=\"data row10 col9\" >0.004000</td>\n",
       "      <td id=\"T_a9e6f_row10_col10\" class=\"data row10 col10\" >1.000000</td>\n",
       "      <td id=\"T_a9e6f_row10_col11\" class=\"data row10 col11\" >0.070000</td>\n",
       "      <td id=\"T_a9e6f_row10_col12\" class=\"data row10 col12\" >0.034000</td>\n",
       "      <td id=\"T_a9e6f_row10_col13\" class=\"data row10 col13\" >0.015000</td>\n",
       "      <td id=\"T_a9e6f_row10_col14\" class=\"data row10 col14\" >0.007000</td>\n",
       "      <td id=\"T_a9e6f_row10_col15\" class=\"data row10 col15\" >0.019000</td>\n",
       "      <td id=\"T_a9e6f_row10_col16\" class=\"data row10 col16\" >0.019000</td>\n",
       "      <td id=\"T_a9e6f_row10_col17\" class=\"data row10 col17\" >0.009000</td>\n",
       "      <td id=\"T_a9e6f_row10_col18\" class=\"data row10 col18\" >0.006000</td>\n",
       "      <td id=\"T_a9e6f_row10_col19\" class=\"data row10 col19\" >0.023000</td>\n",
       "      <td id=\"T_a9e6f_row10_col20\" class=\"data row10 col20\" >0.009000</td>\n",
       "      <td id=\"T_a9e6f_row10_col21\" class=\"data row10 col21\" >0.008000</td>\n",
       "      <td id=\"T_a9e6f_row10_col22\" class=\"data row10 col22\" >0.023000</td>\n",
       "      <td id=\"T_a9e6f_row10_col23\" class=\"data row10 col23\" >0.015000</td>\n",
       "      <td id=\"T_a9e6f_row10_col24\" class=\"data row10 col24\" >0.008000</td>\n",
       "    </tr>\n",
       "    <tr>\n",
       "      <th id=\"T_a9e6f_level0_row11\" class=\"row_heading level0 row11\" >kitchen_area</th>\n",
       "      <td id=\"T_a9e6f_row11_col0\" class=\"data row11 col0\" >0.041000</td>\n",
       "      <td id=\"T_a9e6f_row11_col1\" class=\"data row11 col1\" >0.341000</td>\n",
       "      <td id=\"T_a9e6f_row11_col2\" class=\"data row11 col2\" >0.452000</td>\n",
       "      <td id=\"T_a9e6f_row11_col3\" class=\"data row11 col3\" >0.253000</td>\n",
       "      <td id=\"T_a9e6f_row11_col4\" class=\"data row11 col4\" >0.281000</td>\n",
       "      <td id=\"T_a9e6f_row11_col5\" class=\"data row11 col5\" >0.112000</td>\n",
       "      <td id=\"T_a9e6f_row11_col6\" class=\"data row11 col6\" >0.180000</td>\n",
       "      <td id=\"T_a9e6f_row11_col7\" class=\"data row11 col7\" >0.085000</td>\n",
       "      <td id=\"T_a9e6f_row11_col8\" class=\"data row11 col8\" >0.014000</td>\n",
       "      <td id=\"T_a9e6f_row11_col9\" class=\"data row11 col9\" >0.127000</td>\n",
       "      <td id=\"T_a9e6f_row11_col10\" class=\"data row11 col10\" >0.070000</td>\n",
       "      <td id=\"T_a9e6f_row11_col11\" class=\"data row11 col11\" >1.000000</td>\n",
       "      <td id=\"T_a9e6f_row11_col12\" class=\"data row11 col12\" >0.029000</td>\n",
       "      <td id=\"T_a9e6f_row11_col13\" class=\"data row11 col13\" >0.001000</td>\n",
       "      <td id=\"T_a9e6f_row11_col14\" class=\"data row11 col14\" >0.165000</td>\n",
       "      <td id=\"T_a9e6f_row11_col15\" class=\"data row11 col15\" >0.078000</td>\n",
       "      <td id=\"T_a9e6f_row11_col16\" class=\"data row11 col16\" >0.033000</td>\n",
       "      <td id=\"T_a9e6f_row11_col17\" class=\"data row11 col17\" >0.123000</td>\n",
       "      <td id=\"T_a9e6f_row11_col18\" class=\"data row11 col18\" >0.070000</td>\n",
       "      <td id=\"T_a9e6f_row11_col19\" class=\"data row11 col19\" >0.041000</td>\n",
       "      <td id=\"T_a9e6f_row11_col20\" class=\"data row11 col20\" >0.243000</td>\n",
       "      <td id=\"T_a9e6f_row11_col21\" class=\"data row11 col21\" >0.011000</td>\n",
       "      <td id=\"T_a9e6f_row11_col22\" class=\"data row11 col22\" >0.022000</td>\n",
       "      <td id=\"T_a9e6f_row11_col23\" class=\"data row11 col23\" >0.014000</td>\n",
       "      <td id=\"T_a9e6f_row11_col24\" class=\"data row11 col24\" >0.167000</td>\n",
       "    </tr>\n",
       "    <tr>\n",
       "      <th id=\"T_a9e6f_level0_row12\" class=\"row_heading level0 row12\" >balcony</th>\n",
       "      <td id=\"T_a9e6f_row12_col0\" class=\"data row12 col0\" >0.038000</td>\n",
       "      <td id=\"T_a9e6f_row12_col1\" class=\"data row12 col1\" >0.015000</td>\n",
       "      <td id=\"T_a9e6f_row12_col2\" class=\"data row12 col2\" >0.024000</td>\n",
       "      <td id=\"T_a9e6f_row12_col3\" class=\"data row12 col3\" >0.007000</td>\n",
       "      <td id=\"T_a9e6f_row12_col4\" class=\"data row12 col4\" >0.021000</td>\n",
       "      <td id=\"T_a9e6f_row12_col5\" class=\"data row12 col5\" >0.173000</td>\n",
       "      <td id=\"T_a9e6f_row12_col6\" class=\"data row12 col6\" >0.023000</td>\n",
       "      <td id=\"T_a9e6f_row12_col7\" class=\"data row12 col7\" >0.170000</td>\n",
       "      <td id=\"T_a9e6f_row12_col8\" class=\"data row12 col8\" >0.042000</td>\n",
       "      <td id=\"T_a9e6f_row12_col9\" class=\"data row12 col9\" >0.027000</td>\n",
       "      <td id=\"T_a9e6f_row12_col10\" class=\"data row12 col10\" >0.034000</td>\n",
       "      <td id=\"T_a9e6f_row12_col11\" class=\"data row12 col11\" >0.029000</td>\n",
       "      <td id=\"T_a9e6f_row12_col12\" class=\"data row12 col12\" >1.000000</td>\n",
       "      <td id=\"T_a9e6f_row12_col13\" class=\"data row12 col13\" >0.051000</td>\n",
       "      <td id=\"T_a9e6f_row12_col14\" class=\"data row12 col14\" >0.037000</td>\n",
       "      <td id=\"T_a9e6f_row12_col15\" class=\"data row12 col15\" >0.067000</td>\n",
       "      <td id=\"T_a9e6f_row12_col16\" class=\"data row12 col16\" >0.045000</td>\n",
       "      <td id=\"T_a9e6f_row12_col17\" class=\"data row12 col17\" >0.036000</td>\n",
       "      <td id=\"T_a9e6f_row12_col18\" class=\"data row12 col18\" >0.012000</td>\n",
       "      <td id=\"T_a9e6f_row12_col19\" class=\"data row12 col19\" >0.027000</td>\n",
       "      <td id=\"T_a9e6f_row12_col20\" class=\"data row12 col20\" >0.028000</td>\n",
       "      <td id=\"T_a9e6f_row12_col21\" class=\"data row12 col21\" >0.003000</td>\n",
       "      <td id=\"T_a9e6f_row12_col22\" class=\"data row12 col22\" >0.007000</td>\n",
       "      <td id=\"T_a9e6f_row12_col23\" class=\"data row12 col23\" >0.002000</td>\n",
       "      <td id=\"T_a9e6f_row12_col24\" class=\"data row12 col24\" >0.036000</td>\n",
       "    </tr>\n",
       "    <tr>\n",
       "      <th id=\"T_a9e6f_level0_row13\" class=\"row_heading level0 row13\" >airports_nearest</th>\n",
       "      <td id=\"T_a9e6f_row13_col0\" class=\"data row13 col0\" >0.001000</td>\n",
       "      <td id=\"T_a9e6f_row13_col1\" class=\"data row13 col1\" >0.033000</td>\n",
       "      <td id=\"T_a9e6f_row13_col2\" class=\"data row13 col2\" >0.036000</td>\n",
       "      <td id=\"T_a9e6f_row13_col3\" class=\"data row13 col3\" >0.061000</td>\n",
       "      <td id=\"T_a9e6f_row13_col4\" class=\"data row13 col4\" >0.083000</td>\n",
       "      <td id=\"T_a9e6f_row13_col5\" class=\"data row13 col5\" >0.111000</td>\n",
       "      <td id=\"T_a9e6f_row13_col6\" class=\"data row13 col6\" >0.053000</td>\n",
       "      <td id=\"T_a9e6f_row13_col7\" class=\"data row13 col7\" >0.075000</td>\n",
       "      <td id=\"T_a9e6f_row13_col8\" class=\"data row13 col8\" >0.017000</td>\n",
       "      <td id=\"T_a9e6f_row13_col9\" class=\"data row13 col9\" >0.025000</td>\n",
       "      <td id=\"T_a9e6f_row13_col10\" class=\"data row13 col10\" >0.015000</td>\n",
       "      <td id=\"T_a9e6f_row13_col11\" class=\"data row13 col11\" >0.001000</td>\n",
       "      <td id=\"T_a9e6f_row13_col12\" class=\"data row13 col12\" >0.051000</td>\n",
       "      <td id=\"T_a9e6f_row13_col13\" class=\"data row13 col13\" >1.000000</td>\n",
       "      <td id=\"T_a9e6f_row13_col14\" class=\"data row13 col14\" >0.272000</td>\n",
       "      <td id=\"T_a9e6f_row13_col15\" class=\"data row13 col15\" >0.005000</td>\n",
       "      <td id=\"T_a9e6f_row13_col16\" class=\"data row13 col16\" >0.083000</td>\n",
       "      <td id=\"T_a9e6f_row13_col17\" class=\"data row13 col17\" >0.047000</td>\n",
       "      <td id=\"T_a9e6f_row13_col18\" class=\"data row13 col18\" >0.008000</td>\n",
       "      <td id=\"T_a9e6f_row13_col19\" class=\"data row13 col19\" >0.018000</td>\n",
       "      <td id=\"T_a9e6f_row13_col20\" class=\"data row13 col20\" >0.042000</td>\n",
       "      <td id=\"T_a9e6f_row13_col21\" class=\"data row13 col21\" >0.004000</td>\n",
       "      <td id=\"T_a9e6f_row13_col22\" class=\"data row13 col22\" >0.001000</td>\n",
       "      <td id=\"T_a9e6f_row13_col23\" class=\"data row13 col23\" >0.019000</td>\n",
       "      <td id=\"T_a9e6f_row13_col24\" class=\"data row13 col24\" >0.273000</td>\n",
       "    </tr>\n",
       "    <tr>\n",
       "      <th id=\"T_a9e6f_level0_row14\" class=\"row_heading level0 row14\" >city_centers_nearest</th>\n",
       "      <td id=\"T_a9e6f_row14_col0\" class=\"data row14 col0\" >0.061000</td>\n",
       "      <td id=\"T_a9e6f_row14_col1\" class=\"data row14 col1\" >0.262000</td>\n",
       "      <td id=\"T_a9e6f_row14_col2\" class=\"data row14 col2\" >0.263000</td>\n",
       "      <td id=\"T_a9e6f_row14_col3\" class=\"data row14 col3\" >0.199000</td>\n",
       "      <td id=\"T_a9e6f_row14_col4\" class=\"data row14 col4\" >0.338000</td>\n",
       "      <td id=\"T_a9e6f_row14_col5\" class=\"data row14 col5\" >0.049000</td>\n",
       "      <td id=\"T_a9e6f_row14_col6\" class=\"data row14 col6\" >0.240000</td>\n",
       "      <td id=\"T_a9e6f_row14_col7\" class=\"data row14 col7\" >0.035000</td>\n",
       "      <td id=\"T_a9e6f_row14_col8\" class=\"data row14 col8\" >0.011000</td>\n",
       "      <td id=\"T_a9e6f_row14_col9\" class=\"data row14 col9\" >0.006000</td>\n",
       "      <td id=\"T_a9e6f_row14_col10\" class=\"data row14 col10\" >0.007000</td>\n",
       "      <td id=\"T_a9e6f_row14_col11\" class=\"data row14 col11\" >0.165000</td>\n",
       "      <td id=\"T_a9e6f_row14_col12\" class=\"data row14 col12\" >0.037000</td>\n",
       "      <td id=\"T_a9e6f_row14_col13\" class=\"data row14 col13\" >0.272000</td>\n",
       "      <td id=\"T_a9e6f_row14_col14\" class=\"data row14 col14\" >1.000000</td>\n",
       "      <td id=\"T_a9e6f_row14_col15\" class=\"data row14 col15\" >0.187000</td>\n",
       "      <td id=\"T_a9e6f_row14_col16\" class=\"data row14 col16\" >0.045000</td>\n",
       "      <td id=\"T_a9e6f_row14_col17\" class=\"data row14 col17\" >0.116000</td>\n",
       "      <td id=\"T_a9e6f_row14_col18\" class=\"data row14 col18\" >0.025000</td>\n",
       "      <td id=\"T_a9e6f_row14_col19\" class=\"data row14 col19\" >0.047000</td>\n",
       "      <td id=\"T_a9e6f_row14_col20\" class=\"data row14 col20\" >0.370000</td>\n",
       "      <td id=\"T_a9e6f_row14_col21\" class=\"data row14 col21\" >0.009000</td>\n",
       "      <td id=\"T_a9e6f_row14_col22\" class=\"data row14 col22\" >0.013000</td>\n",
       "      <td id=\"T_a9e6f_row14_col23\" class=\"data row14 col23\" >0.034000</td>\n",
       "      <td id=\"T_a9e6f_row14_col24\" class=\"data row14 col24\" >0.999000</td>\n",
       "    </tr>\n",
       "    <tr>\n",
       "      <th id=\"T_a9e6f_level0_row15\" class=\"row_heading level0 row15\" >parks_around3000</th>\n",
       "      <td id=\"T_a9e6f_row15_col0\" class=\"data row15 col0\" >0.036000</td>\n",
       "      <td id=\"T_a9e6f_row15_col1\" class=\"data row15 col1\" >0.217000</td>\n",
       "      <td id=\"T_a9e6f_row15_col2\" class=\"data row15 col2\" >0.197000</td>\n",
       "      <td id=\"T_a9e6f_row15_col3\" class=\"data row15 col3\" >0.155000</td>\n",
       "      <td id=\"T_a9e6f_row15_col4\" class=\"data row15 col4\" >0.254000</td>\n",
       "      <td id=\"T_a9e6f_row15_col5\" class=\"data row15 col5\" >0.164000</td>\n",
       "      <td id=\"T_a9e6f_row15_col6\" class=\"data row15 col6\" >0.196000</td>\n",
       "      <td id=\"T_a9e6f_row15_col7\" class=\"data row15 col7\" >0.107000</td>\n",
       "      <td id=\"T_a9e6f_row15_col8\" class=\"data row15 col8\" >0.006000</td>\n",
       "      <td id=\"T_a9e6f_row15_col9\" class=\"data row15 col9\" >0.033000</td>\n",
       "      <td id=\"T_a9e6f_row15_col10\" class=\"data row15 col10\" >0.019000</td>\n",
       "      <td id=\"T_a9e6f_row15_col11\" class=\"data row15 col11\" >0.078000</td>\n",
       "      <td id=\"T_a9e6f_row15_col12\" class=\"data row15 col12\" >0.067000</td>\n",
       "      <td id=\"T_a9e6f_row15_col13\" class=\"data row15 col13\" >0.005000</td>\n",
       "      <td id=\"T_a9e6f_row15_col14\" class=\"data row15 col14\" >0.187000</td>\n",
       "      <td id=\"T_a9e6f_row15_col15\" class=\"data row15 col15\" >1.000000</td>\n",
       "      <td id=\"T_a9e6f_row15_col16\" class=\"data row15 col16\" >0.255000</td>\n",
       "      <td id=\"T_a9e6f_row15_col17\" class=\"data row15 col17\" >0.388000</td>\n",
       "      <td id=\"T_a9e6f_row15_col18\" class=\"data row15 col18\" >0.170000</td>\n",
       "      <td id=\"T_a9e6f_row15_col19\" class=\"data row15 col19\" >0.047000</td>\n",
       "      <td id=\"T_a9e6f_row15_col20\" class=\"data row15 col20\" >0.283000</td>\n",
       "      <td id=\"T_a9e6f_row15_col21\" class=\"data row15 col21\" >0.009000</td>\n",
       "      <td id=\"T_a9e6f_row15_col22\" class=\"data row15 col22\" >0.003000</td>\n",
       "      <td id=\"T_a9e6f_row15_col23\" class=\"data row15 col23\" >0.045000</td>\n",
       "      <td id=\"T_a9e6f_row15_col24\" class=\"data row15 col24\" >0.190000</td>\n",
       "    </tr>\n",
       "    <tr>\n",
       "      <th id=\"T_a9e6f_level0_row16\" class=\"row_heading level0 row16\" >parks_nearest</th>\n",
       "      <td id=\"T_a9e6f_row16_col0\" class=\"data row16 col0\" >0.003000</td>\n",
       "      <td id=\"T_a9e6f_row16_col1\" class=\"data row16 col1\" >0.002000</td>\n",
       "      <td id=\"T_a9e6f_row16_col2\" class=\"data row16 col2\" >0.009000</td>\n",
       "      <td id=\"T_a9e6f_row16_col3\" class=\"data row16 col3\" >0.049000</td>\n",
       "      <td id=\"T_a9e6f_row16_col4\" class=\"data row16 col4\" >0.021000</td>\n",
       "      <td id=\"T_a9e6f_row16_col5\" class=\"data row16 col5\" >0.105000</td>\n",
       "      <td id=\"T_a9e6f_row16_col6\" class=\"data row16 col6\" >0.046000</td>\n",
       "      <td id=\"T_a9e6f_row16_col7\" class=\"data row16 col7\" >0.084000</td>\n",
       "      <td id=\"T_a9e6f_row16_col8\" class=\"data row16 col8\" >0.023000</td>\n",
       "      <td id=\"T_a9e6f_row16_col9\" class=\"data row16 col9\" >0.004000</td>\n",
       "      <td id=\"T_a9e6f_row16_col10\" class=\"data row16 col10\" >0.019000</td>\n",
       "      <td id=\"T_a9e6f_row16_col11\" class=\"data row16 col11\" >0.033000</td>\n",
       "      <td id=\"T_a9e6f_row16_col12\" class=\"data row16 col12\" >0.045000</td>\n",
       "      <td id=\"T_a9e6f_row16_col13\" class=\"data row16 col13\" >0.083000</td>\n",
       "      <td id=\"T_a9e6f_row16_col14\" class=\"data row16 col14\" >0.045000</td>\n",
       "      <td id=\"T_a9e6f_row16_col15\" class=\"data row16 col15\" >0.255000</td>\n",
       "      <td id=\"T_a9e6f_row16_col16\" class=\"data row16 col16\" >1.000000</td>\n",
       "      <td id=\"T_a9e6f_row16_col17\" class=\"data row16 col17\" >0.063000</td>\n",
       "      <td id=\"T_a9e6f_row16_col18\" class=\"data row16 col18\" >0.010000</td>\n",
       "      <td id=\"T_a9e6f_row16_col19\" class=\"data row16 col19\" >0.016000</td>\n",
       "      <td id=\"T_a9e6f_row16_col20\" class=\"data row16 col20\" >0.030000</td>\n",
       "      <td id=\"T_a9e6f_row16_col21\" class=\"data row16 col21\" >0.005000</td>\n",
       "      <td id=\"T_a9e6f_row16_col22\" class=\"data row16 col22\" >0.009000</td>\n",
       "      <td id=\"T_a9e6f_row16_col23\" class=\"data row16 col23\" >0.013000</td>\n",
       "      <td id=\"T_a9e6f_row16_col24\" class=\"data row16 col24\" >0.044000</td>\n",
       "    </tr>\n",
       "    <tr>\n",
       "      <th id=\"T_a9e6f_level0_row17\" class=\"row_heading level0 row17\" >ponds_around3000</th>\n",
       "      <td id=\"T_a9e6f_row17_col0\" class=\"data row17 col0\" >0.006000</td>\n",
       "      <td id=\"T_a9e6f_row17_col1\" class=\"data row17 col1\" >0.223000</td>\n",
       "      <td id=\"T_a9e6f_row17_col2\" class=\"data row17 col2\" >0.203000</td>\n",
       "      <td id=\"T_a9e6f_row17_col3\" class=\"data row17 col3\" >0.122000</td>\n",
       "      <td id=\"T_a9e6f_row17_col4\" class=\"data row17 col4\" >0.251000</td>\n",
       "      <td id=\"T_a9e6f_row17_col5\" class=\"data row17 col5\" >0.071000</td>\n",
       "      <td id=\"T_a9e6f_row17_col6\" class=\"data row17 col6\" >0.177000</td>\n",
       "      <td id=\"T_a9e6f_row17_col7\" class=\"data row17 col7\" >0.041000</td>\n",
       "      <td id=\"T_a9e6f_row17_col8\" class=\"data row17 col8\" >0.018000</td>\n",
       "      <td id=\"T_a9e6f_row17_col9\" class=\"data row17 col9\" >0.013000</td>\n",
       "      <td id=\"T_a9e6f_row17_col10\" class=\"data row17 col10\" >0.009000</td>\n",
       "      <td id=\"T_a9e6f_row17_col11\" class=\"data row17 col11\" >0.123000</td>\n",
       "      <td id=\"T_a9e6f_row17_col12\" class=\"data row17 col12\" >0.036000</td>\n",
       "      <td id=\"T_a9e6f_row17_col13\" class=\"data row17 col13\" >0.047000</td>\n",
       "      <td id=\"T_a9e6f_row17_col14\" class=\"data row17 col14\" >0.116000</td>\n",
       "      <td id=\"T_a9e6f_row17_col15\" class=\"data row17 col15\" >0.388000</td>\n",
       "      <td id=\"T_a9e6f_row17_col16\" class=\"data row17 col16\" >0.063000</td>\n",
       "      <td id=\"T_a9e6f_row17_col17\" class=\"data row17 col17\" >1.000000</td>\n",
       "      <td id=\"T_a9e6f_row17_col18\" class=\"data row17 col18\" >0.335000</td>\n",
       "      <td id=\"T_a9e6f_row17_col19\" class=\"data row17 col19\" >0.048000</td>\n",
       "      <td id=\"T_a9e6f_row17_col20\" class=\"data row17 col20\" >0.298000</td>\n",
       "      <td id=\"T_a9e6f_row17_col21\" class=\"data row17 col21\" >0.005000</td>\n",
       "      <td id=\"T_a9e6f_row17_col22\" class=\"data row17 col22\" >0.008000</td>\n",
       "      <td id=\"T_a9e6f_row17_col23\" class=\"data row17 col23\" >0.038000</td>\n",
       "      <td id=\"T_a9e6f_row17_col24\" class=\"data row17 col24\" >0.120000</td>\n",
       "    </tr>\n",
       "    <tr>\n",
       "      <th id=\"T_a9e6f_level0_row18\" class=\"row_heading level0 row18\" >ponds_nearest</th>\n",
       "      <td id=\"T_a9e6f_row18_col0\" class=\"data row18 col0\" >0.003000</td>\n",
       "      <td id=\"T_a9e6f_row18_col1\" class=\"data row18 col1\" >0.101000</td>\n",
       "      <td id=\"T_a9e6f_row18_col2\" class=\"data row18 col2\" >0.099000</td>\n",
       "      <td id=\"T_a9e6f_row18_col3\" class=\"data row18 col3\" >0.060000</td>\n",
       "      <td id=\"T_a9e6f_row18_col4\" class=\"data row18 col4\" >0.113000</td>\n",
       "      <td id=\"T_a9e6f_row18_col5\" class=\"data row18 col5\" >0.058000</td>\n",
       "      <td id=\"T_a9e6f_row18_col6\" class=\"data row18 col6\" >0.085000</td>\n",
       "      <td id=\"T_a9e6f_row18_col7\" class=\"data row18 col7\" >0.026000</td>\n",
       "      <td id=\"T_a9e6f_row18_col8\" class=\"data row18 col8\" >0.003000</td>\n",
       "      <td id=\"T_a9e6f_row18_col9\" class=\"data row18 col9\" >0.014000</td>\n",
       "      <td id=\"T_a9e6f_row18_col10\" class=\"data row18 col10\" >0.006000</td>\n",
       "      <td id=\"T_a9e6f_row18_col11\" class=\"data row18 col11\" >0.070000</td>\n",
       "      <td id=\"T_a9e6f_row18_col12\" class=\"data row18 col12\" >0.012000</td>\n",
       "      <td id=\"T_a9e6f_row18_col13\" class=\"data row18 col13\" >0.008000</td>\n",
       "      <td id=\"T_a9e6f_row18_col14\" class=\"data row18 col14\" >0.025000</td>\n",
       "      <td id=\"T_a9e6f_row18_col15\" class=\"data row18 col15\" >0.170000</td>\n",
       "      <td id=\"T_a9e6f_row18_col16\" class=\"data row18 col16\" >0.010000</td>\n",
       "      <td id=\"T_a9e6f_row18_col17\" class=\"data row18 col17\" >0.335000</td>\n",
       "      <td id=\"T_a9e6f_row18_col18\" class=\"data row18 col18\" >1.000000</td>\n",
       "      <td id=\"T_a9e6f_row18_col19\" class=\"data row18 col19\" >0.065000</td>\n",
       "      <td id=\"T_a9e6f_row18_col20\" class=\"data row18 col20\" >0.109000</td>\n",
       "      <td id=\"T_a9e6f_row18_col21\" class=\"data row18 col21\" >0.000000</td>\n",
       "      <td id=\"T_a9e6f_row18_col22\" class=\"data row18 col22\" >0.016000</td>\n",
       "      <td id=\"T_a9e6f_row18_col23\" class=\"data row18 col23\" >0.035000</td>\n",
       "      <td id=\"T_a9e6f_row18_col24\" class=\"data row18 col24\" >0.027000</td>\n",
       "    </tr>\n",
       "    <tr>\n",
       "      <th id=\"T_a9e6f_level0_row19\" class=\"row_heading level0 row19\" >days_exposition</th>\n",
       "      <td id=\"T_a9e6f_row19_col0\" class=\"data row19 col0\" >0.018000</td>\n",
       "      <td id=\"T_a9e6f_row19_col1\" class=\"data row19 col1\" >0.087000</td>\n",
       "      <td id=\"T_a9e6f_row19_col2\" class=\"data row19 col2\" >0.133000</td>\n",
       "      <td id=\"T_a9e6f_row19_col3\" class=\"data row19 col3\" >0.118000</td>\n",
       "      <td id=\"T_a9e6f_row19_col4\" class=\"data row19 col4\" >0.103000</td>\n",
       "      <td id=\"T_a9e6f_row19_col5\" class=\"data row19 col5\" >0.058000</td>\n",
       "      <td id=\"T_a9e6f_row19_col6\" class=\"data row19 col6\" >0.131000</td>\n",
       "      <td id=\"T_a9e6f_row19_col7\" class=\"data row19 col7\" >0.043000</td>\n",
       "      <td id=\"T_a9e6f_row19_col8\" class=\"data row19 col8\" >0.002000</td>\n",
       "      <td id=\"T_a9e6f_row19_col9\" class=\"data row19 col9\" >0.018000</td>\n",
       "      <td id=\"T_a9e6f_row19_col10\" class=\"data row19 col10\" >0.023000</td>\n",
       "      <td id=\"T_a9e6f_row19_col11\" class=\"data row19 col11\" >0.041000</td>\n",
       "      <td id=\"T_a9e6f_row19_col12\" class=\"data row19 col12\" >0.027000</td>\n",
       "      <td id=\"T_a9e6f_row19_col13\" class=\"data row19 col13\" >0.018000</td>\n",
       "      <td id=\"T_a9e6f_row19_col14\" class=\"data row19 col14\" >0.047000</td>\n",
       "      <td id=\"T_a9e6f_row19_col15\" class=\"data row19 col15\" >0.047000</td>\n",
       "      <td id=\"T_a9e6f_row19_col16\" class=\"data row19 col16\" >0.016000</td>\n",
       "      <td id=\"T_a9e6f_row19_col17\" class=\"data row19 col17\" >0.048000</td>\n",
       "      <td id=\"T_a9e6f_row19_col18\" class=\"data row19 col18\" >0.065000</td>\n",
       "      <td id=\"T_a9e6f_row19_col19\" class=\"data row19 col19\" >1.000000</td>\n",
       "      <td id=\"T_a9e6f_row19_col20\" class=\"data row19 col20\" >0.031000</td>\n",
       "      <td id=\"T_a9e6f_row19_col21\" class=\"data row19 col21\" >0.013000</td>\n",
       "      <td id=\"T_a9e6f_row19_col22\" class=\"data row19 col22\" >0.038000</td>\n",
       "      <td id=\"T_a9e6f_row19_col23\" class=\"data row19 col23\" >0.569000</td>\n",
       "      <td id=\"T_a9e6f_row19_col24\" class=\"data row19 col24\" >0.046000</td>\n",
       "    </tr>\n",
       "    <tr>\n",
       "      <th id=\"T_a9e6f_level0_row20\" class=\"row_heading level0 row20\" >square_meter_price</th>\n",
       "      <td id=\"T_a9e6f_row20_col0\" class=\"data row20 col0\" >0.123000</td>\n",
       "      <td id=\"T_a9e6f_row20_col1\" class=\"data row20 col1\" >0.752000</td>\n",
       "      <td id=\"T_a9e6f_row20_col2\" class=\"data row20 col2\" >0.277000</td>\n",
       "      <td id=\"T_a9e6f_row20_col3\" class=\"data row20 col3\" >0.034000</td>\n",
       "      <td id=\"T_a9e6f_row20_col4\" class=\"data row20 col4\" >0.370000</td>\n",
       "      <td id=\"T_a9e6f_row20_col5\" class=\"data row20 col5\" >0.165000</td>\n",
       "      <td id=\"T_a9e6f_row20_col6\" class=\"data row20 col6\" >0.193000</td>\n",
       "      <td id=\"T_a9e6f_row20_col7\" class=\"data row20 col7\" >0.140000</td>\n",
       "      <td id=\"T_a9e6f_row20_col8\" class=\"data row20 col8\" >0.029000</td>\n",
       "      <td id=\"T_a9e6f_row20_col9\" class=\"data row20 col9\" >0.020000</td>\n",
       "      <td id=\"T_a9e6f_row20_col10\" class=\"data row20 col10\" >0.009000</td>\n",
       "      <td id=\"T_a9e6f_row20_col11\" class=\"data row20 col11\" >0.243000</td>\n",
       "      <td id=\"T_a9e6f_row20_col12\" class=\"data row20 col12\" >0.028000</td>\n",
       "      <td id=\"T_a9e6f_row20_col13\" class=\"data row20 col13\" >0.042000</td>\n",
       "      <td id=\"T_a9e6f_row20_col14\" class=\"data row20 col14\" >0.370000</td>\n",
       "      <td id=\"T_a9e6f_row20_col15\" class=\"data row20 col15\" >0.283000</td>\n",
       "      <td id=\"T_a9e6f_row20_col16\" class=\"data row20 col16\" >0.030000</td>\n",
       "      <td id=\"T_a9e6f_row20_col17\" class=\"data row20 col17\" >0.298000</td>\n",
       "      <td id=\"T_a9e6f_row20_col18\" class=\"data row20 col18\" >0.109000</td>\n",
       "      <td id=\"T_a9e6f_row20_col19\" class=\"data row20 col19\" >0.031000</td>\n",
       "      <td id=\"T_a9e6f_row20_col20\" class=\"data row20 col20\" >1.000000</td>\n",
       "      <td id=\"T_a9e6f_row20_col21\" class=\"data row20 col21\" >0.002000</td>\n",
       "      <td id=\"T_a9e6f_row20_col22\" class=\"data row20 col22\" >0.000000</td>\n",
       "      <td id=\"T_a9e6f_row20_col23\" class=\"data row20 col23\" >0.012000</td>\n",
       "      <td id=\"T_a9e6f_row20_col24\" class=\"data row20 col24\" >0.374000</td>\n",
       "    </tr>\n",
       "    <tr>\n",
       "      <th id=\"T_a9e6f_level0_row21\" class=\"row_heading level0 row21\" >week_day_exposition</th>\n",
       "      <td id=\"T_a9e6f_row21_col0\" class=\"data row21 col0\" >0.006000</td>\n",
       "      <td id=\"T_a9e6f_row21_col1\" class=\"data row21 col1\" >0.003000</td>\n",
       "      <td id=\"T_a9e6f_row21_col2\" class=\"data row21 col2\" >0.002000</td>\n",
       "      <td id=\"T_a9e6f_row21_col3\" class=\"data row21 col3\" >0.005000</td>\n",
       "      <td id=\"T_a9e6f_row21_col4\" class=\"data row21 col4\" >0.008000</td>\n",
       "      <td id=\"T_a9e6f_row21_col5\" class=\"data row21 col5\" >0.016000</td>\n",
       "      <td id=\"T_a9e6f_row21_col6\" class=\"data row21 col6\" >0.009000</td>\n",
       "      <td id=\"T_a9e6f_row21_col7\" class=\"data row21 col7\" >0.012000</td>\n",
       "      <td id=\"T_a9e6f_row21_col8\" class=\"data row21 col8\" >0.010000</td>\n",
       "      <td id=\"T_a9e6f_row21_col9\" class=\"data row21 col9\" >0.001000</td>\n",
       "      <td id=\"T_a9e6f_row21_col10\" class=\"data row21 col10\" >0.008000</td>\n",
       "      <td id=\"T_a9e6f_row21_col11\" class=\"data row21 col11\" >0.011000</td>\n",
       "      <td id=\"T_a9e6f_row21_col12\" class=\"data row21 col12\" >0.003000</td>\n",
       "      <td id=\"T_a9e6f_row21_col13\" class=\"data row21 col13\" >0.004000</td>\n",
       "      <td id=\"T_a9e6f_row21_col14\" class=\"data row21 col14\" >0.009000</td>\n",
       "      <td id=\"T_a9e6f_row21_col15\" class=\"data row21 col15\" >0.009000</td>\n",
       "      <td id=\"T_a9e6f_row21_col16\" class=\"data row21 col16\" >0.005000</td>\n",
       "      <td id=\"T_a9e6f_row21_col17\" class=\"data row21 col17\" >0.005000</td>\n",
       "      <td id=\"T_a9e6f_row21_col18\" class=\"data row21 col18\" >0.000000</td>\n",
       "      <td id=\"T_a9e6f_row21_col19\" class=\"data row21 col19\" >0.013000</td>\n",
       "      <td id=\"T_a9e6f_row21_col20\" class=\"data row21 col20\" >0.002000</td>\n",
       "      <td id=\"T_a9e6f_row21_col21\" class=\"data row21 col21\" >1.000000</td>\n",
       "      <td id=\"T_a9e6f_row21_col22\" class=\"data row21 col22\" >0.008000</td>\n",
       "      <td id=\"T_a9e6f_row21_col23\" class=\"data row21 col23\" >0.001000</td>\n",
       "      <td id=\"T_a9e6f_row21_col24\" class=\"data row21 col24\" >0.009000</td>\n",
       "    </tr>\n",
       "    <tr>\n",
       "      <th id=\"T_a9e6f_level0_row22\" class=\"row_heading level0 row22\" >month_exposition</th>\n",
       "      <td id=\"T_a9e6f_row22_col0\" class=\"data row22 col0\" >0.025000</td>\n",
       "      <td id=\"T_a9e6f_row22_col1\" class=\"data row22 col1\" >0.005000</td>\n",
       "      <td id=\"T_a9e6f_row22_col2\" class=\"data row22 col2\" >0.000000</td>\n",
       "      <td id=\"T_a9e6f_row22_col3\" class=\"data row22 col3\" >0.002000</td>\n",
       "      <td id=\"T_a9e6f_row22_col4\" class=\"data row22 col4\" >0.002000</td>\n",
       "      <td id=\"T_a9e6f_row22_col5\" class=\"data row22 col5\" >0.009000</td>\n",
       "      <td id=\"T_a9e6f_row22_col6\" class=\"data row22 col6\" >0.001000</td>\n",
       "      <td id=\"T_a9e6f_row22_col7\" class=\"data row22 col7\" >0.017000</td>\n",
       "      <td id=\"T_a9e6f_row22_col8\" class=\"data row22 col8\" >0.008000</td>\n",
       "      <td id=\"T_a9e6f_row22_col9\" class=\"data row22 col9\" >0.002000</td>\n",
       "      <td id=\"T_a9e6f_row22_col10\" class=\"data row22 col10\" >0.023000</td>\n",
       "      <td id=\"T_a9e6f_row22_col11\" class=\"data row22 col11\" >0.022000</td>\n",
       "      <td id=\"T_a9e6f_row22_col12\" class=\"data row22 col12\" >0.007000</td>\n",
       "      <td id=\"T_a9e6f_row22_col13\" class=\"data row22 col13\" >0.001000</td>\n",
       "      <td id=\"T_a9e6f_row22_col14\" class=\"data row22 col14\" >0.013000</td>\n",
       "      <td id=\"T_a9e6f_row22_col15\" class=\"data row22 col15\" >0.003000</td>\n",
       "      <td id=\"T_a9e6f_row22_col16\" class=\"data row22 col16\" >0.009000</td>\n",
       "      <td id=\"T_a9e6f_row22_col17\" class=\"data row22 col17\" >0.008000</td>\n",
       "      <td id=\"T_a9e6f_row22_col18\" class=\"data row22 col18\" >0.016000</td>\n",
       "      <td id=\"T_a9e6f_row22_col19\" class=\"data row22 col19\" >0.038000</td>\n",
       "      <td id=\"T_a9e6f_row22_col20\" class=\"data row22 col20\" >0.000000</td>\n",
       "      <td id=\"T_a9e6f_row22_col21\" class=\"data row22 col21\" >0.008000</td>\n",
       "      <td id=\"T_a9e6f_row22_col22\" class=\"data row22 col22\" >1.000000</td>\n",
       "      <td id=\"T_a9e6f_row22_col23\" class=\"data row22 col23\" >0.193000</td>\n",
       "      <td id=\"T_a9e6f_row22_col24\" class=\"data row22 col24\" >0.014000</td>\n",
       "    </tr>\n",
       "    <tr>\n",
       "      <th id=\"T_a9e6f_level0_row23\" class=\"row_heading level0 row23\" >year_exposition</th>\n",
       "      <td id=\"T_a9e6f_row23_col0\" class=\"data row23 col0\" >0.121000</td>\n",
       "      <td id=\"T_a9e6f_row23_col1\" class=\"data row23 col1\" >0.051000</td>\n",
       "      <td id=\"T_a9e6f_row23_col2\" class=\"data row23 col2\" >0.092000</td>\n",
       "      <td id=\"T_a9e6f_row23_col3\" class=\"data row23 col3\" >0.087000</td>\n",
       "      <td id=\"T_a9e6f_row23_col4\" class=\"data row23 col4\" >0.061000</td>\n",
       "      <td id=\"T_a9e6f_row23_col5\" class=\"data row23 col5\" >0.033000</td>\n",
       "      <td id=\"T_a9e6f_row23_col6\" class=\"data row23 col6\" >0.091000</td>\n",
       "      <td id=\"T_a9e6f_row23_col7\" class=\"data row23 col7\" >0.023000</td>\n",
       "      <td id=\"T_a9e6f_row23_col8\" class=\"data row23 col8\" >0.017000</td>\n",
       "      <td id=\"T_a9e6f_row23_col9\" class=\"data row23 col9\" >0.014000</td>\n",
       "      <td id=\"T_a9e6f_row23_col10\" class=\"data row23 col10\" >0.015000</td>\n",
       "      <td id=\"T_a9e6f_row23_col11\" class=\"data row23 col11\" >0.014000</td>\n",
       "      <td id=\"T_a9e6f_row23_col12\" class=\"data row23 col12\" >0.002000</td>\n",
       "      <td id=\"T_a9e6f_row23_col13\" class=\"data row23 col13\" >0.019000</td>\n",
       "      <td id=\"T_a9e6f_row23_col14\" class=\"data row23 col14\" >0.034000</td>\n",
       "      <td id=\"T_a9e6f_row23_col15\" class=\"data row23 col15\" >0.045000</td>\n",
       "      <td id=\"T_a9e6f_row23_col16\" class=\"data row23 col16\" >0.013000</td>\n",
       "      <td id=\"T_a9e6f_row23_col17\" class=\"data row23 col17\" >0.038000</td>\n",
       "      <td id=\"T_a9e6f_row23_col18\" class=\"data row23 col18\" >0.035000</td>\n",
       "      <td id=\"T_a9e6f_row23_col19\" class=\"data row23 col19\" >0.569000</td>\n",
       "      <td id=\"T_a9e6f_row23_col20\" class=\"data row23 col20\" >0.012000</td>\n",
       "      <td id=\"T_a9e6f_row23_col21\" class=\"data row23 col21\" >0.001000</td>\n",
       "      <td id=\"T_a9e6f_row23_col22\" class=\"data row23 col22\" >0.193000</td>\n",
       "      <td id=\"T_a9e6f_row23_col23\" class=\"data row23 col23\" >1.000000</td>\n",
       "      <td id=\"T_a9e6f_row23_col24\" class=\"data row23 col24\" >0.034000</td>\n",
       "    </tr>\n",
       "    <tr>\n",
       "      <th id=\"T_a9e6f_level0_row24\" class=\"row_heading level0 row24\" >city_centers_nearest_km</th>\n",
       "      <td id=\"T_a9e6f_row24_col0\" class=\"data row24 col0\" >0.061000</td>\n",
       "      <td id=\"T_a9e6f_row24_col1\" class=\"data row24 col1\" >0.265000</td>\n",
       "      <td id=\"T_a9e6f_row24_col2\" class=\"data row24 col2\" >0.265000</td>\n",
       "      <td id=\"T_a9e6f_row24_col3\" class=\"data row24 col3\" >0.201000</td>\n",
       "      <td id=\"T_a9e6f_row24_col4\" class=\"data row24 col4\" >0.340000</td>\n",
       "      <td id=\"T_a9e6f_row24_col5\" class=\"data row24 col5\" >0.051000</td>\n",
       "      <td id=\"T_a9e6f_row24_col6\" class=\"data row24 col6\" >0.241000</td>\n",
       "      <td id=\"T_a9e6f_row24_col7\" class=\"data row24 col7\" >0.037000</td>\n",
       "      <td id=\"T_a9e6f_row24_col8\" class=\"data row24 col8\" >0.010000</td>\n",
       "      <td id=\"T_a9e6f_row24_col9\" class=\"data row24 col9\" >0.007000</td>\n",
       "      <td id=\"T_a9e6f_row24_col10\" class=\"data row24 col10\" >0.008000</td>\n",
       "      <td id=\"T_a9e6f_row24_col11\" class=\"data row24 col11\" >0.167000</td>\n",
       "      <td id=\"T_a9e6f_row24_col12\" class=\"data row24 col12\" >0.036000</td>\n",
       "      <td id=\"T_a9e6f_row24_col13\" class=\"data row24 col13\" >0.273000</td>\n",
       "      <td id=\"T_a9e6f_row24_col14\" class=\"data row24 col14\" >0.999000</td>\n",
       "      <td id=\"T_a9e6f_row24_col15\" class=\"data row24 col15\" >0.190000</td>\n",
       "      <td id=\"T_a9e6f_row24_col16\" class=\"data row24 col16\" >0.044000</td>\n",
       "      <td id=\"T_a9e6f_row24_col17\" class=\"data row24 col17\" >0.120000</td>\n",
       "      <td id=\"T_a9e6f_row24_col18\" class=\"data row24 col18\" >0.027000</td>\n",
       "      <td id=\"T_a9e6f_row24_col19\" class=\"data row24 col19\" >0.046000</td>\n",
       "      <td id=\"T_a9e6f_row24_col20\" class=\"data row24 col20\" >0.374000</td>\n",
       "      <td id=\"T_a9e6f_row24_col21\" class=\"data row24 col21\" >0.009000</td>\n",
       "      <td id=\"T_a9e6f_row24_col22\" class=\"data row24 col22\" >0.014000</td>\n",
       "      <td id=\"T_a9e6f_row24_col23\" class=\"data row24 col23\" >0.034000</td>\n",
       "      <td id=\"T_a9e6f_row24_col24\" class=\"data row24 col24\" >1.000000</td>\n",
       "    </tr>\n",
       "  </tbody>\n",
       "</table>\n"
      ],
      "text/plain": [
       "<pandas.io.formats.style.Styler at 0x1d42d71af70>"
      ]
     },
     "execution_count": 104,
     "metadata": {},
     "output_type": "execute_result"
    }
   ],
   "source": [
    "corr.abs().style.background_gradient(cmap='coolwarm')"
   ]
  },
  {
   "cell_type": "markdown",
   "id": "aa0be099",
   "metadata": {},
   "source": [
    "Так же расчитаны средние цены квадратного метра по локациям объекта недвижимости "
   ]
  },
  {
   "cell_type": "markdown",
   "id": "cb04f4fc",
   "metadata": {},
   "source": [
    "и расчитана цена \"километра\" при приближении к центру Спб от окраинше всего влияют на общую (полную) стоимость объекта?"
   ]
  },
  {
   "cell_type": "markdown",
   "id": "189c32cb",
   "metadata": {},
   "source": [
    "#### 5.3. Общий вывод"
   ]
  },
  {
   "cell_type": "markdown",
   "id": "a00a9a1f",
   "metadata": {},
   "source": [
    "**Вывод по динамике продаж:**  \n",
    "  \n",
    "В среднем объекты недвижимости продаются от 45 до 167 дней. Медианное значение - 90 дней. Минимальное - 11 дней. Быстрыми считаются продажи меньше 45 дней. Долгими - больше 167 дней"
   ]
  },
  {
   "cell_type": "markdown",
   "id": "c36a04da",
   "metadata": {},
   "source": [
    "**Вывод по факторам, влияющим на стоимость объекта недвижимости:**\n",
    "\n",
    "1. Наибольшее влияние на цену объекта оказывают суммарная площадь (соответственно жилая площадь и площадь кухни) \n",
    "2. Столбцы со значениями количества комнат, высоты потолков, расстояния до центра, количества парков и водоемов имеют слабую корреляцию с ценой (0,3...0.4)\n",
    "3. Остальные столбцы c ценой практически не коррелируют (значения около нуля)"
   ]
  },
  {
   "cell_type": "markdown",
   "id": "b700abfb",
   "metadata": {},
   "source": [
    "**Вывод по цене квадратного метра:**\n",
    "\n",
    "Самые большие цены за м2 в Спб и курортных пригородах, далее идут ближайшие не курортные пригороды и населенные пункты. Сводка с ценами за м2 дана в таблице ниже"
   ]
  },
  {
   "cell_type": "code",
   "execution_count": 105,
   "id": "9ba9a3d4",
   "metadata": {},
   "outputs": [
    {
     "data": {
      "text/plain": [
       "locality_name\n",
       "лисий нос          113728.348730\n",
       "санкт-петербург    102957.135106\n",
       "зеленогорск        100000.000000\n",
       "сестрорецк          98364.164501\n",
       "пушкин              97988.680008\n",
       "кудрово             95026.041667\n",
       "парголово           90873.186845\n",
       "мистолово           89247.449733\n",
       "стрельна            87323.348694\n",
       "репино              86542.207792\n",
       "Name: square_meter_price, dtype: float64"
      ]
     },
     "execution_count": 105,
     "metadata": {},
     "output_type": "execute_result"
    }
   ],
   "source": [
    "data.groupby('locality_name').square_meter_price.median().sort_values(ascending = False).head(10)"
   ]
  },
  {
   "cell_type": "markdown",
   "id": "43d1ff3a",
   "metadata": {},
   "source": [
    "**Вывод по наличию закономерности между стоимости объектов и расстояния до центра города**:"
   ]
  },
  {
   "cell_type": "markdown",
   "id": "b89e3a39",
   "metadata": {},
   "source": [
    "C приближением к центру города стоимость квартиры увеличивается в среднем на ~388 тыс.руб за 1 км"
   ]
  },
  {
   "cell_type": "markdown",
   "id": "d7aa2e11",
   "metadata": {},
   "source": [
    "**Чек-лист готовности проекта**\n",
    "\n",
    "Поставьте 'x' в выполненных пунктах. Далее нажмите Shift+Enter."
   ]
  },
  {
   "cell_type": "markdown",
   "id": "2e270819",
   "metadata": {},
   "source": [
    "- [x]  открыт файл\n",
    "- [x]  файлы изучены (выведены первые строки, метод `info()`, гистограммы и т.д.)\n",
    "- [x]  определены пропущенные значения\n",
    "- [x]  заполнены пропущенные значения там, где это возможно\n",
    "- [x]  есть пояснение, какие пропущенные значения обнаружены\n",
    "- [x]  изменены типы данных\n",
    "- [x]  есть пояснение, в каких столбцах изменены типы и почему\n",
    "- [x]  устранены неявные дубликаты в названиях населённых пунктов\n",
    "- [x]  устранены редкие и выбивающиеся значения (аномалии) во всех столбцах\n",
    "- [x]  посчитано и добавлено в таблицу: цена одного квадратного метра\n",
    "- [x]  посчитано и добавлено в таблицу: день публикации объявления (0 - понедельник, 1 - вторник и т.д.)\n",
    "- [x]  посчитано и добавлено в таблицу: месяц публикации объявления\n",
    "- [x]  посчитано и добавлено в таблицу: год публикации объявления\n",
    "- [x]  посчитано и добавлено в таблицу: тип этажа квартиры (значения — «первый», «последний», «другой»)\n",
    "- [x]  посчитано и добавлено в таблицу: расстояние в км до центра города\n",
    "- [x]  изучены и описаны следующие параметры:\n",
    "        - общая площадь;\n",
    "        - жилая площадь;\n",
    "        - площадь кухни;\n",
    "        - цена объекта;\n",
    "        - количество комнат;\n",
    "        - высота потолков;\n",
    "        - этаж квартиры;\n",
    "        - тип этажа квартиры («первый», «последний», «другой»);\n",
    "        - общее количество этажей в доме;\n",
    "        - расстояние до центра города в метрах;\n",
    "        - расстояние до ближайшего аэропорта;\n",
    "        - расстояние до ближайшего парка;\n",
    "        - день и месяц публикации объявления\n",
    "- [x]  построены гистограммы для каждого параметра\n",
    "- [x]  выполнено задание: \"Изучите, как быстро продавались квартиры (столбец days_exposition). Этот параметр показывает, сколько дней «висело» каждое объявление.\n",
    "    - Постройте гистограмму.\n",
    "    - Посчитайте среднее и медиану.\n",
    "    - В ячейке типа markdown опишите, сколько обычно занимает продажа. Какие продажи можно считать быстрыми, а какие — необычно долгими?\"\n",
    "- [x]  выполнено задание: \"Какие факторы больше всего влияют на общую (полную) стоимость объекта? Постройте графики, которые покажут зависимость цены от указанных ниже параметров. Для подготовки данных перед визуализацией вы можете использовать сводные таблицы.\"\n",
    "        - общей площади;\n",
    "        - жилой площади;\n",
    "        - площади кухни;\n",
    "        - количество комнат;\n",
    "        - типа этажа, на котором расположена квартира (первый, последний, другой);\n",
    "        - даты размещения (день недели, месяц, год);\n",
    "- [x]  выполнено задание: \"Посчитайте среднюю цену одного квадратного метра в 10 населённых пунктах с наибольшим числом объявлений. Выделите населённые пункты с самой высокой и низкой стоимостью квадратного метра. Эти данные можно найти по имени в столбце `locality_name`.\"\n",
    "- [x]  выполнено задание: \"Ранее вы посчитали расстояние до центра в километрах. Теперь выделите квартиры в Санкт-Петербурге с помощью столбца `locality_name` и вычислите среднюю цену каждого километра. Опишите, как стоимость объектов зависит от расстояния до центра города.\"\n",
    "- [x]  в каждом этапе есть промежуточные выводы\n",
    "- [x]  есть общий вывод"
   ]
  }
 ],
 "metadata": {
  "kernelspec": {
   "display_name": "Python 3 (ipykernel)",
   "language": "python",
   "name": "python3"
  },
  "language_info": {
   "codemirror_mode": {
    "name": "ipython",
    "version": 3
   },
   "file_extension": ".py",
   "mimetype": "text/x-python",
   "name": "python",
   "nbconvert_exporter": "python",
   "pygments_lexer": "ipython3",
   "version": "3.9.12"
  }
 },
 "nbformat": 4,
 "nbformat_minor": 5
}
